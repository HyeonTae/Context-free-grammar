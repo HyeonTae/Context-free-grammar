{
 "cells": [
  {
   "cell_type": "markdown",
   "metadata": {},
   "source": [
    "# Set Parameter\n",
    "- Attention = False\n",
    "- Drop out = 0.2\n",
    "- Teacher Forcing Ratio = 0.5\n",
    "- Layer = 1\n",
    "- Hidden unit = 50\n",
    "- Batch size = 32\n",
    "- Epochs = 50"
   ]
  },
  {
   "cell_type": "markdown",
   "metadata": {},
   "source": [
    "# Import packages\n",
    "\n",
    "import useful packages for experiments"
   ]
  },
  {
   "cell_type": "code",
   "execution_count": 1,
   "metadata": {},
   "outputs": [
    {
     "name": "stderr",
     "output_type": "stream",
     "text": [
      "/home/hyeontae/hyeontae/venv/lib/python3.5/site-packages/torch/nn/functional.py:52: UserWarning: size_average and reduce args will be deprecated, please use reduction='elementwise_mean' instead.\n",
      "  warnings.warn(warning.format(ret))\n",
      "/home/hyeontae/hyeontae/venv/lib/python3.5/site-packages/torch/nn/functional.py:52: UserWarning: size_average and reduce args will be deprecated, please use reduction='elementwise_mean' instead.\n",
      "  warnings.warn(warning.format(ret))\n"
     ]
    }
   ],
   "source": [
    "import os\n",
    "import argparse\n",
    "import logging\n",
    "\n",
    "import torch\n",
    "from torch.optim.lr_scheduler import StepLR\n",
    "import torchtext\n",
    "\n",
    "from trainer.supervised_trainer import SupervisedTrainer\n",
    "from models.encoderRNN import EncoderRNN\n",
    "from models.decoderRNN import DecoderRNN\n",
    "from models.seq2seq import Seq2seq\n",
    "from loss.loss import Perplexity\n",
    "from optim.optim import Optimizer\n",
    "from dataset import fields\n",
    "from evaluator.predictor import Predictor\n",
    "\n",
    "import matplotlib.pyplot as plt"
   ]
  },
  {
   "cell_type": "markdown",
   "metadata": {},
   "source": [
    "# Data load"
   ]
  },
  {
   "cell_type": "code",
   "execution_count": 2,
   "metadata": {},
   "outputs": [],
   "source": [
    "train_path = \"nonbracket_data2/data_train.txt\"\n",
    "dev_path = \"nonbracket_data2/data_test.txt\"\n",
    "log_level = 'info'"
   ]
  },
  {
   "cell_type": "markdown",
   "metadata": {},
   "source": [
    "# Log format"
   ]
  },
  {
   "cell_type": "code",
   "execution_count": 3,
   "metadata": {},
   "outputs": [],
   "source": [
    "LOG_FORMAT = '%(asctime)s %(levelname)-6s %(message)s'\n",
    "logging.basicConfig(format=LOG_FORMAT, level=getattr(logging, log_level.upper()))"
   ]
  },
  {
   "cell_type": "markdown",
   "metadata": {},
   "source": [
    "# Prepare dataset"
   ]
  },
  {
   "cell_type": "code",
   "execution_count": 4,
   "metadata": {},
   "outputs": [],
   "source": [
    "src = fields.SourceField()\n",
    "tgt = fields.TargetField()\n",
    "max_len = 100\n",
    "def len_filter(example):\n",
    "    return len(example.src) <= max_len and len(example.tgt) <= max_len\n",
    "train = torchtext.data.TabularDataset(\n",
    "    path=train_path, format='tsv',\n",
    "    fields=[('src', src), ('tgt', tgt)],\n",
    "    filter_pred=len_filter\n",
    ")\n",
    "dev = torchtext.data.TabularDataset(\n",
    "    path=dev_path, format='tsv',\n",
    "    fields=[('src', src), ('tgt', tgt)],\n",
    "    filter_pred=len_filter\n",
    ")\n",
    "src.build_vocab(train)\n",
    "tgt.build_vocab(train)\n",
    "input_vocab = src.vocab\n",
    "output_vocab = tgt.vocab"
   ]
  },
  {
   "cell_type": "markdown",
   "metadata": {},
   "source": [
    "# Prepare loss"
   ]
  },
  {
   "cell_type": "code",
   "execution_count": 5,
   "metadata": {},
   "outputs": [
    {
     "name": "stderr",
     "output_type": "stream",
     "text": [
      "/home/hyeontae/hyeontae/venv/lib/python3.5/site-packages/torch/nn/functional.py:52: UserWarning: size_average and reduce args will be deprecated, please use reduction='sum' instead.\n",
      "  warnings.warn(warning.format(ret))\n"
     ]
    }
   ],
   "source": [
    "weight = torch.ones(len(tgt.vocab))\n",
    "pad = tgt.vocab.stoi[tgt.pad_token]\n",
    "loss = Perplexity(weight, pad)\n",
    "if torch.cuda.is_available():\n",
    "    loss.cuda()"
   ]
  },
  {
   "cell_type": "markdown",
   "metadata": {},
   "source": [
    "# Variable definition"
   ]
  },
  {
   "cell_type": "code",
   "execution_count": 6,
   "metadata": {},
   "outputs": [
    {
     "name": "stdout",
     "output_type": "stream",
     "text": [
      "[50]\n"
     ]
    }
   ],
   "source": [
    "seq2seq = None\n",
    "optimizer = \"Adam\"\n",
    "\n",
    "hidden_sizes = list(range(50, 51, 4))\n",
    "print(hidden_sizes)\n",
    "error_rate = []\n",
    "accuracy = []\n",
    "losses = []"
   ]
  },
  {
   "cell_type": "markdown",
   "metadata": {},
   "source": [
    "# Initialize model"
   ]
  },
  {
   "cell_type": "code",
   "execution_count": 7,
   "metadata": {},
   "outputs": [
    {
     "name": "stderr",
     "output_type": "stream",
     "text": [
      "/home/hyeontae/hyeontae/venv/lib/python3.5/site-packages/torch/nn/modules/rnn.py:38: UserWarning: dropout option adds dropout after all but last recurrent layer, so non-zero dropout expects num_layers greater than 1, but got dropout=0.2 and num_layers=1\n",
      "  \"num_layers={}\".format(dropout, num_layers))\n",
      "2019-02-01 09:44:21,958 INFO   Optimizer: Adam (\n",
      "Parameter Group 0\n",
      "    amsgrad: False\n",
      "    betas: (0.9, 0.999)\n",
      "    eps: 1e-08\n",
      "    lr: 0.001\n",
      "    weight_decay: 0\n",
      "), Scheduler: None\n"
     ]
    },
    {
     "name": "stdout",
     "output_type": "stream",
     "text": [
      "Hidden size is 50\n"
     ]
    },
    {
     "name": "stderr",
     "output_type": "stream",
     "text": [
      "2019-02-01 09:47:16,847 INFO   Finished epoch 1: Train loss: 8.1598, Dev loss: 4.9481, Accuracy(Character): 0.4277, Accuracy(Word): 0.0000\n",
      "2019-02-01 09:50:37,685 INFO   Finished epoch 2: Train loss: 2.9837, Dev loss: 3.0951, Accuracy(Character): 0.5683, Accuracy(Word): 0.0000\n",
      "2019-02-01 09:53:43,437 INFO   Finished epoch 3: Train loss: 2.3919, Dev loss: 3.1739, Accuracy(Character): 0.5909, Accuracy(Word): 0.0000\n",
      "2019-02-01 09:57:08,801 INFO   Finished epoch 4: Train loss: 2.1787, Dev loss: 2.4763, Accuracy(Character): 0.6446, Accuracy(Word): 0.0000\n",
      "2019-02-01 10:00:19,051 INFO   Finished epoch 5: Train loss: 2.1127, Dev loss: 2.4919, Accuracy(Character): 0.6548, Accuracy(Word): 0.0018\n",
      "2019-02-01 10:03:43,891 INFO   Finished epoch 6: Train loss: 2.0000, Dev loss: 2.2193, Accuracy(Character): 0.6856, Accuracy(Word): 0.0017\n",
      "2019-02-01 10:06:56,330 INFO   Finished epoch 7: Train loss: 1.9601, Dev loss: 2.2167, Accuracy(Character): 0.6901, Accuracy(Word): 0.0021\n",
      "2019-02-01 10:10:11,415 INFO   Finished epoch 8: Train loss: 1.8811, Dev loss: 2.1068, Accuracy(Character): 0.7038, Accuracy(Word): 0.0021\n",
      "2019-02-01 10:13:28,958 INFO   Finished epoch 9: Train loss: 1.8337, Dev loss: 2.1744, Accuracy(Character): 0.6984, Accuracy(Word): 0.0021\n",
      "2019-02-01 10:16:32,695 INFO   Finished epoch 10: Train loss: 1.8075, Dev loss: 2.0259, Accuracy(Character): 0.7251, Accuracy(Word): 0.0038\n",
      "2019-02-01 10:19:55,534 INFO   Finished epoch 11: Train loss: 1.7669, Dev loss: 1.9117, Accuracy(Character): 0.7397, Accuracy(Word): 0.0038\n",
      "2019-02-01 10:23:03,470 INFO   Finished epoch 12: Train loss: 1.7507, Dev loss: 2.0257, Accuracy(Character): 0.7246, Accuracy(Word): 0.0067\n",
      "2019-02-01 10:26:21,386 INFO   Finished epoch 13: Train loss: 1.7163, Dev loss: 1.9141, Accuracy(Character): 0.7432, Accuracy(Word): 0.0070\n",
      "2019-02-01 10:29:38,395 INFO   Finished epoch 14: Train loss: 1.6749, Dev loss: 1.9261, Accuracy(Character): 0.7412, Accuracy(Word): 0.0067\n",
      "2019-02-01 10:32:53,676 INFO   Finished epoch 15: Train loss: 1.6806, Dev loss: 1.8721, Accuracy(Character): 0.7490, Accuracy(Word): 0.0087\n",
      "2019-02-01 10:36:19,165 INFO   Finished epoch 16: Train loss: 1.6296, Dev loss: 1.7787, Accuracy(Character): 0.7701, Accuracy(Word): 0.0039\n",
      "2019-02-01 10:39:27,707 INFO   Finished epoch 17: Train loss: 1.6387, Dev loss: 1.9055, Accuracy(Character): 0.7453, Accuracy(Word): 0.0039\n",
      "2019-02-01 10:42:48,049 INFO   Finished epoch 18: Train loss: 1.6075, Dev loss: 2.0062, Accuracy(Character): 0.7300, Accuracy(Word): 0.0039\n",
      "2019-02-01 10:45:56,727 INFO   Finished epoch 19: Train loss: 1.5689, Dev loss: 1.7089, Accuracy(Character): 0.7817, Accuracy(Word): 0.0060\n",
      "2019-02-01 10:49:07,450 INFO   Finished epoch 20: Train loss: 1.5748, Dev loss: 1.7598, Accuracy(Character): 0.7694, Accuracy(Word): 0.0048\n",
      "2019-02-01 10:52:26,933 INFO   Finished epoch 21: Train loss: 1.5445, Dev loss: 1.6625, Accuracy(Character): 0.7947, Accuracy(Word): 0.0050\n",
      "2019-02-01 10:55:35,416 INFO   Finished epoch 22: Train loss: 1.5395, Dev loss: 1.6618, Accuracy(Character): 0.7954, Accuracy(Word): 0.0120\n",
      "2019-02-01 10:59:02,140 INFO   Finished epoch 23: Train loss: 1.5323, Dev loss: 1.6485, Accuracy(Character): 0.7960, Accuracy(Word): 0.0039\n",
      "2019-02-01 11:02:09,902 INFO   Finished epoch 24: Train loss: 1.5167, Dev loss: 1.7480, Accuracy(Character): 0.7864, Accuracy(Word): 0.0082\n",
      "2019-02-01 11:05:36,039 INFO   Finished epoch 25: Train loss: 1.5102, Dev loss: 1.6138, Accuracy(Character): 0.8056, Accuracy(Word): 0.0039\n",
      "2019-02-01 11:08:44,444 INFO   Finished epoch 26: Train loss: 1.4944, Dev loss: 1.5738, Accuracy(Character): 0.8138, Accuracy(Word): 0.0124\n",
      "2019-02-01 11:12:00,677 INFO   Finished epoch 27: Train loss: 1.4908, Dev loss: 1.5734, Accuracy(Character): 0.8163, Accuracy(Word): 0.0093\n",
      "2019-02-01 11:15:16,225 INFO   Finished epoch 28: Train loss: 1.4908, Dev loss: 1.5578, Accuracy(Character): 0.8180, Accuracy(Word): 0.0000\n",
      "2019-02-01 11:18:21,314 INFO   Finished epoch 29: Train loss: 1.4638, Dev loss: 1.5504, Accuracy(Character): 0.8217, Accuracy(Word): 0.0109\n",
      "2019-02-01 11:21:47,499 INFO   Finished epoch 30: Train loss: 1.4484, Dev loss: 1.5636, Accuracy(Character): 0.8243, Accuracy(Word): 0.0146\n",
      "2019-02-01 11:24:53,523 INFO   Finished epoch 31: Train loss: 1.4464, Dev loss: 1.5795, Accuracy(Character): 0.8192, Accuracy(Word): 0.0000\n",
      "2019-02-01 11:28:16,881 INFO   Finished epoch 32: Train loss: 1.4447, Dev loss: 1.5744, Accuracy(Character): 0.8186, Accuracy(Word): 0.0018\n",
      "2019-02-01 11:31:28,374 INFO   Finished epoch 33: Train loss: 1.4296, Dev loss: 1.5632, Accuracy(Character): 0.8255, Accuracy(Word): 0.0072\n",
      "2019-02-01 11:34:45,812 INFO   Finished epoch 34: Train loss: 1.4407, Dev loss: 1.5313, Accuracy(Character): 0.8245, Accuracy(Word): 0.0000\n",
      "2019-02-01 11:38:04,094 INFO   Finished epoch 35: Train loss: 1.4268, Dev loss: 1.5863, Accuracy(Character): 0.8145, Accuracy(Word): 0.0000\n",
      "2019-02-01 11:41:08,113 INFO   Finished epoch 36: Train loss: 1.4229, Dev loss: 1.5104, Accuracy(Character): 0.8347, Accuracy(Word): 0.0000\n",
      "2019-02-01 11:44:29,940 INFO   Finished epoch 37: Train loss: 1.4126, Dev loss: 1.4821, Accuracy(Character): 0.8410, Accuracy(Word): 0.0000\n",
      "2019-02-01 11:47:37,492 INFO   Finished epoch 38: Train loss: 1.4055, Dev loss: 1.6126, Accuracy(Character): 0.8167, Accuracy(Word): 0.0000\n",
      "2019-02-01 11:50:54,417 INFO   Finished epoch 39: Train loss: 1.3988, Dev loss: 1.5690, Accuracy(Character): 0.8195, Accuracy(Word): 0.0000\n",
      "2019-02-01 11:54:10,488 INFO   Finished epoch 40: Train loss: 1.3878, Dev loss: 1.5294, Accuracy(Character): 0.8304, Accuracy(Word): 0.0144\n",
      "2019-02-01 11:57:19,804 INFO   Finished epoch 41: Train loss: 1.3797, Dev loss: 1.4798, Accuracy(Character): 0.8414, Accuracy(Word): 0.0000\n",
      "2019-02-01 12:00:43,780 INFO   Finished epoch 42: Train loss: 1.3863, Dev loss: 1.4710, Accuracy(Character): 0.8449, Accuracy(Word): 0.0000\n",
      "2019-02-01 12:03:50,688 INFO   Finished epoch 43: Train loss: 1.3733, Dev loss: 1.4540, Accuracy(Character): 0.8485, Accuracy(Word): 0.0000\n",
      "2019-02-01 12:07:14,538 INFO   Finished epoch 44: Train loss: 1.3705, Dev loss: 1.4426, Accuracy(Character): 0.8540, Accuracy(Word): 0.0000\n",
      "2019-02-01 12:10:21,232 INFO   Finished epoch 45: Train loss: 1.3669, Dev loss: 1.4754, Accuracy(Character): 0.8428, Accuracy(Word): 0.0000\n",
      "2019-02-01 12:13:36,844 INFO   Finished epoch 46: Train loss: 1.3727, Dev loss: 1.4685, Accuracy(Character): 0.8483, Accuracy(Word): 0.0000\n",
      "2019-02-01 12:16:51,496 INFO   Finished epoch 47: Train loss: 1.3542, Dev loss: 1.4379, Accuracy(Character): 0.8525, Accuracy(Word): 0.0000\n",
      "2019-02-01 12:20:00,035 INFO   Finished epoch 48: Train loss: 1.3487, Dev loss: 1.4268, Accuracy(Character): 0.8584, Accuracy(Word): 0.0000\n",
      "2019-02-01 12:23:24,793 INFO   Finished epoch 49: Train loss: 1.3543, Dev loss: 1.4428, Accuracy(Character): 0.8546, Accuracy(Word): 0.0000\n",
      "2019-02-01 12:26:30,788 INFO   Finished epoch 50: Train loss: 1.3459, Dev loss: 1.7829, Accuracy(Character): 0.7881, Accuracy(Word): 0.0000\n"
     ]
    },
    {
     "data": {
      "image/png": "[encoded data removed]",
      "text/plain": [
       "<Figure size 432x288 with 1 Axes>"
      ]
     },
     "metadata": {
      "needs_background": "light"
     },
     "output_type": "display_data"
    },
    {
     "data": {
      "image/png": "[encoded data removed]",
      "text/plain": [
       "<Figure size 432x288 with 1 Axes>"
      ]
     },
     "metadata": {
      "needs_background": "light"
     },
     "output_type": "display_data"
    }
   ],
   "source": [
    "for i in hidden_sizes:\n",
    "    print(\"Hidden size is %d\" % i)\n",
    "    hidden_size = i\n",
    "    bidirectional = True\n",
    "    encoder = EncoderRNN(len(src.vocab), max_len, hidden_size,\n",
    "                        bidirectional=bidirectional, variable_lengths=True)\n",
    "    decoder = DecoderRNN(len(tgt.vocab), max_len, hidden_size * 2 if bidirectional else hidden_size,\n",
    "                        dropout_p=0.2, use_attention=False, bidirectional=bidirectional,\n",
    "                        eos_id=tgt.eos_id, sos_id=tgt.sos_id)\n",
    "    seq2seq = Seq2seq(encoder, decoder)\n",
    "    if torch.cuda.is_available():\n",
    "        seq2seq.cuda()\n",
    "\n",
    "    for param in seq2seq.parameters():\n",
    "        param.data.uniform_(-0.08, 0.08)\n",
    "\n",
    "    # train\n",
    "    t = SupervisedTrainer(loss=loss, batch_size=32,\n",
    "                        checkpoint_every=50,\n",
    "                        print_every=100,\n",
    "                        hidden_size=hidden_size,\n",
    "                        fig_path=\"log/plot/nonbracket2_no_att\")\n",
    "\n",
    "    seq2seq, ave_loss, character_accuracy = t.train(seq2seq, train,\n",
    "                                                    num_epochs=50, dev_data=dev,\n",
    "                                                    optimizer=optimizer,\n",
    "                                                    teacher_forcing_ratio=0.5)\n",
    "\n",
    "    losses.append(ave_loss/100)\n",
    "    error_rate.append(1 - character_accuracy)\n",
    "    accuracy.append(character_accuracy)"
   ]
  },
  {
   "cell_type": "code",
   "execution_count": 8,
   "metadata": {},
   "outputs": [],
   "source": [
    "torch.save(seq2seq.state_dict(), 'log/nonbracket2_no_att_model_save.pth')"
   ]
  }
 ],
 "metadata": {
  "kernelspec": {
   "display_name": "Python 3",
   "language": "python",
   "name": "python3"
  },
  "language_info": {
   "codemirror_mode": {
    "name": "ipython",
    "version": 3
   },
   "file_extension": ".py",
   "mimetype": "text/x-python",
   "name": "python",
   "nbconvert_exporter": "python",
   "pygments_lexer": "ipython3",
   "version": "3.5.2"
  }
 },
 "nbformat": 4,
 "nbformat_minor": 2
}
