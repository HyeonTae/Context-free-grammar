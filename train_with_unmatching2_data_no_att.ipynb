{
 "cells": [
  {
   "cell_type": "markdown",
   "metadata": {},
   "source": [
    "# Set Parameter\n",
    "- The probability of unmatching data is 10%\n",
    "- Attention = None\n",
    "- Drop out = 0.2\n",
    "- Teacher Forcing Ratio = 0.5\n",
    "- Layer = 1\n",
    "- Hidden unit = 50\n",
    "- Batch size = 32\n",
    "- Epochs = 50"
   ]
  },
  {
   "cell_type": "markdown",
   "metadata": {},
   "source": [
    "# Import packages\n",
    "\n",
    "import useful packages for experiments"
   ]
  },
  {
   "cell_type": "code",
   "execution_count": 1,
   "metadata": {},
   "outputs": [
    {
     "name": "stderr",
     "output_type": "stream",
     "text": [
      "/home/hyeontae/hyeontae/venv/lib/python3.5/site-packages/torch/nn/functional.py:52: UserWarning: size_average and reduce args will be deprecated, please use reduction='elementwise_mean' instead.\n",
      "  warnings.warn(warning.format(ret))\n",
      "/home/hyeontae/hyeontae/venv/lib/python3.5/site-packages/torch/nn/functional.py:52: UserWarning: size_average and reduce args will be deprecated, please use reduction='elementwise_mean' instead.\n",
      "  warnings.warn(warning.format(ret))\n"
     ]
    }
   ],
   "source": [
    "import os\n",
    "import argparse\n",
    "import logging\n",
    "\n",
    "import torch\n",
    "from torch.optim.lr_scheduler import StepLR\n",
    "import torchtext\n",
    "\n",
    "from trainer.supervised_trainer_unmatching import SupervisedTrainer\n",
    "from models.encoderRNN import EncoderRNN\n",
    "from models.decoderRNN import DecoderRNN\n",
    "from models.seq2seq import Seq2seq\n",
    "from loss.loss import Perplexity\n",
    "from optim.optim import Optimizer\n",
    "from dataset import fields\n",
    "from evaluator.predictor import Predictor\n",
    "\n",
    "import matplotlib.pyplot as plt"
   ]
  },
  {
   "cell_type": "markdown",
   "metadata": {},
   "source": [
    "# Data load"
   ]
  },
  {
   "cell_type": "code",
   "execution_count": 2,
   "metadata": {},
   "outputs": [],
   "source": [
    "train_path = \"unmatching_data2/data_train.txt\"\n",
    "dev_path = \"unmatching_data2/data_test.txt\"\n",
    "log_level = 'info'"
   ]
  },
  {
   "cell_type": "markdown",
   "metadata": {},
   "source": [
    "# Log format"
   ]
  },
  {
   "cell_type": "code",
   "execution_count": 3,
   "metadata": {},
   "outputs": [],
   "source": [
    "LOG_FORMAT = '%(asctime)s %(levelname)-6s %(message)s'\n",
    "logging.basicConfig(format=LOG_FORMAT, level=getattr(logging, log_level.upper()))"
   ]
  },
  {
   "cell_type": "markdown",
   "metadata": {},
   "source": [
    "# Prepare dataset"
   ]
  },
  {
   "cell_type": "code",
   "execution_count": 4,
   "metadata": {},
   "outputs": [],
   "source": [
    "src = fields.SourceField()\n",
    "tgt = fields.TargetField()\n",
    "max_len = 100\n",
    "def len_filter(example):\n",
    "    return len(example.src) <= max_len and len(example.tgt) <= max_len\n",
    "train = torchtext.data.TabularDataset(\n",
    "    path=train_path, format='tsv',\n",
    "    fields=[('src', src), ('tgt', tgt)],\n",
    "    filter_pred=len_filter\n",
    ")\n",
    "dev = torchtext.data.TabularDataset(\n",
    "    path=dev_path, format='tsv',\n",
    "    fields=[('src', src), ('tgt', tgt)],\n",
    "    filter_pred=len_filter\n",
    ")\n",
    "src.build_vocab(train)\n",
    "tgt.build_vocab(train)\n",
    "input_vocab = src.vocab\n",
    "output_vocab = tgt.vocab"
   ]
  },
  {
   "cell_type": "markdown",
   "metadata": {},
   "source": [
    "# Prepare loss"
   ]
  },
  {
   "cell_type": "code",
   "execution_count": 5,
   "metadata": {},
   "outputs": [
    {
     "name": "stderr",
     "output_type": "stream",
     "text": [
      "/home/hyeontae/hyeontae/venv/lib/python3.5/site-packages/torch/nn/functional.py:52: UserWarning: size_average and reduce args will be deprecated, please use reduction='sum' instead.\n",
      "  warnings.warn(warning.format(ret))\n"
     ]
    }
   ],
   "source": [
    "weight = torch.ones(len(tgt.vocab))\n",
    "pad = tgt.vocab.stoi[tgt.pad_token]\n",
    "loss = Perplexity(weight, pad)\n",
    "if torch.cuda.is_available():\n",
    "    loss.cuda()"
   ]
  },
  {
   "cell_type": "markdown",
   "metadata": {},
   "source": [
    "# Variable definition"
   ]
  },
  {
   "cell_type": "code",
   "execution_count": 6,
   "metadata": {},
   "outputs": [
    {
     "name": "stdout",
     "output_type": "stream",
     "text": [
      "[50]\n"
     ]
    }
   ],
   "source": [
    "seq2seq = None\n",
    "optimizer = \"Adam\"\n",
    "\n",
    "hidden_sizes = list(range(50, 51, 4))\n",
    "print(hidden_sizes)\n",
    "error_rate = []\n",
    "accuracy = []\n",
    "losses = []"
   ]
  },
  {
   "cell_type": "markdown",
   "metadata": {},
   "source": [
    "# Initialize model"
   ]
  },
  {
   "cell_type": "code",
   "execution_count": 7,
   "metadata": {},
   "outputs": [
    {
     "name": "stderr",
     "output_type": "stream",
     "text": [
      "/home/hyeontae/hyeontae/venv/lib/python3.5/site-packages/torch/nn/modules/rnn.py:38: UserWarning: dropout option adds dropout after all but last recurrent layer, so non-zero dropout expects num_layers greater than 1, but got dropout=0.2 and num_layers=1\n",
      "  \"num_layers={}\".format(dropout, num_layers))\n",
      "2019-02-18 15:27:30,222 INFO   Optimizer: Adam (\n",
      "Parameter Group 0\n",
      "    amsgrad: False\n",
      "    betas: (0.9, 0.999)\n",
      "    eps: 1e-08\n",
      "    lr: 0.001\n",
      "    weight_decay: 0\n",
      "), Scheduler: None\n"
     ]
    },
    {
     "name": "stdout",
     "output_type": "stream",
     "text": [
      "Hidden size is 50\n"
     ]
    },
    {
     "name": "stderr",
     "output_type": "stream",
     "text": [
      "2019-02-18 15:31:03,544 INFO   Finished epoch 1: Train loss: 1.3365, Dev loss: 1.2368, Accuracy: 0.9537, F1 Score: 0.4954\n",
      "2019-02-18 15:34:38,252 INFO   Finished epoch 2: Train loss: 1.2446, Dev loss: 1.2365, Accuracy: 0.9537, F1 Score: 0.4954\n",
      "2019-02-18 15:38:13,501 INFO   Finished epoch 3: Train loss: 1.2440, Dev loss: 1.2359, Accuracy: 0.9537, F1 Score: 0.4954\n",
      "2019-02-18 15:41:49,510 INFO   Finished epoch 4: Train loss: 1.2400, Dev loss: 1.2304, Accuracy: 0.9537, F1 Score: 0.4954\n",
      "2019-02-18 15:45:24,774 INFO   Finished epoch 5: Train loss: 1.2296, Dev loss: 1.2231, Accuracy: 0.9537, F1 Score: 0.4956\n",
      "2019-02-18 15:49:00,517 INFO   Finished epoch 6: Train loss: 1.2231, Dev loss: 1.2228, Accuracy: 0.9537, F1 Score: 0.4967\n",
      "2019-02-18 15:52:36,299 INFO   Finished epoch 7: Train loss: 1.2151, Dev loss: 1.2163, Accuracy: 0.9536, F1 Score: 0.4971\n",
      "2019-02-18 15:56:11,549 INFO   Finished epoch 8: Train loss: 1.2034, Dev loss: 1.2063, Accuracy: 0.9537, F1 Score: 0.5070\n",
      "2019-02-18 15:59:46,158 INFO   Finished epoch 9: Train loss: 1.1895, Dev loss: 1.1935, Accuracy: 0.9554, F1 Score: 0.5271\n",
      "2019-02-18 16:03:18,589 INFO   Finished epoch 10: Train loss: 1.1778, Dev loss: 1.1842, Accuracy: 0.9560, F1 Score: 0.5407\n",
      "2019-02-18 16:06:51,287 INFO   Finished epoch 11: Train loss: 1.1670, Dev loss: 1.1788, Accuracy: 0.9560, F1 Score: 0.5451\n",
      "2019-02-18 16:10:25,615 INFO   Finished epoch 12: Train loss: 1.1548, Dev loss: 1.1639, Accuracy: 0.9595, F1 Score: 0.5895\n",
      "2019-02-18 16:13:59,134 INFO   Finished epoch 13: Train loss: 1.1415, Dev loss: 1.1475, Accuracy: 0.9623, F1 Score: 0.6270\n",
      "2019-02-18 16:17:35,637 INFO   Finished epoch 14: Train loss: 1.1248, Dev loss: 1.1302, Accuracy: 0.9675, F1 Score: 0.6890\n",
      "2019-02-18 16:21:15,478 INFO   Finished epoch 15: Train loss: 1.1131, Dev loss: 1.1165, Accuracy: 0.9706, F1 Score: 0.7308\n",
      "2019-02-18 16:24:52,552 INFO   Finished epoch 16: Train loss: 1.1037, Dev loss: 1.1102, Accuracy: 0.9730, F1 Score: 0.7564\n",
      "2019-02-18 16:28:28,621 INFO   Finished epoch 17: Train loss: 1.0971, Dev loss: 1.1027, Accuracy: 0.9751, F1 Score: 0.7748\n",
      "2019-02-18 16:32:04,025 INFO   Finished epoch 18: Train loss: 1.0940, Dev loss: 1.1076, Accuracy: 0.9740, F1 Score: 0.7629\n",
      "2019-02-18 16:35:40,619 INFO   Finished epoch 19: Train loss: 1.0907, Dev loss: 1.1023, Accuracy: 0.9754, F1 Score: 0.7788\n",
      "2019-02-18 16:39:17,421 INFO   Finished epoch 20: Train loss: 1.0876, Dev loss: 1.0962, Accuracy: 0.9766, F1 Score: 0.7886\n",
      "2019-02-18 16:42:51,408 INFO   Finished epoch 21: Train loss: 1.0858, Dev loss: 1.0946, Accuracy: 0.9766, F1 Score: 0.7892\n",
      "2019-02-18 16:46:25,142 INFO   Finished epoch 22: Train loss: 1.0838, Dev loss: 1.0971, Accuracy: 0.9762, F1 Score: 0.7852\n",
      "2019-02-18 16:49:58,461 INFO   Finished epoch 23: Train loss: 1.0809, Dev loss: 1.0940, Accuracy: 0.9765, F1 Score: 0.7881\n",
      "2019-02-18 16:53:34,570 INFO   Finished epoch 24: Train loss: 1.0800, Dev loss: 1.0915, Accuracy: 0.9767, F1 Score: 0.7926\n",
      "2019-02-18 16:57:12,121 INFO   Finished epoch 25: Train loss: 1.0782, Dev loss: 1.0894, Accuracy: 0.9772, F1 Score: 0.7954\n",
      "2019-02-18 17:00:43,617 INFO   Finished epoch 26: Train loss: 1.0763, Dev loss: 1.0849, Accuracy: 0.9783, F1 Score: 0.8104\n",
      "2019-02-18 17:04:18,570 INFO   Finished epoch 27: Train loss: 1.0734, Dev loss: 1.0846, Accuracy: 0.9788, F1 Score: 0.8154\n",
      "2019-02-18 17:07:52,702 INFO   Finished epoch 28: Train loss: 1.0705, Dev loss: 1.0781, Accuracy: 0.9806, F1 Score: 0.8322\n",
      "2019-02-18 17:11:28,474 INFO   Finished epoch 29: Train loss: 1.0681, Dev loss: 1.0824, Accuracy: 0.9800, F1 Score: 0.8274\n",
      "2019-02-18 17:15:03,844 INFO   Finished epoch 30: Train loss: 1.0661, Dev loss: 1.0734, Accuracy: 0.9820, F1 Score: 0.8446\n",
      "2019-02-18 17:18:40,306 INFO   Finished epoch 31: Train loss: 1.0650, Dev loss: 1.0826, Accuracy: 0.9797, F1 Score: 0.8210\n",
      "2019-02-18 17:21:48,698 INFO   Finished epoch 32: Train loss: 1.0633, Dev loss: 1.0792, Accuracy: 0.9811, F1 Score: 0.8388\n",
      "2019-02-18 17:25:23,614 INFO   Finished epoch 33: Train loss: 1.0619, Dev loss: 1.0739, Accuracy: 0.9822, F1 Score: 0.8476\n",
      "2019-02-18 17:28:57,783 INFO   Finished epoch 34: Train loss: 1.0599, Dev loss: 1.0707, Accuracy: 0.9829, F1 Score: 0.8530\n",
      "2019-02-18 17:32:32,968 INFO   Finished epoch 35: Train loss: 1.0587, Dev loss: 1.0692, Accuracy: 0.9830, F1 Score: 0.8527\n",
      "2019-02-18 17:36:07,874 INFO   Finished epoch 36: Train loss: 1.0576, Dev loss: 1.0694, Accuracy: 0.9826, F1 Score: 0.8502\n",
      "2019-02-18 17:39:44,209 INFO   Finished epoch 37: Train loss: 1.0568, Dev loss: 1.0697, Accuracy: 0.9824, F1 Score: 0.8506\n",
      "2019-02-18 17:43:20,041 INFO   Finished epoch 38: Train loss: 1.0562, Dev loss: 1.0655, Accuracy: 0.9835, F1 Score: 0.8587\n",
      "2019-02-18 17:46:55,445 INFO   Finished epoch 39: Train loss: 1.0554, Dev loss: 1.0658, Accuracy: 0.9837, F1 Score: 0.8588\n",
      "2019-02-18 17:50:29,202 INFO   Finished epoch 40: Train loss: 1.0542, Dev loss: 1.0662, Accuracy: 0.9832, F1 Score: 0.8562\n",
      "2019-02-18 17:54:05,458 INFO   Finished epoch 41: Train loss: 1.0538, Dev loss: 1.0622, Accuracy: 0.9840, F1 Score: 0.8624\n",
      "2019-02-18 17:57:39,608 INFO   Finished epoch 42: Train loss: 1.0531, Dev loss: 1.0623, Accuracy: 0.9839, F1 Score: 0.8632\n",
      "2019-02-18 18:01:15,154 INFO   Finished epoch 43: Train loss: 1.0517, Dev loss: 1.0626, Accuracy: 0.9835, F1 Score: 0.8585\n",
      "2019-02-18 18:04:50,337 INFO   Finished epoch 44: Train loss: 1.0514, Dev loss: 1.0650, Accuracy: 0.9831, F1 Score: 0.8563\n",
      "2019-02-18 18:08:24,542 INFO   Finished epoch 45: Train loss: 1.0491, Dev loss: 1.0628, Accuracy: 0.9840, F1 Score: 0.8648\n",
      "2019-02-18 18:12:00,164 INFO   Finished epoch 46: Train loss: 1.0483, Dev loss: 1.0589, Accuracy: 0.9848, F1 Score: 0.8720\n",
      "2019-02-18 18:15:35,793 INFO   Finished epoch 47: Train loss: 1.0463, Dev loss: 1.0581, Accuracy: 0.9852, F1 Score: 0.8757\n",
      "2019-02-18 18:19:11,636 INFO   Finished epoch 48: Train loss: 1.0469, Dev loss: 1.0542, Accuracy: 0.9859, F1 Score: 0.8823\n",
      "2019-02-18 18:22:45,589 INFO   Finished epoch 49: Train loss: 1.0447, Dev loss: 1.0532, Accuracy: 0.9862, F1 Score: 0.8849\n",
      "2019-02-18 18:26:19,211 INFO   Finished epoch 50: Train loss: 1.0440, Dev loss: 1.0528, Accuracy: 0.9865, F1 Score: 0.8882\n"
     ]
    },
    {
     "data": {
      "image/png": "[encoded data removed]",
      "text/plain": [
       "<Figure size 432x288 with 1 Axes>"
      ]
     },
     "metadata": {
      "needs_background": "light"
     },
     "output_type": "display_data"
    },
    {
     "data": {
      "image/png": "[encoded data removed]",
      "text/plain": [
       "<Figure size 432x288 with 1 Axes>"
      ]
     },
     "metadata": {
      "needs_background": "light"
     },
     "output_type": "display_data"
    },
    {
     "data": {
      "image/png": "[encoded data removed]",
      "text/plain": [
       "<Figure size 432x288 with 1 Axes>"
      ]
     },
     "metadata": {
      "needs_background": "light"
     },
     "output_type": "display_data"
    }
   ],
   "source": [
    "for i in hidden_sizes:\n",
    "    print(\"Hidden size is %d\" % i)\n",
    "    hidden_size = i\n",
    "    bidirectional = True\n",
    "    encoder = EncoderRNN(len(src.vocab), max_len, hidden_size,\n",
    "                        bidirectional=bidirectional, variable_lengths=True)\n",
    "    decoder = DecoderRNN(len(tgt.vocab), max_len, hidden_size * 2 if bidirectional else hidden_size,\n",
    "                        dropout_p=0.2, use_attention=None, bidirectional=bidirectional,\n",
    "                        eos_id=tgt.eos_id, sos_id=tgt.sos_id)\n",
    "    seq2seq = Seq2seq(encoder, decoder)\n",
    "    if torch.cuda.is_available():\n",
    "        seq2seq.cuda()\n",
    "\n",
    "    for param in seq2seq.parameters():\n",
    "        param.data.uniform_(-0.08, 0.08)\n",
    "\n",
    "    # train\n",
    "    t = SupervisedTrainer(loss=loss, batch_size=32,\n",
    "                        checkpoint_every=50,\n",
    "                        print_every=100,\n",
    "                        hidden_size=hidden_size,\n",
    "                        fig_path=\"log/plot/unmatching2_no_att\")\n",
    "\n",
    "    seq2seq, ave_loss, character_accuracy = t.train(seq2seq, train,\n",
    "                                                    num_epochs=50, dev_data=dev,\n",
    "                                                    optimizer=optimizer,\n",
    "                                                    teacher_forcing_ratio=0.5)\n",
    "\n",
    "    losses.append(ave_loss/100)\n",
    "    error_rate.append(1 - character_accuracy)\n",
    "    accuracy.append(character_accuracy)"
   ]
  },
  {
   "cell_type": "code",
   "execution_count": 8,
   "metadata": {},
   "outputs": [],
   "source": [
    "torch.save(seq2seq.state_dict(), 'log/unmatching2_no_att_model_save.pth')"
   ]
  }
 ],
 "metadata": {
  "kernelspec": {
   "display_name": "Python 3",
   "language": "python",
   "name": "python3"
  },
  "language_info": {
   "codemirror_mode": {
    "name": "ipython",
    "version": 3
   },
   "file_extension": ".py",
   "mimetype": "text/x-python",
   "name": "python",
   "nbconvert_exporter": "python",
   "pygments_lexer": "ipython3",
   "version": "3.5.2"
  }
 },
 "nbformat": 4,
 "nbformat_minor": 2
}
