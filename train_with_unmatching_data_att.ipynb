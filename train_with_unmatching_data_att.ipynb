{
 "cells": [
  {
   "cell_type": "markdown",
   "metadata": {},
   "source": [
    "# Set Parameter\n",
    "- Attention = True\n",
    "- Drop out = 0.2\n",
    "- Teacher Forcing Ratio = 0.5\n",
    "- Layer = 1\n",
    "- Hidden unit = 50\n",
    "- Batch size = 32\n",
    "- Epochs = 50"
   ]
  },
  {
   "cell_type": "markdown",
   "metadata": {},
   "source": [
    "# Import packages\n",
    "\n",
    "import useful packages for experiments"
   ]
  },
  {
   "cell_type": "code",
   "execution_count": 1,
   "metadata": {},
   "outputs": [
    {
     "name": "stderr",
     "output_type": "stream",
     "text": [
      "/home/hyeontae/hyeontae/venv/lib/python3.5/site-packages/torch/nn/functional.py:52: UserWarning: size_average and reduce args will be deprecated, please use reduction='elementwise_mean' instead.\n",
      "  warnings.warn(warning.format(ret))\n",
      "/home/hyeontae/hyeontae/venv/lib/python3.5/site-packages/torch/nn/functional.py:52: UserWarning: size_average and reduce args will be deprecated, please use reduction='elementwise_mean' instead.\n",
      "  warnings.warn(warning.format(ret))\n"
     ]
    }
   ],
   "source": [
    "import os\n",
    "import argparse\n",
    "import logging\n",
    "\n",
    "import torch\n",
    "from torch.optim.lr_scheduler import StepLR\n",
    "import torchtext\n",
    "\n",
    "from trainer.supervised_trainer_unmatching import SupervisedTrainer\n",
    "from models.encoderRNN import EncoderRNN\n",
    "from models.decoderRNN import DecoderRNN\n",
    "from models.seq2seq import Seq2seq\n",
    "from loss.loss import Perplexity\n",
    "from optim.optim import Optimizer\n",
    "from dataset import fields\n",
    "from evaluator.predictor import Predictor\n",
    "\n",
    "import matplotlib.pyplot as plt"
   ]
  },
  {
   "cell_type": "markdown",
   "metadata": {},
   "source": [
    "# Data load"
   ]
  },
  {
   "cell_type": "code",
   "execution_count": 2,
   "metadata": {},
   "outputs": [],
   "source": [
    "train_path = \"unmatching_data/data_train.txt\"\n",
    "dev_path = \"unmatching_data/data_test.txt\"\n",
    "log_level = 'info'"
   ]
  },
  {
   "cell_type": "markdown",
   "metadata": {},
   "source": [
    "# Log format"
   ]
  },
  {
   "cell_type": "code",
   "execution_count": 3,
   "metadata": {},
   "outputs": [],
   "source": [
    "LOG_FORMAT = '%(asctime)s %(levelname)-6s %(message)s'\n",
    "logging.basicConfig(format=LOG_FORMAT, level=getattr(logging, log_level.upper()))"
   ]
  },
  {
   "cell_type": "markdown",
   "metadata": {},
   "source": [
    "# Prepare dataset"
   ]
  },
  {
   "cell_type": "code",
   "execution_count": 4,
   "metadata": {},
   "outputs": [],
   "source": [
    "src = fields.SourceField()\n",
    "tgt = fields.TargetField()\n",
    "max_len = 100\n",
    "def len_filter(example):\n",
    "    return len(example.src) <= max_len and len(example.tgt) <= max_len\n",
    "train = torchtext.data.TabularDataset(\n",
    "    path=train_path, format='tsv',\n",
    "    fields=[('src', src), ('tgt', tgt)],\n",
    "    filter_pred=len_filter\n",
    ")\n",
    "dev = torchtext.data.TabularDataset(\n",
    "    path=dev_path, format='tsv',\n",
    "    fields=[('src', src), ('tgt', tgt)],\n",
    "    filter_pred=len_filter\n",
    ")\n",
    "src.build_vocab(train)\n",
    "tgt.build_vocab(train)\n",
    "input_vocab = src.vocab\n",
    "output_vocab = tgt.vocab"
   ]
  },
  {
   "cell_type": "markdown",
   "metadata": {},
   "source": [
    "# Prepare loss"
   ]
  },
  {
   "cell_type": "code",
   "execution_count": 5,
   "metadata": {},
   "outputs": [
    {
     "name": "stderr",
     "output_type": "stream",
     "text": [
      "/home/hyeontae/hyeontae/venv/lib/python3.5/site-packages/torch/nn/functional.py:52: UserWarning: size_average and reduce args will be deprecated, please use reduction='sum' instead.\n",
      "  warnings.warn(warning.format(ret))\n"
     ]
    }
   ],
   "source": [
    "weight = torch.ones(len(tgt.vocab))\n",
    "pad = tgt.vocab.stoi[tgt.pad_token]\n",
    "loss = Perplexity(weight, pad)\n",
    "if torch.cuda.is_available():\n",
    "    loss.cuda()"
   ]
  },
  {
   "cell_type": "markdown",
   "metadata": {},
   "source": [
    "# Variable definition"
   ]
  },
  {
   "cell_type": "code",
   "execution_count": 6,
   "metadata": {},
   "outputs": [
    {
     "name": "stdout",
     "output_type": "stream",
     "text": [
      "[50]\n"
     ]
    }
   ],
   "source": [
    "seq2seq = None\n",
    "optimizer = \"Adam\"\n",
    "\n",
    "hidden_sizes = list(range(50, 51, 4))\n",
    "print(hidden_sizes)\n",
    "error_rate = []\n",
    "accuracy = []\n",
    "losses = []"
   ]
  },
  {
   "cell_type": "markdown",
   "metadata": {},
   "source": [
    "# Initialize model"
   ]
  },
  {
   "cell_type": "code",
   "execution_count": 7,
   "metadata": {},
   "outputs": [
    {
     "name": "stderr",
     "output_type": "stream",
     "text": [
      "/home/hyeontae/hyeontae/venv/lib/python3.5/site-packages/torch/nn/modules/rnn.py:38: UserWarning: dropout option adds dropout after all but last recurrent layer, so non-zero dropout expects num_layers greater than 1, but got dropout=0.2 and num_layers=1\n",
      "  \"num_layers={}\".format(dropout, num_layers))\n",
      "2019-01-31 17:17:17,269 INFO   Optimizer: Adam (\n",
      "Parameter Group 0\n",
      "    amsgrad: False\n",
      "    betas: (0.9, 0.999)\n",
      "    eps: 1e-08\n",
      "    lr: 0.001\n",
      "    weight_decay: 0\n",
      "), Scheduler: None\n"
     ]
    },
    {
     "name": "stdout",
     "output_type": "stream",
     "text": [
      "Hidden size is 50\n"
     ]
    },
    {
     "name": "stderr",
     "output_type": "stream",
     "text": [
      "/home/hyeontae/hyeontae/venv/lib/python3.5/site-packages/torch/nn/functional.py:995: UserWarning: nn.functional.tanh is deprecated. Use torch.tanh instead.\n",
      "  warnings.warn(\"nn.functional.tanh is deprecated. Use torch.tanh instead.\")\n",
      "2019-01-31 17:22:30,884 INFO   Finished epoch 1: Train loss: 2.1684, Dev loss: 2.3400, Accuracy: 0.7334, F1 Score: 0.2678\n",
      "2019-01-31 17:27:44,323 INFO   Finished epoch 2: Train loss: 1.9991, Dev loss: 1.9467, Accuracy: 0.7682, F1 Score: 0.1757\n",
      "2019-01-31 17:33:03,058 INFO   Finished epoch 3: Train loss: 1.9278, Dev loss: 1.9253, Accuracy: 0.7732, F1 Score: 0.1985\n",
      "2019-01-31 17:38:15,404 INFO   Finished epoch 4: Train loss: 1.9114, Dev loss: 1.9223, Accuracy: 0.7741, F1 Score: 0.2188\n",
      "2019-01-31 17:45:57,621 INFO   Finished epoch 5: Train loss: 1.8747, Dev loss: 1.8520, Accuracy: 0.7737, F1 Score: 0.2071\n",
      "2019-01-31 17:54:47,362 INFO   Finished epoch 6: Train loss: 1.7142, Dev loss: 1.6435, Accuracy: 0.7910, F1 Score: 0.4185\n",
      "2019-01-31 18:03:40,692 INFO   Finished epoch 7: Train loss: 1.4369, Dev loss: 1.3398, Accuracy: 0.8623, F1 Score: 0.7046\n",
      "2019-01-31 18:12:25,505 INFO   Finished epoch 8: Train loss: 1.2647, Dev loss: 1.2921, Accuracy: 0.8832, F1 Score: 0.7658\n",
      "2019-01-31 18:21:28,265 INFO   Finished epoch 9: Train loss: 1.1975, Dev loss: 1.1810, Accuracy: 0.9211, F1 Score: 0.8387\n",
      "2019-01-31 18:29:56,119 INFO   Finished epoch 10: Train loss: 1.1555, Dev loss: 1.1289, Accuracy: 0.9408, F1 Score: 0.8774\n",
      "2019-01-31 18:38:37,762 INFO   Finished epoch 11: Train loss: 1.1261, Dev loss: 1.1105, Accuracy: 0.9489, F1 Score: 0.8944\n",
      "2019-01-31 18:47:12,833 INFO   Finished epoch 12: Train loss: 1.0998, Dev loss: 1.0935, Accuracy: 0.9552, F1 Score: 0.9078\n",
      "2019-01-31 18:55:58,039 INFO   Finished epoch 13: Train loss: 1.0957, Dev loss: 1.0880, Accuracy: 0.9585, F1 Score: 0.9119\n",
      "2019-01-31 19:04:40,505 INFO   Finished epoch 14: Train loss: 1.0752, Dev loss: 1.0715, Accuracy: 0.9655, F1 Score: 0.9268\n",
      "2019-01-31 19:13:22,419 INFO   Finished epoch 15: Train loss: 1.0644, Dev loss: 1.1535, Accuracy: 0.9489, F1 Score: 0.9036\n",
      "2019-01-31 19:22:07,341 INFO   Finished epoch 16: Train loss: 1.0590, Dev loss: 1.0587, Accuracy: 0.9718, F1 Score: 0.9403\n",
      "2019-01-31 19:30:48,743 INFO   Finished epoch 17: Train loss: 1.0529, Dev loss: 1.0531, Accuracy: 0.9747, F1 Score: 0.9453\n",
      "2019-01-31 19:39:26,593 INFO   Finished epoch 18: Train loss: 1.0498, Dev loss: 1.0531, Accuracy: 0.9758, F1 Score: 0.9476\n",
      "2019-01-31 19:48:07,636 INFO   Finished epoch 19: Train loss: 1.0479, Dev loss: 1.0496, Accuracy: 0.9774, F1 Score: 0.9511\n",
      "2019-01-31 19:56:48,549 INFO   Finished epoch 20: Train loss: 1.0436, Dev loss: 1.0435, Accuracy: 0.9797, F1 Score: 0.9564\n",
      "2019-01-31 20:05:38,780 INFO   Finished epoch 21: Train loss: 1.0434, Dev loss: 1.0554, Accuracy: 0.9780, F1 Score: 0.9545\n",
      "2019-01-31 20:14:35,855 INFO   Finished epoch 22: Train loss: 1.0443, Dev loss: 1.0437, Accuracy: 0.9799, F1 Score: 0.9566\n",
      "2019-01-31 20:23:08,709 INFO   Finished epoch 23: Train loss: 1.0417, Dev loss: 1.0385, Accuracy: 0.9825, F1 Score: 0.9617\n",
      "2019-01-31 20:31:50,434 INFO   Finished epoch 24: Train loss: 1.0357, Dev loss: 1.0367, Accuracy: 0.9833, F1 Score: 0.9632\n",
      "2019-01-31 20:40:33,624 INFO   Finished epoch 25: Train loss: 1.0337, Dev loss: 1.0346, Accuracy: 0.9844, F1 Score: 0.9660\n",
      "2019-01-31 20:49:20,770 INFO   Finished epoch 26: Train loss: 1.0375, Dev loss: 1.0351, Accuracy: 0.9845, F1 Score: 0.9660\n",
      "2019-01-31 20:58:20,979 INFO   Finished epoch 27: Train loss: 1.0318, Dev loss: 1.0380, Accuracy: 0.9844, F1 Score: 0.9673\n",
      "2019-01-31 21:07:06,567 INFO   Finished epoch 28: Train loss: 1.0298, Dev loss: 1.0320, Accuracy: 0.9865, F1 Score: 0.9700\n",
      "2019-01-31 21:15:53,254 INFO   Finished epoch 29: Train loss: 1.0293, Dev loss: 1.0294, Accuracy: 0.9871, F1 Score: 0.9718\n",
      "2019-01-31 21:24:41,410 INFO   Finished epoch 30: Train loss: 1.0277, Dev loss: 1.0674, Accuracy: 0.9808, F1 Score: 0.9588\n",
      "2019-01-31 21:33:12,367 INFO   Finished epoch 31: Train loss: 1.0291, Dev loss: 1.0293, Accuracy: 0.9875, F1 Score: 0.9727\n",
      "2019-01-31 21:38:40,301 INFO   Finished epoch 32: Train loss: 1.0258, Dev loss: 1.0280, Accuracy: 0.9884, F1 Score: 0.9743\n",
      "2019-01-31 21:43:55,734 INFO   Finished epoch 33: Train loss: 1.0237, Dev loss: 1.0256, Accuracy: 0.9892, F1 Score: 0.9761\n",
      "2019-01-31 21:49:11,045 INFO   Finished epoch 34: Train loss: 1.0236, Dev loss: 1.0238, Accuracy: 0.9898, F1 Score: 0.9776\n",
      "2019-01-31 21:54:27,424 INFO   Finished epoch 35: Train loss: 1.0258, Dev loss: 1.0247, Accuracy: 0.9897, F1 Score: 0.9772\n",
      "2019-01-31 21:59:00,663 INFO   Finished epoch 36: Train loss: 1.0208, Dev loss: 1.0232, Accuracy: 0.9903, F1 Score: 0.9787\n",
      "2019-01-31 22:02:57,870 INFO   Finished epoch 37: Train loss: 1.0280, Dev loss: 1.0214, Accuracy: 0.9911, F1 Score: 0.9802\n",
      "2019-01-31 22:06:55,180 INFO   Finished epoch 38: Train loss: 1.0200, Dev loss: 1.0229, Accuracy: 0.9907, F1 Score: 0.9793\n",
      "2019-01-31 22:10:52,680 INFO   Finished epoch 39: Train loss: 1.0247, Dev loss: 1.0225, Accuracy: 0.9908, F1 Score: 0.9794\n",
      "2019-01-31 22:14:48,679 INFO   Finished epoch 40: Train loss: 1.0195, Dev loss: 1.0204, Accuracy: 0.9919, F1 Score: 0.9820\n",
      "2019-01-31 22:18:43,346 INFO   Finished epoch 41: Train loss: 1.0227, Dev loss: 1.0192, Accuracy: 0.9922, F1 Score: 0.9826\n",
      "2019-01-31 22:22:40,490 INFO   Finished epoch 42: Train loss: 1.0199, Dev loss: 1.0242, Accuracy: 0.9902, F1 Score: 0.9783\n",
      "2019-01-31 22:26:35,279 INFO   Finished epoch 43: Train loss: 1.0179, Dev loss: 1.0202, Accuracy: 0.9921, F1 Score: 0.9825\n",
      "2019-01-31 22:30:31,529 INFO   Finished epoch 44: Train loss: 1.0171, Dev loss: 1.2929, Accuracy: 0.9576, F1 Score: 0.9142\n",
      "2019-01-31 22:34:30,416 INFO   Finished epoch 45: Train loss: 1.0296, Dev loss: 1.0221, Accuracy: 0.9913, F1 Score: 0.9810\n",
      "2019-01-31 22:38:14,956 INFO   Finished epoch 46: Train loss: 1.0183, Dev loss: 1.0162, Accuracy: 0.9936, F1 Score: 0.9856\n",
      "2019-01-31 22:41:07,303 INFO   Finished epoch 47: Train loss: 1.0191, Dev loss: 1.0169, Accuracy: 0.9932, F1 Score: 0.9847\n",
      "2019-01-31 22:43:58,569 INFO   Finished epoch 48: Train loss: 1.0179, Dev loss: 1.0181, Accuracy: 0.9927, F1 Score: 0.9837\n",
      "2019-01-31 22:46:51,189 INFO   Finished epoch 49: Train loss: 1.0177, Dev loss: 1.0180, Accuracy: 0.9930, F1 Score: 0.9843\n",
      "2019-01-31 22:49:42,300 INFO   Finished epoch 50: Train loss: 1.0180, Dev loss: 1.0237, Accuracy: 0.9917, F1 Score: 0.9818\n"
     ]
    },
    {
     "data": {
      "image/png": "[encoded data removed]",
      "text/plain": [
       "<Figure size 432x288 with 1 Axes>"
      ]
     },
     "metadata": {
      "needs_background": "light"
     },
     "output_type": "display_data"
    },
    {
     "data": {
      "image/png": "[encoded data removed]",
      "text/plain": [
       "<Figure size 432x288 with 1 Axes>"
      ]
     },
     "metadata": {
      "needs_background": "light"
     },
     "output_type": "display_data"
    },
    {
     "data": {
      "image/png": "[encoded data removed]",
      "text/plain": [
       "<Figure size 432x288 with 1 Axes>"
      ]
     },
     "metadata": {
      "needs_background": "light"
     },
     "output_type": "display_data"
    }
   ],
   "source": [
    "for i in hidden_sizes:\n",
    "    print(\"Hidden size is %d\" % i)\n",
    "    hidden_size = i\n",
    "    bidirectional = True\n",
    "    encoder = EncoderRNN(len(src.vocab), max_len, hidden_size,\n",
    "                        bidirectional=bidirectional, variable_lengths=True)\n",
    "    decoder = DecoderRNN(len(tgt.vocab), max_len, hidden_size * 2 if bidirectional else hidden_size,\n",
    "                        dropout_p=0.2, use_attention=True, bidirectional=bidirectional,\n",
    "                        eos_id=tgt.eos_id, sos_id=tgt.sos_id)\n",
    "    seq2seq = Seq2seq(encoder, decoder)\n",
    "    if torch.cuda.is_available():\n",
    "        seq2seq.cuda()\n",
    "\n",
    "    for param in seq2seq.parameters():\n",
    "        param.data.uniform_(-0.08, 0.08)\n",
    "\n",
    "    # train\n",
    "    t = SupervisedTrainer(loss=loss, batch_size=32,\n",
    "                        checkpoint_every=50,\n",
    "                        print_every=100,\n",
    "                        hidden_size=hidden_size,\n",
    "                        fig_path=\"log/plot/unmatching_att\")\n",
    "\n",
    "    seq2seq, ave_loss, character_accuracy = t.train(seq2seq, train,\n",
    "                                                    num_epochs=50, dev_data=dev,\n",
    "                                                    optimizer=optimizer,\n",
    "                                                    teacher_forcing_ratio=0.5)\n",
    "\n",
    "    losses.append(ave_loss/100)\n",
    "    error_rate.append(1 - character_accuracy)\n",
    "    accuracy.append(character_accuracy)"
   ]
  },
  {
   "cell_type": "code",
   "execution_count": 8,
   "metadata": {},
   "outputs": [],
   "source": [
    "torch.save(seq2seq.state_dict(), 'log/unmatching_att_model_save.pth')"
   ]
  }
 ],
 "metadata": {
  "kernelspec": {
   "display_name": "Python 3",
   "language": "python",
   "name": "python3"
  },
  "language_info": {
   "codemirror_mode": {
    "name": "ipython",
    "version": 3
   },
   "file_extension": ".py",
   "mimetype": "text/x-python",
   "name": "python",
   "nbconvert_exporter": "python",
   "pygments_lexer": "ipython3",
   "version": "3.5.2"
  }
 },
 "nbformat": 4,
 "nbformat_minor": 2
}
