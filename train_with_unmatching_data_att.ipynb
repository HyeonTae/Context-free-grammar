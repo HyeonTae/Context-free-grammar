{
 "cells": [
  {
   "cell_type": "markdown",
   "metadata": {},
   "source": [
    "# Import packages\n",
    "\n",
    "import useful packages for experiments"
   ]
  },
  {
   "cell_type": "code",
   "execution_count": 1,
   "metadata": {},
   "outputs": [
    {
     "name": "stderr",
     "output_type": "stream",
     "text": [
      "/home/hyeontae/hyeontae/venv/lib/python3.5/site-packages/torch/nn/functional.py:52: UserWarning: size_average and reduce args will be deprecated, please use reduction='elementwise_mean' instead.\n",
      "  warnings.warn(warning.format(ret))\n",
      "/home/hyeontae/hyeontae/venv/lib/python3.5/site-packages/torch/nn/functional.py:52: UserWarning: size_average and reduce args will be deprecated, please use reduction='elementwise_mean' instead.\n",
      "  warnings.warn(warning.format(ret))\n"
     ]
    }
   ],
   "source": [
    "import os\n",
    "import argparse\n",
    "import logging\n",
    "\n",
    "import torch\n",
    "from torch.optim.lr_scheduler import StepLR\n",
    "import torchtext\n",
    "\n",
    "from trainer.supervised_trainer import SupervisedTrainer\n",
    "from models.encoderRNN import EncoderRNN\n",
    "from models.decoderRNN import DecoderRNN\n",
    "from models.seq2seq import Seq2seq\n",
    "from loss.loss import Perplexity\n",
    "from optim.optim import Optimizer\n",
    "from dataset import fields\n",
    "from evaluator.predictor import Predictor\n",
    "\n",
    "import matplotlib.pyplot as plt"
   ]
  },
  {
   "cell_type": "markdown",
   "metadata": {},
   "source": [
    "# Data load"
   ]
  },
  {
   "cell_type": "code",
   "execution_count": 2,
   "metadata": {},
   "outputs": [],
   "source": [
    "train_path = \"data2/data_train.txt\"\n",
    "dev_path = \"data2/data_test.txt\"\n",
    "log_level = 'info'"
   ]
  },
  {
   "cell_type": "markdown",
   "metadata": {},
   "source": [
    "# Log format"
   ]
  },
  {
   "cell_type": "code",
   "execution_count": 3,
   "metadata": {},
   "outputs": [],
   "source": [
    "LOG_FORMAT = '%(asctime)s %(levelname)-6s %(message)s'\n",
    "logging.basicConfig(format=LOG_FORMAT, level=getattr(logging, log_level.upper()))"
   ]
  },
  {
   "cell_type": "markdown",
   "metadata": {},
   "source": [
    "# Prepare dataset"
   ]
  },
  {
   "cell_type": "code",
   "execution_count": 4,
   "metadata": {},
   "outputs": [],
   "source": [
    "src = fields.SourceField()\n",
    "tgt = fields.TargetField()\n",
    "max_len = 100\n",
    "def len_filter(example):\n",
    "    return len(example.src) <= max_len and len(example.tgt) <= max_len\n",
    "train = torchtext.data.TabularDataset(\n",
    "    path=train_path, format='tsv',\n",
    "    fields=[('src', src), ('tgt', tgt)],\n",
    "    filter_pred=len_filter\n",
    ")\n",
    "dev = torchtext.data.TabularDataset(\n",
    "    path=dev_path, format='tsv',\n",
    "    fields=[('src', src), ('tgt', tgt)],\n",
    "    filter_pred=len_filter\n",
    ")\n",
    "src.build_vocab(train)\n",
    "tgt.build_vocab(train)\n",
    "input_vocab = src.vocab\n",
    "output_vocab = tgt.vocab"
   ]
  },
  {
   "cell_type": "markdown",
   "metadata": {},
   "source": [
    "# Prepare loss"
   ]
  },
  {
   "cell_type": "code",
   "execution_count": 5,
   "metadata": {},
   "outputs": [
    {
     "name": "stderr",
     "output_type": "stream",
     "text": [
      "/home/hyeontae/hyeontae/venv/lib/python3.5/site-packages/torch/nn/functional.py:52: UserWarning: size_average and reduce args will be deprecated, please use reduction='sum' instead.\n",
      "  warnings.warn(warning.format(ret))\n"
     ]
    }
   ],
   "source": [
    "weight = torch.ones(len(tgt.vocab))\n",
    "pad = tgt.vocab.stoi[tgt.pad_token]\n",
    "loss = Perplexity(weight, pad)\n",
    "if torch.cuda.is_available():\n",
    "    loss.cuda()"
   ]
  },
  {
   "cell_type": "markdown",
   "metadata": {},
   "source": [
    "# Variable definition"
   ]
  },
  {
   "cell_type": "code",
   "execution_count": 6,
   "metadata": {},
   "outputs": [
    {
     "name": "stdout",
     "output_type": "stream",
     "text": [
      "[50]\n"
     ]
    }
   ],
   "source": [
    "seq2seq = None\n",
    "optimizer = \"Adam\"\n",
    "\n",
    "hidden_sizes = list(range(50, 51, 4))\n",
    "print(hidden_sizes)\n",
    "error_rate = []\n",
    "accuracy = []\n",
    "losses = []"
   ]
  },
  {
   "cell_type": "markdown",
   "metadata": {},
   "source": [
    "# Initialize model"
   ]
  },
  {
   "cell_type": "code",
   "execution_count": 7,
   "metadata": {},
   "outputs": [
    {
     "name": "stderr",
     "output_type": "stream",
     "text": [
      "/home/hyeontae/hyeontae/venv/lib/python3.5/site-packages/torch/nn/modules/rnn.py:38: UserWarning: dropout option adds dropout after all but last recurrent layer, so non-zero dropout expects num_layers greater than 1, but got dropout=0.2 and num_layers=1\n",
      "  \"num_layers={}\".format(dropout, num_layers))\n",
      "2019-01-28 14:44:53,478 INFO   Optimizer: Adam (\n",
      "Parameter Group 0\n",
      "    amsgrad: False\n",
      "    betas: (0.9, 0.999)\n",
      "    eps: 1e-08\n",
      "    lr: 0.001\n",
      "    weight_decay: 0\n",
      "), Scheduler: None\n"
     ]
    },
    {
     "name": "stdout",
     "output_type": "stream",
     "text": [
      "Hidden size is 50\n"
     ]
    },
    {
     "name": "stderr",
     "output_type": "stream",
     "text": [
      "/home/hyeontae/hyeontae/venv/lib/python3.5/site-packages/torch/nn/functional.py:995: UserWarning: nn.functional.tanh is deprecated. Use torch.tanh instead.\n",
      "  warnings.warn(\"nn.functional.tanh is deprecated. Use torch.tanh instead.\")\n",
      "2019-01-28 14:47:14,734 INFO   Finished epoch 1: Train loss: 10.8026, Dev loss: 9.5647, Accuracy(Character): 0.2621, Accuracy(Word): 0.0000\n",
      "2019-01-28 14:49:37,530 INFO   Finished epoch 2: Train loss: 5.5306, Dev loss: 5.9955, Accuracy(Character): 0.3644, Accuracy(Word): 0.0000\n",
      "2019-01-28 14:51:59,760 INFO   Finished epoch 3: Train loss: 2.8708, Dev loss: 3.1987, Accuracy(Character): 0.5643, Accuracy(Word): 0.0000\n",
      "2019-01-28 14:54:22,285 INFO   Finished epoch 4: Train loss: 1.9461, Dev loss: 2.0575, Accuracy(Character): 0.7030, Accuracy(Word): 0.0000\n",
      "2019-01-28 14:56:42,904 INFO   Finished epoch 5: Train loss: 1.6396, Dev loss: 1.6695, Accuracy(Character): 0.7795, Accuracy(Word): 0.0000\n",
      "2019-01-28 14:59:03,700 INFO   Finished epoch 6: Train loss: 1.5209, Dev loss: 1.5507, Accuracy(Character): 0.8063, Accuracy(Word): 0.0000\n",
      "2019-01-28 15:01:28,780 INFO   Finished epoch 7: Train loss: 1.4146, Dev loss: 1.4023, Accuracy(Character): 0.8548, Accuracy(Word): 0.0000\n",
      "2019-01-28 15:03:50,386 INFO   Finished epoch 8: Train loss: 1.3098, Dev loss: 1.8316, Accuracy(Character): 0.7909, Accuracy(Word): 0.0000\n",
      "2019-01-28 15:06:10,719 INFO   Finished epoch 9: Train loss: 1.2453, Dev loss: 1.2180, Accuracy(Character): 0.9047, Accuracy(Word): 0.0000\n",
      "2019-01-28 15:08:33,405 INFO   Finished epoch 10: Train loss: 1.2208, Dev loss: 1.1582, Accuracy(Character): 0.9263, Accuracy(Word): 0.0000\n",
      "2019-01-28 15:10:56,314 INFO   Finished epoch 11: Train loss: 1.1762, Dev loss: 1.2320, Accuracy(Character): 0.9074, Accuracy(Word): 0.0000\n",
      "2019-01-28 15:13:18,246 INFO   Finished epoch 12: Train loss: 1.1494, Dev loss: 1.3916, Accuracy(Character): 0.8849, Accuracy(Word): 0.0000\n",
      "2019-01-28 15:15:38,681 INFO   Finished epoch 13: Train loss: 1.1333, Dev loss: 1.1152, Accuracy(Character): 0.9413, Accuracy(Word): 0.0000\n",
      "2019-01-28 15:18:01,877 INFO   Finished epoch 14: Train loss: 1.1085, Dev loss: 1.1273, Accuracy(Character): 0.9394, Accuracy(Word): 0.0000\n",
      "2019-01-28 15:20:25,132 INFO   Finished epoch 15: Train loss: 1.1042, Dev loss: 1.1022, Accuracy(Character): 0.9434, Accuracy(Word): 0.0000\n",
      "2019-01-28 15:22:46,952 INFO   Finished epoch 16: Train loss: 1.1077, Dev loss: 1.0764, Accuracy(Character): 0.9513, Accuracy(Word): 0.0000\n",
      "2019-01-28 15:25:09,545 INFO   Finished epoch 17: Train loss: 1.0960, Dev loss: 1.1003, Accuracy(Character): 0.9477, Accuracy(Word): 0.0000\n",
      "2019-01-28 15:27:33,077 INFO   Finished epoch 18: Train loss: 1.0924, Dev loss: 1.0873, Accuracy(Character): 0.9534, Accuracy(Word): 0.0000\n",
      "2019-01-28 15:29:55,135 INFO   Finished epoch 19: Train loss: 1.0867, Dev loss: 1.0795, Accuracy(Character): 0.9535, Accuracy(Word): 0.0000\n",
      "2019-01-28 15:32:16,700 INFO   Finished epoch 20: Train loss: 1.0853, Dev loss: 1.0923, Accuracy(Character): 0.9536, Accuracy(Word): 0.0000\n"
     ]
    },
    {
     "data": {
      "image/png": "[encoded data removed]",
      "text/plain": [
       "<Figure size 432x288 with 1 Axes>"
      ]
     },
     "metadata": {
      "needs_background": "light"
     },
     "output_type": "display_data"
    }
   ],
   "source": [
    "for i in hidden_sizes:\n",
    "    print(\"Hidden size is %d\" % i)\n",
    "    hidden_size = i\n",
    "    bidirectional = True\n",
    "    encoder = EncoderRNN(len(src.vocab), max_len, hidden_size,\n",
    "                        bidirectional=bidirectional, variable_lengths=True)\n",
    "    decoder = DecoderRNN(len(tgt.vocab), max_len, hidden_size * 2 if bidirectional else hidden_size,\n",
    "                        dropout_p=0.2, use_attention=True, bidirectional=bidirectional,\n",
    "                        eos_id=tgt.eos_id, sos_id=tgt.sos_id)\n",
    "    seq2seq = Seq2seq(encoder, decoder)\n",
    "    if torch.cuda.is_available():\n",
    "        seq2seq.cuda()\n",
    "\n",
    "    for param in seq2seq.parameters():\n",
    "        param.data.uniform_(-0.08, 0.08)\n",
    "\n",
    "    # train\n",
    "    t = SupervisedTrainer(loss=loss, batch_size=32,\n",
    "                        checkpoint_every=50,\n",
    "                        print_every=100)\n",
    "\n",
    "    seq2seq, ave_loss, character_accuracy = t.train(seq2seq, train,\n",
    "                                                    num_epochs=20, dev_data=dev,\n",
    "                                                    optimizer=optimizer,\n",
    "                                                    teacher_forcing_ratio=0.5)\n",
    "\n",
    "    losses.append(ave_loss/100)\n",
    "    error_rate.append(1 - character_accuracy)\n",
    "    accuracy.append(character_accuracy)"
   ]
  },
  {
   "cell_type": "code",
   "execution_count": 8,
   "metadata": {},
   "outputs": [],
   "source": [
    "torch.save(seq2seq.state_dict(), 'log/unmatching_model_save.pth')"
   ]
  }
 ],
 "metadata": {
  "kernelspec": {
   "display_name": "Python 3",
   "language": "python",
   "name": "python3"
  },
  "language_info": {
   "codemirror_mode": {
    "name": "ipython",
    "version": 3
   },
   "file_extension": ".py",
   "mimetype": "text/x-python",
   "name": "python",
   "nbconvert_exporter": "python",
   "pygments_lexer": "ipython3",
   "version": "3.5.2"
  }
 },
 "nbformat": 4,
 "nbformat_minor": 2
}
