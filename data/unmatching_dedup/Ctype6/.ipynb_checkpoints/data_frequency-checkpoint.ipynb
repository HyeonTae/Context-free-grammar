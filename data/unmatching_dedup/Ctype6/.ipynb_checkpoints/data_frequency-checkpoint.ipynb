{
 "cells": [
  {
   "cell_type": "markdown",
   "metadata": {},
   "source": [
    "# Import packages\n",
    "\n",
    "import useful packages for experiments"
   ]
  },
  {
   "cell_type": "code",
   "execution_count": 2,
   "metadata": {},
   "outputs": [],
   "source": [
    "import numpy as np\n",
    "import matplotlib.pyplot as plt\n",
    "from tqdm import tqdm_notebook as tqdm"
   ]
  },
  {
   "cell_type": "code",
   "execution_count": 3,
   "metadata": {},
   "outputs": [],
   "source": [
    "lines = open('grammar_data.txt').read().strip().split('\\n')\n",
    "pairs = [[s for s in l.split('\\t')] for l in lines]"
   ]
  },
  {
   "cell_type": "markdown",
   "metadata": {},
   "source": [
    "- unmatching rate"
   ]
  },
  {
   "cell_type": "code",
   "execution_count": 4,
   "metadata": {},
   "outputs": [
    {
     "data": {
      "application/vnd.jupyter.widget-view+json": {
       "model_id": "fb5892a33f0d46a78b437c922f393b9b",
       "version_major": 2,
       "version_minor": 0
      },
      "text/plain": [
       "HBox(children=(IntProgress(value=0, max=10000), HTML(value='')))"
      ]
     },
     "metadata": {},
     "output_type": "display_data"
    },
    {
     "name": "stdout",
     "output_type": "stream",
     "text": [
      "\n"
     ]
    }
   ],
   "source": [
    "depths = []\n",
    "unmatching = 0\n",
    "matching = 0\n",
    "depth_cp = []\n",
    "for pair in tqdm(pairs):\n",
    "    depth = []\n",
    "    for i in pair[1].split(' '):\n",
    "        depth.append(int(i))\n",
    "        depth_cp.append(int(i))\n",
    "    depths.append(max(depth))\n",
    "\n",
    "for i in depths:\n",
    "    if i > 1:\n",
    "        unmatching += 1\n",
    "    else:\n",
    "        matching += 1\n",
    "\n",
    "error = 0\n",
    "for i in depth_cp:\n",
    "    if i > 0:\n",
    "        error += 1"
   ]
  },
  {
   "cell_type": "markdown",
   "metadata": {},
   "source": [
    "- length"
   ]
  },
  {
   "cell_type": "code",
   "execution_count": 5,
   "metadata": {},
   "outputs": [
    {
     "data": {
      "application/vnd.jupyter.widget-view+json": {
       "model_id": "8849be1cb9064358abfbd5e30500a8d0",
       "version_major": 2,
       "version_minor": 0
      },
      "text/plain": [
       "HBox(children=(IntProgress(value=0, max=10000), HTML(value='')))"
      ]
     },
     "metadata": {},
     "output_type": "display_data"
    },
    {
     "name": "stdout",
     "output_type": "stream",
     "text": [
      "\n"
     ]
    }
   ],
   "source": [
    "lengths = []\n",
    "for pair in tqdm(pairs):\n",
    "    length = 0\n",
    "    for i in pair[1].split(' '):\n",
    "        length += 1\n",
    "    lengths.append(length)"
   ]
  },
  {
   "cell_type": "markdown",
   "metadata": {},
   "source": [
    "# Experimental results\n",
    "\n",
    "- unmatching rate"
   ]
  },
  {
   "cell_type": "code",
   "execution_count": 6,
   "metadata": {},
   "outputs": [
    {
     "name": "stdout",
     "output_type": "stream",
     "text": [
      "matching data: 9.49 %\n",
      "unmatching data: 90.51 %\n",
      "unmatching rate: 10.12 %\n"
     ]
    }
   ],
   "source": [
    "print(\"matching data: %0.2f\" % (matching/len(depths)*100),\"%\")\n",
    "print(\"unmatching data: %0.2f\" % (unmatching/len(depths)*100),\"%\")\n",
    "print(\"unmatching rate: %0.2f\" % (error/len(depth_cp)*100),\"%\")"
   ]
  },
  {
   "cell_type": "markdown",
   "metadata": {},
   "source": [
    "- length to frequency"
   ]
  },
  {
   "cell_type": "code",
   "execution_count": 7,
   "metadata": {},
   "outputs": [
    {
     "data": {
      "image/png": "[encoded data removed]",
      "text/plain": [
       "<Figure size 1080x720 with 1 Axes>"
      ]
     },
     "metadata": {
      "needs_background": "light"
     },
     "output_type": "display_data"
    }
   ],
   "source": [
    "plt.figure(figsize=(15,10))\n",
    "plt.hist(lengths, bins=50)\n",
    "plt.xlabel('length', fontsize=20)\n",
    "plt.ylabel('frequency', fontsize=20)\n",
    "plt.title('length to frequency', fontsize=26)\n",
    "plt.savefig('length_to_frequency.png')"
   ]
  },
  {
   "cell_type": "code",
   "execution_count": null,
   "metadata": {},
   "outputs": [],
   "source": []
  }
 ],
 "metadata": {
  "kernelspec": {
   "display_name": "Python 3",
   "language": "python",
   "name": "python3"
  }
 },
 "nbformat": 4,
 "nbformat_minor": 2
}
