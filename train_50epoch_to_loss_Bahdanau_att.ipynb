{
 "cells": [
  {
   "cell_type": "markdown",
   "metadata": {},
   "source": [
    "# Set Parameter\n",
    "- Attention = Bahdanau\n",
    "- Drop out = 0.2\n",
    "- Teacher Forcing Ratio = 0.5\n",
    "- Layer = 1\n",
    "- Hidden unit = 50\n",
    "- Batch size = 32\n",
    "- Epochs = 50"
   ]
  },
  {
   "cell_type": "markdown",
   "metadata": {},
   "source": [
    "# Import packages\n",
    "\n",
    "import useful packages for experiments"
   ]
  },
  {
   "cell_type": "code",
   "execution_count": 1,
   "metadata": {},
   "outputs": [
    {
     "name": "stderr",
     "output_type": "stream",
     "text": [
      "/home/hyeontae/hyeontae/venv/lib/python3.5/site-packages/torch/nn/functional.py:52: UserWarning: size_average and reduce args will be deprecated, please use reduction='elementwise_mean' instead.\n",
      "  warnings.warn(warning.format(ret))\n",
      "/home/hyeontae/hyeontae/venv/lib/python3.5/site-packages/torch/nn/functional.py:52: UserWarning: size_average and reduce args will be deprecated, please use reduction='elementwise_mean' instead.\n",
      "  warnings.warn(warning.format(ret))\n"
     ]
    }
   ],
   "source": [
    "import os\n",
    "import argparse\n",
    "import logging\n",
    "\n",
    "import torch\n",
    "from torch.optim.lr_scheduler import StepLR\n",
    "import torchtext\n",
    "\n",
    "from trainer.supervised_trainer import SupervisedTrainer\n",
    "from models.encoderRNN import EncoderRNN\n",
    "from models.decoderRNN import DecoderRNN\n",
    "from models.seq2seq import Seq2seq\n",
    "from loss.loss import Perplexity\n",
    "from optim.optim import Optimizer\n",
    "from dataset import fields\n",
    "from evaluator.predictor import Predictor\n",
    "\n",
    "import matplotlib.pyplot as plt"
   ]
  },
  {
   "cell_type": "markdown",
   "metadata": {},
   "source": [
    "# Data load"
   ]
  },
  {
   "cell_type": "code",
   "execution_count": 2,
   "metadata": {},
   "outputs": [],
   "source": [
    "train_path = \"data/grammar_data_N100_train.txt\"\n",
    "dev_path = \"data/grammar_data_N100_test.txt\"\n",
    "log_level = 'info'"
   ]
  },
  {
   "cell_type": "markdown",
   "metadata": {},
   "source": [
    "# Log format"
   ]
  },
  {
   "cell_type": "code",
   "execution_count": 3,
   "metadata": {},
   "outputs": [],
   "source": [
    "LOG_FORMAT = '%(asctime)s %(levelname)-6s %(message)s'\n",
    "logging.basicConfig(format=LOG_FORMAT, level=getattr(logging, log_level.upper()))"
   ]
  },
  {
   "cell_type": "markdown",
   "metadata": {},
   "source": [
    "# Prepare dataset"
   ]
  },
  {
   "cell_type": "code",
   "execution_count": 4,
   "metadata": {},
   "outputs": [],
   "source": [
    "src = fields.SourceField()\n",
    "tgt = fields.TargetField()\n",
    "max_len = 102\n",
    "def len_filter(example):\n",
    "    return len(example.src) <= max_len and len(example.tgt) <= max_len\n",
    "train = torchtext.data.TabularDataset(\n",
    "    path=train_path, format='tsv',\n",
    "    fields=[('src', src), ('tgt', tgt)],\n",
    "    filter_pred=len_filter\n",
    ")\n",
    "dev = torchtext.data.TabularDataset(\n",
    "    path=dev_path, format='tsv',\n",
    "    fields=[('src', src), ('tgt', tgt)],\n",
    "    filter_pred=len_filter\n",
    ")\n",
    "src.build_vocab(train)\n",
    "tgt.build_vocab(train)\n",
    "input_vocab = src.vocab\n",
    "output_vocab = tgt.vocab"
   ]
  },
  {
   "cell_type": "markdown",
   "metadata": {},
   "source": [
    "# Prepare loss"
   ]
  },
  {
   "cell_type": "code",
   "execution_count": 5,
   "metadata": {},
   "outputs": [
    {
     "name": "stderr",
     "output_type": "stream",
     "text": [
      "/home/hyeontae/hyeontae/venv/lib/python3.5/site-packages/torch/nn/functional.py:52: UserWarning: size_average and reduce args will be deprecated, please use reduction='sum' instead.\n",
      "  warnings.warn(warning.format(ret))\n"
     ]
    }
   ],
   "source": [
    "weight = torch.ones(len(tgt.vocab))\n",
    "pad = tgt.vocab.stoi[tgt.pad_token]\n",
    "loss = Perplexity(weight, pad)\n",
    "if torch.cuda.is_available():\n",
    "    loss.cuda()"
   ]
  },
  {
   "cell_type": "markdown",
   "metadata": {},
   "source": [
    "# Variable definition"
   ]
  },
  {
   "cell_type": "code",
   "execution_count": 6,
   "metadata": {},
   "outputs": [
    {
     "name": "stdout",
     "output_type": "stream",
     "text": [
      "[50]\n"
     ]
    }
   ],
   "source": [
    "seq2seq = None\n",
    "optimizer = \"Adam\"\n",
    "\n",
    "hidden_sizes = list(range(50, 51, 4))\n",
    "print(hidden_sizes)\n",
    "error_rate = []\n",
    "accuracy = []\n",
    "losses = []"
   ]
  },
  {
   "cell_type": "markdown",
   "metadata": {},
   "source": [
    "# Initialize model"
   ]
  },
  {
   "cell_type": "code",
   "execution_count": 7,
   "metadata": {
    "scrolled": true
   },
   "outputs": [
    {
     "name": "stderr",
     "output_type": "stream",
     "text": [
      "/home/hyeontae/hyeontae/venv/lib/python3.5/site-packages/torch/nn/modules/rnn.py:38: UserWarning: dropout option adds dropout after all but last recurrent layer, so non-zero dropout expects num_layers greater than 1, but got dropout=0.2 and num_layers=1\n",
      "  \"num_layers={}\".format(dropout, num_layers))\n",
      "2019-02-13 09:44:38,360 INFO   Optimizer: Adam (\n",
      "Parameter Group 0\n",
      "    amsgrad: False\n",
      "    betas: (0.9, 0.999)\n",
      "    eps: 1e-08\n",
      "    lr: 0.001\n",
      "    weight_decay: 0\n",
      "), Scheduler: None\n"
     ]
    },
    {
     "name": "stdout",
     "output_type": "stream",
     "text": [
      "Hidden size is 50\n"
     ]
    },
    {
     "name": "stderr",
     "output_type": "stream",
     "text": [
      "2019-02-13 09:53:08,600 INFO   Finished epoch 1: Train loss: 15.0678, Dev loss: 11.5215, Accuracy(Character): 0.1791, Accuracy(Word): 0.0000\n",
      "2019-02-13 10:01:30,397 INFO   Finished epoch 2: Train loss: 5.4422, Dev loss: 7.1704, Accuracy(Character): 0.2887, Accuracy(Word): 0.0000\n",
      "2019-02-13 10:09:52,455 INFO   Finished epoch 3: Train loss: 3.9837, Dev loss: 5.9354, Accuracy(Character): 0.3176, Accuracy(Word): 0.0000\n",
      "2019-02-13 10:18:20,225 INFO   Finished epoch 4: Train loss: 3.4263, Dev loss: 4.4786, Accuracy(Character): 0.4093, Accuracy(Word): 0.0000\n",
      "2019-02-13 10:26:35,343 INFO   Finished epoch 5: Train loss: 3.0583, Dev loss: 5.4781, Accuracy(Character): 0.3798, Accuracy(Word): 0.0000\n",
      "2019-02-13 10:34:48,204 INFO   Finished epoch 6: Train loss: 2.7441, Dev loss: 3.7309, Accuracy(Character): 0.4789, Accuracy(Word): 0.0000\n",
      "2019-02-13 10:43:10,971 INFO   Finished epoch 7: Train loss: 2.5872, Dev loss: 3.2105, Accuracy(Character): 0.5233, Accuracy(Word): 0.0000\n",
      "2019-02-13 10:51:30,837 INFO   Finished epoch 8: Train loss: 2.3311, Dev loss: 3.1594, Accuracy(Character): 0.5342, Accuracy(Word): 0.0005\n",
      "2019-02-13 10:59:52,566 INFO   Finished epoch 9: Train loss: 2.2414, Dev loss: 2.7595, Accuracy(Character): 0.5855, Accuracy(Word): 0.0004\n",
      "2019-02-13 11:08:09,240 INFO   Finished epoch 10: Train loss: 2.1507, Dev loss: 2.6455, Accuracy(Character): 0.5796, Accuracy(Word): 0.0001\n",
      "2019-02-13 11:16:32,121 INFO   Finished epoch 11: Train loss: 2.1529, Dev loss: 2.4407, Accuracy(Character): 0.6295, Accuracy(Word): 0.0028\n",
      "2019-02-13 11:24:54,837 INFO   Finished epoch 12: Train loss: 2.0309, Dev loss: 2.4860, Accuracy(Character): 0.6172, Accuracy(Word): 0.0053\n",
      "2019-02-13 11:33:14,235 INFO   Finished epoch 13: Train loss: 2.0014, Dev loss: 2.3393, Accuracy(Character): 0.6452, Accuracy(Word): 0.0000\n",
      "2019-02-13 11:41:34,586 INFO   Finished epoch 14: Train loss: 1.9200, Dev loss: 2.2692, Accuracy(Character): 0.6649, Accuracy(Word): 0.0022\n",
      "2019-02-13 11:49:54,741 INFO   Finished epoch 15: Train loss: 1.8876, Dev loss: 3.5566, Accuracy(Character): 0.5099, Accuracy(Word): 0.0003\n",
      "2019-02-13 11:58:09,548 INFO   Finished epoch 16: Train loss: 1.8351, Dev loss: 2.0262, Accuracy(Character): 0.7084, Accuracy(Word): 0.0053\n",
      "2019-02-13 12:06:24,412 INFO   Finished epoch 17: Train loss: 1.8338, Dev loss: 2.6893, Accuracy(Character): 0.6004, Accuracy(Word): 0.0019\n",
      "2019-02-13 12:14:47,948 INFO   Finished epoch 18: Train loss: 1.8106, Dev loss: 1.9641, Accuracy(Character): 0.7224, Accuracy(Word): 0.0053\n",
      "2019-02-13 12:23:04,760 INFO   Finished epoch 19: Train loss: 1.7524, Dev loss: 1.9192, Accuracy(Character): 0.7308, Accuracy(Word): 0.0054\n",
      "2019-02-13 12:31:22,490 INFO   Finished epoch 20: Train loss: 1.7344, Dev loss: 1.8694, Accuracy(Character): 0.7306, Accuracy(Word): 0.0029\n",
      "2019-02-13 12:39:43,934 INFO   Finished epoch 21: Train loss: 1.7098, Dev loss: 1.9713, Accuracy(Character): 0.7131, Accuracy(Word): 0.0003\n",
      "2019-02-13 12:48:00,647 INFO   Finished epoch 22: Train loss: 1.6750, Dev loss: 1.9385, Accuracy(Character): 0.7340, Accuracy(Word): 0.0000\n",
      "2019-02-13 12:56:21,765 INFO   Finished epoch 23: Train loss: 1.6594, Dev loss: 1.8058, Accuracy(Character): 0.7600, Accuracy(Word): 0.0000\n",
      "2019-02-13 13:04:58,613 INFO   Finished epoch 24: Train loss: 1.6265, Dev loss: 2.0630, Accuracy(Character): 0.7046, Accuracy(Word): 0.0000\n",
      "2019-02-13 13:13:12,585 INFO   Finished epoch 25: Train loss: 1.6236, Dev loss: 1.6831, Accuracy(Character): 0.7925, Accuracy(Word): 0.0053\n",
      "2019-02-13 13:21:30,276 INFO   Finished epoch 26: Train loss: 1.6051, Dev loss: 1.7048, Accuracy(Character): 0.7810, Accuracy(Word): 0.0023\n",
      "2019-02-13 13:29:51,926 INFO   Finished epoch 27: Train loss: 1.5799, Dev loss: 1.7018, Accuracy(Character): 0.7812, Accuracy(Word): 0.0020\n",
      "2019-02-13 13:38:03,905 INFO   Finished epoch 28: Train loss: 1.5782, Dev loss: 1.5135, Accuracy(Character): 0.8389, Accuracy(Word): 0.0056\n",
      "2019-02-13 13:46:23,284 INFO   Finished epoch 29: Train loss: 1.5898, Dev loss: 1.5492, Accuracy(Character): 0.8227, Accuracy(Word): 0.0089\n",
      "2019-02-13 13:54:55,783 INFO   Finished epoch 30: Train loss: 1.5410, Dev loss: 1.8674, Accuracy(Character): 0.7341, Accuracy(Word): 0.0100\n",
      "2019-02-13 14:03:16,691 INFO   Finished epoch 31: Train loss: 1.5306, Dev loss: 1.7143, Accuracy(Character): 0.7937, Accuracy(Word): 0.0067\n",
      "2019-02-13 14:11:39,027 INFO   Finished epoch 32: Train loss: 1.5266, Dev loss: 1.4488, Accuracy(Character): 0.8529, Accuracy(Word): 0.0127\n",
      "2019-02-13 14:20:04,386 INFO   Finished epoch 33: Train loss: 1.5178, Dev loss: 1.4967, Accuracy(Character): 0.8335, Accuracy(Word): 0.0094\n",
      "2019-02-13 14:28:22,525 INFO   Finished epoch 34: Train loss: 1.4863, Dev loss: 1.9449, Accuracy(Character): 0.7456, Accuracy(Word): 0.0127\n",
      "2019-02-13 14:36:39,523 INFO   Finished epoch 35: Train loss: 1.5136, Dev loss: 2.8309, Accuracy(Character): 0.6473, Accuracy(Word): 0.0090\n",
      "2019-02-13 14:45:05,900 INFO   Finished epoch 36: Train loss: 1.5116, Dev loss: 1.4865, Accuracy(Character): 0.8453, Accuracy(Word): 0.0057\n",
      "2019-02-13 14:53:35,334 INFO   Finished epoch 37: Train loss: 1.5095, Dev loss: 1.4227, Accuracy(Character): 0.8615, Accuracy(Word): 0.0095\n",
      "2019-02-13 15:01:55,749 INFO   Finished epoch 38: Train loss: 1.4835, Dev loss: 1.4784, Accuracy(Character): 0.8477, Accuracy(Word): 0.0085\n",
      "2019-02-13 15:09:06,008 INFO   Finished epoch 39: Train loss: 1.5136, Dev loss: 1.8059, Accuracy(Character): 0.7637, Accuracy(Word): 0.0146\n",
      "2019-02-13 15:16:31,163 INFO   Finished epoch 40: Train loss: 1.5318, Dev loss: 1.3453, Accuracy(Character): 0.8938, Accuracy(Word): 0.0109\n",
      "2019-02-13 15:23:45,872 INFO   Finished epoch 41: Train loss: 1.4820, Dev loss: 1.8338, Accuracy(Character): 0.7498, Accuracy(Word): 0.0109\n",
      "2019-02-13 15:30:51,896 INFO   Finished epoch 42: Train loss: 1.4478, Dev loss: 1.3496, Accuracy(Character): 0.8923, Accuracy(Word): 0.0052\n",
      "2019-02-13 15:37:00,092 INFO   Finished epoch 43: Train loss: 1.4955, Dev loss: 1.5694, Accuracy(Character): 0.8145, Accuracy(Word): 0.0055\n",
      "2019-02-13 15:43:08,673 INFO   Finished epoch 44: Train loss: 1.4611, Dev loss: 2.4509, Accuracy(Character): 0.6698, Accuracy(Word): 0.0123\n",
      "2019-02-13 15:49:16,034 INFO   Finished epoch 45: Train loss: 1.4394, Dev loss: 1.6732, Accuracy(Character): 0.7878, Accuracy(Word): 0.0100\n",
      "2019-02-13 15:55:28,303 INFO   Finished epoch 46: Train loss: 1.4418, Dev loss: 1.8168, Accuracy(Character): 0.7525, Accuracy(Word): 0.0124\n",
      "2019-02-13 16:01:32,980 INFO   Finished epoch 47: Train loss: 1.4153, Dev loss: 1.5505, Accuracy(Character): 0.8193, Accuracy(Word): 0.0037\n",
      "2019-02-13 16:07:51,938 INFO   Finished epoch 48: Train loss: 1.4509, Dev loss: 1.2791, Accuracy(Character): 0.9134, Accuracy(Word): 0.0146\n",
      "2019-02-13 16:14:03,070 INFO   Finished epoch 49: Train loss: 1.4478, Dev loss: 1.3405, Accuracy(Character): 0.8933, Accuracy(Word): 0.0053\n",
      "2019-02-13 16:20:08,530 INFO   Finished epoch 50: Train loss: 1.4084, Dev loss: 1.4374, Accuracy(Character): 0.8530, Accuracy(Word): 0.0018\n"
     ]
    },
    {
     "data": {
      "image/png": "[encoded data removed]",
      "text/plain": [
       "<Figure size 432x288 with 1 Axes>"
      ]
     },
     "metadata": {
      "needs_background": "light"
     },
     "output_type": "display_data"
    },
    {
     "data": {
      "image/png": "[encoded data removed]",
      "text/plain": [
       "<Figure size 432x288 with 1 Axes>"
      ]
     },
     "metadata": {
      "needs_background": "light"
     },
     "output_type": "display_data"
    }
   ],
   "source": [
    "for i in hidden_sizes:\n",
    "    print(\"Hidden size is %d\" % i)\n",
    "    hidden_size = i\n",
    "    bidirectional = True\n",
    "    encoder = EncoderRNN(len(src.vocab), max_len, hidden_size,\n",
    "                        bidirectional=bidirectional, variable_lengths=True)\n",
    "    decoder = DecoderRNN(len(tgt.vocab), max_len, hidden_size * 2 if bidirectional else hidden_size,\n",
    "                        dropout_p=0.2, use_attention=\"Bahdanau\", bidirectional=bidirectional,\n",
    "                        eos_id=tgt.eos_id, sos_id=tgt.sos_id)\n",
    "    seq2seq = Seq2seq(encoder, decoder)\n",
    "    if torch.cuda.is_available():\n",
    "        seq2seq.cuda()\n",
    "\n",
    "    for param in seq2seq.parameters():\n",
    "        param.data.uniform_(-0.08, 0.08)\n",
    "\n",
    "    # train\n",
    "    t = SupervisedTrainer(loss=loss, batch_size=32,\n",
    "                        checkpoint_every=50,\n",
    "                        print_every=100,\n",
    "                        hidden_size=hidden_size,\n",
    "                        fig_path=\"log/plot/100N_Bahdanau_att\")\n",
    "\n",
    "    seq2seq, ave_loss, character_accuracy = t.train(seq2seq, train,\n",
    "                                                    num_epochs=50, dev_data=dev,\n",
    "                                                    optimizer=optimizer,\n",
    "                                                    teacher_forcing_ratio=0.5)\n",
    "\n",
    "    losses.append(ave_loss/100)\n",
    "    error_rate.append(1 - character_accuracy)\n",
    "    accuracy.append(character_accuracy)"
   ]
  },
  {
   "cell_type": "code",
   "execution_count": 8,
   "metadata": {},
   "outputs": [],
   "source": [
    "torch.save(seq2seq.state_dict(), 'log/100N_Bahdanau_att_model_save.pth')"
   ]
  }
 ],
 "metadata": {
  "kernelspec": {
   "display_name": "Python 3",
   "language": "python",
   "name": "python3"
  },
  "language_info": {
   "codemirror_mode": {
    "name": "ipython",
    "version": 3
   },
   "file_extension": ".py",
   "mimetype": "text/x-python",
   "name": "python",
   "nbconvert_exporter": "python",
   "pygments_lexer": "ipython3",
   "version": "3.5.2"
  }
 },
 "nbformat": 4,
 "nbformat_minor": 2
}
