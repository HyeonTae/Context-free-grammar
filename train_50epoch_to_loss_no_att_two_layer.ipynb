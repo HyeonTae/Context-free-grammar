{
 "cells": [
  {
   "cell_type": "markdown",
   "metadata": {},
   "source": [
    "# Set Parameter\n",
    "- Attention = None\n",
    "- Drop out = 0.2\n",
    "- Teacher Forcing Ratio = 0.5\n",
    "- Layer = 2\n",
    "- Hidden unit = 50\n",
    "- Batch size = 32\n",
    "- Epochs = 50"
   ]
  },
  {
   "cell_type": "markdown",
   "metadata": {},
   "source": [
    "# Import packages\n",
    "\n",
    "import useful packages for experiments"
   ]
  },
  {
   "cell_type": "code",
   "execution_count": 1,
   "metadata": {},
   "outputs": [
    {
     "name": "stderr",
     "output_type": "stream",
     "text": [
      "/home/hyeontae/hyeontae/venv/lib/python3.5/site-packages/torch/nn/functional.py:52: UserWarning: size_average and reduce args will be deprecated, please use reduction='elementwise_mean' instead.\n",
      "  warnings.warn(warning.format(ret))\n",
      "/home/hyeontae/hyeontae/venv/lib/python3.5/site-packages/torch/nn/functional.py:52: UserWarning: size_average and reduce args will be deprecated, please use reduction='elementwise_mean' instead.\n",
      "  warnings.warn(warning.format(ret))\n"
     ]
    }
   ],
   "source": [
    "import os\n",
    "import argparse\n",
    "import logging\n",
    "\n",
    "import torch\n",
    "from torch.optim.lr_scheduler import StepLR\n",
    "import torchtext\n",
    "\n",
    "from trainer.supervised_trainer import SupervisedTrainer\n",
    "from models.encoderRNN import EncoderRNN\n",
    "from models.decoderRNN import DecoderRNN\n",
    "from models.seq2seq import Seq2seq\n",
    "from loss.loss import Perplexity\n",
    "from optim.optim import Optimizer\n",
    "from dataset import fields\n",
    "from evaluator.predictor import Predictor\n",
    "\n",
    "import matplotlib.pyplot as plt"
   ]
  },
  {
   "cell_type": "markdown",
   "metadata": {},
   "source": [
    "# Data load"
   ]
  },
  {
   "cell_type": "code",
   "execution_count": 2,
   "metadata": {},
   "outputs": [],
   "source": [
    "train_path = \"data/grammar_data_N100_train.txt\"\n",
    "dev_path = \"data/grammar_data_N100_test.txt\"\n",
    "log_level = 'info'"
   ]
  },
  {
   "cell_type": "markdown",
   "metadata": {},
   "source": [
    "# Log format"
   ]
  },
  {
   "cell_type": "code",
   "execution_count": 3,
   "metadata": {},
   "outputs": [],
   "source": [
    "LOG_FORMAT = '%(asctime)s %(levelname)-6s %(message)s'\n",
    "logging.basicConfig(format=LOG_FORMAT, level=getattr(logging, log_level.upper()))"
   ]
  },
  {
   "cell_type": "markdown",
   "metadata": {},
   "source": [
    "# Prepare dataset"
   ]
  },
  {
   "cell_type": "code",
   "execution_count": 4,
   "metadata": {},
   "outputs": [],
   "source": [
    "src = fields.SourceField()\n",
    "tgt = fields.TargetField()\n",
    "max_len = 102\n",
    "def len_filter(example):\n",
    "    return len(example.src) <= max_len and len(example.tgt) <= max_len\n",
    "train = torchtext.data.TabularDataset(\n",
    "    path=train_path, format='tsv',\n",
    "    fields=[('src', src), ('tgt', tgt)],\n",
    "    filter_pred=len_filter\n",
    ")\n",
    "dev = torchtext.data.TabularDataset(\n",
    "    path=dev_path, format='tsv',\n",
    "    fields=[('src', src), ('tgt', tgt)],\n",
    "    filter_pred=len_filter\n",
    ")\n",
    "src.build_vocab(train)\n",
    "tgt.build_vocab(train)\n",
    "input_vocab = src.vocab\n",
    "output_vocab = tgt.vocab"
   ]
  },
  {
   "cell_type": "markdown",
   "metadata": {},
   "source": [
    "# Prepare loss"
   ]
  },
  {
   "cell_type": "code",
   "execution_count": 5,
   "metadata": {},
   "outputs": [
    {
     "name": "stderr",
     "output_type": "stream",
     "text": [
      "/home/hyeontae/hyeontae/venv/lib/python3.5/site-packages/torch/nn/functional.py:52: UserWarning: size_average and reduce args will be deprecated, please use reduction='sum' instead.\n",
      "  warnings.warn(warning.format(ret))\n"
     ]
    }
   ],
   "source": [
    "weight = torch.ones(len(tgt.vocab))\n",
    "pad = tgt.vocab.stoi[tgt.pad_token]\n",
    "loss = Perplexity(weight, pad)\n",
    "if torch.cuda.is_available():\n",
    "    loss.cuda()"
   ]
  },
  {
   "cell_type": "markdown",
   "metadata": {},
   "source": [
    "# Variable definition"
   ]
  },
  {
   "cell_type": "code",
   "execution_count": 6,
   "metadata": {},
   "outputs": [
    {
     "name": "stdout",
     "output_type": "stream",
     "text": [
      "[50]\n"
     ]
    }
   ],
   "source": [
    "seq2seq = None\n",
    "optimizer = \"Adam\"\n",
    "\n",
    "hidden_sizes = list(range(50, 51, 4))\n",
    "print(hidden_sizes)\n",
    "error_rate = []\n",
    "accuracy = []\n",
    "losses = []"
   ]
  },
  {
   "cell_type": "markdown",
   "metadata": {},
   "source": [
    "# Initialize model"
   ]
  },
  {
   "cell_type": "code",
   "execution_count": 8,
   "metadata": {},
   "outputs": [
    {
     "name": "stderr",
     "output_type": "stream",
     "text": [
      "2019-01-29 17:38:30,906 INFO   Optimizer: Adam (\n",
      "Parameter Group 0\n",
      "    amsgrad: False\n",
      "    betas: (0.9, 0.999)\n",
      "    eps: 1e-08\n",
      "    lr: 0.001\n",
      "    weight_decay: 0\n",
      "), Scheduler: None\n"
     ]
    },
    {
     "name": "stdout",
     "output_type": "stream",
     "text": [
      "Hidden size is 50\n"
     ]
    },
    {
     "name": "stderr",
     "output_type": "stream",
     "text": [
      "2019-01-29 17:45:00,462 INFO   Finished epoch 1: Train loss: 15.3642, Dev loss: 7.1491, Accuracy(Character): 0.3951, Accuracy(Word): 0.0000\n",
      "2019-01-29 17:51:26,751 INFO   Finished epoch 2: Train loss: 3.5362, Dev loss: 8.6000, Accuracy(Character): 0.3943, Accuracy(Word): 0.0000\n",
      "2019-01-29 17:57:59,038 INFO   Finished epoch 3: Train loss: 2.7303, Dev loss: 2.9259, Accuracy(Character): 0.5888, Accuracy(Word): 0.0000\n",
      "2019-01-29 18:04:29,196 INFO   Finished epoch 4: Train loss: 2.4506, Dev loss: 2.8308, Accuracy(Character): 0.5928, Accuracy(Word): 0.0000\n",
      "2019-01-29 18:10:54,316 INFO   Finished epoch 5: Train loss: 2.1698, Dev loss: 2.7306, Accuracy(Character): 0.6178, Accuracy(Word): 0.0000\n",
      "2019-01-29 18:17:32,380 INFO   Finished epoch 6: Train loss: 2.0153, Dev loss: 3.9553, Accuracy(Character): 0.5505, Accuracy(Word): 0.0053\n",
      "2019-01-29 18:24:01,997 INFO   Finished epoch 7: Train loss: 1.9632, Dev loss: 2.1666, Accuracy(Character): 0.6802, Accuracy(Word): 0.0059\n",
      "2019-01-29 18:30:24,736 INFO   Finished epoch 8: Train loss: 1.8435, Dev loss: 2.1840, Accuracy(Character): 0.6854, Accuracy(Word): 0.0053\n",
      "2019-01-29 18:36:59,652 INFO   Finished epoch 9: Train loss: 1.8638, Dev loss: 2.0963, Accuracy(Character): 0.6980, Accuracy(Word): 0.0023\n",
      "2019-01-29 18:43:24,961 INFO   Finished epoch 10: Train loss: 1.7559, Dev loss: 1.9281, Accuracy(Character): 0.7309, Accuracy(Word): 0.0054\n",
      "2019-01-29 18:49:50,648 INFO   Finished epoch 11: Train loss: 1.7219, Dev loss: 2.1594, Accuracy(Character): 0.7014, Accuracy(Word): 0.0052\n",
      "2019-01-29 18:56:21,803 INFO   Finished epoch 12: Train loss: 1.6765, Dev loss: 2.4015, Accuracy(Character): 0.6687, Accuracy(Word): 0.0055\n",
      "2019-01-29 19:02:54,729 INFO   Finished epoch 13: Train loss: 1.6530, Dev loss: 1.7415, Accuracy(Character): 0.7658, Accuracy(Word): 0.0000\n",
      "2019-01-29 19:09:24,543 INFO   Finished epoch 14: Train loss: 1.6163, Dev loss: 1.7871, Accuracy(Character): 0.7531, Accuracy(Word): 0.0000\n",
      "2019-01-29 19:15:57,730 INFO   Finished epoch 15: Train loss: 1.5828, Dev loss: 2.4008, Accuracy(Character): 0.6754, Accuracy(Word): 0.0000\n",
      "2019-01-29 19:22:25,786 INFO   Finished epoch 16: Train loss: 1.5364, Dev loss: 1.6535, Accuracy(Character): 0.7873, Accuracy(Word): 0.0000\n",
      "2019-01-29 19:28:58,377 INFO   Finished epoch 17: Train loss: 1.5230, Dev loss: 1.9626, Accuracy(Character): 0.7415, Accuracy(Word): 0.0000\n",
      "2019-01-29 19:34:45,616 INFO   Finished epoch 18: Train loss: 1.5164, Dev loss: 1.9063, Accuracy(Character): 0.7416, Accuracy(Word): 0.0000\n",
      "2019-01-29 19:40:03,174 INFO   Finished epoch 19: Train loss: 1.5079, Dev loss: 1.6330, Accuracy(Character): 0.7932, Accuracy(Word): 0.0000\n",
      "2019-01-29 19:45:24,629 INFO   Finished epoch 20: Train loss: 1.4682, Dev loss: 1.5549, Accuracy(Character): 0.8117, Accuracy(Word): 0.0000\n",
      "2019-01-29 19:50:48,744 INFO   Finished epoch 21: Train loss: 1.4505, Dev loss: 1.5100, Accuracy(Character): 0.8253, Accuracy(Word): 0.0000\n",
      "2019-01-29 19:56:10,695 INFO   Finished epoch 22: Train loss: 1.4396, Dev loss: 1.5693, Accuracy(Character): 0.8116, Accuracy(Word): 0.0000\n",
      "2019-01-29 20:01:29,273 INFO   Finished epoch 23: Train loss: 1.4261, Dev loss: 1.4701, Accuracy(Character): 0.8361, Accuracy(Word): 0.0000\n",
      "2019-01-29 20:06:47,883 INFO   Finished epoch 24: Train loss: 1.4077, Dev loss: 1.4801, Accuracy(Character): 0.8352, Accuracy(Word): 0.0000\n",
      "2019-01-29 20:12:06,192 INFO   Finished epoch 25: Train loss: 1.4053, Dev loss: 1.4735, Accuracy(Character): 0.8371, Accuracy(Word): 0.0000\n",
      "2019-01-29 20:16:30,513 INFO   Finished epoch 26: Train loss: 1.3865, Dev loss: 1.4509, Accuracy(Character): 0.8427, Accuracy(Word): 0.0000\n",
      "2019-01-29 20:20:51,836 INFO   Finished epoch 27: Train loss: 1.3793, Dev loss: 1.4909, Accuracy(Character): 0.8312, Accuracy(Word): 0.0000\n",
      "2019-01-29 20:25:14,407 INFO   Finished epoch 28: Train loss: 1.3746, Dev loss: 1.4186, Accuracy(Character): 0.8521, Accuracy(Word): 0.0000\n",
      "2019-01-29 20:29:36,921 INFO   Finished epoch 29: Train loss: 1.3609, Dev loss: 1.8827, Accuracy(Character): 0.7668, Accuracy(Word): 0.0000\n",
      "2019-01-29 20:34:00,803 INFO   Finished epoch 30: Train loss: 1.3541, Dev loss: 1.5305, Accuracy(Character): 0.8275, Accuracy(Word): 0.0000\n",
      "2019-01-29 20:38:20,081 INFO   Finished epoch 31: Train loss: 1.3452, Dev loss: 1.4025, Accuracy(Character): 0.8559, Accuracy(Word): 0.0000\n",
      "2019-01-29 20:42:40,645 INFO   Finished epoch 32: Train loss: 1.3369, Dev loss: 1.3746, Accuracy(Character): 0.8663, Accuracy(Word): 0.0000\n",
      "2019-01-29 20:47:00,090 INFO   Finished epoch 33: Train loss: 1.3280, Dev loss: 1.4349, Accuracy(Character): 0.8504, Accuracy(Word): 0.0000\n",
      "2019-01-29 20:51:24,199 INFO   Finished epoch 34: Train loss: 1.3166, Dev loss: 1.4172, Accuracy(Character): 0.8548, Accuracy(Word): 0.0000\n",
      "2019-01-29 20:55:49,625 INFO   Finished epoch 35: Train loss: 1.3135, Dev loss: 1.3764, Accuracy(Character): 0.8651, Accuracy(Word): 0.0000\n",
      "2019-01-29 21:00:13,969 INFO   Finished epoch 36: Train loss: 1.3087, Dev loss: 1.4015, Accuracy(Character): 0.8586, Accuracy(Word): 0.0000\n",
      "2019-01-29 21:04:39,048 INFO   Finished epoch 37: Train loss: 1.2983, Dev loss: 1.3555, Accuracy(Character): 0.8726, Accuracy(Word): 0.0000\n",
      "2019-01-29 21:09:02,679 INFO   Finished epoch 38: Train loss: 1.3101, Dev loss: 1.3435, Accuracy(Character): 0.8750, Accuracy(Word): 0.0000\n",
      "2019-01-29 21:13:22,130 INFO   Finished epoch 39: Train loss: 1.2899, Dev loss: 1.4398, Accuracy(Character): 0.8528, Accuracy(Word): 0.0000\n",
      "2019-01-29 21:17:43,756 INFO   Finished epoch 40: Train loss: 1.2838, Dev loss: 1.4693, Accuracy(Character): 0.8461, Accuracy(Word): 0.0000\n",
      "2019-01-29 21:22:08,743 INFO   Finished epoch 41: Train loss: 1.2892, Dev loss: 1.3294, Accuracy(Character): 0.8810, Accuracy(Word): 0.0000\n",
      "2019-01-29 21:26:30,462 INFO   Finished epoch 42: Train loss: 1.2832, Dev loss: 1.4099, Accuracy(Character): 0.8554, Accuracy(Word): 0.0000\n",
      "2019-01-29 21:30:47,481 INFO   Finished epoch 43: Train loss: 1.2698, Dev loss: 1.3185, Accuracy(Character): 0.8852, Accuracy(Word): 0.0000\n",
      "2019-01-29 21:35:09,290 INFO   Finished epoch 44: Train loss: 1.2658, Dev loss: 1.3097, Accuracy(Character): 0.8851, Accuracy(Word): 0.0000\n",
      "2019-01-29 21:39:28,047 INFO   Finished epoch 45: Train loss: 1.2704, Dev loss: 1.3189, Accuracy(Character): 0.8868, Accuracy(Word): 0.0000\n",
      "2019-01-29 21:43:49,935 INFO   Finished epoch 46: Train loss: 1.2646, Dev loss: 1.4341, Accuracy(Character): 0.8537, Accuracy(Word): 0.0000\n",
      "2019-01-29 21:48:13,484 INFO   Finished epoch 47: Train loss: 1.2653, Dev loss: 1.2897, Accuracy(Character): 0.8928, Accuracy(Word): 0.0000\n",
      "2019-01-29 21:52:34,809 INFO   Finished epoch 48: Train loss: 1.2556, Dev loss: 1.3174, Accuracy(Character): 0.8834, Accuracy(Word): 0.0000\n",
      "2019-01-29 21:56:56,787 INFO   Finished epoch 49: Train loss: 1.2592, Dev loss: 1.3440, Accuracy(Character): 0.8792, Accuracy(Word): 0.0000\n",
      "2019-01-29 22:01:23,961 INFO   Finished epoch 50: Train loss: 1.2564, Dev loss: 1.2784, Accuracy(Character): 0.8954, Accuracy(Word): 0.0000\n"
     ]
    },
    {
     "data": {
      "image/png": "[encoded data removed]",
      "text/plain": [
       "<Figure size 432x288 with 1 Axes>"
      ]
     },
     "metadata": {
      "needs_background": "light"
     },
     "output_type": "display_data"
    }
   ],
   "source": [
    "for i in hidden_sizes:\n",
    "    print(\"Hidden size is %d\" % i)\n",
    "    hidden_size = i\n",
    "    bidirectional = True\n",
    "    encoder = EncoderRNN(len(src.vocab), max_len, hidden_size, n_layers=2,\n",
    "                        bidirectional=bidirectional, variable_lengths=True)\n",
    "    decoder = DecoderRNN(len(tgt.vocab), max_len, hidden_size * 2 if bidirectional else hidden_size,\n",
    "                        dropout_p=0.2, n_layers=2,use_attention=False, bidirectional=bidirectional,\n",
    "                        eos_id=tgt.eos_id, sos_id=tgt.sos_id)\n",
    "    seq2seq = Seq2seq(encoder, decoder)\n",
    "    if torch.cuda.is_available():\n",
    "        seq2seq.cuda()\n",
    "\n",
    "    for param in seq2seq.parameters():\n",
    "        param.data.uniform_(-0.08, 0.08)\n",
    "\n",
    "    # train\n",
    "    t = SupervisedTrainer(loss=loss, batch_size=32,\n",
    "                        checkpoint_every=50,\n",
    "                        print_every=100)\n",
    "\n",
    "    seq2seq, ave_loss, character_accuracy = t.train(seq2seq, train,\n",
    "                                                    num_epochs=50, dev_data=dev,\n",
    "                                                    optimizer=optimizer,\n",
    "                                                    teacher_forcing_ratio=0.5)\n",
    "\n",
    "    losses.append(ave_loss/100)\n",
    "    error_rate.append(1 - character_accuracy)\n",
    "    accuracy.append(character_accuracy)"
   ]
  },
  {
   "cell_type": "code",
   "execution_count": 9,
   "metadata": {},
   "outputs": [],
   "source": [
    "torch.save(seq2seq.state_dict(), 'log/100N_no_att_model_save.pth')"
   ]
  }
 ],
 "metadata": {
  "kernelspec": {
   "display_name": "Python 3",
   "language": "python",
   "name": "python3"
  },
  "language_info": {
   "codemirror_mode": {
    "name": "ipython",
    "version": 3
   },
   "file_extension": ".py",
   "mimetype": "text/x-python",
   "name": "python",
   "nbconvert_exporter": "python",
   "pygments_lexer": "ipython3",
   "version": "3.5.2"
  }
 },
 "nbformat": 4,
 "nbformat_minor": 2
}
