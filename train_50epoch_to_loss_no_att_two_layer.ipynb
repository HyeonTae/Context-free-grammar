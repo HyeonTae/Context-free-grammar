{
 "cells": [
  {
   "cell_type": "markdown",
   "metadata": {},
   "source": [
    "# Set Parameter\n",
    "- Attention = None\n",
    "- Drop out = 0.2\n",
    "- Teacher Forcing Ratio = 0.5\n",
    "- Layer = 2\n",
    "- Hidden unit = 50\n",
    "- Batch size = 32\n",
    "- Epochs = 50"
   ]
  },
  {
   "cell_type": "markdown",
   "metadata": {},
   "source": [
    "# Import packages\n",
    "\n",
    "import useful packages for experiments"
   ]
  },
  {
   "cell_type": "code",
   "execution_count": 1,
   "metadata": {},
   "outputs": [
    {
     "name": "stderr",
     "output_type": "stream",
     "text": [
      "/home/hyeontae/hyeontae/venv/lib/python3.5/site-packages/torch/nn/functional.py:52: UserWarning: size_average and reduce args will be deprecated, please use reduction='elementwise_mean' instead.\n",
      "  warnings.warn(warning.format(ret))\n",
      "/home/hyeontae/hyeontae/venv/lib/python3.5/site-packages/torch/nn/functional.py:52: UserWarning: size_average and reduce args will be deprecated, please use reduction='elementwise_mean' instead.\n",
      "  warnings.warn(warning.format(ret))\n"
     ]
    }
   ],
   "source": [
    "import os\n",
    "import argparse\n",
    "import logging\n",
    "\n",
    "import torch\n",
    "from torch.optim.lr_scheduler import StepLR\n",
    "import torchtext\n",
    "\n",
    "from trainer.supervised_trainer import SupervisedTrainer\n",
    "from models.encoderRNN import EncoderRNN\n",
    "from models.decoderRNN import DecoderRNN\n",
    "from models.seq2seq import Seq2seq\n",
    "from loss.loss import Perplexity\n",
    "from optim.optim import Optimizer\n",
    "from dataset import fields\n",
    "from evaluator.predictor import Predictor\n",
    "\n",
    "import matplotlib.pyplot as plt"
   ]
  },
  {
   "cell_type": "markdown",
   "metadata": {},
   "source": [
    "# Data load"
   ]
  },
  {
   "cell_type": "code",
   "execution_count": 2,
   "metadata": {},
   "outputs": [],
   "source": [
    "train_path = \"data/grammar_data_N100_train.txt\"\n",
    "dev_path = \"data/grammar_data_N100_test.txt\"\n",
    "log_level = 'info'"
   ]
  },
  {
   "cell_type": "markdown",
   "metadata": {},
   "source": [
    "# Log format"
   ]
  },
  {
   "cell_type": "code",
   "execution_count": 3,
   "metadata": {},
   "outputs": [],
   "source": [
    "LOG_FORMAT = '%(asctime)s %(levelname)-6s %(message)s'\n",
    "logging.basicConfig(format=LOG_FORMAT, level=getattr(logging, log_level.upper()))"
   ]
  },
  {
   "cell_type": "markdown",
   "metadata": {},
   "source": [
    "# Prepare dataset"
   ]
  },
  {
   "cell_type": "code",
   "execution_count": 4,
   "metadata": {},
   "outputs": [],
   "source": [
    "src = fields.SourceField()\n",
    "tgt = fields.TargetField()\n",
    "max_len = 102\n",
    "def len_filter(example):\n",
    "    return len(example.src) <= max_len and len(example.tgt) <= max_len\n",
    "train = torchtext.data.TabularDataset(\n",
    "    path=train_path, format='tsv',\n",
    "    fields=[('src', src), ('tgt', tgt)],\n",
    "    filter_pred=len_filter\n",
    ")\n",
    "dev = torchtext.data.TabularDataset(\n",
    "    path=dev_path, format='tsv',\n",
    "    fields=[('src', src), ('tgt', tgt)],\n",
    "    filter_pred=len_filter\n",
    ")\n",
    "src.build_vocab(train)\n",
    "tgt.build_vocab(train)\n",
    "input_vocab = src.vocab\n",
    "output_vocab = tgt.vocab"
   ]
  },
  {
   "cell_type": "markdown",
   "metadata": {},
   "source": [
    "# Prepare loss"
   ]
  },
  {
   "cell_type": "code",
   "execution_count": 5,
   "metadata": {},
   "outputs": [
    {
     "name": "stderr",
     "output_type": "stream",
     "text": [
      "/home/hyeontae/hyeontae/venv/lib/python3.5/site-packages/torch/nn/functional.py:52: UserWarning: size_average and reduce args will be deprecated, please use reduction='sum' instead.\n",
      "  warnings.warn(warning.format(ret))\n"
     ]
    }
   ],
   "source": [
    "weight = torch.ones(len(tgt.vocab))\n",
    "pad = tgt.vocab.stoi[tgt.pad_token]\n",
    "loss = Perplexity(weight, pad)\n",
    "if torch.cuda.is_available():\n",
    "    loss.cuda()"
   ]
  },
  {
   "cell_type": "markdown",
   "metadata": {},
   "source": [
    "# Variable definition"
   ]
  },
  {
   "cell_type": "code",
   "execution_count": 6,
   "metadata": {},
   "outputs": [
    {
     "name": "stdout",
     "output_type": "stream",
     "text": [
      "[50]\n"
     ]
    }
   ],
   "source": [
    "seq2seq = None\n",
    "optimizer = \"Adam\"\n",
    "\n",
    "hidden_sizes = list(range(50, 51, 4))\n",
    "print(hidden_sizes)\n",
    "error_rate = []\n",
    "accuracy = []\n",
    "losses = []"
   ]
  },
  {
   "cell_type": "markdown",
   "metadata": {},
   "source": [
    "# Initialize model"
   ]
  },
  {
   "cell_type": "code",
   "execution_count": 7,
   "metadata": {},
   "outputs": [
    {
     "name": "stderr",
     "output_type": "stream",
     "text": [
      "2019-02-20 11:16:16,556 INFO   Optimizer: Adam (\n",
      "Parameter Group 0\n",
      "    amsgrad: False\n",
      "    betas: (0.9, 0.999)\n",
      "    eps: 1e-08\n",
      "    lr: 0.001\n",
      "    weight_decay: 0\n",
      "), Scheduler: None\n"
     ]
    },
    {
     "name": "stdout",
     "output_type": "stream",
     "text": [
      "Hidden size is 50\n"
     ]
    },
    {
     "name": "stderr",
     "output_type": "stream",
     "text": [
      "2019-02-20 11:24:10,692 INFO   Finished epoch 1: Train loss: 14.3880, Dev loss: 6.5525, Accuracy(Character): 0.3752, Accuracy(Word): 0.0000\n",
      "2019-02-20 11:32:09,681 INFO   Finished epoch 2: Train loss: 3.4765, Dev loss: 5.4017, Accuracy(Character): 0.4683, Accuracy(Word): 0.0000\n",
      "2019-02-20 11:40:13,874 INFO   Finished epoch 3: Train loss: 2.5634, Dev loss: 2.7922, Accuracy(Character): 0.5863, Accuracy(Word): 0.0000\n",
      "2019-02-20 11:48:12,425 INFO   Finished epoch 4: Train loss: 2.1984, Dev loss: 2.4520, Accuracy(Character): 0.6273, Accuracy(Word): 0.0000\n",
      "2019-02-20 11:56:09,135 INFO   Finished epoch 5: Train loss: 2.0529, Dev loss: 2.3417, Accuracy(Character): 0.6401, Accuracy(Word): 0.0000\n",
      "2019-02-20 12:04:05,153 INFO   Finished epoch 6: Train loss: 1.9215, Dev loss: 2.2073, Accuracy(Character): 0.6814, Accuracy(Word): 0.0000\n",
      "2019-02-20 12:12:12,081 INFO   Finished epoch 7: Train loss: 1.8099, Dev loss: 2.3927, Accuracy(Character): 0.6468, Accuracy(Word): 0.0000\n",
      "2019-02-20 12:20:03,191 INFO   Finished epoch 8: Train loss: 1.7318, Dev loss: 1.9867, Accuracy(Character): 0.7210, Accuracy(Word): 0.0000\n",
      "2019-02-20 12:27:57,003 INFO   Finished epoch 9: Train loss: 1.7028, Dev loss: 1.8979, Accuracy(Character): 0.7315, Accuracy(Word): 0.0000\n",
      "2019-02-20 12:36:07,166 INFO   Finished epoch 10: Train loss: 1.6691, Dev loss: 1.8728, Accuracy(Character): 0.7363, Accuracy(Word): 0.0093\n",
      "2019-02-20 12:44:01,727 INFO   Finished epoch 11: Train loss: 1.6166, Dev loss: 1.9812, Accuracy(Character): 0.7339, Accuracy(Word): 0.0055\n",
      "2019-02-20 12:52:07,839 INFO   Finished epoch 12: Train loss: 1.5909, Dev loss: 1.7091, Accuracy(Character): 0.7726, Accuracy(Word): 0.0000\n",
      "2019-02-20 13:00:01,874 INFO   Finished epoch 13: Train loss: 1.5640, Dev loss: 1.6798, Accuracy(Character): 0.7839, Accuracy(Word): 0.0000\n",
      "2019-02-20 13:08:00,337 INFO   Finished epoch 14: Train loss: 1.5453, Dev loss: 1.9703, Accuracy(Character): 0.7360, Accuracy(Word): 0.0000\n",
      "2019-02-20 13:16:01,671 INFO   Finished epoch 15: Train loss: 1.5216, Dev loss: 1.6358, Accuracy(Character): 0.7943, Accuracy(Word): 0.0000\n",
      "2019-02-20 13:23:53,925 INFO   Finished epoch 16: Train loss: 1.4950, Dev loss: 1.6094, Accuracy(Character): 0.8016, Accuracy(Word): 0.0000\n",
      "2019-02-20 13:31:55,061 INFO   Finished epoch 17: Train loss: 1.4805, Dev loss: 1.5750, Accuracy(Character): 0.8100, Accuracy(Word): 0.0000\n",
      "2019-02-20 13:39:51,969 INFO   Finished epoch 18: Train loss: 1.4789, Dev loss: 1.5589, Accuracy(Character): 0.8127, Accuracy(Word): 0.0000\n",
      "2019-02-20 13:47:57,093 INFO   Finished epoch 19: Train loss: 1.4611, Dev loss: 1.5787, Accuracy(Character): 0.8098, Accuracy(Word): 0.0000\n",
      "2019-02-20 13:55:58,641 INFO   Finished epoch 20: Train loss: 1.4474, Dev loss: 1.8710, Accuracy(Character): 0.7533, Accuracy(Word): 0.0000\n",
      "2019-02-20 14:03:25,702 INFO   Finished epoch 21: Train loss: 1.4291, Dev loss: 1.5170, Accuracy(Character): 0.8254, Accuracy(Word): 0.0000\n",
      "2019-02-20 14:10:13,078 INFO   Finished epoch 22: Train loss: 1.4288, Dev loss: 1.5204, Accuracy(Character): 0.8238, Accuracy(Word): 0.0000\n",
      "2019-02-20 14:16:49,606 INFO   Finished epoch 23: Train loss: 1.4214, Dev loss: 1.6004, Accuracy(Character): 0.8027, Accuracy(Word): 0.0000\n",
      "2019-02-20 14:23:24,937 INFO   Finished epoch 24: Train loss: 1.4134, Dev loss: 1.6193, Accuracy(Character): 0.8001, Accuracy(Word): 0.0000\n",
      "2019-02-20 14:30:16,595 INFO   Finished epoch 25: Train loss: 1.4050, Dev loss: 1.6493, Accuracy(Character): 0.7988, Accuracy(Word): 0.0000\n",
      "2019-02-20 14:36:59,231 INFO   Finished epoch 26: Train loss: 1.4001, Dev loss: 1.6144, Accuracy(Character): 0.8127, Accuracy(Word): 0.0124\n",
      "2019-02-20 14:43:37,802 INFO   Finished epoch 27: Train loss: 1.3839, Dev loss: 1.4900, Accuracy(Character): 0.8291, Accuracy(Word): 0.0000\n",
      "2019-02-20 14:50:20,347 INFO   Finished epoch 28: Train loss: 1.3671, Dev loss: 1.4567, Accuracy(Character): 0.8445, Accuracy(Word): 0.0000\n",
      "2019-02-20 14:57:05,293 INFO   Finished epoch 29: Train loss: 1.3885, Dev loss: 1.4831, Accuracy(Character): 0.8368, Accuracy(Word): 0.0000\n",
      "2019-02-20 15:03:38,762 INFO   Finished epoch 30: Train loss: 1.3554, Dev loss: 1.4919, Accuracy(Character): 0.8384, Accuracy(Word): 0.0000\n",
      "2019-02-20 15:10:19,562 INFO   Finished epoch 31: Train loss: 1.3483, Dev loss: 1.4070, Accuracy(Character): 0.8563, Accuracy(Word): 0.0000\n",
      "2019-02-20 15:15:42,775 INFO   Finished epoch 32: Train loss: 1.3391, Dev loss: 1.4033, Accuracy(Character): 0.8588, Accuracy(Word): 0.0000\n",
      "2019-02-20 15:21:12,734 INFO   Finished epoch 33: Train loss: 1.3334, Dev loss: 1.4570, Accuracy(Character): 0.8455, Accuracy(Word): 0.0000\n",
      "2019-02-20 15:26:39,160 INFO   Finished epoch 34: Train loss: 1.3309, Dev loss: 1.4669, Accuracy(Character): 0.8477, Accuracy(Word): 0.0000\n",
      "2019-02-20 15:32:02,493 INFO   Finished epoch 35: Train loss: 1.3217, Dev loss: 1.3916, Accuracy(Character): 0.8586, Accuracy(Word): 0.0000\n",
      "2019-02-20 15:37:31,044 INFO   Finished epoch 36: Train loss: 1.3261, Dev loss: 1.3690, Accuracy(Character): 0.8672, Accuracy(Word): 0.0000\n",
      "2019-02-20 15:42:59,656 INFO   Finished epoch 37: Train loss: 1.3137, Dev loss: 1.3737, Accuracy(Character): 0.8655, Accuracy(Word): 0.0000\n",
      "2019-02-20 15:47:51,632 INFO   Finished epoch 38: Train loss: 1.3010, Dev loss: 1.3813, Accuracy(Character): 0.8632, Accuracy(Word): 0.0000\n",
      "2019-02-20 15:52:17,546 INFO   Finished epoch 39: Train loss: 1.3024, Dev loss: 1.3558, Accuracy(Character): 0.8719, Accuracy(Word): 0.0000\n",
      "2019-02-20 15:56:45,101 INFO   Finished epoch 40: Train loss: 1.3017, Dev loss: 1.3880, Accuracy(Character): 0.8630, Accuracy(Word): 0.0000\n",
      "2019-02-20 16:01:09,186 INFO   Finished epoch 41: Train loss: 1.2900, Dev loss: 1.4425, Accuracy(Character): 0.8553, Accuracy(Word): 0.0000\n",
      "2019-02-20 16:05:33,961 INFO   Finished epoch 42: Train loss: 1.2958, Dev loss: 1.3430, Accuracy(Character): 0.8764, Accuracy(Word): 0.0000\n",
      "2019-02-20 16:10:01,317 INFO   Finished epoch 43: Train loss: 1.2897, Dev loss: 1.3401, Accuracy(Character): 0.8784, Accuracy(Word): 0.0000\n",
      "2019-02-20 16:14:29,117 INFO   Finished epoch 44: Train loss: 1.2809, Dev loss: 1.3163, Accuracy(Character): 0.8841, Accuracy(Word): 0.0000\n",
      "2019-02-20 16:18:54,084 INFO   Finished epoch 45: Train loss: 1.2829, Dev loss: 1.3237, Accuracy(Character): 0.8822, Accuracy(Word): 0.0000\n",
      "2019-02-20 16:23:19,032 INFO   Finished epoch 46: Train loss: 1.2717, Dev loss: 1.3715, Accuracy(Character): 0.8695, Accuracy(Word): 0.0000\n",
      "2019-02-20 16:27:45,320 INFO   Finished epoch 47: Train loss: 1.2693, Dev loss: 1.3033, Accuracy(Character): 0.8890, Accuracy(Word): 0.0000\n",
      "2019-02-20 16:32:09,416 INFO   Finished epoch 48: Train loss: 1.2652, Dev loss: 1.3364, Accuracy(Character): 0.8798, Accuracy(Word): 0.0000\n",
      "2019-02-20 16:36:33,356 INFO   Finished epoch 49: Train loss: 1.2648, Dev loss: 1.3132, Accuracy(Character): 0.8854, Accuracy(Word): 0.0000\n",
      "2019-02-20 16:41:01,122 INFO   Finished epoch 50: Train loss: 1.2584, Dev loss: 1.3646, Accuracy(Character): 0.8705, Accuracy(Word): 0.0000\n"
     ]
    },
    {
     "data": {
      "image/png": "[encoded data removed]",
      "text/plain": [
       "<Figure size 432x288 with 1 Axes>"
      ]
     },
     "metadata": {
      "needs_background": "light"
     },
     "output_type": "display_data"
    },
    {
     "data": {
      "image/png": "[encoded data removed]",
      "text/plain": [
       "<Figure size 432x288 with 1 Axes>"
      ]
     },
     "metadata": {
      "needs_background": "light"
     },
     "output_type": "display_data"
    }
   ],
   "source": [
    "for i in hidden_sizes:\n",
    "    print(\"Hidden size is %d\" % i)\n",
    "    hidden_size = i\n",
    "    bidirectional = True\n",
    "    encoder = EncoderRNN(len(src.vocab), max_len, hidden_size, n_layers=2,\n",
    "                        bidirectional=bidirectional, variable_lengths=True)\n",
    "    decoder = DecoderRNN(len(tgt.vocab), max_len, hidden_size * 2 if bidirectional else hidden_size,\n",
    "                        dropout_p=0.2, n_layers=2,use_attention=None, bidirectional=bidirectional,\n",
    "                        eos_id=tgt.eos_id, sos_id=tgt.sos_id)\n",
    "    seq2seq = Seq2seq(encoder, decoder)\n",
    "    if torch.cuda.is_available():\n",
    "        seq2seq.cuda()\n",
    "\n",
    "    for param in seq2seq.parameters():\n",
    "        param.data.uniform_(-0.08, 0.08)\n",
    "\n",
    "    # train\n",
    "    t = SupervisedTrainer(loss=loss, batch_size=32,\n",
    "                        checkpoint_every=50,\n",
    "                        print_every=100,\n",
    "                        hidden_size=hidden_size,\n",
    "                        fig_path=\"log/plot/no_att_two_layer\")\n",
    "\n",
    "    seq2seq, ave_loss, character_accuracy = t.train(seq2seq, train,\n",
    "                                                    num_epochs=50, dev_data=dev,\n",
    "                                                    optimizer=optimizer,\n",
    "                                                    teacher_forcing_ratio=0.5)\n",
    "\n",
    "    losses.append(ave_loss/100)\n",
    "    error_rate.append(1 - character_accuracy)\n",
    "    accuracy.append(character_accuracy)"
   ]
  },
  {
   "cell_type": "code",
   "execution_count": 8,
   "metadata": {},
   "outputs": [],
   "source": [
    "torch.save(seq2seq.state_dict(), 'log/no_att_two_layer_model_save.pth')"
   ]
  }
 ],
 "metadata": {
  "kernelspec": {
   "display_name": "Python 3",
   "language": "python",
   "name": "python3"
  },
  "language_info": {
   "codemirror_mode": {
    "name": "ipython",
    "version": 3
   },
   "file_extension": ".py",
   "mimetype": "text/x-python",
   "name": "python",
   "nbconvert_exporter": "python",
   "pygments_lexer": "ipython3",
   "version": "3.5.2"
  }
 },
 "nbformat": 4,
 "nbformat_minor": 2
}
