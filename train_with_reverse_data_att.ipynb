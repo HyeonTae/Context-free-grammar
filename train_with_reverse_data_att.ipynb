{
 "cells": [
  {
   "cell_type": "markdown",
   "metadata": {},
   "source": [
    "# Set Parameter\n",
    "- Attention = Luong\n",
    "- Drop out = 0.2\n",
    "- Teacher Forcing Ratio = 0.5\n",
    "- Layer = 1\n",
    "- Hidden unit = 50\n",
    "- Batch size = 32\n",
    "- Epochs = 50"
   ]
  },
  {
   "cell_type": "markdown",
   "metadata": {},
   "source": [
    "# Import packages\n",
    "\n",
    "import useful packages for experiments"
   ]
  },
  {
   "cell_type": "code",
   "execution_count": 1,
   "metadata": {},
   "outputs": [
    {
     "name": "stderr",
     "output_type": "stream",
     "text": [
      "/home/hyeontae/hyeontae/venv/lib/python3.5/site-packages/torch/nn/functional.py:52: UserWarning: size_average and reduce args will be deprecated, please use reduction='elementwise_mean' instead.\n",
      "  warnings.warn(warning.format(ret))\n",
      "/home/hyeontae/hyeontae/venv/lib/python3.5/site-packages/torch/nn/functional.py:52: UserWarning: size_average and reduce args will be deprecated, please use reduction='elementwise_mean' instead.\n",
      "  warnings.warn(warning.format(ret))\n"
     ]
    }
   ],
   "source": [
    "import os\n",
    "import argparse\n",
    "import logging\n",
    "\n",
    "import torch\n",
    "from torch.optim.lr_scheduler import StepLR\n",
    "import torchtext\n",
    "\n",
    "from trainer.supervised_trainer import SupervisedTrainer\n",
    "from models.encoderRNN import EncoderRNN\n",
    "from models.decoderRNN import DecoderRNN\n",
    "from models.seq2seq import Seq2seq\n",
    "from loss.loss import Perplexity\n",
    "from optim.optim import Optimizer\n",
    "from dataset import fields\n",
    "from evaluator.predictor import Predictor\n",
    "\n",
    "import matplotlib.pyplot as plt"
   ]
  },
  {
   "cell_type": "markdown",
   "metadata": {},
   "source": [
    "# Data load"
   ]
  },
  {
   "cell_type": "code",
   "execution_count": 2,
   "metadata": {},
   "outputs": [],
   "source": [
    "train_path = \"reverse_data/data_train.txt\"\n",
    "dev_path = \"reverse_data/data_test.txt\"\n",
    "log_level = 'info'"
   ]
  },
  {
   "cell_type": "markdown",
   "metadata": {},
   "source": [
    "# Log format"
   ]
  },
  {
   "cell_type": "code",
   "execution_count": 3,
   "metadata": {},
   "outputs": [],
   "source": [
    "LOG_FORMAT = '%(asctime)s %(levelname)-6s %(message)s'\n",
    "logging.basicConfig(format=LOG_FORMAT, level=getattr(logging, log_level.upper()))"
   ]
  },
  {
   "cell_type": "markdown",
   "metadata": {},
   "source": [
    "# Prepare dataset"
   ]
  },
  {
   "cell_type": "code",
   "execution_count": 4,
   "metadata": {},
   "outputs": [],
   "source": [
    "src = fields.SourceField()\n",
    "tgt = fields.TargetField()\n",
    "max_len = 102\n",
    "def len_filter(example):\n",
    "    return len(example.src) <= max_len and len(example.tgt) <= max_len\n",
    "train = torchtext.data.TabularDataset(\n",
    "    path=train_path, format='tsv',\n",
    "    fields=[('src', src), ('tgt', tgt)],\n",
    "    filter_pred=len_filter\n",
    ")\n",
    "dev = torchtext.data.TabularDataset(\n",
    "    path=dev_path, format='tsv',\n",
    "    fields=[('src', src), ('tgt', tgt)],\n",
    "    filter_pred=len_filter\n",
    ")\n",
    "src.build_vocab(train)\n",
    "tgt.build_vocab(train)\n",
    "input_vocab = src.vocab\n",
    "output_vocab = tgt.vocab"
   ]
  },
  {
   "cell_type": "markdown",
   "metadata": {},
   "source": [
    "# Prepare loss"
   ]
  },
  {
   "cell_type": "code",
   "execution_count": 5,
   "metadata": {},
   "outputs": [
    {
     "name": "stderr",
     "output_type": "stream",
     "text": [
      "/home/hyeontae/hyeontae/venv/lib/python3.5/site-packages/torch/nn/functional.py:52: UserWarning: size_average and reduce args will be deprecated, please use reduction='sum' instead.\n",
      "  warnings.warn(warning.format(ret))\n"
     ]
    }
   ],
   "source": [
    "weight = torch.ones(len(tgt.vocab))\n",
    "pad = tgt.vocab.stoi[tgt.pad_token]\n",
    "loss = Perplexity(weight, pad)\n",
    "if torch.cuda.is_available():\n",
    "    loss.cuda()"
   ]
  },
  {
   "cell_type": "markdown",
   "metadata": {},
   "source": [
    "# Variable definition"
   ]
  },
  {
   "cell_type": "code",
   "execution_count": 6,
   "metadata": {},
   "outputs": [
    {
     "name": "stdout",
     "output_type": "stream",
     "text": [
      "[50]\n"
     ]
    }
   ],
   "source": [
    "seq2seq = None\n",
    "optimizer = \"Adam\"\n",
    "\n",
    "hidden_sizes = list(range(50, 51, 4))\n",
    "print(hidden_sizes)\n",
    "error_rate = []\n",
    "accuracy = []\n",
    "losses = []"
   ]
  },
  {
   "cell_type": "markdown",
   "metadata": {},
   "source": [
    "# Initialize model"
   ]
  },
  {
   "cell_type": "code",
   "execution_count": 7,
   "metadata": {},
   "outputs": [
    {
     "name": "stderr",
     "output_type": "stream",
     "text": [
      "/home/hyeontae/hyeontae/venv/lib/python3.5/site-packages/torch/nn/modules/rnn.py:38: UserWarning: dropout option adds dropout after all but last recurrent layer, so non-zero dropout expects num_layers greater than 1, but got dropout=0.2 and num_layers=1\n",
      "  \"num_layers={}\".format(dropout, num_layers))\n",
      "2019-02-19 16:03:36,896 INFO   Optimizer: Adam (\n",
      "Parameter Group 0\n",
      "    amsgrad: False\n",
      "    betas: (0.9, 0.999)\n",
      "    eps: 1e-08\n",
      "    lr: 0.001\n",
      "    weight_decay: 0\n",
      "), Scheduler: None\n"
     ]
    },
    {
     "name": "stdout",
     "output_type": "stream",
     "text": [
      "Hidden size is 50\n"
     ]
    },
    {
     "name": "stderr",
     "output_type": "stream",
     "text": [
      "/home/hyeontae/hyeontae/venv/lib/python3.5/site-packages/torch/nn/functional.py:995: UserWarning: nn.functional.tanh is deprecated. Use torch.tanh instead.\n",
      "  warnings.warn(\"nn.functional.tanh is deprecated. Use torch.tanh instead.\")\n",
      "2019-02-19 16:05:16,225 INFO   Finished epoch 1: Train loss: 6.9393, Dev loss: 2.2902, Accuracy(Character): 0.8885, Accuracy(Word): 0.0000\n",
      "2019-02-19 16:07:07,626 INFO   Finished epoch 2: Train loss: 3.2024, Dev loss: 1.8039, Accuracy(Character): 0.9441, Accuracy(Word): 0.0000\n",
      "2019-02-19 16:08:58,496 INFO   Finished epoch 3: Train loss: 2.8245, Dev loss: 1.3109, Accuracy(Character): 0.9903, Accuracy(Word): 0.0000\n",
      "2019-02-19 16:10:49,175 INFO   Finished epoch 4: Train loss: 6.8619, Dev loss: 1.3021, Accuracy(Character): 0.9973, Accuracy(Word): 0.0000\n",
      "2019-02-19 16:12:40,105 INFO   Finished epoch 5: Train loss: 22.5116, Dev loss: 1.0821, Accuracy(Character): 0.9984, Accuracy(Word): 0.0000\n",
      "2019-02-19 16:14:29,802 INFO   Finished epoch 6: Train loss: 17.5255, Dev loss: 1.1179, Accuracy(Character): 0.9977, Accuracy(Word): 0.0000\n",
      "2019-02-19 16:16:20,809 INFO   Finished epoch 7: Train loss: 12.4507, Dev loss: 2.0741, Accuracy(Character): 0.9867, Accuracy(Word): 0.0000\n",
      "2019-02-19 16:18:11,123 INFO   Finished epoch 8: Train loss: 13.1991, Dev loss: 1.4067, Accuracy(Character): 0.9889, Accuracy(Word): 0.0000\n",
      "2019-02-19 16:20:03,221 INFO   Finished epoch 9: Train loss: 19.0660, Dev loss: 1.5176, Accuracy(Character): 0.9951, Accuracy(Word): 0.0000\n",
      "2019-02-19 16:21:54,798 INFO   Finished epoch 10: Train loss: 17.2073, Dev loss: 11.6954, Accuracy(Character): 0.9162, Accuracy(Word): 0.0000\n",
      "2019-02-19 16:23:45,657 INFO   Finished epoch 11: Train loss: 9.5889, Dev loss: 1.0587, Accuracy(Character): 0.9996, Accuracy(Word): 0.0001\n",
      "2019-02-19 16:25:36,006 INFO   Finished epoch 12: Train loss: 15.9834, Dev loss: 1.2874, Accuracy(Character): 0.9984, Accuracy(Word): 0.0001\n",
      "2019-02-19 16:27:25,856 INFO   Finished epoch 13: Train loss: 20.8395, Dev loss: 1.0624, Accuracy(Character): 0.9999, Accuracy(Word): 0.9724\n",
      "2019-02-19 16:29:15,710 INFO   Finished epoch 14: Train loss: 13.7980, Dev loss: 8.1793, Accuracy(Character): 0.9619, Accuracy(Word): 0.7265\n",
      "2019-02-19 16:31:06,433 INFO   Finished epoch 15: Train loss: 18.8215, Dev loss: 1.1499, Accuracy(Character): 0.9994, Accuracy(Word): 0.0000\n",
      "2019-02-19 16:32:57,790 INFO   Finished epoch 16: Train loss: 8.9771, Dev loss: 1.0679, Accuracy(Character): 0.9998, Accuracy(Word): 0.9724\n",
      "2019-02-19 16:34:47,231 INFO   Finished epoch 17: Train loss: 12.4410, Dev loss: 1.0162, Accuracy(Character): 1.0000, Accuracy(Word): 0.9801\n",
      "2019-02-19 16:36:36,838 INFO   Finished epoch 18: Train loss: 7.7975, Dev loss: 1.1462, Accuracy(Character): 0.9988, Accuracy(Word): 0.9458\n",
      "2019-02-19 16:38:29,453 INFO   Finished epoch 19: Train loss: 12.8127, Dev loss: 1.0701, Accuracy(Character): 0.9998, Accuracy(Word): 0.9801\n",
      "2019-02-19 16:40:20,041 INFO   Finished epoch 20: Train loss: 17.0084, Dev loss: 1.0324, Accuracy(Character): 0.9999, Accuracy(Word): 0.9801\n",
      "2019-02-19 16:42:10,938 INFO   Finished epoch 21: Train loss: 9.4114, Dev loss: 1.0214, Accuracy(Character): 1.0000, Accuracy(Word): 0.9801\n",
      "2019-02-19 16:44:03,124 INFO   Finished epoch 22: Train loss: 2.7112, Dev loss: 1.0303, Accuracy(Character): 0.9999, Accuracy(Word): 0.9724\n",
      "2019-02-19 16:45:54,303 INFO   Finished epoch 23: Train loss: 10.5487, Dev loss: 1.0676, Accuracy(Character): 0.9996, Accuracy(Word): 0.0001\n",
      "2019-02-19 16:47:46,227 INFO   Finished epoch 24: Train loss: 4.8970, Dev loss: 1.1126, Accuracy(Character): 0.9995, Accuracy(Word): 0.0000\n",
      "2019-02-19 16:49:37,395 INFO   Finished epoch 25: Train loss: 1.1650, Dev loss: 1.0344, Accuracy(Character): 0.9999, Accuracy(Word): 0.9801\n",
      "2019-02-19 16:51:28,880 INFO   Finished epoch 26: Train loss: 8.3289, Dev loss: 1.0036, Accuracy(Character): 1.0000, Accuracy(Word): 0.9859\n",
      "2019-02-19 16:53:21,009 INFO   Finished epoch 27: Train loss: 12.6952, Dev loss: 1.0242, Accuracy(Character): 0.9999, Accuracy(Word): 0.9801\n",
      "2019-02-19 16:55:12,107 INFO   Finished epoch 28: Train loss: 9.6660, Dev loss: 1.0070, Accuracy(Character): 1.0000, Accuracy(Word): 0.9859\n",
      "2019-02-19 16:57:02,056 INFO   Finished epoch 29: Train loss: 1.7923, Dev loss: 1.1109, Accuracy(Character): 0.9914, Accuracy(Word): 0.0003\n",
      "2019-02-19 16:58:53,853 INFO   Finished epoch 30: Train loss: 3.8358, Dev loss: 1.2298, Accuracy(Character): 0.9993, Accuracy(Word): 0.9618\n",
      "2019-02-19 17:00:45,375 INFO   Finished epoch 31: Train loss: 6.2574, Dev loss: 1.0092, Accuracy(Character): 1.0000, Accuracy(Word): 0.0000\n",
      "2019-02-19 17:02:36,726 INFO   Finished epoch 32: Train loss: 3.0115, Dev loss: 1.0081, Accuracy(Character): 1.0000, Accuracy(Word): 0.9895\n",
      "2019-02-19 17:04:28,965 INFO   Finished epoch 33: Train loss: 5.5384, Dev loss: 1.1290, Accuracy(Character): 0.9996, Accuracy(Word): 0.9724\n",
      "2019-02-19 17:06:19,751 INFO   Finished epoch 34: Train loss: 1.5362, Dev loss: 1.0107, Accuracy(Character): 1.0000, Accuracy(Word): 0.9859\n",
      "2019-02-19 17:08:09,757 INFO   Finished epoch 35: Train loss: 2.4085, Dev loss: 1.0530, Accuracy(Character): 0.9999, Accuracy(Word): 0.0000\n",
      "2019-02-19 17:10:03,678 INFO   Finished epoch 36: Train loss: 2.7963, Dev loss: 1.0053, Accuracy(Character): 1.0000, Accuracy(Word): 0.0000\n",
      "2019-02-19 17:11:57,428 INFO   Finished epoch 37: Train loss: 3.3973, Dev loss: 1.0440, Accuracy(Character): 0.9999, Accuracy(Word): 0.9801\n",
      "2019-02-19 17:13:49,517 INFO   Finished epoch 38: Train loss: 5.9837, Dev loss: 1.0176, Accuracy(Character): 1.0000, Accuracy(Word): 0.9859\n",
      "2019-02-19 17:15:41,024 INFO   Finished epoch 39: Train loss: 1.0227, Dev loss: 1.0156, Accuracy(Character): 0.9998, Accuracy(Word): 0.0001\n",
      "2019-02-19 17:17:32,885 INFO   Finished epoch 40: Train loss: 1.0178, Dev loss: 1.0122, Accuracy(Character): 1.0000, Accuracy(Word): 0.9859\n",
      "2019-02-19 17:19:26,875 INFO   Finished epoch 41: Train loss: 1.4915, Dev loss: 1.0067, Accuracy(Character): 1.0000, Accuracy(Word): 0.9946\n",
      "2019-02-19 17:21:21,811 INFO   Finished epoch 42: Train loss: 1.0077, Dev loss: 1.0142, Accuracy(Character): 1.0000, Accuracy(Word): 0.9859\n",
      "2019-02-19 17:23:14,134 INFO   Finished epoch 43: Train loss: 1.0473, Dev loss: 1.0092, Accuracy(Character): 1.0000, Accuracy(Word): 0.9859\n",
      "2019-02-19 17:25:00,356 INFO   Finished epoch 44: Train loss: 3.1322, Dev loss: 1.0015, Accuracy(Character): 1.0000, Accuracy(Word): 0.9618\n",
      "2019-02-19 17:26:31,599 INFO   Finished epoch 45: Train loss: 6.3489, Dev loss: 1.0049, Accuracy(Character): 1.0000, Accuracy(Word): 0.9859\n",
      "2019-02-19 17:28:02,051 INFO   Finished epoch 46: Train loss: 1.4186, Dev loss: 1.0123, Accuracy(Character): 1.0000, Accuracy(Word): 0.9933\n",
      "2019-02-19 17:29:31,295 INFO   Finished epoch 47: Train loss: 1.2023, Dev loss: 1.0056, Accuracy(Character): 1.0000, Accuracy(Word): 0.9959\n",
      "2019-02-19 17:31:01,764 INFO   Finished epoch 48: Train loss: 5.7242, Dev loss: 1.0437, Accuracy(Character): 0.9999, Accuracy(Word): 0.9859\n",
      "2019-02-19 17:32:32,560 INFO   Finished epoch 49: Train loss: 7.6630, Dev loss: 1.0453, Accuracy(Character): 0.9999, Accuracy(Word): 0.9861\n",
      "2019-02-19 17:34:04,312 INFO   Finished epoch 50: Train loss: 18.1592, Dev loss: 1.0096, Accuracy(Character): 1.0000, Accuracy(Word): 0.9933\n"
     ]
    },
    {
     "data": {
      "image/png": "[encoded data removed]",
      "text/plain": [
       "<Figure size 432x288 with 1 Axes>"
      ]
     },
     "metadata": {
      "needs_background": "light"
     },
     "output_type": "display_data"
    },
    {
     "data": {
      "image/png": "[encoded data removed]",
      "text/plain": [
       "<Figure size 432x288 with 1 Axes>"
      ]
     },
     "metadata": {
      "needs_background": "light"
     },
     "output_type": "display_data"
    }
   ],
   "source": [
    "for i in hidden_sizes:\n",
    "    print(\"Hidden size is %d\" % i)\n",
    "    hidden_size = i\n",
    "    bidirectional = True\n",
    "    encoder = EncoderRNN(len(src.vocab), max_len, hidden_size,\n",
    "                        bidirectional=bidirectional, variable_lengths=True)\n",
    "    decoder = DecoderRNN(len(tgt.vocab), max_len, hidden_size * 2 if bidirectional else hidden_size,\n",
    "                        dropout_p=0.2, use_attention=\"Luong\", bidirectional=bidirectional,\n",
    "                        eos_id=tgt.eos_id, sos_id=tgt.sos_id)\n",
    "    seq2seq = Seq2seq(encoder, decoder)\n",
    "    if torch.cuda.is_available():\n",
    "        seq2seq.cuda()\n",
    "\n",
    "    for param in seq2seq.parameters():\n",
    "        param.data.uniform_(-0.08, 0.08)\n",
    "\n",
    "    # train\n",
    "    t = SupervisedTrainer(loss=loss, batch_size=32,\n",
    "                        checkpoint_every=50,\n",
    "                        print_every=100,\n",
    "                        hidden_size=hidden_size,\n",
    "                        fig_path=\"log/plot/reverse_att\")\n",
    "\n",
    "    seq2seq, ave_loss, character_accuracy = t.train(seq2seq, train,\n",
    "                                                    num_epochs=50, dev_data=dev,\n",
    "                                                    optimizer=optimizer,\n",
    "                                                    teacher_forcing_ratio=0.5)\n",
    "\n",
    "    losses.append(ave_loss/100)\n",
    "    error_rate.append(1 - character_accuracy)\n",
    "    accuracy.append(character_accuracy)"
   ]
  },
  {
   "cell_type": "code",
   "execution_count": 8,
   "metadata": {},
   "outputs": [],
   "source": [
    "torch.save(seq2seq.state_dict(), 'log/reverse_att_model_save.pth')"
   ]
  }
 ],
 "metadata": {
  "kernelspec": {
   "display_name": "Python 3",
   "language": "python",
   "name": "python3"
  },
  "language_info": {
   "codemirror_mode": {
    "name": "ipython",
    "version": 3
   },
   "file_extension": ".py",
   "mimetype": "text/x-python",
   "name": "python",
   "nbconvert_exporter": "python",
   "pygments_lexer": "ipython3",
   "version": "3.5.2"
  }
 },
 "nbformat": 4,
 "nbformat_minor": 2
}
