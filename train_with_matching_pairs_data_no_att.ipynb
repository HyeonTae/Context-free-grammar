{
 "cells": [
  {
   "cell_type": "markdown",
   "metadata": {},
   "source": [
    "# Set Parameter\n",
    "- Attention = None\n",
    "- Drop out = 0.2\n",
    "- Teacher Forcing Ratio = 0.5\n",
    "- Layer = 1\n",
    "- Hidden unit = 50\n",
    "- Batch size = 32\n",
    "- Epochs = 50"
   ]
  },
  {
   "cell_type": "markdown",
   "metadata": {},
   "source": [
    "# Import packages\n",
    "\n",
    "import useful packages for experiments"
   ]
  },
  {
   "cell_type": "code",
   "execution_count": 1,
   "metadata": {},
   "outputs": [
    {
     "name": "stderr",
     "output_type": "stream",
     "text": [
      "/home/hyeontae/hyeontae/venv/lib/python3.5/site-packages/torch/nn/functional.py:52: UserWarning: size_average and reduce args will be deprecated, please use reduction='elementwise_mean' instead.\n",
      "  warnings.warn(warning.format(ret))\n",
      "/home/hyeontae/hyeontae/venv/lib/python3.5/site-packages/torch/nn/functional.py:52: UserWarning: size_average and reduce args will be deprecated, please use reduction='elementwise_mean' instead.\n",
      "  warnings.warn(warning.format(ret))\n"
     ]
    }
   ],
   "source": [
    "import os\n",
    "import argparse\n",
    "import logging\n",
    "\n",
    "import torch\n",
    "from torch.optim.lr_scheduler import StepLR\n",
    "import torchtext\n",
    "\n",
    "from trainer.supervised_trainer import SupervisedTrainer\n",
    "from models.encoderRNN import EncoderRNN\n",
    "from models.decoderRNN import DecoderRNN\n",
    "from models.seq2seq import Seq2seq\n",
    "from loss.loss import Perplexity\n",
    "from optim.optim import Optimizer\n",
    "from dataset import fields\n",
    "from evaluator.predictor import Predictor\n",
    "\n",
    "import matplotlib.pyplot as plt"
   ]
  },
  {
   "cell_type": "markdown",
   "metadata": {},
   "source": [
    "# Data load"
   ]
  },
  {
   "cell_type": "code",
   "execution_count": 2,
   "metadata": {},
   "outputs": [],
   "source": [
    "train_path = \"matching_pairs_data/data_train.txt\"\n",
    "dev_path = \"matching_pairs_data/data_test.txt\"\n",
    "log_level = 'info'"
   ]
  },
  {
   "cell_type": "markdown",
   "metadata": {},
   "source": [
    "# Log format"
   ]
  },
  {
   "cell_type": "code",
   "execution_count": 3,
   "metadata": {},
   "outputs": [],
   "source": [
    "LOG_FORMAT = '%(asctime)s %(levelname)-6s %(message)s'\n",
    "logging.basicConfig(format=LOG_FORMAT, level=getattr(logging, log_level.upper()))"
   ]
  },
  {
   "cell_type": "markdown",
   "metadata": {},
   "source": [
    "# Prepare dataset"
   ]
  },
  {
   "cell_type": "code",
   "execution_count": 4,
   "metadata": {},
   "outputs": [],
   "source": [
    "src = fields.SourceField()\n",
    "tgt = fields.TargetField()\n",
    "max_len = 202\n",
    "def len_filter(example):\n",
    "    return len(example.src) <= max_len and len(example.tgt) <= max_len\n",
    "train = torchtext.data.TabularDataset(\n",
    "    path=train_path, format='tsv',\n",
    "    fields=[('src', src), ('tgt', tgt)],\n",
    "    filter_pred=len_filter\n",
    ")\n",
    "dev = torchtext.data.TabularDataset(\n",
    "    path=dev_path, format='tsv',\n",
    "    fields=[('src', src), ('tgt', tgt)],\n",
    "    filter_pred=len_filter\n",
    ")\n",
    "src.build_vocab(train)\n",
    "tgt.build_vocab(train)\n",
    "input_vocab = src.vocab\n",
    "output_vocab = tgt.vocab"
   ]
  },
  {
   "cell_type": "markdown",
   "metadata": {},
   "source": [
    "# Prepare loss"
   ]
  },
  {
   "cell_type": "code",
   "execution_count": 5,
   "metadata": {},
   "outputs": [
    {
     "name": "stderr",
     "output_type": "stream",
     "text": [
      "/home/hyeontae/hyeontae/venv/lib/python3.5/site-packages/torch/nn/functional.py:52: UserWarning: size_average and reduce args will be deprecated, please use reduction='sum' instead.\n",
      "  warnings.warn(warning.format(ret))\n"
     ]
    }
   ],
   "source": [
    "weight = torch.ones(len(tgt.vocab))\n",
    "pad = tgt.vocab.stoi[tgt.pad_token]\n",
    "loss = Perplexity(weight, pad)\n",
    "if torch.cuda.is_available():\n",
    "    loss.cuda()"
   ]
  },
  {
   "cell_type": "markdown",
   "metadata": {},
   "source": [
    "# Variable definition"
   ]
  },
  {
   "cell_type": "code",
   "execution_count": 6,
   "metadata": {},
   "outputs": [
    {
     "name": "stdout",
     "output_type": "stream",
     "text": [
      "[50]\n"
     ]
    }
   ],
   "source": [
    "seq2seq = None\n",
    "optimizer = \"Adam\"\n",
    "\n",
    "hidden_sizes = list(range(50, 51, 4))\n",
    "print(hidden_sizes)\n",
    "error_rate = []\n",
    "accuracy = []\n",
    "losses = []"
   ]
  },
  {
   "cell_type": "markdown",
   "metadata": {},
   "source": [
    "# Initialize model"
   ]
  },
  {
   "cell_type": "code",
   "execution_count": 7,
   "metadata": {},
   "outputs": [
    {
     "name": "stderr",
     "output_type": "stream",
     "text": [
      "/home/hyeontae/hyeontae/venv/lib/python3.5/site-packages/torch/nn/modules/rnn.py:38: UserWarning: dropout option adds dropout after all but last recurrent layer, so non-zero dropout expects num_layers greater than 1, but got dropout=0.2 and num_layers=1\n",
      "  \"num_layers={}\".format(dropout, num_layers))\n",
      "2019-02-20 10:45:46,268 INFO   Optimizer: Adam (\n",
      "Parameter Group 0\n",
      "    amsgrad: False\n",
      "    betas: (0.9, 0.999)\n",
      "    eps: 1e-08\n",
      "    lr: 0.001\n",
      "    weight_decay: 0\n",
      "), Scheduler: None\n"
     ]
    },
    {
     "name": "stdout",
     "output_type": "stream",
     "text": [
      "Hidden size is 50\n"
     ]
    },
    {
     "name": "stderr",
     "output_type": "stream",
     "text": [
      "2019-02-20 10:48:02,014 INFO   Finished epoch 1: Train loss: 6.4959, Dev loss: 5.2770, Accuracy(Character): 0.4185, Accuracy(Word): 0.0000\n",
      "2019-02-20 10:50:16,434 INFO   Finished epoch 2: Train loss: 3.4752, Dev loss: 8.9551, Accuracy(Character): 0.4874, Accuracy(Word): 0.0000\n",
      "2019-02-20 10:52:32,199 INFO   Finished epoch 3: Train loss: 2.9729, Dev loss: 3.6830, Accuracy(Character): 0.5725, Accuracy(Word): 0.0000\n",
      "2019-02-20 10:54:45,699 INFO   Finished epoch 4: Train loss: 2.6134, Dev loss: 3.5072, Accuracy(Character): 0.6033, Accuracy(Word): 0.0001\n",
      "2019-02-20 10:57:00,139 INFO   Finished epoch 5: Train loss: 2.3342, Dev loss: 2.9830, Accuracy(Character): 0.6345, Accuracy(Word): 0.0001\n",
      "2019-02-20 10:59:14,349 INFO   Finished epoch 6: Train loss: 2.1781, Dev loss: 2.7261, Accuracy(Character): 0.6902, Accuracy(Word): 0.0000\n",
      "2019-02-20 11:01:28,184 INFO   Finished epoch 7: Train loss: 2.0625, Dev loss: 2.7065, Accuracy(Character): 0.7101, Accuracy(Word): 0.0001\n",
      "2019-02-20 11:03:42,841 INFO   Finished epoch 8: Train loss: 1.9782, Dev loss: 2.7166, Accuracy(Character): 0.7220, Accuracy(Word): 0.0000\n",
      "2019-02-20 11:05:58,171 INFO   Finished epoch 9: Train loss: 1.7964, Dev loss: 2.3670, Accuracy(Character): 0.7806, Accuracy(Word): 0.0000\n",
      "2019-02-20 11:08:12,884 INFO   Finished epoch 10: Train loss: 1.7272, Dev loss: 2.2900, Accuracy(Character): 0.7957, Accuracy(Word): 0.0000\n",
      "2019-02-20 11:10:27,008 INFO   Finished epoch 11: Train loss: 1.5978, Dev loss: 2.1223, Accuracy(Character): 0.8379, Accuracy(Word): 0.0000\n",
      "2019-02-20 11:12:41,707 INFO   Finished epoch 12: Train loss: 1.5632, Dev loss: 1.8216, Accuracy(Character): 0.8700, Accuracy(Word): 0.0000\n",
      "2019-02-20 11:16:05,490 INFO   Finished epoch 13: Train loss: 1.4784, Dev loss: 1.7707, Accuracy(Character): 0.8803, Accuracy(Word): 0.0000\n",
      "2019-02-20 11:20:49,817 INFO   Finished epoch 14: Train loss: 1.4419, Dev loss: 1.7091, Accuracy(Character): 0.8882, Accuracy(Word): 0.0000\n",
      "2019-02-20 11:25:08,532 INFO   Finished epoch 15: Train loss: 1.4292, Dev loss: 1.6656, Accuracy(Character): 0.8988, Accuracy(Word): 0.0000\n",
      "2019-02-20 11:29:38,651 INFO   Finished epoch 16: Train loss: 1.4007, Dev loss: 1.6597, Accuracy(Character): 0.9089, Accuracy(Word): 0.0000\n",
      "2019-02-20 11:34:09,281 INFO   Finished epoch 17: Train loss: 1.3982, Dev loss: 1.6699, Accuracy(Character): 0.9171, Accuracy(Word): 0.0000\n",
      "2019-02-20 11:38:30,222 INFO   Finished epoch 18: Train loss: 1.3777, Dev loss: 1.5992, Accuracy(Character): 0.9183, Accuracy(Word): 0.0000\n",
      "2019-02-20 11:43:06,575 INFO   Finished epoch 19: Train loss: 1.3306, Dev loss: 1.5727, Accuracy(Character): 0.9243, Accuracy(Word): 0.0000\n",
      "2019-02-20 11:47:29,203 INFO   Finished epoch 20: Train loss: 1.3380, Dev loss: 1.6674, Accuracy(Character): 0.9189, Accuracy(Word): 0.0000\n",
      "2019-02-20 11:52:14,556 INFO   Finished epoch 21: Train loss: 1.3233, Dev loss: 1.5939, Accuracy(Character): 0.9157, Accuracy(Word): 0.0000\n",
      "2019-02-20 11:56:30,345 INFO   Finished epoch 22: Train loss: 1.2989, Dev loss: 1.5217, Accuracy(Character): 0.9235, Accuracy(Word): 0.0000\n",
      "2019-02-20 12:01:09,625 INFO   Finished epoch 23: Train loss: 1.2738, Dev loss: 1.5462, Accuracy(Character): 0.9338, Accuracy(Word): 0.0000\n",
      "2019-02-20 12:05:46,803 INFO   Finished epoch 24: Train loss: 1.2500, Dev loss: 1.4507, Accuracy(Character): 0.9382, Accuracy(Word): 0.0000\n",
      "2019-02-20 12:10:04,977 INFO   Finished epoch 25: Train loss: 1.2549, Dev loss: 1.4160, Accuracy(Character): 0.9465, Accuracy(Word): 0.0000\n",
      "2019-02-20 12:14:35,754 INFO   Finished epoch 26: Train loss: 1.2279, Dev loss: 1.4070, Accuracy(Character): 0.9465, Accuracy(Word): 0.0000\n",
      "2019-02-20 12:18:57,821 INFO   Finished epoch 27: Train loss: 1.2061, Dev loss: 1.3789, Accuracy(Character): 0.9535, Accuracy(Word): 0.0000\n",
      "2019-02-20 12:23:34,098 INFO   Finished epoch 28: Train loss: 1.1998, Dev loss: 1.3623, Accuracy(Character): 0.9590, Accuracy(Word): 0.0000\n",
      "2019-02-20 12:27:46,972 INFO   Finished epoch 29: Train loss: 1.1786, Dev loss: 1.3425, Accuracy(Character): 0.9614, Accuracy(Word): 0.0000\n",
      "2019-02-20 12:32:35,248 INFO   Finished epoch 30: Train loss: 1.1722, Dev loss: 1.3194, Accuracy(Character): 0.9652, Accuracy(Word): 0.0000\n",
      "2019-02-20 12:37:06,440 INFO   Finished epoch 31: Train loss: 1.1737, Dev loss: 1.3269, Accuracy(Character): 0.9650, Accuracy(Word): 0.0000\n",
      "2019-02-20 12:41:30,266 INFO   Finished epoch 32: Train loss: 1.1717, Dev loss: 1.9134, Accuracy(Character): 0.9289, Accuracy(Word): 0.0000\n",
      "2019-02-20 12:46:06,759 INFO   Finished epoch 33: Train loss: 1.1488, Dev loss: 1.3522, Accuracy(Character): 0.9652, Accuracy(Word): 0.0000\n",
      "2019-02-20 12:50:33,996 INFO   Finished epoch 34: Train loss: 1.1458, Dev loss: 1.2723, Accuracy(Character): 0.9717, Accuracy(Word): 0.0000\n",
      "2019-02-20 12:55:10,606 INFO   Finished epoch 35: Train loss: 1.1478, Dev loss: 1.2468, Accuracy(Character): 0.9751, Accuracy(Word): 0.0000\n",
      "2019-02-20 12:59:24,325 INFO   Finished epoch 36: Train loss: 1.1447, Dev loss: 1.2326, Accuracy(Character): 0.9769, Accuracy(Word): 0.0000\n",
      "2019-02-20 13:04:05,489 INFO   Finished epoch 37: Train loss: 1.1276, Dev loss: 1.2335, Accuracy(Character): 0.9779, Accuracy(Word): 0.0000\n",
      "2019-02-20 13:08:23,244 INFO   Finished epoch 38: Train loss: 1.1316, Dev loss: 1.2314, Accuracy(Character): 0.9779, Accuracy(Word): 0.0000\n",
      "2019-02-20 13:12:55,674 INFO   Finished epoch 39: Train loss: 1.1149, Dev loss: 1.2838, Accuracy(Character): 0.9739, Accuracy(Word): 0.0000\n",
      "2019-02-20 13:17:26,819 INFO   Finished epoch 40: Train loss: 1.1260, Dev loss: 1.2433, Accuracy(Character): 0.9788, Accuracy(Word): 0.0000\n",
      "2019-02-20 13:21:58,290 INFO   Finished epoch 41: Train loss: 1.1080, Dev loss: 1.2393, Accuracy(Character): 0.9800, Accuracy(Word): 0.0000\n",
      "2019-02-20 13:26:30,329 INFO   Finished epoch 42: Train loss: 1.1082, Dev loss: 1.2303, Accuracy(Character): 0.9811, Accuracy(Word): 0.0000\n",
      "2019-02-20 13:30:50,859 INFO   Finished epoch 43: Train loss: 1.0973, Dev loss: 1.2485, Accuracy(Character): 0.9801, Accuracy(Word): 0.0000\n",
      "2019-02-20 13:35:36,727 INFO   Finished epoch 44: Train loss: 1.1072, Dev loss: 1.2161, Accuracy(Character): 0.9802, Accuracy(Word): 0.0000\n",
      "2019-02-20 13:39:53,355 INFO   Finished epoch 45: Train loss: 1.1046, Dev loss: 1.2337, Accuracy(Character): 0.9801, Accuracy(Word): 0.0000\n",
      "2019-02-20 13:44:26,635 INFO   Finished epoch 46: Train loss: 1.1050, Dev loss: 1.1985, Accuracy(Character): 0.9836, Accuracy(Word): 0.0000\n",
      "2019-02-20 13:48:50,308 INFO   Finished epoch 47: Train loss: 1.1492, Dev loss: 1.3181, Accuracy(Character): 0.9683, Accuracy(Word): 0.0000\n",
      "2019-02-20 13:53:24,898 INFO   Finished epoch 48: Train loss: 1.1511, Dev loss: 1.2781, Accuracy(Character): 0.9730, Accuracy(Word): 0.0000\n",
      "2019-02-20 13:57:50,295 INFO   Finished epoch 49: Train loss: 1.1429, Dev loss: 1.2555, Accuracy(Character): 0.9757, Accuracy(Word): 0.0000\n",
      "2019-02-20 14:02:18,877 INFO   Finished epoch 50: Train loss: 1.1274, Dev loss: 1.2421, Accuracy(Character): 0.9751, Accuracy(Word): 0.0000\n"
     ]
    },
    {
     "data": {
      "image/png": "[encoded data removed]",
      "text/plain": [
       "<Figure size 432x288 with 1 Axes>"
      ]
     },
     "metadata": {
      "needs_background": "light"
     },
     "output_type": "display_data"
    },
    {
     "data": {
      "image/png": "[encoded data removed]",
      "text/plain": [
       "<Figure size 432x288 with 1 Axes>"
      ]
     },
     "metadata": {
      "needs_background": "light"
     },
     "output_type": "display_data"
    }
   ],
   "source": [
    "for i in hidden_sizes:\n",
    "    print(\"Hidden size is %d\" % i)\n",
    "    hidden_size = i\n",
    "    bidirectional = True\n",
    "    encoder = EncoderRNN(len(src.vocab), max_len, hidden_size,\n",
    "                        bidirectional=bidirectional, variable_lengths=True)\n",
    "    decoder = DecoderRNN(len(tgt.vocab), max_len, hidden_size * 2 if bidirectional else hidden_size,\n",
    "                        dropout_p=0.2, use_attention=\"None\", bidirectional=bidirectional,\n",
    "                        eos_id=tgt.eos_id, sos_id=tgt.sos_id)\n",
    "    seq2seq = Seq2seq(encoder, decoder)\n",
    "    if torch.cuda.is_available():\n",
    "        seq2seq.cuda()\n",
    "\n",
    "    for param in seq2seq.parameters():\n",
    "        param.data.uniform_(-0.08, 0.08)\n",
    "\n",
    "    # train\n",
    "    t = SupervisedTrainer(loss=loss, batch_size=32,\n",
    "                        checkpoint_every=50,\n",
    "                        print_every=100,\n",
    "                        hidden_size=hidden_size,\n",
    "                        fig_path=\"log/plot/matching_pairs_no_att\")\n",
    "\n",
    "    seq2seq, ave_loss, character_accuracy = t.train(seq2seq, train,\n",
    "                                                    num_epochs=50, dev_data=dev,\n",
    "                                                    optimizer=optimizer,\n",
    "                                                    teacher_forcing_ratio=0.5)\n",
    "\n",
    "    losses.append(ave_loss/100)\n",
    "    error_rate.append(1 - character_accuracy)\n",
    "    accuracy.append(character_accuracy)"
   ]
  },
  {
   "cell_type": "code",
   "execution_count": 8,
   "metadata": {},
   "outputs": [],
   "source": [
    "torch.save(seq2seq.state_dict(), 'log/matching_pairs_no_att_model_save.pth')"
   ]
  }
 ],
 "metadata": {
  "kernelspec": {
   "display_name": "Python 3",
   "language": "python",
   "name": "python3"
  },
  "language_info": {
   "codemirror_mode": {
    "name": "ipython",
    "version": 3
   },
   "file_extension": ".py",
   "mimetype": "text/x-python",
   "name": "python",
   "nbconvert_exporter": "python",
   "pygments_lexer": "ipython3",
   "version": "3.5.2"
  }
 },
 "nbformat": 4,
 "nbformat_minor": 2
}
