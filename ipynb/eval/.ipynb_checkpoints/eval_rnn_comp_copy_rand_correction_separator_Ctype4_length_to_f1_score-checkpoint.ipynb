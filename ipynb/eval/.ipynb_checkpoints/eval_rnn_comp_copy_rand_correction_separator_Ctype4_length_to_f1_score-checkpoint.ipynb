{
 "cells": [
  {
   "cell_type": "markdown",
   "metadata": {},
   "source": [
    "# Set Parameter\n",
    "- Attention = Luong\n",
    "- Teacher Forcing Ratio = 0.5\n",
    "- Layer = 1\n",
    "- Batch size = 32\n",
    "- Drop out = 0.2\n",
    "- Hidden unit = 50\n",
    "- Depth\n",
    "- Ctype\n",
    "- Epochs = 100\n",
    "- N = 100\n",
    "- Data = 100K\n",
    "- Deduplication"
   ]
  },
  {
   "cell_type": "markdown",
   "metadata": {},
   "source": [
    "# Import packages\n",
    "\n",
    "import useful packages for experiments"
   ]
  },
  {
   "cell_type": "code",
   "execution_count": 1,
   "metadata": {},
   "outputs": [
    {
     "name": "stderr",
     "output_type": "stream",
     "text": [
      "/home/hyeontae/hyeontae/venv/lib/python3.6/site-packages/torch/nn/_reduction.py:46: UserWarning: size_average and reduce args will be deprecated, please use reduction='mean' instead.\n",
      "  warnings.warn(warning.format(ret))\n"
     ]
    }
   ],
   "source": [
    "import os\n",
    "import argparse\n",
    "import logging\n",
    "import sys\n",
    "\n",
    "import torch\n",
    "from torch.optim.lr_scheduler import StepLR\n",
    "import torchtext\n",
    "\n",
    "sys.path.append(os.path.dirname(os.path.abspath(os.path.dirname(os.path.abspath(os.path.dirname('__file__'))))))\n",
    "\n",
    "from models.encoderRNN import EncoderRNN\n",
    "from models.decoderRNN import DecoderRNN\n",
    "from models.encoderRNN_gru import EncoderRNN_gru\n",
    "from models.decoderRNN_gru import DecoderRNN_gru\n",
    "from models.seq2seq import Seq2seq\n",
    "from loss.loss import Perplexity\n",
    "from dataset import fields\n",
    "from evaluator.evaluator_unmatching import Evaluator\n",
    "\n",
    "import matplotlib\n",
    "import matplotlib.pyplot as plt"
   ]
  },
  {
   "cell_type": "markdown",
   "metadata": {},
   "source": [
    "# Log format"
   ]
  },
  {
   "cell_type": "code",
   "execution_count": 2,
   "metadata": {},
   "outputs": [],
   "source": [
    "log_level = 'info'\n",
    "LOG_FORMAT = '%(asctime)s %(levelname)-6s %(message)s'\n",
    "logging.basicConfig(format=LOG_FORMAT, level=getattr(logging, log_level.upper()))"
   ]
  },
  {
   "cell_type": "markdown",
   "metadata": {},
   "source": [
    "# Variable definition"
   ]
  },
  {
   "cell_type": "code",
   "execution_count": 3,
   "metadata": {},
   "outputs": [
    {
     "name": "stdout",
     "output_type": "stream",
     "text": [
      "['separator_Ctype4']\n"
     ]
    }
   ],
   "source": [
    "hidden_size = 200\n",
    "f1_score_lists = []\n",
    "ctypes = [\"separator_Ctype4\"]\n",
    "bidirectional = False\n",
    "print(ctypes)"
   ]
  },
  {
   "cell_type": "code",
   "execution_count": 4,
   "metadata": {
    "scrolled": true
   },
   "outputs": [
    {
     "name": "stderr",
     "output_type": "stream",
     "text": [
      "/home/hyeontae/hyeontae/venv/lib/python3.6/site-packages/torch/nn/_reduction.py:46: UserWarning: size_average and reduce args will be deprecated, please use reduction='sum' instead.\n",
      "  warnings.warn(warning.format(ret))\n"
     ]
    },
    {
     "name": "stdout",
     "output_type": "stream",
     "text": [
      "Character type is : separator_Ctype4\n",
      "[4, 6, 8, 10, 12, 14, 16, 18, 20, 22, 24, 26, 28, 30, 32, 34, 36, 38, 40, 42, 44, 46, 48, 50, 52, 54, 56, 58, 60, 62, 64, 66, 68, 70, 72, 74, 76, 78, 80, 82, 84, 86, 88, 90, 92, 94, 96, 98, 100]\n",
      "Length:4, Dev Loss:6.8701, F1 Score:0.0000\n",
      "\n",
      "Length:6, Dev Loss:1.3970, F1 Score:0.7586\n",
      "\n",
      "Length:8, Dev Loss:1.0134, F1 Score:0.9870\n",
      "\n"
     ]
    },
    {
     "name": "stderr",
     "output_type": "stream",
     "text": [
      "/home/hyeontae/hyeontae/venv/lib/python3.6/site-packages/torch/nn/modules/rnn.py:54: UserWarning: dropout option adds dropout after all but last recurrent layer, so non-zero dropout expects num_layers greater than 1, but got dropout=0.2 and num_layers=1\n",
      "  \"num_layers={}\".format(dropout, num_layers))\n",
      "/home/hyeontae/hyeontae/venv/lib/python3.6/site-packages/torch/nn/functional.py:1374: UserWarning: nn.functional.tanh is deprecated. Use torch.tanh instead.\n",
      "  warnings.warn(\"nn.functional.tanh is deprecated. Use torch.tanh instead.\")\n"
     ]
    },
    {
     "name": "stdout",
     "output_type": "stream",
     "text": [
      "Length:10, Dev Loss:1.0046, F1 Score:0.9874\n",
      "\n",
      "Length:12, Dev Loss:1.0100, F1 Score:0.9809\n",
      "\n",
      "Length:14, Dev Loss:1.0094, F1 Score:0.9657\n",
      "\n",
      "Length:16, Dev Loss:1.0174, F1 Score:0.9337\n",
      "\n",
      "Length:18, Dev Loss:1.0175, F1 Score:0.9250\n",
      "\n",
      "Length:20, Dev Loss:1.0238, F1 Score:0.8805\n",
      "\n",
      "Length:22, Dev Loss:1.0260, F1 Score:0.8585\n",
      "\n",
      "Length:24, Dev Loss:1.0262, F1 Score:0.8420\n",
      "\n",
      "Length:26, Dev Loss:1.0278, F1 Score:0.8101\n",
      "\n",
      "Length:28, Dev Loss:1.0270, F1 Score:0.8164\n",
      "\n",
      "Length:30, Dev Loss:1.0300, F1 Score:0.8028\n",
      "\n",
      "Length:32, Dev Loss:1.0375, F1 Score:0.7541\n",
      "\n",
      "Length:34, Dev Loss:1.0330, F1 Score:0.7685\n",
      "\n",
      "Length:36, Dev Loss:1.0347, F1 Score:0.7613\n",
      "\n",
      "Length:38, Dev Loss:1.0342, F1 Score:0.7635\n",
      "\n",
      "Length:40, Dev Loss:1.0305, F1 Score:0.7770\n",
      "\n",
      "Length:42, Dev Loss:1.0351, F1 Score:0.7383\n",
      "\n",
      "Length:44, Dev Loss:1.0364, F1 Score:0.7490\n",
      "\n",
      "Length:46, Dev Loss:1.0367, F1 Score:0.7431\n",
      "\n",
      "Length:48, Dev Loss:1.0367, F1 Score:0.7339\n",
      "\n",
      "Length:50, Dev Loss:1.0421, F1 Score:0.7230\n",
      "\n",
      "Length:52, Dev Loss:1.0375, F1 Score:0.7366\n",
      "\n",
      "Length:54, Dev Loss:1.0394, F1 Score:0.7224\n",
      "\n",
      "Length:56, Dev Loss:1.0403, F1 Score:0.6940\n",
      "\n",
      "Length:58, Dev Loss:1.0370, F1 Score:0.7250\n",
      "\n",
      "Length:60, Dev Loss:1.0388, F1 Score:0.7050\n",
      "\n",
      "Length:62, Dev Loss:1.0434, F1 Score:0.6762\n",
      "\n",
      "Length:64, Dev Loss:1.0391, F1 Score:0.6915\n",
      "\n",
      "Length:66, Dev Loss:1.0390, F1 Score:0.6821\n",
      "\n",
      "Length:68, Dev Loss:1.0366, F1 Score:0.6934\n",
      "\n",
      "Length:70, Dev Loss:1.0388, F1 Score:0.6960\n",
      "\n",
      "Length:72, Dev Loss:1.0458, F1 Score:0.6489\n",
      "\n",
      "Length:74, Dev Loss:1.0444, F1 Score:0.6365\n",
      "\n",
      "Length:76, Dev Loss:1.0495, F1 Score:0.6186\n",
      "\n",
      "Length:78, Dev Loss:1.0453, F1 Score:0.6308\n",
      "\n",
      "Length:80, Dev Loss:1.0465, F1 Score:0.6037\n",
      "\n",
      "Length:82, Dev Loss:1.0458, F1 Score:0.6667\n",
      "\n",
      "Length:84, Dev Loss:1.0460, F1 Score:0.6420\n",
      "\n",
      "Length:86, Dev Loss:1.0470, F1 Score:0.6316\n",
      "\n",
      "Length:88, Dev Loss:1.0439, F1 Score:0.6280\n",
      "\n",
      "Length:90, Dev Loss:1.0487, F1 Score:0.5805\n",
      "\n",
      "Length:92, Dev Loss:1.0453, F1 Score:0.6328\n",
      "\n",
      "Length:94, Dev Loss:1.0400, F1 Score:0.6183\n",
      "\n",
      "Length:96, Dev Loss:1.0456, F1 Score:0.5509\n",
      "\n",
      "Length:98, Dev Loss:1.0553, F1 Score:0.5014\n",
      "\n",
      "Length:100, Dev Loss:1.0524, F1 Score:0.5722\n",
      "\n"
     ]
    }
   ],
   "source": [
    "for i in ctypes:\n",
    "    f1_score_list = []\n",
    "    ctype = i\n",
    "    # Data load\n",
    "    train_path = \"../../data/copy_rand/correction_\" + ctype + \"/data_train.txt\"\n",
    "    \n",
    "    # Prepare dataset\n",
    "    src = fields.SourceField()\n",
    "    tgt = fields.TargetField()\n",
    "    max_len = 104\n",
    "    def len_filter(example):\n",
    "        return len(example.src) <= max_len and len(example.tgt) <= max_len\n",
    "    train = torchtext.data.TabularDataset(\n",
    "        path=train_path, format='tsv',\n",
    "        fields=[('src', src), ('tgt', tgt)],\n",
    "        filter_pred=len_filter\n",
    "    )\n",
    "    src.build_vocab(train)\n",
    "    tgt.build_vocab(train)\n",
    "    input_vocab = src.vocab\n",
    "    output_vocab = tgt.vocab\n",
    "    \n",
    "    # Prepare loss\n",
    "    weight = torch.ones(len(tgt.vocab))\n",
    "    pad = tgt.vocab.stoi[tgt.pad_token]\n",
    "    loss = Perplexity(weight, pad)\n",
    "    if torch.cuda.is_available():\n",
    "        loss.cuda()\n",
    "    \n",
    "    # Model\n",
    "    evaluator = Evaluator(loss=loss, batch_size=32)\n",
    "    hidden_size\n",
    "    print(\"Character type is : %s\" % ctype)\n",
    "    seq2seq = None\n",
    "    encoder = EncoderRNN(len(src.vocab), max_len, hidden_size,\n",
    "                         bidirectional=bidirectional, variable_lengths=True)\n",
    "    decoder = DecoderRNN(len(tgt.vocab), max_len, hidden_size * 2 if bidirectional else hidden_size,\n",
    "                         dropout_p=0.2, use_attention=\"Luong\", bidirectional=bidirectional,\n",
    "                         eos_id=tgt.eos_id, sos_id=tgt.sos_id)\n",
    "    seq2seq = Seq2seq(encoder, decoder)\n",
    "    if torch.cuda.is_available():\n",
    "        seq2seq.cuda()\n",
    "\n",
    "    for param in seq2seq.parameters():\n",
    "        param.data.uniform_(-0.08, 0.08)\n",
    "    \n",
    "    lengths = list(range(4, 101, 2))\n",
    "    print(lengths)\n",
    "    for length in lengths:\n",
    "        log_path = \"../../log/pth/train_copy_rand_correction_ctype4_\" + ctype + \"_model_save.pth\"\n",
    "        seq2seq.load_state_dict(torch.load(log_path))\n",
    "        seq2seq.eval()\n",
    "        dev_path = \"../../data/copy_rand/correction_\" + ctype + \"/dev_length/data_test_length_\" + str(length) + \".txt\"\n",
    "        dev = torchtext.data.TabularDataset(\n",
    "              path=dev_path, format='tsv',\n",
    "              fields=[('src', src), ('tgt', tgt)],\n",
    "              filter_pred=len_filter)\n",
    "        dev_loss, _, _, f1_score = evaluator.evaluate(seq2seq, dev)\n",
    "        print(\"Length:%d, Dev Loss:%0.4f, F1 Score:%0.4f\\n\"\n",
    "                    % (length, dev_loss, f1_score))\n",
    "        check_path = \"../../log/check_point/rnn_comp_copy_rand_correction_length_to_f1_score/lstm_\" + ctype\n",
    "        with open(check_path, 'a') as f:\n",
    "            f.write(\"Length:%d, Dev Loss:%0.4f, F1 Score:%0.4f\\n\"\n",
    "                    % (length, dev_loss, f1_score))\n",
    "        \n",
    "        f1_score_list.append(f1_score)\n",
    "        \n",
    "    f1_score_lists.append(f1_score_list)"
   ]
  },
  {
   "cell_type": "code",
   "execution_count": 5,
   "metadata": {
    "scrolled": true
   },
   "outputs": [
    {
     "name": "stdout",
     "output_type": "stream",
     "text": [
      "Character type is : separator_Ctype4\n",
      "[4, 6, 8, 10, 12, 14, 16, 18, 20, 22, 24, 26, 28, 30, 32, 34, 36, 38, 40, 42, 44, 46, 48, 50, 52, 54, 56, 58, 60, 62, 64, 66, 68, 70, 72, 74, 76, 78, 80, 82, 84, 86, 88, 90, 92, 94, 96, 98, 100]\n",
      "Length:4, Dev Loss:1.9122, F1 Score:0.4000\n",
      "\n",
      "Length:6, Dev Loss:1.0227, F1 Score:0.8966\n",
      "\n",
      "Length:8, Dev Loss:1.0184, F1 Score:0.9740\n",
      "\n",
      "Length:10, Dev Loss:1.0057, F1 Score:0.9874\n",
      "\n",
      "Length:12, Dev Loss:1.0059, F1 Score:0.9917\n",
      "\n",
      "Length:14, Dev Loss:1.0080, F1 Score:0.9818\n",
      "\n",
      "Length:16, Dev Loss:1.0060, F1 Score:0.9841\n",
      "\n",
      "Length:18, Dev Loss:1.0082, F1 Score:0.9723\n",
      "\n",
      "Length:20, Dev Loss:1.0070, F1 Score:0.9660\n",
      "\n",
      "Length:22, Dev Loss:1.0070, F1 Score:0.9607\n",
      "\n",
      "Length:24, Dev Loss:1.0094, F1 Score:0.9538\n",
      "\n",
      "Length:26, Dev Loss:1.0150, F1 Score:0.9063\n",
      "\n",
      "Length:28, Dev Loss:1.0154, F1 Score:0.9036\n",
      "\n",
      "Length:30, Dev Loss:1.0198, F1 Score:0.8804\n",
      "\n",
      "Length:32, Dev Loss:1.0214, F1 Score:0.8457\n",
      "\n",
      "Length:34, Dev Loss:1.0252, F1 Score:0.8214\n",
      "\n",
      "Length:36, Dev Loss:1.0280, F1 Score:0.8151\n",
      "\n",
      "Length:38, Dev Loss:1.0255, F1 Score:0.8132\n",
      "\n",
      "Length:40, Dev Loss:1.0304, F1 Score:0.7854\n",
      "\n",
      "Length:42, Dev Loss:1.0319, F1 Score:0.7564\n",
      "\n",
      "Length:44, Dev Loss:1.0351, F1 Score:0.7549\n",
      "\n",
      "Length:46, Dev Loss:1.0343, F1 Score:0.7322\n",
      "\n",
      "Length:48, Dev Loss:1.0367, F1 Score:0.7147\n",
      "\n",
      "Length:50, Dev Loss:1.0466, F1 Score:0.6749\n",
      "\n",
      "Length:52, Dev Loss:1.0418, F1 Score:0.6941\n",
      "\n",
      "Length:54, Dev Loss:1.0439, F1 Score:0.6585\n",
      "\n",
      "Length:56, Dev Loss:1.0513, F1 Score:0.6218\n",
      "\n",
      "Length:58, Dev Loss:1.0489, F1 Score:0.6378\n",
      "\n",
      "Length:60, Dev Loss:1.0494, F1 Score:0.6270\n",
      "\n",
      "Length:62, Dev Loss:1.0588, F1 Score:0.5815\n",
      "\n",
      "Length:64, Dev Loss:1.0494, F1 Score:0.6228\n",
      "\n",
      "Length:66, Dev Loss:1.0540, F1 Score:0.5961\n",
      "\n",
      "Length:68, Dev Loss:1.0582, F1 Score:0.5319\n",
      "\n",
      "Length:70, Dev Loss:1.0639, F1 Score:0.5201\n",
      "\n",
      "Length:72, Dev Loss:1.0664, F1 Score:0.4935\n",
      "\n",
      "Length:74, Dev Loss:1.0623, F1 Score:0.5534\n",
      "\n",
      "Length:76, Dev Loss:1.0767, F1 Score:0.4434\n",
      "\n",
      "Length:78, Dev Loss:1.0703, F1 Score:0.5122\n",
      "\n",
      "Length:80, Dev Loss:1.0688, F1 Score:0.4667\n",
      "\n",
      "Length:82, Dev Loss:1.0758, F1 Score:0.4578\n",
      "\n",
      "Length:84, Dev Loss:1.0773, F1 Score:0.4023\n",
      "\n",
      "Length:86, Dev Loss:1.0792, F1 Score:0.3812\n",
      "\n",
      "Length:88, Dev Loss:1.0778, F1 Score:0.4009\n",
      "\n",
      "Length:90, Dev Loss:1.0778, F1 Score:0.4018\n",
      "\n",
      "Length:92, Dev Loss:1.0784, F1 Score:0.3892\n",
      "\n",
      "Length:94, Dev Loss:1.0753, F1 Score:0.3926\n",
      "\n",
      "Length:96, Dev Loss:1.0798, F1 Score:0.3514\n",
      "\n",
      "Length:98, Dev Loss:1.0907, F1 Score:0.3062\n",
      "\n",
      "Length:100, Dev Loss:1.0883, F1 Score:0.3365\n",
      "\n"
     ]
    }
   ],
   "source": [
    "for i in ctypes:\n",
    "    f1_score_list = []\n",
    "    ctype = i\n",
    "    # Data load\n",
    "    train_path = \"../../data/copy_rand/correction_\" + ctype + \"/data_train.txt\"\n",
    "    \n",
    "    # Prepare dataset\n",
    "    src = fields.SourceField()\n",
    "    tgt = fields.TargetField()\n",
    "    max_len = 104\n",
    "    def len_filter(example):\n",
    "        return len(example.src) <= max_len and len(example.tgt) <= max_len\n",
    "    train = torchtext.data.TabularDataset(\n",
    "        path=train_path, format='tsv',\n",
    "        fields=[('src', src), ('tgt', tgt)],\n",
    "        filter_pred=len_filter\n",
    "    )\n",
    "    src.build_vocab(train)\n",
    "    tgt.build_vocab(train)\n",
    "    input_vocab = src.vocab\n",
    "    output_vocab = tgt.vocab\n",
    "    \n",
    "    # Prepare loss\n",
    "    weight = torch.ones(len(tgt.vocab))\n",
    "    pad = tgt.vocab.stoi[tgt.pad_token]\n",
    "    loss = Perplexity(weight, pad)\n",
    "    if torch.cuda.is_available():\n",
    "        loss.cuda()\n",
    "    \n",
    "    # Model\n",
    "    evaluator = Evaluator(loss=loss, batch_size=32)\n",
    "    hidden_size\n",
    "    print(\"Character type is : %s\" % ctype)\n",
    "    seq2seq = None\n",
    "    encoder = EncoderRNN_gru(len(src.vocab), max_len, hidden_size,\n",
    "                         bidirectional=bidirectional, variable_lengths=True)\n",
    "    decoder = DecoderRNN_gru(len(tgt.vocab), max_len, hidden_size * 2 if bidirectional else hidden_size,\n",
    "                         dropout_p=0.2, use_attention=\"Luong\", bidirectional=bidirectional,\n",
    "                         eos_id=tgt.eos_id, sos_id=tgt.sos_id)\n",
    "    seq2seq = Seq2seq(encoder, decoder)\n",
    "    if torch.cuda.is_available():\n",
    "        seq2seq.cuda()\n",
    "\n",
    "    for param in seq2seq.parameters():\n",
    "        param.data.uniform_(-0.08, 0.08)\n",
    "    \n",
    "    lengths = list(range(4, 101, 2))\n",
    "    print(lengths)\n",
    "    for length in lengths:\n",
    "        log_path = \"../../log/pth/GRU_copy_rand_correction_\" + ctype + \"_model_save.pth\"\n",
    "        seq2seq.load_state_dict(torch.load(log_path))\n",
    "        seq2seq.eval()\n",
    "        dev_path = \"../../data/copy_rand/correction_\" + ctype + \"/dev_length/data_test_length_\" + str(length) + \".txt\"\n",
    "        dev = torchtext.data.TabularDataset(\n",
    "              path=dev_path, format='tsv',\n",
    "              fields=[('src', src), ('tgt', tgt)],\n",
    "              filter_pred=len_filter)\n",
    "        dev_loss, _, _, f1_score = evaluator.evaluate(seq2seq, dev)\n",
    "        print(\"Length:%d, Dev Loss:%0.4f, F1 Score:%0.4f\\n\"\n",
    "                    % (length, dev_loss, f1_score))\n",
    "        check_path = \"../../log/check_point/rnn_comp_copy_rand_correction_length_to_f1_score/gru_\" + ctype\n",
    "        with open(check_path, 'a') as f:\n",
    "            f.write(\"Length:%d, Dev Loss:%0.4f, F1 Score:%0.4f\\n\"\n",
    "                    % (length, dev_loss, f1_score))\n",
    "        \n",
    "        f1_score_list.append(f1_score)\n",
    "        \n",
    "    f1_score_lists.append(f1_score_list)"
   ]
  },
  {
   "cell_type": "code",
   "execution_count": 6,
   "metadata": {},
   "outputs": [
    {
     "data": {
      "image/png": "[encoded data removed]",
      "text/plain": [
       "<Figure size 1080x504 with 1 Axes>"
      ]
     },
     "metadata": {
      "needs_background": "light"
     },
     "output_type": "display_data"
    }
   ],
   "source": [
    "plt.figure(figsize=(15,7))\n",
    "plt.plot(lengths[1::], f1_score_lists[0][1::], '-', LineWidth=3, label=\"LSTM\")\n",
    "plt.plot(lengths[1::], f1_score_lists[1][1::], '-o', LineWidth=3, label=\"GRU\")\n",
    "plt.legend(loc=\"best\", fontsize=12)\n",
    "plt.xlabel('Length', fontsize=24)\n",
    "plt.ylabel('F1 Score', fontsize=24)\n",
    "plt.ylim([0, 1.1])\n",
    "plt.savefig('../../log/plot/rnn_comp_copy_rand_correction_length_to_f1_score/copy_rand_correction_separator_Ctypes4_length_to_f1_score.png')"
   ]
  },
  {
   "cell_type": "code",
   "execution_count": 7,
   "metadata": {
    "scrolled": true
   },
   "outputs": [
    {
     "name": "stdout",
     "output_type": "stream",
     "text": [
      "[0, 0.7586206896551724, 0.987012987012987, 0.9873817034700315, 0.9809402795425667, 0.9656607700312174, 0.9336561743341405, 0.9250125817815803, 0.8804824561403508, 0.8584615384615385, 0.8420038535645471, 0.810126582278481, 0.816372939169983, 0.8027923211169283, 0.7540589296452196, 0.7684848484848485, 0.761297798377752, 0.7635402906208719, 0.7769968051118212, 0.7383458646616541, 0.7490039840637449, 0.7431124348473568, 0.7338638373121131, 0.7229977957384276, 0.7365771812080537, 0.7224334600760457, 0.6939571150097466, 0.725, 0.7050359712230215, 0.6762430939226519, 0.6915017462165309, 0.6821345707656612, 0.6933962264150942, 0.6959896507115134, 0.6488651535380507, 0.6364812419146184, 0.6185567010309277, 0.6308492201039861, 0.6037099494097807, 0.6666666666666667, 0.6419753086419753, 0.6315789473684211, 0.628, 0.5805168986083499, 0.6327944572748269, 0.6182795698924731, 0.5508982035928144, 0.5013623978201635, 0.5722222222222223]\n",
      "[0.4, 0.896551724137931, 0.974025974025974, 0.9873817034700315, 0.9917355371900826, 0.9817613340281396, 0.9840656687590535, 0.9723200805234021, 0.9660087719298246, 0.9606942317508933, 0.9538461538461539, 0.906268656716418, 0.9035874439461883, 0.8804100227790433, 0.8457478005865102, 0.8213649851632048, 0.8151498021481062, 0.8131868131868133, 0.7853996224040277, 0.756438557763061, 0.7548942834768989, 0.7322083639031549, 0.7146574154379879, 0.6749452154857561, 0.6941176470588235, 0.658513640639699, 0.6217821782178217, 0.6377649325626203, 0.6269925611052072, 0.5815279361459521, 0.6227967097532315, 0.5961070559610706, 0.5318627450980392, 0.520107238605898, 0.4935437589670014, 0.5534246575342465, 0.44339622641509435, 0.512241054613936, 0.4666666666666666, 0.45783132530120485, 0.40227703984819735, 0.3811659192825112, 0.4009009009009009, 0.40176600441501104, 0.3891891891891892, 0.39263803680981596, 0.35135135135135137, 0.30624999999999997, 0.3365079365079365]\n"
     ]
    }
   ],
   "source": [
    "print(f1_score_lists[0])\n",
    "print(f1_score_lists[1])"
   ]
  },
  {
   "cell_type": "code",
   "execution_count": null,
   "metadata": {},
   "outputs": [],
   "source": []
  }
 ],
 "metadata": {
  "kernelspec": {
   "display_name": "Python 3",
   "language": "python",
   "name": "python3"
  },
  "language_info": {
   "codemirror_mode": {
    "name": "ipython",
    "version": 3
   },
   "file_extension": ".py",
   "mimetype": "text/x-python",
   "name": "python",
   "nbconvert_exporter": "python",
   "pygments_lexer": "ipython3",
   "version": "3.6.7"
  }
 },
 "nbformat": 4,
 "nbformat_minor": 2
}
