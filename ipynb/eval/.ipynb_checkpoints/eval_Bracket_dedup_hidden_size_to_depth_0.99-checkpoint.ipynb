{
 "cells": [
  {
   "cell_type": "markdown",
   "metadata": {},
   "source": [
    "# Set Parameter\n",
    "- Attention = Luong\n",
    "- Teacher Forcing Ratio = 0.5\n",
    "- Layer = 1\n",
    "- Batch size = 32\n",
    "- Drop out = 0.2\n",
    "- Hidden unit = [2, 50]\n",
    "- Depth = [1, 32]\n",
    "- Epochs = 100\n",
    "- N = 100\n",
    "- Data = 100K\n",
    "- Deduplication"
   ]
  },
  {
   "cell_type": "markdown",
   "metadata": {},
   "source": [
    "# Import packages\n",
    "\n",
    "import useful packages for experiments"
   ]
  },
  {
   "cell_type": "code",
   "execution_count": 1,
   "metadata": {},
   "outputs": [
    {
     "name": "stderr",
     "output_type": "stream",
     "text": [
      "/home/hyeontae/hyeontae/venv2/lib/python3.5/site-packages/torch/nn/_reduction.py:49: UserWarning: size_average and reduce args will be deprecated, please use reduction='mean' instead.\n",
      "  warnings.warn(warning.format(ret))\n"
     ]
    }
   ],
   "source": [
    "import os\n",
    "import argparse\n",
    "import logging\n",
    "import sys\n",
    "\n",
    "import torch\n",
    "from torch.optim.lr_scheduler import StepLR\n",
    "import torchtext\n",
    "\n",
    "sys.path.append(os.path.dirname(os.path.abspath(os.path.dirname(os.path.abspath(os.path.dirname('__file__'))))))\n",
    "\n",
    "from trainer.supervised_trainer_without_eval import SupervisedTrainer_without_eval\n",
    "from models.encoderRNN import EncoderRNN\n",
    "from models.decoderRNN import DecoderRNN\n",
    "from models.seq2seq import Seq2seq\n",
    "from loss.loss import Perplexity\n",
    "from optim.optim import Optimizer\n",
    "from dataset import fields\n",
    "from evaluator.evaluator import Evaluator\n",
    "\n",
    "import matplotlib.pyplot as plt"
   ]
  },
  {
   "cell_type": "markdown",
   "metadata": {},
   "source": [
    "# Log format"
   ]
  },
  {
   "cell_type": "code",
   "execution_count": 2,
   "metadata": {},
   "outputs": [],
   "source": [
    "log_level = 'info'\n",
    "LOG_FORMAT = '%(asctime)s %(levelname)-6s %(message)s'\n",
    "logging.basicConfig(format=LOG_FORMAT, level=getattr(logging, log_level.upper()))"
   ]
  },
  {
   "cell_type": "markdown",
   "metadata": {},
   "source": [
    "# Data load"
   ]
  },
  {
   "cell_type": "code",
   "execution_count": 3,
   "metadata": {},
   "outputs": [],
   "source": [
    "train_path = \"../../data/bracket_dedup/K100/data_train.txt\""
   ]
  },
  {
   "cell_type": "markdown",
   "metadata": {},
   "source": [
    "# Prepare dataset"
   ]
  },
  {
   "cell_type": "code",
   "execution_count": 4,
   "metadata": {},
   "outputs": [],
   "source": [
    "src = fields.SourceField()\n",
    "tgt = fields.TargetField()\n",
    "max_len = 104\n",
    "def len_filter(example):\n",
    "    return len(example.src) <= max_len and len(example.tgt) <= max_len\n",
    "train = torchtext.data.TabularDataset(\n",
    "    path=train_path, format='tsv',\n",
    "    fields=[('src', src), ('tgt', tgt)],\n",
    "    filter_pred=len_filter\n",
    ")\n",
    "src.build_vocab(train)\n",
    "tgt.build_vocab(train)\n",
    "input_vocab = src.vocab\n",
    "output_vocab = tgt.vocab"
   ]
  },
  {
   "cell_type": "markdown",
   "metadata": {},
   "source": [
    "# Prepare loss"
   ]
  },
  {
   "cell_type": "code",
   "execution_count": 5,
   "metadata": {},
   "outputs": [
    {
     "name": "stderr",
     "output_type": "stream",
     "text": [
      "/home/hyeontae/hyeontae/venv2/lib/python3.5/site-packages/torch/nn/_reduction.py:49: UserWarning: size_average and reduce args will be deprecated, please use reduction='sum' instead.\n",
      "  warnings.warn(warning.format(ret))\n"
     ]
    }
   ],
   "source": [
    "weight = torch.ones(len(tgt.vocab))\n",
    "pad = tgt.vocab.stoi[tgt.pad_token]\n",
    "loss = Perplexity(weight, pad)\n",
    "if torch.cuda.is_available():\n",
    "    loss.cuda()"
   ]
  },
  {
   "cell_type": "markdown",
   "metadata": {},
   "source": [
    "# Variable definition"
   ]
  },
  {
   "cell_type": "code",
   "execution_count": 6,
   "metadata": {},
   "outputs": [
    {
     "name": "stdout",
     "output_type": "stream",
     "text": [
      "[2, 4, 6, 8, 10, 12, 14, 16, 18, 20, 22, 24, 26, 28, 30, 32, 34, 36, 38, 40, 42, 44, 46, 48, 50]\n"
     ]
    }
   ],
   "source": [
    "optimizer = \"Adam\"\n",
    "hidden_sizes = list(range(2, 51, 2))\n",
    "depth_list = []\n",
    "bidirectional = True\n",
    "print(hidden_sizes)\n",
    "evaluator = Evaluator(loss=loss, batch_size=32)"
   ]
  },
  {
   "cell_type": "code",
   "execution_count": null,
   "metadata": {},
   "outputs": [
    {
     "name": "stdout",
     "output_type": "stream",
     "text": [
      "hidden size is : 2\n",
      "[32, 31, 30, 29, 28, 27, 26, 25, 24, 23, 22, 21, 20, 19, 18, 17, 16, 15, 14, 13, 12, 11, 10, 9, 8, 7, 6, 5, 4, 3, 2, 1]\n"
     ]
    },
    {
     "name": "stderr",
     "output_type": "stream",
     "text": [
      "/home/hyeontae/hyeontae/venv2/lib/python3.5/site-packages/torch/nn/modules/rnn.py:46: UserWarning: dropout option adds dropout after all but last recurrent layer, so non-zero dropout expects num_layers greater than 1, but got dropout=0.2 and num_layers=1\n",
      "  \"num_layers={}\".format(dropout, num_layers))\n",
      "/home/hyeontae/hyeontae/venv2/lib/python3.5/site-packages/torch/nn/functional.py:1320: UserWarning: nn.functional.tanh is deprecated. Use torch.tanh instead.\n",
      "  warnings.warn(\"nn.functional.tanh is deprecated. Use torch.tanh instead.\")\n"
     ]
    },
    {
     "name": "stdout",
     "output_type": "stream",
     "text": [
      "Depth:32, Dev Loss:79.4578, Character Accuracy:0.1158, Sentence Accuracy:0.0000\n",
      "\n",
      "Depth:31, Dev Loss:404.5832, Character Accuracy:0.1989, Sentence Accuracy:0.0000\n",
      "\n",
      "Depth:30, Dev Loss:38.8016, Character Accuracy:0.1348, Sentence Accuracy:0.0000\n",
      "\n",
      "Depth:29, Dev Loss:30.7182, Character Accuracy:0.1441, Sentence Accuracy:0.0000\n",
      "\n",
      "Depth:28, Dev Loss:38.0933, Character Accuracy:0.1485, Sentence Accuracy:0.0000\n",
      "\n",
      "Depth:27, Dev Loss:38.9572, Character Accuracy:0.1490, Sentence Accuracy:0.0000\n",
      "\n",
      "Depth:26, Dev Loss:45.2359, Character Accuracy:0.1433, Sentence Accuracy:0.0000\n",
      "\n",
      "Depth:25, Dev Loss:75.7678, Character Accuracy:0.1563, Sentence Accuracy:0.0000\n",
      "\n",
      "Depth:24, Dev Loss:143.3564, Character Accuracy:0.1605, Sentence Accuracy:0.0000\n",
      "\n",
      "Depth:23, Dev Loss:189.7524, Character Accuracy:0.1667, Sentence Accuracy:0.0000\n",
      "\n",
      "Depth:22, Dev Loss:186.1620, Character Accuracy:0.1692, Sentence Accuracy:0.0000\n",
      "\n",
      "Depth:21, Dev Loss:148.1033, Character Accuracy:0.1683, Sentence Accuracy:0.0000\n",
      "\n"
     ]
    }
   ],
   "source": [
    "for i in hidden_sizes:\n",
    "    hidden_size = i\n",
    "    print(\"hidden size is : %d\" % hidden_size)\n",
    "    seq2seq = None\n",
    "    encoder = EncoderRNN(len(src.vocab), max_len, hidden_size,\n",
    "                         bidirectional=bidirectional, variable_lengths=True)\n",
    "    decoder = DecoderRNN(len(tgt.vocab), max_len, hidden_size * 2 if bidirectional else hidden_size,\n",
    "                         dropout_p=0.2, use_attention=\"Luong\", bidirectional=bidirectional,\n",
    "                         eos_id=tgt.eos_id, sos_id=tgt.sos_id)\n",
    "    seq2seq = Seq2seq(encoder, decoder)\n",
    "    if torch.cuda.is_available():\n",
    "        seq2seq.cuda()\n",
    "\n",
    "    for param in seq2seq.parameters():\n",
    "        param.data.uniform_(-0.08, 0.08)\n",
    "    \n",
    "    depths = list(range(32, 0, -1))\n",
    "    print(depths)\n",
    "    for depth in depths:\n",
    "        log_path = \"../../log/pth/bracket_dedup_K100_hidden_\" + str(hidden_size) + \"_model_save.pth\"\n",
    "        seq2seq.load_state_dict(torch.load(log_path))\n",
    "        seq2seq.eval()\n",
    "        dev_path = \"../../data/bracket_dedup/K100/dev_depth/data_test_depth_\" + str(depth) + \".txt\"\n",
    "        dev = torchtext.data.TabularDataset(\n",
    "              path=dev_path, format='tsv',\n",
    "              fields=[('src', src), ('tgt', tgt)],\n",
    "              filter_pred=len_filter)\n",
    "        dev_loss, character_accuracy, sentence_accuracy = evaluator.evaluate(seq2seq, dev)\n",
    "        print(\"Depth:%d, Dev Loss:%0.4f, Character Accuracy:%0.4f, Sentence Accuracy:%0.4f\\n\"\n",
    "                    % (depth, dev_loss, character_accuracy, sentence_accuracy))\n",
    "        check_path = \"../../log/check_point/bracket_dedup_hidden_size_to_depth_0.99/hidden_size_\" + str(hidden_size)\n",
    "        with open(check_path, 'a') as f:\n",
    "            f.write(\"Depth:%d, Dev Loss:%0.4f, Character Accuracy:%0.4f, Sentence Accuracy:%0.4f\\n\"\n",
    "                    % (depth, dev_loss, character_accuracy, sentence_accuracy))\n",
    "        \n",
    "        if character_accuracy >= 0.99:\n",
    "            depth_list.append(depth)\n",
    "            break\n",
    "        if depth == 1:\n",
    "            depth_list.append(depth)"
   ]
  },
  {
   "cell_type": "code",
   "execution_count": null,
   "metadata": {},
   "outputs": [],
   "source": [
    "plt.figure(figsize=(15,10))\n",
    "plt.plot(hidden_sizes, depth_list, LineWidth=3)\n",
    "plt.xlabel('Hidden Size', fontsize=24)\n",
    "plt.ylabel('Depth', fontsize=24)\n",
    "plt.savefig('../../log/plot/bracket_dedup_hidden_size_to_depth_0.99/bracket_dedup_hidden_size_to_depth.png')"
   ]
  },
  {
   "cell_type": "code",
   "execution_count": null,
   "metadata": {},
   "outputs": [],
   "source": [
    "print(hidden_sizes)\n",
    "print(depth_list)"
   ]
  }
 ],
 "metadata": {
  "kernelspec": {
   "display_name": "Python 3",
   "language": "python",
   "name": "python3"
  },
  "language_info": {
   "codemirror_mode": {
    "name": "ipython",
    "version": 3
   },
   "file_extension": ".py",
   "mimetype": "text/x-python",
   "name": "python",
   "nbconvert_exporter": "python",
   "pygments_lexer": "ipython3",
   "version": "3.5.2"
  }
 },
 "nbformat": 4,
 "nbformat_minor": 2
}
