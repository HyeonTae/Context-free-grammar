{
 "cells": [
  {
   "cell_type": "markdown",
   "metadata": {},
   "source": [
    "# Set Parameter\n",
    "- Attention = Luong\n",
    "- Teacher Forcing Ratio = 0.5\n",
    "- Layer = 1\n",
    "- Batch size = 32\n",
    "- Drop out = 0.2\n",
    "- Hidden unit = 50\n",
    "- Depth\n",
    "- Ctype\n",
    "- Epochs = 100\n",
    "- N = 100\n",
    "- Data = 100K\n",
    "- Deduplication"
   ]
  },
  {
   "cell_type": "markdown",
   "metadata": {},
   "source": [
    "# Import packages\n",
    "\n",
    "import useful packages for experiments"
   ]
  },
  {
   "cell_type": "code",
   "execution_count": 1,
   "metadata": {},
   "outputs": [
    {
     "name": "stderr",
     "output_type": "stream",
     "text": [
      "/home/hyeontae/hyeontae/venv/lib/python3.6/site-packages/torch/nn/_reduction.py:46: UserWarning: size_average and reduce args will be deprecated, please use reduction='mean' instead.\n",
      "  warnings.warn(warning.format(ret))\n"
     ]
    }
   ],
   "source": [
    "import os\n",
    "import argparse\n",
    "import logging\n",
    "import sys\n",
    "\n",
    "import torch\n",
    "from torch.optim.lr_scheduler import StepLR\n",
    "import torchtext\n",
    "\n",
    "sys.path.append(os.path.dirname(os.path.abspath(os.path.dirname(os.path.abspath(os.path.dirname('__file__'))))))\n",
    "\n",
    "from models.encoderRNN import EncoderRNN\n",
    "from models.decoderRNN import DecoderRNN\n",
    "from models.encoderRNN_gru import EncoderRNN_gru\n",
    "from models.decoderRNN_gru import DecoderRNN_gru\n",
    "from models.seq2seq import Seq2seq\n",
    "from loss.loss import Perplexity\n",
    "from dataset import fields\n",
    "from evaluator.evaluator_unmatching import Evaluator\n",
    "\n",
    "import matplotlib\n",
    "import matplotlib.pyplot as plt"
   ]
  },
  {
   "cell_type": "markdown",
   "metadata": {},
   "source": [
    "# Log format"
   ]
  },
  {
   "cell_type": "code",
   "execution_count": 2,
   "metadata": {},
   "outputs": [],
   "source": [
    "log_level = 'info'\n",
    "LOG_FORMAT = '%(asctime)s %(levelname)-6s %(message)s'\n",
    "logging.basicConfig(format=LOG_FORMAT, level=getattr(logging, log_level.upper()))"
   ]
  },
  {
   "cell_type": "markdown",
   "metadata": {},
   "source": [
    "# Variable definition"
   ]
  },
  {
   "cell_type": "code",
   "execution_count": 3,
   "metadata": {},
   "outputs": [
    {
     "name": "stdout",
     "output_type": "stream",
     "text": [
      "['single_Ctype4']\n"
     ]
    }
   ],
   "source": [
    "hidden_size = 200\n",
    "f1_score_lists = []\n",
    "ctypes = [\"single_Ctype4\"]\n",
    "bidirectional = False\n",
    "print(ctypes)"
   ]
  },
  {
   "cell_type": "code",
   "execution_count": 4,
   "metadata": {
    "scrolled": true
   },
   "outputs": [
    {
     "name": "stderr",
     "output_type": "stream",
     "text": [
      "/home/hyeontae/hyeontae/venv/lib/python3.6/site-packages/torch/nn/_reduction.py:46: UserWarning: size_average and reduce args will be deprecated, please use reduction='sum' instead.\n",
      "  warnings.warn(warning.format(ret))\n"
     ]
    },
    {
     "name": "stdout",
     "output_type": "stream",
     "text": [
      "Character type is : single_Ctype4\n",
      "[4, 6, 8, 10, 12, 14, 16, 18, 20, 22, 24, 26, 28, 30, 32, 34, 36, 38, 40, 42, 44, 46, 48, 50, 52, 54, 56, 58, 60, 62, 64, 66, 68, 70, 72, 74, 76, 78, 80, 82, 84, 86, 88, 90, 92, 94, 96, 98, 100]\n",
      "Length:4, Dev Loss:1.1570, F1 Score:0.8866\n",
      "\n",
      "Length:6, Dev Loss:1.0000, F1 Score:1.0000\n",
      "\n"
     ]
    },
    {
     "name": "stderr",
     "output_type": "stream",
     "text": [
      "/home/hyeontae/hyeontae/venv/lib/python3.6/site-packages/torch/nn/modules/rnn.py:54: UserWarning: dropout option adds dropout after all but last recurrent layer, so non-zero dropout expects num_layers greater than 1, but got dropout=0.2 and num_layers=1\n",
      "  \"num_layers={}\".format(dropout, num_layers))\n",
      "/home/hyeontae/hyeontae/venv/lib/python3.6/site-packages/torch/nn/functional.py:1374: UserWarning: nn.functional.tanh is deprecated. Use torch.tanh instead.\n",
      "  warnings.warn(\"nn.functional.tanh is deprecated. Use torch.tanh instead.\")\n"
     ]
    },
    {
     "name": "stdout",
     "output_type": "stream",
     "text": [
      "Length:8, Dev Loss:1.0002, F1 Score:0.9992\n",
      "\n",
      "Length:10, Dev Loss:1.0001, F1 Score:0.9989\n",
      "\n",
      "Length:12, Dev Loss:1.0004, F1 Score:0.9986\n",
      "\n",
      "Length:14, Dev Loss:1.0007, F1 Score:0.9974\n",
      "\n",
      "Length:16, Dev Loss:1.0031, F1 Score:0.9925\n",
      "\n",
      "Length:18, Dev Loss:1.0041, F1 Score:0.9895\n",
      "\n",
      "Length:20, Dev Loss:1.0032, F1 Score:0.9868\n",
      "\n",
      "Length:22, Dev Loss:1.0041, F1 Score:0.9767\n",
      "\n",
      "Length:24, Dev Loss:1.0069, F1 Score:0.9557\n",
      "\n",
      "Length:26, Dev Loss:1.0059, F1 Score:0.9532\n",
      "\n",
      "Length:28, Dev Loss:1.0080, F1 Score:0.9305\n",
      "\n",
      "Length:30, Dev Loss:1.0088, F1 Score:0.9277\n",
      "\n",
      "Length:32, Dev Loss:1.0098, F1 Score:0.9088\n",
      "\n",
      "Length:34, Dev Loss:1.0107, F1 Score:0.9002\n",
      "\n",
      "Length:36, Dev Loss:1.0107, F1 Score:0.8929\n",
      "\n",
      "Length:38, Dev Loss:1.0130, F1 Score:0.8483\n",
      "\n",
      "Length:40, Dev Loss:1.0144, F1 Score:0.8332\n",
      "\n",
      "Length:42, Dev Loss:1.0166, F1 Score:0.7918\n",
      "\n",
      "Length:44, Dev Loss:1.0175, F1 Score:0.7633\n",
      "\n",
      "Length:46, Dev Loss:1.0181, F1 Score:0.7391\n",
      "\n",
      "Length:48, Dev Loss:1.0182, F1 Score:0.7324\n",
      "\n",
      "Length:50, Dev Loss:1.0188, F1 Score:0.7040\n",
      "\n",
      "Length:52, Dev Loss:1.0205, F1 Score:0.6706\n",
      "\n",
      "Length:54, Dev Loss:1.0210, F1 Score:0.6855\n",
      "\n",
      "Length:56, Dev Loss:1.0240, F1 Score:0.5784\n",
      "\n",
      "Length:58, Dev Loss:1.0211, F1 Score:0.5912\n",
      "\n",
      "Length:60, Dev Loss:1.0230, F1 Score:0.5887\n",
      "\n",
      "Length:62, Dev Loss:1.0245, F1 Score:0.4895\n",
      "\n",
      "Length:64, Dev Loss:1.0254, F1 Score:0.4828\n",
      "\n",
      "Length:66, Dev Loss:1.0255, F1 Score:0.4267\n",
      "\n",
      "Length:68, Dev Loss:1.0255, F1 Score:0.3947\n",
      "\n",
      "Length:70, Dev Loss:1.0248, F1 Score:0.4403\n",
      "\n",
      "Length:72, Dev Loss:1.0268, F1 Score:0.3522\n",
      "\n",
      "Length:74, Dev Loss:1.0262, F1 Score:0.3057\n",
      "\n",
      "Length:76, Dev Loss:1.0253, F1 Score:0.3026\n",
      "\n",
      "Length:78, Dev Loss:1.0259, F1 Score:0.2149\n",
      "\n",
      "Length:80, Dev Loss:1.0278, F1 Score:0.2564\n",
      "\n",
      "Length:82, Dev Loss:1.0277, F1 Score:0.1824\n",
      "\n",
      "Length:84, Dev Loss:1.0281, F1 Score:0.1036\n",
      "\n",
      "Length:86, Dev Loss:1.0299, F1 Score:0.0918\n",
      "\n",
      "Length:88, Dev Loss:1.0291, F1 Score:0.0794\n",
      "\n",
      "Length:90, Dev Loss:1.0278, F1 Score:0.1095\n",
      "\n",
      "Length:92, Dev Loss:1.0297, F1 Score:0.0541\n",
      "\n",
      "Length:94, Dev Loss:1.0278, F1 Score:0.0660\n",
      "\n",
      "Length:96, Dev Loss:1.0293, F1 Score:0.0369\n",
      "\n",
      "Length:98, Dev Loss:1.0275, F1 Score:0.0642\n",
      "\n",
      "Length:100, Dev Loss:1.0304, F1 Score:0.0513\n",
      "\n"
     ]
    }
   ],
   "source": [
    "for i in ctypes:\n",
    "    f1_score_list = []\n",
    "    ctype = i\n",
    "    # Data load\n",
    "    train_path = \"../../data/copy_rand/correction_\" + ctype + \"/data_train.txt\"\n",
    "    \n",
    "    # Prepare dataset\n",
    "    src = fields.SourceField()\n",
    "    tgt = fields.TargetField()\n",
    "    max_len = 104\n",
    "    def len_filter(example):\n",
    "        return len(example.src) <= max_len and len(example.tgt) <= max_len\n",
    "    train = torchtext.data.TabularDataset(\n",
    "        path=train_path, format='tsv',\n",
    "        fields=[('src', src), ('tgt', tgt)],\n",
    "        filter_pred=len_filter\n",
    "    )\n",
    "    src.build_vocab(train)\n",
    "    tgt.build_vocab(train)\n",
    "    input_vocab = src.vocab\n",
    "    output_vocab = tgt.vocab\n",
    "    \n",
    "    # Prepare loss\n",
    "    weight = torch.ones(len(tgt.vocab))\n",
    "    pad = tgt.vocab.stoi[tgt.pad_token]\n",
    "    loss = Perplexity(weight, pad)\n",
    "    if torch.cuda.is_available():\n",
    "        loss.cuda()\n",
    "    \n",
    "    # Model\n",
    "    evaluator = Evaluator(loss=loss, batch_size=32)\n",
    "    hidden_size\n",
    "    print(\"Character type is : %s\" % ctype)\n",
    "    seq2seq = None\n",
    "    encoder = EncoderRNN(len(src.vocab), max_len, hidden_size,\n",
    "                         bidirectional=bidirectional, variable_lengths=True)\n",
    "    decoder = DecoderRNN(len(tgt.vocab), max_len, hidden_size * 2 if bidirectional else hidden_size,\n",
    "                         dropout_p=0.2, use_attention=\"Luong\", bidirectional=bidirectional,\n",
    "                         eos_id=tgt.eos_id, sos_id=tgt.sos_id)\n",
    "    seq2seq = Seq2seq(encoder, decoder)\n",
    "    if torch.cuda.is_available():\n",
    "        seq2seq.cuda()\n",
    "\n",
    "    for param in seq2seq.parameters():\n",
    "        param.data.uniform_(-0.08, 0.08)\n",
    "    \n",
    "    lengths = list(range(4, 101, 2))\n",
    "    print(lengths)\n",
    "    for length in lengths:\n",
    "        log_path = \"../../log/pth/train_copy_rand_correction_ctype4_\" + ctype + \"_model_save.pth\"\n",
    "        seq2seq.load_state_dict(torch.load(log_path))\n",
    "        seq2seq.eval()\n",
    "        dev_path = \"../../data/copy_rand/correction_\" + ctype + \"/dev_length/data_test_length_\" + str(length) + \".txt\"\n",
    "        dev = torchtext.data.TabularDataset(\n",
    "              path=dev_path, format='tsv',\n",
    "              fields=[('src', src), ('tgt', tgt)],\n",
    "              filter_pred=len_filter)\n",
    "        dev_loss, _, _, f1_score = evaluator.evaluate(seq2seq, dev)\n",
    "        print(\"Length:%d, Dev Loss:%0.4f, F1 Score:%0.4f\\n\"\n",
    "                    % (length, dev_loss, f1_score))\n",
    "        check_path = \"../../log/check_point/rnn_comp_copy_rand_correction_length_to_f1_score/lstm_\" + ctype\n",
    "        with open(check_path, 'a') as f:\n",
    "            f.write(\"Length:%d, Dev Loss:%0.4f, F1 Score:%0.4f\\n\"\n",
    "                    % (length, dev_loss, f1_score))\n",
    "        \n",
    "        f1_score_list.append(f1_score)\n",
    "        \n",
    "    f1_score_lists.append(f1_score_list)"
   ]
  },
  {
   "cell_type": "code",
   "execution_count": 5,
   "metadata": {
    "scrolled": true
   },
   "outputs": [
    {
     "name": "stdout",
     "output_type": "stream",
     "text": [
      "Character type is : single_Ctype4\n",
      "[4, 6, 8, 10, 12, 14, 16, 18, 20, 22, 24, 26, 28, 30, 32, 34, 36, 38, 40, 42, 44, 46, 48, 50, 52, 54, 56, 58, 60, 62, 64, 66, 68, 70, 72, 74, 76, 78, 80, 82, 84, 86, 88, 90, 92, 94, 96, 98, 100]\n",
      "Length:4, Dev Loss:1.1216, F1 Score:0.9130\n",
      "\n",
      "Length:6, Dev Loss:1.0000, F1 Score:1.0000\n",
      "\n",
      "Length:8, Dev Loss:1.0000, F1 Score:1.0000\n",
      "\n",
      "Length:10, Dev Loss:1.0000, F1 Score:1.0000\n",
      "\n",
      "Length:12, Dev Loss:1.0000, F1 Score:1.0000\n",
      "\n",
      "Length:14, Dev Loss:1.0000, F1 Score:1.0000\n",
      "\n",
      "Length:16, Dev Loss:1.0000, F1 Score:1.0000\n",
      "\n",
      "Length:18, Dev Loss:1.0004, F1 Score:0.9988\n",
      "\n",
      "Length:20, Dev Loss:1.0017, F1 Score:0.9937\n",
      "\n",
      "Length:22, Dev Loss:1.0019, F1 Score:0.9909\n",
      "\n",
      "Length:24, Dev Loss:1.0051, F1 Score:0.9722\n",
      "\n",
      "Length:26, Dev Loss:1.0060, F1 Score:0.9611\n",
      "\n",
      "Length:28, Dev Loss:1.0097, F1 Score:0.9311\n",
      "\n",
      "Length:30, Dev Loss:1.0118, F1 Score:0.9078\n",
      "\n",
      "Length:32, Dev Loss:1.0148, F1 Score:0.8720\n",
      "\n",
      "Length:34, Dev Loss:1.0154, F1 Score:0.8529\n",
      "\n",
      "Length:36, Dev Loss:1.0192, F1 Score:0.7976\n",
      "\n",
      "Length:38, Dev Loss:1.0215, F1 Score:0.7539\n",
      "\n",
      "Length:40, Dev Loss:1.0246, F1 Score:0.6989\n",
      "\n",
      "Length:42, Dev Loss:1.0268, F1 Score:0.6618\n",
      "\n",
      "Length:44, Dev Loss:1.0259, F1 Score:0.6376\n",
      "\n",
      "Length:46, Dev Loss:1.0291, F1 Score:0.5550\n",
      "\n",
      "Length:48, Dev Loss:1.0263, F1 Score:0.5456\n",
      "\n",
      "Length:50, Dev Loss:1.0286, F1 Score:0.4915\n",
      "\n",
      "Length:52, Dev Loss:1.0306, F1 Score:0.4318\n",
      "\n",
      "Length:54, Dev Loss:1.0330, F1 Score:0.4131\n",
      "\n",
      "Length:56, Dev Loss:1.0332, F1 Score:0.3701\n",
      "\n",
      "Length:58, Dev Loss:1.0315, F1 Score:0.3281\n",
      "\n",
      "Length:60, Dev Loss:1.0330, F1 Score:0.3073\n",
      "\n",
      "Length:62, Dev Loss:1.0328, F1 Score:0.2515\n",
      "\n",
      "Length:64, Dev Loss:1.0345, F1 Score:0.2373\n",
      "\n",
      "Length:66, Dev Loss:1.0353, F1 Score:0.1842\n",
      "\n",
      "Length:68, Dev Loss:1.0366, F1 Score:0.1612\n",
      "\n",
      "Length:70, Dev Loss:1.0350, F1 Score:0.1035\n",
      "\n",
      "Length:72, Dev Loss:1.0376, F1 Score:0.1449\n",
      "\n",
      "Length:74, Dev Loss:1.0367, F1 Score:0.0923\n",
      "\n",
      "Length:76, Dev Loss:1.0380, F1 Score:0.0349\n",
      "\n",
      "Length:78, Dev Loss:1.0357, F1 Score:0.0203\n",
      "\n",
      "Length:80, Dev Loss:1.0394, F1 Score:0.0253\n",
      "\n",
      "Length:82, Dev Loss:1.0374, F1 Score:0.0606\n",
      "\n",
      "Length:84, Dev Loss:1.0397, F1 Score:0.0372\n",
      "\n",
      "Length:86, Dev Loss:1.0400, F1 Score:0.0075\n",
      "\n",
      "Length:88, Dev Loss:1.0401, F1 Score:0.0279\n",
      "\n",
      "Length:90, Dev Loss:1.0384, F1 Score:0.0167\n",
      "\n",
      "Length:92, Dev Loss:1.0400, F1 Score:0.0101\n",
      "\n",
      "Length:94, Dev Loss:1.0379, F1 Score:0.0000\n",
      "\n",
      "Length:96, Dev Loss:1.0407, F1 Score:0.0102\n",
      "\n",
      "Length:98, Dev Loss:1.0379, F1 Score:0.0118\n",
      "\n",
      "Length:100, Dev Loss:1.0434, F1 Score:0.0112\n",
      "\n"
     ]
    }
   ],
   "source": [
    "for i in ctypes:\n",
    "    f1_score_list = []\n",
    "    ctype = i\n",
    "    # Data load\n",
    "    train_path = \"../../data/copy_rand/correction_\" + ctype + \"/data_train.txt\"\n",
    "    \n",
    "    # Prepare dataset\n",
    "    src = fields.SourceField()\n",
    "    tgt = fields.TargetField()\n",
    "    max_len = 104\n",
    "    def len_filter(example):\n",
    "        return len(example.src) <= max_len and len(example.tgt) <= max_len\n",
    "    train = torchtext.data.TabularDataset(\n",
    "        path=train_path, format='tsv',\n",
    "        fields=[('src', src), ('tgt', tgt)],\n",
    "        filter_pred=len_filter\n",
    "    )\n",
    "    src.build_vocab(train)\n",
    "    tgt.build_vocab(train)\n",
    "    input_vocab = src.vocab\n",
    "    output_vocab = tgt.vocab\n",
    "    \n",
    "    # Prepare loss\n",
    "    weight = torch.ones(len(tgt.vocab))\n",
    "    pad = tgt.vocab.stoi[tgt.pad_token]\n",
    "    loss = Perplexity(weight, pad)\n",
    "    if torch.cuda.is_available():\n",
    "        loss.cuda()\n",
    "    \n",
    "    # Model\n",
    "    evaluator = Evaluator(loss=loss, batch_size=32)\n",
    "    hidden_size\n",
    "    print(\"Character type is : %s\" % ctype)\n",
    "    seq2seq = None\n",
    "    encoder = EncoderRNN_gru(len(src.vocab), max_len, hidden_size,\n",
    "                         bidirectional=bidirectional, variable_lengths=True)\n",
    "    decoder = DecoderRNN_gru(len(tgt.vocab), max_len, hidden_size * 2 if bidirectional else hidden_size,\n",
    "                         dropout_p=0.2, use_attention=\"Luong\", bidirectional=bidirectional,\n",
    "                         eos_id=tgt.eos_id, sos_id=tgt.sos_id)\n",
    "    seq2seq = Seq2seq(encoder, decoder)\n",
    "    if torch.cuda.is_available():\n",
    "        seq2seq.cuda()\n",
    "\n",
    "    for param in seq2seq.parameters():\n",
    "        param.data.uniform_(-0.08, 0.08)\n",
    "    \n",
    "    lengths = list(range(4, 101, 2))\n",
    "    print(lengths)\n",
    "    for length in lengths:\n",
    "        log_path = \"../../log/pth/GRU_copy_rand_correction_\" + ctype + \"_model_save.pth\"\n",
    "        seq2seq.load_state_dict(torch.load(log_path))\n",
    "        seq2seq.eval()\n",
    "        dev_path = \"../../data/copy_rand/correction_\" + ctype + \"/dev_length/data_test_length_\" + str(length) + \".txt\"\n",
    "        dev = torchtext.data.TabularDataset(\n",
    "              path=dev_path, format='tsv',\n",
    "              fields=[('src', src), ('tgt', tgt)],\n",
    "              filter_pred=len_filter)\n",
    "        dev_loss, _, _, f1_score = evaluator.evaluate(seq2seq, dev)\n",
    "        print(\"Length:%d, Dev Loss:%0.4f, F1 Score:%0.4f\\n\"\n",
    "                    % (length, dev_loss, f1_score))\n",
    "        check_path = \"../../log/check_point/rnn_comp_copy_rand_correction_length_to_f1_score/gru_\" + ctype\n",
    "        with open(check_path, 'a') as f:\n",
    "            f.write(\"Length:%d, Dev Loss:%0.4f, F1 Score:%0.4f\\n\"\n",
    "                    % (length, dev_loss, f1_score))\n",
    "        \n",
    "        f1_score_list.append(f1_score)\n",
    "        \n",
    "    f1_score_lists.append(f1_score_list)"
   ]
  },
  {
   "cell_type": "code",
   "execution_count": 6,
   "metadata": {},
   "outputs": [
    {
     "data": {
      "image/png": "[encoded data removed]",
      "text/plain": [
       "<Figure size 1080x504 with 1 Axes>"
      ]
     },
     "metadata": {
      "needs_background": "light"
     },
     "output_type": "display_data"
    }
   ],
   "source": [
    "plt.figure(figsize=(15,7))\n",
    "plt.plot(lengths[1::], f1_score_lists[0][1::], '-', LineWidth=3, label=\"LSTM\")\n",
    "plt.plot(lengths[1::], f1_score_lists[1][1::], '-o', LineWidth=3, label=\"GRU\")\n",
    "plt.legend(loc=\"best\", fontsize=12)\n",
    "plt.xlabel('Length', fontsize=24)\n",
    "plt.ylabel('F1 Score', fontsize=24)\n",
    "plt.ylim([0, 1.1])\n",
    "plt.savefig('../../log/plot/rnn_comp_copy_rand_correction_length_to_f1_score/copy_rand_correction_single_Ctypes4_length_to_f1_score.png')"
   ]
  },
  {
   "cell_type": "code",
   "execution_count": 7,
   "metadata": {
    "scrolled": true
   },
   "outputs": [
    {
     "name": "stdout",
     "output_type": "stream",
     "text": [
      "[0.8865979381443299, 1.0, 0.9992082343626286, 0.9989495798319328, 0.9985666507405638, 0.9974039460020768, 0.9924932975871313, 0.989540964555491, 0.9867758186397985, 0.9766970618034447, 0.9556962025316456, 0.9532048761305546, 0.9304857621440537, 0.9277210884353743, 0.9087557603686636, 0.9002016129032259, 0.892896174863388, 0.848314606741573, 0.8332276474318325, 0.7918215613382898, 0.7633358377160031, 0.7390648567119155, 0.7323704333050126, 0.7040149393090569, 0.6705653021442495, 0.6854990583804145, 0.5783898305084746, 0.5911799761620978, 0.5886792452830188, 0.4895104895104896, 0.48275862068965525, 0.4267100977198697, 0.3946932006633499, 0.4403292181069959, 0.3522012578616352, 0.3056768558951965, 0.3026004728132388, 0.21487603305785125, 0.2564102564102564, 0.18241042345276873, 0.10355987055016182, 0.0918032786885246, 0.07936507936507936, 0.10948905109489052, 0.05405405405405406, 0.06603773584905662, 0.03686635944700461, 0.0641711229946524, 0.05128205128205128]\n",
      "[0.9130434782608695, 1.0, 1.0, 1.0, 1.0, 1.0, 1.0, 0.9988378849506101, 0.9937027707808564, 0.9908814589665653, 0.9722124516355962, 0.9611001964636543, 0.9311064718162839, 0.9077773055673609, 0.8719596145020652, 0.8528528528528528, 0.7976125881714595, 0.7539325842696629, 0.6988707653701379, 0.6617556783302639, 0.6375739644970413, 0.5549738219895289, 0.5456095481670928, 0.4915254237288135, 0.4318407960199005, 0.4130643611911624, 0.37011494252873556, 0.32808398950131235, 0.30727762803234504, 0.25153374233128833, 0.23734177215189875, 0.1841620626151013, 0.16117216117216118, 0.10352941176470588, 0.14485981308411214, 0.09230769230769231, 0.03488372093023256, 0.020270270270270268, 0.02531645569620253, 0.06060606060606061, 0.03717472118959107, 0.007462686567164178, 0.027906976744186046, 0.016666666666666666, 0.010050251256281405, 0, 0.01015228426395939, 0.011834319526627219, 0.0111731843575419]\n"
     ]
    }
   ],
   "source": [
    "print(f1_score_lists[0])\n",
    "print(f1_score_lists[1])"
   ]
  },
  {
   "cell_type": "code",
   "execution_count": null,
   "metadata": {},
   "outputs": [],
   "source": []
  }
 ],
 "metadata": {
  "kernelspec": {
   "display_name": "Python 3",
   "language": "python",
   "name": "python3"
  },
  "language_info": {
   "codemirror_mode": {
    "name": "ipython",
    "version": 3
   },
   "file_extension": ".py",
   "mimetype": "text/x-python",
   "name": "python",
   "nbconvert_exporter": "python",
   "pygments_lexer": "ipython3",
   "version": "3.6.7"
  }
 },
 "nbformat": 4,
 "nbformat_minor": 2
}
