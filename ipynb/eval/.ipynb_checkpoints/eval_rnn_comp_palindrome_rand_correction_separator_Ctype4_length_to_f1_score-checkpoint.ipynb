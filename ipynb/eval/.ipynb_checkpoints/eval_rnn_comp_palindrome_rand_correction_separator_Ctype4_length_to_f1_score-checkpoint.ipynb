{
 "cells": [
  {
   "cell_type": "markdown",
   "metadata": {},
   "source": [
    "# Set Parameter\n",
    "- Attention = Luong\n",
    "- Teacher Forcing Ratio = 0.5\n",
    "- Layer = 1\n",
    "- Batch size = 32\n",
    "- Drop out = 0.2\n",
    "- Hidden unit = 50\n",
    "- Depth\n",
    "- Ctype\n",
    "- Epochs = 100\n",
    "- N = 100\n",
    "- Data = 100K\n",
    "- Deduplication"
   ]
  },
  {
   "cell_type": "markdown",
   "metadata": {},
   "source": [
    "# Import packages\n",
    "\n",
    "import useful packages for experiments"
   ]
  },
  {
   "cell_type": "code",
   "execution_count": 1,
   "metadata": {},
   "outputs": [
    {
     "name": "stderr",
     "output_type": "stream",
     "text": [
      "/home/hyeontae/hyeontae/venv/lib/python3.6/site-packages/torch/nn/_reduction.py:46: UserWarning: size_average and reduce args will be deprecated, please use reduction='mean' instead.\n",
      "  warnings.warn(warning.format(ret))\n"
     ]
    }
   ],
   "source": [
    "import os\n",
    "import argparse\n",
    "import logging\n",
    "import sys\n",
    "\n",
    "import torch\n",
    "from torch.optim.lr_scheduler import StepLR\n",
    "import torchtext\n",
    "\n",
    "sys.path.append(os.path.dirname(os.path.abspath(os.path.dirname(os.path.abspath(os.path.dirname('__file__'))))))\n",
    "\n",
    "from models.encoderRNN import EncoderRNN\n",
    "from models.decoderRNN import DecoderRNN\n",
    "from models.encoderRNN_gru import EncoderRNN_gru\n",
    "from models.decoderRNN_gru import DecoderRNN_gru\n",
    "from models.seq2seq import Seq2seq\n",
    "from loss.loss import Perplexity\n",
    "from dataset import fields\n",
    "from evaluator.evaluator_unmatching import Evaluator\n",
    "\n",
    "import matplotlib\n",
    "import matplotlib.pyplot as plt"
   ]
  },
  {
   "cell_type": "markdown",
   "metadata": {},
   "source": [
    "# Log format"
   ]
  },
  {
   "cell_type": "code",
   "execution_count": 2,
   "metadata": {},
   "outputs": [],
   "source": [
    "log_level = 'info'\n",
    "LOG_FORMAT = '%(asctime)s %(levelname)-6s %(message)s'\n",
    "logging.basicConfig(format=LOG_FORMAT, level=getattr(logging, log_level.upper()))"
   ]
  },
  {
   "cell_type": "markdown",
   "metadata": {},
   "source": [
    "# Variable definition"
   ]
  },
  {
   "cell_type": "code",
   "execution_count": 3,
   "metadata": {},
   "outputs": [
    {
     "name": "stdout",
     "output_type": "stream",
     "text": [
      "['separator_Ctype4']\n"
     ]
    }
   ],
   "source": [
    "hidden_size = 200\n",
    "f1_score_lists = []\n",
    "ctypes = [\"separator_Ctype4\"]\n",
    "bidirectional = False\n",
    "print(ctypes)"
   ]
  },
  {
   "cell_type": "code",
   "execution_count": 4,
   "metadata": {
    "scrolled": true
   },
   "outputs": [
    {
     "name": "stderr",
     "output_type": "stream",
     "text": [
      "/home/hyeontae/hyeontae/venv/lib/python3.6/site-packages/torch/nn/_reduction.py:46: UserWarning: size_average and reduce args will be deprecated, please use reduction='sum' instead.\n",
      "  warnings.warn(warning.format(ret))\n"
     ]
    },
    {
     "name": "stdout",
     "output_type": "stream",
     "text": [
      "Character type is : separator_Ctype4\n",
      "[4, 6, 8, 10, 12, 14, 16, 18, 20, 22, 24, 26, 28, 30, 32, 34, 36, 38, 40, 42, 44, 46, 48, 50, 52, 54, 56, 58, 60, 62, 64, 66, 68, 70, 72, 74, 76, 78, 80, 82, 84, 86, 88, 90, 92, 94, 96, 98, 100]\n",
      "Length:4, Dev Loss:2.4315, F1 Score:0.6923\n",
      "\n",
      "Length:6, Dev Loss:1.0787, F1 Score:0.9369\n",
      "\n"
     ]
    },
    {
     "name": "stderr",
     "output_type": "stream",
     "text": [
      "/home/hyeontae/hyeontae/venv/lib/python3.6/site-packages/torch/nn/modules/rnn.py:54: UserWarning: dropout option adds dropout after all but last recurrent layer, so non-zero dropout expects num_layers greater than 1, but got dropout=0.2 and num_layers=1\n",
      "  \"num_layers={}\".format(dropout, num_layers))\n",
      "/home/hyeontae/hyeontae/venv/lib/python3.6/site-packages/torch/nn/functional.py:1374: UserWarning: nn.functional.tanh is deprecated. Use torch.tanh instead.\n",
      "  warnings.warn(\"nn.functional.tanh is deprecated. Use torch.tanh instead.\")\n"
     ]
    },
    {
     "name": "stdout",
     "output_type": "stream",
     "text": [
      "Length:8, Dev Loss:1.0285, F1 Score:0.9583\n",
      "\n",
      "Length:10, Dev Loss:1.0252, F1 Score:0.9565\n",
      "\n",
      "Length:12, Dev Loss:1.0237, F1 Score:0.9551\n",
      "\n",
      "Length:14, Dev Loss:1.0182, F1 Score:0.9397\n",
      "\n",
      "Length:16, Dev Loss:1.0289, F1 Score:0.9065\n",
      "\n",
      "Length:18, Dev Loss:1.0379, F1 Score:0.8673\n",
      "\n",
      "Length:20, Dev Loss:1.0373, F1 Score:0.8480\n",
      "\n",
      "Length:22, Dev Loss:1.0346, F1 Score:0.8540\n",
      "\n",
      "Length:24, Dev Loss:1.0344, F1 Score:0.8235\n",
      "\n",
      "Length:26, Dev Loss:1.0373, F1 Score:0.8114\n",
      "\n",
      "Length:28, Dev Loss:1.0396, F1 Score:0.8198\n",
      "\n",
      "Length:30, Dev Loss:1.0443, F1 Score:0.7773\n",
      "\n",
      "Length:32, Dev Loss:1.0458, F1 Score:0.7580\n",
      "\n",
      "Length:34, Dev Loss:1.0392, F1 Score:0.7695\n",
      "\n",
      "Length:36, Dev Loss:1.0445, F1 Score:0.7789\n",
      "\n",
      "Length:38, Dev Loss:1.0409, F1 Score:0.7658\n",
      "\n",
      "Length:40, Dev Loss:1.0433, F1 Score:0.7401\n",
      "\n",
      "Length:42, Dev Loss:1.0412, F1 Score:0.7515\n",
      "\n",
      "Length:44, Dev Loss:1.0442, F1 Score:0.7117\n",
      "\n",
      "Length:46, Dev Loss:1.0453, F1 Score:0.7103\n",
      "\n",
      "Length:48, Dev Loss:1.0455, F1 Score:0.7081\n",
      "\n",
      "Length:50, Dev Loss:1.0453, F1 Score:0.7115\n",
      "\n",
      "Length:52, Dev Loss:1.0418, F1 Score:0.7204\n",
      "\n",
      "Length:54, Dev Loss:1.0437, F1 Score:0.7076\n",
      "\n",
      "Length:56, Dev Loss:1.0436, F1 Score:0.7194\n",
      "\n",
      "Length:58, Dev Loss:1.0531, F1 Score:0.6652\n",
      "\n",
      "Length:60, Dev Loss:1.0466, F1 Score:0.6658\n",
      "\n",
      "Length:62, Dev Loss:1.0448, F1 Score:0.6794\n",
      "\n",
      "Length:64, Dev Loss:1.0461, F1 Score:0.6784\n",
      "\n",
      "Length:66, Dev Loss:1.0474, F1 Score:0.6156\n",
      "\n",
      "Length:68, Dev Loss:1.0507, F1 Score:0.6593\n",
      "\n",
      "Length:70, Dev Loss:1.0477, F1 Score:0.6596\n",
      "\n",
      "Length:72, Dev Loss:1.0485, F1 Score:0.6641\n",
      "\n",
      "Length:74, Dev Loss:1.0447, F1 Score:0.5988\n",
      "\n",
      "Length:76, Dev Loss:1.0444, F1 Score:0.6692\n",
      "\n",
      "Length:78, Dev Loss:1.0477, F1 Score:0.6571\n",
      "\n",
      "Length:80, Dev Loss:1.0481, F1 Score:0.6189\n",
      "\n",
      "Length:82, Dev Loss:1.0517, F1 Score:0.5602\n",
      "\n",
      "Length:84, Dev Loss:1.0463, F1 Score:0.6079\n",
      "\n",
      "Length:86, Dev Loss:1.0540, F1 Score:0.5621\n",
      "\n",
      "Length:88, Dev Loss:1.0468, F1 Score:0.5472\n",
      "\n",
      "Length:90, Dev Loss:1.0510, F1 Score:0.5207\n",
      "\n",
      "Length:92, Dev Loss:1.0471, F1 Score:0.5297\n",
      "\n",
      "Length:94, Dev Loss:1.0463, F1 Score:0.5767\n",
      "\n",
      "Length:96, Dev Loss:1.0508, F1 Score:0.5541\n",
      "\n",
      "Length:98, Dev Loss:1.0472, F1 Score:0.5435\n",
      "\n",
      "Length:100, Dev Loss:1.0467, F1 Score:0.5560\n",
      "\n"
     ]
    }
   ],
   "source": [
    "for i in ctypes:\n",
    "    f1_score_list = []\n",
    "    ctype = i\n",
    "    # Data load\n",
    "    train_path = \"../../data/palindrome_rand/correction_\" + ctype + \"/data_train.txt\"\n",
    "    \n",
    "    # Prepare dataset\n",
    "    src = fields.SourceField()\n",
    "    tgt = fields.TargetField()\n",
    "    max_len = 104\n",
    "    def len_filter(example):\n",
    "        return len(example.src) <= max_len and len(example.tgt) <= max_len\n",
    "    train = torchtext.data.TabularDataset(\n",
    "        path=train_path, format='tsv',\n",
    "        fields=[('src', src), ('tgt', tgt)],\n",
    "        filter_pred=len_filter\n",
    "    )\n",
    "    src.build_vocab(train)\n",
    "    tgt.build_vocab(train)\n",
    "    input_vocab = src.vocab\n",
    "    output_vocab = tgt.vocab\n",
    "    \n",
    "    # Prepare loss\n",
    "    weight = torch.ones(len(tgt.vocab))\n",
    "    pad = tgt.vocab.stoi[tgt.pad_token]\n",
    "    loss = Perplexity(weight, pad)\n",
    "    if torch.cuda.is_available():\n",
    "        loss.cuda()\n",
    "    \n",
    "    # Model\n",
    "    evaluator = Evaluator(loss=loss, batch_size=32)\n",
    "    hidden_size\n",
    "    print(\"Character type is : %s\" % ctype)\n",
    "    seq2seq = None\n",
    "    encoder = EncoderRNN(len(src.vocab), max_len, hidden_size,\n",
    "                         bidirectional=bidirectional, variable_lengths=True)\n",
    "    decoder = DecoderRNN(len(tgt.vocab), max_len, hidden_size * 2 if bidirectional else hidden_size,\n",
    "                         dropout_p=0.2, use_attention=\"Luong\", bidirectional=bidirectional,\n",
    "                         eos_id=tgt.eos_id, sos_id=tgt.sos_id)\n",
    "    seq2seq = Seq2seq(encoder, decoder)\n",
    "    if torch.cuda.is_available():\n",
    "        seq2seq.cuda()\n",
    "\n",
    "    for param in seq2seq.parameters():\n",
    "        param.data.uniform_(-0.08, 0.08)\n",
    "    \n",
    "    lengths = list(range(4, 101, 2))\n",
    "    print(lengths)\n",
    "    for length in lengths:\n",
    "        log_path = \"../../log/pth/train_palindrome_rand_correction_ctype4_\" + ctype + \"_model_save.pth\"\n",
    "        seq2seq.load_state_dict(torch.load(log_path))\n",
    "        seq2seq.eval()\n",
    "        dev_path = \"../../data/palindrome_rand/correction_\" + ctype + \"/dev_length/data_test_length_\" + str(length) + \".txt\"\n",
    "        dev = torchtext.data.TabularDataset(\n",
    "              path=dev_path, format='tsv',\n",
    "              fields=[('src', src), ('tgt', tgt)],\n",
    "              filter_pred=len_filter)\n",
    "        dev_loss, _, _, f1_score = evaluator.evaluate(seq2seq, dev)\n",
    "        print(\"Length:%d, Dev Loss:%0.4f, F1 Score:%0.4f\\n\"\n",
    "                    % (length, dev_loss, f1_score))\n",
    "        check_path = \"../../log/check_point/rnn_comp_palindrome_rand_correction_length_to_f1_score/lstm_\" + ctype\n",
    "        with open(check_path, 'a') as f:\n",
    "            f.write(\"Length:%d, Dev Loss:%0.4f, F1 Score:%0.4f\\n\"\n",
    "                    % (length, dev_loss, f1_score))\n",
    "        \n",
    "        f1_score_list.append(f1_score)\n",
    "        \n",
    "    f1_score_lists.append(f1_score_list)"
   ]
  },
  {
   "cell_type": "code",
   "execution_count": 5,
   "metadata": {
    "scrolled": true
   },
   "outputs": [
    {
     "name": "stdout",
     "output_type": "stream",
     "text": [
      "Character type is : separator_Ctype4\n",
      "[4, 6, 8, 10, 12, 14, 16, 18, 20, 22, 24, 26, 28, 30, 32, 34, 36, 38, 40, 42, 44, 46, 48, 50, 52, 54, 56, 58, 60, 62, 64, 66, 68, 70, 72, 74, 76, 78, 80, 82, 84, 86, 88, 90, 92, 94, 96, 98, 100]\n",
      "Length:4, Dev Loss:1.0217, F1 Score:0.8966\n",
      "\n",
      "Length:6, Dev Loss:1.0116, F1 Score:0.9864\n",
      "\n",
      "Length:8, Dev Loss:1.0017, F1 Score:0.9920\n",
      "\n",
      "Length:10, Dev Loss:1.0035, F1 Score:0.9910\n",
      "\n",
      "Length:12, Dev Loss:1.0130, F1 Score:0.9704\n",
      "\n",
      "Length:14, Dev Loss:1.0128, F1 Score:0.9602\n",
      "\n",
      "Length:16, Dev Loss:1.0277, F1 Score:0.9038\n",
      "\n",
      "Length:18, Dev Loss:1.0340, F1 Score:0.8703\n",
      "\n",
      "Length:20, Dev Loss:1.0315, F1 Score:0.8584\n",
      "\n",
      "Length:22, Dev Loss:1.0393, F1 Score:0.8126\n",
      "\n",
      "Length:24, Dev Loss:1.0446, F1 Score:0.7773\n",
      "\n",
      "Length:26, Dev Loss:1.0454, F1 Score:0.7588\n",
      "\n",
      "Length:28, Dev Loss:1.0478, F1 Score:0.7577\n",
      "\n",
      "Length:30, Dev Loss:1.0535, F1 Score:0.7039\n",
      "\n",
      "Length:32, Dev Loss:1.0523, F1 Score:0.6838\n",
      "\n",
      "Length:34, Dev Loss:1.0526, F1 Score:0.6762\n",
      "\n",
      "Length:36, Dev Loss:1.0598, F1 Score:0.6222\n",
      "\n",
      "Length:38, Dev Loss:1.0613, F1 Score:0.6120\n",
      "\n",
      "Length:40, Dev Loss:1.0582, F1 Score:0.6527\n",
      "\n",
      "Length:42, Dev Loss:1.0634, F1 Score:0.5765\n",
      "\n",
      "Length:44, Dev Loss:1.0620, F1 Score:0.5488\n",
      "\n",
      "Length:46, Dev Loss:1.0683, F1 Score:0.5214\n",
      "\n",
      "Length:48, Dev Loss:1.0674, F1 Score:0.5524\n",
      "\n",
      "Length:50, Dev Loss:1.0709, F1 Score:0.5152\n",
      "\n",
      "Length:52, Dev Loss:1.0663, F1 Score:0.5189\n",
      "\n",
      "Length:54, Dev Loss:1.0670, F1 Score:0.5067\n",
      "\n",
      "Length:56, Dev Loss:1.0669, F1 Score:0.5100\n",
      "\n",
      "Length:58, Dev Loss:1.0794, F1 Score:0.4361\n",
      "\n",
      "Length:60, Dev Loss:1.0674, F1 Score:0.4723\n",
      "\n",
      "Length:62, Dev Loss:1.0704, F1 Score:0.4199\n",
      "\n",
      "Length:64, Dev Loss:1.0687, F1 Score:0.4640\n",
      "\n",
      "Length:66, Dev Loss:1.0691, F1 Score:0.3908\n",
      "\n",
      "Length:68, Dev Loss:1.0768, F1 Score:0.4141\n",
      "\n",
      "Length:70, Dev Loss:1.0739, F1 Score:0.3315\n",
      "\n",
      "Length:72, Dev Loss:1.0780, F1 Score:0.3557\n",
      "\n",
      "Length:74, Dev Loss:1.0693, F1 Score:0.3226\n",
      "\n",
      "Length:76, Dev Loss:1.0747, F1 Score:0.3527\n",
      "\n",
      "Length:78, Dev Loss:1.0752, F1 Score:0.3467\n",
      "\n",
      "Length:80, Dev Loss:1.0796, F1 Score:0.2768\n",
      "\n",
      "Length:82, Dev Loss:1.0771, F1 Score:0.3205\n",
      "\n",
      "Length:84, Dev Loss:1.0762, F1 Score:0.2782\n",
      "\n",
      "Length:86, Dev Loss:1.0804, F1 Score:0.2914\n",
      "\n",
      "Length:88, Dev Loss:1.0704, F1 Score:0.1920\n",
      "\n",
      "Length:90, Dev Loss:1.0785, F1 Score:0.2222\n",
      "\n",
      "Length:92, Dev Loss:1.0732, F1 Score:0.2541\n",
      "\n",
      "Length:94, Dev Loss:1.0714, F1 Score:0.2667\n",
      "\n",
      "Length:96, Dev Loss:1.0791, F1 Score:0.2366\n",
      "\n",
      "Length:98, Dev Loss:1.0779, F1 Score:0.1947\n",
      "\n",
      "Length:100, Dev Loss:1.0724, F1 Score:0.3116\n",
      "\n"
     ]
    }
   ],
   "source": [
    "for i in ctypes:\n",
    "    f1_score_list = []\n",
    "    ctype = i\n",
    "    # Data load\n",
    "    train_path = \"../../data/palindrome_rand/correction_\" + ctype + \"/data_train.txt\"\n",
    "    \n",
    "    # Prepare dataset\n",
    "    src = fields.SourceField()\n",
    "    tgt = fields.TargetField()\n",
    "    max_len = 104\n",
    "    def len_filter(example):\n",
    "        return len(example.src) <= max_len and len(example.tgt) <= max_len\n",
    "    train = torchtext.data.TabularDataset(\n",
    "        path=train_path, format='tsv',\n",
    "        fields=[('src', src), ('tgt', tgt)],\n",
    "        filter_pred=len_filter\n",
    "    )\n",
    "    src.build_vocab(train)\n",
    "    tgt.build_vocab(train)\n",
    "    input_vocab = src.vocab\n",
    "    output_vocab = tgt.vocab\n",
    "    \n",
    "    # Prepare loss\n",
    "    weight = torch.ones(len(tgt.vocab))\n",
    "    pad = tgt.vocab.stoi[tgt.pad_token]\n",
    "    loss = Perplexity(weight, pad)\n",
    "    if torch.cuda.is_available():\n",
    "        loss.cuda()\n",
    "    \n",
    "    # Model\n",
    "    evaluator = Evaluator(loss=loss, batch_size=32)\n",
    "    hidden_size\n",
    "    print(\"Character type is : %s\" % ctype)\n",
    "    seq2seq = None\n",
    "    encoder = EncoderRNN_gru(len(src.vocab), max_len, hidden_size,\n",
    "                         bidirectional=bidirectional, variable_lengths=True)\n",
    "    decoder = DecoderRNN_gru(len(tgt.vocab), max_len, hidden_size * 2 if bidirectional else hidden_size,\n",
    "                         dropout_p=0.2, use_attention=\"Luong\", bidirectional=bidirectional,\n",
    "                         eos_id=tgt.eos_id, sos_id=tgt.sos_id)\n",
    "    seq2seq = Seq2seq(encoder, decoder)\n",
    "    if torch.cuda.is_available():\n",
    "        seq2seq.cuda()\n",
    "\n",
    "    for param in seq2seq.parameters():\n",
    "        param.data.uniform_(-0.08, 0.08)\n",
    "    \n",
    "    lengths = list(range(4, 101, 2))\n",
    "    print(lengths)\n",
    "    for length in lengths:\n",
    "        log_path = \"../../log/pth/GRU_palindrome_rand_correction_\" + ctype + \"_model_save.pth\"\n",
    "        seq2seq.load_state_dict(torch.load(log_path))\n",
    "        seq2seq.eval()\n",
    "        dev_path = \"../../data/palindrome_rand/correction_\" + ctype + \"/dev_length/data_test_length_\" + str(length) + \".txt\"\n",
    "        dev = torchtext.data.TabularDataset(\n",
    "              path=dev_path, format='tsv',\n",
    "              fields=[('src', src), ('tgt', tgt)],\n",
    "              filter_pred=len_filter)\n",
    "        dev_loss, _, _, f1_score = evaluator.evaluate(seq2seq, dev)\n",
    "        print(\"Length:%d, Dev Loss:%0.4f, F1 Score:%0.4f\\n\"\n",
    "                    % (length, dev_loss, f1_score))\n",
    "        check_path = \"../../log/check_point/rnn_comp_palindrome_rand_correction_length_to_f1_score/gru_\" + ctype\n",
    "        with open(check_path, 'a') as f:\n",
    "            f.write(\"Length:%d, Dev Loss:%0.4f, F1 Score:%0.4f\\n\"\n",
    "                    % (length, dev_loss, f1_score))\n",
    "        \n",
    "        f1_score_list.append(f1_score)\n",
    "        \n",
    "    f1_score_lists.append(f1_score_list)"
   ]
  },
  {
   "cell_type": "code",
   "execution_count": 11,
   "metadata": {},
   "outputs": [
    {
     "data": {
      "image/png": "[encoded data removed]",
      "text/plain": [
       "<Figure size 1080x504 with 1 Axes>"
      ]
     },
     "metadata": {
      "needs_background": "light"
     },
     "output_type": "display_data"
    }
   ],
   "source": [
    "plt.figure(figsize=(15,7))\n",
    "plt.plot(lengths[1::], f1_score_lists[0][1::], '-', LineWidth=3, label=\"LSTM\")\n",
    "plt.plot(lengths[1::], f1_score_lists[1][1::], '-o', LineWidth=3, label=\"GRU\")\n",
    "plt.legend(loc=\"best\", fontsize=12)\n",
    "plt.xlabel('Length', fontsize=24)\n",
    "plt.ylabel('F1 Score', fontsize=24)\n",
    "plt.savefig('../../log/plot/rnn_comp_palindrome_rand_correction_length_to_f1_score/palindrome_rand_correction_separator_Ctypes4_length_to_f1_score.png')"
   ]
  },
  {
   "cell_type": "code",
   "execution_count": 7,
   "metadata": {
    "scrolled": true
   },
   "outputs": [
    {
     "name": "stdout",
     "output_type": "stream",
     "text": [
      "[0.6923076923076924, 0.9369369369369369, 0.9583333333333334, 0.9565217391304348, 0.9550930996714129, 0.9397450753186559, 0.9064671298770711, 0.8673469387755102, 0.8479564032697549, 0.854042322300597, 0.823463056965595, 0.8114143920595533, 0.8197530864197531, 0.777313432835821, 0.7579661016949153, 0.7694610778443114, 0.7788911155644623, 0.7658045977011494, 0.740066225165563, 0.7514644351464437, 0.7116682738669238, 0.7102966841186736, 0.7080867850098619, 0.7114967462039047, 0.7204419889502762, 0.7076222980659841, 0.719406674907293, 0.6651532349602723, 0.6657754010695187, 0.6793557833089312, 0.6783625730994152, 0.6156351791530944, 0.6592797783933518, 0.6595744680851063, 0.6641221374045801, 0.5988023952095808, 0.6692160611854684, 0.6571428571428571, 0.6189376443418014, 0.5601965601965603, 0.60790273556231, 0.5620608899297423, 0.5472312703583061, 0.5206812652068126, 0.5297297297297298, 0.5766871165644171, 0.5541401273885349, 0.5434782608695652, 0.5560165975103735]\n",
      "[0.896551724137931, 0.9864253393665158, 0.9919743178170144, 0.9910350448247758, 0.9704271631982476, 0.9601846508944027, 0.9038054968287527, 0.8703071672354948, 0.8584022038567494, 0.8125689084895259, 0.777327935222672, 0.7587548638132295, 0.7577319587628865, 0.7038895859473024, 0.6837972876516774, 0.6762360446570972, 0.6222222222222222, 0.6119873817034701, 0.6526891522333638, 0.5765258215962442, 0.5487674169346195, 0.5213930348258706, 0.5524017467248907, 0.5151515151515151, 0.5188916876574307, 0.5066666666666667, 0.5100286532951288, 0.43606998654104984, 0.47226624405705225, 0.41992882562277584, 0.463963963963964, 0.39080459770114945, 0.41414141414141414, 0.331511839708561, 0.3556581986143187, 0.3225806451612903, 0.3526570048309179, 0.34673366834170855, 0.2768361581920904, 0.32047477744807124, 0.2781954887218045, 0.2914285714285714, 0.192, 0.2222222222222222, 0.254071661237785, 0.26666666666666666, 0.2366412213740458, 0.19469026548672566, 0.31155778894472363]\n"
     ]
    }
   ],
   "source": [
    "print(f1_score_lists[0])\n",
    "print(f1_score_lists[1])"
   ]
  },
  {
   "cell_type": "code",
   "execution_count": null,
   "metadata": {},
   "outputs": [],
   "source": []
  }
 ],
 "metadata": {
  "kernelspec": {
   "display_name": "Python 3",
   "language": "python",
   "name": "python3"
  },
  "language_info": {
   "codemirror_mode": {
    "name": "ipython",
    "version": 3
   },
   "file_extension": ".py",
   "mimetype": "text/x-python",
   "name": "python",
   "nbconvert_exporter": "python",
   "pygments_lexer": "ipython3",
   "version": "3.6.7"
  }
 },
 "nbformat": 4,
 "nbformat_minor": 2
}
