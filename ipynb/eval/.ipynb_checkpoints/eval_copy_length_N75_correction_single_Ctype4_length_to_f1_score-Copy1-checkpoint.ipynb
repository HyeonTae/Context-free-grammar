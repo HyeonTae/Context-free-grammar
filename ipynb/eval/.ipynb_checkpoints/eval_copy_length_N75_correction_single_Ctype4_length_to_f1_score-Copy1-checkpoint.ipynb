{
 "cells": [
  {
   "cell_type": "markdown",
   "metadata": {},
   "source": [
    "# Set Parameter\n",
    "- Attention = Luong\n",
    "- Teacher Forcing Ratio = 0.5\n",
    "- Layer = 1\n",
    "- Batch size = 32\n",
    "- Drop out = 0.2\n",
    "- Hidden unit = 50\n",
    "- Depth\n",
    "- Ctype\n",
    "- Epochs = 100\n",
    "- N = 100\n",
    "- Data = 100K\n",
    "- Deduplication"
   ]
  },
  {
   "cell_type": "markdown",
   "metadata": {},
   "source": [
    "# Import packages\n",
    "\n",
    "import useful packages for experiments"
   ]
  },
  {
   "cell_type": "code",
   "execution_count": 1,
   "metadata": {},
   "outputs": [
    {
     "name": "stderr",
     "output_type": "stream",
     "text": [
      "/home/hyeontae/hyeontae/venv/lib/python3.6/site-packages/torch/nn/_reduction.py:46: UserWarning: size_average and reduce args will be deprecated, please use reduction='mean' instead.\n",
      "  warnings.warn(warning.format(ret))\n"
     ]
    }
   ],
   "source": [
    "import os\n",
    "import argparse\n",
    "import logging\n",
    "import sys\n",
    "\n",
    "import torch\n",
    "from torch.optim.lr_scheduler import StepLR\n",
    "import torchtext\n",
    "\n",
    "sys.path.append(os.path.dirname(os.path.abspath(os.path.dirname(os.path.abspath(os.path.dirname('__file__'))))))\n",
    "\n",
    "from models.encoderRNN import EncoderRNN\n",
    "from models.decoderRNN import DecoderRNN\n",
    "from models.encoderRNN_lenemb_add import EncoderRNN_lenemb_add\n",
    "from models.decoderRNN_lenemb_add import DecoderRNN_lenemb_add\n",
    "from models.seq2seq import Seq2seq\n",
    "from loss.loss import Perplexity\n",
    "from dataset import fields\n",
    "from evaluator.evaluator_correction import Evaluator\n",
    "\n",
    "import matplotlib\n",
    "import matplotlib.pyplot as plt"
   ]
  },
  {
   "cell_type": "markdown",
   "metadata": {},
   "source": [
    "# Log format"
   ]
  },
  {
   "cell_type": "code",
   "execution_count": 2,
   "metadata": {},
   "outputs": [],
   "source": [
    "log_level = 'info'\n",
    "LOG_FORMAT = '%(asctime)s %(levelname)-6s %(message)s'\n",
    "logging.basicConfig(format=LOG_FORMAT, level=getattr(logging, log_level.upper()))"
   ]
  },
  {
   "cell_type": "markdown",
   "metadata": {},
   "source": [
    "# Variable definition"
   ]
  },
  {
   "cell_type": "code",
   "execution_count": 3,
   "metadata": {},
   "outputs": [
    {
     "name": "stdout",
     "output_type": "stream",
     "text": [
      "['single_Ctype4']\n"
     ]
    }
   ],
   "source": [
    "hidden_size = 200\n",
    "f1_score_lists = []\n",
    "ctypes = [\"single_Ctype4\"]\n",
    "bidirectional = False\n",
    "print(ctypes)"
   ]
  },
  {
   "cell_type": "code",
   "execution_count": 4,
   "metadata": {
    "scrolled": true
   },
   "outputs": [
    {
     "name": "stderr",
     "output_type": "stream",
     "text": [
      "/home/hyeontae/hyeontae/venv/lib/python3.6/site-packages/torch/nn/_reduction.py:46: UserWarning: size_average and reduce args will be deprecated, please use reduction='sum' instead.\n",
      "  warnings.warn(warning.format(ret))\n"
     ]
    },
    {
     "name": "stdout",
     "output_type": "stream",
     "text": [
      "Character type is : single_Ctype4\n",
      "[2, 4, 6, 8, 10, 12, 14, 16, 18, 20, 22, 24, 26, 28, 30, 32, 34, 36, 38, 40, 42, 44, 46, 48, 50, 52, 54, 56, 58, 60, 62, 64, 66, 68, 70, 72, 74, 76, 78, 80, 82, 84, 86, 88, 90, 92, 94, 96, 98, 100]\n",
      "Length:2, Dev Loss:14.7013, F1 Score:0.6000\n",
      "\n",
      "Length:4, Dev Loss:1.0805, F1 Score:0.9318\n",
      "\n"
     ]
    },
    {
     "name": "stderr",
     "output_type": "stream",
     "text": [
      "/home/hyeontae/hyeontae/venv/lib/python3.6/site-packages/torch/nn/modules/rnn.py:54: UserWarning: dropout option adds dropout after all but last recurrent layer, so non-zero dropout expects num_layers greater than 1, but got dropout=0.2 and num_layers=1\n",
      "  \"num_layers={}\".format(dropout, num_layers))\n",
      "/home/hyeontae/hyeontae/venv/lib/python3.6/site-packages/torch/nn/functional.py:1374: UserWarning: nn.functional.tanh is deprecated. Use torch.tanh instead.\n",
      "  warnings.warn(\"nn.functional.tanh is deprecated. Use torch.tanh instead.\")\n"
     ]
    },
    {
     "name": "stdout",
     "output_type": "stream",
     "text": [
      "Length:6, Dev Loss:1.0130, F1 Score:0.9856\n",
      "\n",
      "Length:8, Dev Loss:1.0009, F1 Score:0.9995\n",
      "\n",
      "Length:10, Dev Loss:1.0095, F1 Score:0.9922\n",
      "\n",
      "Length:12, Dev Loss:1.0263, F1 Score:0.9801\n",
      "\n",
      "Length:14, Dev Loss:1.0371, F1 Score:0.9584\n",
      "\n",
      "Length:16, Dev Loss:1.0382, F1 Score:0.9506\n",
      "\n",
      "Length:18, Dev Loss:1.0321, F1 Score:0.9400\n",
      "\n",
      "Length:20, Dev Loss:1.0310, F1 Score:0.9182\n",
      "\n",
      "Length:22, Dev Loss:1.0183, F1 Score:0.9293\n",
      "\n",
      "Length:24, Dev Loss:1.0227, F1 Score:0.8900\n",
      "\n",
      "Length:26, Dev Loss:1.0221, F1 Score:0.8650\n",
      "\n",
      "Length:28, Dev Loss:1.0253, F1 Score:0.8247\n",
      "\n",
      "Length:30, Dev Loss:1.0291, F1 Score:0.7695\n",
      "\n",
      "Length:32, Dev Loss:1.0338, F1 Score:0.7033\n",
      "\n",
      "Length:34, Dev Loss:1.0369, F1 Score:0.6382\n",
      "\n",
      "Length:36, Dev Loss:1.0447, F1 Score:0.5504\n",
      "\n",
      "Length:38, Dev Loss:1.0486, F1 Score:0.4954\n",
      "\n",
      "Length:40, Dev Loss:1.0542, F1 Score:0.4201\n",
      "\n",
      "Length:42, Dev Loss:1.0555, F1 Score:0.3785\n",
      "\n",
      "Length:44, Dev Loss:1.0570, F1 Score:0.3454\n",
      "\n",
      "Length:46, Dev Loss:1.0575, F1 Score:0.3192\n",
      "\n",
      "Length:48, Dev Loss:1.0615, F1 Score:0.2762\n",
      "\n",
      "Length:50, Dev Loss:1.0652, F1 Score:0.2269\n",
      "\n",
      "Length:52, Dev Loss:1.0680, F1 Score:0.2312\n",
      "\n",
      "Length:54, Dev Loss:1.0742, F1 Score:0.2148\n",
      "\n",
      "Length:56, Dev Loss:1.0739, F1 Score:0.1528\n",
      "\n",
      "Length:58, Dev Loss:1.0728, F1 Score:0.1423\n",
      "\n",
      "Length:60, Dev Loss:1.0795, F1 Score:0.1083\n",
      "\n",
      "Length:62, Dev Loss:1.0762, F1 Score:0.1644\n",
      "\n",
      "Length:64, Dev Loss:1.0749, F1 Score:0.1441\n",
      "\n",
      "Length:66, Dev Loss:1.0740, F1 Score:0.1074\n",
      "\n",
      "Length:68, Dev Loss:1.0783, F1 Score:0.0729\n",
      "\n",
      "Length:70, Dev Loss:1.0806, F1 Score:0.0698\n",
      "\n",
      "Length:72, Dev Loss:1.0802, F1 Score:0.0441\n",
      "\n",
      "Length:74, Dev Loss:1.0790, F1 Score:0.0492\n",
      "\n",
      "Length:76, Dev Loss:1.0809, F1 Score:0.0426\n",
      "\n",
      "Length:78, Dev Loss:1.0779, F1 Score:0.0546\n",
      "\n",
      "Length:80, Dev Loss:1.0808, F1 Score:0.0480\n",
      "\n",
      "Length:82, Dev Loss:1.0807, F1 Score:0.0496\n",
      "\n",
      "Length:84, Dev Loss:1.0803, F1 Score:0.0198\n",
      "\n",
      "Length:86, Dev Loss:1.0839, F1 Score:0.0347\n",
      "\n",
      "Length:88, Dev Loss:1.0800, F1 Score:0.0339\n",
      "\n",
      "Length:90, Dev Loss:1.0815, F1 Score:0.0311\n",
      "\n",
      "Length:92, Dev Loss:1.0821, F1 Score:0.0230\n",
      "\n",
      "Length:94, Dev Loss:1.0868, F1 Score:0.0292\n",
      "\n",
      "Length:96, Dev Loss:1.0900, F1 Score:0.0192\n",
      "\n",
      "Length:98, Dev Loss:1.0880, F1 Score:0.0135\n",
      "\n",
      "Length:100, Dev Loss:1.0873, F1 Score:0.0452\n",
      "\n"
     ]
    }
   ],
   "source": [
    "for i in ctypes:\n",
    "    f1_score_list = []\n",
    "    ctype = i\n",
    "    # Data load\n",
    "    train_path = \"../../data/copy_length/correction_\" + ctype + \"_N75/data_train.txt\"\n",
    "    \n",
    "    # Prepare dataset\n",
    "    src = fields.SourceField()\n",
    "    tgt = fields.TargetField()\n",
    "    max_len = 104\n",
    "    def len_filter(example):\n",
    "        return len(example.src) <= max_len and len(example.tgt) <= max_len\n",
    "    train = torchtext.data.TabularDataset(\n",
    "        path=train_path, format='tsv',\n",
    "        fields=[('src', src), ('tgt', tgt)],\n",
    "        filter_pred=len_filter\n",
    "    )\n",
    "    src.build_vocab(train)\n",
    "    tgt.build_vocab(train)\n",
    "    input_vocab = src.vocab\n",
    "    output_vocab = tgt.vocab\n",
    "    \n",
    "    # Prepare loss\n",
    "    weight = torch.ones(len(tgt.vocab))\n",
    "    pad = tgt.vocab.stoi[tgt.pad_token]\n",
    "    loss = Perplexity(weight, pad)\n",
    "    if torch.cuda.is_available():\n",
    "        loss.cuda()\n",
    "    \n",
    "    # Model\n",
    "    evaluator = Evaluator(loss=loss, batch_size=32)\n",
    "    hidden_size\n",
    "    print(\"Character type is : %s\" % ctype)\n",
    "    seq2seq = None\n",
    "    encoder = EncoderRNN(len(src.vocab), max_len, hidden_size,\n",
    "                         bidirectional=bidirectional, rnn_cell='gru', variable_lengths=True)\n",
    "    decoder = DecoderRNN(len(tgt.vocab), max_len, hidden_size * 2 if bidirectional else hidden_size,\n",
    "                         dropout_p=0.2, use_attention=\"Luong\", bidirectional=bidirectional, rnn_cell='gru',\n",
    "                         eos_id=tgt.eos_id, sos_id=tgt.sos_id)\n",
    "    seq2seq = Seq2seq(encoder, decoder)\n",
    "    if torch.cuda.is_available():\n",
    "        seq2seq.cuda()\n",
    "\n",
    "    for param in seq2seq.parameters():\n",
    "        param.data.uniform_(-0.08, 0.08)\n",
    "    \n",
    "    lengths = list(range(2, 101, 2))\n",
    "    print(lengths)\n",
    "    for length in lengths:\n",
    "        log_path = \"../../log/pth/gru_copy_length_correction_ctype4_N75_\" + ctype + \"_model_save.pth\"\n",
    "        seq2seq.load_state_dict(torch.load(log_path))\n",
    "        seq2seq.eval()\n",
    "        dev_path = \"../../data/copy_length/correction_\" + ctype + \"_N75/dev_length/data_test_length_\" + str(length) + \".txt\"\n",
    "        dev = torchtext.data.TabularDataset(\n",
    "              path=dev_path, format='tsv',\n",
    "              fields=[('src', src), ('tgt', tgt)],\n",
    "              filter_pred=len_filter)\n",
    "        dev_loss, _, _, f1_score = evaluator.evaluate(seq2seq, dev)\n",
    "        print(\"Length:%d, Dev Loss:%0.4f, F1 Score:%0.4f\\n\"\n",
    "                    % (length, dev_loss, f1_score))\n",
    "        \n",
    "        f1_score_list.append(f1_score)\n",
    "        \n",
    "    f1_score_lists.append(f1_score_list)"
   ]
  },
  {
   "cell_type": "code",
   "execution_count": 5,
   "metadata": {
    "scrolled": true
   },
   "outputs": [
    {
     "name": "stdout",
     "output_type": "stream",
     "text": [
      "Character type is : single_Ctype4\n",
      "[2, 4, 6, 8, 10, 12, 14, 16, 18, 20, 22, 24, 26, 28, 30, 32, 34, 36, 38, 40, 42, 44, 46, 48, 50, 52, 54, 56, 58, 60, 62, 64, 66, 68, 70, 72, 74, 76, 78, 80, 82, 84, 86, 88, 90, 92, 94, 96, 98, 100]\n",
      "Length:2, Dev Loss:7.6387, F1 Score:0.6000\n",
      "\n",
      "Length:4, Dev Loss:1.0113, F1 Score:0.9767\n",
      "\n",
      "Length:6, Dev Loss:1.0000, F1 Score:1.0000\n",
      "\n",
      "Length:8, Dev Loss:1.0000, F1 Score:1.0000\n",
      "\n",
      "Length:10, Dev Loss:1.0000, F1 Score:1.0000\n",
      "\n",
      "Length:12, Dev Loss:1.0003, F1 Score:0.9995\n",
      "\n",
      "Length:14, Dev Loss:1.0018, F1 Score:0.9977\n",
      "\n",
      "Length:16, Dev Loss:1.0014, F1 Score:0.9964\n",
      "\n",
      "Length:18, Dev Loss:1.0034, F1 Score:0.9895\n",
      "\n",
      "Length:20, Dev Loss:1.0068, F1 Score:0.9727\n",
      "\n",
      "Length:22, Dev Loss:1.0070, F1 Score:0.9674\n",
      "\n",
      "Length:24, Dev Loss:1.0087, F1 Score:0.9502\n",
      "\n",
      "Length:26, Dev Loss:1.0115, F1 Score:0.9313\n",
      "\n",
      "Length:28, Dev Loss:1.0148, F1 Score:0.8922\n",
      "\n",
      "Length:30, Dev Loss:1.0172, F1 Score:0.8496\n",
      "\n",
      "Length:32, Dev Loss:1.0191, F1 Score:0.8190\n",
      "\n",
      "Length:34, Dev Loss:1.0230, F1 Score:0.7596\n",
      "\n",
      "Length:36, Dev Loss:1.0279, F1 Score:0.6719\n",
      "\n",
      "Length:38, Dev Loss:1.0292, F1 Score:0.6399\n",
      "\n",
      "Length:40, Dev Loss:1.0340, F1 Score:0.5613\n",
      "\n",
      "Length:42, Dev Loss:1.0335, F1 Score:0.5503\n",
      "\n",
      "Length:44, Dev Loss:1.0327, F1 Score:0.5250\n",
      "\n",
      "Length:46, Dev Loss:1.0335, F1 Score:0.4615\n",
      "\n",
      "Length:48, Dev Loss:1.0351, F1 Score:0.4337\n",
      "\n",
      "Length:50, Dev Loss:1.0320, F1 Score:0.4561\n",
      "\n",
      "Length:52, Dev Loss:1.0335, F1 Score:0.4026\n",
      "\n",
      "Length:54, Dev Loss:1.0361, F1 Score:0.3453\n",
      "\n",
      "Length:56, Dev Loss:1.0357, F1 Score:0.3116\n",
      "\n",
      "Length:58, Dev Loss:1.0327, F1 Score:0.2882\n",
      "\n",
      "Length:60, Dev Loss:1.0328, F1 Score:0.3109\n",
      "\n",
      "Length:62, Dev Loss:1.0328, F1 Score:0.2030\n",
      "\n",
      "Length:64, Dev Loss:1.0335, F1 Score:0.2233\n",
      "\n",
      "Length:66, Dev Loss:1.0327, F1 Score:0.2313\n",
      "\n",
      "Length:68, Dev Loss:1.0341, F1 Score:0.1680\n",
      "\n",
      "Length:70, Dev Loss:1.0351, F1 Score:0.1689\n",
      "\n",
      "Length:72, Dev Loss:1.0349, F1 Score:0.1583\n",
      "\n",
      "Length:74, Dev Loss:1.0339, F1 Score:0.1463\n",
      "\n",
      "Length:76, Dev Loss:1.0429, F1 Score:0.1120\n",
      "\n",
      "Length:78, Dev Loss:1.0964, F1 Score:0.0299\n",
      "\n",
      "Length:80, Dev Loss:1.1374, F1 Score:0.0077\n",
      "\n",
      "Length:82, Dev Loss:1.1432, F1 Score:0.0063\n",
      "\n",
      "Length:84, Dev Loss:1.1627, F1 Score:0.0064\n",
      "\n",
      "Length:86, Dev Loss:1.1652, F1 Score:0.0102\n",
      "\n",
      "Length:88, Dev Loss:1.1591, F1 Score:0.0099\n",
      "\n",
      "Length:90, Dev Loss:1.1517, F1 Score:0.0045\n",
      "\n",
      "Length:92, Dev Loss:1.1547, F1 Score:0.0078\n",
      "\n",
      "Length:94, Dev Loss:1.1485, F1 Score:0.0084\n",
      "\n",
      "Length:96, Dev Loss:1.1656, F1 Score:0.0051\n",
      "\n",
      "Length:98, Dev Loss:1.1463, F1 Score:0.0059\n",
      "\n",
      "Length:100, Dev Loss:1.1501, F1 Score:0.0030\n",
      "\n"
     ]
    }
   ],
   "source": [
    "for i in ctypes:\n",
    "    f1_score_list = []\n",
    "    ctype = i\n",
    "    # Data load\n",
    "    train_path = \"../../data/copy_length/correction_\" + ctype + \"_N75/data_train.txt\"\n",
    "    \n",
    "    # Prepare dataset\n",
    "    src = fields.SourceField()\n",
    "    tgt = fields.TargetField()\n",
    "    max_len = 104\n",
    "    def len_filter(example):\n",
    "        return len(example.src) <= max_len and len(example.tgt) <= max_len\n",
    "    train = torchtext.data.TabularDataset(\n",
    "        path=train_path, format='tsv',\n",
    "        fields=[('src', src), ('tgt', tgt)],\n",
    "        filter_pred=len_filter\n",
    "    )\n",
    "    src.build_vocab(train)\n",
    "    tgt.build_vocab(train)\n",
    "    input_vocab = src.vocab\n",
    "    output_vocab = tgt.vocab\n",
    "    \n",
    "    # Prepare loss\n",
    "    weight = torch.ones(len(tgt.vocab))\n",
    "    pad = tgt.vocab.stoi[tgt.pad_token]\n",
    "    loss = Perplexity(weight, pad)\n",
    "    if torch.cuda.is_available():\n",
    "        loss.cuda()\n",
    "    \n",
    "    # Model\n",
    "    evaluator = Evaluator(loss=loss, batch_size=32)\n",
    "    hidden_size\n",
    "    print(\"Character type is : %s\" % ctype)\n",
    "    seq2seq = None\n",
    "    encoder = EncoderRNN_lenemb_add(len(src.vocab), max_len, hidden_size,\n",
    "                         bidirectional=bidirectional, rnn_cell='gru', variable_lengths=True)\n",
    "    decoder = DecoderRNN_lenemb_add(len(tgt.vocab), max_len, hidden_size * 2 if bidirectional else hidden_size,\n",
    "                         dropout_p=0.2, use_attention=\"Luong\", bidirectional=bidirectional, rnn_cell='gru',\n",
    "                         eos_id=tgt.eos_id, sos_id=tgt.sos_id)\n",
    "    seq2seq = Seq2seq(encoder, decoder)\n",
    "    if torch.cuda.is_available():\n",
    "        seq2seq.cuda()\n",
    "\n",
    "    for param in seq2seq.parameters():\n",
    "        param.data.uniform_(-0.08, 0.08)\n",
    "    \n",
    "    lengths = list(range(2, 101, 2))\n",
    "    print(lengths)\n",
    "    for length in lengths:\n",
    "        log_path = \"../../log/pth/gru_copy_length_correction_ctype4_lenemb_add_N75_\" + ctype + \"_model_save.pth\"\n",
    "        seq2seq.load_state_dict(torch.load(log_path))\n",
    "        seq2seq.eval()\n",
    "        dev_path = \"../../data/copy_length/correction_\" + ctype + \"_N75/dev_length/data_test_length_\" + str(length) + \".txt\"\n",
    "        dev = torchtext.data.TabularDataset(\n",
    "              path=dev_path, format='tsv',\n",
    "              fields=[('src', src), ('tgt', tgt)],\n",
    "              filter_pred=len_filter)\n",
    "        dev_loss, _, _, f1_score = evaluator.evaluate(seq2seq, dev)\n",
    "        print(\"Length:%d, Dev Loss:%0.4f, F1 Score:%0.4f\\n\"\n",
    "                    % (length, dev_loss, f1_score))\n",
    "        \n",
    "        f1_score_list.append(f1_score)\n",
    "        \n",
    "    f1_score_lists.append(f1_score_list)"
   ]
  },
  {
   "cell_type": "code",
   "execution_count": 6,
   "metadata": {},
   "outputs": [
    {
     "data": {
      "image/png": "[encoded data removed]",
      "text/plain": [
       "<Figure size 1080x504 with 1 Axes>"
      ]
     },
     "metadata": {
      "needs_background": "light"
     },
     "output_type": "display_data"
    }
   ],
   "source": [
    "plt.figure(figsize=(15,7))\n",
    "plt.plot(lengths, f1_score_lists[0], '-', LineWidth=3, label=\"GRU\")\n",
    "plt.plot(lengths, f1_score_lists[1], '-o', LineWidth=3, label=\"GRU LenEmb Add\")\n",
    "plt.legend(loc=\"best\", fontsize=12)\n",
    "plt.xlabel('Length', fontsize=24)\n",
    "plt.ylabel('F1 Score', fontsize=24)\n",
    "plt.ylim([0, 1.1])\n",
    "plt.savefig('../../log/plot/gru_copy_length_correction_ctype4_N75/copy_length_correction_single_Ctypes4_length_to_f1_score.png')"
   ]
  },
  {
   "cell_type": "code",
   "execution_count": 7,
   "metadata": {
    "scrolled": true
   },
   "outputs": [
    {
     "name": "stdout",
     "output_type": "stream",
     "text": [
      "[0.6, 0.9318181818181819, 0.9856262833675564, 0.9995363931386184, 0.9922077922077922, 0.9801288936627283, 0.9583692219351134, 0.9506431349087645, 0.9399803214168581, 0.91816223977028, 0.9293222181949982, 0.8899628252788104, 0.8649789029535866, 0.8246869409660108, 0.7694566813509544, 0.7032854209445585, 0.6382271468144044, 0.5504252733900364, 0.49544863459037713, 0.42006688963210703, 0.37853107344632764, 0.34538152610441764, 0.31924072476272647, 0.276173285198556, 0.22690763052208837, 0.23123732251521295, 0.21482889733840302, 0.15276145710928318, 0.14228187919463084, 0.10825439783491204, 0.16438356164383564, 0.14406779661016947, 0.10738255033557045, 0.07285974499089254, 0.06981519507186858, 0.04405286343612334, 0.04918032786885246, 0.042643923240938165, 0.05463182897862233, 0.048019207683073224, 0.04958677685950413, 0.0198019801980198, 0.034666666666666665, 0.03389830508474577, 0.03114186851211073, 0.022988505747126436, 0.029227557411273485, 0.019193857965451054, 0.013513513513513513, 0.04524886877828055]\n",
      "[0.6, 0.9767441860465116, 1.0, 1.0, 1.0, 0.9994629430719656, 0.9976998274870615, 0.9964093357271095, 0.9895081967213115, 0.9727207465900933, 0.9673676577229877, 0.950185873605948, 0.9313105773282765, 0.8921700223713646, 0.849609375, 0.818969913309536, 0.7596048298572997, 0.6719319562575942, 0.6399482870071106, 0.5612860013395848, 0.5503166783954961, 0.5250205086136177, 0.4615384615384615, 0.43371212121212116, 0.45614035087719296, 0.40258342303552214, 0.3452502553626149, 0.31162196679438064, 0.28820960698689957, 0.3108504398826979, 0.20304568527918782, 0.2232854864433812, 0.23134328358208955, 0.168, 0.16894977168949774, 0.15827338129496404, 0.14634146341463414, 0.11203814064362336, 0.029919447640966625, 0.007729468599033816, 0.006349206349206348, 0.006355932203389831, 0.01016260162601626, 0.009937888198757764, 0.004530011325028313, 0.007782101167315175, 0.008391608391608392, 0.005134788189987163, 0.005873715124816446, 0.003021148036253776]\n"
     ]
    }
   ],
   "source": [
    "print(f1_score_lists[0])\n",
    "print(f1_score_lists[1])"
   ]
  },
  {
   "cell_type": "code",
   "execution_count": null,
   "metadata": {},
   "outputs": [],
   "source": []
  }
 ],
 "metadata": {
  "kernelspec": {
   "display_name": "Python 3",
   "language": "python",
   "name": "python3"
  },
  "language_info": {
   "codemirror_mode": {
    "name": "ipython",
    "version": 3
   },
   "file_extension": ".py",
   "mimetype": "text/x-python",
   "name": "python",
   "nbconvert_exporter": "python",
   "pygments_lexer": "ipython3",
   "version": "3.6.7"
  }
 },
 "nbformat": 4,
 "nbformat_minor": 2
}
