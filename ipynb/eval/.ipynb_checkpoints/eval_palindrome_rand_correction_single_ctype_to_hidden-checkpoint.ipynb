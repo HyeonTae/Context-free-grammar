{
 "cells": [
  {
   "cell_type": "markdown",
   "metadata": {},
   "source": [
    "# Set Parameter\n",
    "- Attention = Luong\n",
    "- Teacher Forcing Ratio = 0.5\n",
    "- Layer = 1\n",
    "- Batch size = 32\n",
    "- Drop out = 0.2\n",
    "- Hidden unit = 50\n",
    "- Depth\n",
    "- Ctype\n",
    "- Epochs = 100\n",
    "- N = 100\n",
    "- Data = 100K\n",
    "- Deduplication"
   ]
  },
  {
   "cell_type": "markdown",
   "metadata": {},
   "source": [
    "# Import packages\n",
    "\n",
    "import useful packages for experiments"
   ]
  },
  {
   "cell_type": "code",
   "execution_count": 1,
   "metadata": {},
   "outputs": [
    {
     "name": "stderr",
     "output_type": "stream",
     "text": [
      "/home/hyeontae/hyeontae/venv/lib/python3.6/site-packages/torch/nn/_reduction.py:46: UserWarning: size_average and reduce args will be deprecated, please use reduction='mean' instead.\n",
      "  warnings.warn(warning.format(ret))\n"
     ]
    }
   ],
   "source": [
    "import os\n",
    "import argparse\n",
    "import logging\n",
    "import sys\n",
    "\n",
    "import torch\n",
    "from torch.optim.lr_scheduler import StepLR\n",
    "import torchtext\n",
    "\n",
    "sys.path.append(os.path.dirname(os.path.abspath(os.path.dirname(os.path.abspath(os.path.dirname('__file__'))))))\n",
    "\n",
    "from models.encoderRNN import EncoderRNN\n",
    "from models.decoderRNN import DecoderRNN\n",
    "from models.seq2seq import Seq2seq\n",
    "from loss.loss import Perplexity\n",
    "from dataset import fields\n",
    "from evaluator.evaluator_correction import Evaluator\n",
    "\n",
    "import matplotlib\n",
    "import matplotlib.pyplot as plt"
   ]
  },
  {
   "cell_type": "markdown",
   "metadata": {},
   "source": [
    "# Log format"
   ]
  },
  {
   "cell_type": "code",
   "execution_count": 2,
   "metadata": {},
   "outputs": [],
   "source": [
    "log_level = 'info'\n",
    "LOG_FORMAT = '%(asctime)s %(levelname)-6s %(message)s'\n",
    "logging.basicConfig(format=LOG_FORMAT, level=getattr(logging, log_level.upper()))"
   ]
  },
  {
   "cell_type": "markdown",
   "metadata": {},
   "source": [
    "# Variable definition"
   ]
  },
  {
   "cell_type": "code",
   "execution_count": 3,
   "metadata": {},
   "outputs": [
    {
     "name": "stdout",
     "output_type": "stream",
     "text": [
      "['single_Ctype2', 'single_Ctype4', 'single_Ctype6', 'single_Ctype8']\n"
     ]
    }
   ],
   "source": [
    "best_hidden = []\n",
    "ctypes = [\"single_Ctype2\", \"single_Ctype4\", \"single_Ctype6\", \"single_Ctype8\"]\n",
    "bidirectional = False\n",
    "print(ctypes)"
   ]
  },
  {
   "cell_type": "code",
   "execution_count": 4,
   "metadata": {
    "scrolled": true
   },
   "outputs": [
    {
     "name": "stderr",
     "output_type": "stream",
     "text": [
      "/home/hyeontae/hyeontae/venv/lib/python3.6/site-packages/torch/nn/_reduction.py:46: UserWarning: size_average and reduce args will be deprecated, please use reduction='sum' instead.\n",
      "  warnings.warn(warning.format(ret))\n"
     ]
    },
    {
     "name": "stdout",
     "output_type": "stream",
     "text": [
      "Character type is : single_Ctype2\n",
      "hidden_size is 40\n"
     ]
    },
    {
     "name": "stderr",
     "output_type": "stream",
     "text": [
      "/home/hyeontae/hyeontae/venv/lib/python3.6/site-packages/torch/nn/modules/rnn.py:54: UserWarning: dropout option adds dropout after all but last recurrent layer, so non-zero dropout expects num_layers greater than 1, but got dropout=0.2 and num_layers=1\n",
      "  \"num_layers={}\".format(dropout, num_layers))\n",
      "/home/hyeontae/hyeontae/venv/lib/python3.6/site-packages/torch/nn/functional.py:1374: UserWarning: nn.functional.tanh is deprecated. Use torch.tanh instead.\n",
      "  warnings.warn(\"nn.functional.tanh is deprecated. Use torch.tanh instead.\")\n"
     ]
    },
    {
     "name": "stdout",
     "output_type": "stream",
     "text": [
      "Hidden size:40, Dev Loss:1.1128, F1 Score:0.2547\n",
      "\n",
      "hidden_size is 50\n",
      "Hidden size:50, Dev Loss:1.0704, F1 Score:0.5616\n",
      "\n",
      "[50]\n",
      "Character type is : single_Ctype4\n",
      "hidden_size is 40\n",
      "Hidden size:40, Dev Loss:1.1211, F1 Score:0.2769\n",
      "\n",
      "hidden_size is 50\n",
      "Hidden size:50, Dev Loss:1.1112, F1 Score:0.2638\n",
      "\n",
      "hidden_size is 60\n",
      "Hidden size:60, Dev Loss:1.1096, F1 Score:0.2886\n",
      "\n",
      "hidden_size is 70\n",
      "Hidden size:70, Dev Loss:1.0888, F1 Score:0.4690\n",
      "\n",
      "hidden_size is 80\n",
      "Hidden size:80, Dev Loss:1.0919, F1 Score:0.3964\n",
      "\n",
      "hidden_size is 90\n",
      "Hidden size:90, Dev Loss:1.1048, F1 Score:0.3491\n",
      "\n",
      "hidden_size is 100\n",
      "Hidden size:100, Dev Loss:1.0698, F1 Score:0.6251\n",
      "\n",
      "[50, 100]\n",
      "Character type is : single_Ctype6\n",
      "hidden_size is 40\n",
      "Hidden size:40, Dev Loss:1.1649, F1 Score:0.0871\n",
      "\n",
      "hidden_size is 50\n",
      "Hidden size:50, Dev Loss:1.1383, F1 Score:0.2552\n",
      "\n",
      "hidden_size is 60\n",
      "Hidden size:60, Dev Loss:1.1321, F1 Score:0.4309\n",
      "\n",
      "hidden_size is 70\n",
      "Hidden size:70, Dev Loss:1.1111, F1 Score:0.4646\n",
      "\n",
      "hidden_size is 80\n",
      "Hidden size:80, Dev Loss:1.1159, F1 Score:0.3407\n",
      "\n",
      "hidden_size is 90\n",
      "Hidden size:90, Dev Loss:1.1234, F1 Score:0.3099\n",
      "\n",
      "hidden_size is 100\n",
      "Hidden size:100, Dev Loss:1.1209, F1 Score:0.3274\n",
      "\n",
      "hidden_size is 110\n",
      "Hidden size:110, Dev Loss:1.1411, F1 Score:0.2734\n",
      "\n",
      "hidden_size is 120\n",
      "Hidden size:120, Dev Loss:1.1160, F1 Score:0.3459\n",
      "\n",
      "hidden_size is 130\n",
      "Hidden size:130, Dev Loss:1.0799, F1 Score:0.5786\n",
      "\n",
      "[50, 100, 130]\n",
      "Character type is : single_Ctype8\n",
      "hidden_size is 40\n",
      "Hidden size:40, Dev Loss:1.1758, F1 Score:0.1317\n",
      "\n",
      "hidden_size is 50\n",
      "Hidden size:50, Dev Loss:1.1598, F1 Score:0.1112\n",
      "\n",
      "hidden_size is 60\n",
      "Hidden size:60, Dev Loss:1.1421, F1 Score:0.3489\n",
      "\n",
      "hidden_size is 70\n",
      "Hidden size:70, Dev Loss:1.1467, F1 Score:0.2394\n",
      "\n",
      "hidden_size is 80\n",
      "Hidden size:80, Dev Loss:1.1405, F1 Score:0.3019\n",
      "\n",
      "hidden_size is 90\n",
      "Hidden size:90, Dev Loss:1.0816, F1 Score:0.5922\n",
      "\n",
      "[50, 100, 130, 90]\n"
     ]
    }
   ],
   "source": [
    "for i in ctypes:\n",
    "    f1_score_list = []\n",
    "    ctype = i\n",
    "    # Data load\n",
    "    train_path = \"../../data/palindrome_rand/correction_\" + ctype + \"_N40/data_train.txt\"\n",
    "    dev_path = \"../../data/palindrome_rand/correction_\" + ctype + \"_N40/data_test.txt\"\n",
    "\n",
    "    # Prepare dataset\n",
    "    src = fields.SourceField()\n",
    "    tgt = fields.TargetField()\n",
    "    max_len = 104\n",
    "    def len_filter(example):\n",
    "        return len(example.src) <= max_len and len(example.tgt) <= max_len\n",
    "    train = torchtext.data.TabularDataset(\n",
    "        path=train_path, format='tsv',\n",
    "        fields=[('src', src), ('tgt', tgt)],\n",
    "        filter_pred=len_filter\n",
    "    )\n",
    "    dev = torchtext.data.TabularDataset(\n",
    "        path=dev_path, format='tsv',\n",
    "        fields=[('src', src), ('tgt', tgt)],\n",
    "        filter_pred=len_filter)\n",
    "    src.build_vocab(train)\n",
    "    tgt.build_vocab(train)\n",
    "    input_vocab = src.vocab\n",
    "    output_vocab = tgt.vocab\n",
    "    \n",
    "    # Prepare loss\n",
    "    weight = torch.ones(len(tgt.vocab))\n",
    "    pad = tgt.vocab.stoi[tgt.pad_token]\n",
    "    loss = Perplexity(weight, pad)\n",
    "    if torch.cuda.is_available():\n",
    "        loss.cuda()\n",
    "    \n",
    "    # Model\n",
    "    evaluator = Evaluator(loss=loss, batch_size=32)\n",
    "    print(\"Character type is : %s\" % ctype)\n",
    "    \n",
    "    \n",
    "    hidden = list(range(40, 201, 10))\n",
    "    for i in hidden:\n",
    "        hidden_size = i\n",
    "        print(\"hidden_size is %d\" % i)\n",
    "        seq2seq = None\n",
    "        encoder = EncoderRNN(len(src.vocab), max_len, hidden_size,\n",
    "                             bidirectional=bidirectional, variable_lengths=True)\n",
    "        decoder = DecoderRNN(len(tgt.vocab), max_len, hidden_size * 2 if bidirectional else hidden_size,\n",
    "                             dropout_p=0.2, use_attention=\"Luong\", bidirectional=bidirectional,\n",
    "                             eos_id=tgt.eos_id, sos_id=tgt.sos_id)\n",
    "        seq2seq = Seq2seq(encoder, decoder)\n",
    "        if torch.cuda.is_available():\n",
    "            seq2seq.cuda()\n",
    "\n",
    "        for param in seq2seq.parameters():\n",
    "            param.data.uniform_(-0.08, 0.08)\n",
    "        log_path = \"../../log/pth/hidden/palindrome_rand_correction_single_ctype_N40_hidden_\" + ctype + \"_hidden_\" + str(hidden_size) + \"_model_save.pth\"\n",
    "        seq2seq.load_state_dict(torch.load(log_path))\n",
    "        \n",
    "        dev_loss, _, _, f1_score = evaluator.evaluate(seq2seq, dev)\n",
    "        print(\"Hidden size:%d, Dev Loss:%0.4f, F1 Score:%0.4f\\n\"\n",
    "                    % (hidden_size, dev_loss, f1_score))\n",
    "        if f1_score > 0.5:\n",
    "            best_hidden.append(hidden_size)\n",
    "            break\n",
    "      \n",
    "    print(best_hidden)"
   ]
  },
  {
   "cell_type": "code",
   "execution_count": 6,
   "metadata": {},
   "outputs": [],
   "source": [
    "ctype_list = [2,4,6,8]"
   ]
  },
  {
   "cell_type": "code",
   "execution_count": 8,
   "metadata": {},
   "outputs": [
    {
     "data": {
      "text/plain": [
       "Text(0, 0.5, 'Hidden')"
      ]
     },
     "execution_count": 8,
     "metadata": {},
     "output_type": "execute_result"
    },
    {
     "data": {
      "image/png": "[encoded data removed]",
      "text/plain": [
       "<Figure size 1080x504 with 1 Axes>"
      ]
     },
     "metadata": {
      "needs_background": "light"
     },
     "output_type": "display_data"
    }
   ],
   "source": [
    "plt.figure(figsize=(15,7))\n",
    "plt.plot(ctype_list, best_hidden, '-', LineWidth=3)\n",
    "#plt.legend(loc=\"best\", fontsize=12)\n",
    "plt.xlabel('Alphabet Size', fontsize=24)\n",
    "plt.ylabel('Hidden', fontsize=24)\n",
    "#plt.savefig('../../log/plot/palindrome_rand_correction_length_to_f1_score/palindrome_rand_correction_length_to_f1_score.png')"
   ]
  },
  {
   "cell_type": "code",
   "execution_count": 8,
   "metadata": {
    "scrolled": true
   },
   "outputs": [
    {
     "name": "stdout",
     "output_type": "stream",
     "text": [
      "[1.0, 1.0, 1.0, 1.0, 1.0, 0.9982608695652174, 0.9936467598475223, 0.9836708033964728, 0.9760479041916168, 0.955153422501967, 0.9531722054380665, 0.924908424908425, 0.903111111111111, 0.8792756539235413, 0.819672131147541, 0.8480000000000001, 0.807361963190184, 0.8191780821917809, 0.788218793828892, 0.7631160572337043, 0.7241962774957699, 0.7279029462738302, 0.6567164179104478, 0.6706586826347305, 0.6879271070615034, 0.5985037406483791, 0.6312997347480106, 0.6337209302325582, 0.6030769230769231, 0.6140350877192983, 0.5217391304347826, 0.5714285714285714, 0.5925925925925926, 0.4976525821596244, 0.5589519650655022, 0.5628140703517588, 0.48205128205128206, 0.5145631067961165, 0.5142857142857143, 0.4729064039408867, 0.4507936507936508, 0.43687374749499, 0.4623287671232877, 0.4489795918367347, 0.4219409282700422, 0.48259860788863107, 0.380952380952381, 0.3529411764705882, 0.4383561643835616]\n",
      "[1.0, 0.918918918918919, 0.9955555555555555, 0.9932318104906938, 0.9905607995558023, 0.9904559915164368, 0.9837662337662337, 0.9568034557235422, 0.938132733408324, 0.9108461101646792, 0.9045064377682402, 0.8774795799299885, 0.8763020833333334, 0.8547832071576049, 0.8473945409429281, 0.8303834808259587, 0.8380427291523087, 0.8288543140028289, 0.7944807552650689, 0.7857142857142857, 0.7703703703703703, 0.737720111214087, 0.7717996289424861, 0.750965250965251, 0.7090909090909091, 0.7344753747323342, 0.7103274559193955, 0.7274909963985594, 0.6832151300236406, 0.7009222661396574, 0.7160839160839161, 0.6985507246376811, 0.7120253164556962, 0.6972477064220184, 0.6535714285714285, 0.6753731343283581, 0.6746031746031746, 0.6252354048964219, 0.6666666666666667, 0.6131386861313868, 0.601010101010101, 0.6734177215189874, 0.5601965601965602, 0.6036585365853658, 0.5786516853932585, 0.5696969696969697, 0.5795053003533569, 0.5679012345679013, 0.5625]\n",
      "[0.76, 0.9090909090909091, 0.9831460674157303, 0.9920255183413078, 0.9715025906735751, 0.970893970893971, 0.9565217391304348, 0.9399293286219081, 0.9084315503173165, 0.8816793893129772, 0.8785578747628083, 0.8413793103448276, 0.7910863509749303, 0.7797902764537655, 0.7556935817805382, 0.7192660550458716, 0.7361563517915309, 0.7168998923573736, 0.6593406593406593, 0.7101604278074867, 0.6633165829145728, 0.6551724137931035, 0.6208651399491094, 0.6380027739251041, 0.6512820512820512, 0.5979643765903307, 0.5964912280701754, 0.5882352941176471, 0.6085714285714285, 0.5438066465256798, 0.5434782608695652, 0.5595054095826894, 0.5548961424332344, 0.5800604229607251, 0.5723905723905723, 0.5318471337579619, 0.5272108843537415, 0.5714285714285714, 0.5215605749486653, 0.5078809106830122, 0.49097472924187735, 0.4264264264264265, 0.3656597774244833, 0.4882758620689655, 0.41347626339969373, 0.41765704584040747, 0.5044404973357016, 0.4745166959578208, 0.4598540145985402]\n",
      "[0.6923076923076924, 0.9369369369369369, 0.9583333333333334, 0.9565217391304348, 0.9550930996714129, 0.9397450753186559, 0.9064671298770711, 0.8673469387755102, 0.8479564032697549, 0.854042322300597, 0.823463056965595, 0.8114143920595533, 0.8197530864197531, 0.777313432835821, 0.7579661016949153, 0.7694610778443114, 0.7788911155644623, 0.7658045977011494, 0.740066225165563, 0.7514644351464437, 0.7116682738669238, 0.7102966841186736, 0.7080867850098619, 0.7114967462039047, 0.7204419889502762, 0.7076222980659841, 0.719406674907293, 0.6651532349602723, 0.6657754010695187, 0.6793557833089312, 0.6783625730994152, 0.6156351791530944, 0.6592797783933518, 0.6595744680851063, 0.6641221374045801, 0.5988023952095808, 0.6692160611854684, 0.6571428571428571, 0.6189376443418014, 0.5601965601965603, 0.60790273556231, 0.5620608899297423, 0.5472312703583061, 0.5206812652068126, 0.5297297297297298, 0.5766871165644171, 0.5541401273885349, 0.5434782608695652, 0.5560165975103735]\n"
     ]
    }
   ],
   "source": [
    "print(f1_score_lists[0])\n",
    "print(f1_score_lists[1])\n",
    "print(f1_score_lists[2])\n",
    "print(f1_score_lists[3])"
   ]
  },
  {
   "cell_type": "code",
   "execution_count": null,
   "metadata": {},
   "outputs": [],
   "source": []
  }
 ],
 "metadata": {
  "kernelspec": {
   "display_name": "Python 3",
   "language": "python",
   "name": "python3"
  },
  "language_info": {
   "codemirror_mode": {
    "name": "ipython",
    "version": 3
   },
   "file_extension": ".py",
   "mimetype": "text/x-python",
   "name": "python",
   "nbconvert_exporter": "python",
   "pygments_lexer": "ipython3",
   "version": "3.6.7"
  }
 },
 "nbformat": 4,
 "nbformat_minor": 2
}
