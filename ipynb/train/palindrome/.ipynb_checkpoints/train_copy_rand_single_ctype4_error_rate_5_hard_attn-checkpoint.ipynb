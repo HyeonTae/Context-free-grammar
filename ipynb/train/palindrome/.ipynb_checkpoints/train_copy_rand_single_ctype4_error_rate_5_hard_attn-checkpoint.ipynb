{
 "cells": [
  {
   "cell_type": "markdown",
   "metadata": {},
   "source": [
    "# Set Parameter\n",
    "- Attention = True\n",
    "- Teacher Forcing Ratio = 0.5\n",
    "- Layer = 1\n",
    "- Batch size = 32\n",
    "- Learning rate = 0.001\n",
    "- Hidden unit = 200\n",
    "- Epochs = 100\n",
    "- N = 100\n",
    "- Data Length = 100K\n",
    "- Data = [single_Ctype4_error_rate]\n",
    "- Deduplication\n",
    "- Random split"
   ]
  },
  {
   "cell_type": "markdown",
   "metadata": {},
   "source": [
    "# Import packages\n",
    "\n",
    "import useful packages for experiments"
   ]
  },
  {
   "cell_type": "code",
   "execution_count": 1,
   "metadata": {},
   "outputs": [
    {
     "name": "stderr",
     "output_type": "stream",
     "text": [
      "/home/hyeontae/hyeontae/venv1/lib/python3.6/site-packages/torch/nn/_reduction.py:46: UserWarning: size_average and reduce args will be deprecated, please use reduction='mean' instead.\n",
      "  warnings.warn(warning.format(ret))\n",
      "/home/hyeontae/hyeontae/venv1/lib/python3.6/site-packages/torch/nn/_reduction.py:46: UserWarning: size_average and reduce args will be deprecated, please use reduction='mean' instead.\n",
      "  warnings.warn(warning.format(ret))\n"
     ]
    }
   ],
   "source": [
    "import os\n",
    "import argparse\n",
    "import logging\n",
    "import sys\n",
    "import json\n",
    "\n",
    "import torch\n",
    "from torch.optim.lr_scheduler import StepLR\n",
    "import torchtext\n",
    "\n",
    "os.chdir(os.path.dirname(os.path.abspath(os.path.dirname(os.path.abspath(os.path.dirname(os.path.abspath(os.path.dirname('__file__'))))))))\n",
    "\n",
    "from models.trainer import Trainer\n",
    "from models.seq2seq import Seq2seq\n",
    "from loss.loss import Perplexity\n",
    "from dataset import fields\n",
    "\n",
    "import matplotlib.pyplot as plt"
   ]
  },
  {
   "cell_type": "markdown",
   "metadata": {},
   "source": [
    "# Log format"
   ]
  },
  {
   "cell_type": "code",
   "execution_count": 2,
   "metadata": {},
   "outputs": [],
   "source": [
    "log_level = 'info'\n",
    "LOG_FORMAT = '%(asctime)s %(levelname)-6s %(message)s'\n",
    "logging.basicConfig(format=LOG_FORMAT, level=getattr(logging, log_level.upper()))"
   ]
  },
  {
   "cell_type": "code",
   "execution_count": 3,
   "metadata": {},
   "outputs": [],
   "source": [
    "character_accuracy = []\n",
    "sentence_accuracy = []\n",
    "f1_score = []\n",
    "rnnis = [\"lstm\", \"gru\"]"
   ]
  },
  {
   "cell_type": "markdown",
   "metadata": {},
   "source": [
    "# Prepare dataset"
   ]
  },
  {
   "cell_type": "code",
   "execution_count": null,
   "metadata": {
    "scrolled": true
   },
   "outputs": [
    {
     "name": "stdout",
     "output_type": "stream",
     "text": [
      "rnn : lstm\n"
     ]
    },
    {
     "name": "stderr",
     "output_type": "stream",
     "text": [
      "/home/hyeontae/hyeontae/venv1/lib/python3.6/site-packages/torch/nn/_reduction.py:46: UserWarning: size_average and reduce args will be deprecated, please use reduction='sum' instead.\n",
      "  warnings.warn(warning.format(ret))\n",
      "2019-08-19 02:19:41,644 INFO   Optimizer: Adam (\n",
      "Parameter Group 0\n",
      "    amsgrad: False\n",
      "    betas: (0.9, 0.999)\n",
      "    eps: 1e-08\n",
      "    lr: 0.001\n",
      "    weight_decay: 0\n",
      "), Scheduler: None\n"
     ]
    },
    {
     "name": "stdout",
     "output_type": "stream",
     "text": [
      "Train_path : data/copy_rand/correction_single_Ctype4_error_rate_5/data_train.txt\n",
      "Dev_path = data/copy_rand/correction_single_Ctype4_error_rate_5/data_test.txt\n",
      "{\n",
      "    \"max_len\": 104,\n",
      "    \"embedding_size\": 5,\n",
      "    \"hidden_size\": 200,\n",
      "    \"input_dropout_p\": 0,\n",
      "    \"dropout_p\": 0,\n",
      "    \"n_layers\": 1,\n",
      "    \"bidirectional\": false,\n",
      "    \"rnn_cell\": \"lstm\",\n",
      "    \"variable_lengths\": false,\n",
      "    \"embedding\": null,\n",
      "    \"update_embedding\": true,\n",
      "    \"get_context_vector\": false,\n",
      "    \"use_attention\": true,\n",
      "    \"attn_layers\": 1,\n",
      "    \"hard_attn\": true,\n",
      "    \"position_embedding\": null\n",
      "}\n"
     ]
    },
    {
     "name": "stderr",
     "output_type": "stream",
     "text": [
      "/home/hyeontae/hyeontae/venv1/lib/python3.6/site-packages/torch/nn/functional.py:1374: UserWarning: nn.functional.tanh is deprecated. Use torch.tanh instead.\n",
      "  warnings.warn(\"nn.functional.tanh is deprecated. Use torch.tanh instead.\")\n",
      "2019-08-19 02:23:35,958 INFO   Finished epoch 1: Train loss: 1.6235, Dev loss: 1.3322, Accuracy(character): 0.9264, Accuracy(sentence): 0.2633, F1 Score: 0.0440\n",
      "2019-08-19 02:27:28,069 INFO   Finished epoch 2: Train loss: 1.4282, Dev loss: 1.1327, Accuracy(character): 0.9708, Accuracy(sentence): 0.7221, F1 Score: 0.7484\n",
      "2019-08-19 02:31:27,779 INFO   Finished epoch 3: Train loss: 3.0934, Dev loss: 1.1350, Accuracy(character): 0.9697, Accuracy(sentence): 0.7265, F1 Score: 0.7489\n",
      "2019-08-19 02:35:24,794 INFO   Finished epoch 4: Train loss: 3.7040, Dev loss: 1.1465, Accuracy(character): 0.9698, Accuracy(sentence): 0.7698, F1 Score: 0.7593\n",
      "2019-08-19 02:39:20,507 INFO   Finished epoch 5: Train loss: 3.2504, Dev loss: 2.8575, Accuracy(character): 0.8590, Accuracy(sentence): 0.6774, F1 Score: 0.4004\n"
     ]
    }
   ],
   "source": [
    "for rnn in rnnis:\n",
    "    print(\"rnn : %s\" % rnn)\n",
    "    train_path = \"data/copy_rand/correction_single_Ctype4_error_rate_5/data_train.txt\"\n",
    "    dev_path = \"data/copy_rand/correction_single_Ctype4_error_rate_5/data_test.txt\"\n",
    "    config_path = \"models/config.json\"\n",
    "    max_len = 104\n",
    "    src = fields.SourceField()\n",
    "    tgt = fields.TargetField()\n",
    "    def len_filter(example):\n",
    "        return len(example.src) <= max_len and len(example.tgt) <= max_len\n",
    "    train = torchtext.data.TabularDataset(\n",
    "        path=train_path, format='tsv',\n",
    "        fields=[('src', src), ('tgt', tgt)],\n",
    "        filter_pred=len_filter\n",
    "    )\n",
    "    dev = torchtext.data.TabularDataset(\n",
    "        path=dev_path, format='tsv',\n",
    "        fields=[('src', src), ('tgt', tgt)],\n",
    "        filter_pred=len_filter\n",
    "    )\n",
    "    src.build_vocab(train)\n",
    "    tgt.build_vocab(train)\n",
    "    input_vocab = src.vocab\n",
    "    output_vocab = tgt.vocab\n",
    "\n",
    "    weight = torch.ones(len(tgt.vocab))\n",
    "    pad = tgt.vocab.stoi[tgt.pad_token]\n",
    "    loss = Perplexity(weight, pad)\n",
    "    if torch.cuda.is_available():\n",
    "        loss.cuda()\n",
    "        \n",
    "    '''\n",
    "    {\n",
    "        \"max_len\": 102,\n",
    "        \"embedding_size\": 5,\n",
    "        \"hidden_size\": 200,\n",
    "        \"input_dropout_p\": 0,\n",
    "        \"dropout_p\": 0,\n",
    "        \"n_layers\": 1,\n",
    "        \"bidirectional\": false,\n",
    "        \"rnn_cell\": \"lstm\",\n",
    "        \"variable_lengths\": false,\n",
    "        \"embedding\": null,\n",
    "        \"update_embedding\": true,\n",
    "        \"get_context_vector\": false,\n",
    "        \"use_attention\": true,\n",
    "        \"attn_layers\": 1,\n",
    "        \"hard_attn\": false,\n",
    "        \"position_embedding\": null\n",
    "    }\n",
    "\n",
    "    '''\n",
    "\n",
    "    optimizer = \"Adam\"\n",
    "    seq2seq = None\n",
    "    config_json = open(config_path).read()\n",
    "    config = json.loads(config_json)\n",
    "    config[\"max_len\"] = max_len\n",
    "    config[\"rnn_cell\"] = rnn\n",
    "    config[\"hard_attn\"] = True\n",
    "    config[\"position_embedding\"] = None\n",
    "    \n",
    "    print(\"Train_path : %s\" % train_path)\n",
    "    print(\"Dev_path = %s\" % dev_path)\n",
    "    print(json.dumps(config, indent=4))\n",
    "    seq2seq = Seq2seq(config, len(src.vocab), len(tgt.vocab), tgt.sos_id, tgt.eos_id)\n",
    "    \n",
    "    if torch.cuda.is_available():\n",
    "        seq2seq.cuda()\n",
    "\n",
    "    for param in seq2seq.parameters():\n",
    "        param.data.uniform_(-0.08, 0.08)\n",
    "\n",
    "    # train\n",
    "    t = Trainer(loss=loss, batch_size=32,\n",
    "                checkpoint_every=50,\n",
    "                print_every=100,\n",
    "                hidden_size=config[\"hidden_size\"],\n",
    "                path=\"copy_rand_error_rate_5_hard_attn\",\n",
    "                file_name=config[\"rnn_cell\"])\n",
    "\n",
    "    seq2seq, ave_loss, character_accuracy_list, sentence_accuracy_list, f1_score_list = t.train(seq2seq, train,\n",
    "                                                                             num_epochs=100, dev_data=dev,\n",
    "                                                                             optimizer=optimizer,\n",
    "                                                                             teacher_forcing_ratio=0.5)\n",
    "\n",
    "    character_accuracy.append(character_accuracy_list)\n",
    "    sentence_accuracy.append(sentence_accuracy_list)\n",
    "    f1_score.append(f1_score_list)"
   ]
  },
  {
   "cell_type": "code",
   "execution_count": null,
   "metadata": {},
   "outputs": [
    {
     "name": "stdout",
     "output_type": "stream",
     "text": [
      "rnn : lstm\n"
     ]
    },
    {
     "name": "stderr",
     "output_type": "stream",
     "text": [
      "2019-08-19 15:17:54,279 INFO   Optimizer: Adam (\n",
      "Parameter Group 0\n",
      "    amsgrad: False\n",
      "    betas: (0.9, 0.999)\n",
      "    eps: 1e-08\n",
      "    lr: 0.001\n",
      "    weight_decay: 0\n",
      "), Scheduler: None\n"
     ]
    },
    {
     "name": "stdout",
     "output_type": "stream",
     "text": [
      "Train_path : data/copy_rand/correction_single_Ctype4_error_rate_5/data_train.txt\n",
      "Dev_path = data/copy_rand/correction_single_Ctype4_error_rate_5/data_test.txt\n",
      "{\n",
      "    \"max_len\": 104,\n",
      "    \"embedding_size\": 5,\n",
      "    \"hidden_size\": 200,\n",
      "    \"input_dropout_p\": 0,\n",
      "    \"dropout_p\": 0,\n",
      "    \"n_layers\": 1,\n",
      "    \"bidirectional\": false,\n",
      "    \"rnn_cell\": \"lstm\",\n",
      "    \"variable_lengths\": false,\n",
      "    \"embedding\": null,\n",
      "    \"update_embedding\": true,\n",
      "    \"get_context_vector\": false,\n",
      "    \"use_attention\": true,\n",
      "    \"attn_layers\": 1,\n",
      "    \"hard_attn\": true,\n",
      "    \"position_embedding\": \"length\"\n",
      "}\n"
     ]
    },
    {
     "name": "stderr",
     "output_type": "stream",
     "text": [
      "2019-08-19 15:22:10,158 INFO   Finished epoch 1: Train loss: 1.5079, Dev loss: 1.2457, Accuracy(character): 0.9366, Accuracy(sentence): 0.3146, F1 Score: 0.2439\n",
      "2019-08-19 15:26:27,267 INFO   Finished epoch 2: Train loss: 1.4653, Dev loss: 1.5432, Accuracy(character): 0.8922, Accuracy(sentence): 0.3390, F1 Score: 0.3127\n",
      "2019-08-19 15:30:36,666 INFO   Finished epoch 3: Train loss: 2.7136, Dev loss: 1.4452, Accuracy(character): 0.9234, Accuracy(sentence): 0.2242, F1 Score: 0.0474\n",
      "2019-08-19 15:34:24,737 INFO   Finished epoch 4: Train loss: 3.4961, Dev loss: 1.1362, Accuracy(character): 0.9707, Accuracy(sentence): 0.8663, F1 Score: 0.8112\n",
      "2019-08-19 15:38:11,678 INFO   Finished epoch 5: Train loss: 4.2433, Dev loss: 1.1118, Accuracy(character): 0.9680, Accuracy(sentence): 0.8285, F1 Score: 0.7857\n",
      "2019-08-19 15:42:01,340 INFO   Finished epoch 6: Train loss: 3.6237, Dev loss: 1.0318, Accuracy(character): 0.9938, Accuracy(sentence): 0.9353, F1 Score: 0.9553\n",
      "2019-08-19 15:45:47,819 INFO   Finished epoch 7: Train loss: 4.4935, Dev loss: 1.0105, Accuracy(character): 0.9969, Accuracy(sentence): 0.9609, F1 Score: 0.9782\n",
      "2019-08-19 15:49:38,402 INFO   Finished epoch 8: Train loss: 4.4617, Dev loss: 1.0158, Accuracy(character): 0.9965, Accuracy(sentence): 0.9719, F1 Score: 0.9751\n",
      "2019-08-19 15:53:32,378 INFO   Finished epoch 9: Train loss: 5.0563, Dev loss: 1.0923, Accuracy(character): 0.9813, Accuracy(sentence): 0.8286, F1 Score: 0.8608\n",
      "2019-08-19 15:57:30,175 INFO   Finished epoch 10: Train loss: 4.8722, Dev loss: 1.0139, Accuracy(character): 0.9975, Accuracy(sentence): 0.9678, F1 Score: 0.9818\n",
      "2019-08-19 16:02:00,431 INFO   Finished epoch 11: Train loss: 4.5672, Dev loss: 1.0441, Accuracy(character): 0.9917, Accuracy(sentence): 0.9273, F1 Score: 0.9394\n",
      "2019-08-19 16:05:18,540 INFO   Finished epoch 12: Train loss: 2.0899, Dev loss: 1.0023, Accuracy(character): 0.9990, Accuracy(sentence): 0.9829, F1 Score: 0.9928\n",
      "2019-08-19 16:09:27,485 INFO   Finished epoch 13: Train loss: 5.5084, Dev loss: 1.0579, Accuracy(character): 0.9895, Accuracy(sentence): 0.9461, F1 Score: 0.9264\n",
      "2019-08-19 16:13:39,309 INFO   Finished epoch 14: Train loss: 2.1973, Dev loss: 1.0007, Accuracy(character): 0.9999, Accuracy(sentence): 0.9955, F1 Score: 0.9990\n",
      "2019-08-19 16:17:54,794 INFO   Finished epoch 15: Train loss: 3.0688, Dev loss: 1.0004, Accuracy(character): 0.9999, Accuracy(sentence): 0.9981, F1 Score: 0.9996\n",
      "2019-08-19 16:22:04,042 INFO   Finished epoch 16: Train loss: 3.2780, Dev loss: 1.0015, Accuracy(character): 0.9997, Accuracy(sentence): 0.9978, F1 Score: 0.9981\n",
      "2019-08-19 16:26:09,773 INFO   Finished epoch 17: Train loss: 2.7390, Dev loss: 1.0500, Accuracy(character): 0.9876, Accuracy(sentence): 0.8707, F1 Score: 0.9093\n",
      "2019-08-19 16:30:26,593 INFO   Finished epoch 18: Train loss: 2.3077, Dev loss: 1.0000, Accuracy(character): 1.0000, Accuracy(sentence): 0.9999, F1 Score: 1.0000\n",
      "2019-08-19 16:34:20,702 INFO   Finished epoch 19: Train loss: 1.1403, Dev loss: 1.0976, Accuracy(character): 0.9780, Accuracy(sentence): 0.8151, F1 Score: 0.8367\n",
      "2019-08-19 16:38:06,111 INFO   Finished epoch 20: Train loss: 4.3617, Dev loss: 1.0226, Accuracy(character): 0.9957, Accuracy(sentence): 0.9726, F1 Score: 0.9695\n",
      "2019-08-19 16:41:51,096 INFO   Finished epoch 21: Train loss: 4.5228, Dev loss: 1.1060, Accuracy(character): 0.9745, Accuracy(sentence): 0.7437, F1 Score: 0.7985\n",
      "2019-08-19 16:45:29,352 INFO   Finished epoch 22: Train loss: 2.7484, Dev loss: 1.0004, Accuracy(character): 0.9999, Accuracy(sentence): 0.9991, F1 Score: 0.9994\n",
      "2019-08-19 16:49:11,450 INFO   Finished epoch 23: Train loss: 1.1282, Dev loss: 1.0003, Accuracy(character): 1.0000, Accuracy(sentence): 0.9993, F1 Score: 0.9998\n",
      "2019-08-19 16:52:53,743 INFO   Finished epoch 24: Train loss: 1.0000, Dev loss: 1.0004, Accuracy(character): 1.0000, Accuracy(sentence): 0.9992, F1 Score: 0.9997\n",
      "2019-08-19 16:56:30,931 INFO   Finished epoch 25: Train loss: 2.6048, Dev loss: 1.0151, Accuracy(character): 0.9963, Accuracy(sentence): 0.9526, F1 Score: 0.9732\n",
      "2019-08-19 17:00:03,632 INFO   Finished epoch 26: Train loss: 2.8246, Dev loss: 1.1535, Accuracy(character): 0.9738, Accuracy(sentence): 0.8446, F1 Score: 0.8138\n",
      "2019-08-19 17:03:41,695 INFO   Finished epoch 27: Train loss: 2.4109, Dev loss: 1.1763, Accuracy(character): 0.9654, Accuracy(sentence): 0.7070, F1 Score: 0.7090\n",
      "2019-08-19 17:07:23,848 INFO   Finished epoch 28: Train loss: 1.8364, Dev loss: 1.0035, Accuracy(character): 0.9994, Accuracy(sentence): 0.9941, F1 Score: 0.9959\n",
      "2019-08-19 17:11:04,679 INFO   Finished epoch 29: Train loss: 3.0628, Dev loss: 4.7546, Accuracy(character): 0.8680, Accuracy(sentence): 0.5350, F1 Score: 0.3538\n",
      "2019-08-19 17:14:38,955 INFO   Finished epoch 30: Train loss: 1.3876, Dev loss: 1.0001, Accuracy(character): 1.0000, Accuracy(sentence): 0.9996, F1 Score: 0.9999\n",
      "2019-08-19 17:18:24,228 INFO   Finished epoch 31: Train loss: 1.4285, Dev loss: 1.0904, Accuracy(character): 0.9835, Accuracy(sentence): 0.9256, F1 Score: 0.8855\n",
      "2019-08-19 17:22:23,498 INFO   Finished epoch 32: Train loss: 2.1127, Dev loss: 1.0001, Accuracy(character): 1.0000, Accuracy(sentence): 0.9996, F1 Score: 0.9999\n",
      "2019-08-19 17:26:52,433 INFO   Finished epoch 33: Train loss: 1.0000, Dev loss: 1.0004, Accuracy(character): 1.0000, Accuracy(sentence): 0.9993, F1 Score: 0.9997\n",
      "2019-08-19 17:31:04,944 INFO   Finished epoch 34: Train loss: 3.2782, Dev loss: 1.0010, Accuracy(character): 0.9999, Accuracy(sentence): 0.9986, F1 Score: 0.9994\n",
      "2019-08-19 17:35:13,359 INFO   Finished epoch 35: Train loss: 1.0681, Dev loss: 1.0014, Accuracy(character): 0.9999, Accuracy(sentence): 0.9980, F1 Score: 0.9992\n",
      "2019-08-19 17:38:53,829 INFO   Finished epoch 36: Train loss: 2.5782, Dev loss: 1.0073, Accuracy(character): 0.9984, Accuracy(sentence): 0.9687, F1 Score: 0.9886\n",
      "2019-08-19 17:42:59,139 INFO   Finished epoch 37: Train loss: 3.0424, Dev loss: 1.1108, Accuracy(character): 0.9728, Accuracy(sentence): 0.8268, F1 Score: 0.8016\n",
      "2019-08-19 17:46:47,650 INFO   Finished epoch 38: Train loss: 2.1886, Dev loss: 1.1911, Accuracy(character): 0.9752, Accuracy(sentence): 0.8799, F1 Score: 0.8285\n",
      "2019-08-19 17:50:51,628 INFO   Finished epoch 39: Train loss: 1.8311, Dev loss: 1.0348, Accuracy(character): 0.9947, Accuracy(sentence): 0.9654, F1 Score: 0.9622\n",
      "2019-08-19 17:55:02,583 INFO   Finished epoch 40: Train loss: 1.3754, Dev loss: 1.0118, Accuracy(character): 0.9981, Accuracy(sentence): 0.9854, F1 Score: 0.9865\n",
      "2019-08-19 17:59:15,536 INFO   Finished epoch 41: Train loss: 2.2055, Dev loss: 1.0193, Accuracy(character): 0.9947, Accuracy(sentence): 0.9610, F1 Score: 0.9625\n",
      "2019-08-19 18:03:25,924 INFO   Finished epoch 42: Train loss: 1.3167, Dev loss: 1.0011, Accuracy(character): 0.9999, Accuracy(sentence): 0.9978, F1 Score: 0.9992\n",
      "2019-08-19 18:07:38,167 INFO   Finished epoch 43: Train loss: 1.0478, Dev loss: 1.2517, Accuracy(character): 0.9697, Accuracy(sentence): 0.8425, F1 Score: 0.7902\n",
      "2019-08-19 18:11:55,597 INFO   Finished epoch 44: Train loss: 1.5496, Dev loss: 1.0011, Accuracy(character): 0.9999, Accuracy(sentence): 0.9977, F1 Score: 0.9991\n",
      "2019-08-19 18:16:04,543 INFO   Finished epoch 45: Train loss: 1.2818, Dev loss: 1.0010, Accuracy(character): 0.9999, Accuracy(sentence): 0.9979, F1 Score: 0.9992\n",
      "2019-08-19 18:20:14,006 INFO   Finished epoch 46: Train loss: 1.5223, Dev loss: 1.0006, Accuracy(character): 0.9999, Accuracy(sentence): 0.9982, F1 Score: 0.9994\n",
      "2019-08-19 18:24:18,641 INFO   Finished epoch 47: Train loss: 1.7929, Dev loss: 1.0334, Accuracy(character): 0.9913, Accuracy(sentence): 0.9094, F1 Score: 0.9367\n",
      "2019-08-19 18:28:20,493 INFO   Finished epoch 48: Train loss: 1.2469, Dev loss: 1.0640, Accuracy(character): 0.9903, Accuracy(sentence): 0.9401, F1 Score: 0.9311\n",
      "2019-08-19 18:32:04,986 INFO   Finished epoch 49: Train loss: 1.2876, Dev loss: 1.0192, Accuracy(character): 0.9967, Accuracy(sentence): 0.9817, F1 Score: 0.9761\n",
      "2019-08-19 18:35:48,187 INFO   Finished epoch 50: Train loss: 1.7986, Dev loss: 1.5889, Accuracy(character): 0.9427, Accuracy(sentence): 0.7876, F1 Score: 0.6508\n",
      "2019-08-19 18:39:28,278 INFO   Finished epoch 51: Train loss: 1.7309, Dev loss: 1.0003, Accuracy(character): 0.9999, Accuracy(sentence): 0.9983, F1 Score: 0.9996\n"
     ]
    },
    {
     "name": "stderr",
     "output_type": "stream",
     "text": [
      "2019-08-19 18:43:02,680 INFO   Finished epoch 52: Train loss: 1.5543, Dev loss: 1.0002, Accuracy(character): 1.0000, Accuracy(sentence): 0.9992, F1 Score: 0.9998\n",
      "2019-08-19 18:47:05,091 INFO   Finished epoch 53: Train loss: 1.6557, Dev loss: 1.0000, Accuracy(character): 1.0000, Accuracy(sentence): 0.9998, F1 Score: 0.9999\n",
      "2019-08-19 18:51:07,891 INFO   Finished epoch 54: Train loss: 1.4980, Dev loss: 1.3795, Accuracy(character): 0.9545, Accuracy(sentence): 0.7273, F1 Score: 0.6771\n",
      "2019-08-19 18:54:50,892 INFO   Finished epoch 55: Train loss: 2.2455, Dev loss: 1.0038, Accuracy(character): 0.9994, Accuracy(sentence): 0.9932, F1 Score: 0.9959\n",
      "2019-08-19 18:58:37,087 INFO   Finished epoch 56: Train loss: 1.5481, Dev loss: 1.0028, Accuracy(character): 0.9996, Accuracy(sentence): 0.9963, F1 Score: 0.9969\n",
      "2019-08-19 19:02:17,621 INFO   Finished epoch 57: Train loss: 1.3385, Dev loss: 1.0010, Accuracy(character): 0.9999, Accuracy(sentence): 0.9977, F1 Score: 0.9991\n",
      "2019-08-19 19:06:22,297 INFO   Finished epoch 58: Train loss: 1.2117, Dev loss: 1.2212, Accuracy(character): 0.9641, Accuracy(sentence): 0.6826, F1 Score: 0.7049\n",
      "2019-08-19 19:10:29,050 INFO   Finished epoch 59: Train loss: 1.3362, Dev loss: 1.1119, Accuracy(character): 0.9826, Accuracy(sentence): 0.9133, F1 Score: 0.8786\n",
      "2019-08-19 19:14:18,812 INFO   Finished epoch 60: Train loss: 1.2277, Dev loss: 1.0012, Accuracy(character): 0.9999, Accuracy(sentence): 0.9977, F1 Score: 0.9991\n",
      "2019-08-19 19:17:59,568 INFO   Finished epoch 61: Train loss: 1.1319, Dev loss: 1.0433, Accuracy(character): 0.9914, Accuracy(sentence): 0.9394, F1 Score: 0.9386\n",
      "2019-08-19 19:21:45,491 INFO   Finished epoch 62: Train loss: 1.2221, Dev loss: 1.0017, Accuracy(character): 0.9998, Accuracy(sentence): 0.9961, F1 Score: 0.9986\n",
      "2019-08-19 19:25:33,850 INFO   Finished epoch 63: Train loss: 1.1143, Dev loss: 1.1571, Accuracy(character): 0.9715, Accuracy(sentence): 0.8660, F1 Score: 0.8052\n",
      "2019-08-19 19:29:45,679 INFO   Finished epoch 64: Train loss: 1.1234, Dev loss: 1.0010, Accuracy(character): 0.9999, Accuracy(sentence): 0.9982, F1 Score: 0.9994\n",
      "2019-08-19 19:33:51,310 INFO   Finished epoch 65: Train loss: 1.1738, Dev loss: 1.2169, Accuracy(character): 0.9669, Accuracy(sentence): 0.8186, F1 Score: 0.7693\n",
      "2019-08-19 19:37:55,161 INFO   Finished epoch 66: Train loss: 1.0341, Dev loss: 1.0011, Accuracy(character): 0.9999, Accuracy(sentence): 0.9974, F1 Score: 0.9990\n",
      "2019-08-19 19:42:02,208 INFO   Finished epoch 67: Train loss: 1.1312, Dev loss: 1.0006, Accuracy(character): 0.9999, Accuracy(sentence): 0.9986, F1 Score: 0.9996\n",
      "2019-08-19 19:46:07,089 INFO   Finished epoch 68: Train loss: 1.0569, Dev loss: 1.0012, Accuracy(character): 0.9999, Accuracy(sentence): 0.9974, F1 Score: 0.9991\n",
      "2019-08-19 19:50:22,341 INFO   Finished epoch 69: Train loss: 1.1175, Dev loss: 1.0011, Accuracy(character): 0.9999, Accuracy(sentence): 0.9976, F1 Score: 0.9993\n",
      "2019-08-19 19:54:35,707 INFO   Finished epoch 70: Train loss: 1.0706, Dev loss: 1.0011, Accuracy(character): 0.9999, Accuracy(sentence): 0.9972, F1 Score: 0.9991\n",
      "2019-08-19 19:58:49,307 INFO   Finished epoch 71: Train loss: 1.0492, Dev loss: 1.0016, Accuracy(character): 0.9999, Accuracy(sentence): 0.9968, F1 Score: 0.9989\n",
      "2019-08-19 20:02:59,960 INFO   Finished epoch 72: Train loss: 1.0669, Dev loss: 1.0018, Accuracy(character): 0.9998, Accuracy(sentence): 0.9956, F1 Score: 0.9986\n",
      "2019-08-19 20:07:14,143 INFO   Finished epoch 73: Train loss: 1.0826, Dev loss: 1.0020, Accuracy(character): 0.9998, Accuracy(sentence): 0.9958, F1 Score: 0.9987\n",
      "2019-08-19 20:11:25,850 INFO   Finished epoch 74: Train loss: 1.1252, Dev loss: 1.0014, Accuracy(character): 0.9999, Accuracy(sentence): 0.9974, F1 Score: 0.9992\n",
      "2019-08-19 20:15:33,264 INFO   Finished epoch 75: Train loss: 1.0759, Dev loss: 1.0066, Accuracy(character): 0.9990, Accuracy(sentence): 0.9909, F1 Score: 0.9926\n",
      "2019-08-19 20:19:41,767 INFO   Finished epoch 76: Train loss: 1.1362, Dev loss: 1.0047, Accuracy(character): 0.9992, Accuracy(sentence): 0.9905, F1 Score: 0.9942\n",
      "2019-08-19 20:23:36,400 INFO   Finished epoch 77: Train loss: 1.0349, Dev loss: 1.0046, Accuracy(character): 0.9993, Accuracy(sentence): 0.9901, F1 Score: 0.9949\n",
      "2019-08-19 20:27:24,854 INFO   Finished epoch 78: Train loss: 1.0806, Dev loss: 1.0022, Accuracy(character): 0.9998, Accuracy(sentence): 0.9965, F1 Score: 0.9987\n",
      "2019-08-19 20:31:29,353 INFO   Finished epoch 79: Train loss: 1.0313, Dev loss: 1.0020, Accuracy(character): 0.9999, Accuracy(sentence): 0.9970, F1 Score: 0.9988\n",
      "2019-08-19 20:35:32,477 INFO   Finished epoch 80: Train loss: 1.0577, Dev loss: 1.0019, Accuracy(character): 0.9999, Accuracy(sentence): 0.9970, F1 Score: 0.9989\n",
      "2019-08-19 20:39:29,208 INFO   Finished epoch 81: Train loss: 1.0105, Dev loss: 1.0019, Accuracy(character): 0.9999, Accuracy(sentence): 0.9969, F1 Score: 0.9988\n",
      "2019-08-19 20:43:40,456 INFO   Finished epoch 82: Train loss: 1.0284, Dev loss: 1.0018, Accuracy(character): 0.9999, Accuracy(sentence): 0.9970, F1 Score: 0.9989\n",
      "2019-08-19 20:47:47,728 INFO   Finished epoch 83: Train loss: 1.0271, Dev loss: 1.0015, Accuracy(character): 0.9998, Accuracy(sentence): 0.9961, F1 Score: 0.9987\n",
      "2019-08-19 20:51:59,146 INFO   Finished epoch 84: Train loss: 1.0302, Dev loss: 1.0017, Accuracy(character): 0.9999, Accuracy(sentence): 0.9970, F1 Score: 0.9989\n",
      "2019-08-19 20:56:04,990 INFO   Finished epoch 85: Train loss: 1.0556, Dev loss: 1.0034, Accuracy(character): 0.9994, Accuracy(sentence): 0.9893, F1 Score: 0.9955\n",
      "2019-08-19 21:00:12,612 INFO   Finished epoch 86: Train loss: 1.0029, Dev loss: 1.0017, Accuracy(character): 0.9999, Accuracy(sentence): 0.9968, F1 Score: 0.9988\n",
      "2019-08-19 21:04:19,953 INFO   Finished epoch 87: Train loss: 1.0156, Dev loss: 1.0385, Accuracy(character): 0.9938, Accuracy(sentence): 0.9597, F1 Score: 0.9559\n",
      "2019-08-19 21:08:28,329 INFO   Finished epoch 88: Train loss: 1.0276, Dev loss: 1.0022, Accuracy(character): 0.9998, Accuracy(sentence): 0.9944, F1 Score: 0.9982\n",
      "2019-08-19 21:12:32,551 INFO   Finished epoch 89: Train loss: 1.0495, Dev loss: 1.0023, Accuracy(character): 0.9998, Accuracy(sentence): 0.9961, F1 Score: 0.9986\n",
      "2019-08-19 21:16:38,194 INFO   Finished epoch 90: Train loss: 1.0038, Dev loss: 1.0025, Accuracy(character): 0.9997, Accuracy(sentence): 0.9932, F1 Score: 0.9979\n",
      "2019-08-19 21:20:43,456 INFO   Finished epoch 91: Train loss: 1.0407, Dev loss: 1.0177, Accuracy(character): 0.9964, Accuracy(sentence): 0.9729, F1 Score: 0.9741\n",
      "2019-08-19 21:24:45,126 INFO   Finished epoch 92: Train loss: 1.0038, Dev loss: 1.0021, Accuracy(character): 0.9998, Accuracy(sentence): 0.9958, F1 Score: 0.9986\n",
      "2019-08-19 21:28:29,247 INFO   Finished epoch 93: Train loss: 1.0223, Dev loss: 1.0030, Accuracy(character): 0.9997, Accuracy(sentence): 0.9894, F1 Score: 0.9975\n",
      "2019-08-19 21:32:07,891 INFO   Finished epoch 94: Train loss: 1.0216, Dev loss: 1.0049, Accuracy(character): 0.9991, Accuracy(sentence): 0.9912, F1 Score: 0.9936\n"
     ]
    }
   ],
   "source": [
    "for rnn in rnnis:\n",
    "    print(\"rnn : %s\" % rnn)\n",
    "    train_path = \"data/copy_rand/correction_single_Ctype4_error_rate_5/data_train.txt\"\n",
    "    dev_path = \"data/copy_rand/correction_single_Ctype4_error_rate_5/data_test.txt\"\n",
    "    config_path = \"models/config.json\"\n",
    "    max_len = 104\n",
    "    src = fields.SourceField()\n",
    "    tgt = fields.TargetField()\n",
    "    def len_filter(example):\n",
    "        return len(example.src) <= max_len and len(example.tgt) <= max_len\n",
    "    train = torchtext.data.TabularDataset(\n",
    "        path=train_path, format='tsv',\n",
    "        fields=[('src', src), ('tgt', tgt)],\n",
    "        filter_pred=len_filter\n",
    "    )\n",
    "    dev = torchtext.data.TabularDataset(\n",
    "        path=dev_path, format='tsv',\n",
    "        fields=[('src', src), ('tgt', tgt)],\n",
    "        filter_pred=len_filter\n",
    "    )\n",
    "    src.build_vocab(train)\n",
    "    tgt.build_vocab(train)\n",
    "    input_vocab = src.vocab\n",
    "    output_vocab = tgt.vocab\n",
    "\n",
    "    weight = torch.ones(len(tgt.vocab))\n",
    "    pad = tgt.vocab.stoi[tgt.pad_token]\n",
    "    loss = Perplexity(weight, pad)\n",
    "    if torch.cuda.is_available():\n",
    "        loss.cuda()\n",
    "        \n",
    "    '''\n",
    "    {\n",
    "        \"max_len\": 102,\n",
    "        \"embedding_size\": 5,\n",
    "        \"hidden_size\": 200,\n",
    "        \"input_dropout_p\": 0,\n",
    "        \"dropout_p\": 0,\n",
    "        \"n_layers\": 1,\n",
    "        \"bidirectional\": false,\n",
    "        \"rnn_cell\": \"lstm\",\n",
    "        \"variable_lengths\": false,\n",
    "        \"embedding\": null,\n",
    "        \"update_embedding\": true,\n",
    "        \"get_context_vector\": false,\n",
    "        \"use_attention\": true,\n",
    "        \"attn_layers\": 1,\n",
    "        \"hard_attn\": false,\n",
    "        \"position_embedding\": null\n",
    "    }\n",
    "\n",
    "    '''\n",
    "\n",
    "    optimizer = \"Adam\"\n",
    "    seq2seq = None\n",
    "    config_json = open(config_path).read()\n",
    "    config = json.loads(config_json)\n",
    "    config[\"max_len\"] = max_len\n",
    "    config[\"rnn_cell\"] = rnn\n",
    "    config[\"hard_attn\"] = True\n",
    "    config[\"position_embedding\"] = \"length\"\n",
    "    \n",
    "    print(\"Train_path : %s\" % train_path)\n",
    "    print(\"Dev_path = %s\" % dev_path)\n",
    "    print(json.dumps(config, indent=4))\n",
    "    seq2seq = Seq2seq(config, len(src.vocab), len(tgt.vocab), tgt.sos_id, tgt.eos_id)\n",
    "    \n",
    "    if torch.cuda.is_available():\n",
    "        seq2seq.cuda()\n",
    "\n",
    "    for param in seq2seq.parameters():\n",
    "        param.data.uniform_(-0.08, 0.08)\n",
    "\n",
    "    # train\n",
    "    t = Trainer(loss=loss, batch_size=32,\n",
    "                checkpoint_every=50,\n",
    "                print_every=100,\n",
    "                hidden_size=config[\"hidden_size\"],\n",
    "                path=\"copy_rand_error_rate_5_hard_attn\",\n",
    "                file_name=config[\"rnn_cell\"] + \"_lenemb\")\n",
    "\n",
    "    seq2seq, ave_loss, character_accuracy_list, sentence_accuracy_list, f1_score_list = t.train(seq2seq, train,\n",
    "                                                                             num_epochs=100, dev_data=dev,\n",
    "                                                                             optimizer=optimizer,\n",
    "                                                                             teacher_forcing_ratio=0.5)\n",
    "\n",
    "    character_accuracy.append(character_accuracy_list)\n",
    "    sentence_accuracy.append(sentence_accuracy_list)\n",
    "    f1_score.append(f1_score_list)"
   ]
  },
  {
   "cell_type": "code",
   "execution_count": null,
   "metadata": {},
   "outputs": [],
   "source": [
    "epochs = list(range(1, 101, 1))\n",
    "plt.figure(figsize=(15,7))\n",
    "plt.plot(epochs[::3], sentence_accuracy[0][::3], '-', LineWidth=3, label=\"LSTM HardAttn\")\n",
    "plt.plot(epochs[::3], sentence_accuracy[1][::3], '-x', LineWidth=3, label=\"GRU HardAttn\")\n",
    "plt.plot(epochs[::3], sentence_accuracy[2][::3], '--', LineWidth=3, label=\"LSTM HardAttn Lenemb\")\n",
    "plt.plot(epochs[::3], sentence_accuracy[3][::3], '-x', LineWidth=3, label=\"GRU HardAttn Lenemb\")\n",
    "\n",
    "plt.legend(loc=\"best\", fontsize=12)\n",
    "plt.xlabel('Epoch', fontsize=24)\n",
    "plt.ylabel('Sentence Accuracy', fontsize=24)\n",
    "plt.ylim([0, 1])\n",
    "#plt.savefig('../../../log/plot/gru_palindrome_rand_correction_ctype4_lenemb_add_order_encoder_decoder/ctype_to_sentence_accuracy.png')"
   ]
  },
  {
   "cell_type": "code",
   "execution_count": null,
   "metadata": {},
   "outputs": [],
   "source": [
    "plt.figure(figsize=(15,7))\n",
    "plt.plot(epochs[::3], f1_score[0][::3], '-', LineWidth=3, label=\"LSTM HardAttn\")\n",
    "plt.plot(epochs[::3], f1_score[1][::3], '-x', LineWidth=3, label=\"GRU HardAttn\")\n",
    "plt.plot(epochs[::3], f1_score[2][::3], '--', LineWidth=3, label=\"LSTM HardAttn Lenemb\")\n",
    "plt.plot(epochs[::3], f1_score[3][::3], '-x', LineWidth=3, label=\"GRU HardAttn Lenemb\")\n",
    "plt.legend(loc=\"best\", fontsize=12)\n",
    "plt.xlabel('Epoch', fontsize=24)\n",
    "plt.ylabel('F1 Score', fontsize=24)\n",
    "plt.ylim([0, 1])\n",
    "#plt.savefig('../../../log/plot/gru_palindrome_rand_correction_ctype4_lenemb_add_order_encoder_decoder/ctype_to_f1_score.png')"
   ]
  },
  {
   "cell_type": "code",
   "execution_count": null,
   "metadata": {},
   "outputs": [],
   "source": [
    "error_rate_list = []\n",
    "for i in range(len(character_accuracy)):\n",
    "    error_rate = []\n",
    "    for j in character_accuracy[i]:\n",
    "        error_rate.append(1 - j)\n",
    "    error_rate_list.append(error_rate)"
   ]
  },
  {
   "cell_type": "code",
   "execution_count": null,
   "metadata": {},
   "outputs": [],
   "source": [
    "epochs = list(range(1, 101, 1))\n",
    "plt.figure(figsize=(15,7))\n",
    "plt.plot(epochs[::3], error_rate_list[0][::3], '-', LineWidth=3, label=\"LSTM HardAttn\")\n",
    "plt.plot(epochs[::3], error_rate_list[1][::3], '-x', LineWidth=3, label=\"GRU HardAttn\")\n",
    "plt.plot(epochs[::3], error_rate_list[2][::3], '--', LineWidth=3, label=\"LSTM HardAttn Lenemb\")\n",
    "plt.plot(epochs[::3], error_rate_list[3][::3], '-x', LineWidth=3, label=\"GRU HardAttn Lenemb\")\n",
    "plt.legend(loc=\"best\", fontsize=12)\n",
    "plt.xlabel('Epoch', fontsize=24)\n",
    "plt.ylabel('Error Rate', fontsize=24)\n",
    "plt.yscale('log')\n",
    "#plt.ylim([0, 1])\n",
    "#plt.savefig('../../../log/plot/gru_palindrome_rand_correction_ctype4_lenemb_add_order_encoder_decoder/ctype_to_error_rate.png')"
   ]
  },
  {
   "cell_type": "code",
   "execution_count": null,
   "metadata": {
    "scrolled": true
   },
   "outputs": [],
   "source": [
    "print(len(character_accuracy))\n",
    "for i in character_accuracy:\n",
    "    print(i)"
   ]
  },
  {
   "cell_type": "code",
   "execution_count": null,
   "metadata": {
    "scrolled": true
   },
   "outputs": [],
   "source": [
    "print(len(sentence_accuracy))\n",
    "for i in sentence_accuracy:\n",
    "    print(i)"
   ]
  },
  {
   "cell_type": "code",
   "execution_count": null,
   "metadata": {
    "scrolled": true
   },
   "outputs": [],
   "source": [
    "print(len(f1_score))\n",
    "for i in f1_score:\n",
    "    print(i)"
   ]
  },
  {
   "cell_type": "code",
   "execution_count": null,
   "metadata": {},
   "outputs": [],
   "source": [
    "print(len(error_rate_list))\n",
    "for i in error_rate_list:\n",
    "    print(i)"
   ]
  },
  {
   "cell_type": "code",
   "execution_count": null,
   "metadata": {},
   "outputs": [],
   "source": []
  }
 ],
 "metadata": {
  "kernelspec": {
   "display_name": "Python 3",
   "language": "python",
   "name": "python3"
  }
 },
 "nbformat": 4,
 "nbformat_minor": 2
}
