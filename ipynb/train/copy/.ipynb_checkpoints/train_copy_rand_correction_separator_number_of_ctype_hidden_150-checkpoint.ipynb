{
 "cells": [
  {
   "cell_type": "markdown",
   "metadata": {},
   "source": [
    "# Set Parameter\n",
    "- Attention = Luong\n",
    "- Teacher Forcing Ratio = 0.5\n",
    "- Layer = 1\n",
    "- Batch size = 32\n",
    "- Drop out = 0.2\n",
    "- Hidden unit = 50\n",
    "- Epochs = 100\n",
    "- N = 100\n",
    "- Data Length = 100K\n",
    "- Data = [Ctype2, Ctype4, Ctype6, Ctype8]\n",
    "- Deduplication"
   ]
  },
  {
   "cell_type": "markdown",
   "metadata": {},
   "source": [
    "# Import packages\n",
    "\n",
    "import useful packages for experiments"
   ]
  },
  {
   "cell_type": "code",
   "execution_count": 1,
   "metadata": {},
   "outputs": [
    {
     "name": "stderr",
     "output_type": "stream",
     "text": [
      "/home/hyeontae/hyeontae/venv/lib/python3.6/site-packages/torch/nn/_reduction.py:46: UserWarning: size_average and reduce args will be deprecated, please use reduction='mean' instead.\n",
      "  warnings.warn(warning.format(ret))\n",
      "/home/hyeontae/hyeontae/venv/lib/python3.6/site-packages/torch/nn/_reduction.py:46: UserWarning: size_average and reduce args will be deprecated, please use reduction='mean' instead.\n",
      "  warnings.warn(warning.format(ret))\n"
     ]
    }
   ],
   "source": [
    "import os\n",
    "import argparse\n",
    "import logging\n",
    "import sys\n",
    "\n",
    "import torch\n",
    "from torch.optim.lr_scheduler import StepLR\n",
    "import torchtext\n",
    "\n",
    "sys.path.append(os.path.dirname(os.path.abspath(os.path.dirname(os.path.abspath(os.path.dirname(os.path.abspath(os.path.dirname('__file__'))))))))\n",
    "\n",
    "from trainer.supervised_trainer_unmatching import SupervisedTrainer_unmatching\n",
    "from models.encoderRNN import EncoderRNN\n",
    "from models.decoderRNN import DecoderRNN\n",
    "from models.seq2seq import Seq2seq\n",
    "from loss.loss import Perplexity\n",
    "from optim.optim import Optimizer\n",
    "from dataset import fields\n",
    "\n",
    "import matplotlib.pyplot as plt"
   ]
  },
  {
   "cell_type": "markdown",
   "metadata": {},
   "source": [
    "# Log format"
   ]
  },
  {
   "cell_type": "code",
   "execution_count": 2,
   "metadata": {},
   "outputs": [],
   "source": [
    "log_level = 'info'\n",
    "LOG_FORMAT = '%(asctime)s %(levelname)-6s %(message)s'\n",
    "logging.basicConfig(format=LOG_FORMAT, level=getattr(logging, log_level.upper()))"
   ]
  },
  {
   "cell_type": "code",
   "execution_count": 3,
   "metadata": {},
   "outputs": [],
   "source": [
    "data_name = [\"Ctype2\", \"Ctype4\", \"Ctype6\", \"Ctype8\"]\n",
    "data_path = [\"correction_separator_Ctype2\", \"correction_separator_Ctype4\", \"correction_separator_Ctype6\", \"correction_separator_Ctype8\"]\n",
    "character_accuracy = []\n",
    "sentence_accuracy = []\n",
    "f1_score = []"
   ]
  },
  {
   "cell_type": "markdown",
   "metadata": {},
   "source": [
    "# Prepare dataset"
   ]
  },
  {
   "cell_type": "code",
   "execution_count": null,
   "metadata": {},
   "outputs": [
    {
     "name": "stdout",
     "output_type": "stream",
     "text": [
      "data : correction_separator_Ctype2\n"
     ]
    },
    {
     "name": "stderr",
     "output_type": "stream",
     "text": [
      "/home/hyeontae/hyeontae/venv/lib/python3.6/site-packages/torch/nn/_reduction.py:46: UserWarning: size_average and reduce args will be deprecated, please use reduction='sum' instead.\n",
      "  warnings.warn(warning.format(ret))\n",
      "/home/hyeontae/hyeontae/venv/lib/python3.6/site-packages/torch/nn/modules/rnn.py:54: UserWarning: dropout option adds dropout after all but last recurrent layer, so non-zero dropout expects num_layers greater than 1, but got dropout=0.2 and num_layers=1\n",
      "  \"num_layers={}\".format(dropout, num_layers))\n",
      "2019-05-06 14:29:15,212 INFO   Optimizer: Adam (\n",
      "Parameter Group 0\n",
      "    amsgrad: False\n",
      "    betas: (0.9, 0.999)\n",
      "    eps: 1e-08\n",
      "    lr: 0.001\n",
      "    weight_decay: 0\n",
      "), Scheduler: None\n",
      "/home/hyeontae/hyeontae/venv/lib/python3.6/site-packages/torch/nn/functional.py:1374: UserWarning: nn.functional.tanh is deprecated. Use torch.tanh instead.\n",
      "  warnings.warn(\"nn.functional.tanh is deprecated. Use torch.tanh instead.\")\n",
      "2019-05-06 14:33:03,782 INFO   Finished epoch 1: Train loss: 1.2237, Dev loss: 1.1482, Accuracy(character): 0.9732, Accuracy(sentence): 0.2407, F1 Score: 0.0000\n",
      "2019-05-06 14:36:52,926 INFO   Finished epoch 2: Train loss: 1.1683, Dev loss: 1.1528, Accuracy(character): 0.9731, Accuracy(sentence): 0.2401, F1 Score: 0.0000\n",
      "2019-05-06 14:40:44,244 INFO   Finished epoch 3: Train loss: 1.1605, Dev loss: 1.1361, Accuracy(character): 0.9732, Accuracy(sentence): 0.2407, F1 Score: 0.0000\n",
      "2019-05-06 14:44:32,875 INFO   Finished epoch 4: Train loss: 1.1437, Dev loss: 1.1302, Accuracy(character): 0.9732, Accuracy(sentence): 0.2406, F1 Score: 0.0000\n",
      "2019-05-06 14:48:22,640 INFO   Finished epoch 5: Train loss: 1.1407, Dev loss: 1.1287, Accuracy(character): 0.9732, Accuracy(sentence): 0.2407, F1 Score: 0.0000\n",
      "2019-05-06 14:52:10,956 INFO   Finished epoch 6: Train loss: 1.1395, Dev loss: 1.1288, Accuracy(character): 0.9732, Accuracy(sentence): 0.2405, F1 Score: 0.0000\n",
      "2019-05-06 14:55:57,963 INFO   Finished epoch 7: Train loss: 1.1377, Dev loss: 1.1263, Accuracy(character): 0.9732, Accuracy(sentence): 0.2407, F1 Score: 0.0000\n",
      "2019-05-06 14:59:50,129 INFO   Finished epoch 8: Train loss: 1.1361, Dev loss: 1.1267, Accuracy(character): 0.9732, Accuracy(sentence): 0.2406, F1 Score: 0.0001\n",
      "2019-05-06 15:03:39,780 INFO   Finished epoch 9: Train loss: 1.1349, Dev loss: 1.1233, Accuracy(character): 0.9732, Accuracy(sentence): 0.2407, F1 Score: 0.0000\n",
      "2019-05-06 15:07:28,486 INFO   Finished epoch 10: Train loss: 1.1335, Dev loss: 1.1227, Accuracy(character): 0.9732, Accuracy(sentence): 0.2407, F1 Score: 0.0000\n",
      "2019-05-06 15:11:14,798 INFO   Finished epoch 11: Train loss: 1.1328, Dev loss: 1.1214, Accuracy(character): 0.9732, Accuracy(sentence): 0.2407, F1 Score: 0.0000\n",
      "2019-05-06 15:15:01,990 INFO   Finished epoch 12: Train loss: 1.1322, Dev loss: 1.1216, Accuracy(character): 0.9732, Accuracy(sentence): 0.2407, F1 Score: 0.0000\n",
      "2019-05-06 15:18:48,560 INFO   Finished epoch 13: Train loss: 1.1313, Dev loss: 1.1232, Accuracy(character): 0.9732, Accuracy(sentence): 0.2406, F1 Score: 0.0004\n",
      "2019-05-06 15:22:36,943 INFO   Finished epoch 14: Train loss: 1.1310, Dev loss: 1.1202, Accuracy(character): 0.9732, Accuracy(sentence): 0.2407, F1 Score: 0.0000\n",
      "2019-05-06 15:26:25,124 INFO   Finished epoch 15: Train loss: 1.1305, Dev loss: 1.1207, Accuracy(character): 0.9732, Accuracy(sentence): 0.2407, F1 Score: 0.0000\n",
      "2019-05-06 15:30:15,061 INFO   Finished epoch 16: Train loss: 1.1307, Dev loss: 1.1205, Accuracy(character): 0.9732, Accuracy(sentence): 0.2407, F1 Score: 0.0000\n",
      "2019-05-06 15:34:04,926 INFO   Finished epoch 17: Train loss: 1.1302, Dev loss: 1.1207, Accuracy(character): 0.9732, Accuracy(sentence): 0.2407, F1 Score: 0.0000\n",
      "2019-05-06 15:38:03,870 INFO   Finished epoch 18: Train loss: 1.1299, Dev loss: 1.1234, Accuracy(character): 0.9732, Accuracy(sentence): 0.2407, F1 Score: 0.0001\n",
      "2019-05-06 15:41:55,210 INFO   Finished epoch 19: Train loss: 1.1299, Dev loss: 1.1202, Accuracy(character): 0.9732, Accuracy(sentence): 0.2407, F1 Score: 0.0000\n",
      "2019-05-06 15:45:16,657 INFO   Finished epoch 20: Train loss: 1.1296, Dev loss: 1.1194, Accuracy(character): 0.9732, Accuracy(sentence): 0.2407, F1 Score: 0.0001\n",
      "2019-05-06 15:48:50,368 INFO   Finished epoch 21: Train loss: 1.1297, Dev loss: 1.1197, Accuracy(character): 0.9732, Accuracy(sentence): 0.2406, F1 Score: 0.0004\n",
      "2019-05-06 15:52:34,924 INFO   Finished epoch 22: Train loss: 1.1295, Dev loss: 1.1196, Accuracy(character): 0.9732, Accuracy(sentence): 0.2406, F1 Score: 0.0005\n",
      "2019-05-06 15:56:26,772 INFO   Finished epoch 23: Train loss: 1.1295, Dev loss: 1.1197, Accuracy(character): 0.9732, Accuracy(sentence): 0.2407, F1 Score: 0.0000\n",
      "2019-05-06 16:00:13,905 INFO   Finished epoch 24: Train loss: 1.1291, Dev loss: 1.1192, Accuracy(character): 0.9731, Accuracy(sentence): 0.2404, F1 Score: 0.0045\n",
      "2019-05-06 16:04:00,872 INFO   Finished epoch 25: Train loss: 1.1289, Dev loss: 1.1207, Accuracy(character): 0.9732, Accuracy(sentence): 0.2407, F1 Score: 0.0003\n",
      "2019-05-06 16:07:48,587 INFO   Finished epoch 26: Train loss: 1.1294, Dev loss: 1.1184, Accuracy(character): 0.9732, Accuracy(sentence): 0.2407, F1 Score: 0.0000\n",
      "2019-05-06 16:11:22,357 INFO   Finished epoch 27: Train loss: 1.1289, Dev loss: 1.1187, Accuracy(character): 0.9732, Accuracy(sentence): 0.2407, F1 Score: 0.0006\n",
      "2019-05-06 16:15:07,168 INFO   Finished epoch 28: Train loss: 1.1290, Dev loss: 1.1185, Accuracy(character): 0.9732, Accuracy(sentence): 0.2407, F1 Score: 0.0000\n",
      "2019-05-06 16:18:46,986 INFO   Finished epoch 29: Train loss: 1.1287, Dev loss: 1.1189, Accuracy(character): 0.9732, Accuracy(sentence): 0.2407, F1 Score: 0.0007\n",
      "2019-05-06 16:22:37,602 INFO   Finished epoch 30: Train loss: 1.1286, Dev loss: 1.1186, Accuracy(character): 0.9732, Accuracy(sentence): 0.2407, F1 Score: 0.0000\n",
      "2019-05-06 16:26:26,276 INFO   Finished epoch 31: Train loss: 1.1289, Dev loss: 1.1186, Accuracy(character): 0.9732, Accuracy(sentence): 0.2407, F1 Score: 0.0000\n",
      "2019-05-06 16:30:25,005 INFO   Finished epoch 32: Train loss: 1.1287, Dev loss: 1.1184, Accuracy(character): 0.9732, Accuracy(sentence): 0.2407, F1 Score: 0.0000\n",
      "2019-05-06 16:34:14,548 INFO   Finished epoch 33: Train loss: 1.1285, Dev loss: 1.1198, Accuracy(character): 0.9732, Accuracy(sentence): 0.2407, F1 Score: 0.0000\n",
      "2019-05-06 16:37:43,108 INFO   Finished epoch 34: Train loss: 1.1287, Dev loss: 1.1184, Accuracy(character): 0.9732, Accuracy(sentence): 0.2407, F1 Score: 0.0000\n",
      "2019-05-06 16:41:23,473 INFO   Finished epoch 35: Train loss: 1.1283, Dev loss: 1.1181, Accuracy(character): 0.9732, Accuracy(sentence): 0.2407, F1 Score: 0.0000\n",
      "2019-05-06 16:45:11,157 INFO   Finished epoch 36: Train loss: 1.1284, Dev loss: 1.1187, Accuracy(character): 0.9732, Accuracy(sentence): 0.2407, F1 Score: 0.0000\n",
      "2019-05-06 16:49:02,073 INFO   Finished epoch 37: Train loss: 1.1284, Dev loss: 1.1191, Accuracy(character): 0.9732, Accuracy(sentence): 0.2407, F1 Score: 0.0000\n",
      "2019-05-06 16:52:51,559 INFO   Finished epoch 38: Train loss: 1.1281, Dev loss: 1.1201, Accuracy(character): 0.9732, Accuracy(sentence): 0.2405, F1 Score: 0.0016\n",
      "2019-05-06 16:56:40,149 INFO   Finished epoch 39: Train loss: 1.1284, Dev loss: 1.1186, Accuracy(character): 0.9732, Accuracy(sentence): 0.2407, F1 Score: 0.0000\n",
      "2019-05-06 17:00:27,153 INFO   Finished epoch 40: Train loss: 1.1282, Dev loss: 1.1181, Accuracy(character): 0.9732, Accuracy(sentence): 0.2407, F1 Score: 0.0000\n",
      "2019-05-06 17:04:08,192 INFO   Finished epoch 41: Train loss: 1.1282, Dev loss: 1.1185, Accuracy(character): 0.9732, Accuracy(sentence): 0.2407, F1 Score: 0.0000\n",
      "2019-05-06 17:07:54,396 INFO   Finished epoch 42: Train loss: 1.1282, Dev loss: 1.1187, Accuracy(character): 0.9732, Accuracy(sentence): 0.2407, F1 Score: 0.0000\n",
      "2019-05-06 17:11:33,455 INFO   Finished epoch 43: Train loss: 1.1281, Dev loss: 1.1183, Accuracy(character): 0.9732, Accuracy(sentence): 0.2406, F1 Score: 0.0006\n"
     ]
    }
   ],
   "source": [
    "for i, j in zip(data_name, data_path):\n",
    "    print(\"data : %s\" % j)\n",
    "    train_path = \"../../../data/copy_rand/\" + j + \"/data_train.txt\"\n",
    "    dev_path = \"../../../data/copy_rand/\" + j + \"/data_test.txt\"\n",
    "\n",
    "    src = fields.SourceField()\n",
    "    tgt = fields.TargetField()\n",
    "    max_len = 104\n",
    "    def len_filter(example):\n",
    "        return len(example.src) <= max_len and len(example.tgt) <= max_len\n",
    "    train = torchtext.data.TabularDataset(\n",
    "        path=train_path, format='tsv',\n",
    "        fields=[('src', src), ('tgt', tgt)],\n",
    "        filter_pred=len_filter\n",
    "    )\n",
    "    dev = torchtext.data.TabularDataset(\n",
    "        path=dev_path, format='tsv',\n",
    "        fields=[('src', src), ('tgt', tgt)],\n",
    "        filter_pred=len_filter\n",
    "    )\n",
    "    src.build_vocab(train)\n",
    "    tgt.build_vocab(train)\n",
    "    input_vocab = src.vocab\n",
    "    output_vocab = tgt.vocab\n",
    "\n",
    "    weight = torch.ones(len(tgt.vocab))\n",
    "    pad = tgt.vocab.stoi[tgt.pad_token]\n",
    "    loss = Perplexity(weight, pad)\n",
    "    if torch.cuda.is_available():\n",
    "        loss.cuda()\n",
    "    \n",
    "    optimizer = \"Adam\"\n",
    "    hidden_size = 150\n",
    "    bidirectional = False\n",
    "\n",
    "    seq2seq = None\n",
    "    encoder = EncoderRNN(len(src.vocab), max_len, hidden_size,\n",
    "                         bidirectional=bidirectional, variable_lengths=True)\n",
    "    decoder = DecoderRNN(len(tgt.vocab), max_len, hidden_size * 2 if bidirectional else hidden_size,\n",
    "                         dropout_p=0.2, use_attention=\"Luong\", bidirectional=bidirectional,\n",
    "                         eos_id=tgt.eos_id, sos_id=tgt.sos_id)\n",
    "    seq2seq = Seq2seq(encoder, decoder)\n",
    "    if torch.cuda.is_available():\n",
    "        seq2seq.cuda()\n",
    "\n",
    "    for param in seq2seq.parameters():\n",
    "        param.data.uniform_(-0.08, 0.08)\n",
    "\n",
    "    # train\n",
    "    t = SupervisedTrainer_unmatching(loss=loss, batch_size=32,\n",
    "                          checkpoint_every=50,\n",
    "                          print_every=100,\n",
    "                          hidden_size=hidden_size,\n",
    "                          path=\"copy_rand_correction_separator_number_of_ctype_hidden_150\",\n",
    "                          file_name=i)\n",
    "\n",
    "    seq2seq, ave_loss, character_accuracy_list, sentence_accuracy_list, f1_score_list = t.train(seq2seq, train,\n",
    "                                                                             num_epochs=100, dev_data=dev,\n",
    "                                                                             optimizer=optimizer,\n",
    "                                                                             teacher_forcing_ratio=0.5)\n",
    "\n",
    "    character_accuracy.append(character_accuracy_list)\n",
    "    sentence_accuracy.append(sentence_accuracy_list)\n",
    "    f1_score.append(f1_score_list)"
   ]
  },
  {
   "cell_type": "code",
   "execution_count": null,
   "metadata": {},
   "outputs": [],
   "source": [
    "epochs = list(range(1, 101, 1))\n",
    "plt.figure(figsize=(15,10))\n",
    "plt.plot(epochs[::3], sentence_accuracy[0][::3], '--', LineWidth=3, label=\"2 Character Types\")\n",
    "plt.plot(epochs[::3], sentence_accuracy[1][::3], '-s', LineWidth=3, label=\"4 Character Types\")\n",
    "plt.plot(epochs[::3], sentence_accuracy[2][::3], '-o', LineWidth=3, label=\"6 Character Types\")\n",
    "plt.plot(epochs[::3], sentence_accuracy[3][::3], '-x', LineWidth=3, label=\"8 Character Types\")\n",
    "plt.legend(loc=\"best\", fontsize=12)\n",
    "plt.xlabel('Epoch', fontsize=24)\n",
    "plt.ylabel('Sentence Accuracy', fontsize=24)\n",
    "plt.ylim([0, 1])\n",
    "plt.savefig('../../../log/plot/copy_rand_correction_separator_number_of_ctype_hidden_150/ctype_to_sentence_accuracy.png')"
   ]
  },
  {
   "cell_type": "code",
   "execution_count": null,
   "metadata": {},
   "outputs": [],
   "source": [
    "plt.figure(figsize=(15,10))\n",
    "plt.plot(epochs[::3], f1_score[0][::3], '--', LineWidth=3, label=\"2 Character Types\")\n",
    "plt.plot(epochs[::3], f1_score[1][::3], '-s', LineWidth=3, label=\"4 Character Types\")\n",
    "plt.plot(epochs[::3], f1_score[2][::3], '-o', LineWidth=3, label=\"6 Character Types\")\n",
    "plt.plot(epochs[::3], f1_score[3][::3], '-x', LineWidth=3, label=\"8 Character Types\")\n",
    "plt.legend(loc=\"best\", fontsize=12)\n",
    "plt.xlabel('Epoch', fontsize=24)\n",
    "plt.ylabel('F1 Score', fontsize=24)\n",
    "plt.ylim([0, 1])\n",
    "plt.savefig('../../../log/plot/copy_rand_correction_separator_number_of_ctype_hidden_150/ctype_to_f1_score.png')"
   ]
  },
  {
   "cell_type": "code",
   "execution_count": null,
   "metadata": {},
   "outputs": [],
   "source": [
    "error_rate_list = []\n",
    "for i in range(len(character_accuracy)):\n",
    "    error_rate = []\n",
    "    for j in character_accuracy[i]:\n",
    "        error_rate.append(1 - j)\n",
    "    error_rate_list.append(error_rate)"
   ]
  },
  {
   "cell_type": "code",
   "execution_count": null,
   "metadata": {},
   "outputs": [],
   "source": [
    "epochs = list(range(1, 101, 1))\n",
    "plt.figure(figsize=(15,10))\n",
    "plt.plot(epochs[::3], error_rate_list[0][::3], '--', LineWidth=3, label=\"2 Character Types\")\n",
    "plt.plot(epochs[::3], error_rate_list[1][::3], '-s', LineWidth=3, label=\"4 Character Types\")\n",
    "plt.plot(epochs[::3], error_rate_list[2][::3], '-o', LineWidth=3, label=\"6 Character Types\")\n",
    "plt.plot(epochs[::3], error_rate_list[3][::3], '-x', LineWidth=3, label=\"8 Character Types\")\n",
    "plt.legend(loc=\"best\", fontsize=12)\n",
    "plt.xlabel('Epoch', fontsize=24)\n",
    "plt.ylabel('Error Rate', fontsize=24)\n",
    "plt.yscale('log')\n",
    "#plt.ylim([0, 1])\n",
    "plt.savefig('../../../log/plot/copy_rand_correction_separator_number_of_ctype_hidden_150/ctype_to_error_rate.png')"
   ]
  },
  {
   "cell_type": "code",
   "execution_count": null,
   "metadata": {
    "scrolled": true
   },
   "outputs": [],
   "source": [
    "print(character_accuracy[0])\n",
    "print(character_accuracy[1])\n",
    "print(character_accuracy[2])\n",
    "print(character_accuracy[3])"
   ]
  },
  {
   "cell_type": "code",
   "execution_count": null,
   "metadata": {
    "scrolled": true
   },
   "outputs": [],
   "source": [
    "print(sentence_accuracy[0])\n",
    "print(sentence_accuracy[1])\n",
    "print(sentence_accuracy[2])\n",
    "print(sentence_accuracy[3])"
   ]
  },
  {
   "cell_type": "code",
   "execution_count": null,
   "metadata": {
    "scrolled": true
   },
   "outputs": [],
   "source": [
    "print(f1_score[0])\n",
    "print(f1_score[1])\n",
    "print(f1_score[2])\n",
    "print(f1_score[3])"
   ]
  },
  {
   "cell_type": "code",
   "execution_count": null,
   "metadata": {},
   "outputs": [],
   "source": []
  }
 ],
 "metadata": {
  "kernelspec": {
   "display_name": "Python 3",
   "language": "python",
   "name": "python3"
  },
  "language_info": {
   "codemirror_mode": {
    "name": "ipython",
    "version": 3
   },
   "file_extension": ".py",
   "mimetype": "text/x-python",
   "name": "python",
   "nbconvert_exporter": "python",
   "pygments_lexer": "ipython3",
   "version": "3.6.7"
  }
 },
 "nbformat": 4,
 "nbformat_minor": 2
}
