{
 "cells": [
  {
   "cell_type": "markdown",
   "metadata": {},
   "source": [
    "# Set Parameter\n",
    "- Attention = Luong\n",
    "- Teacher Forcing Ratio = 0.5\n",
    "- Layer = 1\n",
    "- Batch size = 32\n",
    "- Learning rate = 0.001\n",
    "- Hidden unit = 200\n",
    "- Epochs = 100\n",
    "- N = 100\n",
    "- Data Length = 100K\n",
    "- Data = [single_Ctype4, last_separator_Ctype4, single_Ctype2_concat, separator_Ctype4]\n",
    "- Deduplication\n",
    "- Random split"
   ]
  },
  {
   "cell_type": "markdown",
   "metadata": {},
   "source": [
    "# Import packages\n",
    "\n",
    "import useful packages for experiments"
   ]
  },
  {
   "cell_type": "code",
   "execution_count": 1,
   "metadata": {},
   "outputs": [
    {
     "name": "stderr",
     "output_type": "stream",
     "text": [
      "/home/hyeontae/hyeontae/venv/lib/python3.6/site-packages/torch/nn/_reduction.py:46: UserWarning: size_average and reduce args will be deprecated, please use reduction='mean' instead.\n",
      "  warnings.warn(warning.format(ret))\n",
      "/home/hyeontae/hyeontae/venv/lib/python3.6/site-packages/torch/nn/_reduction.py:46: UserWarning: size_average and reduce args will be deprecated, please use reduction='mean' instead.\n",
      "  warnings.warn(warning.format(ret))\n"
     ]
    }
   ],
   "source": [
    "import os\n",
    "import argparse\n",
    "import logging\n",
    "import sys\n",
    "\n",
    "import torch\n",
    "from torch.optim.lr_scheduler import StepLR\n",
    "import torchtext\n",
    "\n",
    "sys.path.append(os.path.dirname(os.path.abspath(os.path.dirname(os.path.abspath(os.path.dirname(os.path.abspath(os.path.dirname('__file__'))))))))\n",
    "\n",
    "from trainer.supervised_trainer_unmatching import SupervisedTrainer_unmatching\n",
    "from models.encoderRNN_gru import EncoderRNN_gru\n",
    "from models.decoderRNN_gru import DecoderRNN_gru\n",
    "from models.seq2seq import Seq2seq\n",
    "from loss.loss import Perplexity\n",
    "from optim.optim import Optimizer\n",
    "from dataset import fields\n",
    "\n",
    "import matplotlib.pyplot as plt"
   ]
  },
  {
   "cell_type": "markdown",
   "metadata": {},
   "source": [
    "# Log format"
   ]
  },
  {
   "cell_type": "code",
   "execution_count": 2,
   "metadata": {},
   "outputs": [],
   "source": [
    "log_level = 'info'\n",
    "LOG_FORMAT = '%(asctime)s %(levelname)-6s %(message)s'\n",
    "logging.basicConfig(format=LOG_FORMAT, level=getattr(logging, log_level.upper()))"
   ]
  },
  {
   "cell_type": "code",
   "execution_count": 3,
   "metadata": {},
   "outputs": [],
   "source": [
    "data_name = [\"copy_rand_correction_single_Ctype4\"]\n",
    "data_path = [\"single_Ctype4\"]\n",
    "character_accuracy = []\n",
    "sentence_accuracy = []\n",
    "f1_score = []"
   ]
  },
  {
   "cell_type": "markdown",
   "metadata": {},
   "source": [
    "# Prepare dataset"
   ]
  },
  {
   "cell_type": "code",
   "execution_count": null,
   "metadata": {
    "scrolled": true
   },
   "outputs": [
    {
     "name": "stdout",
     "output_type": "stream",
     "text": [
      "data : single_Ctype4\n"
     ]
    },
    {
     "name": "stderr",
     "output_type": "stream",
     "text": [
      "/home/hyeontae/hyeontae/venv/lib/python3.6/site-packages/torch/nn/_reduction.py:46: UserWarning: size_average and reduce args will be deprecated, please use reduction='sum' instead.\n",
      "  warnings.warn(warning.format(ret))\n",
      "/home/hyeontae/hyeontae/venv/lib/python3.6/site-packages/torch/nn/modules/rnn.py:54: UserWarning: dropout option adds dropout after all but last recurrent layer, so non-zero dropout expects num_layers greater than 1, but got dropout=0.2 and num_layers=1\n",
      "  \"num_layers={}\".format(dropout, num_layers))\n",
      "2019-05-09 20:25:38,657 INFO   Optimizer: Adam (\n",
      "Parameter Group 0\n",
      "    amsgrad: False\n",
      "    betas: (0.9, 0.999)\n",
      "    eps: 1e-08\n",
      "    lr: 0.001\n",
      "    weight_decay: 0\n",
      "), Scheduler: None\n",
      "/home/hyeontae/hyeontae/venv/lib/python3.6/site-packages/torch/nn/functional.py:1374: UserWarning: nn.functional.tanh is deprecated. Use torch.tanh instead.\n",
      "  warnings.warn(\"nn.functional.tanh is deprecated. Use torch.tanh instead.\")\n",
      "2019-05-09 20:27:34,900 INFO   Finished epoch 1: Train loss: 1.3513, Dev loss: 1.1910, Accuracy(character): 0.9528, Accuracy(sentence): 0.0632, F1 Score: 0.0000\n",
      "2019-05-09 20:29:51,055 INFO   Finished epoch 2: Train loss: 1.2586, Dev loss: 1.1442, Accuracy(character): 0.9722, Accuracy(sentence): 0.1997, F1 Score: 0.0000\n",
      "2019-05-09 20:32:04,306 INFO   Finished epoch 3: Train loss: 1.2347, Dev loss: 1.1543, Accuracy(character): 0.9605, Accuracy(sentence): 0.1032, F1 Score: 0.0000\n",
      "2019-05-09 20:34:05,437 INFO   Finished epoch 4: Train loss: 1.2315, Dev loss: 1.1394, Accuracy(character): 0.9660, Accuracy(sentence): 0.1244, F1 Score: 0.0000\n",
      "2019-05-09 20:36:19,448 INFO   Finished epoch 5: Train loss: 1.2178, Dev loss: 1.1977, Accuracy(character): 0.9545, Accuracy(sentence): 0.0595, F1 Score: 0.0000\n",
      "2019-05-09 20:38:36,502 INFO   Finished epoch 6: Train loss: 1.2047, Dev loss: 1.1714, Accuracy(character): 0.9552, Accuracy(sentence): 0.0774, F1 Score: 0.0001\n"
     ]
    }
   ],
   "source": [
    "for i, j in zip(data_path, data_name):\n",
    "    print(\"data : %s\" % i)\n",
    "    train_path = \"../../../data/copy_rand/correction_\" + i + \"/data_train.txt\"\n",
    "    dev_path = \"../../../data/copy_rand/correction_\" + i + \"/data_test.txt\"\n",
    "\n",
    "    src = fields.SourceField()\n",
    "    tgt = fields.TargetField()\n",
    "    max_len = 104\n",
    "    def len_filter(example):\n",
    "        return len(example.src) <= max_len and len(example.tgt) <= max_len\n",
    "    train = torchtext.data.TabularDataset(\n",
    "        path=train_path, format='tsv',\n",
    "        fields=[('src', src), ('tgt', tgt)],\n",
    "        filter_pred=len_filter\n",
    "    )\n",
    "    dev = torchtext.data.TabularDataset(\n",
    "        path=dev_path, format='tsv',\n",
    "        fields=[('src', src), ('tgt', tgt)],\n",
    "        filter_pred=len_filter\n",
    "    )\n",
    "    src.build_vocab(train)\n",
    "    tgt.build_vocab(train)\n",
    "    input_vocab = src.vocab\n",
    "    output_vocab = tgt.vocab\n",
    "\n",
    "    weight = torch.ones(len(tgt.vocab))\n",
    "    pad = tgt.vocab.stoi[tgt.pad_token]\n",
    "    loss = Perplexity(weight, pad)\n",
    "    if torch.cuda.is_available():\n",
    "        loss.cuda()\n",
    "    \n",
    "    optimizer = \"Adam\"\n",
    "    hidden_size = 200\n",
    "    bidirectional = False\n",
    "\n",
    "    seq2seq = None\n",
    "    encoder = EncoderRNN_gru(len(src.vocab), max_len, hidden_size,\n",
    "                         bidirectional=bidirectional, variable_lengths=True)\n",
    "    decoder = DecoderRNN_gru(len(tgt.vocab), max_len, hidden_size * 2 if bidirectional else hidden_size,\n",
    "                         dropout_p=0.2, use_attention=\"Luong\", bidirectional=bidirectional,\n",
    "                         eos_id=tgt.eos_id, sos_id=tgt.sos_id)\n",
    "    seq2seq = Seq2seq(encoder, decoder)\n",
    "    if torch.cuda.is_available():\n",
    "        seq2seq.cuda()\n",
    "\n",
    "    for param in seq2seq.parameters():\n",
    "        param.data.uniform_(-0.08, 0.08)\n",
    "\n",
    "    # train\n",
    "    t = SupervisedTrainer_unmatching(loss=loss, batch_size=32,\n",
    "                          checkpoint_every=50,\n",
    "                          print_every=100,\n",
    "                          hidden_size=hidden_size,\n",
    "                          path=\"GRU\",\n",
    "                          file_name=j)\n",
    "\n",
    "    seq2seq, ave_loss, character_accuracy_list, sentence_accuracy_list, f1_score_list = t.train(seq2seq, train,\n",
    "                                                                             num_epochs=100, dev_data=dev,\n",
    "                                                                             optimizer=optimizer,\n",
    "                                                                             teacher_forcing_ratio=0.5)\n",
    "\n",
    "    character_accuracy.append(character_accuracy_list)\n",
    "    sentence_accuracy.append(sentence_accuracy_list)\n",
    "    f1_score.append(f1_score_list)"
   ]
  },
  {
   "cell_type": "code",
   "execution_count": 8,
   "metadata": {
    "scrolled": true
   },
   "outputs": [
    {
     "name": "stdout",
     "output_type": "stream",
     "text": [
      "[0.9527795363124724, 0.9722095317656632, 0.9604966029460713, 0.9660028107548356, 0.9544650102357597, 0.9551725938350487, 0.9504566388854443, 0.9771985128235251, 0.9760569156099143, 0.955990584406402, 0.9662225369455449, 0.9619052436241333, 0.9692600883690878, 0.9767193574423001, 0.9750387784093999, 0.9477405185973202, 0.9765496679088811, 0.9684062019348958, 0.9771669679743639, 0.9673130097484461, 0.9735121164853382, 0.9787170165969417, 0.9772409352068798, 0.9722834989981791, 0.9860816511226703, 0.98105623032526, 0.9529905604758269, 0.9627080056476157, 0.9860626154378316, 0.9864982606822824, 0.9148207491140249, 0.9752753647781092, 0.987924305415054, 0.9730128376658552, 0.9831648403286756, 0.973097138555855, 0.9778419189710723, 0.9804737383691966, 0.9852163432775751, 0.9864291883401536, 0.9848628234162854, 0.9791107833347474, 0.9892078544498905, 0.980308399849455, 0.9833127747937076, 0.9764914731009456, 0.9818802035404198, 0.9685247670576053, 0.9792369627313924, 0.9382079915068213, 0.9864427852578954, 0.9886215553568592, 0.9856699364534453, 0.9882946854543437, 0.9768042022090097, 0.9899513339120182, 0.9862605865601538, 0.9868708162284108, 0.98357764275132, 0.9836630313947392, 0.9837016466411262, 0.9883925832620855, 0.9812416922832597, 0.9815805274733881, 0.9859348044110576, 0.9890055323138909, 0.9897653280773088, 0.976620371881139, 0.9770489467283641, 0.9869806793237654, 0.9841503449266092, 0.9825165392907412, 0.9850145650182851, 0.9844445822265442, 0.9829326049736438, 0.984268366172609, 0.9892100299567291, 0.9884812351657627, 0.9776618957801694, 0.9817649016779684, 0.9826889482077087, 0.9883251425500856, 0.9852995564141556, 0.9857939403432515, 0.9871574392544104, 0.9737351059363055, 0.9770772283172672, 0.9898278738989216, 0.9898006800634378, 0.983132207726095, 0.9833383369990624, 0.9920479786278208, 0.9698757568044415, 0.9902031488285984, 0.979852631166746, 0.9919810817925306, 0.9891681514500841, 0.9864901025316373, 0.9913115695629189, 0.9885862033707303]\n"
     ]
    }
   ],
   "source": [
    "print(character_accuracy[0])"
   ]
  },
  {
   "cell_type": "code",
   "execution_count": 9,
   "metadata": {
    "scrolled": true
   },
   "outputs": [
    {
     "name": "stdout",
     "output_type": "stream",
     "text": [
      "[0.0632, 0.19974, 0.10322, 0.1244, 0.05952, 0.07744, 0.10058, 0.2587, 0.2695, 0.02826, 0.16732, 0.13034, 0.28872, 0.34654, 0.34854, 0.27238, 0.40404, 0.35942, 0.4467, 0.29778, 0.41998, 0.50108, 0.47568, 0.40124, 0.62122, 0.52574, 0.29956, 0.2761, 0.61584, 0.6013, 0.28566, 0.48288, 0.65264, 0.49218, 0.5998, 0.49702, 0.51988, 0.58, 0.61664, 0.678, 0.6284, 0.5881, 0.70026, 0.5739, 0.61032, 0.59422, 0.62026, 0.50132, 0.54912, 0.37672, 0.69568, 0.72654, 0.64684, 0.68702, 0.49758, 0.7473, 0.63958, 0.67776, 0.6768, 0.63736, 0.6379, 0.7285, 0.65592, 0.67342, 0.68442, 0.72886, 0.72192, 0.62778, 0.59268, 0.69564, 0.64366, 0.63468, 0.67746, 0.68762, 0.62816, 0.66496, 0.73896, 0.71012, 0.5709, 0.64646, 0.65108, 0.7315, 0.67594, 0.67044, 0.66822, 0.40788, 0.56956, 0.7544, 0.7423, 0.64936, 0.66534, 0.79704, 0.48904, 0.75794, 0.67844, 0.77106, 0.75812, 0.68076, 0.77184, 0.74362]\n"
     ]
    }
   ],
   "source": [
    "print(sentence_accuracy[0])"
   ]
  },
  {
   "cell_type": "code",
   "execution_count": 10,
   "metadata": {
    "scrolled": true
   },
   "outputs": [
    {
     "name": "stdout",
     "output_type": "stream",
     "text": [
      "[0, 0, 0, 0, 0, 5.592372004585745e-05, 0.009604174762671404, 0.03874131589701675, 0.09793695244457006, 0.10818209469735375, 0.12111933743255116, 0.19392041005196842, 0.2600651924940534, 0.28816089935007905, 0.3193967322999581, 0.3501186949853995, 0.42618855761482677, 0.3755485649928153, 0.4649650584849957, 0.4673527923063945, 0.48576332007176837, 0.5602447811996452, 0.5422123252567025, 0.5068280287380487, 0.595547153250173, 0.5794440757944407, 0.49871138570167695, 0.48902734510211143, 0.6056963227801094, 0.594809663775181, 0.41365968542350073, 0.5580100365115619, 0.6507070291048873, 0.5836551508193301, 0.6369985492088128, 0.5963221219578889, 0.5574366396284204, 0.6424560945354835, 0.6245744351593935, 0.7006461110656743, 0.6689693518222102, 0.6934294334562521, 0.693690727081138, 0.6426077222528529, 0.7187066673192058, 0.6955056179775281, 0.7084328264421265, 0.6562750453883773, 0.6250468874863415, 0.5000414683099176, 0.6519610086494898, 0.7164824974886022, 0.6806800317650681, 0.7286842412808655, 0.6774087579251667, 0.7357886684048648, 0.6907298512625387, 0.6615163782397626, 0.7339400428265525, 0.6835910021728596, 0.7110077569804694, 0.749383294301327, 0.741210244500355, 0.6989209885137486, 0.7433422641144001, 0.72301805647788, 0.7249595338297183, 0.6535748274143114, 0.673065405347298, 0.7472895979163275, 0.6702882050614793, 0.7145453668108925, 0.69250854833696, 0.7231158981054071, 0.6651826335629794, 0.7642897523262389, 0.7208608963011274, 0.7501650749681927, 0.6521758998339706, 0.7247473967184748, 0.6889542658464831, 0.7742171588594705, 0.6879678143712575, 0.6692010350445645, 0.7154506868085959, 0.600723805546856, 0.6357288472960175, 0.7682694747526009, 0.7586678107223439, 0.6560518441574549, 0.7277322129025255, 0.7866278449366606, 0.6780540609379476, 0.7685911662655123, 0.7244492044063647, 0.7757733595883886, 0.7695475147883537, 0.7546308547234719, 0.7822981561890379, 0.7358373235495306]\n"
     ]
    }
   ],
   "source": [
    "print(f1_score[0])"
   ]
  },
  {
   "cell_type": "code",
   "execution_count": null,
   "metadata": {},
   "outputs": [],
   "source": []
  }
 ],
 "metadata": {
  "kernelspec": {
   "display_name": "Python 3",
   "language": "python",
   "name": "python3"
  },
  "language_info": {
   "codemirror_mode": {
    "name": "ipython",
    "version": 3
   },
   "file_extension": ".py",
   "mimetype": "text/x-python",
   "name": "python",
   "nbconvert_exporter": "python",
   "pygments_lexer": "ipython3",
   "version": "3.6.7"
  }
 },
 "nbformat": 4,
 "nbformat_minor": 2
}
