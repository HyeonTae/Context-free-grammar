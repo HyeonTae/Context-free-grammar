{
 "cells": [
  {
   "cell_type": "markdown",
   "metadata": {},
   "source": [
    "# Set Parameter\n",
    "- Attention = Luong\n",
    "- Teacher Forcing Ratio = 0.5\n",
    "- Layer = 1\n",
    "- Batch size = 32\n",
    "- Learning rate = 0.001\n",
    "- Hidden unit = 200\n",
    "- Epochs = 100\n",
    "- N = 100\n",
    "- Data Length = 100K\n",
    "- Data = [single_Ctype4, last_separator_Ctype4, single_Ctype2_concat, separator_Ctype4]\n",
    "- Deduplication\n",
    "- Random split"
   ]
  },
  {
   "cell_type": "markdown",
   "metadata": {},
   "source": [
    "# Import packages\n",
    "\n",
    "import useful packages for experiments"
   ]
  },
  {
   "cell_type": "code",
   "execution_count": 1,
   "metadata": {},
   "outputs": [
    {
     "name": "stderr",
     "output_type": "stream",
     "text": [
      "/home/hyeontae/hyeontae/venv/lib/python3.6/site-packages/torch/nn/_reduction.py:46: UserWarning: size_average and reduce args will be deprecated, please use reduction='mean' instead.\n",
      "  warnings.warn(warning.format(ret))\n",
      "/home/hyeontae/hyeontae/venv/lib/python3.6/site-packages/torch/nn/_reduction.py:46: UserWarning: size_average and reduce args will be deprecated, please use reduction='mean' instead.\n",
      "  warnings.warn(warning.format(ret))\n"
     ]
    }
   ],
   "source": [
    "import os\n",
    "import argparse\n",
    "import logging\n",
    "import sys\n",
    "\n",
    "import torch\n",
    "from torch.optim.lr_scheduler import StepLR\n",
    "import torchtext\n",
    "\n",
    "sys.path.append(os.path.dirname(os.path.abspath(os.path.dirname(os.path.abspath(os.path.dirname(os.path.abspath(os.path.dirname('__file__'))))))))\n",
    "\n",
    "from trainer.supervised_trainer_correction import SupervisedTrainer_correction\n",
    "from models.encoderRNN import EncoderRNN\n",
    "from models.decoderRNN import DecoderRNN\n",
    "from models.seq2seq import Seq2seq\n",
    "from loss.loss import Perplexity\n",
    "from optim.optim import Optimizer\n",
    "from dataset import fields\n",
    "\n",
    "import matplotlib.pyplot as plt"
   ]
  },
  {
   "cell_type": "markdown",
   "metadata": {},
   "source": [
    "# Log format"
   ]
  },
  {
   "cell_type": "code",
   "execution_count": 2,
   "metadata": {},
   "outputs": [],
   "source": [
    "log_level = 'info'\n",
    "LOG_FORMAT = '%(asctime)s %(levelname)-6s %(message)s'\n",
    "logging.basicConfig(format=LOG_FORMAT, level=getattr(logging, log_level.upper()))"
   ]
  },
  {
   "cell_type": "code",
   "execution_count": 3,
   "metadata": {},
   "outputs": [],
   "source": [
    "data_path = [\"separator_Ctype4_concat\"]\n",
    "character_accuracy = []\n",
    "sentence_accuracy = []\n",
    "f1_score = []"
   ]
  },
  {
   "cell_type": "markdown",
   "metadata": {},
   "source": [
    "# Prepare dataset"
   ]
  },
  {
   "cell_type": "code",
   "execution_count": null,
   "metadata": {},
   "outputs": [
    {
     "name": "stdout",
     "output_type": "stream",
     "text": [
      "data : separator_Ctype4_concat\n"
     ]
    },
    {
     "name": "stderr",
     "output_type": "stream",
     "text": [
      "/home/hyeontae/hyeontae/venv/lib/python3.6/site-packages/torch/nn/_reduction.py:46: UserWarning: size_average and reduce args will be deprecated, please use reduction='sum' instead.\n",
      "  warnings.warn(warning.format(ret))\n",
      "/home/hyeontae/hyeontae/venv/lib/python3.6/site-packages/torch/nn/modules/rnn.py:54: UserWarning: dropout option adds dropout after all but last recurrent layer, so non-zero dropout expects num_layers greater than 1, but got dropout=0.2 and num_layers=1\n",
      "  \"num_layers={}\".format(dropout, num_layers))\n",
      "2019-05-17 00:12:14,437 INFO   Optimizer: Adam (\n",
      "Parameter Group 0\n",
      "    amsgrad: False\n",
      "    betas: (0.9, 0.999)\n",
      "    eps: 1e-08\n",
      "    lr: 0.001\n",
      "    weight_decay: 0\n",
      "), Scheduler: None\n",
      "/home/hyeontae/hyeontae/venv/lib/python3.6/site-packages/torch/nn/functional.py:1374: UserWarning: nn.functional.tanh is deprecated. Use torch.tanh instead.\n",
      "  warnings.warn(\"nn.functional.tanh is deprecated. Use torch.tanh instead.\")\n",
      "2019-05-17 00:15:00,957 INFO   Finished epoch 1: Train loss: 1.2128, Dev loss: 1.0945, Accuracy(character): 0.9858, Accuracy(sentence): 0.3182, F1 Score: 0.0000\n",
      "2019-05-17 00:17:40,780 INFO   Finished epoch 2: Train loss: 1.1089, Dev loss: 1.0942, Accuracy(character): 0.9858, Accuracy(sentence): 0.3181, F1 Score: 0.0000\n"
     ]
    }
   ],
   "source": [
    "for i in data_path:\n",
    "    print(\"data : %s\" % i)\n",
    "    train_path = \"../../../data/copy_rand/correction_\" + i + \"/data_train.txt\"\n",
    "    dev_path = \"../../../data/copy_rand/correction_\" + i + \"/data_test.txt\"\n",
    "\n",
    "    src = fields.SourceField()\n",
    "    tgt = fields.TargetField()\n",
    "    max_len = 104\n",
    "    def len_filter(example):\n",
    "        return len(example.src) <= max_len and len(example.tgt) <= max_len\n",
    "    train = torchtext.data.TabularDataset(\n",
    "        path=train_path, format='tsv',\n",
    "        fields=[('src', src), ('tgt', tgt)],\n",
    "        filter_pred=len_filter\n",
    "    )\n",
    "    dev = torchtext.data.TabularDataset(\n",
    "        path=dev_path, format='tsv',\n",
    "        fields=[('src', src), ('tgt', tgt)],\n",
    "        filter_pred=len_filter\n",
    "    )\n",
    "    src.build_vocab(train)\n",
    "    tgt.build_vocab(train)\n",
    "    input_vocab = src.vocab\n",
    "    output_vocab = tgt.vocab\n",
    "\n",
    "    weight = torch.ones(len(tgt.vocab))\n",
    "    pad = tgt.vocab.stoi[tgt.pad_token]\n",
    "    loss = Perplexity(weight, pad)\n",
    "    if torch.cuda.is_available():\n",
    "        loss.cuda()\n",
    "    \n",
    "    optimizer = \"Adam\"\n",
    "    hidden_size = 200\n",
    "    bidirectional = False\n",
    "\n",
    "    seq2seq = None\n",
    "    encoder = EncoderRNN(len(src.vocab), max_len, hidden_size,\n",
    "                         bidirectional=bidirectional, variable_lengths=True)\n",
    "    decoder = DecoderRNN(len(tgt.vocab), max_len, hidden_size * 2 if bidirectional else hidden_size,\n",
    "                         dropout_p=0.2, use_attention=\"Luong\", bidirectional=bidirectional,\n",
    "                         eos_id=tgt.eos_id, sos_id=tgt.sos_id)\n",
    "    seq2seq = Seq2seq(encoder, decoder)\n",
    "    if torch.cuda.is_available():\n",
    "        seq2seq.cuda()\n",
    "\n",
    "    for param in seq2seq.parameters():\n",
    "        param.data.uniform_(-0.08, 0.08)\n",
    "\n",
    "    # train\n",
    "    t = SupervisedTrainer_correction(loss=loss, batch_size=32,\n",
    "                          checkpoint_every=50,\n",
    "                          print_every=100,\n",
    "                          hidden_size=hidden_size,\n",
    "                          path=\"copy_rand_correction_separator_Ctype4_concat\",\n",
    "                          file_name=i)\n",
    "\n",
    "    seq2seq, ave_loss, character_accuracy_list, sentence_accuracy_list, f1_score_list = t.train(seq2seq, train,\n",
    "                                                                             num_epochs=100, dev_data=dev,\n",
    "                                                                             optimizer=optimizer,\n",
    "                                                                             teacher_forcing_ratio=0.5)\n",
    "\n",
    "    character_accuracy.append(character_accuracy_list)\n",
    "    sentence_accuracy.append(sentence_accuracy_list)\n",
    "    f1_score.append(f1_score_list)"
   ]
  },
  {
   "cell_type": "code",
   "execution_count": 12,
   "metadata": {},
   "outputs": [
    {
     "name": "stderr",
     "output_type": "stream",
     "text": [
      "2019-05-17 10:02:02,320 WARNING No handles with labels found to put in legend.\n"
     ]
    },
    {
     "data": {
      "image/png": "[encoded data removed]",
      "text/plain": [
       "<Figure size 1080x504 with 1 Axes>"
      ]
     },
     "metadata": {
      "needs_background": "light"
     },
     "output_type": "display_data"
    }
   ],
   "source": [
    "epochs = list(range(1, 101, 1))\n",
    "plt.figure(figsize=(15,7))\n",
    "plt.plot(epochs[::3], sentence_accuracy[0][::3], '-', LineWidth=3)\n",
    "plt.legend(loc=\"best\", fontsize=12)\n",
    "plt.xlabel('Epoch', fontsize=24)\n",
    "plt.ylabel('Sentence Accuracy', fontsize=24)\n",
    "plt.ylim([0, 1])\n",
    "plt.savefig('../../../log/plot/copy_rand_correction_separator_Ctype4_concat/ctype_to_sentence_accuracy.png')"
   ]
  },
  {
   "cell_type": "code",
   "execution_count": 13,
   "metadata": {},
   "outputs": [
    {
     "name": "stderr",
     "output_type": "stream",
     "text": [
      "2019-05-17 10:02:03,264 WARNING No handles with labels found to put in legend.\n"
     ]
    },
    {
     "data": {
      "image/png": "[encoded data removed]",
      "text/plain": [
       "<Figure size 1080x504 with 1 Axes>"
      ]
     },
     "metadata": {
      "needs_background": "light"
     },
     "output_type": "display_data"
    }
   ],
   "source": [
    "plt.figure(figsize=(15,7))\n",
    "plt.plot(epochs[::3], f1_score[0][::3], '-', LineWidth=3)\n",
    "plt.legend(loc=\"best\", fontsize=12)\n",
    "plt.xlabel('Epoch', fontsize=24)\n",
    "plt.ylabel('F1 Score', fontsize=24)\n",
    "plt.ylim([0, 1])\n",
    "plt.savefig('../../../log/plot/copy_rand_correction_separator_Ctype4_concat/ctype_to_f1_score.png')"
   ]
  },
  {
   "cell_type": "code",
   "execution_count": 14,
   "metadata": {},
   "outputs": [],
   "source": [
    "error_rate_list = []\n",
    "for i in range(len(character_accuracy)):\n",
    "    error_rate = []\n",
    "    for j in character_accuracy[i]:\n",
    "        error_rate.append(1 - j)\n",
    "    error_rate_list.append(error_rate)"
   ]
  },
  {
   "cell_type": "code",
   "execution_count": 15,
   "metadata": {},
   "outputs": [
    {
     "name": "stderr",
     "output_type": "stream",
     "text": [
      "2019-05-17 10:02:04,773 WARNING No handles with labels found to put in legend.\n"
     ]
    },
    {
     "data": {
      "image/png": "[encoded data removed]",
      "text/plain": [
       "<Figure size 1080x504 with 1 Axes>"
      ]
     },
     "metadata": {
      "needs_background": "light"
     },
     "output_type": "display_data"
    }
   ],
   "source": [
    "epochs = list(range(1, 101, 1))\n",
    "plt.figure(figsize=(15,7))\n",
    "plt.plot(epochs[::3], error_rate_list[0][::3], '-', LineWidth=3)\n",
    "plt.legend(loc=\"best\", fontsize=12)\n",
    "plt.xlabel('Epoch', fontsize=24)\n",
    "plt.ylabel('Error Rate', fontsize=24)\n",
    "plt.yscale('log')\n",
    "#plt.ylim([0, 1])\n",
    "plt.savefig('../../../log/plot/copy_rand_correction_separator_Ctype4_concat/ctype_to_error_rate.png')"
   ]
  },
  {
   "cell_type": "code",
   "execution_count": 16,
   "metadata": {
    "scrolled": true
   },
   "outputs": [
    {
     "name": "stdout",
     "output_type": "stream",
     "text": [
      "[0.9858313860981311, 0.9858302026682793, 0.9858302026682793, 0.9858302026682793, 0.9858302026682793, 0.9858307943832052, 0.9858302026682793, 0.9858302026682793, 0.9858302026682793, 0.9858302026682793, 0.9858302026682793, 0.9858307943832052, 0.9858296109533533, 0.9858296109533533, 0.9858296109533533, 0.9858302026682793, 0.9858302026682793, 0.9858290192384274, 0.9858302026682793, 0.9858302026682793, 0.9858302026682793, 0.9858302026682793, 0.9858302026682793, 0.9858313860981311, 0.9858313860981311, 0.9858313860981311, 0.9858313860981311, 0.9858313860981311, 0.9858313860981311, 0.9858313860981311, 0.9858313860981311, 0.9858313860981311, 0.9858313860981311, 0.9858313860981311, 0.9858307943832052, 0.9858313860981311, 0.9858296109533533, 0.9858307943832052, 0.9858319778130571, 0.9858319778130571, 0.9858319778130571, 0.9858319778130571, 0.9858319778130571, 0.9858319778130571, 0.9858313860981311, 0.9858319778130571, 0.9858319778130571, 0.9858319778130571, 0.9858319778130571, 0.9858319778130571, 0.9858319778130571, 0.9858319778130571, 0.9858307943832052, 0.9858319778130571, 0.9858313860981311, 0.9858319778130571, 0.9858319778130571, 0.9858319778130571, 0.9858313860981311, 0.9858319778130571, 0.9858319778130571, 0.9858313860981311, 0.9858319778130571, 0.9858319778130571, 0.9858349363876869, 0.9858302026682793, 0.9858148180802045, 0.985798250062278, 0.9857550548726837, 0.9859704391057293, 0.9860520957655105, 0.986081089796882, 0.9861982493522201, 0.9856171852949374, 0.9853083101035915, 0.9863225094866696, 0.9862154090850727, 0.9867118579079446, 0.986624284098904, 0.9858787232922072, 0.9866189586645704, 0.986777538264725, 0.9859639302415439, 0.9860154094401016, 0.9877023886939845, 0.9865958817824584, 0.9875100813430508, 0.9873994306518983, 0.9871053483337012, 0.9879307906554012, 0.9870680702933663, 0.9866361183974229, 0.9869225084215827, 0.9874201406743065, 0.9872917385353753, 0.9871728038352595, 0.9877881873582472, 0.9873875963533792, 0.9871408512292582, 0.9873970637921945]\n"
     ]
    }
   ],
   "source": [
    "print(character_accuracy[0])"
   ]
  },
  {
   "cell_type": "code",
   "execution_count": 17,
   "metadata": {
    "scrolled": true
   },
   "outputs": [
    {
     "name": "stdout",
     "output_type": "stream",
     "text": [
      "[0.3181707359548605, 0.3181359060987078, 0.3181359060987078, 0.3181359060987078, 0.3181359060987078, 0.3181359060987078, 0.3181359060987078, 0.3181359060987078, 0.3181359060987078, 0.3181359060987078, 0.3181359060987078, 0.3181359060987078, 0.3181359060987078, 0.3181359060987078, 0.3181359060987078, 0.3181359060987078, 0.3181359060987078, 0.3181359060987078, 0.3181359060987078, 0.3181359060987078, 0.3181359060987078, 0.3181359060987078, 0.3181359060987078, 0.3181359060987078, 0.3181359060987078, 0.3181359060987078, 0.3181359060987078, 0.3181359060987078, 0.3181359060987078, 0.3181359060987078, 0.3181359060987078, 0.3181359060987078, 0.3181359060987078, 0.3181359060987078, 0.3181359060987078, 0.3181359060987078, 0.3181359060987078, 0.3181359060987078, 0.3181707359548605, 0.3181707359548605, 0.3181707359548605, 0.3181707359548605, 0.3181707359548605, 0.3181707359548605, 0.3181707359548605, 0.3181707359548605, 0.3181707359548605, 0.3181707359548605, 0.3181707359548605, 0.3181707359548605, 0.3181707359548605, 0.3181707359548605, 0.3181707359548605, 0.3181707359548605, 0.3181707359548605, 0.3181707359548605, 0.3181707359548605, 0.3181707359548605, 0.3181707359548605, 0.3181707359548605, 0.3181707359548605, 0.3181707359548605, 0.3181707359548605, 0.3181707359548605, 0.31841454494792937, 0.3181010762425551, 0.3199470586186479, 0.3258333043084532, 0.33485423705200096, 0.34025286475566857, 0.34195952770715055, 0.35502072376441085, 0.36393716693950057, 0.36362369823412627, 0.3562745985859078, 0.3787398558043955, 0.38149141444045837, 0.40238932813207484, 0.42165023858451467, 0.37490857162759916, 0.38852704538330257, 0.41680888857929016, 0.39106962488244923, 0.39469192992232943, 0.4345024555048588, 0.4249242450628679, 0.428894848664275, 0.43976176378391557, 0.4164605900177632, 0.4523701717111908, 0.4465535857336909, 0.44972310264358606, 0.4320991954303229, 0.44160774616000836, 0.4460659677475532, 0.458500226394065, 0.45149942530737347, 0.45999791020863084, 0.47626345303193895, 0.47591515447041205]\n"
     ]
    }
   ],
   "source": [
    "print(sentence_accuracy[0])"
   ]
  },
  {
   "cell_type": "code",
   "execution_count": 18,
   "metadata": {
    "scrolled": true
   },
   "outputs": [
    {
     "name": "stdout",
     "output_type": "stream",
     "text": [
      "[0, 0, 0, 0, 0, 0, 0, 0, 0, 0, 0, 0, 0, 0, 0, 0, 0, 0, 0, 0, 0, 0, 0, 0, 0, 0, 0, 0, 0, 0, 0, 0, 0, 0, 0, 0, 0, 0, 0, 0, 0, 0, 0, 0, 0, 0, 0, 0, 0, 0, 0, 0, 0, 0, 0, 0, 0, 0, 0, 0, 0, 0, 0, 0, 0.0005844535359438925, 0, 0.004318578191180133, 0.018225458687604248, 0.038160701588054034, 0.05207633648109368, 0.053928148440584286, 0.08722456901472771, 0.10357129445341545, 0.11537101223739125, 0.100381463690308, 0.15108653266687935, 0.15345876757361687, 0.2008443908323281, 0.22869232955442576, 0.1470015376729882, 0.18126575285709354, 0.22820570837508486, 0.18248793845351416, 0.18438836472854297, 0.27385838891739356, 0.24614435533621223, 0.25910162388685176, 0.27781728242386766, 0.23886717498558335, 0.30138380785748375, 0.2842697301501825, 0.27761840641648616, 0.269605610711358, 0.2823827786712854, 0.2953044642585436, 0.2984771573604061, 0.3101005413766435, 0.31216393834388817, 0.3272538680957732, 0.3348557553332948]\n"
     ]
    }
   ],
   "source": [
    "print(f1_score[0])"
   ]
  },
  {
   "cell_type": "code",
   "execution_count": null,
   "metadata": {},
   "outputs": [],
   "source": []
  }
 ],
 "metadata": {
  "kernelspec": {
   "display_name": "Python 3",
   "language": "python",
   "name": "python3"
  },
  "language_info": {
   "codemirror_mode": {
    "name": "ipython",
    "version": 3
   },
   "file_extension": ".py",
   "mimetype": "text/x-python",
   "name": "python",
   "nbconvert_exporter": "python",
   "pygments_lexer": "ipython3",
   "version": "3.6.7"
  }
 },
 "nbformat": 4,
 "nbformat_minor": 2
}
