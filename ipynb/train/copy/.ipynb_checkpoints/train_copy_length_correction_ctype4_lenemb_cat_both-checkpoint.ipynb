{
 "cells": [
  {
   "cell_type": "markdown",
   "metadata": {},
   "source": [
    "# Set Parameter\n",
    "- Attention = Luong\n",
    "- Teacher Forcing Ratio = 0.5\n",
    "- Layer = 1\n",
    "- Batch size = 32\n",
    "- Learning rate = 0.001\n",
    "- Hidden unit = 200\n",
    "- Epochs = 100\n",
    "- N = 100\n",
    "- Data Length = 100K\n",
    "- Data = [single_Ctype4, separator_Ctype4]\n",
    "- Deduplication\n",
    "- Length split (train[1,50], test[51,100])"
   ]
  },
  {
   "cell_type": "markdown",
   "metadata": {},
   "source": [
    "# Import packages\n",
    "\n",
    "import useful packages for experiments"
   ]
  },
  {
   "cell_type": "code",
   "execution_count": 1,
   "metadata": {},
   "outputs": [
    {
     "name": "stderr",
     "output_type": "stream",
     "text": [
      "/home/hyeontae/hyeontae/venv/lib/python3.6/site-packages/torch/nn/_reduction.py:46: UserWarning: size_average and reduce args will be deprecated, please use reduction='mean' instead.\n",
      "  warnings.warn(warning.format(ret))\n",
      "/home/hyeontae/hyeontae/venv/lib/python3.6/site-packages/torch/nn/_reduction.py:46: UserWarning: size_average and reduce args will be deprecated, please use reduction='mean' instead.\n",
      "  warnings.warn(warning.format(ret))\n"
     ]
    }
   ],
   "source": [
    "import os\n",
    "import argparse\n",
    "import logging\n",
    "import sys\n",
    "\n",
    "import torch\n",
    "from torch.optim.lr_scheduler import StepLR\n",
    "import torchtext\n",
    "\n",
    "sys.path.append(os.path.dirname(os.path.abspath(os.path.dirname(os.path.abspath(os.path.dirname(os.path.abspath(os.path.dirname('__file__'))))))))\n",
    "\n",
    "from trainer.supervised_trainer_correction import SupervisedTrainer_correction\n",
    "from models.encoderRNN_lenemb_cat_both import EncoderRNN_lenemb_cat_both\n",
    "from models.decoderRNN_lenemb_cat_both import DecoderRNN_lenemb_cat_both\n",
    "from models.seq2seq import Seq2seq\n",
    "from loss.loss import Perplexity\n",
    "from optim.optim import Optimizer\n",
    "from dataset import fields\n",
    "\n",
    "import matplotlib.pyplot as plt"
   ]
  },
  {
   "cell_type": "markdown",
   "metadata": {},
   "source": [
    "# Log format"
   ]
  },
  {
   "cell_type": "code",
   "execution_count": 2,
   "metadata": {},
   "outputs": [],
   "source": [
    "log_level = 'info'\n",
    "LOG_FORMAT = '%(asctime)s %(levelname)-6s %(message)s'\n",
    "logging.basicConfig(format=LOG_FORMAT, level=getattr(logging, log_level.upper()))"
   ]
  },
  {
   "cell_type": "code",
   "execution_count": 3,
   "metadata": {},
   "outputs": [],
   "source": [
    "data_path = [\"single_Ctype4\"]\n",
    "character_accuracy = []\n",
    "sentence_accuracy = []\n",
    "f1_score = []"
   ]
  },
  {
   "cell_type": "markdown",
   "metadata": {},
   "source": [
    "# Prepare dataset"
   ]
  },
  {
   "cell_type": "code",
   "execution_count": null,
   "metadata": {
    "scrolled": true
   },
   "outputs": [
    {
     "name": "stdout",
     "output_type": "stream",
     "text": [
      "data : single_Ctype4\n"
     ]
    },
    {
     "name": "stderr",
     "output_type": "stream",
     "text": [
      "/home/hyeontae/hyeontae/venv/lib/python3.6/site-packages/torch/nn/_reduction.py:46: UserWarning: size_average and reduce args will be deprecated, please use reduction='sum' instead.\n",
      "  warnings.warn(warning.format(ret))\n",
      "/home/hyeontae/hyeontae/venv/lib/python3.6/site-packages/torch/nn/modules/rnn.py:54: UserWarning: dropout option adds dropout after all but last recurrent layer, so non-zero dropout expects num_layers greater than 1, but got dropout=0.2 and num_layers=1\n",
      "  \"num_layers={}\".format(dropout, num_layers))\n",
      "2019-05-19 22:37:08,807 INFO   Optimizer: Adam (\n",
      "Parameter Group 0\n",
      "    amsgrad: False\n",
      "    betas: (0.9, 0.999)\n",
      "    eps: 1e-08\n",
      "    lr: 0.001\n",
      "    weight_decay: 0\n",
      "), Scheduler: None\n",
      "/home/hyeontae/hyeontae/venv/lib/python3.6/site-packages/torch/nn/functional.py:1374: UserWarning: nn.functional.tanh is deprecated. Use torch.tanh instead.\n",
      "  warnings.warn(\"nn.functional.tanh is deprecated. Use torch.tanh instead.\")\n",
      "2019-05-19 22:39:48,957 INFO   Finished epoch 1: Train loss: 1.2149, Dev loss: 1.0812, Accuracy(character): 0.9902, Accuracy(sentence): 0.2974, F1 Score: 0.0000\n",
      "2019-05-19 22:42:30,908 INFO   Finished epoch 2: Train loss: 1.1339, Dev loss: 1.0782, Accuracy(character): 0.9902, Accuracy(sentence): 0.2973, F1 Score: 0.0000\n",
      "2019-05-19 22:45:08,981 INFO   Finished epoch 3: Train loss: 1.0668, Dev loss: 1.1211, Accuracy(character): 0.9837, Accuracy(sentence): 0.1642, F1 Score: 0.0012\n",
      "2019-05-19 22:47:50,215 INFO   Finished epoch 4: Train loss: 1.0307, Dev loss: 1.1422, Accuracy(character): 0.9792, Accuracy(sentence): 0.1422, F1 Score: 0.0082\n",
      "2019-05-19 22:51:07,222 INFO   Finished epoch 5: Train loss: 1.0226, Dev loss: 1.1403, Accuracy(character): 0.9809, Accuracy(sentence): 0.1532, F1 Score: 0.0217\n",
      "2019-05-19 22:54:41,312 INFO   Finished epoch 6: Train loss: 1.0188, Dev loss: 1.1549, Accuracy(character): 0.9843, Accuracy(sentence): 0.1872, F1 Score: 0.0060\n",
      "2019-05-19 22:58:13,352 INFO   Finished epoch 7: Train loss: 1.0167, Dev loss: 1.1441, Accuracy(character): 0.9841, Accuracy(sentence): 0.1893, F1 Score: 0.0154\n",
      "2019-05-19 23:01:24,892 INFO   Finished epoch 8: Train loss: 1.0146, Dev loss: 1.1565, Accuracy(character): 0.9848, Accuracy(sentence): 0.1993, F1 Score: 0.0153\n",
      "2019-05-19 23:04:58,555 INFO   Finished epoch 9: Train loss: 1.0135, Dev loss: 1.1641, Accuracy(character): 0.9836, Accuracy(sentence): 0.1799, F1 Score: 0.0170\n",
      "2019-05-19 23:08:26,043 INFO   Finished epoch 10: Train loss: 1.0121, Dev loss: 1.1707, Accuracy(character): 0.9817, Accuracy(sentence): 0.1407, F1 Score: 0.0106\n",
      "2019-05-19 23:11:58,481 INFO   Finished epoch 11: Train loss: 1.0113, Dev loss: 1.1789, Accuracy(character): 0.9824, Accuracy(sentence): 0.1529, F1 Score: 0.0147\n",
      "2019-05-19 23:15:26,450 INFO   Finished epoch 12: Train loss: 1.0105, Dev loss: 1.1863, Accuracy(character): 0.9813, Accuracy(sentence): 0.1379, F1 Score: 0.0188\n",
      "2019-05-19 23:18:53,537 INFO   Finished epoch 13: Train loss: 1.0102, Dev loss: 1.1778, Accuracy(character): 0.9813, Accuracy(sentence): 0.1348, F1 Score: 0.0180\n",
      "2019-05-19 23:22:20,265 INFO   Finished epoch 14: Train loss: 1.0098, Dev loss: 1.1819, Accuracy(character): 0.9805, Accuracy(sentence): 0.1346, F1 Score: 0.0276\n",
      "2019-05-19 23:25:33,566 INFO   Finished epoch 15: Train loss: 1.0089, Dev loss: 1.1887, Accuracy(character): 0.9833, Accuracy(sentence): 0.1747, F1 Score: 0.0203\n",
      "2019-05-19 23:28:40,299 INFO   Finished epoch 16: Train loss: 1.0088, Dev loss: 1.1967, Accuracy(character): 0.9822, Accuracy(sentence): 0.1547, F1 Score: 0.0268\n",
      "2019-05-19 23:31:29,844 INFO   Finished epoch 17: Train loss: 1.0080, Dev loss: 1.2046, Accuracy(character): 0.9798, Accuracy(sentence): 0.1162, F1 Score: 0.0219\n",
      "2019-05-19 23:34:38,469 INFO   Finished epoch 18: Train loss: 1.0076, Dev loss: 1.2095, Accuracy(character): 0.9821, Accuracy(sentence): 0.1548, F1 Score: 0.0194\n",
      "2019-05-19 23:38:18,559 INFO   Finished epoch 19: Train loss: 1.0075, Dev loss: 1.2000, Accuracy(character): 0.9823, Accuracy(sentence): 0.1582, F1 Score: 0.0276\n",
      "2019-05-19 23:41:40,697 INFO   Finished epoch 20: Train loss: 1.0073, Dev loss: 1.1990, Accuracy(character): 0.9823, Accuracy(sentence): 0.1563, F1 Score: 0.0198\n",
      "2019-05-19 23:45:09,396 INFO   Finished epoch 21: Train loss: 1.0068, Dev loss: 1.2151, Accuracy(character): 0.9803, Accuracy(sentence): 0.1182, F1 Score: 0.0180\n",
      "2019-05-19 23:48:38,262 INFO   Finished epoch 22: Train loss: 1.0067, Dev loss: 1.2206, Accuracy(character): 0.9824, Accuracy(sentence): 0.1611, F1 Score: 0.0314\n",
      "2019-05-19 23:52:05,706 INFO   Finished epoch 23: Train loss: 1.0066, Dev loss: 1.2255, Accuracy(character): 0.9825, Accuracy(sentence): 0.1606, F1 Score: 0.0203\n",
      "2019-05-19 23:55:31,615 INFO   Finished epoch 24: Train loss: 1.0064, Dev loss: 1.2154, Accuracy(character): 0.9834, Accuracy(sentence): 0.1784, F1 Score: 0.0172\n",
      "2019-05-19 23:58:54,262 INFO   Finished epoch 25: Train loss: 1.0061, Dev loss: 1.2158, Accuracy(character): 0.9830, Accuracy(sentence): 0.1652, F1 Score: 0.0195\n",
      "2019-05-20 00:02:08,146 INFO   Finished epoch 26: Train loss: 1.0060, Dev loss: 1.2215, Accuracy(character): 0.9829, Accuracy(sentence): 0.1667, F1 Score: 0.0245\n",
      "2019-05-20 00:04:54,946 INFO   Finished epoch 27: Train loss: 1.0058, Dev loss: 1.2245, Accuracy(character): 0.9836, Accuracy(sentence): 0.1816, F1 Score: 0.0266\n",
      "2019-05-20 00:07:48,197 INFO   Finished epoch 28: Train loss: 1.0058, Dev loss: 1.2127, Accuracy(character): 0.9820, Accuracy(sentence): 0.1503, F1 Score: 0.0233\n",
      "2019-05-20 00:11:15,598 INFO   Finished epoch 29: Train loss: 1.0054, Dev loss: 1.2195, Accuracy(character): 0.9814, Accuracy(sentence): 0.1459, F1 Score: 0.0282\n",
      "2019-05-20 00:14:46,210 INFO   Finished epoch 30: Train loss: 1.0052, Dev loss: 1.2423, Accuracy(character): 0.9823, Accuracy(sentence): 0.1580, F1 Score: 0.0283\n",
      "2019-05-20 00:17:43,577 INFO   Finished epoch 31: Train loss: 1.0053, Dev loss: 1.2281, Accuracy(character): 0.9836, Accuracy(sentence): 0.1868, F1 Score: 0.0462\n",
      "2019-05-20 00:21:10,435 INFO   Finished epoch 32: Train loss: 1.0055, Dev loss: 1.2350, Accuracy(character): 0.9818, Accuracy(sentence): 0.1452, F1 Score: 0.0175\n",
      "2019-05-20 00:24:30,264 INFO   Finished epoch 33: Train loss: 1.0050, Dev loss: 1.2290, Accuracy(character): 0.9823, Accuracy(sentence): 0.1609, F1 Score: 0.0289\n",
      "2019-05-20 00:27:44,707 INFO   Finished epoch 34: Train loss: 1.0050, Dev loss: 1.2186, Accuracy(character): 0.9844, Accuracy(sentence): 0.2027, F1 Score: 0.0385\n",
      "2019-05-20 00:30:58,083 INFO   Finished epoch 35: Train loss: 1.0046, Dev loss: 1.2336, Accuracy(character): 0.9840, Accuracy(sentence): 0.1898, F1 Score: 0.0400\n",
      "2019-05-20 00:33:46,566 INFO   Finished epoch 36: Train loss: 1.0047, Dev loss: 1.2419, Accuracy(character): 0.9819, Accuracy(sentence): 0.1572, F1 Score: 0.0392\n",
      "2019-05-20 00:37:10,554 INFO   Finished epoch 37: Train loss: 1.0049, Dev loss: 1.2469, Accuracy(character): 0.9815, Accuracy(sentence): 0.1404, F1 Score: 0.0333\n",
      "2019-05-20 00:40:41,993 INFO   Finished epoch 38: Train loss: 1.0045, Dev loss: 1.2396, Accuracy(character): 0.9831, Accuracy(sentence): 0.1717, F1 Score: 0.0301\n",
      "2019-05-20 00:43:54,597 INFO   Finished epoch 39: Train loss: 1.0046, Dev loss: 1.2432, Accuracy(character): 0.9826, Accuracy(sentence): 0.1690, F1 Score: 0.0414\n",
      "2019-05-20 00:46:50,096 INFO   Finished epoch 40: Train loss: 1.0042, Dev loss: 1.2596, Accuracy(character): 0.9820, Accuracy(sentence): 0.1606, F1 Score: 0.0480\n",
      "2019-05-20 00:50:23,541 INFO   Finished epoch 41: Train loss: 1.0042, Dev loss: 1.2491, Accuracy(character): 0.9821, Accuracy(sentence): 0.1641, F1 Score: 0.0517\n",
      "2019-05-20 00:53:49,062 INFO   Finished epoch 42: Train loss: 1.0040, Dev loss: 1.2650, Accuracy(character): 0.9836, Accuracy(sentence): 0.1868, F1 Score: 0.0442\n",
      "2019-05-20 00:57:10,079 INFO   Finished epoch 43: Train loss: 1.0043, Dev loss: 1.2701, Accuracy(character): 0.9826, Accuracy(sentence): 0.1595, F1 Score: 0.0186\n",
      "2019-05-20 01:00:37,451 INFO   Finished epoch 44: Train loss: 1.0041, Dev loss: 1.2577, Accuracy(character): 0.9840, Accuracy(sentence): 0.1913, F1 Score: 0.0290\n",
      "2019-05-20 01:04:05,520 INFO   Finished epoch 45: Train loss: 1.0037, Dev loss: 1.2727, Accuracy(character): 0.9834, Accuracy(sentence): 0.1821, F1 Score: 0.0297\n"
     ]
    },
    {
     "name": "stderr",
     "output_type": "stream",
     "text": [
      "2019-05-20 01:07:35,054 INFO   Finished epoch 46: Train loss: 1.0040, Dev loss: 1.2687, Accuracy(character): 0.9839, Accuracy(sentence): 0.1923, F1 Score: 0.0426\n",
      "2019-05-20 01:11:01,114 INFO   Finished epoch 47: Train loss: 1.0036, Dev loss: 1.2723, Accuracy(character): 0.9820, Accuracy(sentence): 0.1567, F1 Score: 0.0343\n",
      "2019-05-20 01:14:31,463 INFO   Finished epoch 48: Train loss: 1.0037, Dev loss: 1.2627, Accuracy(character): 0.9816, Accuracy(sentence): 0.1562, F1 Score: 0.0472\n",
      "2019-05-20 01:17:46,072 INFO   Finished epoch 49: Train loss: 1.0038, Dev loss: 1.2690, Accuracy(character): 0.9823, Accuracy(sentence): 0.1689, F1 Score: 0.0562\n",
      "2019-05-20 01:21:20,429 INFO   Finished epoch 50: Train loss: 1.0034, Dev loss: 1.2756, Accuracy(character): 0.9821, Accuracy(sentence): 0.1630, F1 Score: 0.0579\n",
      "2019-05-20 01:24:58,515 INFO   Finished epoch 51: Train loss: 1.0035, Dev loss: 1.2644, Accuracy(character): 0.9804, Accuracy(sentence): 0.1320, F1 Score: 0.0361\n",
      "2019-05-20 01:28:28,019 INFO   Finished epoch 52: Train loss: 1.0035, Dev loss: 1.2768, Accuracy(character): 0.9815, Accuracy(sentence): 0.1510, F1 Score: 0.0553\n",
      "2019-05-20 01:31:55,953 INFO   Finished epoch 53: Train loss: 1.0034, Dev loss: 1.2785, Accuracy(character): 0.9815, Accuracy(sentence): 0.1508, F1 Score: 0.0577\n",
      "2019-05-20 01:35:25,614 INFO   Finished epoch 54: Train loss: 1.0033, Dev loss: 1.2802, Accuracy(character): 0.9812, Accuracy(sentence): 0.1489, F1 Score: 0.0560\n",
      "2019-05-20 01:38:55,827 INFO   Finished epoch 55: Train loss: 1.0034, Dev loss: 1.2795, Accuracy(character): 0.9818, Accuracy(sentence): 0.1586, F1 Score: 0.0459\n",
      "2019-05-20 01:42:25,558 INFO   Finished epoch 56: Train loss: 1.0033, Dev loss: 1.2708, Accuracy(character): 0.9810, Accuracy(sentence): 0.1412, F1 Score: 0.0481\n",
      "2019-05-20 01:45:53,806 INFO   Finished epoch 57: Train loss: 1.0031, Dev loss: 1.2779, Accuracy(character): 0.9810, Accuracy(sentence): 0.1396, F1 Score: 0.0520\n",
      "2019-05-20 01:48:56,497 INFO   Finished epoch 58: Train loss: 1.0032, Dev loss: 1.2821, Accuracy(character): 0.9829, Accuracy(sentence): 0.1783, F1 Score: 0.0630\n",
      "2019-05-20 01:52:25,893 INFO   Finished epoch 59: Train loss: 1.0032, Dev loss: 1.2884, Accuracy(character): 0.9814, Accuracy(sentence): 0.1516, F1 Score: 0.0622\n",
      "2019-05-20 01:55:57,739 INFO   Finished epoch 60: Train loss: 1.0029, Dev loss: 1.2863, Accuracy(character): 0.9816, Accuracy(sentence): 0.1480, F1 Score: 0.0394\n",
      "2019-05-20 01:59:00,052 INFO   Finished epoch 61: Train loss: 1.0030, Dev loss: 1.2789, Accuracy(character): 0.9823, Accuracy(sentence): 0.1711, F1 Score: 0.0664\n",
      "2019-05-20 02:02:27,604 INFO   Finished epoch 62: Train loss: 1.0031, Dev loss: 1.2942, Accuracy(character): 0.9844, Accuracy(sentence): 0.2059, F1 Score: 0.0656\n",
      "2019-05-20 02:05:54,811 INFO   Finished epoch 63: Train loss: 1.0028, Dev loss: 1.2845, Accuracy(character): 0.9832, Accuracy(sentence): 0.1838, F1 Score: 0.0578\n",
      "2019-05-20 02:09:26,929 INFO   Finished epoch 64: Train loss: 1.0030, Dev loss: 1.2894, Accuracy(character): 0.9832, Accuracy(sentence): 0.1847, F1 Score: 0.0498\n",
      "2019-05-20 02:12:57,066 INFO   Finished epoch 65: Train loss: 1.0028, Dev loss: 1.3048, Accuracy(character): 0.9806, Accuracy(sentence): 0.1284, F1 Score: 0.0325\n",
      "2019-05-20 02:16:12,399 INFO   Finished epoch 66: Train loss: 1.0026, Dev loss: 1.2893, Accuracy(character): 0.9817, Accuracy(sentence): 0.1523, F1 Score: 0.0561\n",
      "2019-05-20 02:19:48,599 INFO   Finished epoch 67: Train loss: 1.0029, Dev loss: 1.2761, Accuracy(character): 0.9826, Accuracy(sentence): 0.1786, F1 Score: 0.0695\n",
      "2019-05-20 02:23:16,083 INFO   Finished epoch 68: Train loss: 1.0026, Dev loss: 1.2914, Accuracy(character): 0.9838, Accuracy(sentence): 0.1959, F1 Score: 0.0590\n",
      "2019-05-20 02:26:43,583 INFO   Finished epoch 69: Train loss: 1.0027, Dev loss: 1.2882, Accuracy(character): 0.9820, Accuracy(sentence): 0.1592, F1 Score: 0.0377\n",
      "2019-05-20 02:30:14,793 INFO   Finished epoch 70: Train loss: 1.0024, Dev loss: 1.2922, Accuracy(character): 0.9819, Accuracy(sentence): 0.1575, F1 Score: 0.0378\n",
      "2019-05-20 02:33:29,266 INFO   Finished epoch 71: Train loss: 1.0026, Dev loss: 1.2883, Accuracy(character): 0.9826, Accuracy(sentence): 0.1714, F1 Score: 0.0527\n",
      "2019-05-20 02:36:18,015 INFO   Finished epoch 72: Train loss: 1.0024, Dev loss: 1.3186, Accuracy(character): 0.9783, Accuracy(sentence): 0.0976, F1 Score: 0.0224\n",
      "2019-05-20 02:39:43,137 INFO   Finished epoch 73: Train loss: 1.0026, Dev loss: 1.2924, Accuracy(character): 0.9799, Accuracy(sentence): 0.1249, F1 Score: 0.0354\n",
      "2019-05-20 02:43:16,949 INFO   Finished epoch 74: Train loss: 1.0026, Dev loss: 1.2933, Accuracy(character): 0.9798, Accuracy(sentence): 0.1217, F1 Score: 0.0310\n",
      "2019-05-20 02:46:10,152 INFO   Finished epoch 75: Train loss: 1.0028, Dev loss: 1.2932, Accuracy(character): 0.9788, Accuracy(sentence): 0.1479, F1 Score: 0.0536\n",
      "2019-05-20 02:49:39,064 INFO   Finished epoch 76: Train loss: 1.0027, Dev loss: 1.3001, Accuracy(character): 0.9809, Accuracy(sentence): 0.1375, F1 Score: 0.0273\n",
      "2019-05-20 02:53:08,461 INFO   Finished epoch 77: Train loss: 1.0026, Dev loss: 1.2980, Accuracy(character): 0.9812, Accuracy(sentence): 0.1363, F1 Score: 0.0261\n",
      "2019-05-20 02:56:29,109 INFO   Finished epoch 78: Train loss: 1.0024, Dev loss: 1.2875, Accuracy(character): 0.9815, Accuracy(sentence): 0.1524, F1 Score: 0.0540\n",
      "2019-05-20 03:00:04,163 INFO   Finished epoch 79: Train loss: 1.0025, Dev loss: 1.2913, Accuracy(character): 0.9801, Accuracy(sentence): 0.1363, F1 Score: 0.0488\n",
      "2019-05-20 03:03:19,059 INFO   Finished epoch 80: Train loss: 1.0022, Dev loss: 1.2975, Accuracy(character): 0.9828, Accuracy(sentence): 0.1676, F1 Score: 0.0342\n",
      "2019-05-20 03:06:45,963 INFO   Finished epoch 81: Train loss: 1.0024, Dev loss: 1.2911, Accuracy(character): 0.9834, Accuracy(sentence): 0.1956, F1 Score: 0.0648\n"
     ]
    }
   ],
   "source": [
    "for i in data_path:\n",
    "    print(\"data : %s\" % i)\n",
    "    train_path = \"../../../data/copy_length/correction_\" + i + \"/data_train.txt\"\n",
    "    dev_path = \"../../../data/copy_length/correction_\" + i + \"/data_test.txt\"\n",
    "\n",
    "    src = fields.SourceField()\n",
    "    tgt = fields.TargetField()\n",
    "    max_len = 104\n",
    "    def len_filter(example):\n",
    "        return len(example.src) <= max_len and len(example.tgt) <= max_len\n",
    "    train = torchtext.data.TabularDataset(\n",
    "        path=train_path, format='tsv',\n",
    "        fields=[('src', src), ('tgt', tgt)],\n",
    "        filter_pred=len_filter\n",
    "    )\n",
    "    dev = torchtext.data.TabularDataset(\n",
    "        path=dev_path, format='tsv',\n",
    "        fields=[('src', src), ('tgt', tgt)],\n",
    "        filter_pred=len_filter\n",
    "    )\n",
    "    src.build_vocab(train)\n",
    "    tgt.build_vocab(train)\n",
    "    input_vocab = src.vocab\n",
    "    output_vocab = tgt.vocab\n",
    "\n",
    "    weight = torch.ones(len(tgt.vocab))\n",
    "    pad = tgt.vocab.stoi[tgt.pad_token]\n",
    "    loss = Perplexity(weight, pad)\n",
    "    if torch.cuda.is_available():\n",
    "        loss.cuda()\n",
    "    \n",
    "    optimizer = \"Adam\"\n",
    "    hidden_size = 200\n",
    "    bidirectional = False\n",
    "\n",
    "    seq2seq = None\n",
    "    encoder = EncoderRNN_lenemb_cat_both(len(src.vocab), max_len, hidden_size,\n",
    "                         bidirectional=bidirectional, variable_lengths=True)\n",
    "    decoder = DecoderRNN_lenemb_cat_both(len(tgt.vocab), max_len, hidden_size * 2 if bidirectional else hidden_size,\n",
    "                         dropout_p=0.2, use_attention=\"Luong\", bidirectional=bidirectional,\n",
    "                         eos_id=tgt.eos_id, sos_id=tgt.sos_id)\n",
    "    seq2seq = Seq2seq(encoder, decoder)\n",
    "    if torch.cuda.is_available():\n",
    "        seq2seq.cuda()\n",
    "\n",
    "    for param in seq2seq.parameters():\n",
    "        param.data.uniform_(-0.08, 0.08)\n",
    "\n",
    "    # train\n",
    "    t = SupervisedTrainer_correction(loss=loss, batch_size=32,\n",
    "                          checkpoint_every=50,\n",
    "                          print_every=100,\n",
    "                          hidden_size=hidden_size,\n",
    "                          path=\"copy_length_correction_ctype4_lenemb_cat_order_lenemb_add_both\",\n",
    "                          file_name=i)\n",
    "\n",
    "    seq2seq, ave_loss, character_accuracy_list, sentence_accuracy_list, f1_score_list = t.train(seq2seq, train,\n",
    "                                                                             num_epochs=100, dev_data=dev,\n",
    "                                                                             optimizer=optimizer,\n",
    "                                                                             teacher_forcing_ratio=0.5)\n",
    "\n",
    "    character_accuracy.append(character_accuracy_list)\n",
    "    sentence_accuracy.append(sentence_accuracy_list)\n",
    "    f1_score.append(f1_score_list)"
   ]
  },
  {
   "cell_type": "code",
   "execution_count": null,
   "metadata": {},
   "outputs": [
    {
     "name": "stdout",
     "output_type": "stream",
     "text": [
      "data : single_Ctype4\n"
     ]
    },
    {
     "name": "stderr",
     "output_type": "stream",
     "text": [
      "2019-05-20 11:26:07,830 INFO   Optimizer: Adam (\n",
      "Parameter Group 0\n",
      "    amsgrad: False\n",
      "    betas: (0.9, 0.999)\n",
      "    eps: 1e-08\n",
      "    lr: 0.001\n",
      "    weight_decay: 0\n",
      "), Scheduler: None\n",
      "2019-05-20 11:29:43,210 INFO   Finished epoch 1: Train loss: 1.2131, Dev loss: 1.0833, Accuracy(character): 0.9902, Accuracy(sentence): 0.2974, F1 Score: 0.0000\n",
      "2019-05-20 11:33:16,882 INFO   Finished epoch 2: Train loss: 1.1072, Dev loss: 1.1493, Accuracy(character): 0.9796, Accuracy(sentence): 0.0940, F1 Score: 0.0060\n",
      "2019-05-20 11:36:48,283 INFO   Finished epoch 3: Train loss: 1.0322, Dev loss: 1.2440, Accuracy(character): 0.9659, Accuracy(sentence): 0.0306, F1 Score: 0.0075\n",
      "2019-05-20 11:40:17,054 INFO   Finished epoch 4: Train loss: 1.0161, Dev loss: 1.3167, Accuracy(character): 0.9491, Accuracy(sentence): 0.0044, F1 Score: 0.0082\n",
      "2019-05-20 11:43:54,855 INFO   Finished epoch 5: Train loss: 1.0082, Dev loss: 1.3081, Accuracy(character): 0.9591, Accuracy(sentence): 0.0356, F1 Score: 0.0148\n",
      "2019-05-20 11:47:28,099 INFO   Finished epoch 6: Train loss: 1.0067, Dev loss: 1.3071, Accuracy(character): 0.9590, Accuracy(sentence): 0.0177, F1 Score: 0.0166\n",
      "2019-05-20 11:51:00,657 INFO   Finished epoch 7: Train loss: 1.0046, Dev loss: 1.3385, Accuracy(character): 0.9486, Accuracy(sentence): 0.0115, F1 Score: 0.0160\n",
      "2019-05-20 11:54:46,495 INFO   Finished epoch 8: Train loss: 1.0052, Dev loss: 1.3746, Accuracy(character): 0.9615, Accuracy(sentence): 0.0139, F1 Score: 0.0147\n",
      "2019-05-20 11:58:17,573 INFO   Finished epoch 9: Train loss: 1.0036, Dev loss: 1.3717, Accuracy(character): 0.9599, Accuracy(sentence): 0.0285, F1 Score: 0.0207\n",
      "2019-05-20 12:01:49,896 INFO   Finished epoch 10: Train loss: 1.0033, Dev loss: 1.3523, Accuracy(character): 0.9638, Accuracy(sentence): 0.0624, F1 Score: 0.0320\n",
      "2019-05-20 12:05:21,023 INFO   Finished epoch 11: Train loss: 1.0036, Dev loss: 1.3490, Accuracy(character): 0.9630, Accuracy(sentence): 0.0592, F1 Score: 0.0333\n",
      "2019-05-20 12:08:30,989 INFO   Finished epoch 12: Train loss: 1.0030, Dev loss: 1.4718, Accuracy(character): 0.9499, Accuracy(sentence): 0.0291, F1 Score: 0.0295\n",
      "2019-05-20 12:12:02,826 INFO   Finished epoch 13: Train loss: 1.0036, Dev loss: 1.4769, Accuracy(character): 0.9436, Accuracy(sentence): 0.0410, F1 Score: 0.0227\n",
      "2019-05-20 12:15:36,672 INFO   Finished epoch 14: Train loss: 1.0046, Dev loss: 1.4458, Accuracy(character): 0.9435, Accuracy(sentence): 0.0456, F1 Score: 0.0253\n",
      "2019-05-20 12:19:19,320 INFO   Finished epoch 15: Train loss: 1.0022, Dev loss: 1.5222, Accuracy(character): 0.9579, Accuracy(sentence): 0.0060, F1 Score: 0.0137\n",
      "2019-05-20 12:22:53,881 INFO   Finished epoch 16: Train loss: 1.0033, Dev loss: 1.5028, Accuracy(character): 0.9657, Accuracy(sentence): 0.0350, F1 Score: 0.0298\n",
      "2019-05-20 12:25:59,931 INFO   Finished epoch 17: Train loss: 1.0036, Dev loss: 1.4716, Accuracy(character): 0.9564, Accuracy(sentence): 0.0576, F1 Score: 0.0344\n",
      "2019-05-20 12:29:24,957 INFO   Finished epoch 18: Train loss: 1.0034, Dev loss: 1.5205, Accuracy(character): 0.9609, Accuracy(sentence): 0.0431, F1 Score: 0.0255\n",
      "2019-05-20 12:33:01,026 INFO   Finished epoch 19: Train loss: 1.0032, Dev loss: 1.5192, Accuracy(character): 0.9666, Accuracy(sentence): 0.0556, F1 Score: 0.0389\n",
      "2019-05-20 12:36:36,108 INFO   Finished epoch 20: Train loss: 1.0022, Dev loss: 1.5477, Accuracy(character): 0.9673, Accuracy(sentence): 0.0608, F1 Score: 0.0427\n",
      "2019-05-20 12:40:07,030 INFO   Finished epoch 21: Train loss: 1.0034, Dev loss: 1.5277, Accuracy(character): 0.9637, Accuracy(sentence): 0.0474, F1 Score: 0.0294\n",
      "2019-05-20 12:43:40,799 INFO   Finished epoch 22: Train loss: 1.0030, Dev loss: 1.5459, Accuracy(character): 0.9583, Accuracy(sentence): 0.0550, F1 Score: 0.0386\n",
      "2019-05-20 12:46:40,244 INFO   Finished epoch 23: Train loss: 1.0012, Dev loss: 1.6588, Accuracy(character): 0.9558, Accuracy(sentence): 0.0536, F1 Score: 0.0313\n",
      "2019-05-20 12:49:48,674 INFO   Finished epoch 24: Train loss: 1.0021, Dev loss: 1.6592, Accuracy(character): 0.9620, Accuracy(sentence): 0.0439, F1 Score: 0.0309\n",
      "2019-05-20 12:53:21,677 INFO   Finished epoch 25: Train loss: 1.0022, Dev loss: 1.6672, Accuracy(character): 0.9599, Accuracy(sentence): 0.0581, F1 Score: 0.0351\n",
      "2019-05-20 12:56:56,142 INFO   Finished epoch 26: Train loss: 1.0027, Dev loss: 1.6451, Accuracy(character): 0.9553, Accuracy(sentence): 0.0505, F1 Score: 0.0259\n",
      "2019-05-20 13:00:28,962 INFO   Finished epoch 27: Train loss: 1.0011, Dev loss: 1.6802, Accuracy(character): 0.9604, Accuracy(sentence): 0.0408, F1 Score: 0.0263\n",
      "2019-05-20 13:04:01,399 INFO   Finished epoch 28: Train loss: 1.0017, Dev loss: 1.7527, Accuracy(character): 0.9591, Accuracy(sentence): 0.0373, F1 Score: 0.0212\n",
      "2019-05-20 13:07:26,364 INFO   Finished epoch 29: Train loss: 1.0059, Dev loss: 1.8608, Accuracy(character): 0.9398, Accuracy(sentence): 0.0358, F1 Score: 0.0150\n",
      "2019-05-20 13:11:00,819 INFO   Finished epoch 30: Train loss: 1.0028, Dev loss: 1.8050, Accuracy(character): 0.9570, Accuracy(sentence): 0.0240, F1 Score: 0.0286\n",
      "2019-05-20 13:14:32,460 INFO   Finished epoch 31: Train loss: 1.0024, Dev loss: 1.8336, Accuracy(character): 0.9629, Accuracy(sentence): 0.0357, F1 Score: 0.0254\n",
      "2019-05-20 13:17:58,903 INFO   Finished epoch 32: Train loss: 1.0015, Dev loss: 1.8781, Accuracy(character): 0.9602, Accuracy(sentence): 0.0350, F1 Score: 0.0190\n",
      "2019-05-20 13:21:29,257 INFO   Finished epoch 33: Train loss: 1.0019, Dev loss: 1.9543, Accuracy(character): 0.9569, Accuracy(sentence): 0.0187, F1 Score: 0.0145\n",
      "2019-05-20 13:24:47,322 INFO   Finished epoch 34: Train loss: 1.1755, Dev loss: 1.8400, Accuracy(character): 0.9555, Accuracy(sentence): 0.0306, F1 Score: 0.0187\n",
      "2019-05-20 13:28:11,559 INFO   Finished epoch 35: Train loss: 1.0019, Dev loss: 1.8198, Accuracy(character): 0.9550, Accuracy(sentence): 0.0303, F1 Score: 0.0180\n",
      "2019-05-20 13:32:40,461 INFO   Finished epoch 36: Train loss: 1.0024, Dev loss: 1.9282, Accuracy(character): 0.9631, Accuracy(sentence): 0.0314, F1 Score: 0.0230\n",
      "2019-05-20 13:36:24,873 INFO   Finished epoch 37: Train loss: 1.0037, Dev loss: 1.8518, Accuracy(character): 0.9638, Accuracy(sentence): 0.0464, F1 Score: 0.0286\n",
      "2019-05-20 13:43:07,730 INFO   Finished epoch 39: Train loss: 1.0011, Dev loss: 1.9533, Accuracy(character): 0.9590, Accuracy(sentence): 0.0131, F1 Score: 0.0182\n",
      "2019-05-20 13:46:19,668 INFO   Finished epoch 40: Train loss: 1.0034, Dev loss: 1.9895, Accuracy(character): 0.9531, Accuracy(sentence): 0.0323, F1 Score: 0.0165\n",
      "2019-05-20 13:49:50,351 INFO   Finished epoch 41: Train loss: 1.0194, Dev loss: 1.9327, Accuracy(character): 0.9684, Accuracy(sentence): 0.0121, F1 Score: 0.0125\n",
      "2019-05-20 13:52:44,275 INFO   Finished epoch 42: Train loss: 1.0015, Dev loss: 1.9656, Accuracy(character): 0.9533, Accuracy(sentence): 0.0119, F1 Score: 0.0160\n",
      "2019-05-20 13:55:35,572 INFO   Finished epoch 43: Train loss: 1.0220, Dev loss: 1.9287, Accuracy(character): 0.9607, Accuracy(sentence): 0.0125, F1 Score: 0.0114\n",
      "2019-05-20 13:58:41,582 INFO   Finished epoch 44: Train loss: 1.0009, Dev loss: 1.9822, Accuracy(character): 0.9545, Accuracy(sentence): 0.0125, F1 Score: 0.0149\n",
      "2019-05-20 14:02:11,066 INFO   Finished epoch 45: Train loss: 1.0000, Dev loss: 1.9875, Accuracy(character): 0.9551, Accuracy(sentence): 0.0092, F1 Score: 0.0143\n",
      "2019-05-20 14:05:44,886 INFO   Finished epoch 46: Train loss: 1.0000, Dev loss: 1.9805, Accuracy(character): 0.9562, Accuracy(sentence): 0.0102, F1 Score: 0.0143\n",
      "2019-05-20 14:09:18,705 INFO   Finished epoch 47: Train loss: 1.0000, Dev loss: 1.9772, Accuracy(character): 0.9566, Accuracy(sentence): 0.0105, F1 Score: 0.0141\n",
      "2019-05-20 14:12:35,362 INFO   Finished epoch 48: Train loss: 1.0000, Dev loss: 1.9749, Accuracy(character): 0.9570, Accuracy(sentence): 0.0117, F1 Score: 0.0142\n",
      "2019-05-20 14:16:02,417 INFO   Finished epoch 49: Train loss: 1.0000, Dev loss: 1.9699, Accuracy(character): 0.9571, Accuracy(sentence): 0.0113, F1 Score: 0.0142\n",
      "2019-05-20 14:19:36,864 INFO   Finished epoch 50: Train loss: 1.0000, Dev loss: 1.9640, Accuracy(character): 0.9575, Accuracy(sentence): 0.0121, F1 Score: 0.0146\n",
      "2019-05-20 14:23:04,005 INFO   Finished epoch 51: Train loss: 1.0000, Dev loss: 1.9617, Accuracy(character): 0.9573, Accuracy(sentence): 0.0131, F1 Score: 0.0150\n"
     ]
    },
    {
     "name": "stderr",
     "output_type": "stream",
     "text": [
      "2019-05-20 14:26:37,735 INFO   Finished epoch 52: Train loss: 1.0000, Dev loss: 1.9581, Accuracy(character): 0.9575, Accuracy(sentence): 0.0147, F1 Score: 0.0156\n",
      "2019-05-20 14:30:16,151 INFO   Finished epoch 53: Train loss: 1.0000, Dev loss: 1.9446, Accuracy(character): 0.9582, Accuracy(sentence): 0.0164, F1 Score: 0.0163\n",
      "2019-05-20 14:33:35,547 INFO   Finished epoch 54: Train loss: 1.0146, Dev loss: 1.6282, Accuracy(character): 0.9591, Accuracy(sentence): 0.0066, F1 Score: 0.0152\n",
      "2019-05-20 14:36:58,305 INFO   Finished epoch 55: Train loss: 1.0008, Dev loss: 1.7683, Accuracy(character): 0.9587, Accuracy(sentence): 0.0093, F1 Score: 0.0165\n",
      "2019-05-20 14:40:15,687 INFO   Finished epoch 56: Train loss: 1.0002, Dev loss: 1.8478, Accuracy(character): 0.9645, Accuracy(sentence): 0.0201, F1 Score: 0.0199\n",
      "2019-05-20 14:43:49,382 INFO   Finished epoch 57: Train loss: 1.0029, Dev loss: 1.8770, Accuracy(character): 0.9533, Accuracy(sentence): 0.0117, F1 Score: 0.0168\n",
      "2019-05-20 14:47:26,146 INFO   Finished epoch 58: Train loss: 1.0013, Dev loss: 1.7645, Accuracy(character): 0.9613, Accuracy(sentence): 0.0127, F1 Score: 0.0174\n",
      "2019-05-20 14:50:44,193 INFO   Finished epoch 59: Train loss: 1.0046, Dev loss: 1.7432, Accuracy(character): 0.9648, Accuracy(sentence): 0.0069, F1 Score: 0.0176\n",
      "2019-05-20 14:54:18,504 INFO   Finished epoch 60: Train loss: 1.0021, Dev loss: 1.9571, Accuracy(character): 0.9469, Accuracy(sentence): 0.0063, F1 Score: 0.0125\n",
      "2019-05-20 14:57:55,015 INFO   Finished epoch 61: Train loss: 1.0013, Dev loss: 1.8574, Accuracy(character): 0.9604, Accuracy(sentence): 0.0204, F1 Score: 0.0178\n",
      "2019-05-20 15:01:59,865 INFO   Finished epoch 62: Train loss: 1.0016, Dev loss: 1.8543, Accuracy(character): 0.9610, Accuracy(sentence): 0.0016, F1 Score: 0.0098\n"
     ]
    }
   ],
   "source": [
    "for i in data_path:\n",
    "    print(\"data : %s\" % i)\n",
    "    train_path = \"../../../data/copy_length/correction_\" + i + \"/data_train.txt\"\n",
    "    dev_path = \"../../../data/copy_length/correction_\" + i + \"/data_test.txt\"\n",
    "\n",
    "    src = fields.SourceField()\n",
    "    tgt = fields.TargetField()\n",
    "    max_len = 104\n",
    "    def len_filter(example):\n",
    "        return len(example.src) <= max_len and len(example.tgt) <= max_len\n",
    "    train = torchtext.data.TabularDataset(\n",
    "        path=train_path, format='tsv',\n",
    "        fields=[('src', src), ('tgt', tgt)],\n",
    "        filter_pred=len_filter\n",
    "    )\n",
    "    dev = torchtext.data.TabularDataset(\n",
    "        path=dev_path, format='tsv',\n",
    "        fields=[('src', src), ('tgt', tgt)],\n",
    "        filter_pred=len_filter\n",
    "    )\n",
    "    src.build_vocab(train)\n",
    "    tgt.build_vocab(train)\n",
    "    input_vocab = src.vocab\n",
    "    output_vocab = tgt.vocab\n",
    "\n",
    "    weight = torch.ones(len(tgt.vocab))\n",
    "    pad = tgt.vocab.stoi[tgt.pad_token]\n",
    "    loss = Perplexity(weight, pad)\n",
    "    if torch.cuda.is_available():\n",
    "        loss.cuda()\n",
    "    \n",
    "    optimizer = \"Adam\"\n",
    "    hidden_size = 200\n",
    "    bidirectional = False\n",
    "\n",
    "    seq2seq = None\n",
    "    encoder = EncoderRNN_lenemb_cat_both(len(src.vocab), max_len, hidden_size,\n",
    "                         bidirectional=bidirectional, rnn_cell='gru', variable_lengths=True)\n",
    "    decoder = DecoderRNN_lenemb_cat_both(len(tgt.vocab), max_len, hidden_size * 2 if bidirectional else hidden_size,\n",
    "                         dropout_p=0.2, use_attention=\"Luong\", bidirectional=bidirectional, rnn_cell='gru',\n",
    "                         eos_id=tgt.eos_id, sos_id=tgt.sos_id)\n",
    "    seq2seq = Seq2seq(encoder, decoder)\n",
    "    if torch.cuda.is_available():\n",
    "        seq2seq.cuda()\n",
    "\n",
    "    for param in seq2seq.parameters():\n",
    "        param.data.uniform_(-0.08, 0.08)\n",
    "\n",
    "    # train\n",
    "    t = SupervisedTrainer_correction(loss=loss, batch_size=32,\n",
    "                          checkpoint_every=50,\n",
    "                          print_every=100,\n",
    "                          hidden_size=hidden_size,\n",
    "                          path=\"gru_copy_length_correction_ctype4_lenemb_cat_order_lenemb_add_both\",\n",
    "                          file_name=i)\n",
    "\n",
    "    seq2seq, ave_loss, character_accuracy_list, sentence_accuracy_list, f1_score_list = t.train(seq2seq, train,\n",
    "                                                                             num_epochs=100, dev_data=dev,\n",
    "                                                                             optimizer=optimizer,\n",
    "                                                                             teacher_forcing_ratio=0.5)\n",
    "\n",
    "    character_accuracy.append(character_accuracy_list)\n",
    "    sentence_accuracy.append(sentence_accuracy_list)\n",
    "    f1_score.append(f1_score_list)"
   ]
  },
  {
   "cell_type": "code",
   "execution_count": 15,
   "metadata": {},
   "outputs": [
    {
     "data": {
      "text/plain": [
       "(0, 1)"
      ]
     },
     "execution_count": 15,
     "metadata": {},
     "output_type": "execute_result"
    },
    {
     "data": {
      "image/png": "[encoded data removed]",
      "text/plain": [
       "<Figure size 1080x504 with 1 Axes>"
      ]
     },
     "metadata": {
      "needs_background": "light"
     },
     "output_type": "display_data"
    }
   ],
   "source": [
    "epochs = list(range(1, 101, 1))\n",
    "plt.figure(figsize=(15,7))\n",
    "plt.plot(epochs[::3], sentence_accuracy[0][::3], '-', LineWidth=3, label=\"LSTM\")\n",
    "plt.plot(epochs[::3], sentence_accuracy[1][::3], '-o', LineWidth=3, label=\"GRU\")\n",
    "plt.legend(loc=\"best\", fontsize=12)\n",
    "plt.xlabel('Epoch', fontsize=24)\n",
    "plt.ylabel('Sentence Accuracy', fontsize=24)\n",
    "plt.ylim([0, 1])\n",
    "#plt.savefig('../../../log/plot/copy_length_correction_ctype4_lenemb_add_order_encoder_inverse_decoder_encoder_decoder/ctype_to_f1_score.png')"
   ]
  },
  {
   "cell_type": "code",
   "execution_count": 16,
   "metadata": {},
   "outputs": [
    {
     "data": {
      "text/plain": [
       "(0, 1)"
      ]
     },
     "execution_count": 16,
     "metadata": {},
     "output_type": "execute_result"
    },
    {
     "data": {
      "image/png": "[encoded data removed]",
      "text/plain": [
       "<Figure size 1080x504 with 1 Axes>"
      ]
     },
     "metadata": {
      "needs_background": "light"
     },
     "output_type": "display_data"
    }
   ],
   "source": [
    "plt.figure(figsize=(15,7))\n",
    "plt.plot(epochs[::3], f1_score[0][::3], '-', LineWidth=3, label=\"LSTM\")\n",
    "plt.plot(epochs[::3], f1_score[1][::3], '-o', LineWidth=3, label=\"GRU\")\n",
    "plt.legend(loc=\"best\", fontsize=12)\n",
    "plt.xlabel('Epoch', fontsize=24)\n",
    "plt.ylabel('F1 Score', fontsize=24)\n",
    "plt.ylim([0, 1])\n",
    "#plt.savefig('../../../log/plot/gru_copy_length_correction_ctype4_lenemb_add_order_encoder_inverse_decoder_encoder_decoder/ctype_to_f1_score.png')"
   ]
  },
  {
   "cell_type": "code",
   "execution_count": 17,
   "metadata": {
    "scrolled": true
   },
   "outputs": [
    {
     "name": "stdout",
     "output_type": "stream",
     "text": [
      "[0, 0, 0.0012154143132909131, 0.008215832130565117, 0.021708015267175574, 0.005994227780655665, 0.015359100086530143, 0.01525218967079432, 0.016980668701540188, 0.010557926347400033, 0.014730804327988529, 0.018806089007320285, 0.0180119466993414, 0.027550130775937227, 0.020306657976880593, 0.02676803168721651, 0.021908526256352347, 0.019446043625663663, 0.02764592687620269, 0.019844861021331605, 0.018029020907848442, 0.03141730516462026, 0.020267398908175607, 0.017224748518671625, 0.019510559839088167, 0.024492512479201332, 0.026642738818332415, 0.02326904837179893, 0.028235007758542003, 0.028257056290862705, 0.04619234410929258, 0.017467797675149232, 0.028912432984426854, 0.03845044005194056, 0.039962207369562935, 0.039205986024364606, 0.033310963333536704, 0.030128933128465495, 0.04139881717665209, 0.048032514317384076, 0.05172893297487716, 0.04424778761061947, 0.01860495693905726, 0.02904901579672757, 0.0297029702970297, 0.042640369457272814, 0.034288574646477284, 0.04716041182331451, 0.05621366166091472, 0.057938924255005075, 0.03609177623098737, 0.05530584908468522, 0.05765925925925925, 0.055989012594605654, 0.04585505655660234, 0.0481264637002342, 0.052022785398744484, 0.06298607777244358, 0.06222562682301642, 0.03944089942266788, 0.0663977087247082, 0.06558752578400867, 0.05775135558894623, 0.04978897388551833, 0.032489082969432315, 0.05608993627509919, 0.06952389884022632, 0.05903483801003118, 0.03774173424828447, 0.03780143384749077, 0.0526883768171142, 0.022431772215071838, 0.03537643436887769, 0.030997793850707923, 0.053603955243299514, 0.027257643991467174, 0.026081195036742562, 0.05397828939520458, 0.04876959991071927, 0.034164539564107595, 0.06475814412635734, 0.0176072531371132, 0.057942366494733916, 0.018483379014688314, 0.028662608592872764, 0.04746224594072897, 0.0572029084299023, 0.05790283706478497, 0.03546544660745791, 0.024189082854894645, 0.03623273238117537, 0.026362038664323375, 0.050872093023255814, 0.05754623746999859, 0.05588293343107677, 0.04549304295220811, 0.02252729930354533, 0.034391321815990354, 0.03179670956181788, 0.046725178834153516]\n",
      "[0, 0.0060493651020116996, 0.007489113675257121, 0.008153835700210641, 0.01477349181430814, 0.016601422979112494, 0.016016241822693435, 0.014650080839410036, 0.02073504572194071, 0.032049488638129876, 0.03327918380979853, 0.029453094261143276, 0.022726129009531287, 0.02528256690520044, 0.013747313901592374, 0.0298443547722968, 0.03441269514672977, 0.025467557113676858, 0.0388655286214464, 0.042709239454877285, 0.029429644755506374, 0.038637614617315776, 0.03127752741571025, 0.030910572719863676, 0.0350640782695358, 0.025899170972615435, 0.02634364005606247, 0.021182135749377204, 0.01501102074941096, 0.028576310842961743, 0.025426707210855246, 0.018960341286143153, 0.014530744767202033, 0.018721109399075505, 0.01802442182224366, 0.022956628919189585, 0.028582161976019788, 0.016962942873345002, 0.018213513701973362, 0.01653497219783436, 0.012455159604494052, 0.01595998970323245, 0.011350173324167386, 0.014924058437881438, 0.014258203568376884, 0.01434742767377929, 0.014071678437066863, 0.014194047571403795, 0.01420887854218512, 0.014602669971575983, 0.015009128987219416, 0.015617426894286175, 0.01634877384196185, 0.015171910931628247, 0.016475972540045767, 0.019918718776605143, 0.01675554033560002, 0.017427520713642203, 0.01761125036622286, 0.01247756417187466, 0.01782927815985667, 0.00979275454505111, 0.010764608537780563, 0.015122345916687591, 0.009664367013070182, 0.011681224837562034, 0.016973319493081774, 0.018478403963761266, 0.010398875797211113, 0.009342074455631, 0.017413874926150836, 0.017159255065786905, 0.01719853646128862, 0.017119977909705923, 0.017087924599285195, 0.017297793384142692, 0.017237024238933852, 0.01679556204856819, 0.016792245262262074, 0.01644359464627151, 0.016423337248979136, 0.012505935088241684, 0.01328508937732894, 0.010979247318652028, 0.011748977819413135, 0.01568489347004565, 0.01761466943480896, 0.017305219850861402, 0.017626398123307022, 0.01764240403699716, 0.01757460119673429, 0.0169202518363064, 0.01690081335164255, 0.015429472245085864, 0.016587933303134232, 0.008855252657862897, 0.013588823574318652, 0.013785801727085241, 0.013938060509945387, 0.01387130260200997]\n"
     ]
    }
   ],
   "source": [
    "print(f1_score[0])\n",
    "print(f1_score[1])"
   ]
  },
  {
   "cell_type": "code",
   "execution_count": null,
   "metadata": {},
   "outputs": [],
   "source": []
  }
 ],
 "metadata": {
  "kernelspec": {
   "display_name": "Python 3",
   "language": "python",
   "name": "python3"
  },
  "language_info": {
   "codemirror_mode": {
    "name": "ipython",
    "version": 3
   },
   "file_extension": ".py",
   "mimetype": "text/x-python",
   "name": "python",
   "nbconvert_exporter": "python",
   "pygments_lexer": "ipython3",
   "version": "3.6.7"
  }
 },
 "nbformat": 4,
 "nbformat_minor": 2
}
