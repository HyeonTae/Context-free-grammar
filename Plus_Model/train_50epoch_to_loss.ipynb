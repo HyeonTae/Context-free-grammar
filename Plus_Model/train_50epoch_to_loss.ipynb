{
 "cells": [
  {
   "cell_type": "markdown",
   "metadata": {},
   "source": [
    "# Import packages\n",
    "\n",
    "import useful packages for experiments"
   ]
  },
  {
   "cell_type": "code",
   "execution_count": 1,
   "metadata": {},
   "outputs": [
    {
     "name": "stderr",
     "output_type": "stream",
     "text": [
      "/home/hyeontae/hyeontae/venv/lib/python3.5/site-packages/torch/nn/functional.py:52: UserWarning: size_average and reduce args will be deprecated, please use reduction='elementwise_mean' instead.\n",
      "  warnings.warn(warning.format(ret))\n",
      "/home/hyeontae/hyeontae/venv/lib/python3.5/site-packages/torch/nn/functional.py:52: UserWarning: size_average and reduce args will be deprecated, please use reduction='elementwise_mean' instead.\n",
      "  warnings.warn(warning.format(ret))\n"
     ]
    }
   ],
   "source": [
    "import os\n",
    "import argparse\n",
    "import logging\n",
    "\n",
    "import torch\n",
    "from torch.optim.lr_scheduler import StepLR\n",
    "import torchtext\n",
    "\n",
    "from trainer.supervised_trainer import SupervisedTrainer\n",
    "from models.encoderRNN import EncoderRNN\n",
    "from models.decoderRNN import DecoderRNN\n",
    "from models.seq2seq import Seq2seq\n",
    "from loss.loss import Perplexity\n",
    "from optim.optim import Optimizer\n",
    "from dataset import fields\n",
    "from evaluator.predictor import Predictor\n",
    "\n",
    "import matplotlib.pyplot as plt"
   ]
  },
  {
   "cell_type": "markdown",
   "metadata": {},
   "source": [
    "# Data load"
   ]
  },
  {
   "cell_type": "code",
   "execution_count": 2,
   "metadata": {},
   "outputs": [],
   "source": [
    "train_path = \"data4/grammar_data_train.txt\"\n",
    "dev_path = \"data4/grammar_data_test.txt\"\n",
    "log_level = 'info'"
   ]
  },
  {
   "cell_type": "markdown",
   "metadata": {},
   "source": [
    "# Log format"
   ]
  },
  {
   "cell_type": "code",
   "execution_count": 3,
   "metadata": {},
   "outputs": [],
   "source": [
    "LOG_FORMAT = '%(asctime)s %(levelname)-6s %(message)s'\n",
    "logging.basicConfig(format=LOG_FORMAT, level=getattr(logging, log_level.upper()))"
   ]
  },
  {
   "cell_type": "markdown",
   "metadata": {},
   "source": [
    "# Prepare dataset"
   ]
  },
  {
   "cell_type": "code",
   "execution_count": 4,
   "metadata": {},
   "outputs": [],
   "source": [
    "src = fields.SourceField()\n",
    "tgt = fields.TargetField()\n",
    "max_len = 100\n",
    "def len_filter(example):\n",
    "    return len(example.src) <= max_len and len(example.tgt) <= max_len\n",
    "train = torchtext.data.TabularDataset(\n",
    "    path=train_path, format='tsv',\n",
    "    fields=[('src', src), ('tgt', tgt)],\n",
    "    filter_pred=len_filter\n",
    ")\n",
    "dev = torchtext.data.TabularDataset(\n",
    "    path=dev_path, format='tsv',\n",
    "    fields=[('src', src), ('tgt', tgt)],\n",
    "    filter_pred=len_filter\n",
    ")\n",
    "src.build_vocab(train)\n",
    "tgt.build_vocab(train)\n",
    "input_vocab = src.vocab\n",
    "output_vocab = tgt.vocab"
   ]
  },
  {
   "cell_type": "markdown",
   "metadata": {},
   "source": [
    "# Prepare loss"
   ]
  },
  {
   "cell_type": "code",
   "execution_count": 5,
   "metadata": {},
   "outputs": [
    {
     "name": "stderr",
     "output_type": "stream",
     "text": [
      "/home/hyeontae/hyeontae/venv/lib/python3.5/site-packages/torch/nn/functional.py:52: UserWarning: size_average and reduce args will be deprecated, please use reduction='sum' instead.\n",
      "  warnings.warn(warning.format(ret))\n"
     ]
    }
   ],
   "source": [
    "weight = torch.ones(len(tgt.vocab))\n",
    "pad = tgt.vocab.stoi[tgt.pad_token]\n",
    "loss = Perplexity(weight, pad)\n",
    "if torch.cuda.is_available():\n",
    "    loss.cuda()"
   ]
  },
  {
   "cell_type": "markdown",
   "metadata": {},
   "source": [
    "# Variable definition"
   ]
  },
  {
   "cell_type": "code",
   "execution_count": 6,
   "metadata": {},
   "outputs": [
    {
     "name": "stdout",
     "output_type": "stream",
     "text": [
      "[50]\n"
     ]
    }
   ],
   "source": [
    "seq2seq = None\n",
    "optimizer = \"Adam\"\n",
    "\n",
    "hidden_sizes = list(range(50, 51, 4))\n",
    "print(hidden_sizes)\n",
    "error_rate = []\n",
    "accuracy = []\n",
    "losses = []"
   ]
  },
  {
   "cell_type": "markdown",
   "metadata": {},
   "source": [
    "# Initialize model"
   ]
  },
  {
   "cell_type": "code",
   "execution_count": 7,
   "metadata": {},
   "outputs": [
    {
     "name": "stderr",
     "output_type": "stream",
     "text": [
      "/home/hyeontae/hyeontae/venv/lib/python3.5/site-packages/torch/nn/modules/rnn.py:38: UserWarning: dropout option adds dropout after all but last recurrent layer, so non-zero dropout expects num_layers greater than 1, but got dropout=0.2 and num_layers=1\n",
      "  \"num_layers={}\".format(dropout, num_layers))\n",
      "2019-01-22 16:37:35,751 INFO   Optimizer: Adam (\n",
      "Parameter Group 0\n",
      "    amsgrad: False\n",
      "    betas: (0.9, 0.999)\n",
      "    eps: 1e-08\n",
      "    lr: 0.001\n",
      "    weight_decay: 0\n",
      "), Scheduler: None\n"
     ]
    },
    {
     "name": "stdout",
     "output_type": "stream",
     "text": [
      "Hidden size is 50\n"
     ]
    },
    {
     "name": "stderr",
     "output_type": "stream",
     "text": [
      "2019-01-22 16:38:37,618 INFO   Finished epoch 1: Train loss: 11.1708, Dev loss: 6.6382, Accuracy(Character): 0.3113, Accuracy(Word): 0.0000\n",
      "2019-01-22 16:39:39,440 INFO   Finished epoch 2: Train loss: 5.2818, Dev loss: 8.9843, Accuracy(Character): 0.3308, Accuracy(Word): 0.0000\n",
      "2019-01-22 16:40:40,695 INFO   Finished epoch 3: Train loss: 5.2176, Dev loss: 13.9293, Accuracy(Character): 0.3424, Accuracy(Word): 0.0000\n",
      "2019-01-22 16:41:41,929 INFO   Finished epoch 4: Train loss: 4.8456, Dev loss: 8.0760, Accuracy(Character): 0.3852, Accuracy(Word): 0.0000\n",
      "2019-01-22 16:42:42,432 INFO   Finished epoch 5: Train loss: 4.6137, Dev loss: 10.9884, Accuracy(Character): 0.4151, Accuracy(Word): 0.0000\n",
      "2019-01-22 16:43:41,234 INFO   Finished epoch 6: Train loss: 3.7578, Dev loss: 6.7923, Accuracy(Character): 0.5103, Accuracy(Word): 0.0000\n",
      "2019-01-22 16:44:43,061 INFO   Finished epoch 7: Train loss: 3.2389, Dev loss: 4.5001, Accuracy(Character): 0.5524, Accuracy(Word): 0.0004\n",
      "2019-01-22 16:45:43,574 INFO   Finished epoch 8: Train loss: 2.7190, Dev loss: 4.3393, Accuracy(Character): 0.5770, Accuracy(Word): 0.0018\n",
      "2019-01-22 16:46:44,223 INFO   Finished epoch 9: Train loss: 2.5014, Dev loss: 3.7375, Accuracy(Character): 0.6056, Accuracy(Word): 0.0093\n",
      "2019-01-22 16:47:44,657 INFO   Finished epoch 10: Train loss: 2.3460, Dev loss: 3.2186, Accuracy(Character): 0.6232, Accuracy(Word): 0.0094\n",
      "2019-01-22 16:48:46,250 INFO   Finished epoch 11: Train loss: 2.3104, Dev loss: 4.3475, Accuracy(Character): 0.5653, Accuracy(Word): 0.0094\n",
      "2019-01-22 16:49:48,069 INFO   Finished epoch 12: Train loss: 2.2779, Dev loss: 3.6670, Accuracy(Character): 0.6218, Accuracy(Word): 0.0094\n",
      "2019-01-22 16:50:48,367 INFO   Finished epoch 13: Train loss: 2.1043, Dev loss: 3.1384, Accuracy(Character): 0.6435, Accuracy(Word): 0.0256\n",
      "2019-01-22 16:51:49,644 INFO   Finished epoch 14: Train loss: 2.0870, Dev loss: 3.1051, Accuracy(Character): 0.6499, Accuracy(Word): 0.0256\n",
      "2019-01-22 16:52:51,462 INFO   Finished epoch 15: Train loss: 2.0562, Dev loss: 2.7791, Accuracy(Character): 0.6639, Accuracy(Word): 0.0113\n",
      "2019-01-22 16:53:52,899 INFO   Finished epoch 16: Train loss: 1.9987, Dev loss: 2.8841, Accuracy(Character): 0.6635, Accuracy(Word): 0.0256\n",
      "2019-01-22 16:54:54,334 INFO   Finished epoch 17: Train loss: 1.9457, Dev loss: 2.7205, Accuracy(Character): 0.6673, Accuracy(Word): 0.0257\n",
      "2019-01-22 16:55:55,295 INFO   Finished epoch 18: Train loss: 1.9210, Dev loss: 3.1577, Accuracy(Character): 0.6394, Accuracy(Word): 0.0256\n",
      "2019-01-22 16:56:54,855 INFO   Finished epoch 19: Train loss: 1.8469, Dev loss: 3.1983, Accuracy(Character): 0.6646, Accuracy(Word): 0.0288\n",
      "2019-01-22 16:57:56,324 INFO   Finished epoch 20: Train loss: 1.8824, Dev loss: 2.6467, Accuracy(Character): 0.6811, Accuracy(Word): 0.0104\n",
      "2019-01-22 16:58:57,422 INFO   Finished epoch 21: Train loss: 1.8223, Dev loss: 2.9315, Accuracy(Character): 0.6767, Accuracy(Word): 0.0308\n",
      "2019-01-22 16:59:58,729 INFO   Finished epoch 22: Train loss: 1.8360, Dev loss: 2.5753, Accuracy(Character): 0.6865, Accuracy(Word): 0.0262\n",
      "2019-01-22 17:00:58,953 INFO   Finished epoch 23: Train loss: 1.7782, Dev loss: 2.4708, Accuracy(Character): 0.6975, Accuracy(Word): 0.0295\n",
      "2019-01-22 17:01:58,808 INFO   Finished epoch 24: Train loss: 1.7537, Dev loss: 2.6085, Accuracy(Character): 0.7010, Accuracy(Word): 0.0427\n",
      "2019-01-22 17:02:59,557 INFO   Finished epoch 25: Train loss: 1.7744, Dev loss: 2.3980, Accuracy(Character): 0.7051, Accuracy(Word): 0.0108\n",
      "2019-01-22 17:03:59,857 INFO   Finished epoch 26: Train loss: 1.7586, Dev loss: 2.4464, Accuracy(Character): 0.7004, Accuracy(Word): 0.0094\n",
      "2019-01-22 17:05:00,851 INFO   Finished epoch 27: Train loss: 1.7176, Dev loss: 2.3734, Accuracy(Character): 0.7038, Accuracy(Word): 0.0027\n",
      "2019-01-22 17:06:02,798 INFO   Finished epoch 28: Train loss: 1.7159, Dev loss: 2.3961, Accuracy(Character): 0.7100, Accuracy(Word): 0.0428\n",
      "2019-01-22 17:07:04,734 INFO   Finished epoch 29: Train loss: 1.7205, Dev loss: 2.3626, Accuracy(Character): 0.7170, Accuracy(Word): 0.0428\n",
      "2019-01-22 17:08:04,990 INFO   Finished epoch 30: Train loss: 1.6810, Dev loss: 2.4687, Accuracy(Character): 0.7077, Accuracy(Word): 0.0428\n",
      "2019-01-22 17:09:06,082 INFO   Finished epoch 31: Train loss: 1.6724, Dev loss: 2.2034, Accuracy(Character): 0.7327, Accuracy(Word): 0.0428\n",
      "2019-01-22 17:10:07,240 INFO   Finished epoch 32: Train loss: 1.6627, Dev loss: 2.1700, Accuracy(Character): 0.7303, Accuracy(Word): 0.0433\n",
      "2019-01-22 17:11:08,427 INFO   Finished epoch 33: Train loss: 1.6128, Dev loss: 2.1824, Accuracy(Character): 0.7332, Accuracy(Word): 0.0427\n",
      "2019-01-22 17:12:10,379 INFO   Finished epoch 34: Train loss: 1.6414, Dev loss: 2.2277, Accuracy(Character): 0.7282, Accuracy(Word): 0.0262\n",
      "2019-01-22 17:13:12,094 INFO   Finished epoch 35: Train loss: 1.6456, Dev loss: 2.6803, Accuracy(Character): 0.7079, Accuracy(Word): 0.0257\n",
      "2019-01-22 17:14:13,542 INFO   Finished epoch 36: Train loss: 1.6277, Dev loss: 2.0869, Accuracy(Character): 0.7426, Accuracy(Word): 0.0257\n",
      "2019-01-22 17:15:13,627 INFO   Finished epoch 37: Train loss: 1.5751, Dev loss: 2.1391, Accuracy(Character): 0.7388, Accuracy(Word): 0.0283\n",
      "2019-01-22 17:16:14,069 INFO   Finished epoch 38: Train loss: 1.6001, Dev loss: 2.1532, Accuracy(Character): 0.7396, Accuracy(Word): 0.0262\n",
      "2019-01-22 17:17:15,526 INFO   Finished epoch 39: Train loss: 1.6144, Dev loss: 2.1940, Accuracy(Character): 0.7188, Accuracy(Word): 0.0099\n",
      "2019-01-22 17:18:17,647 INFO   Finished epoch 40: Train loss: 1.5871, Dev loss: 2.0934, Accuracy(Character): 0.7460, Accuracy(Word): 0.0439\n",
      "2019-01-22 17:19:19,344 INFO   Finished epoch 41: Train loss: 1.5939, Dev loss: 2.1787, Accuracy(Character): 0.7490, Accuracy(Word): 0.0305\n",
      "2019-01-22 17:20:21,719 INFO   Finished epoch 42: Train loss: 1.5840, Dev loss: 2.0491, Accuracy(Character): 0.7516, Accuracy(Word): 0.0428\n",
      "2019-01-22 17:21:22,976 INFO   Finished epoch 43: Train loss: 1.5445, Dev loss: 2.1179, Accuracy(Character): 0.7504, Accuracy(Word): 0.0446\n",
      "2019-01-22 17:22:24,431 INFO   Finished epoch 44: Train loss: 1.5660, Dev loss: 1.9600, Accuracy(Character): 0.7633, Accuracy(Word): 0.0440\n",
      "2019-01-22 17:23:24,950 INFO   Finished epoch 45: Train loss: 1.5382, Dev loss: 2.0778, Accuracy(Character): 0.7435, Accuracy(Word): 0.0446\n",
      "2019-01-22 17:24:25,101 INFO   Finished epoch 46: Train loss: 1.5341, Dev loss: 2.2320, Accuracy(Character): 0.7450, Accuracy(Word): 0.0434\n",
      "2019-01-22 17:25:25,164 INFO   Finished epoch 47: Train loss: 1.5320, Dev loss: 2.0081, Accuracy(Character): 0.7584, Accuracy(Word): 0.0465\n",
      "2019-01-22 17:26:26,888 INFO   Finished epoch 48: Train loss: 1.5370, Dev loss: 2.1376, Accuracy(Character): 0.7439, Accuracy(Word): 0.0262\n",
      "2019-01-22 17:27:28,168 INFO   Finished epoch 49: Train loss: 1.5313, Dev loss: 2.0601, Accuracy(Character): 0.7542, Accuracy(Word): 0.0434\n",
      "2019-01-22 17:28:28,401 INFO   Finished epoch 50: Train loss: 1.5212, Dev loss: 2.1082, Accuracy(Character): 0.7492, Accuracy(Word): 0.0446\n"
     ]
    },
    {
     "data": {
      "image/png": "[encoded data removed]",
      "text/plain": [
       "<Figure size 432x288 with 1 Axes>"
      ]
     },
     "metadata": {
      "needs_background": "light"
     },
     "output_type": "display_data"
    }
   ],
   "source": [
    "for i in hidden_sizes:\n",
    "    print(\"Hidden size is %d\" % i)\n",
    "    hidden_size = i\n",
    "    bidirectional = True\n",
    "    encoder = EncoderRNN(len(src.vocab), max_len, hidden_size,\n",
    "                        bidirectional=bidirectional, variable_lengths=True)\n",
    "    decoder = DecoderRNN(len(tgt.vocab), max_len, hidden_size * 2 if bidirectional else hidden_size,\n",
    "                        dropout_p=0.2, use_attention=False, bidirectional=bidirectional,\n",
    "                        eos_id=tgt.eos_id, sos_id=tgt.sos_id)\n",
    "    seq2seq = Seq2seq(encoder, decoder)\n",
    "    if torch.cuda.is_available():\n",
    "        seq2seq.cuda()\n",
    "\n",
    "    for param in seq2seq.parameters():\n",
    "        param.data.uniform_(-0.08, 0.08)\n",
    "\n",
    "    # train\n",
    "    t = SupervisedTrainer(loss=loss, batch_size=32,\n",
    "                        checkpoint_every=50,\n",
    "                        print_every=100)\n",
    "\n",
    "    seq2seq, ave_loss, character_accuracy = t.train(seq2seq, train,\n",
    "                                                    num_epochs=50, dev_data=dev,\n",
    "                                                    optimizer=optimizer,\n",
    "                                                    teacher_forcing_ratio=0.5)\n",
    "\n",
    "    losses.append(ave_loss/100)\n",
    "    error_rate.append(1 - character_accuracy)\n",
    "    accuracy.append(character_accuracy)"
   ]
  },
  {
   "cell_type": "code",
   "execution_count": 8,
   "metadata": {},
   "outputs": [],
   "source": [
    "torch.save(seq2seq.state_dict(), 'log/model_save.pth')"
   ]
  }
 ],
 "metadata": {
  "kernelspec": {
   "display_name": "Python 3",
   "language": "python",
   "name": "python3"
  },
  "language_info": {
   "codemirror_mode": {
    "name": "ipython",
    "version": 3
   },
   "file_extension": ".py",
   "mimetype": "text/x-python",
   "name": "python",
   "nbconvert_exporter": "python",
   "pygments_lexer": "ipython3",
   "version": "3.5.2"
  }
 },
 "nbformat": 4,
 "nbformat_minor": 2
}
