{
 "cells": [
  {
   "cell_type": "markdown",
   "metadata": {},
   "source": [
    "# Set Parameter\n",
    "- Attention = Luong\n",
    "- Drop out = 0.2\n",
    "- Teacher Forcing Ratio = 0.5\n",
    "- Layer = 1\n",
    "- Hidden unit = 50\n",
    "- Batch size = 32\n",
    "- Epochs = 50"
   ]
  },
  {
   "cell_type": "markdown",
   "metadata": {},
   "source": [
    "# Import packages\n",
    "\n",
    "import useful packages for experiments"
   ]
  },
  {
   "cell_type": "code",
   "execution_count": 1,
   "metadata": {},
   "outputs": [
    {
     "name": "stderr",
     "output_type": "stream",
     "text": [
      "/home/hyeontae/hyeontae/venv/lib/python3.5/site-packages/torch/nn/functional.py:52: UserWarning: size_average and reduce args will be deprecated, please use reduction='elementwise_mean' instead.\n",
      "  warnings.warn(warning.format(ret))\n",
      "/home/hyeontae/hyeontae/venv/lib/python3.5/site-packages/torch/nn/functional.py:52: UserWarning: size_average and reduce args will be deprecated, please use reduction='elementwise_mean' instead.\n",
      "  warnings.warn(warning.format(ret))\n"
     ]
    }
   ],
   "source": [
    "import os\n",
    "import argparse\n",
    "import logging\n",
    "\n",
    "import torch\n",
    "from torch.optim.lr_scheduler import StepLR\n",
    "import torchtext\n",
    "\n",
    "from trainer.supervised_trainer import SupervisedTrainer\n",
    "from models.encoderRNN import EncoderRNN\n",
    "from models.decoderRNN import DecoderRNN\n",
    "from models.seq2seq import Seq2seq\n",
    "from loss.loss import Perplexity\n",
    "from optim.optim import Optimizer\n",
    "from dataset import fields\n",
    "from evaluator.predictor import Predictor\n",
    "\n",
    "import matplotlib.pyplot as plt"
   ]
  },
  {
   "cell_type": "markdown",
   "metadata": {},
   "source": [
    "# Data load"
   ]
  },
  {
   "cell_type": "code",
   "execution_count": 2,
   "metadata": {},
   "outputs": [],
   "source": [
    "train_path = \"data/grammar_data_N100_train.txt\"\n",
    "dev_path = \"data/grammar_data_N100_test.txt\"\n",
    "log_level = 'info'"
   ]
  },
  {
   "cell_type": "markdown",
   "metadata": {},
   "source": [
    "# Log format"
   ]
  },
  {
   "cell_type": "code",
   "execution_count": 3,
   "metadata": {},
   "outputs": [],
   "source": [
    "LOG_FORMAT = '%(asctime)s %(levelname)-6s %(message)s'\n",
    "logging.basicConfig(format=LOG_FORMAT, level=getattr(logging, log_level.upper()))"
   ]
  },
  {
   "cell_type": "markdown",
   "metadata": {},
   "source": [
    "# Prepare dataset"
   ]
  },
  {
   "cell_type": "code",
   "execution_count": 4,
   "metadata": {},
   "outputs": [],
   "source": [
    "src = fields.SourceField()\n",
    "tgt = fields.TargetField()\n",
    "max_len = 102\n",
    "def len_filter(example):\n",
    "    return len(example.src) <= max_len and len(example.tgt) <= max_len\n",
    "train = torchtext.data.TabularDataset(\n",
    "    path=train_path, format='tsv',\n",
    "    fields=[('src', src), ('tgt', tgt)],\n",
    "    filter_pred=len_filter\n",
    ")\n",
    "dev = torchtext.data.TabularDataset(\n",
    "    path=dev_path, format='tsv',\n",
    "    fields=[('src', src), ('tgt', tgt)],\n",
    "    filter_pred=len_filter\n",
    ")\n",
    "src.build_vocab(train)\n",
    "tgt.build_vocab(train)\n",
    "input_vocab = src.vocab\n",
    "output_vocab = tgt.vocab"
   ]
  },
  {
   "cell_type": "markdown",
   "metadata": {},
   "source": [
    "# Prepare loss"
   ]
  },
  {
   "cell_type": "code",
   "execution_count": 5,
   "metadata": {},
   "outputs": [
    {
     "name": "stderr",
     "output_type": "stream",
     "text": [
      "/home/hyeontae/hyeontae/venv/lib/python3.5/site-packages/torch/nn/functional.py:52: UserWarning: size_average and reduce args will be deprecated, please use reduction='sum' instead.\n",
      "  warnings.warn(warning.format(ret))\n"
     ]
    }
   ],
   "source": [
    "weight = torch.ones(len(tgt.vocab))\n",
    "pad = tgt.vocab.stoi[tgt.pad_token]\n",
    "loss = Perplexity(weight, pad)\n",
    "if torch.cuda.is_available():\n",
    "    loss.cuda()"
   ]
  },
  {
   "cell_type": "markdown",
   "metadata": {},
   "source": [
    "# Variable definition"
   ]
  },
  {
   "cell_type": "code",
   "execution_count": 6,
   "metadata": {},
   "outputs": [
    {
     "name": "stdout",
     "output_type": "stream",
     "text": [
      "[50]\n"
     ]
    }
   ],
   "source": [
    "seq2seq = None\n",
    "optimizer = \"Adam\"\n",
    "\n",
    "hidden_sizes = list(range(50, 51, 4))\n",
    "print(hidden_sizes)\n",
    "error_rate = []\n",
    "accuracy = []\n",
    "losses = []"
   ]
  },
  {
   "cell_type": "markdown",
   "metadata": {},
   "source": [
    "# Initialize model"
   ]
  },
  {
   "cell_type": "code",
   "execution_count": 7,
   "metadata": {},
   "outputs": [
    {
     "name": "stderr",
     "output_type": "stream",
     "text": [
      "/home/hyeontae/hyeontae/venv/lib/python3.5/site-packages/torch/nn/modules/rnn.py:38: UserWarning: dropout option adds dropout after all but last recurrent layer, so non-zero dropout expects num_layers greater than 1, but got dropout=0.2 and num_layers=1\n",
      "  \"num_layers={}\".format(dropout, num_layers))\n",
      "2019-02-13 09:44:36,713 INFO   Optimizer: Adam (\n",
      "Parameter Group 0\n",
      "    amsgrad: False\n",
      "    betas: (0.9, 0.999)\n",
      "    eps: 1e-08\n",
      "    lr: 0.001\n",
      "    weight_decay: 0\n",
      "), Scheduler: None\n"
     ]
    },
    {
     "name": "stdout",
     "output_type": "stream",
     "text": [
      "Hidden size is 50\n"
     ]
    },
    {
     "name": "stderr",
     "output_type": "stream",
     "text": [
      "/home/hyeontae/hyeontae/venv/lib/python3.5/site-packages/torch/nn/functional.py:995: UserWarning: nn.functional.tanh is deprecated. Use torch.tanh instead.\n",
      "  warnings.warn(\"nn.functional.tanh is deprecated. Use torch.tanh instead.\")\n",
      "2019-02-13 09:51:49,803 INFO   Finished epoch 1: Train loss: 23.9565, Dev loss: 17.2285, Accuracy(Character): 0.1699, Accuracy(Word): 0.0000\n",
      "2019-02-13 09:58:52,072 INFO   Finished epoch 2: Train loss: 10.5984, Dev loss: 13.3294, Accuracy(Character): 0.2318, Accuracy(Word): 0.0000\n",
      "2019-02-13 10:06:03,685 INFO   Finished epoch 3: Train loss: 6.6447, Dev loss: 6.8176, Accuracy(Character): 0.3505, Accuracy(Word): 0.0000\n",
      "2019-02-13 10:13:19,611 INFO   Finished epoch 4: Train loss: 3.0218, Dev loss: 3.6699, Accuracy(Character): 0.5222, Accuracy(Word): 0.0000\n",
      "2019-02-13 10:20:21,196 INFO   Finished epoch 5: Train loss: 2.1356, Dev loss: 2.7262, Accuracy(Character): 0.6453, Accuracy(Word): 0.0000\n",
      "2019-02-13 10:27:20,345 INFO   Finished epoch 6: Train loss: 1.8154, Dev loss: 2.9922, Accuracy(Character): 0.6653, Accuracy(Word): 0.0000\n",
      "2019-02-13 10:34:22,616 INFO   Finished epoch 7: Train loss: 1.6569, Dev loss: 1.6506, Accuracy(Character): 0.7958, Accuracy(Word): 0.0241\n",
      "2019-02-13 10:41:33,938 INFO   Finished epoch 8: Train loss: 1.5172, Dev loss: 1.7010, Accuracy(Character): 0.8023, Accuracy(Word): 0.0000\n",
      "2019-02-13 10:48:35,304 INFO   Finished epoch 9: Train loss: 1.4620, Dev loss: 1.5821, Accuracy(Character): 0.8342, Accuracy(Word): 0.0000\n",
      "2019-02-13 10:55:42,053 INFO   Finished epoch 10: Train loss: 1.4820, Dev loss: 1.5303, Accuracy(Character): 0.8341, Accuracy(Word): 0.0000\n",
      "2019-02-13 11:02:43,648 INFO   Finished epoch 11: Train loss: 1.4098, Dev loss: 1.3842, Accuracy(Character): 0.8816, Accuracy(Word): 0.0000\n",
      "2019-02-13 11:09:48,338 INFO   Finished epoch 12: Train loss: 1.3366, Dev loss: 1.3798, Accuracy(Character): 0.8871, Accuracy(Word): 0.0000\n",
      "2019-02-13 11:16:45,263 INFO   Finished epoch 13: Train loss: 1.3099, Dev loss: 1.4729, Accuracy(Character): 0.8746, Accuracy(Word): 0.0000\n",
      "2019-02-13 11:23:49,146 INFO   Finished epoch 14: Train loss: 1.3109, Dev loss: 1.2660, Accuracy(Character): 0.9057, Accuracy(Word): 0.0000\n",
      "2019-02-13 11:30:55,300 INFO   Finished epoch 15: Train loss: 1.2792, Dev loss: 1.1511, Accuracy(Character): 0.9485, Accuracy(Word): 0.0000\n",
      "2019-02-13 11:38:02,730 INFO   Finished epoch 16: Train loss: 1.3034, Dev loss: 1.1905, Accuracy(Character): 0.9412, Accuracy(Word): 0.0000\n",
      "2019-02-13 11:44:58,693 INFO   Finished epoch 17: Train loss: 1.3024, Dev loss: 1.1704, Accuracy(Character): 0.9424, Accuracy(Word): 0.0249\n",
      "2019-02-13 11:51:49,499 INFO   Finished epoch 18: Train loss: 1.2575, Dev loss: 1.2048, Accuracy(Character): 0.9396, Accuracy(Word): 0.0261\n",
      "2019-02-13 11:58:52,616 INFO   Finished epoch 19: Train loss: 1.1951, Dev loss: 2.0691, Accuracy(Character): 0.8159, Accuracy(Word): 0.0272\n",
      "2019-02-13 12:05:55,581 INFO   Finished epoch 20: Train loss: 1.2280, Dev loss: 1.0859, Accuracy(Character): 0.9738, Accuracy(Word): 0.0400\n",
      "2019-02-13 12:12:59,900 INFO   Finished epoch 21: Train loss: 1.2040, Dev loss: 1.3651, Accuracy(Character): 0.9224, Accuracy(Word): 0.0371\n",
      "2019-02-13 12:20:08,029 INFO   Finished epoch 22: Train loss: 1.1979, Dev loss: 1.0432, Accuracy(Character): 0.9894, Accuracy(Word): 0.0368\n",
      "2019-02-13 12:27:16,824 INFO   Finished epoch 23: Train loss: 1.1816, Dev loss: 1.0513, Accuracy(Character): 0.9843, Accuracy(Word): 0.0183\n",
      "2019-02-13 12:34:21,455 INFO   Finished epoch 24: Train loss: 1.1900, Dev loss: 1.0859, Accuracy(Character): 0.9725, Accuracy(Word): 0.0338\n",
      "2019-02-13 12:41:17,704 INFO   Finished epoch 25: Train loss: 1.1394, Dev loss: 1.0855, Accuracy(Character): 0.9789, Accuracy(Word): 0.0418\n",
      "2019-02-13 12:48:15,300 INFO   Finished epoch 26: Train loss: 1.1817, Dev loss: 1.0932, Accuracy(Character): 0.9771, Accuracy(Word): 0.0158\n",
      "2019-02-13 12:55:22,673 INFO   Finished epoch 27: Train loss: 1.2839, Dev loss: 1.9954, Accuracy(Character): 0.8543, Accuracy(Word): 0.0320\n",
      "2019-02-13 13:02:30,830 INFO   Finished epoch 28: Train loss: 1.1240, Dev loss: 2.3651, Accuracy(Character): 0.8594, Accuracy(Word): 0.0383\n",
      "2019-02-13 13:09:36,880 INFO   Finished epoch 29: Train loss: 1.0983, Dev loss: 1.0221, Accuracy(Character): 0.9932, Accuracy(Word): 0.0255\n",
      "2019-02-13 13:16:38,727 INFO   Finished epoch 30: Train loss: 1.1211, Dev loss: 1.0480, Accuracy(Character): 0.9874, Accuracy(Word): 0.0268\n",
      "2019-02-13 13:23:44,399 INFO   Finished epoch 31: Train loss: 1.1148, Dev loss: 1.0094, Accuracy(Character): 0.9980, Accuracy(Word): 0.0493\n",
      "2019-02-13 13:30:42,010 INFO   Finished epoch 32: Train loss: 1.1013, Dev loss: 1.0379, Accuracy(Character): 0.9886, Accuracy(Word): 0.0223\n",
      "2019-02-13 13:37:37,980 INFO   Finished epoch 33: Train loss: 1.0779, Dev loss: 1.0580, Accuracy(Character): 0.9879, Accuracy(Word): 0.0000\n",
      "2019-02-13 13:44:40,718 INFO   Finished epoch 34: Train loss: 1.0961, Dev loss: 1.0286, Accuracy(Character): 0.9943, Accuracy(Word): 0.0000\n",
      "2019-02-13 13:51:48,385 INFO   Finished epoch 35: Train loss: 1.0817, Dev loss: 1.3039, Accuracy(Character): 0.9573, Accuracy(Word): 0.0000\n",
      "2019-02-13 13:58:44,475 INFO   Finished epoch 36: Train loss: 1.0718, Dev loss: 1.0086, Accuracy(Character): 0.9976, Accuracy(Word): 0.0000\n",
      "2019-02-13 14:05:42,798 INFO   Finished epoch 37: Train loss: 1.0645, Dev loss: 1.8865, Accuracy(Character): 0.9077, Accuracy(Word): 0.0000\n",
      "2019-02-13 14:12:53,499 INFO   Finished epoch 38: Train loss: 1.1347, Dev loss: 1.0036, Accuracy(Character): 0.9993, Accuracy(Word): 0.0000\n",
      "2019-02-13 14:19:58,198 INFO   Finished epoch 39: Train loss: 1.0616, Dev loss: 1.0087, Accuracy(Character): 0.9982, Accuracy(Word): 0.0000\n",
      "2019-02-13 14:27:05,383 INFO   Finished epoch 40: Train loss: 1.0714, Dev loss: 1.0078, Accuracy(Character): 0.9985, Accuracy(Word): 0.0000\n",
      "2019-02-13 14:34:13,011 INFO   Finished epoch 41: Train loss: 1.1087, Dev loss: 1.0050, Accuracy(Character): 0.9989, Accuracy(Word): 0.0000\n",
      "2019-02-13 14:41:24,740 INFO   Finished epoch 42: Train loss: 1.0308, Dev loss: 1.0845, Accuracy(Character): 0.9853, Accuracy(Word): 0.0000\n",
      "2019-02-13 14:48:29,134 INFO   Finished epoch 43: Train loss: 1.0339, Dev loss: 1.0562, Accuracy(Character): 0.9914, Accuracy(Word): 0.0000\n",
      "2019-02-13 14:55:22,845 INFO   Finished epoch 44: Train loss: 1.0531, Dev loss: 1.2283, Accuracy(Character): 0.9709, Accuracy(Word): 0.0000\n",
      "2019-02-13 15:02:24,355 INFO   Finished epoch 45: Train loss: 1.0909, Dev loss: 1.0046, Accuracy(Character): 0.9990, Accuracy(Word): 0.0000\n",
      "2019-02-13 15:08:16,586 INFO   Finished epoch 46: Train loss: 1.0654, Dev loss: 1.0098, Accuracy(Character): 0.9987, Accuracy(Word): 0.0000\n",
      "2019-02-13 15:13:59,176 INFO   Finished epoch 47: Train loss: 1.0902, Dev loss: 1.0084, Accuracy(Character): 0.9985, Accuracy(Word): 0.0000\n",
      "2019-02-13 15:19:45,544 INFO   Finished epoch 48: Train loss: 1.0452, Dev loss: 1.0110, Accuracy(Character): 0.9976, Accuracy(Word): 0.0000\n",
      "2019-02-13 15:25:26,985 INFO   Finished epoch 49: Train loss: 1.0229, Dev loss: 1.0178, Accuracy(Character): 0.9970, Accuracy(Word): 0.0000\n",
      "2019-02-13 15:31:10,933 INFO   Finished epoch 50: Train loss: 1.0299, Dev loss: 1.0128, Accuracy(Character): 0.9978, Accuracy(Word): 0.0000\n"
     ]
    },
    {
     "data": {
      "image/png": "[encoded data removed]",
      "text/plain": [
       "<Figure size 432x288 with 1 Axes>"
      ]
     },
     "metadata": {
      "needs_background": "light"
     },
     "output_type": "display_data"
    },
    {
     "data": {
      "image/png": "[encoded data removed]",
      "text/plain": [
       "<Figure size 432x288 with 1 Axes>"
      ]
     },
     "metadata": {
      "needs_background": "light"
     },
     "output_type": "display_data"
    }
   ],
   "source": [
    "for i in hidden_sizes:\n",
    "    print(\"Hidden size is %d\" % i)\n",
    "    hidden_size = i\n",
    "    bidirectional = True\n",
    "    encoder = EncoderRNN(len(src.vocab), max_len, hidden_size,\n",
    "                        bidirectional=bidirectional, variable_lengths=True)\n",
    "    decoder = DecoderRNN(len(tgt.vocab), max_len, hidden_size * 2 if bidirectional else hidden_size,\n",
    "                        dropout_p=0.2, use_attention=\"Luong\", bidirectional=bidirectional,\n",
    "                        eos_id=tgt.eos_id, sos_id=tgt.sos_id)\n",
    "    seq2seq = Seq2seq(encoder, decoder)\n",
    "    if torch.cuda.is_available():\n",
    "        seq2seq.cuda()\n",
    "\n",
    "    for param in seq2seq.parameters():\n",
    "        param.data.uniform_(-0.08, 0.08)\n",
    "\n",
    "    # train\n",
    "    t = SupervisedTrainer(loss=loss, batch_size=32,\n",
    "                        checkpoint_every=50,\n",
    "                        print_every=100,\n",
    "                        hidden_size=hidden_size,\n",
    "                        fig_path=\"log/plot/100N_Luong_att\")\n",
    "\n",
    "    seq2seq, ave_loss, character_accuracy = t.train(seq2seq, train,\n",
    "                                                    num_epochs=50, dev_data=dev,\n",
    "                                                    optimizer=optimizer,\n",
    "                                                    teacher_forcing_ratio=0.5)\n",
    "\n",
    "    losses.append(ave_loss/100)\n",
    "    error_rate.append(1 - character_accuracy)\n",
    "    accuracy.append(character_accuracy)"
   ]
  },
  {
   "cell_type": "code",
   "execution_count": 8,
   "metadata": {},
   "outputs": [],
   "source": [
    "torch.save(seq2seq.state_dict(), 'log/100N_Luong_att_model_save.pth')"
   ]
  }
 ],
 "metadata": {
  "kernelspec": {
   "display_name": "Python 3",
   "language": "python",
   "name": "python3"
  },
  "language_info": {
   "codemirror_mode": {
    "name": "ipython",
    "version": 3
   },
   "file_extension": ".py",
   "mimetype": "text/x-python",
   "name": "python",
   "nbconvert_exporter": "python",
   "pygments_lexer": "ipython3",
   "version": "3.5.2"
  }
 },
 "nbformat": 4,
 "nbformat_minor": 2
}
