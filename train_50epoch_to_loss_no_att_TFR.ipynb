{
 "cells": [
  {
   "cell_type": "markdown",
   "metadata": {},
   "source": [
    "# Set Parameter\n",
    "- Attention = None\n",
    "- Drop out = 0.2\n",
    "- Teacher Forcing Ratio = 1\n",
    "- Layer = 1\n",
    "- Hidden unit = 50\n",
    "- Batch size = 32\n",
    "- Epochs = 50"
   ]
  },
  {
   "cell_type": "markdown",
   "metadata": {},
   "source": [
    "# Import packages\n",
    "\n",
    "import useful packages for experiments"
   ]
  },
  {
   "cell_type": "code",
   "execution_count": 1,
   "metadata": {},
   "outputs": [
    {
     "name": "stderr",
     "output_type": "stream",
     "text": [
      "/home/hyeontae/hyeontae/venv/lib/python3.5/site-packages/torch/nn/functional.py:52: UserWarning: size_average and reduce args will be deprecated, please use reduction='elementwise_mean' instead.\n",
      "  warnings.warn(warning.format(ret))\n",
      "/home/hyeontae/hyeontae/venv/lib/python3.5/site-packages/torch/nn/functional.py:52: UserWarning: size_average and reduce args will be deprecated, please use reduction='elementwise_mean' instead.\n",
      "  warnings.warn(warning.format(ret))\n"
     ]
    }
   ],
   "source": [
    "import os\n",
    "import argparse\n",
    "import logging\n",
    "\n",
    "import torch\n",
    "from torch.optim.lr_scheduler import StepLR\n",
    "import torchtext\n",
    "\n",
    "from trainer.supervised_trainer import SupervisedTrainer\n",
    "from models.encoderRNN import EncoderRNN\n",
    "from models.decoderRNN import DecoderRNN\n",
    "from models.seq2seq import Seq2seq\n",
    "from loss.loss import Perplexity\n",
    "from optim.optim import Optimizer\n",
    "from dataset import fields\n",
    "from evaluator.predictor import Predictor\n",
    "\n",
    "import matplotlib.pyplot as plt"
   ]
  },
  {
   "cell_type": "markdown",
   "metadata": {},
   "source": [
    "# Data load"
   ]
  },
  {
   "cell_type": "code",
   "execution_count": 2,
   "metadata": {},
   "outputs": [],
   "source": [
    "train_path = \"data/grammar_data_N100_train.txt\"\n",
    "dev_path = \"data/grammar_data_N100_test.txt\"\n",
    "log_level = 'info'"
   ]
  },
  {
   "cell_type": "markdown",
   "metadata": {},
   "source": [
    "# Log format"
   ]
  },
  {
   "cell_type": "code",
   "execution_count": 3,
   "metadata": {},
   "outputs": [],
   "source": [
    "LOG_FORMAT = '%(asctime)s %(levelname)-6s %(message)s'\n",
    "logging.basicConfig(format=LOG_FORMAT, level=getattr(logging, log_level.upper()))"
   ]
  },
  {
   "cell_type": "markdown",
   "metadata": {},
   "source": [
    "# Prepare dataset"
   ]
  },
  {
   "cell_type": "code",
   "execution_count": 4,
   "metadata": {},
   "outputs": [],
   "source": [
    "src = fields.SourceField()\n",
    "tgt = fields.TargetField()\n",
    "max_len = 102\n",
    "def len_filter(example):\n",
    "    return len(example.src) <= max_len and len(example.tgt) <= max_len\n",
    "train = torchtext.data.TabularDataset(\n",
    "    path=train_path, format='tsv',\n",
    "    fields=[('src', src), ('tgt', tgt)],\n",
    "    filter_pred=len_filter\n",
    ")\n",
    "dev = torchtext.data.TabularDataset(\n",
    "    path=dev_path, format='tsv',\n",
    "    fields=[('src', src), ('tgt', tgt)],\n",
    "    filter_pred=len_filter\n",
    ")\n",
    "src.build_vocab(train)\n",
    "tgt.build_vocab(train)\n",
    "input_vocab = src.vocab\n",
    "output_vocab = tgt.vocab"
   ]
  },
  {
   "cell_type": "markdown",
   "metadata": {},
   "source": [
    "# Prepare loss"
   ]
  },
  {
   "cell_type": "code",
   "execution_count": 5,
   "metadata": {},
   "outputs": [
    {
     "name": "stderr",
     "output_type": "stream",
     "text": [
      "/home/hyeontae/hyeontae/venv/lib/python3.5/site-packages/torch/nn/functional.py:52: UserWarning: size_average and reduce args will be deprecated, please use reduction='sum' instead.\n",
      "  warnings.warn(warning.format(ret))\n"
     ]
    }
   ],
   "source": [
    "weight = torch.ones(len(tgt.vocab))\n",
    "pad = tgt.vocab.stoi[tgt.pad_token]\n",
    "loss = Perplexity(weight, pad)\n",
    "if torch.cuda.is_available():\n",
    "    loss.cuda()"
   ]
  },
  {
   "cell_type": "markdown",
   "metadata": {},
   "source": [
    "# Variable definition"
   ]
  },
  {
   "cell_type": "code",
   "execution_count": 6,
   "metadata": {},
   "outputs": [
    {
     "name": "stdout",
     "output_type": "stream",
     "text": [
      "[50]\n"
     ]
    }
   ],
   "source": [
    "seq2seq = None\n",
    "optimizer = \"Adam\"\n",
    "\n",
    "hidden_sizes = list(range(50, 51, 4))\n",
    "print(hidden_sizes)\n",
    "error_rate = []\n",
    "accuracy = []\n",
    "losses = []"
   ]
  },
  {
   "cell_type": "markdown",
   "metadata": {},
   "source": [
    "# Initialize model"
   ]
  },
  {
   "cell_type": "code",
   "execution_count": 7,
   "metadata": {},
   "outputs": [
    {
     "name": "stderr",
     "output_type": "stream",
     "text": [
      "/home/hyeontae/hyeontae/venv/lib/python3.5/site-packages/torch/nn/modules/rnn.py:38: UserWarning: dropout option adds dropout after all but last recurrent layer, so non-zero dropout expects num_layers greater than 1, but got dropout=0.2 and num_layers=1\n",
      "  \"num_layers={}\".format(dropout, num_layers))\n",
      "2019-02-20 11:13:16,422 INFO   Optimizer: Adam (\n",
      "Parameter Group 0\n",
      "    amsgrad: False\n",
      "    betas: (0.9, 0.999)\n",
      "    eps: 1e-08\n",
      "    lr: 0.001\n",
      "    weight_decay: 0\n",
      "), Scheduler: None\n"
     ]
    },
    {
     "name": "stdout",
     "output_type": "stream",
     "text": [
      "Hidden size is 50\n"
     ]
    },
    {
     "name": "stderr",
     "output_type": "stream",
     "text": [
      "2019-02-20 11:18:46,163 INFO   Finished epoch 1: Train loss: 6.4350, Dev loss: 14970.1181, Accuracy(Character): 0.1598, Accuracy(Word): 0.0000\n",
      "2019-02-20 11:25:04,208 INFO   Finished epoch 2: Train loss: 1.7292, Dev loss: 10199.2039, Accuracy(Character): 0.2471, Accuracy(Word): 0.0000\n",
      "2019-02-20 11:31:35,022 INFO   Finished epoch 3: Train loss: 1.6460, Dev loss: 1908.1254, Accuracy(Character): 0.3147, Accuracy(Word): 0.0003\n",
      "2019-02-20 11:37:58,526 INFO   Finished epoch 4: Train loss: 1.6055, Dev loss: 378.2067, Accuracy(Character): 0.3863, Accuracy(Word): 0.0003\n",
      "2019-02-20 11:44:28,502 INFO   Finished epoch 5: Train loss: 1.5792, Dev loss: 532.5328, Accuracy(Character): 0.3785, Accuracy(Word): 0.0003\n",
      "2019-02-20 11:50:56,276 INFO   Finished epoch 6: Train loss: 1.5590, Dev loss: 184.0899, Accuracy(Character): 0.4254, Accuracy(Word): 0.0056\n",
      "2019-02-20 11:57:03,325 INFO   Finished epoch 7: Train loss: 1.5434, Dev loss: 105.6516, Accuracy(Character): 0.4465, Accuracy(Word): 0.0019\n",
      "2019-02-20 12:03:21,524 INFO   Finished epoch 8: Train loss: 1.5312, Dev loss: 236.2945, Accuracy(Character): 0.4268, Accuracy(Word): 0.0052\n",
      "2019-02-20 12:09:50,435 INFO   Finished epoch 9: Train loss: 1.5203, Dev loss: 50.8441, Accuracy(Character): 0.4765, Accuracy(Word): 0.0054\n",
      "2019-02-20 12:16:26,779 INFO   Finished epoch 10: Train loss: 1.5087, Dev loss: 48.7112, Accuracy(Character): 0.4940, Accuracy(Word): 0.0064\n",
      "2019-02-20 12:22:41,643 INFO   Finished epoch 11: Train loss: 1.4989, Dev loss: 24.8026, Accuracy(Character): 0.5183, Accuracy(Word): 0.0022\n",
      "2019-02-20 12:28:53,802 INFO   Finished epoch 12: Train loss: 1.4919, Dev loss: 26.0895, Accuracy(Character): 0.5170, Accuracy(Word): 0.0054\n",
      "2019-02-20 12:35:24,203 INFO   Finished epoch 13: Train loss: 1.4829, Dev loss: 16.9349, Accuracy(Character): 0.5501, Accuracy(Word): 0.0088\n",
      "2019-02-20 12:41:47,666 INFO   Finished epoch 14: Train loss: 1.4778, Dev loss: 21.7999, Accuracy(Character): 0.5311, Accuracy(Word): 0.0054\n",
      "2019-02-20 12:48:15,806 INFO   Finished epoch 15: Train loss: 1.4697, Dev loss: 18.0535, Accuracy(Character): 0.5280, Accuracy(Word): 0.0054\n",
      "2019-02-20 12:54:34,114 INFO   Finished epoch 16: Train loss: 1.4654, Dev loss: 31.2430, Accuracy(Character): 0.5106, Accuracy(Word): 0.0019\n",
      "2019-02-20 13:01:03,235 INFO   Finished epoch 17: Train loss: 1.4589, Dev loss: 21.1886, Accuracy(Character): 0.5330, Accuracy(Word): 0.0093\n",
      "2019-02-20 13:07:16,859 INFO   Finished epoch 18: Train loss: 1.4509, Dev loss: 14.8020, Accuracy(Character): 0.5593, Accuracy(Word): 0.0019\n",
      "2019-02-20 13:13:43,759 INFO   Finished epoch 19: Train loss: 1.4459, Dev loss: 9.7288, Accuracy(Character): 0.5898, Accuracy(Word): 0.0057\n",
      "2019-02-20 13:20:10,975 INFO   Finished epoch 20: Train loss: 1.4399, Dev loss: 13.6049, Accuracy(Character): 0.5609, Accuracy(Word): 0.0091\n",
      "2019-02-20 13:26:31,809 INFO   Finished epoch 21: Train loss: 1.4352, Dev loss: 11.3477, Accuracy(Character): 0.5755, Accuracy(Word): 0.0000\n",
      "2019-02-20 13:32:46,482 INFO   Finished epoch 22: Train loss: 1.4343, Dev loss: 14.5917, Accuracy(Character): 0.5531, Accuracy(Word): 0.0000\n",
      "2019-02-20 13:39:00,072 INFO   Finished epoch 23: Train loss: 1.4307, Dev loss: 10.3008, Accuracy(Character): 0.5845, Accuracy(Word): 0.0000\n",
      "2019-02-20 13:45:37,290 INFO   Finished epoch 24: Train loss: 1.4242, Dev loss: 8.4378, Accuracy(Character): 0.6054, Accuracy(Word): 0.0000\n",
      "2019-02-20 13:52:07,236 INFO   Finished epoch 25: Train loss: 1.4204, Dev loss: 11.9564, Accuracy(Character): 0.5714, Accuracy(Word): 0.0000\n",
      "2019-02-20 13:58:21,192 INFO   Finished epoch 26: Train loss: 1.4183, Dev loss: 6.9359, Accuracy(Character): 0.6315, Accuracy(Word): 0.0000\n",
      "2019-02-20 14:03:56,758 INFO   Finished epoch 27: Train loss: 1.4136, Dev loss: 8.8262, Accuracy(Character): 0.6136, Accuracy(Word): 0.0000\n",
      "2019-02-20 14:08:59,050 INFO   Finished epoch 28: Train loss: 1.4131, Dev loss: 14.0559, Accuracy(Character): 0.5644, Accuracy(Word): 0.0000\n",
      "2019-02-20 14:14:02,252 INFO   Finished epoch 29: Train loss: 1.4086, Dev loss: 6.7464, Accuracy(Character): 0.6317, Accuracy(Word): 0.0000\n",
      "2019-02-20 14:18:58,040 INFO   Finished epoch 30: Train loss: 1.4070, Dev loss: 7.3805, Accuracy(Character): 0.6210, Accuracy(Word): 0.0000\n",
      "2019-02-20 14:23:46,542 INFO   Finished epoch 31: Train loss: 1.4061, Dev loss: 7.2736, Accuracy(Character): 0.6114, Accuracy(Word): 0.0000\n",
      "2019-02-20 14:28:46,520 INFO   Finished epoch 32: Train loss: 1.3996, Dev loss: 8.1086, Accuracy(Character): 0.6055, Accuracy(Word): 0.0000\n",
      "2019-02-20 14:33:50,254 INFO   Finished epoch 33: Train loss: 1.3961, Dev loss: 6.1925, Accuracy(Character): 0.6340, Accuracy(Word): 0.0000\n",
      "2019-02-20 14:38:48,992 INFO   Finished epoch 34: Train loss: 1.3937, Dev loss: 5.3227, Accuracy(Character): 0.6653, Accuracy(Word): 0.0000\n",
      "2019-02-20 14:43:38,669 INFO   Finished epoch 35: Train loss: 1.3934, Dev loss: 5.9301, Accuracy(Character): 0.6578, Accuracy(Word): 0.0000\n",
      "2019-02-20 14:48:37,828 INFO   Finished epoch 36: Train loss: 1.3899, Dev loss: 5.8547, Accuracy(Character): 0.6458, Accuracy(Word): 0.0000\n",
      "2019-02-20 14:53:39,568 INFO   Finished epoch 37: Train loss: 1.3876, Dev loss: 4.8419, Accuracy(Character): 0.6609, Accuracy(Word): 0.0000\n",
      "2019-02-20 14:58:33,053 INFO   Finished epoch 38: Train loss: 1.3840, Dev loss: 5.0382, Accuracy(Character): 0.6595, Accuracy(Word): 0.0000\n",
      "2019-02-20 15:03:28,667 INFO   Finished epoch 39: Train loss: 1.3806, Dev loss: 5.4651, Accuracy(Character): 0.6658, Accuracy(Word): 0.0000\n",
      "2019-02-20 15:08:29,543 INFO   Finished epoch 40: Train loss: 1.3787, Dev loss: 6.9478, Accuracy(Character): 0.6323, Accuracy(Word): 0.0000\n",
      "2019-02-20 15:12:40,154 INFO   Finished epoch 41: Train loss: 1.3783, Dev loss: 4.8235, Accuracy(Character): 0.6630, Accuracy(Word): 0.0000\n",
      "2019-02-20 15:16:22,028 INFO   Finished epoch 42: Train loss: 1.3735, Dev loss: 4.7224, Accuracy(Character): 0.6698, Accuracy(Word): 0.0000\n",
      "2019-02-20 15:20:08,466 INFO   Finished epoch 43: Train loss: 1.3740, Dev loss: 4.5192, Accuracy(Character): 0.6698, Accuracy(Word): 0.0000\n",
      "2019-02-20 15:23:56,387 INFO   Finished epoch 44: Train loss: 1.3704, Dev loss: 4.2270, Accuracy(Character): 0.6846, Accuracy(Word): 0.0000\n",
      "2019-02-20 15:27:37,594 INFO   Finished epoch 45: Train loss: 1.3690, Dev loss: 4.5629, Accuracy(Character): 0.6717, Accuracy(Word): 0.0000\n",
      "2019-02-20 15:31:23,428 INFO   Finished epoch 46: Train loss: 1.3690, Dev loss: 4.2892, Accuracy(Character): 0.6841, Accuracy(Word): 0.0000\n",
      "2019-02-20 15:35:12,640 INFO   Finished epoch 47: Train loss: 1.3615, Dev loss: 5.4626, Accuracy(Character): 0.6430, Accuracy(Word): 0.0000\n",
      "2019-02-20 15:38:56,371 INFO   Finished epoch 48: Train loss: 1.3597, Dev loss: 4.2597, Accuracy(Character): 0.6850, Accuracy(Word): 0.0000\n",
      "2019-02-20 15:42:40,707 INFO   Finished epoch 49: Train loss: 1.3590, Dev loss: 4.2921, Accuracy(Character): 0.6778, Accuracy(Word): 0.0000\n",
      "2019-02-20 15:46:31,001 INFO   Finished epoch 50: Train loss: 1.3582, Dev loss: 4.5149, Accuracy(Character): 0.6917, Accuracy(Word): 0.0000\n"
     ]
    },
    {
     "data": {
      "image/png": "[encoded data removed]",
      "text/plain": [
       "<Figure size 432x288 with 1 Axes>"
      ]
     },
     "metadata": {
      "needs_background": "light"
     },
     "output_type": "display_data"
    },
    {
     "data": {
      "image/png": "[encoded data removed]",
      "text/plain": [
       "<Figure size 432x288 with 1 Axes>"
      ]
     },
     "metadata": {
      "needs_background": "light"
     },
     "output_type": "display_data"
    }
   ],
   "source": [
    "for i in hidden_sizes:\n",
    "    print(\"Hidden size is %d\" % i)\n",
    "    hidden_size = i\n",
    "    bidirectional = True\n",
    "    encoder = EncoderRNN(len(src.vocab), max_len, hidden_size,\n",
    "                        bidirectional=bidirectional, variable_lengths=True)\n",
    "    decoder = DecoderRNN(len(tgt.vocab), max_len, hidden_size * 2 if bidirectional else hidden_size,\n",
    "                        dropout_p=0.2, use_attention=None, bidirectional=bidirectional,\n",
    "                        eos_id=tgt.eos_id, sos_id=tgt.sos_id)\n",
    "    seq2seq = Seq2seq(encoder, decoder)\n",
    "    if torch.cuda.is_available():\n",
    "        seq2seq.cuda()\n",
    "\n",
    "    for param in seq2seq.parameters():\n",
    "        param.data.uniform_(-0.08, 0.08)\n",
    "\n",
    "    # train\n",
    "    t = SupervisedTrainer(loss=loss, batch_size=32,\n",
    "                        checkpoint_every=50,\n",
    "                        print_every=100,\n",
    "                        hidden_size=hidden_size,\n",
    "                        fig_path=\"log/plot/100N_no_att_TFR\")\n",
    "\n",
    "    seq2seq, ave_loss, character_accuracy = t.train(seq2seq, train,\n",
    "                                                    num_epochs=50, dev_data=dev,\n",
    "                                                    optimizer=optimizer,\n",
    "                                                    teacher_forcing_ratio=1)\n",
    "\n",
    "    losses.append(ave_loss/100)\n",
    "    error_rate.append(1 - character_accuracy)\n",
    "    accuracy.append(character_accuracy)"
   ]
  },
  {
   "cell_type": "code",
   "execution_count": 8,
   "metadata": {},
   "outputs": [],
   "source": [
    "torch.save(seq2seq.state_dict(), 'log/100N_no_att_TFR_model_save.pth')"
   ]
  }
 ],
 "metadata": {
  "kernelspec": {
   "display_name": "Python 3",
   "language": "python",
   "name": "python3"
  },
  "language_info": {
   "codemirror_mode": {
    "name": "ipython",
    "version": 3
   },
   "file_extension": ".py",
   "mimetype": "text/x-python",
   "name": "python",
   "nbconvert_exporter": "python",
   "pygments_lexer": "ipython3",
   "version": "3.5.2"
  }
 },
 "nbformat": 4,
 "nbformat_minor": 2
}
