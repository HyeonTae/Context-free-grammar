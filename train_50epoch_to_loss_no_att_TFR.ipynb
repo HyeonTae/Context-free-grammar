{
 "cells": [
  {
   "cell_type": "markdown",
   "metadata": {},
   "source": [
    "# Set Parameter\n",
    "- Attention = False\n",
    "- Drop out = 0.2\n",
    "- Teacher Forcing Ratio = 1\n",
    "- Layer = 1\n",
    "- Hidden unit = 50\n",
    "- Batch size = 32\n",
    "- Epochs = 50"
   ]
  },
  {
   "cell_type": "markdown",
   "metadata": {},
   "source": [
    "# Import packages\n",
    "\n",
    "import useful packages for experiments"
   ]
  },
  {
   "cell_type": "code",
   "execution_count": 1,
   "metadata": {},
   "outputs": [
    {
     "name": "stderr",
     "output_type": "stream",
     "text": [
      "/home/hyeontae/hyeontae/venv/lib/python3.5/site-packages/torch/nn/functional.py:52: UserWarning: size_average and reduce args will be deprecated, please use reduction='elementwise_mean' instead.\n",
      "  warnings.warn(warning.format(ret))\n",
      "/home/hyeontae/hyeontae/venv/lib/python3.5/site-packages/torch/nn/functional.py:52: UserWarning: size_average and reduce args will be deprecated, please use reduction='elementwise_mean' instead.\n",
      "  warnings.warn(warning.format(ret))\n"
     ]
    }
   ],
   "source": [
    "import os\n",
    "import argparse\n",
    "import logging\n",
    "\n",
    "import torch\n",
    "from torch.optim.lr_scheduler import StepLR\n",
    "import torchtext\n",
    "\n",
    "from trainer.supervised_trainer import SupervisedTrainer\n",
    "from models.encoderRNN import EncoderRNN\n",
    "from models.decoderRNN import DecoderRNN\n",
    "from models.seq2seq import Seq2seq\n",
    "from loss.loss import Perplexity\n",
    "from optim.optim import Optimizer\n",
    "from dataset import fields\n",
    "from evaluator.predictor import Predictor\n",
    "\n",
    "import matplotlib.pyplot as plt"
   ]
  },
  {
   "cell_type": "markdown",
   "metadata": {},
   "source": [
    "# Data load"
   ]
  },
  {
   "cell_type": "code",
   "execution_count": 2,
   "metadata": {},
   "outputs": [],
   "source": [
    "train_path = \"data/grammar_data_N100_train.txt\"\n",
    "dev_path = \"data/grammar_data_N100_test.txt\"\n",
    "log_level = 'info'"
   ]
  },
  {
   "cell_type": "markdown",
   "metadata": {},
   "source": [
    "# Log format"
   ]
  },
  {
   "cell_type": "code",
   "execution_count": 3,
   "metadata": {},
   "outputs": [],
   "source": [
    "LOG_FORMAT = '%(asctime)s %(levelname)-6s %(message)s'\n",
    "logging.basicConfig(format=LOG_FORMAT, level=getattr(logging, log_level.upper()))"
   ]
  },
  {
   "cell_type": "markdown",
   "metadata": {},
   "source": [
    "# Prepare dataset"
   ]
  },
  {
   "cell_type": "code",
   "execution_count": 4,
   "metadata": {},
   "outputs": [],
   "source": [
    "src = fields.SourceField()\n",
    "tgt = fields.TargetField()\n",
    "max_len = 102\n",
    "def len_filter(example):\n",
    "    return len(example.src) <= max_len and len(example.tgt) <= max_len\n",
    "train = torchtext.data.TabularDataset(\n",
    "    path=train_path, format='tsv',\n",
    "    fields=[('src', src), ('tgt', tgt)],\n",
    "    filter_pred=len_filter\n",
    ")\n",
    "dev = torchtext.data.TabularDataset(\n",
    "    path=dev_path, format='tsv',\n",
    "    fields=[('src', src), ('tgt', tgt)],\n",
    "    filter_pred=len_filter\n",
    ")\n",
    "src.build_vocab(train)\n",
    "tgt.build_vocab(train)\n",
    "input_vocab = src.vocab\n",
    "output_vocab = tgt.vocab"
   ]
  },
  {
   "cell_type": "markdown",
   "metadata": {},
   "source": [
    "# Prepare loss"
   ]
  },
  {
   "cell_type": "code",
   "execution_count": 5,
   "metadata": {},
   "outputs": [
    {
     "name": "stderr",
     "output_type": "stream",
     "text": [
      "/home/hyeontae/hyeontae/venv/lib/python3.5/site-packages/torch/nn/functional.py:52: UserWarning: size_average and reduce args will be deprecated, please use reduction='sum' instead.\n",
      "  warnings.warn(warning.format(ret))\n"
     ]
    }
   ],
   "source": [
    "weight = torch.ones(len(tgt.vocab))\n",
    "pad = tgt.vocab.stoi[tgt.pad_token]\n",
    "loss = Perplexity(weight, pad)\n",
    "if torch.cuda.is_available():\n",
    "    loss.cuda()"
   ]
  },
  {
   "cell_type": "markdown",
   "metadata": {},
   "source": [
    "# Variable definition"
   ]
  },
  {
   "cell_type": "code",
   "execution_count": 6,
   "metadata": {},
   "outputs": [
    {
     "name": "stdout",
     "output_type": "stream",
     "text": [
      "[50]\n"
     ]
    }
   ],
   "source": [
    "seq2seq = None\n",
    "optimizer = \"Adam\"\n",
    "\n",
    "hidden_sizes = list(range(50, 51, 4))\n",
    "print(hidden_sizes)\n",
    "error_rate = []\n",
    "accuracy = []\n",
    "losses = []"
   ]
  },
  {
   "cell_type": "markdown",
   "metadata": {},
   "source": [
    "# Initialize model"
   ]
  },
  {
   "cell_type": "code",
   "execution_count": 7,
   "metadata": {},
   "outputs": [
    {
     "name": "stderr",
     "output_type": "stream",
     "text": [
      "/home/hyeontae/hyeontae/venv/lib/python3.5/site-packages/torch/nn/modules/rnn.py:38: UserWarning: dropout option adds dropout after all but last recurrent layer, so non-zero dropout expects num_layers greater than 1, but got dropout=0.2 and num_layers=1\n",
      "  \"num_layers={}\".format(dropout, num_layers))\n",
      "2019-01-29 16:04:03,262 INFO   Optimizer: Adam (\n",
      "Parameter Group 0\n",
      "    amsgrad: False\n",
      "    betas: (0.9, 0.999)\n",
      "    eps: 1e-08\n",
      "    lr: 0.001\n",
      "    weight_decay: 0\n",
      "), Scheduler: None\n"
     ]
    },
    {
     "name": "stdout",
     "output_type": "stream",
     "text": [
      "Hidden size is 50\n"
     ]
    },
    {
     "name": "stderr",
     "output_type": "stream",
     "text": [
      "2019-01-29 16:07:38,079 INFO   Finished epoch 1: Train loss: 7.2199, Dev loss: 1784.9470, Accuracy(Character): 0.0969, Accuracy(Word): 0.0000\n",
      "2019-01-29 16:11:16,539 INFO   Finished epoch 2: Train loss: 1.7792, Dev loss: 4105.2980, Accuracy(Character): 0.1953, Accuracy(Word): 0.0000\n",
      "2019-01-29 16:14:56,105 INFO   Finished epoch 3: Train loss: 1.6615, Dev loss: 1641.7717, Accuracy(Character): 0.2679, Accuracy(Word): 0.0000\n",
      "2019-01-29 16:18:29,933 INFO   Finished epoch 4: Train loss: 1.6213, Dev loss: 185.1107, Accuracy(Character): 0.3808, Accuracy(Word): 0.0000\n",
      "2019-01-29 16:22:01,234 INFO   Finished epoch 5: Train loss: 1.5888, Dev loss: 63.4779, Accuracy(Character): 0.4304, Accuracy(Word): 0.0000\n",
      "2019-01-29 16:25:36,595 INFO   Finished epoch 6: Train loss: 1.5670, Dev loss: 19.1492, Accuracy(Character): 0.4938, Accuracy(Word): 0.0000\n",
      "2019-01-29 16:29:15,878 INFO   Finished epoch 7: Train loss: 1.5488, Dev loss: 16.3754, Accuracy(Character): 0.4969, Accuracy(Word): 0.0000\n",
      "2019-01-29 16:32:53,334 INFO   Finished epoch 8: Train loss: 1.5349, Dev loss: 16.9129, Accuracy(Character): 0.5017, Accuracy(Word): 0.0000\n",
      "2019-01-29 16:36:25,672 INFO   Finished epoch 9: Train loss: 1.5184, Dev loss: 16.1678, Accuracy(Character): 0.5185, Accuracy(Word): 0.0000\n",
      "2019-01-29 16:39:57,651 INFO   Finished epoch 10: Train loss: 1.5071, Dev loss: 38.4991, Accuracy(Character): 0.4623, Accuracy(Word): 0.0000\n",
      "2019-01-29 16:43:35,060 INFO   Finished epoch 11: Train loss: 1.4947, Dev loss: 8.7888, Accuracy(Character): 0.5803, Accuracy(Word): 0.0000\n",
      "2019-01-29 16:47:14,618 INFO   Finished epoch 12: Train loss: 1.4871, Dev loss: 10.5210, Accuracy(Character): 0.5421, Accuracy(Word): 0.0000\n",
      "2019-01-29 16:50:50,069 INFO   Finished epoch 13: Train loss: 1.4780, Dev loss: 12.7416, Accuracy(Character): 0.5606, Accuracy(Word): 0.0000\n",
      "2019-01-29 16:54:21,741 INFO   Finished epoch 14: Train loss: 1.4655, Dev loss: 7.3132, Accuracy(Character): 0.5896, Accuracy(Word): 0.0000\n",
      "2019-01-29 16:57:57,281 INFO   Finished epoch 15: Train loss: 1.4601, Dev loss: 8.1053, Accuracy(Character): 0.5803, Accuracy(Word): 0.0000\n",
      "2019-01-29 17:01:35,695 INFO   Finished epoch 16: Train loss: 1.4514, Dev loss: 6.4074, Accuracy(Character): 0.6133, Accuracy(Word): 0.0000\n",
      "2019-01-29 17:05:15,290 INFO   Finished epoch 17: Train loss: 1.4448, Dev loss: 7.4075, Accuracy(Character): 0.5925, Accuracy(Word): 0.0000\n",
      "2019-01-29 17:08:48,052 INFO   Finished epoch 18: Train loss: 1.4371, Dev loss: 7.8541, Accuracy(Character): 0.6074, Accuracy(Word): 0.0000\n",
      "2019-01-29 17:12:18,527 INFO   Finished epoch 19: Train loss: 1.4316, Dev loss: 6.1016, Accuracy(Character): 0.6341, Accuracy(Word): 0.0000\n",
      "2019-01-29 17:15:54,959 INFO   Finished epoch 20: Train loss: 1.4294, Dev loss: 5.2895, Accuracy(Character): 0.6353, Accuracy(Word): 0.0000\n",
      "2019-01-29 17:19:34,124 INFO   Finished epoch 21: Train loss: 1.4215, Dev loss: 5.5489, Accuracy(Character): 0.6230, Accuracy(Word): 0.0000\n",
      "2019-01-29 17:23:11,314 INFO   Finished epoch 22: Train loss: 1.4172, Dev loss: 5.1475, Accuracy(Character): 0.6464, Accuracy(Word): 0.0000\n",
      "2019-01-29 17:26:43,272 INFO   Finished epoch 23: Train loss: 1.4107, Dev loss: 4.6911, Accuracy(Character): 0.6568, Accuracy(Word): 0.0000\n",
      "2019-01-29 17:30:15,240 INFO   Finished epoch 24: Train loss: 1.4064, Dev loss: 4.3065, Accuracy(Character): 0.6642, Accuracy(Word): 0.0000\n",
      "2019-01-29 17:33:52,654 INFO   Finished epoch 25: Train loss: 1.4026, Dev loss: 4.4931, Accuracy(Character): 0.6607, Accuracy(Word): 0.0000\n",
      "2019-01-29 17:37:34,892 INFO   Finished epoch 26: Train loss: 1.3999, Dev loss: 4.0770, Accuracy(Character): 0.6693, Accuracy(Word): 0.0000\n",
      "2019-01-29 17:42:15,385 INFO   Finished epoch 27: Train loss: 1.3952, Dev loss: 4.6706, Accuracy(Character): 0.6432, Accuracy(Word): 0.0000\n",
      "2019-01-29 17:47:00,616 INFO   Finished epoch 28: Train loss: 1.3896, Dev loss: 5.5755, Accuracy(Character): 0.6489, Accuracy(Word): 0.0000\n",
      "2019-01-29 17:51:41,367 INFO   Finished epoch 29: Train loss: 1.3851, Dev loss: 4.3760, Accuracy(Character): 0.6714, Accuracy(Word): 0.0000\n",
      "2019-01-29 17:56:37,032 INFO   Finished epoch 30: Train loss: 1.3823, Dev loss: 4.0794, Accuracy(Character): 0.6800, Accuracy(Word): 0.0000\n",
      "2019-01-29 18:01:33,452 INFO   Finished epoch 31: Train loss: 1.3826, Dev loss: 3.4627, Accuracy(Character): 0.6986, Accuracy(Word): 0.0000\n",
      "2019-01-29 18:06:22,910 INFO   Finished epoch 32: Train loss: 1.3759, Dev loss: 4.3429, Accuracy(Character): 0.6829, Accuracy(Word): 0.0000\n",
      "2019-01-29 18:11:06,017 INFO   Finished epoch 33: Train loss: 1.3722, Dev loss: 3.4664, Accuracy(Character): 0.6918, Accuracy(Word): 0.0000\n",
      "2019-01-29 18:15:54,057 INFO   Finished epoch 34: Train loss: 1.3701, Dev loss: 3.5500, Accuracy(Character): 0.6936, Accuracy(Word): 0.0000\n",
      "2019-01-29 18:20:42,383 INFO   Finished epoch 35: Train loss: 1.3674, Dev loss: 3.6214, Accuracy(Character): 0.6958, Accuracy(Word): 0.0000\n",
      "2019-01-29 18:25:26,055 INFO   Finished epoch 36: Train loss: 1.3648, Dev loss: 3.2678, Accuracy(Character): 0.7109, Accuracy(Word): 0.0000\n",
      "2019-01-29 18:30:12,040 INFO   Finished epoch 37: Train loss: 1.3621, Dev loss: 3.4357, Accuracy(Character): 0.6977, Accuracy(Word): 0.0000\n",
      "2019-01-29 18:35:06,850 INFO   Finished epoch 38: Train loss: 1.3596, Dev loss: 4.2326, Accuracy(Character): 0.6707, Accuracy(Word): 0.0000\n",
      "2019-01-29 18:40:02,166 INFO   Finished epoch 39: Train loss: 1.3545, Dev loss: 3.2151, Accuracy(Character): 0.7100, Accuracy(Word): 0.0000\n",
      "2019-01-29 18:44:44,044 INFO   Finished epoch 40: Train loss: 1.3559, Dev loss: 3.1939, Accuracy(Character): 0.7100, Accuracy(Word): 0.0000\n",
      "2019-01-29 18:49:28,287 INFO   Finished epoch 41: Train loss: 1.3517, Dev loss: 3.0816, Accuracy(Character): 0.7217, Accuracy(Word): 0.0000\n",
      "2019-01-29 18:54:23,170 INFO   Finished epoch 42: Train loss: 1.3487, Dev loss: 2.9554, Accuracy(Character): 0.7229, Accuracy(Word): 0.0000\n",
      "2019-01-29 18:59:17,447 INFO   Finished epoch 43: Train loss: 1.3464, Dev loss: 7.7165, Accuracy(Character): 0.6433, Accuracy(Word): 0.0000\n",
      "2019-01-29 19:04:01,934 INFO   Finished epoch 44: Train loss: 1.3438, Dev loss: 3.0539, Accuracy(Character): 0.7142, Accuracy(Word): 0.0000\n",
      "2019-01-29 19:08:47,045 INFO   Finished epoch 45: Train loss: 1.3445, Dev loss: 3.1201, Accuracy(Character): 0.7088, Accuracy(Word): 0.0000\n",
      "2019-01-29 19:13:35,682 INFO   Finished epoch 46: Train loss: 1.3433, Dev loss: 3.0010, Accuracy(Character): 0.7163, Accuracy(Word): 0.0000\n",
      "2019-01-29 19:18:20,867 INFO   Finished epoch 47: Train loss: 1.3426, Dev loss: 3.2476, Accuracy(Character): 0.7030, Accuracy(Word): 0.0000\n",
      "2019-01-29 19:23:04,029 INFO   Finished epoch 48: Train loss: 1.3374, Dev loss: 2.7683, Accuracy(Character): 0.7305, Accuracy(Word): 0.0000\n",
      "2019-01-29 19:27:55,352 INFO   Finished epoch 49: Train loss: 1.3354, Dev loss: 2.9737, Accuracy(Character): 0.7278, Accuracy(Word): 0.0000\n",
      "2019-01-29 19:32:52,027 INFO   Finished epoch 50: Train loss: 1.3310, Dev loss: 2.5746, Accuracy(Character): 0.7496, Accuracy(Word): 0.0000\n"
     ]
    },
    {
     "data": {
      "image/png": "[encoded data removed]",
      "text/plain": [
       "<Figure size 432x288 with 1 Axes>"
      ]
     },
     "metadata": {
      "needs_background": "light"
     },
     "output_type": "display_data"
    }
   ],
   "source": [
    "for i in hidden_sizes:\n",
    "    print(\"Hidden size is %d\" % i)\n",
    "    hidden_size = i\n",
    "    bidirectional = True\n",
    "    encoder = EncoderRNN(len(src.vocab), max_len, hidden_size,\n",
    "                        bidirectional=bidirectional, variable_lengths=True)\n",
    "    decoder = DecoderRNN(len(tgt.vocab), max_len, hidden_size * 2 if bidirectional else hidden_size,\n",
    "                        dropout_p=0.2, use_attention=False, bidirectional=bidirectional,\n",
    "                        eos_id=tgt.eos_id, sos_id=tgt.sos_id)\n",
    "    seq2seq = Seq2seq(encoder, decoder)\n",
    "    if torch.cuda.is_available():\n",
    "        seq2seq.cuda()\n",
    "\n",
    "    for param in seq2seq.parameters():\n",
    "        param.data.uniform_(-0.08, 0.08)\n",
    "\n",
    "    # train\n",
    "    t = SupervisedTrainer(loss=loss, batch_size=32,\n",
    "                        checkpoint_every=50,\n",
    "                        print_every=100)\n",
    "\n",
    "    seq2seq, ave_loss, character_accuracy = t.train(seq2seq, train,\n",
    "                                                    num_epochs=50, dev_data=dev,\n",
    "                                                    optimizer=optimizer,\n",
    "                                                    teacher_forcing_ratio=1)\n",
    "\n",
    "    losses.append(ave_loss/100)\n",
    "    error_rate.append(1 - character_accuracy)\n",
    "    accuracy.append(character_accuracy)"
   ]
  },
  {
   "cell_type": "code",
   "execution_count": 9,
   "metadata": {},
   "outputs": [],
   "source": [
    "torch.save(seq2seq.state_dict(), 'log/100N_no_att_TFR_model_save.pth')"
   ]
  }
 ],
 "metadata": {
  "kernelspec": {
   "display_name": "Python 3",
   "language": "python",
   "name": "python3"
  },
  "language_info": {
   "codemirror_mode": {
    "name": "ipython",
    "version": 3
   },
   "file_extension": ".py",
   "mimetype": "text/x-python",
   "name": "python",
   "nbconvert_exporter": "python",
   "pygments_lexer": "ipython3",
   "version": "3.5.2"
  }
 },
 "nbformat": 4,
 "nbformat_minor": 2
}
