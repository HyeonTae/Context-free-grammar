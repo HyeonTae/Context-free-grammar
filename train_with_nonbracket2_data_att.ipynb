{
 "cells": [
  {
   "cell_type": "markdown",
   "metadata": {},
   "source": [
    "# Set Parameter\n",
    "- Attention = True\n",
    "- Drop out = 0.2\n",
    "- Teacher Forcing Ratio = 0.5\n",
    "- Layer = 1\n",
    "- Hidden unit = 50\n",
    "- Batch size = 32\n",
    "- Epochs = 50"
   ]
  },
  {
   "cell_type": "markdown",
   "metadata": {},
   "source": [
    "# Import packages\n",
    "\n",
    "import useful packages for experiments"
   ]
  },
  {
   "cell_type": "code",
   "execution_count": 1,
   "metadata": {},
   "outputs": [
    {
     "name": "stderr",
     "output_type": "stream",
     "text": [
      "/home/hyeontae/hyeontae/venv/lib/python3.5/site-packages/torch/nn/functional.py:52: UserWarning: size_average and reduce args will be deprecated, please use reduction='elementwise_mean' instead.\n",
      "  warnings.warn(warning.format(ret))\n",
      "/home/hyeontae/hyeontae/venv/lib/python3.5/site-packages/torch/nn/functional.py:52: UserWarning: size_average and reduce args will be deprecated, please use reduction='elementwise_mean' instead.\n",
      "  warnings.warn(warning.format(ret))\n"
     ]
    }
   ],
   "source": [
    "import os\n",
    "import argparse\n",
    "import logging\n",
    "\n",
    "import torch\n",
    "from torch.optim.lr_scheduler import StepLR\n",
    "import torchtext\n",
    "\n",
    "from trainer.supervised_trainer import SupervisedTrainer\n",
    "from models.encoderRNN import EncoderRNN\n",
    "from models.decoderRNN import DecoderRNN\n",
    "from models.seq2seq import Seq2seq\n",
    "from loss.loss import Perplexity\n",
    "from optim.optim import Optimizer\n",
    "from dataset import fields\n",
    "from evaluator.predictor import Predictor\n",
    "\n",
    "import matplotlib.pyplot as plt"
   ]
  },
  {
   "cell_type": "markdown",
   "metadata": {},
   "source": [
    "# Data load"
   ]
  },
  {
   "cell_type": "code",
   "execution_count": 2,
   "metadata": {},
   "outputs": [],
   "source": [
    "train_path = \"nonbracket_data2/data_train.txt\"\n",
    "dev_path = \"nonbracket_data2/data_test.txt\"\n",
    "log_level = 'info'"
   ]
  },
  {
   "cell_type": "markdown",
   "metadata": {},
   "source": [
    "# Log format"
   ]
  },
  {
   "cell_type": "code",
   "execution_count": 3,
   "metadata": {},
   "outputs": [],
   "source": [
    "LOG_FORMAT = '%(asctime)s %(levelname)-6s %(message)s'\n",
    "logging.basicConfig(format=LOG_FORMAT, level=getattr(logging, log_level.upper()))"
   ]
  },
  {
   "cell_type": "markdown",
   "metadata": {},
   "source": [
    "# Prepare dataset"
   ]
  },
  {
   "cell_type": "code",
   "execution_count": 4,
   "metadata": {},
   "outputs": [],
   "source": [
    "src = fields.SourceField()\n",
    "tgt = fields.TargetField()\n",
    "max_len = 100\n",
    "def len_filter(example):\n",
    "    return len(example.src) <= max_len and len(example.tgt) <= max_len\n",
    "train = torchtext.data.TabularDataset(\n",
    "    path=train_path, format='tsv',\n",
    "    fields=[('src', src), ('tgt', tgt)],\n",
    "    filter_pred=len_filter\n",
    ")\n",
    "dev = torchtext.data.TabularDataset(\n",
    "    path=dev_path, format='tsv',\n",
    "    fields=[('src', src), ('tgt', tgt)],\n",
    "    filter_pred=len_filter\n",
    ")\n",
    "src.build_vocab(train)\n",
    "tgt.build_vocab(train)\n",
    "input_vocab = src.vocab\n",
    "output_vocab = tgt.vocab"
   ]
  },
  {
   "cell_type": "markdown",
   "metadata": {},
   "source": [
    "# Prepare loss"
   ]
  },
  {
   "cell_type": "code",
   "execution_count": 5,
   "metadata": {},
   "outputs": [
    {
     "name": "stderr",
     "output_type": "stream",
     "text": [
      "/home/hyeontae/hyeontae/venv/lib/python3.5/site-packages/torch/nn/functional.py:52: UserWarning: size_average and reduce args will be deprecated, please use reduction='sum' instead.\n",
      "  warnings.warn(warning.format(ret))\n"
     ]
    }
   ],
   "source": [
    "weight = torch.ones(len(tgt.vocab))\n",
    "pad = tgt.vocab.stoi[tgt.pad_token]\n",
    "loss = Perplexity(weight, pad)\n",
    "if torch.cuda.is_available():\n",
    "    loss.cuda()"
   ]
  },
  {
   "cell_type": "markdown",
   "metadata": {},
   "source": [
    "# Variable definition"
   ]
  },
  {
   "cell_type": "code",
   "execution_count": 6,
   "metadata": {},
   "outputs": [
    {
     "name": "stdout",
     "output_type": "stream",
     "text": [
      "[50]\n"
     ]
    }
   ],
   "source": [
    "seq2seq = None\n",
    "optimizer = \"Adam\"\n",
    "\n",
    "hidden_sizes = list(range(50, 51, 4))\n",
    "print(hidden_sizes)\n",
    "error_rate = []\n",
    "accuracy = []\n",
    "losses = []"
   ]
  },
  {
   "cell_type": "markdown",
   "metadata": {},
   "source": [
    "# Initialize model"
   ]
  },
  {
   "cell_type": "code",
   "execution_count": 7,
   "metadata": {},
   "outputs": [
    {
     "name": "stderr",
     "output_type": "stream",
     "text": [
      "/home/hyeontae/hyeontae/venv/lib/python3.5/site-packages/torch/nn/modules/rnn.py:38: UserWarning: dropout option adds dropout after all but last recurrent layer, so non-zero dropout expects num_layers greater than 1, but got dropout=0.2 and num_layers=1\n",
      "  \"num_layers={}\".format(dropout, num_layers))\n",
      "2019-02-01 09:43:53,281 INFO   Optimizer: Adam (\n",
      "Parameter Group 0\n",
      "    amsgrad: False\n",
      "    betas: (0.9, 0.999)\n",
      "    eps: 1e-08\n",
      "    lr: 0.001\n",
      "    weight_decay: 0\n",
      "), Scheduler: None\n"
     ]
    },
    {
     "name": "stdout",
     "output_type": "stream",
     "text": [
      "Hidden size is 50\n"
     ]
    },
    {
     "name": "stderr",
     "output_type": "stream",
     "text": [
      "/home/hyeontae/hyeontae/venv/lib/python3.5/site-packages/torch/nn/functional.py:995: UserWarning: nn.functional.tanh is deprecated. Use torch.tanh instead.\n",
      "  warnings.warn(\"nn.functional.tanh is deprecated. Use torch.tanh instead.\")\n",
      "2019-02-01 09:47:05,187 INFO   Finished epoch 1: Train loss: 10.1311, Dev loss: 5.4499, Accuracy(Character): 0.3482, Accuracy(Word): 0.0000\n",
      "2019-02-01 09:50:49,086 INFO   Finished epoch 2: Train loss: 3.3343, Dev loss: 4.6310, Accuracy(Character): 0.5099, Accuracy(Word): 0.0000\n",
      "2019-02-01 09:54:23,798 INFO   Finished epoch 3: Train loss: 2.0568, Dev loss: 2.0143, Accuracy(Character): 0.7384, Accuracy(Word): 0.0000\n",
      "2019-02-01 09:58:09,238 INFO   Finished epoch 4: Train loss: 1.7206, Dev loss: 1.7104, Accuracy(Character): 0.8165, Accuracy(Word): 0.0000\n",
      "2019-02-01 10:01:40,953 INFO   Finished epoch 5: Train loss: 1.5962, Dev loss: 1.5204, Accuracy(Character): 0.8629, Accuracy(Word): 0.0068\n",
      "2019-02-01 10:05:29,507 INFO   Finished epoch 6: Train loss: 1.3872, Dev loss: 1.3106, Accuracy(Character): 0.9043, Accuracy(Word): 0.0000\n",
      "2019-02-01 10:08:59,022 INFO   Finished epoch 7: Train loss: 1.3377, Dev loss: 1.1736, Accuracy(Character): 0.9473, Accuracy(Word): 0.0000\n",
      "2019-02-01 10:12:46,753 INFO   Finished epoch 8: Train loss: 1.2614, Dev loss: 1.3420, Accuracy(Character): 0.9280, Accuracy(Word): 0.0000\n",
      "2019-02-01 10:16:18,167 INFO   Finished epoch 9: Train loss: 1.2004, Dev loss: 1.2502, Accuracy(Character): 0.9438, Accuracy(Word): 0.0000\n",
      "2019-02-01 10:20:04,637 INFO   Finished epoch 10: Train loss: 1.1602, Dev loss: 1.1938, Accuracy(Character): 0.9527, Accuracy(Word): 0.0000\n",
      "2019-02-01 10:23:37,623 INFO   Finished epoch 11: Train loss: 1.1001, Dev loss: 1.0223, Accuracy(Character): 0.9946, Accuracy(Word): 0.0372\n",
      "2019-02-01 10:27:21,973 INFO   Finished epoch 12: Train loss: 1.0679, Dev loss: 1.0585, Accuracy(Character): 0.9855, Accuracy(Word): 0.0000\n",
      "2019-02-01 10:31:00,116 INFO   Finished epoch 13: Train loss: 1.1008, Dev loss: 1.0542, Accuracy(Character): 0.9890, Accuracy(Word): 0.0000\n",
      "2019-02-01 10:34:49,597 INFO   Finished epoch 14: Train loss: 1.0530, Dev loss: 1.0293, Accuracy(Character): 0.9940, Accuracy(Word): 0.0000\n",
      "2019-02-01 10:38:27,170 INFO   Finished epoch 15: Train loss: 1.0483, Dev loss: 1.0260, Accuracy(Character): 0.9953, Accuracy(Word): 0.0000\n",
      "2019-02-01 10:42:09,526 INFO   Finished epoch 16: Train loss: 1.0601, Dev loss: 1.0869, Accuracy(Character): 0.9860, Accuracy(Word): 0.0000\n",
      "2019-02-01 10:45:45,337 INFO   Finished epoch 17: Train loss: 1.0225, Dev loss: 1.0270, Accuracy(Character): 0.9958, Accuracy(Word): 0.0000\n",
      "2019-02-01 10:49:26,474 INFO   Finished epoch 18: Train loss: 1.0171, Dev loss: 1.0103, Accuracy(Character): 0.9983, Accuracy(Word): 0.0000\n",
      "2019-02-01 10:53:04,835 INFO   Finished epoch 19: Train loss: 1.0156, Dev loss: 1.0081, Accuracy(Character): 0.9989, Accuracy(Word): 0.0000\n",
      "2019-02-01 10:56:43,490 INFO   Finished epoch 20: Train loss: 1.0122, Dev loss: 1.0123, Accuracy(Character): 0.9985, Accuracy(Word): 0.0000\n",
      "2019-02-01 11:00:24,131 INFO   Finished epoch 21: Train loss: 1.0088, Dev loss: 1.0046, Accuracy(Character): 0.9995, Accuracy(Word): 0.0000\n",
      "2019-02-01 11:03:59,196 INFO   Finished epoch 22: Train loss: 1.0056, Dev loss: 1.0448, Accuracy(Character): 0.9960, Accuracy(Word): 0.0000\n",
      "2019-02-01 11:07:41,012 INFO   Finished epoch 23: Train loss: 1.0100, Dev loss: 1.0132, Accuracy(Character): 0.9986, Accuracy(Word): 0.0000\n",
      "2019-02-01 11:11:15,680 INFO   Finished epoch 24: Train loss: 1.1247, Dev loss: 1.0042, Accuracy(Character): 0.9995, Accuracy(Word): 0.0000\n",
      "2019-02-01 11:14:58,436 INFO   Finished epoch 25: Train loss: 1.0827, Dev loss: 1.0030, Accuracy(Character): 0.9997, Accuracy(Word): 0.0000\n",
      "2019-02-01 11:18:30,454 INFO   Finished epoch 26: Train loss: 1.0048, Dev loss: 1.0023, Accuracy(Character): 0.9998, Accuracy(Word): 0.0000\n",
      "2019-02-01 11:22:14,748 INFO   Finished epoch 27: Train loss: 1.0031, Dev loss: 1.0021, Accuracy(Character): 0.9998, Accuracy(Word): 0.0000\n",
      "2019-02-01 11:25:45,959 INFO   Finished epoch 28: Train loss: 1.0053, Dev loss: 1.0090, Accuracy(Character): 0.9993, Accuracy(Word): 0.0000\n",
      "2019-02-01 11:29:34,478 INFO   Finished epoch 29: Train loss: 1.0042, Dev loss: 1.0037, Accuracy(Character): 0.9997, Accuracy(Word): 0.0000\n",
      "2019-02-01 11:33:04,070 INFO   Finished epoch 30: Train loss: 1.0034, Dev loss: 1.0019, Accuracy(Character): 0.9999, Accuracy(Word): 0.0000\n",
      "2019-02-01 11:36:51,681 INFO   Finished epoch 31: Train loss: 1.0034, Dev loss: 1.0022, Accuracy(Character): 0.9998, Accuracy(Word): 0.0000\n",
      "2019-02-01 11:40:22,832 INFO   Finished epoch 32: Train loss: 1.0059, Dev loss: 1.0038, Accuracy(Character): 0.9997, Accuracy(Word): 0.0000\n",
      "2019-02-01 11:44:07,641 INFO   Finished epoch 33: Train loss: 1.0028, Dev loss: 1.0026, Accuracy(Character): 0.9998, Accuracy(Word): 0.0000\n",
      "2019-02-01 11:47:43,036 INFO   Finished epoch 34: Train loss: 1.0071, Dev loss: 1.0025, Accuracy(Character): 0.9998, Accuracy(Word): 0.0000\n",
      "2019-02-01 11:51:24,910 INFO   Finished epoch 35: Train loss: 1.0029, Dev loss: 1.0035, Accuracy(Character): 0.9997, Accuracy(Word): 0.0000\n",
      "2019-02-01 11:55:00,913 INFO   Finished epoch 36: Train loss: 1.0029, Dev loss: 1.0034, Accuracy(Character): 0.9998, Accuracy(Word): 0.0000\n",
      "2019-02-01 11:58:44,259 INFO   Finished epoch 37: Train loss: 1.0023, Dev loss: 1.0036, Accuracy(Character): 0.9998, Accuracy(Word): 0.0000\n",
      "2019-02-01 12:02:18,569 INFO   Finished epoch 38: Train loss: 1.0025, Dev loss: 1.0022, Accuracy(Character): 0.9999, Accuracy(Word): 0.0000\n",
      "2019-02-01 12:06:00,422 INFO   Finished epoch 39: Train loss: 1.0012, Dev loss: 1.0084, Accuracy(Character): 0.9988, Accuracy(Word): 0.0000\n",
      "2019-02-01 12:09:35,550 INFO   Finished epoch 40: Train loss: 1.0037, Dev loss: 1.0014, Accuracy(Character): 0.9999, Accuracy(Word): 0.0000\n",
      "2019-02-01 12:13:11,883 INFO   Finished epoch 41: Train loss: 1.0024, Dev loss: 1.0014, Accuracy(Character): 0.9999, Accuracy(Word): 0.0000\n",
      "2019-02-01 12:16:50,371 INFO   Finished epoch 42: Train loss: 1.0013, Dev loss: 1.0011, Accuracy(Character): 1.0000, Accuracy(Word): 0.0000\n",
      "2019-02-01 12:20:27,308 INFO   Finished epoch 43: Train loss: 1.0027, Dev loss: 1.0272, Accuracy(Character): 0.9985, Accuracy(Word): 0.0000\n",
      "2019-02-01 12:24:09,661 INFO   Finished epoch 44: Train loss: 1.0019, Dev loss: 1.0012, Accuracy(Character): 0.9999, Accuracy(Word): 0.0000\n",
      "2019-02-01 12:27:27,568 INFO   Finished epoch 45: Train loss: 1.0010, Dev loss: 1.0082, Accuracy(Character): 0.9995, Accuracy(Word): 0.0000\n",
      "2019-02-01 12:30:32,319 INFO   Finished epoch 46: Train loss: 1.0021, Dev loss: 1.0286, Accuracy(Character): 0.9984, Accuracy(Word): 0.0000\n",
      "2019-02-01 12:33:30,559 INFO   Finished epoch 47: Train loss: 1.0023, Dev loss: 1.1074, Accuracy(Character): 0.9948, Accuracy(Word): 0.0000\n",
      "2019-02-01 12:36:33,640 INFO   Finished epoch 48: Train loss: 1.0027, Dev loss: 1.0013, Accuracy(Character): 0.9999, Accuracy(Word): 0.0000\n",
      "2019-02-01 12:39:29,272 INFO   Finished epoch 49: Train loss: 1.0017, Dev loss: 1.0028, Accuracy(Character): 0.9998, Accuracy(Word): 0.0000\n",
      "2019-02-01 12:42:34,098 INFO   Finished epoch 50: Train loss: 1.0220, Dev loss: 1.0008, Accuracy(Character): 0.9999, Accuracy(Word): 0.0000\n"
     ]
    },
    {
     "data": {
      "image/png": "[encoded data removed]",
      "text/plain": [
       "<Figure size 432x288 with 1 Axes>"
      ]
     },
     "metadata": {
      "needs_background": "light"
     },
     "output_type": "display_data"
    },
    {
     "data": {
      "image/png": "[encoded data removed]",
      "text/plain": [
       "<Figure size 432x288 with 1 Axes>"
      ]
     },
     "metadata": {
      "needs_background": "light"
     },
     "output_type": "display_data"
    }
   ],
   "source": [
    "for i in hidden_sizes:\n",
    "    print(\"Hidden size is %d\" % i)\n",
    "    hidden_size = i\n",
    "    bidirectional = True\n",
    "    encoder = EncoderRNN(len(src.vocab), max_len, hidden_size,\n",
    "                        bidirectional=bidirectional, variable_lengths=True)\n",
    "    decoder = DecoderRNN(len(tgt.vocab), max_len, hidden_size * 2 if bidirectional else hidden_size,\n",
    "                        dropout_p=0.2, use_attention=True, bidirectional=bidirectional,\n",
    "                        eos_id=tgt.eos_id, sos_id=tgt.sos_id)\n",
    "    seq2seq = Seq2seq(encoder, decoder)\n",
    "    if torch.cuda.is_available():\n",
    "        seq2seq.cuda()\n",
    "\n",
    "    for param in seq2seq.parameters():\n",
    "        param.data.uniform_(-0.08, 0.08)\n",
    "\n",
    "    # train\n",
    "    t = SupervisedTrainer(loss=loss, batch_size=32,\n",
    "                        checkpoint_every=50,\n",
    "                        print_every=100,\n",
    "                        hidden_size=hidden_size,\n",
    "                        fig_path=\"log/plot/nonbracket2_att\")\n",
    "\n",
    "    seq2seq, ave_loss, character_accuracy = t.train(seq2seq, train,\n",
    "                                                    num_epochs=50, dev_data=dev,\n",
    "                                                    optimizer=optimizer,\n",
    "                                                    teacher_forcing_ratio=0.5)\n",
    "\n",
    "    losses.append(ave_loss/100)\n",
    "    error_rate.append(1 - character_accuracy)\n",
    "    accuracy.append(character_accuracy)"
   ]
  },
  {
   "cell_type": "code",
   "execution_count": 8,
   "metadata": {},
   "outputs": [],
   "source": [
    "torch.save(seq2seq.state_dict(), 'log/nonbracket2_att_model_save.pth')"
   ]
  }
 ],
 "metadata": {
  "kernelspec": {
   "display_name": "Python 3",
   "language": "python",
   "name": "python3"
  },
  "language_info": {
   "codemirror_mode": {
    "name": "ipython",
    "version": 3
   },
   "file_extension": ".py",
   "mimetype": "text/x-python",
   "name": "python",
   "nbconvert_exporter": "python",
   "pygments_lexer": "ipython3",
   "version": "3.5.2"
  }
 },
 "nbformat": 4,
 "nbformat_minor": 2
}
