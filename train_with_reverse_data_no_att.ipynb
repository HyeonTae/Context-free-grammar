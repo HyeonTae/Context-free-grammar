{
 "cells": [
  {
   "cell_type": "markdown",
   "metadata": {},
   "source": [
    "# Set Parameter\n",
    "- Attention = None\n",
    "- Drop out = 0.2\n",
    "- Teacher Forcing Ratio = 0.5\n",
    "- Layer = 1\n",
    "- Hidden unit = 50\n",
    "- Batch size = 32\n",
    "- Epochs = 50"
   ]
  },
  {
   "cell_type": "markdown",
   "metadata": {},
   "source": [
    "# Import packages\n",
    "\n",
    "import useful packages for experiments"
   ]
  },
  {
   "cell_type": "code",
   "execution_count": 1,
   "metadata": {},
   "outputs": [
    {
     "name": "stderr",
     "output_type": "stream",
     "text": [
      "/home/hyeontae/hyeontae/venv/lib/python3.5/site-packages/torch/nn/functional.py:52: UserWarning: size_average and reduce args will be deprecated, please use reduction='elementwise_mean' instead.\n",
      "  warnings.warn(warning.format(ret))\n",
      "/home/hyeontae/hyeontae/venv/lib/python3.5/site-packages/torch/nn/functional.py:52: UserWarning: size_average and reduce args will be deprecated, please use reduction='elementwise_mean' instead.\n",
      "  warnings.warn(warning.format(ret))\n"
     ]
    }
   ],
   "source": [
    "import os\n",
    "import argparse\n",
    "import logging\n",
    "\n",
    "import torch\n",
    "from torch.optim.lr_scheduler import StepLR\n",
    "import torchtext\n",
    "\n",
    "from trainer.supervised_trainer import SupervisedTrainer\n",
    "from models.encoderRNN import EncoderRNN\n",
    "from models.decoderRNN import DecoderRNN\n",
    "from models.seq2seq import Seq2seq\n",
    "from loss.loss import Perplexity\n",
    "from optim.optim import Optimizer\n",
    "from dataset import fields\n",
    "from evaluator.predictor import Predictor\n",
    "\n",
    "import matplotlib.pyplot as plt"
   ]
  },
  {
   "cell_type": "markdown",
   "metadata": {},
   "source": [
    "# Data load"
   ]
  },
  {
   "cell_type": "code",
   "execution_count": 2,
   "metadata": {},
   "outputs": [],
   "source": [
    "train_path = \"reverse_data/data_train.txt\"\n",
    "dev_path = \"reverse_data/data_test.txt\"\n",
    "log_level = 'info'"
   ]
  },
  {
   "cell_type": "markdown",
   "metadata": {},
   "source": [
    "# Log format"
   ]
  },
  {
   "cell_type": "code",
   "execution_count": 3,
   "metadata": {},
   "outputs": [],
   "source": [
    "LOG_FORMAT = '%(asctime)s %(levelname)-6s %(message)s'\n",
    "logging.basicConfig(format=LOG_FORMAT, level=getattr(logging, log_level.upper()))"
   ]
  },
  {
   "cell_type": "markdown",
   "metadata": {},
   "source": [
    "# Prepare dataset"
   ]
  },
  {
   "cell_type": "code",
   "execution_count": 4,
   "metadata": {},
   "outputs": [],
   "source": [
    "src = fields.SourceField()\n",
    "tgt = fields.TargetField()\n",
    "max_len = 102\n",
    "def len_filter(example):\n",
    "    return len(example.src) <= max_len and len(example.tgt) <= max_len\n",
    "train = torchtext.data.TabularDataset(\n",
    "    path=train_path, format='tsv',\n",
    "    fields=[('src', src), ('tgt', tgt)],\n",
    "    filter_pred=len_filter\n",
    ")\n",
    "dev = torchtext.data.TabularDataset(\n",
    "    path=dev_path, format='tsv',\n",
    "    fields=[('src', src), ('tgt', tgt)],\n",
    "    filter_pred=len_filter\n",
    ")\n",
    "src.build_vocab(train)\n",
    "tgt.build_vocab(train)\n",
    "input_vocab = src.vocab\n",
    "output_vocab = tgt.vocab"
   ]
  },
  {
   "cell_type": "markdown",
   "metadata": {},
   "source": [
    "# Prepare loss"
   ]
  },
  {
   "cell_type": "code",
   "execution_count": 5,
   "metadata": {},
   "outputs": [
    {
     "name": "stderr",
     "output_type": "stream",
     "text": [
      "/home/hyeontae/hyeontae/venv/lib/python3.5/site-packages/torch/nn/functional.py:52: UserWarning: size_average and reduce args will be deprecated, please use reduction='sum' instead.\n",
      "  warnings.warn(warning.format(ret))\n"
     ]
    }
   ],
   "source": [
    "weight = torch.ones(len(tgt.vocab))\n",
    "pad = tgt.vocab.stoi[tgt.pad_token]\n",
    "loss = Perplexity(weight, pad)\n",
    "if torch.cuda.is_available():\n",
    "    loss.cuda()"
   ]
  },
  {
   "cell_type": "markdown",
   "metadata": {},
   "source": [
    "# Variable definition"
   ]
  },
  {
   "cell_type": "code",
   "execution_count": 6,
   "metadata": {},
   "outputs": [
    {
     "name": "stdout",
     "output_type": "stream",
     "text": [
      "[50]\n"
     ]
    }
   ],
   "source": [
    "seq2seq = None\n",
    "optimizer = \"Adam\"\n",
    "\n",
    "hidden_sizes = list(range(50, 51, 4))\n",
    "print(hidden_sizes)\n",
    "error_rate = []\n",
    "accuracy = []\n",
    "losses = []"
   ]
  },
  {
   "cell_type": "markdown",
   "metadata": {},
   "source": [
    "# Initialize model"
   ]
  },
  {
   "cell_type": "code",
   "execution_count": 7,
   "metadata": {},
   "outputs": [
    {
     "name": "stderr",
     "output_type": "stream",
     "text": [
      "/home/hyeontae/hyeontae/venv/lib/python3.5/site-packages/torch/nn/modules/rnn.py:38: UserWarning: dropout option adds dropout after all but last recurrent layer, so non-zero dropout expects num_layers greater than 1, but got dropout=0.2 and num_layers=1\n",
      "  \"num_layers={}\".format(dropout, num_layers))\n",
      "2019-02-19 16:04:50,509 INFO   Optimizer: Adam (\n",
      "Parameter Group 0\n",
      "    amsgrad: False\n",
      "    betas: (0.9, 0.999)\n",
      "    eps: 1e-08\n",
      "    lr: 0.001\n",
      "    weight_decay: 0\n",
      "), Scheduler: None\n"
     ]
    },
    {
     "name": "stdout",
     "output_type": "stream",
     "text": [
      "Hidden size is 50\n"
     ]
    },
    {
     "name": "stderr",
     "output_type": "stream",
     "text": [
      "2019-02-19 16:06:26,947 INFO   Finished epoch 1: Train loss: 6.7394, Dev loss: 3.8080, Accuracy(Character): 0.6652, Accuracy(Word): 0.0000\n",
      "2019-02-19 16:08:02,078 INFO   Finished epoch 2: Train loss: 1.8054, Dev loss: 1.1892, Accuracy(Character): 0.9962, Accuracy(Word): 0.0000\n",
      "2019-02-19 16:09:36,820 INFO   Finished epoch 3: Train loss: 1.3633, Dev loss: 1.0471, Accuracy(Character): 0.9975, Accuracy(Word): 0.0000\n",
      "2019-02-19 16:11:12,412 INFO   Finished epoch 4: Train loss: 1.4411, Dev loss: 1.0472, Accuracy(Character): 0.9995, Accuracy(Word): 0.0000\n",
      "2019-02-19 16:12:47,084 INFO   Finished epoch 5: Train loss: 1.3638, Dev loss: 1.0964, Accuracy(Character): 0.9971, Accuracy(Word): 0.0000\n",
      "2019-02-19 16:14:22,479 INFO   Finished epoch 6: Train loss: 2.8628, Dev loss: 1.0512, Accuracy(Character): 0.9997, Accuracy(Word): 0.0000\n",
      "2019-02-19 16:15:57,981 INFO   Finished epoch 7: Train loss: 3.3915, Dev loss: 1.0471, Accuracy(Character): 0.9997, Accuracy(Word): 0.0000\n",
      "2019-02-19 16:17:33,779 INFO   Finished epoch 8: Train loss: 1.1962, Dev loss: 1.0977, Accuracy(Character): 0.9997, Accuracy(Word): 0.0000\n",
      "2019-02-19 16:19:08,345 INFO   Finished epoch 9: Train loss: 2.1321, Dev loss: 1.0136, Accuracy(Character): 0.9999, Accuracy(Word): 0.0000\n",
      "2019-02-19 16:20:43,908 INFO   Finished epoch 10: Train loss: 2.3988, Dev loss: 1.0360, Accuracy(Character): 0.9998, Accuracy(Word): 0.0000\n",
      "2019-02-19 16:22:19,164 INFO   Finished epoch 11: Train loss: 1.7547, Dev loss: 1.0961, Accuracy(Character): 0.9992, Accuracy(Word): 0.9457\n",
      "2019-02-19 16:23:53,955 INFO   Finished epoch 12: Train loss: 1.2935, Dev loss: 1.0225, Accuracy(Character): 0.9999, Accuracy(Word): 0.9724\n",
      "2019-02-19 16:25:28,746 INFO   Finished epoch 13: Train loss: 2.6286, Dev loss: 1.0187, Accuracy(Character): 0.9999, Accuracy(Word): 0.0000\n",
      "2019-02-19 16:27:04,500 INFO   Finished epoch 14: Train loss: 1.0369, Dev loss: 1.0318, Accuracy(Character): 0.9998, Accuracy(Word): 0.9801\n",
      "2019-02-19 16:28:39,686 INFO   Finished epoch 15: Train loss: 2.6175, Dev loss: 1.1828, Accuracy(Character): 0.9817, Accuracy(Word): 0.0084\n",
      "2019-02-19 16:30:16,028 INFO   Finished epoch 16: Train loss: 1.2922, Dev loss: 1.0078, Accuracy(Character): 1.0000, Accuracy(Word): 0.9724\n",
      "2019-02-19 16:31:51,634 INFO   Finished epoch 17: Train loss: 1.5856, Dev loss: 1.0076, Accuracy(Character): 1.0000, Accuracy(Word): 0.9801\n",
      "2019-02-19 16:33:27,803 INFO   Finished epoch 18: Train loss: 1.7223, Dev loss: 1.0031, Accuracy(Character): 1.0000, Accuracy(Word): 0.9801\n",
      "2019-02-19 16:35:02,991 INFO   Finished epoch 19: Train loss: 4.9205, Dev loss: 1.4093, Accuracy(Character): 0.9891, Accuracy(Word): 0.6194\n",
      "2019-02-19 16:36:37,185 INFO   Finished epoch 20: Train loss: 1.0428, Dev loss: 1.0435, Accuracy(Character): 0.9999, Accuracy(Word): 0.9801\n",
      "2019-02-19 16:38:14,975 INFO   Finished epoch 21: Train loss: 1.3725, Dev loss: 1.0244, Accuracy(Character): 0.9999, Accuracy(Word): 0.9618\n",
      "2019-02-19 16:39:51,884 INFO   Finished epoch 22: Train loss: 1.1927, Dev loss: 1.0035, Accuracy(Character): 1.0000, Accuracy(Word): 0.9859\n",
      "2019-02-19 16:41:26,870 INFO   Finished epoch 23: Train loss: 1.0157, Dev loss: 1.0023, Accuracy(Character): 1.0000, Accuracy(Word): 0.9895\n",
      "2019-02-19 16:43:02,337 INFO   Finished epoch 24: Train loss: 1.0235, Dev loss: 1.0209, Accuracy(Character): 1.0000, Accuracy(Word): 0.9859\n",
      "2019-02-19 16:44:37,631 INFO   Finished epoch 25: Train loss: 1.0430, Dev loss: 1.0101, Accuracy(Character): 1.0000, Accuracy(Word): 0.9859\n",
      "2019-02-19 16:46:12,753 INFO   Finished epoch 26: Train loss: 1.0157, Dev loss: 1.0070, Accuracy(Character): 1.0000, Accuracy(Word): 0.9895\n",
      "2019-02-19 16:47:47,800 INFO   Finished epoch 27: Train loss: 1.0632, Dev loss: 1.0090, Accuracy(Character): 1.0000, Accuracy(Word): 0.9801\n",
      "2019-02-19 16:49:24,020 INFO   Finished epoch 28: Train loss: 1.0432, Dev loss: 1.0028, Accuracy(Character): 1.0000, Accuracy(Word): 0.9895\n",
      "2019-02-19 16:50:59,952 INFO   Finished epoch 29: Train loss: 1.0088, Dev loss: 1.0140, Accuracy(Character): 1.0000, Accuracy(Word): 0.9895\n",
      "2019-02-19 16:52:35,899 INFO   Finished epoch 30: Train loss: 1.0579, Dev loss: 1.0492, Accuracy(Character): 0.9998, Accuracy(Word): 0.9618\n",
      "2019-02-19 16:54:11,776 INFO   Finished epoch 31: Train loss: 1.1210, Dev loss: 1.0093, Accuracy(Character): 1.0000, Accuracy(Word): 0.9859\n",
      "2019-02-19 16:55:46,643 INFO   Finished epoch 32: Train loss: 1.0041, Dev loss: 1.0016, Accuracy(Character): 1.0000, Accuracy(Word): 0.9895\n",
      "2019-02-19 16:57:22,241 INFO   Finished epoch 33: Train loss: 1.0029, Dev loss: 1.0012, Accuracy(Character): 1.0000, Accuracy(Word): 0.0000\n",
      "2019-02-19 16:58:57,748 INFO   Finished epoch 34: Train loss: 1.0306, Dev loss: 1.0043, Accuracy(Character): 1.0000, Accuracy(Word): 0.9895\n",
      "2019-02-19 17:00:34,749 INFO   Finished epoch 35: Train loss: 1.0068, Dev loss: 1.0036, Accuracy(Character): 1.0000, Accuracy(Word): 0.9946\n",
      "2019-02-19 17:02:11,404 INFO   Finished epoch 36: Train loss: 1.7037, Dev loss: 1.0019, Accuracy(Character): 1.0000, Accuracy(Word): 0.9946\n",
      "2019-02-19 17:03:46,867 INFO   Finished epoch 37: Train loss: 1.0416, Dev loss: 1.0547, Accuracy(Character): 0.9999, Accuracy(Word): 0.9801\n",
      "2019-02-19 17:05:22,303 INFO   Finished epoch 38: Train loss: 13.5002, Dev loss: 1.0024, Accuracy(Character): 1.0000, Accuracy(Word): 0.9933\n",
      "2019-02-19 17:06:58,031 INFO   Finished epoch 39: Train loss: 1.3073, Dev loss: 1.0020, Accuracy(Character): 1.0000, Accuracy(Word): 0.9859\n",
      "2019-02-19 17:08:32,990 INFO   Finished epoch 40: Train loss: 1.1397, Dev loss: 1.0249, Accuracy(Character): 1.0000, Accuracy(Word): 0.9859\n",
      "2019-02-19 17:10:10,543 INFO   Finished epoch 41: Train loss: 1.4495, Dev loss: 1.0009, Accuracy(Character): 1.0000, Accuracy(Word): 0.9933\n",
      "2019-02-19 17:11:48,133 INFO   Finished epoch 42: Train loss: 1.0295, Dev loss: 1.1965, Accuracy(Character): 0.9996, Accuracy(Word): 0.9618\n",
      "2019-02-19 17:13:25,385 INFO   Finished epoch 43: Train loss: 1.0159, Dev loss: 1.0011, Accuracy(Character): 1.0000, Accuracy(Word): 0.9933\n",
      "2019-02-19 17:15:00,501 INFO   Finished epoch 44: Train loss: 1.3531, Dev loss: 1.0018, Accuracy(Character): 1.0000, Accuracy(Word): 0.9895\n",
      "2019-02-19 17:16:36,302 INFO   Finished epoch 45: Train loss: 2.2267, Dev loss: 1.0129, Accuracy(Character): 1.0000, Accuracy(Word): 0.9803\n",
      "2019-02-19 17:18:12,042 INFO   Finished epoch 46: Train loss: 7.5541, Dev loss: 1.1291, Accuracy(Character): 0.9995, Accuracy(Word): 0.9458\n",
      "2019-02-19 17:19:48,443 INFO   Finished epoch 47: Train loss: 26.4084, Dev loss: 1.6370, Accuracy(Character): 0.9750, Accuracy(Word): 0.0001\n",
      "2019-02-19 17:21:28,024 INFO   Finished epoch 48: Train loss: 5.9427, Dev loss: 1.0089, Accuracy(Character): 1.0000, Accuracy(Word): 0.9859\n",
      "2019-02-19 17:23:05,723 INFO   Finished epoch 49: Train loss: 8.1246, Dev loss: 1.0398, Accuracy(Character): 1.0000, Accuracy(Word): 0.9859\n",
      "2019-02-19 17:24:42,552 INFO   Finished epoch 50: Train loss: 4.4469, Dev loss: 1.0010, Accuracy(Character): 1.0000, Accuracy(Word): 0.9724\n"
     ]
    },
    {
     "data": {
      "image/png": "[encoded data removed]",
      "text/plain": [
       "<Figure size 432x288 with 1 Axes>"
      ]
     },
     "metadata": {
      "needs_background": "light"
     },
     "output_type": "display_data"
    },
    {
     "data": {
      "image/png": "[encoded data removed]",
      "text/plain": [
       "<Figure size 432x288 with 1 Axes>"
      ]
     },
     "metadata": {
      "needs_background": "light"
     },
     "output_type": "display_data"
    }
   ],
   "source": [
    "for i in hidden_sizes:\n",
    "    print(\"Hidden size is %d\" % i)\n",
    "    hidden_size = i\n",
    "    bidirectional = True\n",
    "    encoder = EncoderRNN(len(src.vocab), max_len, hidden_size,\n",
    "                        bidirectional=bidirectional, variable_lengths=True)\n",
    "    decoder = DecoderRNN(len(tgt.vocab), max_len, hidden_size * 2 if bidirectional else hidden_size,\n",
    "                        dropout_p=0.2, use_attention=\"None\", bidirectional=bidirectional,\n",
    "                        eos_id=tgt.eos_id, sos_id=tgt.sos_id)\n",
    "    seq2seq = Seq2seq(encoder, decoder)\n",
    "    if torch.cuda.is_available():\n",
    "        seq2seq.cuda()\n",
    "\n",
    "    for param in seq2seq.parameters():\n",
    "        param.data.uniform_(-0.08, 0.08)\n",
    "\n",
    "    # train\n",
    "    t = SupervisedTrainer(loss=loss, batch_size=32,\n",
    "                        checkpoint_every=50,\n",
    "                        print_every=100,\n",
    "                        hidden_size=hidden_size,\n",
    "                        fig_path=\"log/plot/reverse_no_att\")\n",
    "\n",
    "    seq2seq, ave_loss, character_accuracy = t.train(seq2seq, train,\n",
    "                                                    num_epochs=50, dev_data=dev,\n",
    "                                                    optimizer=optimizer,\n",
    "                                                    teacher_forcing_ratio=0.5)\n",
    "\n",
    "    losses.append(ave_loss/100)\n",
    "    error_rate.append(1 - character_accuracy)\n",
    "    accuracy.append(character_accuracy)"
   ]
  },
  {
   "cell_type": "code",
   "execution_count": 8,
   "metadata": {},
   "outputs": [],
   "source": [
    "torch.save(seq2seq.state_dict(), 'log/reverse_no_att_model_save.pth')"
   ]
  }
 ],
 "metadata": {
  "kernelspec": {
   "display_name": "Python 3",
   "language": "python",
   "name": "python3"
  },
  "language_info": {
   "codemirror_mode": {
    "name": "ipython",
    "version": 3
   },
   "file_extension": ".py",
   "mimetype": "text/x-python",
   "name": "python",
   "nbconvert_exporter": "python",
   "pygments_lexer": "ipython3",
   "version": "3.5.2"
  }
 },
 "nbformat": 4,
 "nbformat_minor": 2
}
