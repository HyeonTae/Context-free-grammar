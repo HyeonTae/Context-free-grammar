{
 "cells": [
  {
   "cell_type": "markdown",
   "metadata": {},
   "source": [
    "# Import packages\n",
    "\n",
    "import useful packages for experiments"
   ]
  },
  {
   "cell_type": "code",
   "execution_count": 19,
   "metadata": {},
   "outputs": [],
   "source": [
    "import numpy as np\n",
    "import matplotlib.pyplot as plt\n",
    "from tqdm import tqdm_notebook as tqdm"
   ]
  },
  {
   "cell_type": "code",
   "execution_count": 20,
   "metadata": {},
   "outputs": [],
   "source": [
    "bracket_lines = open('data/grammar_data_N100.txt').read().strip().split('\\n')\n",
    "matching_pairs_lines = open('matching_pairs_data/grammar_matching_pairs_data.txt').read().strip().split('\\n')\n",
    "nonbracket_lines = open('nonbracket_data/grammar_data_with_nonbracket.txt').read().strip().split('\\n')\n",
    "palindrome_lines = open('palindrome_data/grammar_palindrome_data.txt').read().strip().split('\\n')\n",
    "unmatching_lines = open('unmatching_data/grammar_unmatching_data.txt').read().strip().split('\\n')\n",
    "length_list = []"
   ]
  },
  {
   "cell_type": "code",
   "execution_count": 21,
   "metadata": {},
   "outputs": [
    {
     "data": {
      "application/vnd.jupyter.widget-view+json": {
       "model_id": "0987b1074c8044dda0163b1d1ec4c591",
       "version_major": 2,
       "version_minor": 0
      },
      "text/plain": [
       "HBox(children=(IntProgress(value=0, max=100000), HTML(value='')))"
      ]
     },
     "metadata": {},
     "output_type": "display_data"
    },
    {
     "name": "stdout",
     "output_type": "stream",
     "text": [
      "\n"
     ]
    }
   ],
   "source": [
    "pairs = [[s for s in l.split('\\t')] for l in bracket_lines]\n",
    "lengths = []\n",
    "for pair in tqdm(pairs):\n",
    "    length = 0\n",
    "    for i in pair[1].split(' '):\n",
    "        length += 1\n",
    "    lengths.append(length)\n",
    "length_list.append(lengths)"
   ]
  },
  {
   "cell_type": "code",
   "execution_count": 22,
   "metadata": {},
   "outputs": [
    {
     "data": {
      "application/vnd.jupyter.widget-view+json": {
       "model_id": "1a27c9301909498a895e762ecdc1ce6c",
       "version_major": 2,
       "version_minor": 0
      },
      "text/plain": [
       "HBox(children=(IntProgress(value=0, max=100000), HTML(value='')))"
      ]
     },
     "metadata": {},
     "output_type": "display_data"
    },
    {
     "name": "stdout",
     "output_type": "stream",
     "text": [
      "\n"
     ]
    }
   ],
   "source": [
    "pairs = [[s for s in l.split('\\t')] for l in matching_pairs_lines]\n",
    "lengths = []\n",
    "for pair in tqdm(pairs):\n",
    "    length = 0\n",
    "    for i in pair[1].split(' '):\n",
    "        length += 1\n",
    "    lengths.append(length)\n",
    "length_list.append(lengths)"
   ]
  },
  {
   "cell_type": "code",
   "execution_count": 23,
   "metadata": {},
   "outputs": [
    {
     "data": {
      "application/vnd.jupyter.widget-view+json": {
       "model_id": "de4b681751214a91b025e1e013eb6afb",
       "version_major": 2,
       "version_minor": 0
      },
      "text/plain": [
       "HBox(children=(IntProgress(value=0, max=100000), HTML(value='')))"
      ]
     },
     "metadata": {},
     "output_type": "display_data"
    },
    {
     "name": "stdout",
     "output_type": "stream",
     "text": [
      "\n"
     ]
    }
   ],
   "source": [
    "pairs = [[s for s in l.split('\\t')] for l in nonbracket_lines]\n",
    "lengths = []\n",
    "for pair in tqdm(pairs):\n",
    "    length = 0\n",
    "    for i in pair[1].split(' '):\n",
    "        length += 1\n",
    "    lengths.append(length)\n",
    "length_list.append(lengths)"
   ]
  },
  {
   "cell_type": "code",
   "execution_count": 24,
   "metadata": {},
   "outputs": [
    {
     "data": {
      "application/vnd.jupyter.widget-view+json": {
       "model_id": "5196ce5f381a4305bd1ce39b786f9c1e",
       "version_major": 2,
       "version_minor": 0
      },
      "text/plain": [
       "HBox(children=(IntProgress(value=0, max=100000), HTML(value='')))"
      ]
     },
     "metadata": {},
     "output_type": "display_data"
    },
    {
     "name": "stdout",
     "output_type": "stream",
     "text": [
      "\n"
     ]
    }
   ],
   "source": [
    "pairs = [[s for s in l.split('\\t')] for l in palindrome_lines]\n",
    "lengths = []\n",
    "for pair in tqdm(pairs):\n",
    "    length = 0\n",
    "    for i in pair[1].split(' '):\n",
    "        length += 1\n",
    "    lengths.append(length)\n",
    "length_list.append(lengths)"
   ]
  },
  {
   "cell_type": "code",
   "execution_count": 25,
   "metadata": {},
   "outputs": [
    {
     "data": {
      "application/vnd.jupyter.widget-view+json": {
       "model_id": "14f73fa61ca14013b8ac35ecd67d341e",
       "version_major": 2,
       "version_minor": 0
      },
      "text/plain": [
       "HBox(children=(IntProgress(value=0, max=100000), HTML(value='')))"
      ]
     },
     "metadata": {},
     "output_type": "display_data"
    },
    {
     "name": "stdout",
     "output_type": "stream",
     "text": [
      "\n"
     ]
    }
   ],
   "source": [
    "pairs = [[s for s in l.split('\\t')] for l in unmatching_lines]\n",
    "lengths = []\n",
    "for pair in tqdm(pairs):\n",
    "    length = 0\n",
    "    for i in pair[1].split(' '):\n",
    "        length += 1\n",
    "    lengths.append(length)\n",
    "length_list.append(lengths)"
   ]
  },
  {
   "cell_type": "code",
   "execution_count": 28,
   "metadata": {},
   "outputs": [
    {
     "data": {
      "image/png": "[encoded data removed]",
      "text/plain": [
       "<Figure size 1080x720 with 1 Axes>"
      ]
     },
     "metadata": {
      "needs_background": "light"
     },
     "output_type": "display_data"
    }
   ],
   "source": [
    "plt.figure(figsize=(15,10))\n",
    "plt.grid(True)\n",
    "plt.hist(length_list[0], bins=10, facecolor='red', alpha=0.3, label='Bracket')\n",
    "plt.hist(length_list[1], bins=10, facecolor='green', alpha=0.3, label='Matching-Pair')\n",
    "plt.hist(length_list[2], bins=10, facecolor='blue', alpha=0.3, label='non-Bracket')\n",
    "plt.hist(length_list[3], bins=10, facecolor='yellow', alpha=0.3, label='Palindrome')\n",
    "plt.hist(length_list[4], bins=10, facecolor='magenta', alpha=0.3, label='unMatching')\n",
    "plt.xlabel('length', fontsize=24)\n",
    "plt.ylabel('frequency', fontsize=24)\n",
    "#plt.title('length to frequency', fontsize=26)\n",
    "plt.legend(loc=\"best\", fontsize=18)\n",
    "plt.savefig('log/plot/data_length_frequency.png')"
   ]
  },
  {
   "cell_type": "code",
   "execution_count": null,
   "metadata": {},
   "outputs": [],
   "source": []
  }
 ],
 "metadata": {
  "kernelspec": {
   "display_name": "Python 3",
   "language": "python",
   "name": "python3"
  },
  "language_info": {
   "codemirror_mode": {
    "name": "ipython",
    "version": 3
   },
   "file_extension": ".py",
   "mimetype": "text/x-python",
   "name": "python",
   "nbconvert_exporter": "python",
   "pygments_lexer": "ipython3",
   "version": "3.5.2"
  }
 },
 "nbformat": 4,
 "nbformat_minor": 2
}
