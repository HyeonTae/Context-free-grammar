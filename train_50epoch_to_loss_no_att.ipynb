{
 "cells": [
  {
   "cell_type": "markdown",
   "metadata": {},
   "source": [
    "# Set Parameter\n",
    "- Attention = None\n",
    "- Drop out = 0.2\n",
    "- Teacher Forcing Ratio = 0.5\n",
    "- Layer = 1\n",
    "- Hidden unit = 50\n",
    "- Batch size = 32\n",
    "- Epochs = 50"
   ]
  },
  {
   "cell_type": "markdown",
   "metadata": {},
   "source": [
    "# Import packages\n",
    "\n",
    "import useful packages for experiments"
   ]
  },
  {
   "cell_type": "code",
   "execution_count": 1,
   "metadata": {},
   "outputs": [
    {
     "name": "stderr",
     "output_type": "stream",
     "text": [
      "/home/hyeontae/hyeontae/venv/lib/python3.5/site-packages/torch/nn/functional.py:52: UserWarning: size_average and reduce args will be deprecated, please use reduction='elementwise_mean' instead.\n",
      "  warnings.warn(warning.format(ret))\n",
      "/home/hyeontae/hyeontae/venv/lib/python3.5/site-packages/torch/nn/functional.py:52: UserWarning: size_average and reduce args will be deprecated, please use reduction='elementwise_mean' instead.\n",
      "  warnings.warn(warning.format(ret))\n"
     ]
    }
   ],
   "source": [
    "import os\n",
    "import argparse\n",
    "import logging\n",
    "\n",
    "import torch\n",
    "from torch.optim.lr_scheduler import StepLR\n",
    "import torchtext\n",
    "\n",
    "from trainer.supervised_trainer import SupervisedTrainer\n",
    "from models.encoderRNN import EncoderRNN\n",
    "from models.decoderRNN import DecoderRNN\n",
    "from models.seq2seq import Seq2seq\n",
    "from loss.loss import Perplexity\n",
    "from optim.optim import Optimizer\n",
    "from dataset import fields\n",
    "from evaluator.predictor import Predictor\n",
    "\n",
    "import matplotlib.pyplot as plt"
   ]
  },
  {
   "cell_type": "markdown",
   "metadata": {},
   "source": [
    "# Data load"
   ]
  },
  {
   "cell_type": "code",
   "execution_count": 2,
   "metadata": {},
   "outputs": [],
   "source": [
    "train_path = \"data/grammar_data_N100_train.txt\"\n",
    "dev_path = \"data/grammar_data_N100_test.txt\"\n",
    "log_level = 'info'"
   ]
  },
  {
   "cell_type": "markdown",
   "metadata": {},
   "source": [
    "# Log format"
   ]
  },
  {
   "cell_type": "code",
   "execution_count": 3,
   "metadata": {},
   "outputs": [],
   "source": [
    "LOG_FORMAT = '%(asctime)s %(levelname)-6s %(message)s'\n",
    "logging.basicConfig(format=LOG_FORMAT, level=getattr(logging, log_level.upper()))"
   ]
  },
  {
   "cell_type": "markdown",
   "metadata": {},
   "source": [
    "# Prepare dataset"
   ]
  },
  {
   "cell_type": "code",
   "execution_count": 4,
   "metadata": {},
   "outputs": [],
   "source": [
    "src = fields.SourceField()\n",
    "tgt = fields.TargetField()\n",
    "max_len = 102\n",
    "def len_filter(example):\n",
    "    return len(example.src) <= max_len and len(example.tgt) <= max_len\n",
    "train = torchtext.data.TabularDataset(\n",
    "    path=train_path, format='tsv',\n",
    "    fields=[('src', src), ('tgt', tgt)],\n",
    "    filter_pred=len_filter\n",
    ")\n",
    "dev = torchtext.data.TabularDataset(\n",
    "    path=dev_path, format='tsv',\n",
    "    fields=[('src', src), ('tgt', tgt)],\n",
    "    filter_pred=len_filter\n",
    ")\n",
    "src.build_vocab(train)\n",
    "tgt.build_vocab(train)\n",
    "input_vocab = src.vocab\n",
    "output_vocab = tgt.vocab"
   ]
  },
  {
   "cell_type": "markdown",
   "metadata": {},
   "source": [
    "# Prepare loss"
   ]
  },
  {
   "cell_type": "code",
   "execution_count": 5,
   "metadata": {},
   "outputs": [
    {
     "name": "stderr",
     "output_type": "stream",
     "text": [
      "/home/hyeontae/hyeontae/venv/lib/python3.5/site-packages/torch/nn/functional.py:52: UserWarning: size_average and reduce args will be deprecated, please use reduction='sum' instead.\n",
      "  warnings.warn(warning.format(ret))\n"
     ]
    }
   ],
   "source": [
    "weight = torch.ones(len(tgt.vocab))\n",
    "pad = tgt.vocab.stoi[tgt.pad_token]\n",
    "loss = Perplexity(weight, pad)\n",
    "if torch.cuda.is_available():\n",
    "    loss.cuda()"
   ]
  },
  {
   "cell_type": "markdown",
   "metadata": {},
   "source": [
    "# Variable definition"
   ]
  },
  {
   "cell_type": "code",
   "execution_count": 6,
   "metadata": {},
   "outputs": [
    {
     "name": "stdout",
     "output_type": "stream",
     "text": [
      "[50]\n"
     ]
    }
   ],
   "source": [
    "seq2seq = None\n",
    "optimizer = \"Adam\"\n",
    "\n",
    "hidden_sizes = list(range(50, 51, 4))\n",
    "print(hidden_sizes)\n",
    "error_rate = []\n",
    "accuracy = []\n",
    "losses = []"
   ]
  },
  {
   "cell_type": "markdown",
   "metadata": {},
   "source": [
    "# Initialize model"
   ]
  },
  {
   "cell_type": "code",
   "execution_count": 7,
   "metadata": {},
   "outputs": [
    {
     "name": "stderr",
     "output_type": "stream",
     "text": [
      "/home/hyeontae/hyeontae/venv/lib/python3.5/site-packages/torch/nn/modules/rnn.py:38: UserWarning: dropout option adds dropout after all but last recurrent layer, so non-zero dropout expects num_layers greater than 1, but got dropout=0.2 and num_layers=1\n",
      "  \"num_layers={}\".format(dropout, num_layers))\n",
      "2019-02-13 09:44:34,572 INFO   Optimizer: Adam (\n",
      "Parameter Group 0\n",
      "    amsgrad: False\n",
      "    betas: (0.9, 0.999)\n",
      "    eps: 1e-08\n",
      "    lr: 0.001\n",
      "    weight_decay: 0\n",
      "), Scheduler: None\n"
     ]
    },
    {
     "name": "stdout",
     "output_type": "stream",
     "text": [
      "Hidden size is 50\n"
     ]
    },
    {
     "name": "stderr",
     "output_type": "stream",
     "text": [
      "2019-02-13 09:51:13,447 INFO   Finished epoch 1: Train loss: 17.9451, Dev loss: 13.6476, Accuracy(Character): 0.2082, Accuracy(Word): 0.0000\n",
      "2019-02-13 09:57:39,284 INFO   Finished epoch 2: Train loss: 4.7582, Dev loss: 4.9463, Accuracy(Character): 0.4507, Accuracy(Word): 0.0000\n",
      "2019-02-13 10:03:54,390 INFO   Finished epoch 3: Train loss: 3.2497, Dev loss: 3.9501, Accuracy(Character): 0.4993, Accuracy(Word): 0.0000\n",
      "2019-02-13 10:10:09,598 INFO   Finished epoch 4: Train loss: 2.7601, Dev loss: 3.6224, Accuracy(Character): 0.5280, Accuracy(Word): 0.0000\n",
      "2019-02-13 10:16:38,971 INFO   Finished epoch 5: Train loss: 2.5461, Dev loss: 3.3229, Accuracy(Character): 0.5617, Accuracy(Word): 0.0000\n",
      "2019-02-13 10:23:15,677 INFO   Finished epoch 6: Train loss: 2.3836, Dev loss: 3.0152, Accuracy(Character): 0.5811, Accuracy(Word): 0.0000\n",
      "2019-02-13 10:29:46,281 INFO   Finished epoch 7: Train loss: 2.2711, Dev loss: 3.3438, Accuracy(Character): 0.5436, Accuracy(Word): 0.0000\n",
      "2019-02-13 10:36:10,827 INFO   Finished epoch 8: Train loss: 2.2631, Dev loss: 2.6669, Accuracy(Character): 0.6044, Accuracy(Word): 0.0000\n",
      "2019-02-13 10:42:24,206 INFO   Finished epoch 9: Train loss: 2.1937, Dev loss: 3.0861, Accuracy(Character): 0.5702, Accuracy(Word): 0.0000\n",
      "2019-02-13 10:48:43,410 INFO   Finished epoch 10: Train loss: 2.2080, Dev loss: 4.7951, Accuracy(Character): 0.4915, Accuracy(Word): 0.0000\n",
      "2019-02-13 10:54:56,368 INFO   Finished epoch 11: Train loss: 2.1916, Dev loss: 2.6558, Accuracy(Character): 0.6139, Accuracy(Word): 0.0000\n",
      "2019-02-13 11:00:58,761 INFO   Finished epoch 12: Train loss: 2.1291, Dev loss: 3.0510, Accuracy(Character): 0.5794, Accuracy(Word): 0.0000\n",
      "2019-02-13 11:07:19,791 INFO   Finished epoch 13: Train loss: 2.1845, Dev loss: 2.7991, Accuracy(Character): 0.5951, Accuracy(Word): 0.0000\n",
      "2019-02-13 11:13:54,887 INFO   Finished epoch 14: Train loss: 2.1245, Dev loss: 2.8184, Accuracy(Character): 0.6010, Accuracy(Word): 0.0000\n",
      "2019-02-13 11:20:37,194 INFO   Finished epoch 15: Train loss: 2.0765, Dev loss: 2.7126, Accuracy(Character): 0.6011, Accuracy(Word): 0.0000\n",
      "2019-02-13 11:27:05,389 INFO   Finished epoch 16: Train loss: 2.0314, Dev loss: 2.3665, Accuracy(Character): 0.6390, Accuracy(Word): 0.0000\n",
      "2019-02-13 11:33:11,196 INFO   Finished epoch 17: Train loss: 2.0041, Dev loss: 3.2024, Accuracy(Character): 0.5872, Accuracy(Word): 0.0000\n",
      "2019-02-13 11:39:26,083 INFO   Finished epoch 18: Train loss: 1.9748, Dev loss: 2.2577, Accuracy(Character): 0.6621, Accuracy(Word): 0.0000\n",
      "2019-02-13 11:45:44,354 INFO   Finished epoch 19: Train loss: 1.9172, Dev loss: 2.5004, Accuracy(Character): 0.6302, Accuracy(Word): 0.0000\n",
      "2019-02-13 11:51:45,474 INFO   Finished epoch 20: Train loss: 1.8703, Dev loss: 2.2989, Accuracy(Character): 0.6559, Accuracy(Word): 0.0000\n",
      "2019-02-13 11:58:04,843 INFO   Finished epoch 21: Train loss: 1.8464, Dev loss: 2.2220, Accuracy(Character): 0.6692, Accuracy(Word): 0.0000\n",
      "2019-02-13 12:04:41,269 INFO   Finished epoch 22: Train loss: 1.9114, Dev loss: 2.2475, Accuracy(Character): 0.6639, Accuracy(Word): 0.0000\n",
      "2019-02-13 12:11:18,519 INFO   Finished epoch 23: Train loss: 1.8378, Dev loss: 2.3873, Accuracy(Character): 0.6465, Accuracy(Word): 0.0000\n",
      "2019-02-13 12:17:41,642 INFO   Finished epoch 24: Train loss: 1.8251, Dev loss: 2.2164, Accuracy(Character): 0.6656, Accuracy(Word): 0.0000\n",
      "2019-02-13 12:23:50,974 INFO   Finished epoch 25: Train loss: 1.8185, Dev loss: 2.1291, Accuracy(Character): 0.6843, Accuracy(Word): 0.0000\n",
      "2019-02-13 12:30:02,651 INFO   Finished epoch 26: Train loss: 1.8359, Dev loss: 2.4904, Accuracy(Character): 0.6264, Accuracy(Word): 0.0000\n",
      "2019-02-13 12:36:26,527 INFO   Finished epoch 27: Train loss: 1.7780, Dev loss: 2.1576, Accuracy(Character): 0.6809, Accuracy(Word): 0.0000\n",
      "2019-02-13 12:42:50,409 INFO   Finished epoch 28: Train loss: 1.7906, Dev loss: 2.0648, Accuracy(Character): 0.6897, Accuracy(Word): 0.0000\n",
      "2019-02-13 12:49:10,908 INFO   Finished epoch 29: Train loss: 1.7757, Dev loss: 1.9919, Accuracy(Character): 0.7096, Accuracy(Word): 0.0000\n",
      "2019-02-13 12:55:37,573 INFO   Finished epoch 30: Train loss: 1.7431, Dev loss: 2.0697, Accuracy(Character): 0.6927, Accuracy(Word): 0.0000\n",
      "2019-02-13 13:02:05,390 INFO   Finished epoch 31: Train loss: 1.7382, Dev loss: 2.3309, Accuracy(Character): 0.6558, Accuracy(Word): 0.0000\n",
      "2019-02-13 13:08:21,319 INFO   Finished epoch 32: Train loss: 1.7107, Dev loss: 1.9606, Accuracy(Character): 0.7167, Accuracy(Word): 0.0000\n",
      "2019-02-13 13:14:30,354 INFO   Finished epoch 33: Train loss: 1.7220, Dev loss: 1.9552, Accuracy(Character): 0.7177, Accuracy(Word): 0.0000\n",
      "2019-02-13 13:20:46,147 INFO   Finished epoch 34: Train loss: 1.7046, Dev loss: 2.2921, Accuracy(Character): 0.6631, Accuracy(Word): 0.0000\n",
      "2019-02-13 13:27:17,192 INFO   Finished epoch 35: Train loss: 1.7089, Dev loss: 2.0345, Accuracy(Character): 0.7047, Accuracy(Word): 0.0000\n",
      "2019-02-13 13:34:01,348 INFO   Finished epoch 36: Train loss: 1.7010, Dev loss: 1.9350, Accuracy(Character): 0.7190, Accuracy(Word): 0.0000\n",
      "2019-02-13 13:40:33,081 INFO   Finished epoch 37: Train loss: 1.7056, Dev loss: 1.9454, Accuracy(Character): 0.7215, Accuracy(Word): 0.0000\n",
      "2019-02-13 13:46:38,945 INFO   Finished epoch 38: Train loss: 1.6656, Dev loss: 2.0083, Accuracy(Character): 0.7083, Accuracy(Word): 0.0000\n",
      "2019-02-13 13:52:54,665 INFO   Finished epoch 39: Train loss: 1.6351, Dev loss: 1.9145, Accuracy(Character): 0.7308, Accuracy(Word): 0.0000\n",
      "2019-02-13 13:59:07,988 INFO   Finished epoch 40: Train loss: 1.6437, Dev loss: 1.8774, Accuracy(Character): 0.7329, Accuracy(Word): 0.0000\n",
      "2019-02-13 14:05:15,332 INFO   Finished epoch 41: Train loss: 1.6470, Dev loss: 1.8608, Accuracy(Character): 0.7322, Accuracy(Word): 0.0000\n",
      "2019-02-13 14:11:33,846 INFO   Finished epoch 42: Train loss: 1.6213, Dev loss: 1.8043, Accuracy(Character): 0.7470, Accuracy(Word): 0.0000\n",
      "2019-02-13 14:18:12,846 INFO   Finished epoch 43: Train loss: 1.6201, Dev loss: 1.8853, Accuracy(Character): 0.7296, Accuracy(Word): 0.0000\n",
      "2019-02-13 14:24:54,993 INFO   Finished epoch 44: Train loss: 1.6205, Dev loss: 1.9884, Accuracy(Character): 0.7118, Accuracy(Word): 0.0000\n",
      "2019-02-13 14:31:25,362 INFO   Finished epoch 45: Train loss: 1.6139, Dev loss: 1.8147, Accuracy(Character): 0.7440, Accuracy(Word): 0.0000\n",
      "2019-02-13 14:37:45,857 INFO   Finished epoch 46: Train loss: 1.5964, Dev loss: 1.9100, Accuracy(Character): 0.7263, Accuracy(Word): 0.0000\n",
      "2019-02-13 14:44:00,105 INFO   Finished epoch 47: Train loss: 1.6152, Dev loss: 1.8109, Accuracy(Character): 0.7472, Accuracy(Word): 0.0000\n",
      "2019-02-13 14:50:21,410 INFO   Finished epoch 48: Train loss: 1.5950, Dev loss: 2.0813, Accuracy(Character): 0.7047, Accuracy(Word): 0.0000\n",
      "2019-02-13 14:56:40,068 INFO   Finished epoch 49: Train loss: 1.5696, Dev loss: 1.7391, Accuracy(Character): 0.7621, Accuracy(Word): 0.0000\n",
      "2019-02-13 15:03:00,110 INFO   Finished epoch 50: Train loss: 1.5668, Dev loss: 1.7930, Accuracy(Character): 0.7540, Accuracy(Word): 0.0000\n"
     ]
    },
    {
     "data": {
      "image/png": "[encoded data removed]",
      "text/plain": [
       "<Figure size 432x288 with 1 Axes>"
      ]
     },
     "metadata": {
      "needs_background": "light"
     },
     "output_type": "display_data"
    },
    {
     "data": {
      "image/png": "[encoded data removed]",
      "text/plain": [
       "<Figure size 432x288 with 1 Axes>"
      ]
     },
     "metadata": {
      "needs_background": "light"
     },
     "output_type": "display_data"
    }
   ],
   "source": [
    "for i in hidden_sizes:\n",
    "    print(\"Hidden size is %d\" % i)\n",
    "    hidden_size = i\n",
    "    bidirectional = True\n",
    "    encoder = EncoderRNN(len(src.vocab), max_len, hidden_size,\n",
    "                        bidirectional=bidirectional, variable_lengths=True)\n",
    "    decoder = DecoderRNN(len(tgt.vocab), max_len, hidden_size * 2 if bidirectional else hidden_size,\n",
    "                        dropout_p=0.2, use_attention=None, bidirectional=bidirectional,\n",
    "                        eos_id=tgt.eos_id, sos_id=tgt.sos_id)\n",
    "    seq2seq = Seq2seq(encoder, decoder)\n",
    "    if torch.cuda.is_available():\n",
    "        seq2seq.cuda()\n",
    "\n",
    "    for param in seq2seq.parameters():\n",
    "        param.data.uniform_(-0.08, 0.08)\n",
    "\n",
    "    # train\n",
    "    t = SupervisedTrainer(loss=loss, batch_size=32,\n",
    "                        checkpoint_every=50,\n",
    "                        print_every=100,\n",
    "                        hidden_size=hidden_size,\n",
    "                        fig_path=\"log/plot/100N_no_att\")\n",
    "\n",
    "    seq2seq, ave_loss, character_accuracy = t.train(seq2seq, train,\n",
    "                                                    num_epochs=50, dev_data=dev,\n",
    "                                                    optimizer=optimizer,\n",
    "                                                    teacher_forcing_ratio=0.5)\n",
    "\n",
    "    losses.append(ave_loss/100)\n",
    "    error_rate.append(1 - character_accuracy)\n",
    "    accuracy.append(character_accuracy)"
   ]
  },
  {
   "cell_type": "code",
   "execution_count": 8,
   "metadata": {},
   "outputs": [],
   "source": [
    "torch.save(seq2seq.state_dict(), 'log/100N_no_att_model_save.pth')"
   ]
  }
 ],
 "metadata": {
  "kernelspec": {
   "display_name": "Python 3",
   "language": "python",
   "name": "python3"
  },
  "language_info": {
   "codemirror_mode": {
    "name": "ipython",
    "version": 3
   },
   "file_extension": ".py",
   "mimetype": "text/x-python",
   "name": "python",
   "nbconvert_exporter": "python",
   "pygments_lexer": "ipython3",
   "version": "3.5.2"
  }
 },
 "nbformat": 4,
 "nbformat_minor": 2
}
