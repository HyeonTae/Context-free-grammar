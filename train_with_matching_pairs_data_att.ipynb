{
 "cells": [
  {
   "cell_type": "markdown",
   "metadata": {},
   "source": [
    "# Set Parameter\n",
    "- Attention = Luong\n",
    "- Drop out = 0.2\n",
    "- Teacher Forcing Ratio = 0.5\n",
    "- Layer = 1\n",
    "- Hidden unit = 50\n",
    "- Batch size = 32\n",
    "- Epochs = 50"
   ]
  },
  {
   "cell_type": "markdown",
   "metadata": {},
   "source": [
    "# Import packages\n",
    "\n",
    "import useful packages for experiments"
   ]
  },
  {
   "cell_type": "code",
   "execution_count": 1,
   "metadata": {},
   "outputs": [
    {
     "name": "stderr",
     "output_type": "stream",
     "text": [
      "/home/hyeontae/hyeontae/venv/lib/python3.5/site-packages/torch/nn/functional.py:52: UserWarning: size_average and reduce args will be deprecated, please use reduction='elementwise_mean' instead.\n",
      "  warnings.warn(warning.format(ret))\n",
      "/home/hyeontae/hyeontae/venv/lib/python3.5/site-packages/torch/nn/functional.py:52: UserWarning: size_average and reduce args will be deprecated, please use reduction='elementwise_mean' instead.\n",
      "  warnings.warn(warning.format(ret))\n"
     ]
    }
   ],
   "source": [
    "import os\n",
    "import argparse\n",
    "import logging\n",
    "\n",
    "import torch\n",
    "from torch.optim.lr_scheduler import StepLR\n",
    "import torchtext\n",
    "\n",
    "from trainer.supervised_trainer import SupervisedTrainer\n",
    "from models.encoderRNN import EncoderRNN\n",
    "from models.decoderRNN import DecoderRNN\n",
    "from models.seq2seq import Seq2seq\n",
    "from loss.loss import Perplexity\n",
    "from optim.optim import Optimizer\n",
    "from dataset import fields\n",
    "from evaluator.predictor import Predictor\n",
    "\n",
    "import matplotlib.pyplot as plt"
   ]
  },
  {
   "cell_type": "markdown",
   "metadata": {},
   "source": [
    "# Data load"
   ]
  },
  {
   "cell_type": "code",
   "execution_count": 2,
   "metadata": {},
   "outputs": [],
   "source": [
    "train_path = \"matching_pairs_data/data_train.txt\"\n",
    "dev_path = \"matching_pairs_data/data_test.txt\"\n",
    "log_level = 'info'"
   ]
  },
  {
   "cell_type": "markdown",
   "metadata": {},
   "source": [
    "# Log format"
   ]
  },
  {
   "cell_type": "code",
   "execution_count": 3,
   "metadata": {},
   "outputs": [],
   "source": [
    "LOG_FORMAT = '%(asctime)s %(levelname)-6s %(message)s'\n",
    "logging.basicConfig(format=LOG_FORMAT, level=getattr(logging, log_level.upper()))"
   ]
  },
  {
   "cell_type": "markdown",
   "metadata": {},
   "source": [
    "# Prepare dataset"
   ]
  },
  {
   "cell_type": "code",
   "execution_count": 4,
   "metadata": {},
   "outputs": [],
   "source": [
    "src = fields.SourceField()\n",
    "tgt = fields.TargetField()\n",
    "max_len = 202\n",
    "def len_filter(example):\n",
    "    return len(example.src) <= max_len and len(example.tgt) <= max_len\n",
    "train = torchtext.data.TabularDataset(\n",
    "    path=train_path, format='tsv',\n",
    "    fields=[('src', src), ('tgt', tgt)],\n",
    "    filter_pred=len_filter\n",
    ")\n",
    "dev = torchtext.data.TabularDataset(\n",
    "    path=dev_path, format='tsv',\n",
    "    fields=[('src', src), ('tgt', tgt)],\n",
    "    filter_pred=len_filter\n",
    ")\n",
    "src.build_vocab(train)\n",
    "tgt.build_vocab(train)\n",
    "input_vocab = src.vocab\n",
    "output_vocab = tgt.vocab"
   ]
  },
  {
   "cell_type": "markdown",
   "metadata": {},
   "source": [
    "# Prepare loss"
   ]
  },
  {
   "cell_type": "code",
   "execution_count": 5,
   "metadata": {},
   "outputs": [
    {
     "name": "stderr",
     "output_type": "stream",
     "text": [
      "/home/hyeontae/hyeontae/venv/lib/python3.5/site-packages/torch/nn/functional.py:52: UserWarning: size_average and reduce args will be deprecated, please use reduction='sum' instead.\n",
      "  warnings.warn(warning.format(ret))\n"
     ]
    }
   ],
   "source": [
    "weight = torch.ones(len(tgt.vocab))\n",
    "pad = tgt.vocab.stoi[tgt.pad_token]\n",
    "loss = Perplexity(weight, pad)\n",
    "if torch.cuda.is_available():\n",
    "    loss.cuda()"
   ]
  },
  {
   "cell_type": "markdown",
   "metadata": {},
   "source": [
    "# Variable definition"
   ]
  },
  {
   "cell_type": "code",
   "execution_count": 6,
   "metadata": {},
   "outputs": [
    {
     "name": "stdout",
     "output_type": "stream",
     "text": [
      "[50]\n"
     ]
    }
   ],
   "source": [
    "seq2seq = None\n",
    "optimizer = \"Adam\"\n",
    "\n",
    "hidden_sizes = list(range(50, 51, 4))\n",
    "print(hidden_sizes)\n",
    "error_rate = []\n",
    "accuracy = []\n",
    "losses = []"
   ]
  },
  {
   "cell_type": "markdown",
   "metadata": {},
   "source": [
    "# Initialize model"
   ]
  },
  {
   "cell_type": "code",
   "execution_count": 7,
   "metadata": {},
   "outputs": [
    {
     "name": "stderr",
     "output_type": "stream",
     "text": [
      "/home/hyeontae/hyeontae/venv/lib/python3.5/site-packages/torch/nn/modules/rnn.py:38: UserWarning: dropout option adds dropout after all but last recurrent layer, so non-zero dropout expects num_layers greater than 1, but got dropout=0.2 and num_layers=1\n",
      "  \"num_layers={}\".format(dropout, num_layers))\n",
      "2019-02-20 11:14:06,305 INFO   Optimizer: Adam (\n",
      "Parameter Group 0\n",
      "    amsgrad: False\n",
      "    betas: (0.9, 0.999)\n",
      "    eps: 1e-08\n",
      "    lr: 0.001\n",
      "    weight_decay: 0\n",
      "), Scheduler: None\n"
     ]
    },
    {
     "name": "stdout",
     "output_type": "stream",
     "text": [
      "Hidden size is 50\n"
     ]
    },
    {
     "name": "stderr",
     "output_type": "stream",
     "text": [
      "/home/hyeontae/hyeontae/venv/lib/python3.5/site-packages/torch/nn/functional.py:995: UserWarning: nn.functional.tanh is deprecated. Use torch.tanh instead.\n",
      "  warnings.warn(\"nn.functional.tanh is deprecated. Use torch.tanh instead.\")\n",
      "2019-02-20 11:19:00,397 INFO   Finished epoch 1: Train loss: 7.4839, Dev loss: 6.4556, Accuracy(Character): 0.3609, Accuracy(Word): 0.0000\n",
      "2019-02-20 11:23:50,445 INFO   Finished epoch 2: Train loss: 4.2528, Dev loss: 4.7981, Accuracy(Character): 0.4648, Accuracy(Word): 0.0000\n",
      "2019-02-20 11:29:01,399 INFO   Finished epoch 3: Train loss: 3.1168, Dev loss: 4.3777, Accuracy(Character): 0.5566, Accuracy(Word): 0.0000\n",
      "2019-02-20 11:34:05,138 INFO   Finished epoch 4: Train loss: 2.5411, Dev loss: 3.7114, Accuracy(Character): 0.6366, Accuracy(Word): 0.0000\n",
      "2019-02-20 11:38:58,688 INFO   Finished epoch 5: Train loss: 2.2122, Dev loss: 3.1951, Accuracy(Character): 0.6819, Accuracy(Word): 0.0000\n",
      "2019-02-20 11:44:02,217 INFO   Finished epoch 6: Train loss: 1.9462, Dev loss: 2.4313, Accuracy(Character): 0.7629, Accuracy(Word): 0.0000\n",
      "2019-02-20 11:48:56,277 INFO   Finished epoch 7: Train loss: 1.8293, Dev loss: 2.3540, Accuracy(Character): 0.7801, Accuracy(Word): 0.0000\n",
      "2019-02-20 11:54:01,855 INFO   Finished epoch 8: Train loss: 1.6969, Dev loss: 2.2327, Accuracy(Character): 0.8176, Accuracy(Word): 0.0000\n",
      "2019-02-20 11:59:14,848 INFO   Finished epoch 9: Train loss: 1.5613, Dev loss: 1.7904, Accuracy(Character): 0.8938, Accuracy(Word): 0.0000\n",
      "2019-02-20 12:03:56,468 INFO   Finished epoch 10: Train loss: 1.4671, Dev loss: 1.6957, Accuracy(Character): 0.9205, Accuracy(Word): 0.0000\n",
      "2019-02-20 12:09:02,267 INFO   Finished epoch 11: Train loss: 1.3948, Dev loss: 1.6592, Accuracy(Character): 0.9272, Accuracy(Word): 0.0000\n",
      "2019-02-20 12:14:03,455 INFO   Finished epoch 12: Train loss: 1.3238, Dev loss: 1.4610, Accuracy(Character): 0.9481, Accuracy(Word): 0.0000\n",
      "2019-02-20 12:18:56,851 INFO   Finished epoch 13: Train loss: 1.2526, Dev loss: 1.6098, Accuracy(Character): 0.9465, Accuracy(Word): 0.0000\n",
      "2019-02-20 12:24:07,196 INFO   Finished epoch 14: Train loss: 1.2388, Dev loss: 1.4209, Accuracy(Character): 0.9713, Accuracy(Word): 0.0000\n",
      "2019-02-20 12:28:59,889 INFO   Finished epoch 15: Train loss: 1.1935, Dev loss: 1.3760, Accuracy(Character): 0.9682, Accuracy(Word): 0.0000\n",
      "2019-02-20 12:34:01,264 INFO   Finished epoch 16: Train loss: 1.1745, Dev loss: 1.2901, Accuracy(Character): 0.9793, Accuracy(Word): 0.0000\n",
      "2019-02-20 12:39:16,892 INFO   Finished epoch 17: Train loss: 1.1614, Dev loss: 1.2885, Accuracy(Character): 0.9791, Accuracy(Word): 0.0188\n",
      "2019-02-20 12:44:09,518 INFO   Finished epoch 18: Train loss: 1.1450, Dev loss: 1.2133, Accuracy(Character): 0.9871, Accuracy(Word): 0.0000\n",
      "2019-02-20 12:49:14,660 INFO   Finished epoch 19: Train loss: 1.1291, Dev loss: 1.2771, Accuracy(Character): 0.9819, Accuracy(Word): 0.0589\n",
      "2019-02-20 12:54:14,880 INFO   Finished epoch 20: Train loss: 1.1088, Dev loss: 1.3603, Accuracy(Character): 0.9826, Accuracy(Word): 0.0187\n",
      "2019-02-20 12:59:07,660 INFO   Finished epoch 21: Train loss: 1.1063, Dev loss: 1.3757, Accuracy(Character): 0.9822, Accuracy(Word): 0.0000\n",
      "2019-02-20 13:04:18,055 INFO   Finished epoch 22: Train loss: 1.0770, Dev loss: 1.2176, Accuracy(Character): 0.9902, Accuracy(Word): 0.1511\n",
      "2019-02-20 13:09:18,530 INFO   Finished epoch 23: Train loss: 1.0868, Dev loss: 1.3629, Accuracy(Character): 0.9797, Accuracy(Word): 0.0000\n",
      "2019-02-20 13:14:11,859 INFO   Finished epoch 24: Train loss: 1.0755, Dev loss: 1.1222, Accuracy(Character): 0.9952, Accuracy(Word): 0.0001\n",
      "2019-02-20 13:19:18,823 INFO   Finished epoch 25: Train loss: 1.0591, Dev loss: 1.1758, Accuracy(Character): 0.9898, Accuracy(Word): 0.0922\n",
      "2019-02-20 13:24:06,397 INFO   Finished epoch 26: Train loss: 1.0650, Dev loss: 1.1222, Accuracy(Character): 0.9941, Accuracy(Word): 0.0539\n",
      "2019-02-20 13:29:17,072 INFO   Finished epoch 27: Train loss: 1.0598, Dev loss: 1.1017, Accuracy(Character): 0.9966, Accuracy(Word): 0.0000\n",
      "2019-02-20 13:34:28,134 INFO   Finished epoch 28: Train loss: 1.0561, Dev loss: 1.0692, Accuracy(Character): 0.9977, Accuracy(Word): 0.4260\n",
      "2019-02-20 13:39:11,259 INFO   Finished epoch 29: Train loss: 1.0545, Dev loss: 1.1065, Accuracy(Character): 0.9957, Accuracy(Word): 0.1486\n",
      "2019-02-20 13:44:20,007 INFO   Finished epoch 30: Train loss: 1.0521, Dev loss: 1.1285, Accuracy(Character): 0.9941, Accuracy(Word): 0.0000\n",
      "2019-02-20 13:49:17,457 INFO   Finished epoch 31: Train loss: 1.0341, Dev loss: 1.0694, Accuracy(Character): 0.9979, Accuracy(Word): 0.0000\n",
      "2019-02-20 13:54:20,269 INFO   Finished epoch 32: Train loss: 1.0395, Dev loss: 1.0694, Accuracy(Character): 0.9978, Accuracy(Word): 0.0000\n",
      "2019-02-20 13:59:31,103 INFO   Finished epoch 33: Train loss: 1.0403, Dev loss: 1.2221, Accuracy(Character): 0.9948, Accuracy(Word): 0.0000\n",
      "2019-02-20 14:03:46,033 INFO   Finished epoch 34: Train loss: 1.0382, Dev loss: 1.1258, Accuracy(Character): 0.9948, Accuracy(Word): 0.0000\n",
      "2019-02-20 14:07:58,864 INFO   Finished epoch 35: Train loss: 1.0356, Dev loss: 1.2039, Accuracy(Character): 0.9937, Accuracy(Word): 0.0000\n",
      "2019-02-20 14:12:11,745 INFO   Finished epoch 36: Train loss: 1.0251, Dev loss: 1.0980, Accuracy(Character): 0.9972, Accuracy(Word): 0.0000\n",
      "2019-02-20 14:16:19,776 INFO   Finished epoch 37: Train loss: 1.0283, Dev loss: 1.0906, Accuracy(Character): 0.9967, Accuracy(Word): 0.0000\n",
      "2019-02-20 14:20:36,620 INFO   Finished epoch 38: Train loss: 1.0255, Dev loss: 1.0787, Accuracy(Character): 0.9965, Accuracy(Word): 0.0000\n",
      "2019-02-20 14:24:46,751 INFO   Finished epoch 39: Train loss: 1.0277, Dev loss: 1.3370, Accuracy(Character): 0.9890, Accuracy(Word): 0.0000\n",
      "2019-02-20 14:28:48,437 INFO   Finished epoch 40: Train loss: 1.0261, Dev loss: 1.0502, Accuracy(Character): 0.9987, Accuracy(Word): 0.0000\n",
      "2019-02-20 14:33:02,076 INFO   Finished epoch 41: Train loss: 1.0257, Dev loss: 1.0457, Accuracy(Character): 0.9989, Accuracy(Word): 0.0000\n",
      "2019-02-20 14:37:05,041 INFO   Finished epoch 42: Train loss: 1.0198, Dev loss: 1.0884, Accuracy(Character): 0.9977, Accuracy(Word): 0.0000\n",
      "2019-02-20 14:41:23,973 INFO   Finished epoch 43: Train loss: 1.0206, Dev loss: 1.0623, Accuracy(Character): 0.9984, Accuracy(Word): 0.0000\n",
      "2019-02-20 14:45:40,533 INFO   Finished epoch 44: Train loss: 1.0200, Dev loss: 1.0473, Accuracy(Character): 0.9988, Accuracy(Word): 0.0000\n",
      "2019-02-20 14:49:47,696 INFO   Finished epoch 45: Train loss: 1.0180, Dev loss: 1.0434, Accuracy(Character): 0.9989, Accuracy(Word): 0.0000\n",
      "2019-02-20 14:53:58,560 INFO   Finished epoch 46: Train loss: 1.0182, Dev loss: 1.0456, Accuracy(Character): 0.9989, Accuracy(Word): 0.0000\n",
      "2019-02-20 14:58:03,753 INFO   Finished epoch 47: Train loss: 1.0152, Dev loss: 1.0279, Accuracy(Character): 0.9994, Accuracy(Word): 0.0000\n",
      "2019-02-20 15:02:13,400 INFO   Finished epoch 48: Train loss: 1.0179, Dev loss: 1.0255, Accuracy(Character): 0.9995, Accuracy(Word): 0.0001\n",
      "2019-02-20 15:06:31,400 INFO   Finished epoch 49: Train loss: 1.0210, Dev loss: 1.0695, Accuracy(Character): 0.9987, Accuracy(Word): 0.0000\n",
      "2019-02-20 15:10:33,550 INFO   Finished epoch 50: Train loss: 1.0161, Dev loss: 1.0294, Accuracy(Character): 0.9995, Accuracy(Word): 0.0000\n"
     ]
    },
    {
     "data": {
      "image/png": "[encoded data removed]",
      "text/plain": [
       "<Figure size 432x288 with 1 Axes>"
      ]
     },
     "metadata": {
      "needs_background": "light"
     },
     "output_type": "display_data"
    },
    {
     "data": {
      "image/png": "[encoded data removed]",
      "text/plain": [
       "<Figure size 432x288 with 1 Axes>"
      ]
     },
     "metadata": {
      "needs_background": "light"
     },
     "output_type": "display_data"
    }
   ],
   "source": [
    "for i in hidden_sizes:\n",
    "    print(\"Hidden size is %d\" % i)\n",
    "    hidden_size = i\n",
    "    bidirectional = True\n",
    "    encoder = EncoderRNN(len(src.vocab), max_len, hidden_size,\n",
    "                        bidirectional=bidirectional, variable_lengths=True)\n",
    "    decoder = DecoderRNN(len(tgt.vocab), max_len, hidden_size * 2 if bidirectional else hidden_size,\n",
    "                        dropout_p=0.2, use_attention=\"Luong\", bidirectional=bidirectional,\n",
    "                        eos_id=tgt.eos_id, sos_id=tgt.sos_id)\n",
    "    seq2seq = Seq2seq(encoder, decoder)\n",
    "    if torch.cuda.is_available():\n",
    "        seq2seq.cuda()\n",
    "\n",
    "    for param in seq2seq.parameters():\n",
    "        param.data.uniform_(-0.08, 0.08)\n",
    "\n",
    "    # train\n",
    "    t = SupervisedTrainer(loss=loss, batch_size=32,\n",
    "                        checkpoint_every=50,\n",
    "                        print_every=100,\n",
    "                        hidden_size=hidden_size,\n",
    "                        fig_path=\"log/plot/matching_pairs_att\")\n",
    "\n",
    "    seq2seq, ave_loss, character_accuracy = t.train(seq2seq, train,\n",
    "                                                    num_epochs=50, dev_data=dev,\n",
    "                                                    optimizer=optimizer,\n",
    "                                                    teacher_forcing_ratio=0.5)\n",
    "\n",
    "    losses.append(ave_loss/100)\n",
    "    error_rate.append(1 - character_accuracy)\n",
    "    accuracy.append(character_accuracy)"
   ]
  },
  {
   "cell_type": "code",
   "execution_count": 8,
   "metadata": {},
   "outputs": [],
   "source": [
    "torch.save(seq2seq.state_dict(), 'log/matching_pairs_att_model_save.pth')"
   ]
  }
 ],
 "metadata": {
  "kernelspec": {
   "display_name": "Python 3",
   "language": "python",
   "name": "python3"
  },
  "language_info": {
   "codemirror_mode": {
    "name": "ipython",
    "version": 3
   },
   "file_extension": ".py",
   "mimetype": "text/x-python",
   "name": "python",
   "nbconvert_exporter": "python",
   "pygments_lexer": "ipython3",
   "version": "3.5.2"
  }
 },
 "nbformat": 4,
 "nbformat_minor": 2
}
