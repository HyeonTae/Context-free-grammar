{
 "cells": [
  {
   "cell_type": "markdown",
   "metadata": {},
   "source": [
    "# Set Parameter\n",
    "- Attention = True\n",
    "- Drop out = 0.2\n",
    "- Teacher Forcing Ratio = 0.5\n",
    "- Layer = 1\n",
    "- Hidden unit = 50\n",
    "- Batch size = 32\n",
    "- Epochs = 50"
   ]
  },
  {
   "cell_type": "markdown",
   "metadata": {},
   "source": [
    "# Import packages\n",
    "\n",
    "import useful packages for experiments"
   ]
  },
  {
   "cell_type": "code",
   "execution_count": 1,
   "metadata": {},
   "outputs": [
    {
     "name": "stderr",
     "output_type": "stream",
     "text": [
      "/home/hyeontae/hyeontae/venv/lib/python3.5/site-packages/torch/nn/functional.py:52: UserWarning: size_average and reduce args will be deprecated, please use reduction='elementwise_mean' instead.\n",
      "  warnings.warn(warning.format(ret))\n",
      "/home/hyeontae/hyeontae/venv/lib/python3.5/site-packages/torch/nn/functional.py:52: UserWarning: size_average and reduce args will be deprecated, please use reduction='elementwise_mean' instead.\n",
      "  warnings.warn(warning.format(ret))\n"
     ]
    }
   ],
   "source": [
    "import os\n",
    "import argparse\n",
    "import logging\n",
    "\n",
    "import torch\n",
    "from torch.optim.lr_scheduler import StepLR\n",
    "import torchtext\n",
    "\n",
    "from trainer.supervised_trainer import SupervisedTrainer\n",
    "from models.encoderRNN import EncoderRNN\n",
    "from models.decoderRNN import DecoderRNN\n",
    "from models.seq2seq import Seq2seq\n",
    "from loss.loss import Perplexity\n",
    "from optim.optim import Optimizer\n",
    "from dataset import fields\n",
    "from evaluator.predictor import Predictor\n",
    "\n",
    "import matplotlib.pyplot as plt"
   ]
  },
  {
   "cell_type": "markdown",
   "metadata": {},
   "source": [
    "# Data load"
   ]
  },
  {
   "cell_type": "code",
   "execution_count": 2,
   "metadata": {},
   "outputs": [],
   "source": [
    "train_path = \"nonbracket_data/data_train.txt\"\n",
    "dev_path = \"nonbracket_data/data_test.txt\"\n",
    "log_level = 'info'"
   ]
  },
  {
   "cell_type": "markdown",
   "metadata": {},
   "source": [
    "# Log format"
   ]
  },
  {
   "cell_type": "code",
   "execution_count": 3,
   "metadata": {},
   "outputs": [],
   "source": [
    "LOG_FORMAT = '%(asctime)s %(levelname)-6s %(message)s'\n",
    "logging.basicConfig(format=LOG_FORMAT, level=getattr(logging, log_level.upper()))"
   ]
  },
  {
   "cell_type": "markdown",
   "metadata": {},
   "source": [
    "# Prepare dataset"
   ]
  },
  {
   "cell_type": "code",
   "execution_count": 4,
   "metadata": {},
   "outputs": [],
   "source": [
    "src = fields.SourceField()\n",
    "tgt = fields.TargetField()\n",
    "max_len = 100\n",
    "def len_filter(example):\n",
    "    return len(example.src) <= max_len and len(example.tgt) <= max_len\n",
    "train = torchtext.data.TabularDataset(\n",
    "    path=train_path, format='tsv',\n",
    "    fields=[('src', src), ('tgt', tgt)],\n",
    "    filter_pred=len_filter\n",
    ")\n",
    "dev = torchtext.data.TabularDataset(\n",
    "    path=dev_path, format='tsv',\n",
    "    fields=[('src', src), ('tgt', tgt)],\n",
    "    filter_pred=len_filter\n",
    ")\n",
    "src.build_vocab(train)\n",
    "tgt.build_vocab(train)\n",
    "input_vocab = src.vocab\n",
    "output_vocab = tgt.vocab"
   ]
  },
  {
   "cell_type": "markdown",
   "metadata": {},
   "source": [
    "# Prepare loss"
   ]
  },
  {
   "cell_type": "code",
   "execution_count": 5,
   "metadata": {},
   "outputs": [
    {
     "name": "stderr",
     "output_type": "stream",
     "text": [
      "/home/hyeontae/hyeontae/venv/lib/python3.5/site-packages/torch/nn/functional.py:52: UserWarning: size_average and reduce args will be deprecated, please use reduction='sum' instead.\n",
      "  warnings.warn(warning.format(ret))\n"
     ]
    }
   ],
   "source": [
    "weight = torch.ones(len(tgt.vocab))\n",
    "pad = tgt.vocab.stoi[tgt.pad_token]\n",
    "loss = Perplexity(weight, pad)\n",
    "if torch.cuda.is_available():\n",
    "    loss.cuda()"
   ]
  },
  {
   "cell_type": "markdown",
   "metadata": {},
   "source": [
    "# Variable definition"
   ]
  },
  {
   "cell_type": "code",
   "execution_count": 6,
   "metadata": {},
   "outputs": [
    {
     "name": "stdout",
     "output_type": "stream",
     "text": [
      "[50]\n"
     ]
    }
   ],
   "source": [
    "seq2seq = None\n",
    "optimizer = \"Adam\"\n",
    "\n",
    "hidden_sizes = list(range(50, 51, 4))\n",
    "print(hidden_sizes)\n",
    "error_rate = []\n",
    "accuracy = []\n",
    "losses = []"
   ]
  },
  {
   "cell_type": "markdown",
   "metadata": {},
   "source": [
    "# Initialize model"
   ]
  },
  {
   "cell_type": "code",
   "execution_count": 7,
   "metadata": {},
   "outputs": [
    {
     "name": "stderr",
     "output_type": "stream",
     "text": [
      "/home/hyeontae/hyeontae/venv/lib/python3.5/site-packages/torch/nn/modules/rnn.py:38: UserWarning: dropout option adds dropout after all but last recurrent layer, so non-zero dropout expects num_layers greater than 1, but got dropout=0.2 and num_layers=1\n",
      "  \"num_layers={}\".format(dropout, num_layers))\n",
      "2019-01-31 17:41:18,285 INFO   Optimizer: Adam (\n",
      "Parameter Group 0\n",
      "    amsgrad: False\n",
      "    betas: (0.9, 0.999)\n",
      "    eps: 1e-08\n",
      "    lr: 0.001\n",
      "    weight_decay: 0\n",
      "), Scheduler: None\n"
     ]
    },
    {
     "name": "stdout",
     "output_type": "stream",
     "text": [
      "Hidden size is 50\n"
     ]
    },
    {
     "name": "stderr",
     "output_type": "stream",
     "text": [
      "/home/hyeontae/hyeontae/venv/lib/python3.5/site-packages/torch/nn/functional.py:995: UserWarning: nn.functional.tanh is deprecated. Use torch.tanh instead.\n",
      "  warnings.warn(\"nn.functional.tanh is deprecated. Use torch.tanh instead.\")\n",
      "2019-01-31 17:46:33,638 INFO   Finished epoch 1: Train loss: 10.6260, Dev loss: 8.9404, Accuracy(Character): 0.3373, Accuracy(Word): 0.0000\n",
      "2019-01-31 17:52:01,243 INFO   Finished epoch 2: Train loss: 4.4184, Dev loss: 4.8155, Accuracy(Character): 0.4938, Accuracy(Word): 0.0000\n",
      "2019-01-31 17:57:38,961 INFO   Finished epoch 3: Train loss: 2.8952, Dev loss: 3.2755, Accuracy(Character): 0.5934, Accuracy(Word): 0.0000\n",
      "2019-01-31 18:03:08,117 INFO   Finished epoch 4: Train loss: 2.3174, Dev loss: 2.6444, Accuracy(Character): 0.6704, Accuracy(Word): 0.0000\n",
      "2019-01-31 18:08:40,009 INFO   Finished epoch 5: Train loss: 1.9700, Dev loss: 2.1131, Accuracy(Character): 0.7392, Accuracy(Word): 0.0067\n",
      "2019-01-31 18:14:02,257 INFO   Finished epoch 6: Train loss: 1.8208, Dev loss: 2.3465, Accuracy(Character): 0.7109, Accuracy(Word): 0.0062\n",
      "2019-01-31 18:19:22,149 INFO   Finished epoch 7: Train loss: 1.6022, Dev loss: 1.5982, Accuracy(Character): 0.8445, Accuracy(Word): 0.0190\n",
      "2019-01-31 18:25:02,120 INFO   Finished epoch 8: Train loss: 1.4672, Dev loss: 1.7345, Accuracy(Character): 0.8165, Accuracy(Word): 0.0063\n",
      "2019-01-31 18:30:21,104 INFO   Finished epoch 9: Train loss: 1.3581, Dev loss: 1.3898, Accuracy(Character): 0.8955, Accuracy(Word): 0.0301\n",
      "2019-01-31 18:35:37,639 INFO   Finished epoch 10: Train loss: 1.2887, Dev loss: 1.1690, Accuracy(Character): 0.9623, Accuracy(Word): 0.0271\n",
      "2019-01-31 18:41:15,108 INFO   Finished epoch 11: Train loss: 1.1397, Dev loss: 1.3557, Accuracy(Character): 0.9222, Accuracy(Word): 0.0225\n",
      "2019-01-31 18:46:19,700 INFO   Finished epoch 12: Train loss: 1.1171, Dev loss: 1.2580, Accuracy(Character): 0.9587, Accuracy(Word): 0.0218\n",
      "2019-01-31 18:51:59,943 INFO   Finished epoch 13: Train loss: 1.1286, Dev loss: 1.4327, Accuracy(Character): 0.9220, Accuracy(Word): 0.0210\n",
      "2019-01-31 18:57:23,361 INFO   Finished epoch 14: Train loss: 1.1292, Dev loss: 1.2199, Accuracy(Character): 0.9598, Accuracy(Word): 0.0338\n",
      "2019-01-31 19:02:43,415 INFO   Finished epoch 15: Train loss: 1.1994, Dev loss: 1.0634, Accuracy(Character): 0.9891, Accuracy(Word): 0.0109\n",
      "2019-01-31 19:08:09,540 INFO   Finished epoch 16: Train loss: 1.0543, Dev loss: 1.0178, Accuracy(Character): 0.9974, Accuracy(Word): 0.0028\n",
      "2019-01-31 19:13:28,259 INFO   Finished epoch 17: Train loss: 1.1531, Dev loss: 1.0149, Accuracy(Character): 0.9968, Accuracy(Word): 0.0258\n",
      "2019-01-31 19:18:40,364 INFO   Finished epoch 18: Train loss: 1.1433, Dev loss: 1.0056, Accuracy(Character): 0.9990, Accuracy(Word): 0.0741\n",
      "2019-01-31 19:24:16,617 INFO   Finished epoch 19: Train loss: 1.0491, Dev loss: 1.0148, Accuracy(Character): 0.9965, Accuracy(Word): 0.0599\n",
      "2019-01-31 19:29:28,820 INFO   Finished epoch 20: Train loss: 1.0494, Dev loss: 1.0061, Accuracy(Character): 0.9987, Accuracy(Word): 0.0205\n",
      "2019-01-31 19:35:00,812 INFO   Finished epoch 21: Train loss: 1.0336, Dev loss: 1.0469, Accuracy(Character): 0.9943, Accuracy(Word): 0.0288\n",
      "2019-01-31 19:40:30,551 INFO   Finished epoch 22: Train loss: 1.0197, Dev loss: 1.0066, Accuracy(Character): 0.9989, Accuracy(Word): 0.0480\n",
      "2019-01-31 19:45:59,351 INFO   Finished epoch 23: Train loss: 1.0547, Dev loss: 1.0021, Accuracy(Character): 0.9997, Accuracy(Word): 0.0327\n",
      "2019-01-31 19:51:23,119 INFO   Finished epoch 24: Train loss: 1.0173, Dev loss: 1.0272, Accuracy(Character): 0.9968, Accuracy(Word): 0.0014\n",
      "2019-01-31 19:56:43,080 INFO   Finished epoch 25: Train loss: 1.0483, Dev loss: 1.0025, Accuracy(Character): 0.9997, Accuracy(Word): 0.0742\n",
      "2019-01-31 20:02:10,821 INFO   Finished epoch 26: Train loss: 1.0314, Dev loss: 1.0042, Accuracy(Character): 0.9993, Accuracy(Word): 0.0557\n",
      "2019-01-31 20:07:29,589 INFO   Finished epoch 27: Train loss: 1.0373, Dev loss: 1.0142, Accuracy(Character): 0.9987, Accuracy(Word): 0.0712\n",
      "2019-01-31 20:12:50,786 INFO   Finished epoch 28: Train loss: 1.0153, Dev loss: 1.0044, Accuracy(Character): 0.9995, Accuracy(Word): 0.0633\n",
      "2019-01-31 20:18:14,275 INFO   Finished epoch 29: Train loss: 1.0084, Dev loss: 1.0079, Accuracy(Character): 0.9993, Accuracy(Word): 0.0746\n",
      "2019-01-31 20:23:34,219 INFO   Finished epoch 30: Train loss: 1.2092, Dev loss: 1.0149, Accuracy(Character): 0.9988, Accuracy(Word): 0.0712\n",
      "2019-01-31 20:28:58,013 INFO   Finished epoch 31: Train loss: 1.0136, Dev loss: 1.0025, Accuracy(Character): 0.9998, Accuracy(Word): 0.0515\n",
      "2019-01-31 20:34:35,355 INFO   Finished epoch 32: Train loss: 1.0128, Dev loss: 1.0086, Accuracy(Character): 0.9988, Accuracy(Word): 0.0837\n",
      "2019-01-31 20:39:37,722 INFO   Finished epoch 33: Train loss: 1.0060, Dev loss: 1.0071, Accuracy(Character): 0.9995, Accuracy(Word): 0.0205\n",
      "2019-01-31 20:45:19,152 INFO   Finished epoch 34: Train loss: 1.0171, Dev loss: 1.0268, Accuracy(Character): 0.9981, Accuracy(Word): 0.0723\n",
      "2019-01-31 20:50:51,587 INFO   Finished epoch 35: Train loss: 1.0067, Dev loss: 1.0049, Accuracy(Character): 0.9996, Accuracy(Word): 0.0138\n",
      "2019-01-31 20:56:05,179 INFO   Finished epoch 36: Train loss: 1.0055, Dev loss: 1.0007, Accuracy(Character): 0.9999, Accuracy(Word): 0.2756\n",
      "2019-01-31 21:01:25,280 INFO   Finished epoch 37: Train loss: 1.0167, Dev loss: 1.0076, Accuracy(Character): 0.9994, Accuracy(Word): 0.0226\n",
      "2019-01-31 21:06:52,167 INFO   Finished epoch 38: Train loss: 1.0056, Dev loss: 1.0007, Accuracy(Character): 0.9999, Accuracy(Word): 0.0849\n",
      "2019-01-31 21:11:57,951 INFO   Finished epoch 39: Train loss: 1.0073, Dev loss: 1.0023, Accuracy(Character): 0.9998, Accuracy(Word): 0.0515\n",
      "2019-01-31 21:17:35,262 INFO   Finished epoch 40: Train loss: 1.0048, Dev loss: 1.0020, Accuracy(Character): 0.9998, Accuracy(Word): 0.0325\n",
      "2019-01-31 21:22:44,809 INFO   Finished epoch 41: Train loss: 1.0019, Dev loss: 1.0025, Accuracy(Character): 0.9998, Accuracy(Word): 0.0515\n",
      "2019-01-31 21:28:11,650 INFO   Finished epoch 42: Train loss: 1.0078, Dev loss: 1.0117, Accuracy(Character): 0.9988, Accuracy(Word): 0.0000\n",
      "2019-01-31 21:33:15,295 INFO   Finished epoch 43: Train loss: 1.0032, Dev loss: 1.0071, Accuracy(Character): 0.9994, Accuracy(Word): 0.0844\n",
      "2019-01-31 21:36:51,543 INFO   Finished epoch 44: Train loss: 1.0100, Dev loss: 1.0032, Accuracy(Character): 0.9996, Accuracy(Word): 0.1099\n",
      "2019-01-31 21:40:20,337 INFO   Finished epoch 45: Train loss: 1.0070, Dev loss: 1.0044, Accuracy(Character): 0.9998, Accuracy(Word): 0.0515\n",
      "2019-01-31 21:43:44,484 INFO   Finished epoch 46: Train loss: 1.0043, Dev loss: 1.0034, Accuracy(Character): 0.9998, Accuracy(Word): 0.0783\n",
      "2019-01-31 21:47:14,415 INFO   Finished epoch 47: Train loss: 1.0018, Dev loss: 1.0041, Accuracy(Character): 0.9997, Accuracy(Word): 0.0515\n",
      "2019-01-31 21:50:42,893 INFO   Finished epoch 48: Train loss: 1.0017, Dev loss: 1.0005, Accuracy(Character): 1.0000, Accuracy(Word): 0.1141\n",
      "2019-01-31 21:54:02,850 INFO   Finished epoch 49: Train loss: 1.0066, Dev loss: 1.0004, Accuracy(Character): 1.0000, Accuracy(Word): 0.0515\n",
      "2019-01-31 21:57:35,889 INFO   Finished epoch 50: Train loss: 1.0014, Dev loss: 1.0019, Accuracy(Character): 0.9999, Accuracy(Word): 0.0996\n"
     ]
    },
    {
     "data": {
      "image/png": "[encoded data removed]",
      "text/plain": [
       "<Figure size 432x288 with 1 Axes>"
      ]
     },
     "metadata": {
      "needs_background": "light"
     },
     "output_type": "display_data"
    },
    {
     "data": {
      "image/png": "[encoded data removed]",
      "text/plain": [
       "<Figure size 432x288 with 1 Axes>"
      ]
     },
     "metadata": {
      "needs_background": "light"
     },
     "output_type": "display_data"
    }
   ],
   "source": [
    "for i in hidden_sizes:\n",
    "    print(\"Hidden size is %d\" % i)\n",
    "    hidden_size = i\n",
    "    bidirectional = True\n",
    "    encoder = EncoderRNN(len(src.vocab), max_len, hidden_size,\n",
    "                        bidirectional=bidirectional, variable_lengths=True)\n",
    "    decoder = DecoderRNN(len(tgt.vocab), max_len, hidden_size * 2 if bidirectional else hidden_size,\n",
    "                        dropout_p=0.2, use_attention=True, bidirectional=bidirectional,\n",
    "                        eos_id=tgt.eos_id, sos_id=tgt.sos_id)\n",
    "    seq2seq = Seq2seq(encoder, decoder)\n",
    "    if torch.cuda.is_available():\n",
    "        seq2seq.cuda()\n",
    "\n",
    "    for param in seq2seq.parameters():\n",
    "        param.data.uniform_(-0.08, 0.08)\n",
    "\n",
    "    # train\n",
    "    t = SupervisedTrainer(loss=loss, batch_size=32,\n",
    "                        checkpoint_every=50,\n",
    "                        print_every=100,\n",
    "                        hidden_size=hidden_size,\n",
    "                        fig_path=\"log/plot/nonbracket_att\")\n",
    "\n",
    "    seq2seq, ave_loss, character_accuracy = t.train(seq2seq, train,\n",
    "                                                    num_epochs=50, dev_data=dev,\n",
    "                                                    optimizer=optimizer,\n",
    "                                                    teacher_forcing_ratio=0.5)\n",
    "\n",
    "    losses.append(ave_loss/100)\n",
    "    error_rate.append(1 - character_accuracy)\n",
    "    accuracy.append(character_accuracy)"
   ]
  },
  {
   "cell_type": "code",
   "execution_count": 8,
   "metadata": {},
   "outputs": [],
   "source": [
    "torch.save(seq2seq.state_dict(), 'log/nonbracket_att_model_save.pth')"
   ]
  }
 ],
 "metadata": {
  "kernelspec": {
   "display_name": "Python 3",
   "language": "python",
   "name": "python3"
  },
  "language_info": {
   "codemirror_mode": {
    "name": "ipython",
    "version": 3
   },
   "file_extension": ".py",
   "mimetype": "text/x-python",
   "name": "python",
   "nbconvert_exporter": "python",
   "pygments_lexer": "ipython3",
   "version": "3.5.2"
  }
 },
 "nbformat": 4,
 "nbformat_minor": 2
}
