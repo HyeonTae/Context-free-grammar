{
 "cells": [
  {
   "cell_type": "markdown",
   "metadata": {},
   "source": [
    "# Set Parameter\n",
    "- Attention = False\n",
    "- Drop out = 0.2\n",
    "- Teacher Forcing Ratio = 0.5\n",
    "- Layer = 1\n",
    "- Hidden unit = 50\n",
    "- Batch size = 32\n",
    "- Pretrain Epochs = 20\n",
    "- Train Epochs = 20"
   ]
  },
  {
   "cell_type": "markdown",
   "metadata": {},
   "source": [
    "# Import packages\n",
    "\n",
    "import useful packages for experiments"
   ]
  },
  {
   "cell_type": "code",
   "execution_count": 1,
   "metadata": {},
   "outputs": [
    {
     "name": "stderr",
     "output_type": "stream",
     "text": [
      "/home/hyeontae/hyeontae/venv/lib/python3.5/site-packages/torch/nn/functional.py:52: UserWarning: size_average and reduce args will be deprecated, please use reduction='elementwise_mean' instead.\n",
      "  warnings.warn(warning.format(ret))\n",
      "/home/hyeontae/hyeontae/venv/lib/python3.5/site-packages/torch/nn/functional.py:52: UserWarning: size_average and reduce args will be deprecated, please use reduction='elementwise_mean' instead.\n",
      "  warnings.warn(warning.format(ret))\n"
     ]
    }
   ],
   "source": [
    "import os\n",
    "import argparse\n",
    "import logging\n",
    "\n",
    "import torch\n",
    "from torch.optim.lr_scheduler import StepLR\n",
    "import torchtext\n",
    "\n",
    "from trainer.supervised_trainer import SupervisedTrainer\n",
    "from models.encoderRNN import EncoderRNN\n",
    "from models.decoderRNN import DecoderRNN\n",
    "from models.seq2seq import Seq2seq\n",
    "from loss.loss import Perplexity\n",
    "from optim.optim import Optimizer\n",
    "from dataset import fields\n",
    "from evaluator.predictor import Predictor\n",
    "\n",
    "import matplotlib.pyplot as plt"
   ]
  },
  {
   "cell_type": "markdown",
   "metadata": {},
   "source": [
    "# Log format"
   ]
  },
  {
   "cell_type": "code",
   "execution_count": 2,
   "metadata": {},
   "outputs": [],
   "source": [
    "log_level = 'info'\n",
    "LOG_FORMAT = '%(asctime)s %(levelname)-6s %(message)s'\n",
    "logging.basicConfig(format=LOG_FORMAT, level=getattr(logging, log_level.upper()))"
   ]
  },
  {
   "cell_type": "markdown",
   "metadata": {},
   "source": [
    "# Pretrain - Data load"
   ]
  },
  {
   "cell_type": "code",
   "execution_count": 3,
   "metadata": {},
   "outputs": [],
   "source": [
    "pretrain_train_path = \"data/grammar_data_N50_train.txt\"\n",
    "pretrain_dev_path = \"data/grammar_data_N50_test.txt\""
   ]
  },
  {
   "cell_type": "markdown",
   "metadata": {},
   "source": [
    "# Train - Data load"
   ]
  },
  {
   "cell_type": "code",
   "execution_count": 4,
   "metadata": {},
   "outputs": [],
   "source": [
    "train_path = \"data/grammar_data_N100_train.txt\"\n",
    "dev_path = \"data/grammar_data_N100_test.txt\""
   ]
  },
  {
   "cell_type": "markdown",
   "metadata": {},
   "source": [
    "# Pretrain - Prepare dataset"
   ]
  },
  {
   "cell_type": "code",
   "execution_count": 5,
   "metadata": {},
   "outputs": [],
   "source": [
    "pretrain_src = fields.SourceField()\n",
    "pretrain_tgt = fields.TargetField()\n",
    "max_len = 104\n",
    "def len_filter(example):\n",
    "    return len(example.src) <= max_len and len(example.tgt) <= max_len\n",
    "pretrain_train = torchtext.data.TabularDataset(\n",
    "    path=pretrain_train_path, format='tsv',\n",
    "    fields=[('src', pretrain_src), ('tgt', pretrain_tgt)],\n",
    "    filter_pred=len_filter\n",
    ")\n",
    "pretrain_dev = torchtext.data.TabularDataset(\n",
    "    path=pretrain_dev_path, format='tsv',\n",
    "    fields=[('src', pretrain_src), ('tgt', pretrain_tgt)],\n",
    "    filter_pred=len_filter\n",
    ")\n",
    "pretrain_src.build_vocab(pretrain_train)\n",
    "pretrain_tgt.build_vocab(pretrain_train)\n",
    "pretrain_input_vocab = pretrain_src.vocab\n",
    "pretrain_output_vocab = pretrain_tgt.vocab"
   ]
  },
  {
   "cell_type": "markdown",
   "metadata": {},
   "source": [
    "# Train - Prepare dataset"
   ]
  },
  {
   "cell_type": "code",
   "execution_count": 6,
   "metadata": {},
   "outputs": [],
   "source": [
    "src = fields.SourceField()\n",
    "tgt = fields.TargetField()\n",
    "max_len = 104\n",
    "def len_filter(example):\n",
    "    return len(example.src) <= max_len and len(example.tgt) <= max_len\n",
    "train = torchtext.data.TabularDataset(\n",
    "    path=train_path, format='tsv',\n",
    "    fields=[('src', src), ('tgt', tgt)],\n",
    "    filter_pred=len_filter\n",
    ")\n",
    "dev = torchtext.data.TabularDataset(\n",
    "    path=dev_path, format='tsv',\n",
    "    fields=[('src', src), ('tgt', tgt)],\n",
    "    filter_pred=len_filter\n",
    ")\n",
    "src.build_vocab(train)\n",
    "tgt.build_vocab(train)\n",
    "input_vocab = src.vocab\n",
    "output_vocab = tgt.vocab"
   ]
  },
  {
   "cell_type": "markdown",
   "metadata": {},
   "source": [
    "# Pretrain - Prepare loss"
   ]
  },
  {
   "cell_type": "code",
   "execution_count": 7,
   "metadata": {},
   "outputs": [
    {
     "name": "stderr",
     "output_type": "stream",
     "text": [
      "/home/hyeontae/hyeontae/venv/lib/python3.5/site-packages/torch/nn/functional.py:52: UserWarning: size_average and reduce args will be deprecated, please use reduction='sum' instead.\n",
      "  warnings.warn(warning.format(ret))\n"
     ]
    }
   ],
   "source": [
    "pretrain_weight = torch.ones(len(pretrain_tgt.vocab))\n",
    "pretrain_pad = pretrain_tgt.vocab.stoi[pretrain_tgt.pad_token]\n",
    "pretrain_loss = Perplexity(pretrain_weight, pretrain_pad)\n",
    "if torch.cuda.is_available():\n",
    "    pretrain_loss.cuda()"
   ]
  },
  {
   "cell_type": "markdown",
   "metadata": {},
   "source": [
    "# Train - Prepare loss"
   ]
  },
  {
   "cell_type": "code",
   "execution_count": 8,
   "metadata": {},
   "outputs": [],
   "source": [
    "weight = torch.ones(len(tgt.vocab))\n",
    "pad = tgt.vocab.stoi[tgt.pad_token]\n",
    "loss = Perplexity(weight, pad)\n",
    "if torch.cuda.is_available():\n",
    "    loss.cuda()"
   ]
  },
  {
   "cell_type": "markdown",
   "metadata": {},
   "source": [
    "# Variable definition"
   ]
  },
  {
   "cell_type": "code",
   "execution_count": 9,
   "metadata": {},
   "outputs": [
    {
     "name": "stdout",
     "output_type": "stream",
     "text": [
      "[50]\n"
     ]
    }
   ],
   "source": [
    "seq2seq = None\n",
    "optimizer = \"Adam\"\n",
    "\n",
    "hidden_sizes = list(range(50, 51, 4))\n",
    "print(hidden_sizes)\n",
    "error_rate = []\n",
    "accuracy = []\n",
    "losses = []"
   ]
  },
  {
   "cell_type": "markdown",
   "metadata": {},
   "source": [
    "# Initialize model"
   ]
  },
  {
   "cell_type": "code",
   "execution_count": 10,
   "metadata": {},
   "outputs": [
    {
     "name": "stderr",
     "output_type": "stream",
     "text": [
      "/home/hyeontae/hyeontae/venv/lib/python3.5/site-packages/torch/nn/modules/rnn.py:38: UserWarning: dropout option adds dropout after all but last recurrent layer, so non-zero dropout expects num_layers greater than 1, but got dropout=0.2 and num_layers=1\n",
      "  \"num_layers={}\".format(dropout, num_layers))\n",
      "2019-02-01 17:57:21,382 INFO   Optimizer: Adam (\n",
      "Parameter Group 0\n",
      "    amsgrad: False\n",
      "    betas: (0.9, 0.999)\n",
      "    eps: 1e-08\n",
      "    lr: 0.001\n",
      "    weight_decay: 0\n",
      "), Scheduler: None\n"
     ]
    },
    {
     "name": "stdout",
     "output_type": "stream",
     "text": [
      "Hidden size is 50\n",
      "6\n",
      "49\n",
      "6\n",
      "49\n",
      "pretrain..\n"
     ]
    },
    {
     "name": "stderr",
     "output_type": "stream",
     "text": [
      "2019-02-01 17:59:55,452 INFO   Finished epoch 1: Train loss: 7.0897, Dev loss: 3.0041, Accuracy(Character): 0.5637, Accuracy(Word): 0.0000\n",
      "2019-02-01 18:02:29,821 INFO   Finished epoch 2: Train loss: 2.2310, Dev loss: 2.2422, Accuracy(Character): 0.6672, Accuracy(Word): 0.0000\n",
      "2019-02-01 18:05:05,039 INFO   Finished epoch 3: Train loss: 1.9113, Dev loss: 1.9609, Accuracy(Character): 0.7252, Accuracy(Word): 0.0001\n",
      "2019-02-01 18:07:41,873 INFO   Finished epoch 4: Train loss: 1.7753, Dev loss: 1.9574, Accuracy(Character): 0.7171, Accuracy(Word): 0.0006\n",
      "2019-02-01 18:10:17,320 INFO   Finished epoch 5: Train loss: 1.6310, Dev loss: 1.7465, Accuracy(Character): 0.7710, Accuracy(Word): 0.0002\n",
      "2019-02-01 18:12:52,431 INFO   Finished epoch 6: Train loss: 1.5835, Dev loss: 1.6492, Accuracy(Character): 0.7894, Accuracy(Word): 0.0035\n",
      "2019-02-01 18:15:26,053 INFO   Finished epoch 7: Train loss: 1.5011, Dev loss: 1.6983, Accuracy(Character): 0.7855, Accuracy(Word): 0.0035\n",
      "2019-02-01 18:17:58,866 INFO   Finished epoch 8: Train loss: 1.4643, Dev loss: 1.5917, Accuracy(Character): 0.8010, Accuracy(Word): 0.0006\n",
      "2019-02-01 18:20:31,784 INFO   Finished epoch 9: Train loss: 1.4346, Dev loss: 1.4835, Accuracy(Character): 0.8357, Accuracy(Word): 0.0102\n",
      "2019-02-01 18:23:06,860 INFO   Finished epoch 10: Train loss: 1.3998, Dev loss: 1.4833, Accuracy(Character): 0.8383, Accuracy(Word): 0.0105\n",
      "2019-02-01 18:25:42,843 INFO   Finished epoch 11: Train loss: 1.3719, Dev loss: 1.4640, Accuracy(Character): 0.8421, Accuracy(Word): 0.0101\n",
      "2019-02-01 18:28:15,178 INFO   Finished epoch 12: Train loss: 1.3580, Dev loss: 1.4033, Accuracy(Character): 0.8607, Accuracy(Word): 0.0011\n",
      "2019-02-01 18:30:48,527 INFO   Finished epoch 13: Train loss: 1.3431, Dev loss: 1.4218, Accuracy(Character): 0.8536, Accuracy(Word): 0.0037\n",
      "2019-02-01 18:33:21,160 INFO   Finished epoch 14: Train loss: 1.3103, Dev loss: 1.3951, Accuracy(Character): 0.8632, Accuracy(Word): 0.0118\n",
      "2019-02-01 18:35:56,377 INFO   Finished epoch 15: Train loss: 1.3051, Dev loss: 1.3825, Accuracy(Character): 0.8701, Accuracy(Word): 0.0169\n",
      "2019-02-01 18:38:32,644 INFO   Finished epoch 16: Train loss: 1.2846, Dev loss: 1.2973, Accuracy(Character): 0.8923, Accuracy(Word): 0.0183\n",
      "2019-02-01 18:41:08,427 INFO   Finished epoch 17: Train loss: 1.2652, Dev loss: 1.2729, Accuracy(Character): 0.9008, Accuracy(Word): 0.0166\n",
      "2019-02-01 18:43:45,069 INFO   Finished epoch 18: Train loss: 1.2622, Dev loss: 1.2672, Accuracy(Character): 0.9016, Accuracy(Word): 0.0176\n",
      "2019-02-01 18:46:19,198 INFO   Finished epoch 19: Train loss: 1.2415, Dev loss: 1.2886, Accuracy(Character): 0.8962, Accuracy(Word): 0.0166\n",
      "2019-02-01 18:48:53,114 INFO   Finished epoch 20: Train loss: 1.2313, Dev loss: 1.3409, Accuracy(Character): 0.8769, Accuracy(Word): 0.0169\n",
      "2019-02-01 18:48:53,280 INFO   Optimizer: Adam (\n",
      "Parameter Group 0\n",
      "    amsgrad: False\n",
      "    betas: (0.9, 0.999)\n",
      "    eps: 1e-08\n",
      "    lr: 0.001\n",
      "    weight_decay: 0\n",
      "), Scheduler: None\n"
     ]
    },
    {
     "name": "stdout",
     "output_type": "stream",
     "text": [
      "train..\n"
     ]
    },
    {
     "name": "stderr",
     "output_type": "stream",
     "text": [
      "2019-02-01 18:53:34,633 INFO   Finished epoch 1: Train loss: 1126887.5207, Dev loss: 3.7097, Accuracy(Character): 0.5066, Accuracy(Word): 0.0000\n",
      "2019-02-01 18:58:13,793 INFO   Finished epoch 2: Train loss: 2.4414, Dev loss: 3.3215, Accuracy(Character): 0.5609, Accuracy(Word): 0.0000\n",
      "2019-02-01 19:02:57,263 INFO   Finished epoch 3: Train loss: 2.1932, Dev loss: 2.5930, Accuracy(Character): 0.6222, Accuracy(Word): 0.0000\n",
      "2019-02-01 19:07:42,895 INFO   Finished epoch 4: Train loss: 2.0646, Dev loss: 2.6039, Accuracy(Character): 0.6252, Accuracy(Word): 0.0000\n",
      "2019-02-01 19:12:27,176 INFO   Finished epoch 5: Train loss: 1.9324, Dev loss: 2.1977, Accuracy(Character): 0.6748, Accuracy(Word): 0.0000\n",
      "2019-02-01 19:17:11,304 INFO   Finished epoch 6: Train loss: 1.8648, Dev loss: 2.5522, Accuracy(Character): 0.6408, Accuracy(Word): 0.0000\n",
      "2019-02-01 19:21:53,131 INFO   Finished epoch 7: Train loss: 1.8137, Dev loss: 2.0876, Accuracy(Character): 0.6941, Accuracy(Word): 0.0000\n",
      "2019-02-01 19:26:35,480 INFO   Finished epoch 8: Train loss: 1.8078, Dev loss: 2.0944, Accuracy(Character): 0.6962, Accuracy(Word): 0.0000\n",
      "2019-02-01 19:31:17,284 INFO   Finished epoch 9: Train loss: 1.7492, Dev loss: 2.0629, Accuracy(Character): 0.7162, Accuracy(Word): 0.0000\n",
      "2019-02-01 19:36:00,773 INFO   Finished epoch 10: Train loss: 1.7384, Dev loss: 2.1260, Accuracy(Character): 0.7032, Accuracy(Word): 0.0000\n",
      "2019-02-01 19:40:45,696 INFO   Finished epoch 11: Train loss: 1.7093, Dev loss: 1.9431, Accuracy(Character): 0.7289, Accuracy(Word): 0.0000\n",
      "2019-02-01 19:45:30,243 INFO   Finished epoch 12: Train loss: 1.6945, Dev loss: 1.8973, Accuracy(Character): 0.7306, Accuracy(Word): 0.0000\n",
      "2019-02-01 19:50:13,436 INFO   Finished epoch 13: Train loss: 1.6697, Dev loss: 2.2132, Accuracy(Character): 0.6870, Accuracy(Word): 0.0000\n",
      "2019-02-01 19:54:57,717 INFO   Finished epoch 14: Train loss: 1.6659, Dev loss: 1.8535, Accuracy(Character): 0.7459, Accuracy(Word): 0.0000\n",
      "2019-02-01 19:59:37,753 INFO   Finished epoch 15: Train loss: 1.6550, Dev loss: 1.9319, Accuracy(Character): 0.7253, Accuracy(Word): 0.0000\n",
      "2019-02-01 20:04:20,175 INFO   Finished epoch 16: Train loss: 1.6145, Dev loss: 1.7762, Accuracy(Character): 0.7614, Accuracy(Word): 0.0000\n",
      "2019-02-01 20:09:02,870 INFO   Finished epoch 17: Train loss: 1.6083, Dev loss: 1.7673, Accuracy(Character): 0.7584, Accuracy(Word): 0.0000\n",
      "2019-02-01 20:13:47,014 INFO   Finished epoch 18: Train loss: 1.5896, Dev loss: 1.8904, Accuracy(Character): 0.7310, Accuracy(Word): 0.0000\n",
      "2019-02-01 20:18:28,543 INFO   Finished epoch 19: Train loss: 1.5738, Dev loss: 1.7863, Accuracy(Character): 0.7576, Accuracy(Word): 0.0000\n",
      "2019-02-01 20:23:12,098 INFO   Finished epoch 20: Train loss: 1.5903, Dev loss: 2.0787, Accuracy(Character): 0.7118, Accuracy(Word): 0.0000\n"
     ]
    },
    {
     "data": {
      "image/png": "[encoded data removed]",
      "text/plain": [
       "<Figure size 432x288 with 1 Axes>"
      ]
     },
     "metadata": {
      "needs_background": "light"
     },
     "output_type": "display_data"
    },
    {
     "data": {
      "image/png": "[encoded data removed]",
      "text/plain": [
       "<Figure size 432x288 with 1 Axes>"
      ]
     },
     "metadata": {
      "needs_background": "light"
     },
     "output_type": "display_data"
    }
   ],
   "source": [
    "for i in hidden_sizes:\n",
    "    print(\"Hidden size is %d\" % i)\n",
    "    hidden_size = i\n",
    "    bidirectional = True\n",
    "    print(len(pretrain_src.vocab))\n",
    "    print(len(pretrain_tgt.vocab))\n",
    "    print(len(src.vocab))\n",
    "    print(len(tgt.vocab))\n",
    "    encoder = EncoderRNN(len(pretrain_src.vocab), max_len, hidden_size,\n",
    "                        bidirectional=bidirectional, variable_lengths=True)\n",
    "    decoder = DecoderRNN(len(pretrain_tgt.vocab), max_len, hidden_size * 2 if bidirectional else hidden_size,\n",
    "                        dropout_p=0.2, use_attention=False, bidirectional=bidirectional,\n",
    "                        eos_id=pretrain_tgt.eos_id, sos_id=pretrain_tgt.sos_id)\n",
    "    seq2seq = Seq2seq(encoder, decoder)\n",
    "    if torch.cuda.is_available():\n",
    "        seq2seq.cuda()\n",
    "\n",
    "    for param in seq2seq.parameters():\n",
    "        param.data.uniform_(-0.08, 0.08)\n",
    "\n",
    "    # train\n",
    "    t = SupervisedTrainer(loss=pretrain_loss, batch_size=32,\n",
    "                        checkpoint_every=50,\n",
    "                        print_every=100,\n",
    "                        hidden_size=hidden_size,\n",
    "                        fig_path=\"log/plot/pretrained_no_att\")\n",
    "    print(\"pretrain..\")\n",
    "\n",
    "    seq2seq, ave_loss, character_accuracy = t.train(seq2seq, pretrain_train,\n",
    "                                                    num_epochs=20, dev_data=pretrain_dev,\n",
    "                                                    optimizer=optimizer,\n",
    "                                                    teacher_forcing_ratio=0.5)\n",
    "    \n",
    "    print(\"train..\")\n",
    "    seq2seq, ave_loss, character_accuracy = t.train(seq2seq, train,\n",
    "                                                    num_epochs=20, dev_data=dev,\n",
    "                                                    optimizer=optimizer,\n",
    "                                                    teacher_forcing_ratio=0.5)\n",
    "\n",
    "    losses.append(ave_loss/100)\n",
    "    error_rate.append(1 - character_accuracy)\n",
    "    accuracy.append(character_accuracy)"
   ]
  },
  {
   "cell_type": "code",
   "execution_count": 11,
   "metadata": {},
   "outputs": [],
   "source": [
    "torch.save(seq2seq.state_dict(), 'log/pretrained_no_att_model_save.pth')"
   ]
  }
 ],
 "metadata": {
  "kernelspec": {
   "display_name": "Python 3",
   "language": "python",
   "name": "python3"
  },
  "language_info": {
   "codemirror_mode": {
    "name": "ipython",
    "version": 3
   },
   "file_extension": ".py",
   "mimetype": "text/x-python",
   "name": "python",
   "nbconvert_exporter": "python",
   "pygments_lexer": "ipython3",
   "version": "3.5.2"
  }
 },
 "nbformat": 4,
 "nbformat_minor": 2
}
