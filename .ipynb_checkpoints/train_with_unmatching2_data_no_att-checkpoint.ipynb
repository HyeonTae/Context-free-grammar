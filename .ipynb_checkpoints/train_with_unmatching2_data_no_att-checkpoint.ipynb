{
 "cells": [
  {
   "cell_type": "markdown",
   "metadata": {},
   "source": [
    "# Set Parameter\n",
    "- Attention = False\n",
    "- Drop out = 0.2\n",
    "- Teacher Forcing Ratio = 0.5\n",
    "- Layer = 1\n",
    "- Hidden unit = 50\n",
    "- Batch size = 32\n",
    "- Epochs = 50"
   ]
  },
  {
   "cell_type": "markdown",
   "metadata": {},
   "source": [
    "# Import packages\n",
    "\n",
    "import useful packages for experiments"
   ]
  },
  {
   "cell_type": "code",
   "execution_count": 1,
   "metadata": {},
   "outputs": [
    {
     "name": "stderr",
     "output_type": "stream",
     "text": [
      "/home/hyeontae/hyeontae/venv/lib/python3.5/site-packages/torch/nn/functional.py:52: UserWarning: size_average and reduce args will be deprecated, please use reduction='elementwise_mean' instead.\n",
      "  warnings.warn(warning.format(ret))\n",
      "/home/hyeontae/hyeontae/venv/lib/python3.5/site-packages/torch/nn/functional.py:52: UserWarning: size_average and reduce args will be deprecated, please use reduction='elementwise_mean' instead.\n",
      "  warnings.warn(warning.format(ret))\n"
     ]
    }
   ],
   "source": [
    "import os\n",
    "import argparse\n",
    "import logging\n",
    "\n",
    "import torch\n",
    "from torch.optim.lr_scheduler import StepLR\n",
    "import torchtext\n",
    "\n",
    "from trainer.supervised_trainer_unmatching import SupervisedTrainer\n",
    "from models.encoderRNN import EncoderRNN\n",
    "from models.decoderRNN import DecoderRNN\n",
    "from models.seq2seq import Seq2seq\n",
    "from loss.loss import Perplexity\n",
    "from optim.optim import Optimizer\n",
    "from dataset import fields\n",
    "from evaluator.predictor import Predictor\n",
    "\n",
    "import matplotlib.pyplot as plt"
   ]
  },
  {
   "cell_type": "markdown",
   "metadata": {},
   "source": [
    "# Data load"
   ]
  },
  {
   "cell_type": "code",
   "execution_count": 2,
   "metadata": {},
   "outputs": [],
   "source": [
    "train_path = \"unmatching_data/data_train.txt\"\n",
    "dev_path = \"unmatching_data/data_test.txt\"\n",
    "log_level = 'info'"
   ]
  },
  {
   "cell_type": "markdown",
   "metadata": {},
   "source": [
    "# Log format"
   ]
  },
  {
   "cell_type": "code",
   "execution_count": 3,
   "metadata": {},
   "outputs": [],
   "source": [
    "LOG_FORMAT = '%(asctime)s %(levelname)-6s %(message)s'\n",
    "logging.basicConfig(format=LOG_FORMAT, level=getattr(logging, log_level.upper()))"
   ]
  },
  {
   "cell_type": "markdown",
   "metadata": {},
   "source": [
    "# Prepare dataset"
   ]
  },
  {
   "cell_type": "code",
   "execution_count": 4,
   "metadata": {},
   "outputs": [],
   "source": [
    "src = fields.SourceField()\n",
    "tgt = fields.TargetField()\n",
    "max_len = 100\n",
    "def len_filter(example):\n",
    "    return len(example.src) <= max_len and len(example.tgt) <= max_len\n",
    "train = torchtext.data.TabularDataset(\n",
    "    path=train_path, format='tsv',\n",
    "    fields=[('src', src), ('tgt', tgt)],\n",
    "    filter_pred=len_filter\n",
    ")\n",
    "dev = torchtext.data.TabularDataset(\n",
    "    path=dev_path, format='tsv',\n",
    "    fields=[('src', src), ('tgt', tgt)],\n",
    "    filter_pred=len_filter\n",
    ")\n",
    "src.build_vocab(train)\n",
    "tgt.build_vocab(train)\n",
    "input_vocab = src.vocab\n",
    "output_vocab = tgt.vocab"
   ]
  },
  {
   "cell_type": "markdown",
   "metadata": {},
   "source": [
    "# Prepare loss"
   ]
  },
  {
   "cell_type": "code",
   "execution_count": 5,
   "metadata": {},
   "outputs": [
    {
     "name": "stderr",
     "output_type": "stream",
     "text": [
      "/home/hyeontae/hyeontae/venv/lib/python3.5/site-packages/torch/nn/functional.py:52: UserWarning: size_average and reduce args will be deprecated, please use reduction='sum' instead.\n",
      "  warnings.warn(warning.format(ret))\n"
     ]
    }
   ],
   "source": [
    "weight = torch.ones(len(tgt.vocab))\n",
    "pad = tgt.vocab.stoi[tgt.pad_token]\n",
    "loss = Perplexity(weight, pad)\n",
    "if torch.cuda.is_available():\n",
    "    loss.cuda()"
   ]
  },
  {
   "cell_type": "markdown",
   "metadata": {},
   "source": [
    "# Variable definition"
   ]
  },
  {
   "cell_type": "code",
   "execution_count": 6,
   "metadata": {},
   "outputs": [
    {
     "name": "stdout",
     "output_type": "stream",
     "text": [
      "[50]\n"
     ]
    }
   ],
   "source": [
    "seq2seq = None\n",
    "optimizer = \"Adam\"\n",
    "\n",
    "hidden_sizes = list(range(50, 51, 4))\n",
    "print(hidden_sizes)\n",
    "error_rate = []\n",
    "accuracy = []\n",
    "losses = []"
   ]
  },
  {
   "cell_type": "markdown",
   "metadata": {},
   "source": [
    "# Initialize model"
   ]
  },
  {
   "cell_type": "code",
   "execution_count": 7,
   "metadata": {},
   "outputs": [
    {
     "name": "stderr",
     "output_type": "stream",
     "text": [
      "/home/hyeontae/hyeontae/venv/lib/python3.5/site-packages/torch/nn/modules/rnn.py:38: UserWarning: dropout option adds dropout after all but last recurrent layer, so non-zero dropout expects num_layers greater than 1, but got dropout=0.2 and num_layers=1\n",
      "  \"num_layers={}\".format(dropout, num_layers))\n",
      "2019-01-31 17:17:40,290 INFO   Optimizer: Adam (\n",
      "Parameter Group 0\n",
      "    amsgrad: False\n",
      "    betas: (0.9, 0.999)\n",
      "    eps: 1e-08\n",
      "    lr: 0.001\n",
      "    weight_decay: 0\n",
      "), Scheduler: None\n"
     ]
    },
    {
     "name": "stdout",
     "output_type": "stream",
     "text": [
      "Hidden size is 50\n"
     ]
    },
    {
     "name": "stderr",
     "output_type": "stream",
     "text": [
      "2019-01-31 17:22:26,195 INFO   Finished epoch 1: Train loss: 2.0702, Dev loss: 1.9498, Accuracy: 0.7690, F1 Score: 0.1667\n",
      "2019-01-31 17:27:09,544 INFO   Finished epoch 2: Train loss: 1.9403, Dev loss: 1.9279, Accuracy: 0.7701, F1 Score: 0.1784\n",
      "2019-01-31 17:31:58,753 INFO   Finished epoch 3: Train loss: 1.8744, Dev loss: 1.8563, Accuracy: 0.7819, F1 Score: 0.2490\n",
      "2019-01-31 17:36:48,640 INFO   Finished epoch 4: Train loss: 1.8157, Dev loss: 1.8220, Accuracy: 0.7851, F1 Score: 0.2750\n",
      "2019-01-31 17:42:33,428 INFO   Finished epoch 5: Train loss: 1.7718, Dev loss: 1.7984, Accuracy: 0.7899, F1 Score: 0.3263\n",
      "2019-01-31 17:50:38,920 INFO   Finished epoch 6: Train loss: 1.7456, Dev loss: 1.7826, Accuracy: 0.7923, F1 Score: 0.3531\n",
      "2019-01-31 17:58:51,350 INFO   Finished epoch 7: Train loss: 1.7277, Dev loss: 1.7632, Accuracy: 0.7927, F1 Score: 0.3349\n",
      "2019-01-31 18:06:59,077 INFO   Finished epoch 8: Train loss: 1.7087, Dev loss: 1.7474, Accuracy: 0.7946, F1 Score: 0.3548\n",
      "2019-01-31 18:15:13,379 INFO   Finished epoch 9: Train loss: 1.6783, Dev loss: 1.7120, Accuracy: 0.7992, F1 Score: 0.3795\n",
      "2019-01-31 18:23:18,521 INFO   Finished epoch 10: Train loss: 1.6370, Dev loss: 1.6763, Accuracy: 0.8047, F1 Score: 0.4138\n",
      "2019-01-31 18:31:15,572 INFO   Finished epoch 11: Train loss: 1.5947, Dev loss: 1.6376, Accuracy: 0.8145, F1 Score: 0.4507\n",
      "2019-01-31 18:39:22,361 INFO   Finished epoch 12: Train loss: 1.5635, Dev loss: 1.6305, Accuracy: 0.8133, F1 Score: 0.4660\n",
      "2019-01-31 18:47:12,051 INFO   Finished epoch 13: Train loss: 1.5505, Dev loss: 1.6031, Accuracy: 0.8192, F1 Score: 0.4653\n",
      "2019-01-31 18:55:17,203 INFO   Finished epoch 14: Train loss: 1.5323, Dev loss: 1.5879, Accuracy: 0.8223, F1 Score: 0.4939\n",
      "2019-01-31 19:03:28,094 INFO   Finished epoch 15: Train loss: 1.5178, Dev loss: 1.5774, Accuracy: 0.8236, F1 Score: 0.4963\n",
      "2019-01-31 19:11:29,352 INFO   Finished epoch 16: Train loss: 1.5033, Dev loss: 1.5696, Accuracy: 0.8256, F1 Score: 0.5023\n",
      "2019-01-31 19:19:27,102 INFO   Finished epoch 17: Train loss: 1.4934, Dev loss: 1.5552, Accuracy: 0.8262, F1 Score: 0.5062\n",
      "2019-01-31 19:27:35,105 INFO   Finished epoch 18: Train loss: 1.4826, Dev loss: 1.5400, Accuracy: 0.8299, F1 Score: 0.5112\n",
      "2019-01-31 19:35:55,606 INFO   Finished epoch 19: Train loss: 1.4751, Dev loss: 1.5403, Accuracy: 0.8277, F1 Score: 0.5117\n",
      "2019-01-31 19:44:06,287 INFO   Finished epoch 20: Train loss: 1.4694, Dev loss: 1.5400, Accuracy: 0.8292, F1 Score: 0.5276\n",
      "2019-01-31 19:52:06,465 INFO   Finished epoch 21: Train loss: 1.4615, Dev loss: 1.5411, Accuracy: 0.8283, F1 Score: 0.5155\n",
      "2019-01-31 20:00:08,546 INFO   Finished epoch 22: Train loss: 1.4511, Dev loss: 1.5141, Accuracy: 0.8330, F1 Score: 0.5354\n",
      "2019-01-31 20:08:25,944 INFO   Finished epoch 23: Train loss: 1.4425, Dev loss: 1.5165, Accuracy: 0.8337, F1 Score: 0.5501\n",
      "2019-01-31 20:16:28,654 INFO   Finished epoch 24: Train loss: 1.4319, Dev loss: 1.4895, Accuracy: 0.8378, F1 Score: 0.5690\n",
      "2019-01-31 20:24:24,478 INFO   Finished epoch 25: Train loss: 1.4249, Dev loss: 1.4814, Accuracy: 0.8409, F1 Score: 0.5740\n",
      "2019-01-31 20:32:22,116 INFO   Finished epoch 26: Train loss: 1.4199, Dev loss: 1.4676, Accuracy: 0.8448, F1 Score: 0.6030\n",
      "2019-01-31 20:40:24,992 INFO   Finished epoch 27: Train loss: 1.4128, Dev loss: 1.4840, Accuracy: 0.8439, F1 Score: 0.5843\n",
      "2019-01-31 20:48:29,894 INFO   Finished epoch 28: Train loss: 1.4071, Dev loss: 1.4639, Accuracy: 0.8463, F1 Score: 0.6060\n",
      "2019-01-31 20:56:36,042 INFO   Finished epoch 29: Train loss: 1.4025, Dev loss: 1.4671, Accuracy: 0.8468, F1 Score: 0.5947\n",
      "2019-01-31 21:04:41,577 INFO   Finished epoch 30: Train loss: 1.3978, Dev loss: 1.4793, Accuracy: 0.8428, F1 Score: 0.6081\n",
      "2019-01-31 21:12:37,856 INFO   Finished epoch 31: Train loss: 1.3926, Dev loss: 1.4440, Accuracy: 0.8510, F1 Score: 0.6124\n",
      "2019-01-31 21:20:47,085 INFO   Finished epoch 32: Train loss: 1.3867, Dev loss: 1.4320, Accuracy: 0.8534, F1 Score: 0.6249\n",
      "2019-01-31 21:29:08,988 INFO   Finished epoch 33: Train loss: 1.3816, Dev loss: 1.4407, Accuracy: 0.8527, F1 Score: 0.6211\n",
      "2019-01-31 21:35:52,331 INFO   Finished epoch 34: Train loss: 1.3734, Dev loss: 1.4320, Accuracy: 0.8534, F1 Score: 0.6245\n",
      "2019-01-31 21:40:41,574 INFO   Finished epoch 35: Train loss: 1.3707, Dev loss: 1.4275, Accuracy: 0.8571, F1 Score: 0.6252\n",
      "2019-01-31 21:45:34,622 INFO   Finished epoch 36: Train loss: 1.3695, Dev loss: 1.4173, Accuracy: 0.8575, F1 Score: 0.6386\n",
      "2019-01-31 21:50:20,128 INFO   Finished epoch 37: Train loss: 1.3673, Dev loss: 1.4223, Accuracy: 0.8565, F1 Score: 0.6427\n",
      "2019-01-31 21:55:08,828 INFO   Finished epoch 38: Train loss: 1.3618, Dev loss: 1.4573, Accuracy: 0.8527, F1 Score: 0.6153\n",
      "2019-01-31 21:59:07,372 INFO   Finished epoch 39: Train loss: 1.3594, Dev loss: 1.4329, Accuracy: 0.8554, F1 Score: 0.6168\n",
      "2019-01-31 22:02:38,576 INFO   Finished epoch 40: Train loss: 1.3618, Dev loss: 1.4058, Accuracy: 0.8597, F1 Score: 0.6396\n",
      "2019-01-31 22:06:11,186 INFO   Finished epoch 41: Train loss: 1.3551, Dev loss: 1.4116, Accuracy: 0.8592, F1 Score: 0.6462\n",
      "2019-01-31 22:09:43,225 INFO   Finished epoch 42: Train loss: 1.3525, Dev loss: 1.4324, Accuracy: 0.8564, F1 Score: 0.6442\n",
      "2019-01-31 22:13:15,677 INFO   Finished epoch 43: Train loss: 1.3420, Dev loss: 1.3793, Accuracy: 0.8678, F1 Score: 0.6694\n",
      "2019-01-31 22:16:48,549 INFO   Finished epoch 44: Train loss: 1.3390, Dev loss: 1.3862, Accuracy: 0.8636, F1 Score: 0.6685\n",
      "2019-01-31 22:20:20,293 INFO   Finished epoch 45: Train loss: 1.3462, Dev loss: 1.4332, Accuracy: 0.8563, F1 Score: 0.6157\n",
      "2019-01-31 22:23:51,083 INFO   Finished epoch 46: Train loss: 1.3489, Dev loss: 1.4185, Accuracy: 0.8594, F1 Score: 0.6407\n",
      "2019-01-31 22:27:23,549 INFO   Finished epoch 47: Train loss: 1.3553, Dev loss: 1.4329, Accuracy: 0.8552, F1 Score: 0.6278\n",
      "2019-01-31 22:30:54,544 INFO   Finished epoch 48: Train loss: 1.3511, Dev loss: 1.4738, Accuracy: 0.8489, F1 Score: 0.6031\n",
      "2019-01-31 22:34:24,751 INFO   Finished epoch 49: Train loss: 1.3431, Dev loss: 1.3767, Accuracy: 0.8667, F1 Score: 0.6693\n",
      "2019-01-31 22:37:56,156 INFO   Finished epoch 50: Train loss: 1.3319, Dev loss: 1.4053, Accuracy: 0.8600, F1 Score: 0.6443\n"
     ]
    },
    {
     "data": {
      "image/png": "[encoded data removed]",
      "text/plain": [
       "<Figure size 432x288 with 1 Axes>"
      ]
     },
     "metadata": {
      "needs_background": "light"
     },
     "output_type": "display_data"
    },
    {
     "data": {
      "image/png": "[encoded data removed]",
      "text/plain": [
       "<Figure size 432x288 with 1 Axes>"
      ]
     },
     "metadata": {
      "needs_background": "light"
     },
     "output_type": "display_data"
    },
    {
     "data": {
      "image/png": "[encoded data removed]",
      "text/plain": [
       "<Figure size 432x288 with 1 Axes>"
      ]
     },
     "metadata": {
      "needs_background": "light"
     },
     "output_type": "display_data"
    }
   ],
   "source": [
    "for i in hidden_sizes:\n",
    "    print(\"Hidden size is %d\" % i)\n",
    "    hidden_size = i\n",
    "    bidirectional = True\n",
    "    encoder = EncoderRNN(len(src.vocab), max_len, hidden_size,\n",
    "                        bidirectional=bidirectional, variable_lengths=True)\n",
    "    decoder = DecoderRNN(len(tgt.vocab), max_len, hidden_size * 2 if bidirectional else hidden_size,\n",
    "                        dropout_p=0.2, use_attention=False, bidirectional=bidirectional,\n",
    "                        eos_id=tgt.eos_id, sos_id=tgt.sos_id)\n",
    "    seq2seq = Seq2seq(encoder, decoder)\n",
    "    if torch.cuda.is_available():\n",
    "        seq2seq.cuda()\n",
    "\n",
    "    for param in seq2seq.parameters():\n",
    "        param.data.uniform_(-0.08, 0.08)\n",
    "\n",
    "    # train\n",
    "    t = SupervisedTrainer(loss=loss, batch_size=32,\n",
    "                        checkpoint_every=50,\n",
    "                        print_every=100,\n",
    "                        hidden_size=hidden_size,\n",
    "                        fig_path=\"log/plot/unmatching_no_att\")\n",
    "\n",
    "    seq2seq, ave_loss, character_accuracy = t.train(seq2seq, train,\n",
    "                                                    num_epochs=50, dev_data=dev,\n",
    "                                                    optimizer=optimizer,\n",
    "                                                    teacher_forcing_ratio=0.5)\n",
    "\n",
    "    losses.append(ave_loss/100)\n",
    "    error_rate.append(1 - character_accuracy)\n",
    "    accuracy.append(character_accuracy)"
   ]
  },
  {
   "cell_type": "code",
   "execution_count": 8,
   "metadata": {},
   "outputs": [],
   "source": [
    "torch.save(seq2seq.state_dict(), 'log/unmatching_no_att_model_save.pth')"
   ]
  }
 ],
 "metadata": {
  "kernelspec": {
   "display_name": "Python 3",
   "language": "python",
   "name": "python3"
  },
  "language_info": {
   "codemirror_mode": {
    "name": "ipython",
    "version": 3
   },
   "file_extension": ".py",
   "mimetype": "text/x-python",
   "name": "python",
   "nbconvert_exporter": "python",
   "pygments_lexer": "ipython3",
   "version": "3.5.2"
  }
 },
 "nbformat": 4,
 "nbformat_minor": 2
}
