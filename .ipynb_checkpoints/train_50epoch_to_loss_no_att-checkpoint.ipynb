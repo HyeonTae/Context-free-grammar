{
 "cells": [
  {
   "cell_type": "markdown",
   "metadata": {},
   "source": [
    "# Import packages\n",
    "\n",
    "import useful packages for experiments"
   ]
  },
  {
   "cell_type": "code",
   "execution_count": 1,
   "metadata": {},
   "outputs": [
    {
     "name": "stderr",
     "output_type": "stream",
     "text": [
      "/home/hyeontae/hyeontae/venv/lib/python3.5/site-packages/torch/nn/functional.py:52: UserWarning: size_average and reduce args will be deprecated, please use reduction='elementwise_mean' instead.\n",
      "  warnings.warn(warning.format(ret))\n",
      "/home/hyeontae/hyeontae/venv/lib/python3.5/site-packages/torch/nn/functional.py:52: UserWarning: size_average and reduce args will be deprecated, please use reduction='elementwise_mean' instead.\n",
      "  warnings.warn(warning.format(ret))\n"
     ]
    }
   ],
   "source": [
    "import os\n",
    "import argparse\n",
    "import logging\n",
    "\n",
    "import torch\n",
    "from torch.optim.lr_scheduler import StepLR\n",
    "import torchtext\n",
    "\n",
    "from trainer.supervised_trainer import SupervisedTrainer\n",
    "from models.encoderRNN import EncoderRNN\n",
    "from models.decoderRNN import DecoderRNN\n",
    "from models.seq2seq import Seq2seq\n",
    "from loss.loss import Perplexity\n",
    "from optim.optim import Optimizer\n",
    "from dataset import fields\n",
    "from evaluator.predictor import Predictor\n",
    "\n",
    "import matplotlib.pyplot as plt"
   ]
  },
  {
   "cell_type": "markdown",
   "metadata": {},
   "source": [
    "# Data load"
   ]
  },
  {
   "cell_type": "code",
   "execution_count": 2,
   "metadata": {},
   "outputs": [],
   "source": [
    "train_path = \"data/grammar_data_N100_train.txt\"\n",
    "dev_path = \"data/grammar_data_N100_test.txt\"\n",
    "log_level = 'info'"
   ]
  },
  {
   "cell_type": "markdown",
   "metadata": {},
   "source": [
    "# Log format"
   ]
  },
  {
   "cell_type": "code",
   "execution_count": 3,
   "metadata": {},
   "outputs": [],
   "source": [
    "LOG_FORMAT = '%(asctime)s %(levelname)-6s %(message)s'\n",
    "logging.basicConfig(format=LOG_FORMAT, level=getattr(logging, log_level.upper()))"
   ]
  },
  {
   "cell_type": "markdown",
   "metadata": {},
   "source": [
    "# Prepare dataset"
   ]
  },
  {
   "cell_type": "code",
   "execution_count": 4,
   "metadata": {},
   "outputs": [],
   "source": [
    "src = fields.SourceField()\n",
    "tgt = fields.TargetField()\n",
    "max_len = 102\n",
    "def len_filter(example):\n",
    "    return len(example.src) <= max_len and len(example.tgt) <= max_len\n",
    "train = torchtext.data.TabularDataset(\n",
    "    path=train_path, format='tsv',\n",
    "    fields=[('src', src), ('tgt', tgt)],\n",
    "    filter_pred=len_filter\n",
    ")\n",
    "dev = torchtext.data.TabularDataset(\n",
    "    path=dev_path, format='tsv',\n",
    "    fields=[('src', src), ('tgt', tgt)],\n",
    "    filter_pred=len_filter\n",
    ")\n",
    "src.build_vocab(train)\n",
    "tgt.build_vocab(train)\n",
    "input_vocab = src.vocab\n",
    "output_vocab = tgt.vocab"
   ]
  },
  {
   "cell_type": "markdown",
   "metadata": {},
   "source": [
    "# Prepare loss"
   ]
  },
  {
   "cell_type": "code",
   "execution_count": 5,
   "metadata": {},
   "outputs": [
    {
     "name": "stderr",
     "output_type": "stream",
     "text": [
      "/home/hyeontae/hyeontae/venv/lib/python3.5/site-packages/torch/nn/functional.py:52: UserWarning: size_average and reduce args will be deprecated, please use reduction='sum' instead.\n",
      "  warnings.warn(warning.format(ret))\n"
     ]
    }
   ],
   "source": [
    "weight = torch.ones(len(tgt.vocab))\n",
    "pad = tgt.vocab.stoi[tgt.pad_token]\n",
    "loss = Perplexity(weight, pad)\n",
    "if torch.cuda.is_available():\n",
    "    loss.cuda()"
   ]
  },
  {
   "cell_type": "markdown",
   "metadata": {},
   "source": [
    "# Variable definition"
   ]
  },
  {
   "cell_type": "code",
   "execution_count": 6,
   "metadata": {},
   "outputs": [
    {
     "name": "stdout",
     "output_type": "stream",
     "text": [
      "[50]\n"
     ]
    }
   ],
   "source": [
    "seq2seq = None\n",
    "optimizer = \"Adam\"\n",
    "\n",
    "hidden_sizes = list(range(50, 51, 4))\n",
    "print(hidden_sizes)\n",
    "error_rate = []\n",
    "accuracy = []\n",
    "losses = []"
   ]
  },
  {
   "cell_type": "markdown",
   "metadata": {},
   "source": [
    "# Initialize model"
   ]
  },
  {
   "cell_type": "code",
   "execution_count": 7,
   "metadata": {},
   "outputs": [
    {
     "name": "stderr",
     "output_type": "stream",
     "text": [
      "/home/hyeontae/hyeontae/venv/lib/python3.5/site-packages/torch/nn/modules/rnn.py:38: UserWarning: dropout option adds dropout after all but last recurrent layer, so non-zero dropout expects num_layers greater than 1, but got dropout=0.2 and num_layers=1\n",
      "  \"num_layers={}\".format(dropout, num_layers))\n",
      "2019-01-22 16:33:35,569 INFO   Optimizer: Adam (\n",
      "Parameter Group 0\n",
      "    amsgrad: False\n",
      "    betas: (0.9, 0.999)\n",
      "    eps: 1e-08\n",
      "    lr: 0.001\n",
      "    weight_decay: 0\n",
      "), Scheduler: None\n"
     ]
    },
    {
     "name": "stdout",
     "output_type": "stream",
     "text": [
      "Hidden size is 50\n"
     ]
    },
    {
     "name": "stderr",
     "output_type": "stream",
     "text": [
      "/home/hyeontae/hyeontae/venv/lib/python3.5/site-packages/torch/nn/functional.py:995: UserWarning: nn.functional.tanh is deprecated. Use torch.tanh instead.\n",
      "  warnings.warn(\"nn.functional.tanh is deprecated. Use torch.tanh instead.\")\n",
      "2019-01-22 16:34:35,844 INFO   Finished epoch 1: Train loss: 11.0588, Dev loss: 9.4637, Accuracy(Character): 0.2412, Accuracy(Word): 0.0000\n",
      "2019-01-22 16:35:34,555 INFO   Finished epoch 2: Train loss: 7.2521, Dev loss: 10.2477, Accuracy(Character): 0.3372, Accuracy(Word): 0.0000\n",
      "2019-01-22 16:36:34,664 INFO   Finished epoch 3: Train loss: 5.2038, Dev loss: 3.9397, Accuracy(Character): 0.5667, Accuracy(Word): 0.0000\n",
      "2019-01-22 16:37:34,854 INFO   Finished epoch 4: Train loss: 3.0305, Dev loss: 4.5627, Accuracy(Character): 0.5555, Accuracy(Word): 0.0001\n",
      "2019-01-22 16:38:48,120 INFO   Finished epoch 5: Train loss: 2.5123, Dev loss: 3.0045, Accuracy(Character): 0.6570, Accuracy(Word): 0.0001\n",
      "2019-01-22 16:40:00,856 INFO   Finished epoch 6: Train loss: 2.2062, Dev loss: 2.7795, Accuracy(Character): 0.6783, Accuracy(Word): 0.0001\n",
      "2019-01-22 16:41:14,002 INFO   Finished epoch 7: Train loss: 2.0136, Dev loss: 2.9435, Accuracy(Character): 0.6725, Accuracy(Word): 0.0001\n",
      "2019-01-22 16:42:25,125 INFO   Finished epoch 8: Train loss: 1.9335, Dev loss: 2.5245, Accuracy(Character): 0.7218, Accuracy(Word): 0.0001\n",
      "2019-01-22 16:43:36,541 INFO   Finished epoch 9: Train loss: 1.7918, Dev loss: 2.7897, Accuracy(Character): 0.6999, Accuracy(Word): 0.0555\n",
      "2019-01-22 16:44:49,016 INFO   Finished epoch 10: Train loss: 1.7092, Dev loss: 2.2902, Accuracy(Character): 0.7616, Accuracy(Word): 0.0660\n",
      "2019-01-22 16:46:01,961 INFO   Finished epoch 11: Train loss: 1.6736, Dev loss: 1.9715, Accuracy(Character): 0.7923, Accuracy(Word): 0.0660\n",
      "2019-01-22 16:47:14,408 INFO   Finished epoch 12: Train loss: 1.6052, Dev loss: 2.0545, Accuracy(Character): 0.7793, Accuracy(Word): 0.0470\n",
      "2019-01-22 16:48:25,885 INFO   Finished epoch 13: Train loss: 1.6138, Dev loss: 2.1092, Accuracy(Character): 0.7860, Accuracy(Word): 0.0586\n",
      "2019-01-22 16:49:39,398 INFO   Finished epoch 14: Train loss: 1.5338, Dev loss: 2.2277, Accuracy(Character): 0.7651, Accuracy(Word): 0.0645\n",
      "2019-01-22 16:50:51,879 INFO   Finished epoch 15: Train loss: 1.4865, Dev loss: 1.8516, Accuracy(Character): 0.8124, Accuracy(Word): 0.0593\n",
      "2019-01-22 16:52:04,739 INFO   Finished epoch 16: Train loss: 1.4940, Dev loss: 1.7902, Accuracy(Character): 0.8219, Accuracy(Word): 0.0607\n",
      "2019-01-22 16:53:17,473 INFO   Finished epoch 17: Train loss: 1.4048, Dev loss: 1.7247, Accuracy(Character): 0.8362, Accuracy(Word): 0.0001\n",
      "2019-01-22 16:54:29,192 INFO   Finished epoch 18: Train loss: 1.4252, Dev loss: 2.3771, Accuracy(Character): 0.7589, Accuracy(Word): 0.0735\n",
      "2019-01-22 16:55:43,732 INFO   Finished epoch 19: Train loss: 1.3792, Dev loss: 1.5630, Accuracy(Character): 0.8653, Accuracy(Word): 0.0911\n",
      "2019-01-22 16:56:56,657 INFO   Finished epoch 20: Train loss: 1.3499, Dev loss: 1.8110, Accuracy(Character): 0.8202, Accuracy(Word): 0.0749\n",
      "2019-01-22 16:58:09,105 INFO   Finished epoch 21: Train loss: 1.3637, Dev loss: 1.6421, Accuracy(Character): 0.8469, Accuracy(Word): 0.1168\n",
      "2019-01-22 16:59:20,153 INFO   Finished epoch 22: Train loss: 1.3106, Dev loss: 1.5537, Accuracy(Character): 0.8687, Accuracy(Word): 0.0952\n",
      "2019-01-22 17:00:30,807 INFO   Finished epoch 23: Train loss: 1.3027, Dev loss: 1.6235, Accuracy(Character): 0.8673, Accuracy(Word): 0.1235\n",
      "2019-01-22 17:01:42,743 INFO   Finished epoch 24: Train loss: 1.2713, Dev loss: 1.7189, Accuracy(Character): 0.8534, Accuracy(Word): 0.0968\n",
      "2019-01-22 17:02:54,884 INFO   Finished epoch 25: Train loss: 1.2889, Dev loss: 1.4486, Accuracy(Character): 0.8976, Accuracy(Word): 0.1214\n",
      "2019-01-22 17:04:05,989 INFO   Finished epoch 26: Train loss: 1.2513, Dev loss: 2.0103, Accuracy(Character): 0.8407, Accuracy(Word): 0.1233\n",
      "2019-01-22 17:05:19,390 INFO   Finished epoch 27: Train loss: 1.2823, Dev loss: 1.4039, Accuracy(Character): 0.9098, Accuracy(Word): 0.1168\n",
      "2019-01-22 17:06:32,398 INFO   Finished epoch 28: Train loss: 1.2562, Dev loss: 1.4096, Accuracy(Character): 0.9082, Accuracy(Word): 0.0766\n",
      "2019-01-22 17:07:44,265 INFO   Finished epoch 29: Train loss: 1.2337, Dev loss: 1.6081, Accuracy(Character): 0.8912, Accuracy(Word): 0.1354\n",
      "2019-01-22 17:08:55,772 INFO   Finished epoch 30: Train loss: 1.2506, Dev loss: 1.3084, Accuracy(Character): 0.9204, Accuracy(Word): 0.0984\n",
      "2019-01-22 17:10:06,331 INFO   Finished epoch 31: Train loss: 1.2180, Dev loss: 1.2825, Accuracy(Character): 0.9287, Accuracy(Word): 0.1450\n",
      "2019-01-22 17:11:18,915 INFO   Finished epoch 32: Train loss: 1.2143, Dev loss: 1.3437, Accuracy(Character): 0.9191, Accuracy(Word): 0.1397\n",
      "2019-01-22 17:12:31,687 INFO   Finished epoch 33: Train loss: 1.1984, Dev loss: 2.0927, Accuracy(Character): 0.8212, Accuracy(Word): 0.0831\n",
      "2019-01-22 17:13:44,102 INFO   Finished epoch 34: Train loss: 1.1960, Dev loss: 1.2796, Accuracy(Character): 0.9344, Accuracy(Word): 0.1341\n",
      "2019-01-22 17:14:55,959 INFO   Finished epoch 35: Train loss: 1.1974, Dev loss: 1.3153, Accuracy(Character): 0.9244, Accuracy(Word): 0.1223\n",
      "2019-01-22 17:16:07,817 INFO   Finished epoch 36: Train loss: 1.1837, Dev loss: 1.2157, Accuracy(Character): 0.9436, Accuracy(Word): 0.1307\n",
      "2019-01-22 17:17:18,000 INFO   Finished epoch 37: Train loss: 1.1808, Dev loss: 1.2908, Accuracy(Character): 0.9323, Accuracy(Word): 0.1235\n",
      "2019-01-22 17:18:30,607 INFO   Finished epoch 38: Train loss: 1.1724, Dev loss: 1.3831, Accuracy(Character): 0.9244, Accuracy(Word): 0.1157\n",
      "2019-01-22 17:19:41,084 INFO   Finished epoch 39: Train loss: 1.1606, Dev loss: 1.2083, Accuracy(Character): 0.9483, Accuracy(Word): 0.0435\n",
      "2019-01-22 17:20:53,167 INFO   Finished epoch 40: Train loss: 1.1563, Dev loss: 1.2341, Accuracy(Character): 0.9432, Accuracy(Word): 0.1808\n",
      "2019-01-22 17:22:04,894 INFO   Finished epoch 41: Train loss: 1.1666, Dev loss: 1.2723, Accuracy(Character): 0.9403, Accuracy(Word): 0.0984\n",
      "2019-01-22 17:23:15,637 INFO   Finished epoch 42: Train loss: 1.1802, Dev loss: 1.7850, Accuracy(Character): 0.8897, Accuracy(Word): 0.0911\n",
      "2019-01-22 17:24:29,141 INFO   Finished epoch 43: Train loss: 1.1580, Dev loss: 1.2724, Accuracy(Character): 0.9451, Accuracy(Word): 0.1307\n",
      "2019-01-22 17:25:42,077 INFO   Finished epoch 44: Train loss: 1.1539, Dev loss: 1.1759, Accuracy(Character): 0.9540, Accuracy(Word): 0.1245\n",
      "2019-01-22 17:26:54,108 INFO   Finished epoch 45: Train loss: 1.1363, Dev loss: 1.7684, Accuracy(Character): 0.8862, Accuracy(Word): 0.1558\n",
      "2019-01-22 17:28:05,059 INFO   Finished epoch 46: Train loss: 1.1279, Dev loss: 1.1834, Accuracy(Character): 0.9524, Accuracy(Word): 0.0951\n",
      "2019-01-22 17:29:05,984 INFO   Finished epoch 47: Train loss: 1.1682, Dev loss: 1.1934, Accuracy(Character): 0.9591, Accuracy(Word): 0.1353\n",
      "2019-01-22 17:30:03,514 INFO   Finished epoch 48: Train loss: 1.1359, Dev loss: 1.1292, Accuracy(Character): 0.9724, Accuracy(Word): 0.1012\n",
      "2019-01-22 17:31:02,153 INFO   Finished epoch 49: Train loss: 1.1441, Dev loss: 1.2475, Accuracy(Character): 0.9475, Accuracy(Word): 0.1608\n",
      "2019-01-22 17:32:03,460 INFO   Finished epoch 50: Train loss: 1.1231, Dev loss: 1.7733, Accuracy(Character): 0.8955, Accuracy(Word): 0.1556\n"
     ]
    },
    {
     "data": {
      "image/png": "[encoded data removed]",
      "text/plain": [
       "<Figure size 432x288 with 1 Axes>"
      ]
     },
     "metadata": {
      "needs_background": "light"
     },
     "output_type": "display_data"
    }
   ],
   "source": [
    "for i in hidden_sizes:\n",
    "    print(\"Hidden size is %d\" % i)\n",
    "    hidden_size = i\n",
    "    bidirectional = True\n",
    "    encoder = EncoderRNN(len(src.vocab), max_len, hidden_size,\n",
    "                        bidirectional=bidirectional, variable_lengths=True)\n",
    "    decoder = DecoderRNN(len(tgt.vocab), max_len, hidden_size * 2 if bidirectional else hidden_size,\n",
    "                        dropout_p=0.2, use_attention=True, bidirectional=bidirectional,\n",
    "                        eos_id=tgt.eos_id, sos_id=tgt.sos_id)\n",
    "    seq2seq = Seq2seq(encoder, decoder)\n",
    "    if torch.cuda.is_available():\n",
    "        seq2seq.cuda()\n",
    "\n",
    "    for param in seq2seq.parameters():\n",
    "        param.data.uniform_(-0.08, 0.08)\n",
    "\n",
    "    # train\n",
    "    t = SupervisedTrainer(loss=loss, batch_size=32,\n",
    "                        checkpoint_every=50,\n",
    "                        print_every=100)\n",
    "\n",
    "    seq2seq, ave_loss, character_accuracy = t.train(seq2seq, train,\n",
    "                                                    num_epochs=50, dev_data=dev,\n",
    "                                                    optimizer=optimizer,\n",
    "                                                    teacher_forcing_ratio=0.5)\n",
    "\n",
    "    losses.append(ave_loss/100)\n",
    "    error_rate.append(1 - character_accuracy)\n",
    "    accuracy.append(character_accuracy)"
   ]
  },
  {
   "cell_type": "code",
   "execution_count": 9,
   "metadata": {},
   "outputs": [],
   "source": [
    "torch.save(seq2seq.state_dict(), 'log/model_save.pth')"
   ]
  }
 ],
 "metadata": {
  "kernelspec": {
   "display_name": "Python 3",
   "language": "python",
   "name": "python3"
  },
  "language_info": {
   "codemirror_mode": {
    "name": "ipython",
    "version": 3
   },
   "file_extension": ".py",
   "mimetype": "text/x-python",
   "name": "python",
   "nbconvert_exporter": "python",
   "pygments_lexer": "ipython3",
   "version": "3.5.2"
  }
 },
 "nbformat": 4,
 "nbformat_minor": 2
}
