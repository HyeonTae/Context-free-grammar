{
 "cells": [
  {
   "cell_type": "markdown",
   "metadata": {},
   "source": [
    "# Set Parameter\n",
    "- Attention = False\n",
    "- Drop out = 0.2\n",
    "- Teacher Forcing Ratio = 0.5\n",
    "- Layer = 1\n",
    "- Hidden unit = 50\n",
    "- Batch size = 32\n",
    "- Pretrain Epochs = 20\n",
    "- Train Epochs = 20"
   ]
  },
  {
   "cell_type": "markdown",
   "metadata": {},
   "source": [
    "# Import packages\n",
    "\n",
    "import useful packages for experiments"
   ]
  },
  {
   "cell_type": "code",
   "execution_count": 1,
   "metadata": {},
   "outputs": [
    {
     "name": "stderr",
     "output_type": "stream",
     "text": [
      "/home/hyeontae/hyeontae/venv/lib/python3.5/site-packages/torch/nn/functional.py:52: UserWarning: size_average and reduce args will be deprecated, please use reduction='elementwise_mean' instead.\n",
      "  warnings.warn(warning.format(ret))\n",
      "/home/hyeontae/hyeontae/venv/lib/python3.5/site-packages/torch/nn/functional.py:52: UserWarning: size_average and reduce args will be deprecated, please use reduction='elementwise_mean' instead.\n",
      "  warnings.warn(warning.format(ret))\n"
     ]
    }
   ],
   "source": [
    "import os\n",
    "import argparse\n",
    "import logging\n",
    "\n",
    "import torch\n",
    "from torch.optim.lr_scheduler import StepLR\n",
    "import torchtext\n",
    "\n",
    "from trainer.supervised_trainer import SupervisedTrainer\n",
    "from models.encoderRNN import EncoderRNN\n",
    "from models.decoderRNN import DecoderRNN\n",
    "from models.seq2seq import Seq2seq\n",
    "from loss.loss import Perplexity\n",
    "from optim.optim import Optimizer\n",
    "from dataset import fields\n",
    "from evaluator.predictor import Predictor\n",
    "\n",
    "import matplotlib.pyplot as plt"
   ]
  },
  {
   "cell_type": "markdown",
   "metadata": {},
   "source": [
    "# Log format"
   ]
  },
  {
   "cell_type": "code",
   "execution_count": 2,
   "metadata": {},
   "outputs": [],
   "source": [
    "log_level = 'info'\n",
    "LOG_FORMAT = '%(asctime)s %(levelname)-6s %(message)s'\n",
    "logging.basicConfig(format=LOG_FORMAT, level=getattr(logging, log_level.upper()))"
   ]
  },
  {
   "cell_type": "markdown",
   "metadata": {},
   "source": [
    "# Pretrain - Data load"
   ]
  },
  {
   "cell_type": "code",
   "execution_count": 3,
   "metadata": {},
   "outputs": [],
   "source": [
    "pretrain_train_path = \"data/grammar_data_N50_train.txt\"\n",
    "pretrain_dev_path = \"data/grammar_data_N50_test.txt\""
   ]
  },
  {
   "cell_type": "markdown",
   "metadata": {},
   "source": [
    "# Train - Data load"
   ]
  },
  {
   "cell_type": "code",
   "execution_count": 4,
   "metadata": {},
   "outputs": [],
   "source": [
    "train_path = \"data/grammar_data_N100_train.txt\"\n",
    "dev_path = \"data/grammar_data_N100_test.txt\""
   ]
  },
  {
   "cell_type": "markdown",
   "metadata": {},
   "source": [
    "# Pretrain - Prepare dataset"
   ]
  },
  {
   "cell_type": "code",
   "execution_count": 5,
   "metadata": {},
   "outputs": [],
   "source": [
    "pretrain_src = fields.SourceField()\n",
    "pretrain_tgt = fields.TargetField()\n",
    "max_len = 104\n",
    "def len_filter(example):\n",
    "    return len(example.src) <= max_len and len(example.tgt) <= max_len\n",
    "pretrain_train = torchtext.data.TabularDataset(\n",
    "    path=pretrain_train_path, format='tsv',\n",
    "    fields=[('src', pretrain_src), ('tgt', pretrain_tgt)],\n",
    "    filter_pred=len_filter\n",
    ")\n",
    "pretrain_dev = torchtext.data.TabularDataset(\n",
    "    path=pretrain_dev_path, format='tsv',\n",
    "    fields=[('src', pretrain_src), ('tgt', pretrain_tgt)],\n",
    "    filter_pred=len_filter\n",
    ")\n",
    "pretrain_src.build_vocab(pretrain_train)\n",
    "pretrain_tgt.build_vocab(pretrain_train)\n",
    "pretrain_input_vocab = pretrain_src.vocab\n",
    "pretrain_output_vocab = pretrain_tgt.vocab"
   ]
  },
  {
   "cell_type": "markdown",
   "metadata": {},
   "source": [
    "# Train - Prepare dataset"
   ]
  },
  {
   "cell_type": "code",
   "execution_count": 6,
   "metadata": {},
   "outputs": [],
   "source": [
    "src = fields.SourceField()\n",
    "tgt = fields.TargetField()\n",
    "max_len = 104\n",
    "def len_filter(example):\n",
    "    return len(example.src) <= max_len and len(example.tgt) <= max_len\n",
    "train = torchtext.data.TabularDataset(\n",
    "    path=train_path, format='tsv',\n",
    "    fields=[('src', src), ('tgt', tgt)],\n",
    "    filter_pred=len_filter\n",
    ")\n",
    "dev = torchtext.data.TabularDataset(\n",
    "    path=dev_path, format='tsv',\n",
    "    fields=[('src', src), ('tgt', tgt)],\n",
    "    filter_pred=len_filter\n",
    ")\n",
    "src.build_vocab(train)\n",
    "tgt.build_vocab(train)\n",
    "input_vocab = src.vocab\n",
    "output_vocab = tgt.vocab"
   ]
  },
  {
   "cell_type": "markdown",
   "metadata": {},
   "source": [
    "# Pretrain - Prepare loss"
   ]
  },
  {
   "cell_type": "code",
   "execution_count": 7,
   "metadata": {},
   "outputs": [
    {
     "name": "stderr",
     "output_type": "stream",
     "text": [
      "/home/hyeontae/hyeontae/venv/lib/python3.5/site-packages/torch/nn/functional.py:52: UserWarning: size_average and reduce args will be deprecated, please use reduction='sum' instead.\n",
      "  warnings.warn(warning.format(ret))\n"
     ]
    }
   ],
   "source": [
    "pretrain_weight = torch.ones(len(pretrain_tgt.vocab))\n",
    "pretrain_pad = pretrain_tgt.vocab.stoi[pretrain_tgt.pad_token]\n",
    "pretrain_loss = Perplexity(pretrain_weight, pretrain_pad)\n",
    "if torch.cuda.is_available():\n",
    "    pretrain_loss.cuda()"
   ]
  },
  {
   "cell_type": "markdown",
   "metadata": {},
   "source": [
    "# Train - Prepare loss"
   ]
  },
  {
   "cell_type": "code",
   "execution_count": 8,
   "metadata": {},
   "outputs": [],
   "source": [
    "weight = torch.ones(len(tgt.vocab))\n",
    "pad = tgt.vocab.stoi[tgt.pad_token]\n",
    "loss = Perplexity(weight, pad)\n",
    "if torch.cuda.is_available():\n",
    "    loss.cuda()"
   ]
  },
  {
   "cell_type": "markdown",
   "metadata": {},
   "source": [
    "# Variable definition"
   ]
  },
  {
   "cell_type": "code",
   "execution_count": 9,
   "metadata": {},
   "outputs": [
    {
     "name": "stdout",
     "output_type": "stream",
     "text": [
      "[50]\n"
     ]
    }
   ],
   "source": [
    "seq2seq = None\n",
    "optimizer = \"Adam\"\n",
    "\n",
    "hidden_sizes = list(range(50, 51, 4))\n",
    "print(hidden_sizes)\n",
    "error_rate = []\n",
    "accuracy = []\n",
    "losses = []"
   ]
  },
  {
   "cell_type": "markdown",
   "metadata": {},
   "source": [
    "# Initialize model"
   ]
  },
  {
   "cell_type": "code",
   "execution_count": 10,
   "metadata": {},
   "outputs": [
    {
     "name": "stderr",
     "output_type": "stream",
     "text": [
      "/home/hyeontae/hyeontae/venv/lib/python3.5/site-packages/torch/nn/modules/rnn.py:38: UserWarning: dropout option adds dropout after all but last recurrent layer, so non-zero dropout expects num_layers greater than 1, but got dropout=0.2 and num_layers=1\n",
      "  \"num_layers={}\".format(dropout, num_layers))\n",
      "2019-01-28 09:46:48,258 INFO   Optimizer: Adam (\n",
      "Parameter Group 0\n",
      "    amsgrad: False\n",
      "    betas: (0.9, 0.999)\n",
      "    eps: 1e-08\n",
      "    lr: 0.001\n",
      "    weight_decay: 0\n",
      "), Scheduler: None\n"
     ]
    },
    {
     "name": "stdout",
     "output_type": "stream",
     "text": [
      "Hidden size is 50\n",
      "6\n",
      "49\n",
      "6\n",
      "49\n",
      "pretrain..\n"
     ]
    },
    {
     "name": "stderr",
     "output_type": "stream",
     "text": [
      "2019-01-28 09:48:48,754 INFO   Finished epoch 1: Train loss: 7.3495, Dev loss: 3.7483, Accuracy(Character): 0.4791, Accuracy(Word): 0.0000\n",
      "2019-01-28 09:50:52,377 INFO   Finished epoch 2: Train loss: 2.2438, Dev loss: 2.2616, Accuracy(Character): 0.6567, Accuracy(Word): 0.0001\n",
      "2019-01-28 09:52:53,319 INFO   Finished epoch 3: Train loss: 1.8001, Dev loss: 2.2170, Accuracy(Character): 0.6837, Accuracy(Word): 0.0000\n",
      "2019-01-28 09:54:56,199 INFO   Finished epoch 4: Train loss: 1.6672, Dev loss: 1.7612, Accuracy(Character): 0.7712, Accuracy(Word): 0.0037\n",
      "2019-01-28 09:56:58,167 INFO   Finished epoch 5: Train loss: 1.5743, Dev loss: 1.6382, Accuracy(Character): 0.7970, Accuracy(Word): 0.0035\n",
      "2019-01-28 09:58:59,780 INFO   Finished epoch 6: Train loss: 1.4938, Dev loss: 1.8982, Accuracy(Character): 0.7472, Accuracy(Word): 0.0103\n",
      "2019-01-28 10:01:02,027 INFO   Finished epoch 7: Train loss: 1.4620, Dev loss: 1.6906, Accuracy(Character): 0.7922, Accuracy(Word): 0.0046\n",
      "2019-01-28 10:03:05,127 INFO   Finished epoch 8: Train loss: 1.4169, Dev loss: 1.5130, Accuracy(Character): 0.8293, Accuracy(Word): 0.0173\n",
      "2019-01-28 10:05:06,582 INFO   Finished epoch 9: Train loss: 1.3866, Dev loss: 1.4148, Accuracy(Character): 0.8570, Accuracy(Word): 0.0114\n",
      "2019-01-28 10:07:07,705 INFO   Finished epoch 10: Train loss: 1.3669, Dev loss: 1.4327, Accuracy(Character): 0.8521, Accuracy(Word): 0.0116\n",
      "2019-01-28 10:09:11,100 INFO   Finished epoch 11: Train loss: 1.3396, Dev loss: 1.5438, Accuracy(Character): 0.8335, Accuracy(Word): 0.0101\n",
      "2019-01-28 10:11:14,563 INFO   Finished epoch 12: Train loss: 1.3281, Dev loss: 1.4428, Accuracy(Character): 0.8497, Accuracy(Word): 0.0036\n",
      "2019-01-28 10:13:16,364 INFO   Finished epoch 13: Train loss: 1.3049, Dev loss: 1.3292, Accuracy(Character): 0.8833, Accuracy(Word): 0.0168\n",
      "2019-01-28 10:15:18,814 INFO   Finished epoch 14: Train loss: 1.2919, Dev loss: 1.3337, Accuracy(Character): 0.8818, Accuracy(Word): 0.0175\n",
      "2019-01-28 10:17:21,924 INFO   Finished epoch 15: Train loss: 1.2830, Dev loss: 1.3081, Accuracy(Character): 0.8916, Accuracy(Word): 0.0103\n",
      "2019-01-28 10:19:23,743 INFO   Finished epoch 16: Train loss: 1.2591, Dev loss: 1.6252, Accuracy(Character): 0.8257, Accuracy(Word): 0.0178\n",
      "2019-01-28 10:21:25,514 INFO   Finished epoch 17: Train loss: 1.2652, Dev loss: 1.3941, Accuracy(Character): 0.8719, Accuracy(Word): 0.0171\n",
      "2019-01-28 10:23:27,284 INFO   Finished epoch 18: Train loss: 1.2447, Dev loss: 1.2480, Accuracy(Character): 0.9104, Accuracy(Word): 0.0101\n",
      "2019-01-28 10:25:30,082 INFO   Finished epoch 19: Train loss: 1.2211, Dev loss: 1.2610, Accuracy(Character): 0.9063, Accuracy(Word): 0.0229\n",
      "2019-01-28 10:27:31,448 INFO   Finished epoch 20: Train loss: 1.2111, Dev loss: 1.4636, Accuracy(Character): 0.8632, Accuracy(Word): 0.0176\n",
      "2019-01-28 10:27:31,538 INFO   Optimizer: Adam (\n",
      "Parameter Group 0\n",
      "    amsgrad: False\n",
      "    betas: (0.9, 0.999)\n",
      "    eps: 1e-08\n",
      "    lr: 0.001\n",
      "    weight_decay: 0\n",
      "), Scheduler: None\n"
     ]
    },
    {
     "name": "stdout",
     "output_type": "stream",
     "text": [
      "train..\n"
     ]
    },
    {
     "name": "stderr",
     "output_type": "stream",
     "text": [
      "2019-01-28 10:31:13,785 INFO   Finished epoch 1: Train loss: 69713.0073, Dev loss: 2.8082, Accuracy(Character): 0.5934, Accuracy(Word): 0.0000\n",
      "2019-01-28 10:34:58,774 INFO   Finished epoch 2: Train loss: 2.1493, Dev loss: 2.4001, Accuracy(Character): 0.6493, Accuracy(Word): 0.0000\n",
      "2019-01-28 10:38:37,861 INFO   Finished epoch 3: Train loss: 1.9307, Dev loss: 2.3626, Accuracy(Character): 0.6486, Accuracy(Word): 0.0000\n",
      "2019-01-28 10:42:18,254 INFO   Finished epoch 4: Train loss: 1.8412, Dev loss: 2.0419, Accuracy(Character): 0.7069, Accuracy(Word): 0.0000\n",
      "2019-01-28 10:46:00,712 INFO   Finished epoch 5: Train loss: 1.7993, Dev loss: 2.0158, Accuracy(Character): 0.7157, Accuracy(Word): 0.0000\n",
      "2019-01-28 10:49:41,636 INFO   Finished epoch 6: Train loss: 1.7802, Dev loss: 1.9542, Accuracy(Character): 0.7260, Accuracy(Word): 0.0000\n",
      "2019-01-28 10:53:22,323 INFO   Finished epoch 7: Train loss: 1.7184, Dev loss: 2.0350, Accuracy(Character): 0.7192, Accuracy(Word): 0.0000\n",
      "2019-01-28 10:57:07,086 INFO   Finished epoch 8: Train loss: 1.7037, Dev loss: 1.8499, Accuracy(Character): 0.7423, Accuracy(Word): 0.0091\n",
      "2019-01-28 11:00:48,807 INFO   Finished epoch 9: Train loss: 1.6685, Dev loss: 2.5636, Accuracy(Character): 0.6577, Accuracy(Word): 0.0092\n",
      "2019-01-28 11:04:27,940 INFO   Finished epoch 10: Train loss: 1.6712, Dev loss: 2.0519, Accuracy(Character): 0.7208, Accuracy(Word): 0.0000\n",
      "2019-01-28 11:08:12,430 INFO   Finished epoch 11: Train loss: 1.6555, Dev loss: 1.7771, Accuracy(Character): 0.7584, Accuracy(Word): 0.0000\n",
      "2019-01-28 11:11:54,534 INFO   Finished epoch 12: Train loss: 1.5971, Dev loss: 2.0220, Accuracy(Character): 0.7194, Accuracy(Word): 0.0000\n",
      "2019-01-28 11:15:37,575 INFO   Finished epoch 13: Train loss: 1.5960, Dev loss: 1.7622, Accuracy(Character): 0.7668, Accuracy(Word): 0.0000\n",
      "2019-01-28 11:19:21,906 INFO   Finished epoch 14: Train loss: 1.5838, Dev loss: 1.7393, Accuracy(Character): 0.7622, Accuracy(Word): 0.0000\n",
      "2019-01-28 11:23:06,733 INFO   Finished epoch 15: Train loss: 1.5868, Dev loss: 3.3543, Accuracy(Character): 0.5947, Accuracy(Word): 0.0000\n",
      "2019-01-28 11:26:46,482 INFO   Finished epoch 16: Train loss: 1.5417, Dev loss: 1.6480, Accuracy(Character): 0.7867, Accuracy(Word): 0.0000\n",
      "2019-01-28 11:30:30,052 INFO   Finished epoch 17: Train loss: 1.5677, Dev loss: 2.1383, Accuracy(Character): 0.7048, Accuracy(Word): 0.0000\n",
      "2019-01-28 11:34:12,810 INFO   Finished epoch 18: Train loss: 1.5431, Dev loss: 2.8690, Accuracy(Character): 0.6647, Accuracy(Word): 0.0000\n",
      "2019-01-28 11:37:56,761 INFO   Finished epoch 19: Train loss: 1.5412, Dev loss: 1.7050, Accuracy(Character): 0.7777, Accuracy(Word): 0.0000\n",
      "2019-01-28 11:41:40,758 INFO   Finished epoch 20: Train loss: 1.5244, Dev loss: 2.0367, Accuracy(Character): 0.7313, Accuracy(Word): 0.0000\n"
     ]
    },
    {
     "data": {
      "image/png": "[encoded data removed]",
      "text/plain": [
       "<Figure size 432x288 with 1 Axes>"
      ]
     },
     "metadata": {
      "needs_background": "light"
     },
     "output_type": "display_data"
    }
   ],
   "source": [
    "for i in hidden_sizes:\n",
    "    print(\"Hidden size is %d\" % i)\n",
    "    hidden_size = i\n",
    "    bidirectional = True\n",
    "    print(len(pretrain_src.vocab))\n",
    "    print(len(pretrain_tgt.vocab))\n",
    "    print(len(src.vocab))\n",
    "    print(len(tgt.vocab))\n",
    "    encoder = EncoderRNN(len(pretrain_src.vocab), max_len, hidden_size,\n",
    "                        bidirectional=bidirectional, variable_lengths=True)\n",
    "    decoder = DecoderRNN(len(pretrain_tgt.vocab), max_len, hidden_size * 2 if bidirectional else hidden_size,\n",
    "                        dropout_p=0.2, use_attention=False, bidirectional=bidirectional,\n",
    "                        eos_id=pretrain_tgt.eos_id, sos_id=pretrain_tgt.sos_id)\n",
    "    seq2seq = Seq2seq(encoder, decoder)\n",
    "    if torch.cuda.is_available():\n",
    "        seq2seq.cuda()\n",
    "\n",
    "    for param in seq2seq.parameters():\n",
    "        param.data.uniform_(-0.08, 0.08)\n",
    "\n",
    "    # train\n",
    "    t = SupervisedTrainer(loss=pretrain_loss, batch_size=32,\n",
    "                        checkpoint_every=50,\n",
    "                        print_every=100,\n",
    "                        hidden_size=hidden_size,\n",
    "                        fig_path=\"log/plot/pretrained_no_att\")\n",
    "    print(\"pretrain..\")\n",
    "\n",
    "    seq2seq, ave_loss, character_accuracy = t.train(seq2seq, pretrain_train,\n",
    "                                                    num_epochs=20, dev_data=pretrain_dev,\n",
    "                                                    optimizer=optimizer,\n",
    "                                                    teacher_forcing_ratio=0.5)\n",
    "    \n",
    "    print(\"train..\")\n",
    "    seq2seq, ave_loss, character_accuracy = t.train(seq2seq, train,\n",
    "                                                    num_epochs=20, dev_data=dev,\n",
    "                                                    optimizer=optimizer,\n",
    "                                                    teacher_forcing_ratio=0.5)\n",
    "\n",
    "    losses.append(ave_loss/100)\n",
    "    error_rate.append(1 - character_accuracy)\n",
    "    accuracy.append(character_accuracy)"
   ]
  },
  {
   "cell_type": "code",
   "execution_count": 13,
   "metadata": {},
   "outputs": [],
   "source": [
    "torch.save(seq2seq.state_dict(), 'log/pretrained_model_save.pth')"
   ]
  },
  {
   "cell_type": "code",
   "execution_count": null,
   "metadata": {},
   "outputs": [],
   "source": []
  }
 ],
 "metadata": {
  "kernelspec": {
   "display_name": "Python 3",
   "language": "python",
   "name": "python3"
  },
  "language_info": {
   "codemirror_mode": {
    "name": "ipython",
    "version": 3
   },
   "file_extension": ".py",
   "mimetype": "text/x-python",
   "name": "python",
   "nbconvert_exporter": "python",
   "pygments_lexer": "ipython3",
   "version": "3.5.2"
  }
 },
 "nbformat": 4,
 "nbformat_minor": 2
}
