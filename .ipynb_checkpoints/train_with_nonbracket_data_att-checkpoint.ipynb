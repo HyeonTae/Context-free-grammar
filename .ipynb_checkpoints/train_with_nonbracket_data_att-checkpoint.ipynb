{
 "cells": [
  {
   "cell_type": "markdown",
   "metadata": {},
   "source": [
    "# Set Parameter\n",
    "- Attention = False\n",
    "- Drop out = 0.2\n",
    "- Teacher Forcing Ratio = 0.5\n",
    "- Layer = 1\n",
    "- Hidden unit = 50\n",
    "- Batch size = 32\n",
    "- Epochs = 20"
   ]
  },
  {
   "cell_type": "markdown",
   "metadata": {},
   "source": [
    "# Import packages\n",
    "\n",
    "import useful packages for experiments"
   ]
  },
  {
   "cell_type": "code",
   "execution_count": 1,
   "metadata": {},
   "outputs": [
    {
     "name": "stderr",
     "output_type": "stream",
     "text": [
      "/home/hyeontae/hyeontae/venv/lib/python3.5/site-packages/torch/nn/functional.py:52: UserWarning: size_average and reduce args will be deprecated, please use reduction='elementwise_mean' instead.\n",
      "  warnings.warn(warning.format(ret))\n",
      "/home/hyeontae/hyeontae/venv/lib/python3.5/site-packages/torch/nn/functional.py:52: UserWarning: size_average and reduce args will be deprecated, please use reduction='elementwise_mean' instead.\n",
      "  warnings.warn(warning.format(ret))\n"
     ]
    }
   ],
   "source": [
    "import os\n",
    "import argparse\n",
    "import logging\n",
    "\n",
    "import torch\n",
    "from torch.optim.lr_scheduler import StepLR\n",
    "import torchtext\n",
    "\n",
    "from trainer.supervised_trainer import SupervisedTrainer\n",
    "from models.encoderRNN import EncoderRNN\n",
    "from models.decoderRNN import DecoderRNN\n",
    "from models.seq2seq import Seq2seq\n",
    "from loss.loss import Perplexity\n",
    "from optim.optim import Optimizer\n",
    "from dataset import fields\n",
    "from evaluator.predictor import Predictor\n",
    "\n",
    "import matplotlib.pyplot as plt"
   ]
  },
  {
   "cell_type": "markdown",
   "metadata": {},
   "source": [
    "# Data load"
   ]
  },
  {
   "cell_type": "code",
   "execution_count": 2,
   "metadata": {},
   "outputs": [],
   "source": [
    "train_path = \"nonbracket_data/data_train.txt\"\n",
    "dev_path = \"nonbracket_data/data_test.txt\"\n",
    "log_level = 'info'"
   ]
  },
  {
   "cell_type": "markdown",
   "metadata": {},
   "source": [
    "# Log format"
   ]
  },
  {
   "cell_type": "code",
   "execution_count": 3,
   "metadata": {},
   "outputs": [],
   "source": [
    "LOG_FORMAT = '%(asctime)s %(levelname)-6s %(message)s'\n",
    "logging.basicConfig(format=LOG_FORMAT, level=getattr(logging, log_level.upper()))"
   ]
  },
  {
   "cell_type": "markdown",
   "metadata": {},
   "source": [
    "# Prepare dataset"
   ]
  },
  {
   "cell_type": "code",
   "execution_count": 4,
   "metadata": {},
   "outputs": [],
   "source": [
    "src = fields.SourceField()\n",
    "tgt = fields.TargetField()\n",
    "max_len = 100\n",
    "def len_filter(example):\n",
    "    return len(example.src) <= max_len and len(example.tgt) <= max_len\n",
    "train = torchtext.data.TabularDataset(\n",
    "    path=train_path, format='tsv',\n",
    "    fields=[('src', src), ('tgt', tgt)],\n",
    "    filter_pred=len_filter\n",
    ")\n",
    "dev = torchtext.data.TabularDataset(\n",
    "    path=dev_path, format='tsv',\n",
    "    fields=[('src', src), ('tgt', tgt)],\n",
    "    filter_pred=len_filter\n",
    ")\n",
    "src.build_vocab(train)\n",
    "tgt.build_vocab(train)\n",
    "input_vocab = src.vocab\n",
    "output_vocab = tgt.vocab"
   ]
  },
  {
   "cell_type": "markdown",
   "metadata": {},
   "source": [
    "# Prepare loss"
   ]
  },
  {
   "cell_type": "code",
   "execution_count": 5,
   "metadata": {},
   "outputs": [
    {
     "name": "stderr",
     "output_type": "stream",
     "text": [
      "/home/hyeontae/hyeontae/venv/lib/python3.5/site-packages/torch/nn/functional.py:52: UserWarning: size_average and reduce args will be deprecated, please use reduction='sum' instead.\n",
      "  warnings.warn(warning.format(ret))\n"
     ]
    }
   ],
   "source": [
    "weight = torch.ones(len(tgt.vocab))\n",
    "pad = tgt.vocab.stoi[tgt.pad_token]\n",
    "loss = Perplexity(weight, pad)\n",
    "if torch.cuda.is_available():\n",
    "    loss.cuda()"
   ]
  },
  {
   "cell_type": "markdown",
   "metadata": {},
   "source": [
    "# Variable definition"
   ]
  },
  {
   "cell_type": "code",
   "execution_count": 6,
   "metadata": {},
   "outputs": [
    {
     "name": "stdout",
     "output_type": "stream",
     "text": [
      "[50]\n"
     ]
    }
   ],
   "source": [
    "seq2seq = None\n",
    "optimizer = \"Adam\"\n",
    "\n",
    "hidden_sizes = list(range(50, 51, 4))\n",
    "print(hidden_sizes)\n",
    "error_rate = []\n",
    "accuracy = []\n",
    "losses = []"
   ]
  },
  {
   "cell_type": "markdown",
   "metadata": {},
   "source": [
    "# Initialize model"
   ]
  },
  {
   "cell_type": "code",
   "execution_count": 7,
   "metadata": {},
   "outputs": [
    {
     "name": "stderr",
     "output_type": "stream",
     "text": [
      "/home/hyeontae/hyeontae/venv/lib/python3.5/site-packages/torch/nn/modules/rnn.py:38: UserWarning: dropout option adds dropout after all but last recurrent layer, so non-zero dropout expects num_layers greater than 1, but got dropout=0.2 and num_layers=1\n",
      "  \"num_layers={}\".format(dropout, num_layers))\n",
      "2019-01-30 14:58:57,343 INFO   Optimizer: Adam (\n",
      "Parameter Group 0\n",
      "    amsgrad: False\n",
      "    betas: (0.9, 0.999)\n",
      "    eps: 1e-08\n",
      "    lr: 0.001\n",
      "    weight_decay: 0\n",
      "), Scheduler: None\n"
     ]
    },
    {
     "name": "stdout",
     "output_type": "stream",
     "text": [
      "Hidden size is 50\n"
     ]
    },
    {
     "name": "stderr",
     "output_type": "stream",
     "text": [
      "2019-01-30 15:01:30,581 INFO   Finished epoch 1: Train loss: 10.0246, Dev loss: 7.7672, Accuracy(Character): 0.3727, Accuracy(Word): 0.0000\n",
      "2019-01-30 15:04:11,433 INFO   Finished epoch 2: Train loss: 3.7159, Dev loss: 4.1457, Accuracy(Character): 0.5052, Accuracy(Word): 0.0000\n",
      "2019-01-30 15:06:43,707 INFO   Finished epoch 3: Train loss: 2.8185, Dev loss: 3.4118, Accuracy(Character): 0.5429, Accuracy(Word): 0.0000\n",
      "2019-01-30 15:09:18,334 INFO   Finished epoch 4: Train loss: 2.5468, Dev loss: 3.0140, Accuracy(Character): 0.5908, Accuracy(Word): 0.0013\n",
      "2019-01-30 15:11:55,636 INFO   Finished epoch 5: Train loss: 2.3806, Dev loss: 2.8830, Accuracy(Character): 0.6185, Accuracy(Word): 0.0012\n",
      "2019-01-30 15:14:26,318 INFO   Finished epoch 6: Train loss: 2.2666, Dev loss: 2.6713, Accuracy(Character): 0.6345, Accuracy(Word): 0.0061\n",
      "2019-01-30 15:17:05,294 INFO   Finished epoch 7: Train loss: 2.1667, Dev loss: 3.1795, Accuracy(Character): 0.5903, Accuracy(Word): 0.0062\n",
      "2019-01-30 15:19:37,548 INFO   Finished epoch 8: Train loss: 2.0766, Dev loss: 2.4617, Accuracy(Character): 0.6507, Accuracy(Word): 0.0017\n",
      "2019-01-30 15:22:13,782 INFO   Finished epoch 9: Train loss: 2.0045, Dev loss: 2.3569, Accuracy(Character): 0.6727, Accuracy(Word): 0.0061\n",
      "2019-01-30 15:24:51,226 INFO   Finished epoch 10: Train loss: 1.9751, Dev loss: 2.2870, Accuracy(Character): 0.6783, Accuracy(Word): 0.0075\n",
      "2019-01-30 15:27:22,350 INFO   Finished epoch 11: Train loss: 1.9255, Dev loss: 2.1674, Accuracy(Character): 0.7028, Accuracy(Word): 0.0085\n",
      "2019-01-30 15:30:00,891 INFO   Finished epoch 12: Train loss: 1.8609, Dev loss: 2.1964, Accuracy(Character): 0.6923, Accuracy(Word): 0.0085\n",
      "2019-01-30 15:32:31,536 INFO   Finished epoch 13: Train loss: 1.8408, Dev loss: 2.1602, Accuracy(Character): 0.7093, Accuracy(Word): 0.0106\n",
      "2019-01-30 15:35:07,326 INFO   Finished epoch 14: Train loss: 1.8094, Dev loss: 2.3223, Accuracy(Character): 0.6764, Accuracy(Word): 0.0107\n",
      "2019-01-30 15:37:41,753 INFO   Finished epoch 15: Train loss: 1.7955, Dev loss: 2.3056, Accuracy(Character): 0.6902, Accuracy(Word): 0.0046\n",
      "2019-01-30 15:40:12,225 INFO   Finished epoch 16: Train loss: 1.7640, Dev loss: 2.0511, Accuracy(Character): 0.7178, Accuracy(Word): 0.0106\n",
      "2019-01-30 15:42:50,992 INFO   Finished epoch 17: Train loss: 1.7326, Dev loss: 2.0975, Accuracy(Character): 0.7056, Accuracy(Word): 0.0113\n",
      "2019-01-30 15:45:21,306 INFO   Finished epoch 18: Train loss: 1.7070, Dev loss: 1.9487, Accuracy(Character): 0.7354, Accuracy(Word): 0.0069\n",
      "2019-01-30 15:47:57,435 INFO   Finished epoch 19: Train loss: 1.6922, Dev loss: 2.1234, Accuracy(Character): 0.7099, Accuracy(Word): 0.0123\n",
      "2019-01-30 15:50:30,959 INFO   Finished epoch 20: Train loss: 1.6619, Dev loss: 1.9876, Accuracy(Character): 0.7358, Accuracy(Word): 0.0106\n"
     ]
    },
    {
     "data": {
      "image/png": "[encoded data removed]",
      "text/plain": [
       "<Figure size 432x288 with 1 Axes>"
      ]
     },
     "metadata": {
      "needs_background": "light"
     },
     "output_type": "display_data"
    }
   ],
   "source": [
    "for i in hidden_sizes:\n",
    "    print(\"Hidden size is %d\" % i)\n",
    "    hidden_size = i\n",
    "    bidirectional = True\n",
    "    encoder = EncoderRNN(len(src.vocab), max_len, hidden_size,\n",
    "                        bidirectional=bidirectional, variable_lengths=True)\n",
    "    decoder = DecoderRNN(len(tgt.vocab), max_len, hidden_size * 2 if bidirectional else hidden_size,\n",
    "                        dropout_p=0.2, use_attention=False, bidirectional=bidirectional,\n",
    "                        eos_id=tgt.eos_id, sos_id=tgt.sos_id)\n",
    "    seq2seq = Seq2seq(encoder, decoder)\n",
    "    if torch.cuda.is_available():\n",
    "        seq2seq.cuda()\n",
    "\n",
    "    for param in seq2seq.parameters():\n",
    "        param.data.uniform_(-0.08, 0.08)\n",
    "\n",
    "    # train\n",
    "    t = SupervisedTrainer(loss=loss, batch_size=32,\n",
    "                        checkpoint_every=50,\n",
    "                        print_every=100)\n",
    "\n",
    "    seq2seq, ave_loss, character_accuracy = t.train(seq2seq, train,\n",
    "                                                    num_epochs=20, dev_data=dev,\n",
    "                                                    optimizer=optimizer,\n",
    "                                                    teacher_forcing_ratio=0.5)\n",
    "\n",
    "    losses.append(ave_loss/100)\n",
    "    error_rate.append(1 - character_accuracy)\n",
    "    accuracy.append(character_accuracy)"
   ]
  },
  {
   "cell_type": "code",
   "execution_count": 8,
   "metadata": {},
   "outputs": [],
   "source": [
    "torch.save(seq2seq.state_dict(), 'log/nonbracket_no_att_model_save.pth')"
   ]
  }
 ],
 "metadata": {
  "kernelspec": {
   "display_name": "Python 3",
   "language": "python",
   "name": "python3"
  },
  "language_info": {
   "codemirror_mode": {
    "name": "ipython",
    "version": 3
   },
   "file_extension": ".py",
   "mimetype": "text/x-python",
   "name": "python",
   "nbconvert_exporter": "python",
   "pygments_lexer": "ipython3",
   "version": "3.5.2"
  }
 },
 "nbformat": 4,
 "nbformat_minor": 2
}
