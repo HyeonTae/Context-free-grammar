{
 "cells": [
  {
   "cell_type": "markdown",
   "metadata": {},
   "source": [
    "# Set Parameter\n",
    "- The probability of unmatching data is 10%\n",
    "- Attention = Luong\n",
    "- Drop out = 0.2\n",
    "- Teacher Forcing Ratio = 0.5\n",
    "- Layer = 1\n",
    "- Hidden unit = 50\n",
    "- Batch size = 32\n",
    "- Epochs = 50"
   ]
  },
  {
   "cell_type": "markdown",
   "metadata": {},
   "source": [
    "# Import packages\n",
    "\n",
    "import useful packages for experiments"
   ]
  },
  {
   "cell_type": "code",
   "execution_count": 1,
   "metadata": {},
   "outputs": [
    {
     "name": "stderr",
     "output_type": "stream",
     "text": [
      "/home/hyeontae/hyeontae/venv/lib/python3.5/site-packages/torch/nn/functional.py:52: UserWarning: size_average and reduce args will be deprecated, please use reduction='elementwise_mean' instead.\n",
      "  warnings.warn(warning.format(ret))\n",
      "/home/hyeontae/hyeontae/venv/lib/python3.5/site-packages/torch/nn/functional.py:52: UserWarning: size_average and reduce args will be deprecated, please use reduction='elementwise_mean' instead.\n",
      "  warnings.warn(warning.format(ret))\n"
     ]
    }
   ],
   "source": [
    "import os\n",
    "import argparse\n",
    "import logging\n",
    "\n",
    "import torch\n",
    "from torch.optim.lr_scheduler import StepLR\n",
    "import torchtext\n",
    "\n",
    "from trainer.supervised_trainer_unmatching import SupervisedTrainer\n",
    "from models.encoderRNN import EncoderRNN\n",
    "from models.decoderRNN import DecoderRNN\n",
    "from models.seq2seq import Seq2seq\n",
    "from loss.loss import Perplexity\n",
    "from optim.optim import Optimizer\n",
    "from dataset import fields\n",
    "from evaluator.predictor import Predictor\n",
    "\n",
    "import matplotlib.pyplot as plt"
   ]
  },
  {
   "cell_type": "markdown",
   "metadata": {},
   "source": [
    "# Data load"
   ]
  },
  {
   "cell_type": "code",
   "execution_count": 2,
   "metadata": {},
   "outputs": [],
   "source": [
    "train_path = \"unmatching_data2/data_train.txt\"\n",
    "dev_path = \"unmatching_data2/data_test.txt\"\n",
    "log_level = 'info'"
   ]
  },
  {
   "cell_type": "markdown",
   "metadata": {},
   "source": [
    "# Log format"
   ]
  },
  {
   "cell_type": "code",
   "execution_count": 3,
   "metadata": {},
   "outputs": [],
   "source": [
    "LOG_FORMAT = '%(asctime)s %(levelname)-6s %(message)s'\n",
    "logging.basicConfig(format=LOG_FORMAT, level=getattr(logging, log_level.upper()))"
   ]
  },
  {
   "cell_type": "markdown",
   "metadata": {},
   "source": [
    "# Prepare dataset"
   ]
  },
  {
   "cell_type": "code",
   "execution_count": 4,
   "metadata": {},
   "outputs": [],
   "source": [
    "src = fields.SourceField()\n",
    "tgt = fields.TargetField()\n",
    "max_len = 100\n",
    "def len_filter(example):\n",
    "    return len(example.src) <= max_len and len(example.tgt) <= max_len\n",
    "train = torchtext.data.TabularDataset(\n",
    "    path=train_path, format='tsv',\n",
    "    fields=[('src', src), ('tgt', tgt)],\n",
    "    filter_pred=len_filter\n",
    ")\n",
    "dev = torchtext.data.TabularDataset(\n",
    "    path=dev_path, format='tsv',\n",
    "    fields=[('src', src), ('tgt', tgt)],\n",
    "    filter_pred=len_filter\n",
    ")\n",
    "src.build_vocab(train)\n",
    "tgt.build_vocab(train)\n",
    "input_vocab = src.vocab\n",
    "output_vocab = tgt.vocab"
   ]
  },
  {
   "cell_type": "markdown",
   "metadata": {},
   "source": [
    "# Prepare loss"
   ]
  },
  {
   "cell_type": "code",
   "execution_count": 5,
   "metadata": {},
   "outputs": [
    {
     "name": "stderr",
     "output_type": "stream",
     "text": [
      "/home/hyeontae/hyeontae/venv/lib/python3.5/site-packages/torch/nn/functional.py:52: UserWarning: size_average and reduce args will be deprecated, please use reduction='sum' instead.\n",
      "  warnings.warn(warning.format(ret))\n"
     ]
    }
   ],
   "source": [
    "weight = torch.ones(len(tgt.vocab))\n",
    "pad = tgt.vocab.stoi[tgt.pad_token]\n",
    "loss = Perplexity(weight, pad)\n",
    "if torch.cuda.is_available():\n",
    "    loss.cuda()"
   ]
  },
  {
   "cell_type": "markdown",
   "metadata": {},
   "source": [
    "# Variable definition"
   ]
  },
  {
   "cell_type": "code",
   "execution_count": 6,
   "metadata": {},
   "outputs": [
    {
     "name": "stdout",
     "output_type": "stream",
     "text": [
      "[50]\n"
     ]
    }
   ],
   "source": [
    "seq2seq = None\n",
    "optimizer = \"Adam\"\n",
    "\n",
    "hidden_sizes = list(range(50, 51, 4))\n",
    "print(hidden_sizes)\n",
    "error_rate = []\n",
    "accuracy = []\n",
    "losses = []"
   ]
  },
  {
   "cell_type": "markdown",
   "metadata": {},
   "source": [
    "# Initialize model"
   ]
  },
  {
   "cell_type": "code",
   "execution_count": 7,
   "metadata": {},
   "outputs": [
    {
     "name": "stderr",
     "output_type": "stream",
     "text": [
      "/home/hyeontae/hyeontae/venv/lib/python3.5/site-packages/torch/nn/modules/rnn.py:38: UserWarning: dropout option adds dropout after all but last recurrent layer, so non-zero dropout expects num_layers greater than 1, but got dropout=0.2 and num_layers=1\n",
      "  \"num_layers={}\".format(dropout, num_layers))\n",
      "2019-02-18 17:22:01,619 INFO   Optimizer: Adam (\n",
      "Parameter Group 0\n",
      "    amsgrad: False\n",
      "    betas: (0.9, 0.999)\n",
      "    eps: 1e-08\n",
      "    lr: 0.001\n",
      "    weight_decay: 0\n",
      "), Scheduler: None\n"
     ]
    },
    {
     "name": "stdout",
     "output_type": "stream",
     "text": [
      "Hidden size is 50\n"
     ]
    },
    {
     "name": "stderr",
     "output_type": "stream",
     "text": [
      "/home/hyeontae/hyeontae/venv/lib/python3.5/site-packages/torch/nn/functional.py:995: UserWarning: nn.functional.tanh is deprecated. Use torch.tanh instead.\n",
      "  warnings.warn(\"nn.functional.tanh is deprecated. Use torch.tanh instead.\")\n",
      "2019-02-18 17:26:01,854 INFO   Finished epoch 1: Train loss: 1.3373, Dev loss: 1.2512, Accuracy: 0.9498, F1 Score: 0.4899\n",
      "2019-02-18 17:30:03,235 INFO   Finished epoch 2: Train loss: 1.2449, Dev loss: 1.2401, Accuracy: 0.9536, F1 Score: 0.4996\n",
      "2019-02-18 17:34:02,370 INFO   Finished epoch 3: Train loss: 1.2428, Dev loss: 1.2349, Accuracy: 0.9541, F1 Score: 0.5009\n",
      "2019-02-18 17:38:02,118 INFO   Finished epoch 4: Train loss: 1.2401, Dev loss: 1.2314, Accuracy: 0.9541, F1 Score: 0.5013\n",
      "2019-02-18 17:42:00,107 INFO   Finished epoch 5: Train loss: 1.2135, Dev loss: 1.1916, Accuracy: 0.9540, F1 Score: 0.5026\n",
      "2019-02-18 17:45:59,136 INFO   Finished epoch 6: Train loss: 1.1477, Dev loss: 1.1293, Accuracy: 0.9579, F1 Score: 0.6067\n",
      "2019-02-18 17:49:57,883 INFO   Finished epoch 7: Train loss: 1.1052, Dev loss: 1.0954, Accuracy: 0.9701, F1 Score: 0.7456\n",
      "2019-02-18 17:53:56,327 INFO   Finished epoch 8: Train loss: 1.0833, Dev loss: 1.0871, Accuracy: 0.9725, F1 Score: 0.7675\n",
      "2019-02-18 17:57:57,516 INFO   Finished epoch 9: Train loss: 1.0709, Dev loss: 1.0725, Accuracy: 0.9783, F1 Score: 0.8233\n",
      "2019-02-18 18:01:55,838 INFO   Finished epoch 10: Train loss: 1.0613, Dev loss: 1.0652, Accuracy: 0.9802, F1 Score: 0.8397\n",
      "2019-02-18 18:05:58,778 INFO   Finished epoch 11: Train loss: 1.0549, Dev loss: 1.0592, Accuracy: 0.9816, F1 Score: 0.8512\n",
      "2019-02-18 18:09:57,202 INFO   Finished epoch 12: Train loss: 1.0493, Dev loss: 1.0501, Accuracy: 0.9853, F1 Score: 0.8786\n",
      "2019-02-18 18:13:58,371 INFO   Finished epoch 13: Train loss: 1.0450, Dev loss: 1.0439, Accuracy: 0.9866, F1 Score: 0.8892\n",
      "2019-02-18 18:17:56,580 INFO   Finished epoch 14: Train loss: 1.0410, Dev loss: 1.0437, Accuracy: 0.9867, F1 Score: 0.8895\n",
      "2019-02-18 18:21:56,158 INFO   Finished epoch 15: Train loss: 1.0386, Dev loss: 1.0396, Accuracy: 0.9879, F1 Score: 0.9002\n",
      "2019-02-18 18:25:53,458 INFO   Finished epoch 16: Train loss: 1.0353, Dev loss: 1.0374, Accuracy: 0.9883, F1 Score: 0.9032\n",
      "2019-02-18 18:28:50,455 INFO   Finished epoch 17: Train loss: 1.0343, Dev loss: 1.0363, Accuracy: 0.9888, F1 Score: 0.9078\n",
      "2019-02-18 18:31:44,576 INFO   Finished epoch 18: Train loss: 1.0320, Dev loss: 1.0354, Accuracy: 0.9890, F1 Score: 0.9095\n",
      "2019-02-18 18:34:38,989 INFO   Finished epoch 19: Train loss: 1.0311, Dev loss: 1.0333, Accuracy: 0.9898, F1 Score: 0.9164\n",
      "2019-02-18 18:37:31,346 INFO   Finished epoch 20: Train loss: 1.0297, Dev loss: 1.0307, Accuracy: 0.9905, F1 Score: 0.9219\n",
      "2019-02-18 18:40:27,414 INFO   Finished epoch 21: Train loss: 1.0277, Dev loss: 1.0310, Accuracy: 0.9901, F1 Score: 0.9205\n",
      "2019-02-18 18:43:22,285 INFO   Finished epoch 22: Train loss: 1.0264, Dev loss: 1.0279, Accuracy: 0.9912, F1 Score: 0.9280\n",
      "2019-02-18 18:46:17,808 INFO   Finished epoch 23: Train loss: 1.0251, Dev loss: 1.0254, Accuracy: 0.9918, F1 Score: 0.9337\n",
      "2019-02-18 18:49:13,523 INFO   Finished epoch 24: Train loss: 1.0238, Dev loss: 1.0278, Accuracy: 0.9913, F1 Score: 0.9289\n",
      "2019-02-18 18:52:08,980 INFO   Finished epoch 25: Train loss: 1.0225, Dev loss: 1.0251, Accuracy: 0.9921, F1 Score: 0.9352\n",
      "2019-02-18 18:55:03,013 INFO   Finished epoch 26: Train loss: 1.0216, Dev loss: 1.0222, Accuracy: 0.9929, F1 Score: 0.9424\n",
      "2019-02-18 18:57:57,410 INFO   Finished epoch 27: Train loss: 1.0208, Dev loss: 1.0217, Accuracy: 0.9931, F1 Score: 0.9439\n",
      "2019-02-18 19:00:51,137 INFO   Finished epoch 28: Train loss: 1.0191, Dev loss: 1.0214, Accuracy: 0.9933, F1 Score: 0.9449\n",
      "2019-02-18 19:03:45,149 INFO   Finished epoch 29: Train loss: 1.0189, Dev loss: 1.0305, Accuracy: 0.9915, F1 Score: 0.9317\n",
      "2019-02-18 19:06:39,756 INFO   Finished epoch 30: Train loss: 1.0181, Dev loss: 1.0197, Accuracy: 0.9937, F1 Score: 0.9491\n",
      "2019-02-18 19:09:33,681 INFO   Finished epoch 31: Train loss: 1.0175, Dev loss: 1.0206, Accuracy: 0.9934, F1 Score: 0.9465\n",
      "2019-02-18 19:12:28,829 INFO   Finished epoch 32: Train loss: 1.0166, Dev loss: 1.0209, Accuracy: 0.9934, F1 Score: 0.9469\n",
      "2019-02-18 19:15:20,750 INFO   Finished epoch 33: Train loss: 1.0160, Dev loss: 1.0174, Accuracy: 0.9944, F1 Score: 0.9547\n",
      "2019-02-18 19:18:15,861 INFO   Finished epoch 34: Train loss: 1.0150, Dev loss: 1.0172, Accuracy: 0.9945, F1 Score: 0.9550\n",
      "2019-02-18 19:21:07,770 INFO   Finished epoch 35: Train loss: 1.0148, Dev loss: 1.0170, Accuracy: 0.9946, F1 Score: 0.9565\n",
      "2019-02-18 19:24:03,181 INFO   Finished epoch 36: Train loss: 1.0139, Dev loss: 1.0180, Accuracy: 0.9943, F1 Score: 0.9538\n",
      "2019-02-18 19:26:55,948 INFO   Finished epoch 37: Train loss: 1.0134, Dev loss: 1.0150, Accuracy: 0.9953, F1 Score: 0.9616\n",
      "2019-02-18 19:29:49,984 INFO   Finished epoch 38: Train loss: 1.0129, Dev loss: 1.0156, Accuracy: 0.9951, F1 Score: 0.9603\n",
      "2019-02-18 19:32:42,969 INFO   Finished epoch 39: Train loss: 1.0121, Dev loss: 1.0135, Accuracy: 0.9958, F1 Score: 0.9656\n",
      "2019-02-18 19:35:37,986 INFO   Finished epoch 40: Train loss: 1.0129, Dev loss: 1.0139, Accuracy: 0.9956, F1 Score: 0.9646\n",
      "2019-02-18 19:38:31,826 INFO   Finished epoch 41: Train loss: 1.0113, Dev loss: 1.0164, Accuracy: 0.9950, F1 Score: 0.9585\n",
      "2019-02-18 19:41:25,504 INFO   Finished epoch 42: Train loss: 1.0124, Dev loss: 1.0139, Accuracy: 0.9956, F1 Score: 0.9637\n",
      "2019-02-18 19:44:16,502 INFO   Finished epoch 43: Train loss: 1.0106, Dev loss: 1.0172, Accuracy: 0.9949, F1 Score: 0.9585\n",
      "2019-02-18 19:47:10,770 INFO   Finished epoch 44: Train loss: 1.0110, Dev loss: 1.0120, Accuracy: 0.9964, F1 Score: 0.9709\n",
      "2019-02-18 19:50:04,061 INFO   Finished epoch 45: Train loss: 1.0100, Dev loss: 1.0124, Accuracy: 0.9962, F1 Score: 0.9692\n",
      "2019-02-18 19:52:58,644 INFO   Finished epoch 46: Train loss: 1.0096, Dev loss: 1.0105, Accuracy: 0.9967, F1 Score: 0.9734\n",
      "2019-02-18 19:55:54,998 INFO   Finished epoch 47: Train loss: 1.0093, Dev loss: 1.0126, Accuracy: 0.9962, F1 Score: 0.9689\n",
      "2019-02-18 19:58:49,784 INFO   Finished epoch 48: Train loss: 1.0092, Dev loss: 1.0100, Accuracy: 0.9968, F1 Score: 0.9740\n",
      "2019-02-18 20:01:42,836 INFO   Finished epoch 49: Train loss: 1.0089, Dev loss: 1.0098, Accuracy: 0.9970, F1 Score: 0.9760\n",
      "2019-02-18 20:04:36,185 INFO   Finished epoch 50: Train loss: 1.0089, Dev loss: 1.0121, Accuracy: 0.9964, F1 Score: 0.9707\n"
     ]
    },
    {
     "data": {
      "image/png": "[encoded data removed]",
      "text/plain": [
       "<Figure size 432x288 with 1 Axes>"
      ]
     },
     "metadata": {
      "needs_background": "light"
     },
     "output_type": "display_data"
    },
    {
     "data": {
      "image/png": "[encoded data removed]",
      "text/plain": [
       "<Figure size 432x288 with 1 Axes>"
      ]
     },
     "metadata": {
      "needs_background": "light"
     },
     "output_type": "display_data"
    },
    {
     "data": {
      "image/png": "[encoded data removed]",
      "text/plain": [
       "<Figure size 432x288 with 1 Axes>"
      ]
     },
     "metadata": {
      "needs_background": "light"
     },
     "output_type": "display_data"
    }
   ],
   "source": [
    "for i in hidden_sizes:\n",
    "    print(\"Hidden size is %d\" % i)\n",
    "    hidden_size = i\n",
    "    bidirectional = True\n",
    "    encoder = EncoderRNN(len(src.vocab), max_len, hidden_size,\n",
    "                        bidirectional=bidirectional, variable_lengths=True)\n",
    "    decoder = DecoderRNN(len(tgt.vocab), max_len, hidden_size * 2 if bidirectional else hidden_size,\n",
    "                        dropout_p=0.2, use_attention=\"Luong\", bidirectional=bidirectional,\n",
    "                        eos_id=tgt.eos_id, sos_id=tgt.sos_id)\n",
    "    seq2seq = Seq2seq(encoder, decoder)\n",
    "    if torch.cuda.is_available():\n",
    "        seq2seq.cuda()\n",
    "\n",
    "    for param in seq2seq.parameters():\n",
    "        param.data.uniform_(-0.08, 0.08)\n",
    "\n",
    "    # train\n",
    "    t = SupervisedTrainer(loss=loss, batch_size=32,\n",
    "                        checkpoint_every=50,\n",
    "                        print_every=100,\n",
    "                        hidden_size=hidden_size,\n",
    "                        fig_path=\"log/plot/unmatching2_att\")\n",
    "\n",
    "    seq2seq, ave_loss, character_accuracy = t.train(seq2seq, train,\n",
    "                                                    num_epochs=50, dev_data=dev,\n",
    "                                                    optimizer=optimizer,\n",
    "                                                    teacher_forcing_ratio=0.5)\n",
    "\n",
    "    losses.append(ave_loss/100)\n",
    "    error_rate.append(1 - character_accuracy)\n",
    "    accuracy.append(character_accuracy)"
   ]
  },
  {
   "cell_type": "code",
   "execution_count": 8,
   "metadata": {},
   "outputs": [],
   "source": [
    "torch.save(seq2seq.state_dict(), 'log/unmatching2_att_model_save.pth')"
   ]
  }
 ],
 "metadata": {
  "kernelspec": {
   "display_name": "Python 3",
   "language": "python",
   "name": "python3"
  },
  "language_info": {
   "codemirror_mode": {
    "name": "ipython",
    "version": 3
   },
   "file_extension": ".py",
   "mimetype": "text/x-python",
   "name": "python",
   "nbconvert_exporter": "python",
   "pygments_lexer": "ipython3",
   "version": "3.5.2"
  }
 },
 "nbformat": 4,
 "nbformat_minor": 2
}
