{
 "cells": [
  {
   "cell_type": "markdown",
   "metadata": {},
   "source": [
    "# Set Parameter\n",
    "- Attention = True\n",
    "- Drop out = 0.2\n",
    "- Teacher Forcing Ratio = 0.5\n",
    "- Layer = 1\n",
    "- Hidden unit = 50\n",
    "- Batch size = 32\n",
    "- Epochs = 50"
   ]
  },
  {
   "cell_type": "markdown",
   "metadata": {},
   "source": [
    "# Import packages\n",
    "\n",
    "import useful packages for experiments"
   ]
  },
  {
   "cell_type": "code",
   "execution_count": 1,
   "metadata": {},
   "outputs": [
    {
     "name": "stderr",
     "output_type": "stream",
     "text": [
      "/home/hyeontae/hyeontae/venv/lib/python3.5/site-packages/torch/nn/functional.py:52: UserWarning: size_average and reduce args will be deprecated, please use reduction='elementwise_mean' instead.\n",
      "  warnings.warn(warning.format(ret))\n",
      "/home/hyeontae/hyeontae/venv/lib/python3.5/site-packages/torch/nn/functional.py:52: UserWarning: size_average and reduce args will be deprecated, please use reduction='elementwise_mean' instead.\n",
      "  warnings.warn(warning.format(ret))\n"
     ]
    }
   ],
   "source": [
    "import os\n",
    "import argparse\n",
    "import logging\n",
    "\n",
    "import torch\n",
    "from torch.optim.lr_scheduler import StepLR\n",
    "import torchtext\n",
    "\n",
    "from trainer.supervised_trainer import SupervisedTrainer\n",
    "from models.encoderRNN import EncoderRNN\n",
    "from models.decoderRNN import DecoderRNN\n",
    "from models.seq2seq import Seq2seq\n",
    "from loss.loss import Perplexity\n",
    "from optim.optim import Optimizer\n",
    "from dataset import fields\n",
    "from evaluator.predictor import Predictor\n",
    "\n",
    "import matplotlib.pyplot as plt"
   ]
  },
  {
   "cell_type": "markdown",
   "metadata": {},
   "source": [
    "# Data load"
   ]
  },
  {
   "cell_type": "code",
   "execution_count": 2,
   "metadata": {},
   "outputs": [],
   "source": [
    "train_path = \"data/grammar_data_N50_train.txt\"\n",
    "dev_path = \"data/grammar_data_N50_test.txt\"\n",
    "log_level = 'info'"
   ]
  },
  {
   "cell_type": "markdown",
   "metadata": {},
   "source": [
    "# Log format"
   ]
  },
  {
   "cell_type": "code",
   "execution_count": 3,
   "metadata": {},
   "outputs": [],
   "source": [
    "LOG_FORMAT = '%(asctime)s %(levelname)-6s %(message)s'\n",
    "logging.basicConfig(format=LOG_FORMAT, level=getattr(logging, log_level.upper()))"
   ]
  },
  {
   "cell_type": "markdown",
   "metadata": {},
   "source": [
    "# Prepare dataset"
   ]
  },
  {
   "cell_type": "code",
   "execution_count": 4,
   "metadata": {},
   "outputs": [],
   "source": [
    "src = fields.SourceField()\n",
    "tgt = fields.TargetField()\n",
    "max_len = 100\n",
    "def len_filter(example):\n",
    "    return len(example.src) <= max_len and len(example.tgt) <= max_len\n",
    "train = torchtext.data.TabularDataset(\n",
    "    path=train_path, format='tsv',\n",
    "    fields=[('src', src), ('tgt', tgt)],\n",
    "    filter_pred=len_filter\n",
    ")\n",
    "dev = torchtext.data.TabularDataset(\n",
    "    path=dev_path, format='tsv',\n",
    "    fields=[('src', src), ('tgt', tgt)],\n",
    "    filter_pred=len_filter\n",
    ")\n",
    "src.build_vocab(train)\n",
    "tgt.build_vocab(train)\n",
    "input_vocab = src.vocab\n",
    "output_vocab = tgt.vocab"
   ]
  },
  {
   "cell_type": "markdown",
   "metadata": {},
   "source": [
    "# Prepare loss"
   ]
  },
  {
   "cell_type": "code",
   "execution_count": 5,
   "metadata": {},
   "outputs": [
    {
     "name": "stderr",
     "output_type": "stream",
     "text": [
      "/home/hyeontae/hyeontae/venv/lib/python3.5/site-packages/torch/nn/functional.py:52: UserWarning: size_average and reduce args will be deprecated, please use reduction='sum' instead.\n",
      "  warnings.warn(warning.format(ret))\n"
     ]
    }
   ],
   "source": [
    "weight = torch.ones(len(tgt.vocab))\n",
    "pad = tgt.vocab.stoi[tgt.pad_token]\n",
    "loss = Perplexity(weight, pad)\n",
    "if torch.cuda.is_available():\n",
    "    loss.cuda()"
   ]
  },
  {
   "cell_type": "markdown",
   "metadata": {},
   "source": [
    "# Variable definition"
   ]
  },
  {
   "cell_type": "code",
   "execution_count": 6,
   "metadata": {},
   "outputs": [
    {
     "name": "stdout",
     "output_type": "stream",
     "text": [
      "[50]\n"
     ]
    }
   ],
   "source": [
    "seq2seq = None\n",
    "optimizer = \"Adam\"\n",
    "\n",
    "hidden_sizes = list(range(50, 51, 4))\n",
    "print(hidden_sizes)\n",
    "error_rate = []\n",
    "accuracy = []\n",
    "losses = []"
   ]
  },
  {
   "cell_type": "markdown",
   "metadata": {},
   "source": [
    "# Initialize model"
   ]
  },
  {
   "cell_type": "code",
   "execution_count": 7,
   "metadata": {},
   "outputs": [
    {
     "name": "stderr",
     "output_type": "stream",
     "text": [
      "/home/hyeontae/hyeontae/venv/lib/python3.5/site-packages/torch/nn/modules/rnn.py:38: UserWarning: dropout option adds dropout after all but last recurrent layer, so non-zero dropout expects num_layers greater than 1, but got dropout=0.2 and num_layers=1\n",
      "  \"num_layers={}\".format(dropout, num_layers))\n",
      "2019-01-30 17:31:26,747 INFO   Optimizer: Adam (\n",
      "Parameter Group 0\n",
      "    amsgrad: False\n",
      "    betas: (0.9, 0.999)\n",
      "    eps: 1e-08\n",
      "    lr: 0.001\n",
      "    weight_decay: 0\n",
      "), Scheduler: None\n"
     ]
    },
    {
     "name": "stdout",
     "output_type": "stream",
     "text": [
      "Hidden size is 50\n"
     ]
    },
    {
     "name": "stderr",
     "output_type": "stream",
     "text": [
      "2019-01-30 17:34:32,626 INFO   Finished epoch 1: Train loss: 10.3385, Dev loss: 12.2211, Accuracy(Character): 0.2324, Accuracy(Word): 0.0000\n",
      "2019-01-30 17:37:58,382 INFO   Finished epoch 2: Train loss: 3.5936, Dev loss: 3.3585, Accuracy(Character): 0.5499, Accuracy(Word): 0.0001\n",
      "2019-01-30 17:41:16,371 INFO   Finished epoch 3: Train loss: 2.1718, Dev loss: 2.7944, Accuracy(Character): 0.6144, Accuracy(Word): 0.0005\n",
      "2019-01-30 17:44:35,367 INFO   Finished epoch 4: Train loss: 1.8362, Dev loss: 2.0817, Accuracy(Character): 0.7086, Accuracy(Word): 0.0035\n",
      "2019-01-30 17:48:02,155 INFO   Finished epoch 5: Train loss: 1.7170, Dev loss: 1.9477, Accuracy(Character): 0.7266, Accuracy(Word): 0.0001\n",
      "2019-01-30 17:51:10,246 INFO   Finished epoch 6: Train loss: 1.6046, Dev loss: 1.7444, Accuracy(Character): 0.7721, Accuracy(Word): 0.0037\n",
      "2019-01-30 17:54:37,494 INFO   Finished epoch 7: Train loss: 1.5554, Dev loss: 1.7250, Accuracy(Character): 0.7693, Accuracy(Word): 0.0035\n",
      "2019-01-30 17:57:50,112 INFO   Finished epoch 8: Train loss: 1.5119, Dev loss: 1.6715, Accuracy(Character): 0.7889, Accuracy(Word): 0.0103\n",
      "2019-01-30 18:01:11,191 INFO   Finished epoch 9: Train loss: 1.4758, Dev loss: 1.6517, Accuracy(Character): 0.7866, Accuracy(Word): 0.0002\n",
      "2019-01-30 18:04:31,284 INFO   Finished epoch 10: Train loss: 1.4407, Dev loss: 1.5748, Accuracy(Character): 0.8159, Accuracy(Word): 0.0046\n",
      "2019-01-30 18:07:31,091 INFO   Finished epoch 11: Train loss: 1.4187, Dev loss: 1.5311, Accuracy(Character): 0.8203, Accuracy(Word): 0.0010\n",
      "2019-01-30 18:10:06,799 INFO   Finished epoch 12: Train loss: 1.3905, Dev loss: 1.5721, Accuracy(Character): 0.8176, Accuracy(Word): 0.0035\n",
      "2019-01-30 18:12:41,057 INFO   Finished epoch 13: Train loss: 1.3689, Dev loss: 1.4242, Accuracy(Character): 0.8515, Accuracy(Word): 0.0103\n",
      "2019-01-30 18:15:15,233 INFO   Finished epoch 14: Train loss: 1.3470, Dev loss: 1.3900, Accuracy(Character): 0.8629, Accuracy(Word): 0.0114\n",
      "2019-01-30 18:17:49,446 INFO   Finished epoch 15: Train loss: 1.3302, Dev loss: 1.4254, Accuracy(Character): 0.8540, Accuracy(Word): 0.0035\n",
      "2019-01-30 18:20:22,957 INFO   Finished epoch 16: Train loss: 1.3187, Dev loss: 1.3963, Accuracy(Character): 0.8625, Accuracy(Word): 0.0171\n",
      "2019-01-30 18:22:56,040 INFO   Finished epoch 17: Train loss: 1.2956, Dev loss: 1.3398, Accuracy(Character): 0.8785, Accuracy(Word): 0.0174\n",
      "2019-01-30 18:25:30,652 INFO   Finished epoch 18: Train loss: 1.2913, Dev loss: 1.3604, Accuracy(Character): 0.8731, Accuracy(Word): 0.0118\n",
      "2019-01-30 18:28:05,521 INFO   Finished epoch 19: Train loss: 1.2754, Dev loss: 1.2999, Accuracy(Character): 0.8908, Accuracy(Word): 0.0052\n",
      "2019-01-30 18:30:40,956 INFO   Finished epoch 20: Train loss: 1.2695, Dev loss: 1.3131, Accuracy(Character): 0.8859, Accuracy(Word): 0.0175\n",
      "2019-01-30 18:33:16,038 INFO   Finished epoch 21: Train loss: 1.2535, Dev loss: 1.2879, Accuracy(Character): 0.8966, Accuracy(Word): 0.0101\n",
      "2019-01-30 18:35:50,362 INFO   Finished epoch 22: Train loss: 1.2459, Dev loss: 1.3319, Accuracy(Character): 0.8830, Accuracy(Word): 0.0101\n",
      "2019-01-30 18:38:06,607 INFO   Finished epoch 23: Train loss: 1.2457, Dev loss: 1.3021, Accuracy(Character): 0.8924, Accuracy(Word): 0.0171\n",
      "2019-01-30 18:40:08,359 INFO   Finished epoch 24: Train loss: 1.2317, Dev loss: 1.2674, Accuracy(Character): 0.9043, Accuracy(Word): 0.0175\n",
      "2019-01-30 18:42:08,471 INFO   Finished epoch 25: Train loss: 1.2218, Dev loss: 1.3022, Accuracy(Character): 0.8983, Accuracy(Word): 0.0103\n",
      "2019-01-30 18:44:08,944 INFO   Finished epoch 26: Train loss: 1.2175, Dev loss: 1.2595, Accuracy(Character): 0.9056, Accuracy(Word): 0.0234\n",
      "2019-01-30 18:46:09,025 INFO   Finished epoch 27: Train loss: 1.2001, Dev loss: 1.2258, Accuracy(Character): 0.9178, Accuracy(Word): 0.0114\n",
      "2019-01-30 18:48:09,782 INFO   Finished epoch 28: Train loss: 1.1948, Dev loss: 1.2401, Accuracy(Character): 0.9119, Accuracy(Word): 0.0037\n",
      "2019-01-30 18:50:09,922 INFO   Finished epoch 29: Train loss: 1.1906, Dev loss: 1.2020, Accuracy(Character): 0.9268, Accuracy(Word): 0.0171\n",
      "2019-01-30 18:52:09,570 INFO   Finished epoch 30: Train loss: 1.1781, Dev loss: 1.2038, Accuracy(Character): 0.9245, Accuracy(Word): 0.0169\n",
      "2019-01-30 18:54:09,789 INFO   Finished epoch 31: Train loss: 1.1781, Dev loss: 1.2042, Accuracy(Character): 0.9259, Accuracy(Word): 0.0181\n",
      "2019-01-30 18:56:11,274 INFO   Finished epoch 32: Train loss: 1.1726, Dev loss: 1.1917, Accuracy(Character): 0.9307, Accuracy(Word): 0.0169\n",
      "2019-01-30 18:58:11,744 INFO   Finished epoch 33: Train loss: 1.1632, Dev loss: 1.2099, Accuracy(Character): 0.9256, Accuracy(Word): 0.0190\n",
      "2019-01-30 19:00:12,847 INFO   Finished epoch 34: Train loss: 1.1572, Dev loss: 1.1590, Accuracy(Character): 0.9425, Accuracy(Word): 0.0167\n",
      "2019-01-30 19:02:13,526 INFO   Finished epoch 35: Train loss: 1.1527, Dev loss: 1.1658, Accuracy(Character): 0.9393, Accuracy(Word): 0.0166\n",
      "2019-01-30 19:04:13,367 INFO   Finished epoch 36: Train loss: 1.1415, Dev loss: 1.1441, Accuracy(Character): 0.9479, Accuracy(Word): 0.0173\n",
      "2019-01-30 19:06:12,779 INFO   Finished epoch 37: Train loss: 1.1356, Dev loss: 1.1918, Accuracy(Character): 0.9314, Accuracy(Word): 0.0103\n",
      "2019-01-30 19:08:12,534 INFO   Finished epoch 38: Train loss: 1.1301, Dev loss: 1.1533, Accuracy(Character): 0.9465, Accuracy(Word): 0.0174\n",
      "2019-01-30 19:10:12,386 INFO   Finished epoch 39: Train loss: 1.1264, Dev loss: 1.1259, Accuracy(Character): 0.9548, Accuracy(Word): 0.0111\n",
      "2019-01-30 19:12:13,062 INFO   Finished epoch 40: Train loss: 1.1220, Dev loss: 1.1440, Accuracy(Character): 0.9472, Accuracy(Word): 0.0101\n",
      "2019-01-30 19:14:12,875 INFO   Finished epoch 41: Train loss: 1.1198, Dev loss: 1.1318, Accuracy(Character): 0.9528, Accuracy(Word): 0.0124\n",
      "2019-01-30 19:16:13,992 INFO   Finished epoch 42: Train loss: 1.1238, Dev loss: 1.1693, Accuracy(Character): 0.9397, Accuracy(Word): 0.0250\n",
      "2019-01-30 19:18:14,902 INFO   Finished epoch 43: Train loss: 1.1174, Dev loss: 1.1123, Accuracy(Character): 0.9603, Accuracy(Word): 0.0052\n",
      "2019-01-30 19:20:16,048 INFO   Finished epoch 44: Train loss: 1.1196, Dev loss: 1.1308, Accuracy(Character): 0.9533, Accuracy(Word): 0.0236\n",
      "2019-01-30 19:22:16,189 INFO   Finished epoch 45: Train loss: 1.1048, Dev loss: 1.1219, Accuracy(Character): 0.9560, Accuracy(Word): 0.0236\n",
      "2019-01-30 19:24:17,836 INFO   Finished epoch 46: Train loss: 1.1096, Dev loss: 1.1531, Accuracy(Character): 0.9467, Accuracy(Word): 0.0197\n",
      "2019-01-30 19:26:18,693 INFO   Finished epoch 47: Train loss: 1.1024, Dev loss: 1.1307, Accuracy(Character): 0.9534, Accuracy(Word): 0.0166\n",
      "2019-01-30 19:28:20,160 INFO   Finished epoch 48: Train loss: 1.1009, Dev loss: 1.1006, Accuracy(Character): 0.9639, Accuracy(Word): 0.0101\n",
      "2019-01-30 19:30:20,471 INFO   Finished epoch 49: Train loss: 1.0910, Dev loss: 1.0958, Accuracy(Character): 0.9655, Accuracy(Word): 0.0035\n",
      "2019-01-30 19:32:20,584 INFO   Finished epoch 50: Train loss: 1.0917, Dev loss: 1.0825, Accuracy(Character): 0.9705, Accuracy(Word): 0.0166\n"
     ]
    },
    {
     "data": {
      "image/png": "[encoded data removed]",
      "text/plain": [
       "<Figure size 432x288 with 1 Axes>"
      ]
     },
     "metadata": {
      "needs_background": "light"
     },
     "output_type": "display_data"
    }
   ],
   "source": [
    "for i in hidden_sizes:\n",
    "    print(\"Hidden size is %d\" % i)\n",
    "    hidden_size = i\n",
    "    bidirectional = True\n",
    "    encoder = EncoderRNN(len(src.vocab), max_len, hidden_size,\n",
    "                        bidirectional=bidirectional, variable_lengths=True)\n",
    "    decoder = DecoderRNN(len(tgt.vocab), max_len, hidden_size * 2 if bidirectional else hidden_size,\n",
    "                        dropout_p=0.2, use_attention=False, bidirectional=bidirectional,\n",
    "                        eos_id=tgt.eos_id, sos_id=tgt.sos_id)\n",
    "    seq2seq = Seq2seq(encoder, decoder)\n",
    "    if torch.cuda.is_available():\n",
    "        seq2seq.cuda()\n",
    "\n",
    "    for param in seq2seq.parameters():\n",
    "        param.data.uniform_(-0.08, 0.08)\n",
    "\n",
    "    # train\n",
    "    t = SupervisedTrainer(loss=loss, batch_size=32,\n",
    "                        checkpoint_every=50,\n",
    "                        print_every=100)\n",
    "\n",
    "    seq2seq, ave_loss, character_accuracy = t.train(seq2seq, train,\n",
    "                                                    num_epochs=50, dev_data=dev,\n",
    "                                                    optimizer=optimizer,\n",
    "                                                    teacher_forcing_ratio=0.5)\n",
    "\n",
    "    losses.append(ave_loss/100)\n",
    "    error_rate.append(1 - character_accuracy)\n",
    "    accuracy.append(character_accuracy)"
   ]
  },
  {
   "cell_type": "code",
   "execution_count": 9,
   "metadata": {},
   "outputs": [],
   "source": [
    "torch.save(seq2seq.state_dict(), 'log/N50_model_save.pth')"
   ]
  }
 ],
 "metadata": {
  "kernelspec": {
   "display_name": "Python 3",
   "language": "python",
   "name": "python3"
  },
  "language_info": {
   "codemirror_mode": {
    "name": "ipython",
    "version": 3
   },
   "file_extension": ".py",
   "mimetype": "text/x-python",
   "name": "python",
   "nbconvert_exporter": "python",
   "pygments_lexer": "ipython3",
   "version": "3.5.2"
  }
 },
 "nbformat": 4,
 "nbformat_minor": 2
}
