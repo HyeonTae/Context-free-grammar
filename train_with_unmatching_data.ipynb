{
 "cells": [
  {
   "cell_type": "markdown",
   "metadata": {},
   "source": [
    "# Import packages\n",
    "\n",
    "import useful packages for experiments"
   ]
  },
  {
   "cell_type": "code",
   "execution_count": 1,
   "metadata": {},
   "outputs": [
    {
     "name": "stderr",
     "output_type": "stream",
     "text": [
      "/home/hyeontae/hyeontae/venv/lib/python3.5/site-packages/torch/nn/functional.py:52: UserWarning: size_average and reduce args will be deprecated, please use reduction='elementwise_mean' instead.\n",
      "  warnings.warn(warning.format(ret))\n",
      "/home/hyeontae/hyeontae/venv/lib/python3.5/site-packages/torch/nn/functional.py:52: UserWarning: size_average and reduce args will be deprecated, please use reduction='elementwise_mean' instead.\n",
      "  warnings.warn(warning.format(ret))\n"
     ]
    }
   ],
   "source": [
    "import os\n",
    "import argparse\n",
    "import logging\n",
    "\n",
    "import torch\n",
    "from torch.optim.lr_scheduler import StepLR\n",
    "import torchtext\n",
    "\n",
    "from trainer.supervised_trainer import SupervisedTrainer\n",
    "from models.encoderRNN import EncoderRNN\n",
    "from models.decoderRNN import DecoderRNN\n",
    "from models.seq2seq import Seq2seq\n",
    "from loss.loss import Perplexity\n",
    "from optim.optim import Optimizer\n",
    "from dataset import fields\n",
    "from evaluator.predictor import Predictor\n",
    "\n",
    "import matplotlib.pyplot as plt"
   ]
  },
  {
   "cell_type": "markdown",
   "metadata": {},
   "source": [
    "# Data load"
   ]
  },
  {
   "cell_type": "code",
   "execution_count": 2,
   "metadata": {},
   "outputs": [],
   "source": [
    "train_path = \"data2/data_train.txt\"\n",
    "dev_path = \"data2/data_test.txt\"\n",
    "log_level = 'info'"
   ]
  },
  {
   "cell_type": "markdown",
   "metadata": {},
   "source": [
    "# Log format"
   ]
  },
  {
   "cell_type": "code",
   "execution_count": 3,
   "metadata": {},
   "outputs": [],
   "source": [
    "LOG_FORMAT = '%(asctime)s %(levelname)-6s %(message)s'\n",
    "logging.basicConfig(format=LOG_FORMAT, level=getattr(logging, log_level.upper()))"
   ]
  },
  {
   "cell_type": "markdown",
   "metadata": {},
   "source": [
    "# Prepare dataset"
   ]
  },
  {
   "cell_type": "code",
   "execution_count": 4,
   "metadata": {},
   "outputs": [],
   "source": [
    "src = fields.SourceField()\n",
    "tgt = fields.TargetField()\n",
    "max_len = 100\n",
    "def len_filter(example):\n",
    "    return len(example.src) <= max_len and len(example.tgt) <= max_len\n",
    "train = torchtext.data.TabularDataset(\n",
    "    path=train_path, format='tsv',\n",
    "    fields=[('src', src), ('tgt', tgt)],\n",
    "    filter_pred=len_filter\n",
    ")\n",
    "dev = torchtext.data.TabularDataset(\n",
    "    path=dev_path, format='tsv',\n",
    "    fields=[('src', src), ('tgt', tgt)],\n",
    "    filter_pred=len_filter\n",
    ")\n",
    "src.build_vocab(train)\n",
    "tgt.build_vocab(train)\n",
    "input_vocab = src.vocab\n",
    "output_vocab = tgt.vocab"
   ]
  },
  {
   "cell_type": "markdown",
   "metadata": {},
   "source": [
    "# Prepare loss"
   ]
  },
  {
   "cell_type": "code",
   "execution_count": 5,
   "metadata": {},
   "outputs": [
    {
     "name": "stderr",
     "output_type": "stream",
     "text": [
      "/home/hyeontae/hyeontae/venv/lib/python3.5/site-packages/torch/nn/functional.py:52: UserWarning: size_average and reduce args will be deprecated, please use reduction='sum' instead.\n",
      "  warnings.warn(warning.format(ret))\n"
     ]
    }
   ],
   "source": [
    "weight = torch.ones(len(tgt.vocab))\n",
    "pad = tgt.vocab.stoi[tgt.pad_token]\n",
    "loss = Perplexity(weight, pad)\n",
    "if torch.cuda.is_available():\n",
    "    loss.cuda()"
   ]
  },
  {
   "cell_type": "markdown",
   "metadata": {},
   "source": [
    "# Variable definition"
   ]
  },
  {
   "cell_type": "code",
   "execution_count": 6,
   "metadata": {},
   "outputs": [
    {
     "name": "stdout",
     "output_type": "stream",
     "text": [
      "[50]\n"
     ]
    }
   ],
   "source": [
    "seq2seq = None\n",
    "optimizer = \"Adam\"\n",
    "\n",
    "hidden_sizes = list(range(50, 51, 4))\n",
    "print(hidden_sizes)\n",
    "error_rate = []\n",
    "accuracy = []\n",
    "losses = []"
   ]
  },
  {
   "cell_type": "markdown",
   "metadata": {},
   "source": [
    "# Initialize model"
   ]
  },
  {
   "cell_type": "code",
   "execution_count": 7,
   "metadata": {},
   "outputs": [
    {
     "name": "stderr",
     "output_type": "stream",
     "text": [
      "/home/hyeontae/hyeontae/venv/lib/python3.5/site-packages/torch/nn/modules/rnn.py:38: UserWarning: dropout option adds dropout after all but last recurrent layer, so non-zero dropout expects num_layers greater than 1, but got dropout=0.2 and num_layers=1\n",
      "  \"num_layers={}\".format(dropout, num_layers))\n",
      "2019-01-28 16:02:04,647 INFO   Optimizer: Adam (\n",
      "Parameter Group 0\n",
      "    amsgrad: False\n",
      "    betas: (0.9, 0.999)\n",
      "    eps: 1e-08\n",
      "    lr: 0.001\n",
      "    weight_decay: 0\n",
      "), Scheduler: None\n"
     ]
    },
    {
     "name": "stdout",
     "output_type": "stream",
     "text": [
      "Hidden size is 50\n"
     ]
    },
    {
     "name": "stderr",
     "output_type": "stream",
     "text": [
      "2019-01-28 16:04:01,356 INFO   Finished epoch 1: Train loss: 8.7471, Dev loss: 10.7817, Accuracy(Character): 0.2555, Accuracy(Word): 0.0000\n",
      "2019-01-28 16:05:56,252 INFO   Finished epoch 2: Train loss: 5.0284, Dev loss: 4.2553, Accuracy(Character): 0.4818, Accuracy(Word): 0.0000\n",
      "2019-01-28 16:07:52,058 INFO   Finished epoch 3: Train loss: 2.1692, Dev loss: 2.2842, Accuracy(Character): 0.6524, Accuracy(Word): 0.0000\n",
      "2019-01-28 16:09:48,959 INFO   Finished epoch 4: Train loss: 1.9339, Dev loss: 2.0821, Accuracy(Character): 0.6854, Accuracy(Word): 0.0000\n",
      "2019-01-28 16:11:46,099 INFO   Finished epoch 5: Train loss: 1.8220, Dev loss: 2.0368, Accuracy(Character): 0.6907, Accuracy(Word): 0.0000\n",
      "2019-01-28 16:13:43,133 INFO   Finished epoch 6: Train loss: 1.7818, Dev loss: 2.0075, Accuracy(Character): 0.6974, Accuracy(Word): 0.0000\n",
      "2019-01-28 16:15:38,178 INFO   Finished epoch 7: Train loss: 1.6956, Dev loss: 2.2883, Accuracy(Character): 0.6707, Accuracy(Word): 0.0000\n",
      "2019-01-28 16:17:34,249 INFO   Finished epoch 8: Train loss: 1.6708, Dev loss: 1.8832, Accuracy(Character): 0.7240, Accuracy(Word): 0.0000\n",
      "2019-01-28 16:19:29,878 INFO   Finished epoch 9: Train loss: 1.6655, Dev loss: 1.8471, Accuracy(Character): 0.7359, Accuracy(Word): 0.0000\n",
      "2019-01-28 16:21:26,547 INFO   Finished epoch 10: Train loss: 1.6358, Dev loss: 1.6988, Accuracy(Character): 0.7618, Accuracy(Word): 0.0000\n",
      "2019-01-28 16:23:23,066 INFO   Finished epoch 11: Train loss: 1.6033, Dev loss: 1.7838, Accuracy(Character): 0.7528, Accuracy(Word): 0.0000\n",
      "2019-01-28 16:25:19,318 INFO   Finished epoch 12: Train loss: 1.5637, Dev loss: 1.6999, Accuracy(Character): 0.7616, Accuracy(Word): 0.0000\n",
      "2019-01-28 16:27:14,843 INFO   Finished epoch 13: Train loss: 1.5262, Dev loss: 1.7545, Accuracy(Character): 0.7663, Accuracy(Word): 0.0000\n",
      "2019-01-28 16:29:11,624 INFO   Finished epoch 14: Train loss: 1.5484, Dev loss: 1.7910, Accuracy(Character): 0.7456, Accuracy(Word): 0.0000\n",
      "2019-01-28 16:31:07,264 INFO   Finished epoch 15: Train loss: 1.4931, Dev loss: 1.6136, Accuracy(Character): 0.7851, Accuracy(Word): 0.0000\n",
      "2019-01-28 16:33:03,929 INFO   Finished epoch 16: Train loss: 1.5037, Dev loss: 1.5685, Accuracy(Character): 0.7975, Accuracy(Word): 0.0000\n",
      "2019-01-28 16:35:00,375 INFO   Finished epoch 17: Train loss: 1.4828, Dev loss: 1.5588, Accuracy(Character): 0.7996, Accuracy(Word): 0.0000\n",
      "2019-01-28 16:36:56,097 INFO   Finished epoch 18: Train loss: 1.4769, Dev loss: 1.5594, Accuracy(Character): 0.8008, Accuracy(Word): 0.0000\n",
      "2019-01-28 16:38:52,664 INFO   Finished epoch 19: Train loss: 1.4573, Dev loss: 1.5898, Accuracy(Character): 0.7912, Accuracy(Word): 0.0000\n",
      "2019-01-28 16:40:48,851 INFO   Finished epoch 20: Train loss: 1.4377, Dev loss: 1.5273, Accuracy(Character): 0.8077, Accuracy(Word): 0.0000\n"
     ]
    },
    {
     "data": {
      "image/png": "[encoded data removed]",
      "text/plain": [
       "<Figure size 432x288 with 1 Axes>"
      ]
     },
     "metadata": {
      "needs_background": "light"
     },
     "output_type": "display_data"
    }
   ],
   "source": [
    "for i in hidden_sizes:\n",
    "    print(\"Hidden size is %d\" % i)\n",
    "    hidden_size = i\n",
    "    bidirectional = True\n",
    "    encoder = EncoderRNN(len(src.vocab), max_len, hidden_size,\n",
    "                        bidirectional=bidirectional, variable_lengths=True)\n",
    "    decoder = DecoderRNN(len(tgt.vocab), max_len, hidden_size * 2 if bidirectional else hidden_size,\n",
    "                        dropout_p=0.2, use_attention=False, bidirectional=bidirectional,\n",
    "                        eos_id=tgt.eos_id, sos_id=tgt.sos_id)\n",
    "    seq2seq = Seq2seq(encoder, decoder)\n",
    "    if torch.cuda.is_available():\n",
    "        seq2seq.cuda()\n",
    "\n",
    "    for param in seq2seq.parameters():\n",
    "        param.data.uniform_(-0.08, 0.08)\n",
    "\n",
    "    # train\n",
    "    t = SupervisedTrainer(loss=loss, batch_size=32,\n",
    "                        checkpoint_every=50,\n",
    "                        print_every=100)\n",
    "\n",
    "    seq2seq, ave_loss, character_accuracy = t.train(seq2seq, train,\n",
    "                                                    num_epochs=20, dev_data=dev,\n",
    "                                                    optimizer=optimizer,\n",
    "                                                    teacher_forcing_ratio=0.5)\n",
    "\n",
    "    losses.append(ave_loss/100)\n",
    "    error_rate.append(1 - character_accuracy)\n",
    "    accuracy.append(character_accuracy)"
   ]
  },
  {
   "cell_type": "code",
   "execution_count": 8,
   "metadata": {},
   "outputs": [],
   "source": [
    "torch.save(seq2seq.state_dict(), 'log/unmatching_model_save.pth')"
   ]
  }
 ],
 "metadata": {
  "kernelspec": {
   "display_name": "Python 3",
   "language": "python",
   "name": "python3"
  },
  "language_info": {
   "codemirror_mode": {
    "name": "ipython",
    "version": 3
   },
   "file_extension": ".py",
   "mimetype": "text/x-python",
   "name": "python",
   "nbconvert_exporter": "python",
   "pygments_lexer": "ipython3",
   "version": "3.5.2"
  }
 },
 "nbformat": 4,
 "nbformat_minor": 2
}
