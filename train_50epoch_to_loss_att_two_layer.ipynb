{
 "cells": [
  {
   "cell_type": "markdown",
   "metadata": {},
   "source": [
    "# Set Parameter\n",
    "- Attention = True\n",
    "- Drop out = 0.2\n",
    "- Teacher Forcing Ratio = 0.5\n",
    "- Layer = 2\n",
    "- Hidden unit = 50\n",
    "- Batch size = 32\n",
    "- Epochs = 50"
   ]
  },
  {
   "cell_type": "markdown",
   "metadata": {},
   "source": [
    "# Import packages\n",
    "\n",
    "import useful packages for experiments"
   ]
  },
  {
   "cell_type": "code",
   "execution_count": 1,
   "metadata": {},
   "outputs": [
    {
     "name": "stderr",
     "output_type": "stream",
     "text": [
      "/home/hyeontae/hyeontae/venv/lib/python3.5/site-packages/torch/nn/functional.py:52: UserWarning: size_average and reduce args will be deprecated, please use reduction='elementwise_mean' instead.\n",
      "  warnings.warn(warning.format(ret))\n",
      "/home/hyeontae/hyeontae/venv/lib/python3.5/site-packages/torch/nn/functional.py:52: UserWarning: size_average and reduce args will be deprecated, please use reduction='elementwise_mean' instead.\n",
      "  warnings.warn(warning.format(ret))\n"
     ]
    }
   ],
   "source": [
    "import os\n",
    "import argparse\n",
    "import logging\n",
    "\n",
    "import torch\n",
    "from torch.optim.lr_scheduler import StepLR\n",
    "import torchtext\n",
    "\n",
    "from trainer.supervised_trainer import SupervisedTrainer\n",
    "from models.encoderRNN import EncoderRNN\n",
    "from models.decoderRNN import DecoderRNN\n",
    "from models.seq2seq import Seq2seq\n",
    "from loss.loss import Perplexity\n",
    "from optim.optim import Optimizer\n",
    "from dataset import fields\n",
    "from evaluator.predictor import Predictor\n",
    "\n",
    "import matplotlib.pyplot as plt"
   ]
  },
  {
   "cell_type": "markdown",
   "metadata": {},
   "source": [
    "# Data load"
   ]
  },
  {
   "cell_type": "code",
   "execution_count": 2,
   "metadata": {},
   "outputs": [],
   "source": [
    "train_path = \"data/grammar_data_N100_train.txt\"\n",
    "dev_path = \"data/grammar_data_N100_test.txt\"\n",
    "log_level = 'info'"
   ]
  },
  {
   "cell_type": "markdown",
   "metadata": {},
   "source": [
    "# Log format"
   ]
  },
  {
   "cell_type": "code",
   "execution_count": 3,
   "metadata": {},
   "outputs": [],
   "source": [
    "LOG_FORMAT = '%(asctime)s %(levelname)-6s %(message)s'\n",
    "logging.basicConfig(format=LOG_FORMAT, level=getattr(logging, log_level.upper()))"
   ]
  },
  {
   "cell_type": "markdown",
   "metadata": {},
   "source": [
    "# Prepare dataset"
   ]
  },
  {
   "cell_type": "code",
   "execution_count": 4,
   "metadata": {},
   "outputs": [],
   "source": [
    "src = fields.SourceField()\n",
    "tgt = fields.TargetField()\n",
    "max_len = 102\n",
    "def len_filter(example):\n",
    "    return len(example.src) <= max_len and len(example.tgt) <= max_len\n",
    "train = torchtext.data.TabularDataset(\n",
    "    path=train_path, format='tsv',\n",
    "    fields=[('src', src), ('tgt', tgt)],\n",
    "    filter_pred=len_filter\n",
    ")\n",
    "dev = torchtext.data.TabularDataset(\n",
    "    path=dev_path, format='tsv',\n",
    "    fields=[('src', src), ('tgt', tgt)],\n",
    "    filter_pred=len_filter\n",
    ")\n",
    "src.build_vocab(train)\n",
    "tgt.build_vocab(train)\n",
    "input_vocab = src.vocab\n",
    "output_vocab = tgt.vocab"
   ]
  },
  {
   "cell_type": "markdown",
   "metadata": {},
   "source": [
    "# Prepare loss"
   ]
  },
  {
   "cell_type": "code",
   "execution_count": 5,
   "metadata": {},
   "outputs": [
    {
     "name": "stderr",
     "output_type": "stream",
     "text": [
      "/home/hyeontae/hyeontae/venv/lib/python3.5/site-packages/torch/nn/functional.py:52: UserWarning: size_average and reduce args will be deprecated, please use reduction='sum' instead.\n",
      "  warnings.warn(warning.format(ret))\n"
     ]
    }
   ],
   "source": [
    "weight = torch.ones(len(tgt.vocab))\n",
    "pad = tgt.vocab.stoi[tgt.pad_token]\n",
    "loss = Perplexity(weight, pad)\n",
    "if torch.cuda.is_available():\n",
    "    loss.cuda()"
   ]
  },
  {
   "cell_type": "markdown",
   "metadata": {},
   "source": [
    "# Variable definition"
   ]
  },
  {
   "cell_type": "code",
   "execution_count": 6,
   "metadata": {},
   "outputs": [
    {
     "name": "stdout",
     "output_type": "stream",
     "text": [
      "[50]\n"
     ]
    }
   ],
   "source": [
    "seq2seq = None\n",
    "optimizer = \"Adam\"\n",
    "\n",
    "hidden_sizes = list(range(50, 51, 4))\n",
    "print(hidden_sizes)\n",
    "error_rate = []\n",
    "accuracy = []\n",
    "losses = []"
   ]
  },
  {
   "cell_type": "markdown",
   "metadata": {},
   "source": [
    "# Initialize model"
   ]
  },
  {
   "cell_type": "code",
   "execution_count": 7,
   "metadata": {},
   "outputs": [
    {
     "name": "stderr",
     "output_type": "stream",
     "text": [
      "2019-02-01 09:46:06,985 INFO   Optimizer: Adam (\n",
      "Parameter Group 0\n",
      "    amsgrad: False\n",
      "    betas: (0.9, 0.999)\n",
      "    eps: 1e-08\n",
      "    lr: 0.001\n",
      "    weight_decay: 0\n",
      "), Scheduler: None\n"
     ]
    },
    {
     "name": "stdout",
     "output_type": "stream",
     "text": [
      "Hidden size is 50\n"
     ]
    },
    {
     "name": "stderr",
     "output_type": "stream",
     "text": [
      "/home/hyeontae/hyeontae/venv/lib/python3.5/site-packages/torch/nn/functional.py:995: UserWarning: nn.functional.tanh is deprecated. Use torch.tanh instead.\n",
      "  warnings.warn(\"nn.functional.tanh is deprecated. Use torch.tanh instead.\")\n",
      "2019-02-01 09:53:50,198 INFO   Finished epoch 1: Train loss: 18.0190, Dev loss: 15.3533, Accuracy(Character): 0.1706, Accuracy(Word): 0.0000\n",
      "2019-02-01 10:01:28,449 INFO   Finished epoch 2: Train loss: 7.2018, Dev loss: 9.9122, Accuracy(Character): 0.3106, Accuracy(Word): 0.0000\n",
      "2019-02-01 10:09:04,267 INFO   Finished epoch 3: Train loss: 3.3724, Dev loss: 3.8257, Accuracy(Character): 0.4897, Accuracy(Word): 0.0000\n",
      "2019-02-01 10:16:40,773 INFO   Finished epoch 4: Train loss: 2.6248, Dev loss: 2.7370, Accuracy(Character): 0.5984, Accuracy(Word): 0.0000\n",
      "2019-02-01 10:24:28,517 INFO   Finished epoch 5: Train loss: 2.3888, Dev loss: 4.2489, Accuracy(Character): 0.4887, Accuracy(Word): 0.0000\n",
      "2019-02-01 10:32:16,975 INFO   Finished epoch 6: Train loss: 2.1722, Dev loss: 2.5004, Accuracy(Character): 0.6400, Accuracy(Word): 0.0089\n",
      "2019-02-01 10:39:59,247 INFO   Finished epoch 7: Train loss: 2.0406, Dev loss: 3.7816, Accuracy(Character): 0.5383, Accuracy(Word): 0.0124\n",
      "2019-02-01 10:47:39,563 INFO   Finished epoch 8: Train loss: 1.9143, Dev loss: 2.0210, Accuracy(Character): 0.7096, Accuracy(Word): 0.0089\n",
      "2019-02-01 10:55:16,753 INFO   Finished epoch 9: Train loss: 1.8523, Dev loss: 1.8531, Accuracy(Character): 0.7497, Accuracy(Word): 0.0000\n",
      "2019-02-01 11:02:52,400 INFO   Finished epoch 10: Train loss: 1.8033, Dev loss: 1.7735, Accuracy(Character): 0.7734, Accuracy(Word): 0.0157\n",
      "2019-02-01 11:10:27,002 INFO   Finished epoch 11: Train loss: 1.7311, Dev loss: 1.6626, Accuracy(Character): 0.7930, Accuracy(Word): 0.0157\n",
      "2019-02-01 11:18:07,962 INFO   Finished epoch 12: Train loss: 1.6644, Dev loss: 1.8122, Accuracy(Character): 0.7583, Accuracy(Word): 0.0157\n",
      "2019-02-01 11:25:51,256 INFO   Finished epoch 13: Train loss: 1.6119, Dev loss: 2.6662, Accuracy(Character): 0.6685, Accuracy(Word): 0.0123\n",
      "2019-02-01 11:33:31,159 INFO   Finished epoch 14: Train loss: 1.6048, Dev loss: 1.5902, Accuracy(Character): 0.8153, Accuracy(Word): 0.0151\n",
      "2019-02-01 11:41:09,273 INFO   Finished epoch 15: Train loss: 1.6423, Dev loss: 1.8484, Accuracy(Character): 0.7919, Accuracy(Word): 0.0161\n",
      "2019-02-01 11:48:56,656 INFO   Finished epoch 16: Train loss: 1.5157, Dev loss: 1.5724, Accuracy(Character): 0.8266, Accuracy(Word): 0.0066\n",
      "2019-02-01 11:56:32,285 INFO   Finished epoch 17: Train loss: 1.5494, Dev loss: 1.4745, Accuracy(Character): 0.8430, Accuracy(Word): 0.0231\n",
      "2019-02-01 12:04:02,783 INFO   Finished epoch 18: Train loss: 1.3951, Dev loss: 1.6788, Accuracy(Character): 0.8220, Accuracy(Word): 0.0189\n",
      "2019-02-01 12:11:38,512 INFO   Finished epoch 19: Train loss: 1.3908, Dev loss: 1.3993, Accuracy(Character): 0.8777, Accuracy(Word): 0.0235\n",
      "2019-02-01 12:19:17,598 INFO   Finished epoch 20: Train loss: 1.4638, Dev loss: 1.6435, Accuracy(Character): 0.8310, Accuracy(Word): 0.0000\n",
      "2019-02-01 12:26:49,414 INFO   Finished epoch 21: Train loss: 1.3106, Dev loss: 1.2344, Accuracy(Character): 0.9241, Accuracy(Word): 0.0000\n",
      "2019-02-01 12:33:12,137 INFO   Finished epoch 22: Train loss: 1.3305, Dev loss: 1.4059, Accuracy(Character): 0.8847, Accuracy(Word): 0.0000\n",
      "2019-02-01 12:39:41,868 INFO   Finished epoch 23: Train loss: 1.2518, Dev loss: 1.1164, Accuracy(Character): 0.9647, Accuracy(Word): 0.0000\n",
      "2019-02-01 12:45:25,380 INFO   Finished epoch 24: Train loss: 1.2724, Dev loss: 1.1940, Accuracy(Character): 0.9460, Accuracy(Word): 0.0000\n",
      "2019-02-01 12:50:51,963 INFO   Finished epoch 25: Train loss: 1.2244, Dev loss: 1.4487, Accuracy(Character): 0.9097, Accuracy(Word): 0.0238\n",
      "2019-02-01 12:56:15,899 INFO   Finished epoch 26: Train loss: 1.2227, Dev loss: 1.0492, Accuracy(Character): 0.9854, Accuracy(Word): 0.0217\n",
      "2019-02-01 13:01:41,140 INFO   Finished epoch 27: Train loss: 1.1776, Dev loss: 1.0939, Accuracy(Character): 0.9746, Accuracy(Word): 0.0307\n",
      "2019-02-01 13:07:08,533 INFO   Finished epoch 28: Train loss: 1.2150, Dev loss: 1.1506, Accuracy(Character): 0.9653, Accuracy(Word): 0.0324\n",
      "2019-02-01 13:12:33,342 INFO   Finished epoch 29: Train loss: 1.1602, Dev loss: 1.3413, Accuracy(Character): 0.9404, Accuracy(Word): 0.0274\n",
      "2019-02-01 13:17:59,410 INFO   Finished epoch 30: Train loss: 1.1584, Dev loss: 1.1016, Accuracy(Character): 0.9782, Accuracy(Word): 0.0271\n",
      "2019-02-01 13:23:24,186 INFO   Finished epoch 31: Train loss: 1.1522, Dev loss: 1.3087, Accuracy(Character): 0.9340, Accuracy(Word): 0.0275\n",
      "2019-02-01 13:28:51,303 INFO   Finished epoch 32: Train loss: 1.2740, Dev loss: 3.0246, Accuracy(Character): 0.8578, Accuracy(Word): 0.0351\n",
      "2019-02-01 13:34:16,039 INFO   Finished epoch 33: Train loss: 1.1364, Dev loss: 1.0264, Accuracy(Character): 0.9920, Accuracy(Word): 0.0186\n",
      "2019-02-01 13:39:44,173 INFO   Finished epoch 34: Train loss: 1.1813, Dev loss: 2.6260, Accuracy(Character): 0.8716, Accuracy(Word): 0.0301\n",
      "2019-02-01 13:45:13,897 INFO   Finished epoch 35: Train loss: 1.2032, Dev loss: 1.0834, Accuracy(Character): 0.9840, Accuracy(Word): 0.0421\n",
      "2019-02-01 13:50:42,107 INFO   Finished epoch 36: Train loss: 1.0870, Dev loss: 1.1380, Accuracy(Character): 0.9775, Accuracy(Word): 0.0000\n",
      "2019-02-01 13:56:10,854 INFO   Finished epoch 37: Train loss: 1.1656, Dev loss: 1.0069, Accuracy(Character): 0.9984, Accuracy(Word): 0.0346\n",
      "2019-02-01 14:01:34,156 INFO   Finished epoch 38: Train loss: 1.0709, Dev loss: 1.0189, Accuracy(Character): 0.9969, Accuracy(Word): 0.0340\n",
      "2019-02-01 14:07:08,398 INFO   Finished epoch 39: Train loss: 1.0911, Dev loss: 1.0517, Accuracy(Character): 0.9915, Accuracy(Word): 0.0000\n",
      "2019-02-01 14:12:38,207 INFO   Finished epoch 40: Train loss: 1.1054, Dev loss: 1.0072, Accuracy(Character): 0.9985, Accuracy(Word): 0.0000\n",
      "2019-02-01 14:18:10,422 INFO   Finished epoch 41: Train loss: 1.0674, Dev loss: 1.0041, Accuracy(Character): 0.9991, Accuracy(Word): 0.0000\n",
      "2019-02-01 14:23:40,793 INFO   Finished epoch 42: Train loss: 1.0744, Dev loss: 1.0033, Accuracy(Character): 0.9992, Accuracy(Word): 0.0000\n",
      "2019-02-01 14:29:06,994 INFO   Finished epoch 43: Train loss: 1.2000, Dev loss: 1.0160, Accuracy(Character): 0.9965, Accuracy(Word): 0.0000\n",
      "2019-02-01 14:34:35,836 INFO   Finished epoch 44: Train loss: 1.0400, Dev loss: 1.0046, Accuracy(Character): 0.9989, Accuracy(Word): 0.0000\n",
      "2019-02-01 14:40:09,270 INFO   Finished epoch 45: Train loss: 1.0629, Dev loss: 1.0095, Accuracy(Character): 0.9981, Accuracy(Word): 0.0000\n",
      "2019-02-01 14:45:36,206 INFO   Finished epoch 46: Train loss: 1.0752, Dev loss: 1.0537, Accuracy(Character): 0.9920, Accuracy(Word): 0.0000\n",
      "2019-02-01 14:51:03,034 INFO   Finished epoch 47: Train loss: 1.0334, Dev loss: 1.0106, Accuracy(Character): 0.9981, Accuracy(Word): 0.0000\n",
      "2019-02-01 14:56:29,234 INFO   Finished epoch 48: Train loss: 1.1685, Dev loss: 1.0212, Accuracy(Character): 0.9964, Accuracy(Word): 0.0000\n",
      "2019-02-01 15:01:54,013 INFO   Finished epoch 49: Train loss: 1.0530, Dev loss: 1.0633, Accuracy(Character): 0.9896, Accuracy(Word): 0.0000\n",
      "2019-02-01 15:07:24,722 INFO   Finished epoch 50: Train loss: 1.0609, Dev loss: 1.0913, Accuracy(Character): 0.9891, Accuracy(Word): 0.0000\n"
     ]
    },
    {
     "data": {
      "image/png": "[encoded data removed]",
      "text/plain": [
       "<Figure size 432x288 with 1 Axes>"
      ]
     },
     "metadata": {
      "needs_background": "light"
     },
     "output_type": "display_data"
    },
    {
     "data": {
      "image/png": "[encoded data removed]",
      "text/plain": [
       "<Figure size 432x288 with 1 Axes>"
      ]
     },
     "metadata": {
      "needs_background": "light"
     },
     "output_type": "display_data"
    }
   ],
   "source": [
    "for i in hidden_sizes:\n",
    "    print(\"Hidden size is %d\" % i)\n",
    "    hidden_size = i\n",
    "    bidirectional = True\n",
    "    encoder = EncoderRNN(len(src.vocab), max_len, hidden_size, n_layers=2,\n",
    "                        bidirectional=bidirectional, variable_lengths=True)\n",
    "    decoder = DecoderRNN(len(tgt.vocab), max_len, hidden_size * 2 if bidirectional else hidden_size,\n",
    "                        dropout_p=0.2, n_layers=2,use_attention=True, bidirectional=bidirectional,\n",
    "                        eos_id=tgt.eos_id, sos_id=tgt.sos_id)\n",
    "    seq2seq = Seq2seq(encoder, decoder)\n",
    "    if torch.cuda.is_available():\n",
    "        seq2seq.cuda()\n",
    "\n",
    "    for param in seq2seq.parameters():\n",
    "        param.data.uniform_(-0.08, 0.08)\n",
    "\n",
    "    # train\n",
    "    t = SupervisedTrainer(loss=loss, batch_size=32,\n",
    "                        checkpoint_every=50,\n",
    "                        print_every=100,\n",
    "                        hidden_size=hidden_size,\n",
    "                        fig_path=\"log/plot/100N_att_two_layer\")\n",
    "\n",
    "    seq2seq, ave_loss, character_accuracy = t.train(seq2seq, train,\n",
    "                                                    num_epochs=50, dev_data=dev,\n",
    "                                                    optimizer=optimizer,\n",
    "                                                    teacher_forcing_ratio=0.5)\n",
    "\n",
    "    losses.append(ave_loss/100)\n",
    "    error_rate.append(1 - character_accuracy)\n",
    "    accuracy.append(character_accuracy)"
   ]
  },
  {
   "cell_type": "code",
   "execution_count": 8,
   "metadata": {},
   "outputs": [],
   "source": [
    "torch.save(seq2seq.state_dict(), 'log/100N_att_two_layer_model_save.pth')"
   ]
  }
 ],
 "metadata": {
  "kernelspec": {
   "display_name": "Python 3",
   "language": "python",
   "name": "python3"
  },
  "language_info": {
   "codemirror_mode": {
    "name": "ipython",
    "version": 3
   },
   "file_extension": ".py",
   "mimetype": "text/x-python",
   "name": "python",
   "nbconvert_exporter": "python",
   "pygments_lexer": "ipython3",
   "version": "3.5.2"
  }
 },
 "nbformat": 4,
 "nbformat_minor": 2
}
