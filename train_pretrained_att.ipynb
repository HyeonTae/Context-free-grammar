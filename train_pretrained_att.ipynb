{
 "cells": [
  {
   "cell_type": "markdown",
   "metadata": {},
   "source": [
    "# Set Parameter\n",
    "- Attention = True\n",
    "- Drop out = 0.2\n",
    "- Teacher Forcing Ratio = 0.5\n",
    "- Layer = 1\n",
    "- Hidden unit = 50\n",
    "- Batch size = 32\n",
    "- Pretrain Epochs = 20\n",
    "- Train Epochs = 20"
   ]
  },
  {
   "cell_type": "markdown",
   "metadata": {},
   "source": [
    "# Import packages\n",
    "\n",
    "import useful packages for experiments"
   ]
  },
  {
   "cell_type": "code",
   "execution_count": 1,
   "metadata": {},
   "outputs": [
    {
     "name": "stderr",
     "output_type": "stream",
     "text": [
      "/home/hyeontae/hyeontae/venv/lib/python3.5/site-packages/torch/nn/functional.py:52: UserWarning: size_average and reduce args will be deprecated, please use reduction='elementwise_mean' instead.\n",
      "  warnings.warn(warning.format(ret))\n",
      "/home/hyeontae/hyeontae/venv/lib/python3.5/site-packages/torch/nn/functional.py:52: UserWarning: size_average and reduce args will be deprecated, please use reduction='elementwise_mean' instead.\n",
      "  warnings.warn(warning.format(ret))\n"
     ]
    }
   ],
   "source": [
    "import os\n",
    "import argparse\n",
    "import logging\n",
    "\n",
    "import torch\n",
    "from torch.optim.lr_scheduler import StepLR\n",
    "import torchtext\n",
    "\n",
    "from trainer.supervised_trainer import SupervisedTrainer\n",
    "from models.encoderRNN import EncoderRNN\n",
    "from models.decoderRNN import DecoderRNN\n",
    "from models.seq2seq import Seq2seq\n",
    "from loss.loss import Perplexity\n",
    "from optim.optim import Optimizer\n",
    "from dataset import fields\n",
    "from evaluator.predictor import Predictor\n",
    "\n",
    "import matplotlib.pyplot as plt"
   ]
  },
  {
   "cell_type": "markdown",
   "metadata": {},
   "source": [
    "# Log format"
   ]
  },
  {
   "cell_type": "code",
   "execution_count": 2,
   "metadata": {},
   "outputs": [],
   "source": [
    "log_level = 'info'\n",
    "LOG_FORMAT = '%(asctime)s %(levelname)-6s %(message)s'\n",
    "logging.basicConfig(format=LOG_FORMAT, level=getattr(logging, log_level.upper()))"
   ]
  },
  {
   "cell_type": "markdown",
   "metadata": {},
   "source": [
    "# Pretrain - Data load"
   ]
  },
  {
   "cell_type": "code",
   "execution_count": 3,
   "metadata": {},
   "outputs": [],
   "source": [
    "pretrain_train_path = \"data/grammar_data_N50_train.txt\"\n",
    "pretrain_dev_path = \"data/grammar_data_N50_test.txt\""
   ]
  },
  {
   "cell_type": "markdown",
   "metadata": {},
   "source": [
    "# Train - Data load"
   ]
  },
  {
   "cell_type": "code",
   "execution_count": 4,
   "metadata": {},
   "outputs": [],
   "source": [
    "train_path = \"data/grammar_data_N100_train.txt\"\n",
    "dev_path = \"data/grammar_data_N100_test.txt\""
   ]
  },
  {
   "cell_type": "markdown",
   "metadata": {},
   "source": [
    "# Pretrain - Prepare dataset"
   ]
  },
  {
   "cell_type": "code",
   "execution_count": 5,
   "metadata": {},
   "outputs": [],
   "source": [
    "pretrain_src = fields.SourceField()\n",
    "pretrain_tgt = fields.TargetField()\n",
    "max_len = 104\n",
    "def len_filter(example):\n",
    "    return len(example.src) <= max_len and len(example.tgt) <= max_len\n",
    "pretrain_train = torchtext.data.TabularDataset(\n",
    "    path=pretrain_train_path, format='tsv',\n",
    "    fields=[('src', pretrain_src), ('tgt', pretrain_tgt)],\n",
    "    filter_pred=len_filter\n",
    ")\n",
    "pretrain_dev = torchtext.data.TabularDataset(\n",
    "    path=pretrain_dev_path, format='tsv',\n",
    "    fields=[('src', pretrain_src), ('tgt', pretrain_tgt)],\n",
    "    filter_pred=len_filter\n",
    ")\n",
    "pretrain_src.build_vocab(pretrain_train)\n",
    "pretrain_tgt.build_vocab(pretrain_train)\n",
    "pretrain_input_vocab = pretrain_src.vocab\n",
    "pretrain_output_vocab = pretrain_tgt.vocab"
   ]
  },
  {
   "cell_type": "markdown",
   "metadata": {},
   "source": [
    "# Train - Prepare dataset"
   ]
  },
  {
   "cell_type": "code",
   "execution_count": 6,
   "metadata": {},
   "outputs": [],
   "source": [
    "src = fields.SourceField()\n",
    "tgt = fields.TargetField()\n",
    "max_len = 104\n",
    "def len_filter(example):\n",
    "    return len(example.src) <= max_len and len(example.tgt) <= max_len\n",
    "train = torchtext.data.TabularDataset(\n",
    "    path=train_path, format='tsv',\n",
    "    fields=[('src', src), ('tgt', tgt)],\n",
    "    filter_pred=len_filter\n",
    ")\n",
    "dev = torchtext.data.TabularDataset(\n",
    "    path=dev_path, format='tsv',\n",
    "    fields=[('src', src), ('tgt', tgt)],\n",
    "    filter_pred=len_filter\n",
    ")\n",
    "src.build_vocab(train)\n",
    "tgt.build_vocab(train)\n",
    "input_vocab = src.vocab\n",
    "output_vocab = tgt.vocab"
   ]
  },
  {
   "cell_type": "markdown",
   "metadata": {},
   "source": [
    "# Pretrain - Prepare loss"
   ]
  },
  {
   "cell_type": "code",
   "execution_count": 7,
   "metadata": {},
   "outputs": [
    {
     "name": "stderr",
     "output_type": "stream",
     "text": [
      "/home/hyeontae/hyeontae/venv/lib/python3.5/site-packages/torch/nn/functional.py:52: UserWarning: size_average and reduce args will be deprecated, please use reduction='sum' instead.\n",
      "  warnings.warn(warning.format(ret))\n"
     ]
    }
   ],
   "source": [
    "pretrain_weight = torch.ones(len(pretrain_tgt.vocab))\n",
    "pretrain_pad = pretrain_tgt.vocab.stoi[pretrain_tgt.pad_token]\n",
    "pretrain_loss = Perplexity(pretrain_weight, pretrain_pad)\n",
    "if torch.cuda.is_available():\n",
    "    pretrain_loss.cuda()"
   ]
  },
  {
   "cell_type": "markdown",
   "metadata": {},
   "source": [
    "# Train - Prepare loss"
   ]
  },
  {
   "cell_type": "code",
   "execution_count": 8,
   "metadata": {},
   "outputs": [],
   "source": [
    "weight = torch.ones(len(tgt.vocab))\n",
    "pad = tgt.vocab.stoi[tgt.pad_token]\n",
    "loss = Perplexity(weight, pad)\n",
    "if torch.cuda.is_available():\n",
    "    loss.cuda()"
   ]
  },
  {
   "cell_type": "markdown",
   "metadata": {},
   "source": [
    "# Variable definition"
   ]
  },
  {
   "cell_type": "code",
   "execution_count": 9,
   "metadata": {},
   "outputs": [
    {
     "name": "stdout",
     "output_type": "stream",
     "text": [
      "[50]\n"
     ]
    }
   ],
   "source": [
    "seq2seq = None\n",
    "optimizer = \"Adam\"\n",
    "\n",
    "hidden_sizes = list(range(50, 51, 4))\n",
    "print(hidden_sizes)\n",
    "error_rate = []\n",
    "accuracy = []\n",
    "losses = []"
   ]
  },
  {
   "cell_type": "markdown",
   "metadata": {},
   "source": [
    "# Initialize model"
   ]
  },
  {
   "cell_type": "code",
   "execution_count": 10,
   "metadata": {},
   "outputs": [
    {
     "name": "stderr",
     "output_type": "stream",
     "text": [
      "/home/hyeontae/hyeontae/venv/lib/python3.5/site-packages/torch/nn/modules/rnn.py:38: UserWarning: dropout option adds dropout after all but last recurrent layer, so non-zero dropout expects num_layers greater than 1, but got dropout=0.2 and num_layers=1\n",
      "  \"num_layers={}\".format(dropout, num_layers))\n",
      "2019-02-01 17:56:40,467 INFO   Optimizer: Adam (\n",
      "Parameter Group 0\n",
      "    amsgrad: False\n",
      "    betas: (0.9, 0.999)\n",
      "    eps: 1e-08\n",
      "    lr: 0.001\n",
      "    weight_decay: 0\n",
      "), Scheduler: None\n"
     ]
    },
    {
     "name": "stdout",
     "output_type": "stream",
     "text": [
      "Hidden size is 50\n",
      "6\n",
      "49\n",
      "6\n",
      "49\n",
      "pretrain..\n"
     ]
    },
    {
     "name": "stderr",
     "output_type": "stream",
     "text": [
      "/home/hyeontae/hyeontae/venv/lib/python3.5/site-packages/torch/nn/functional.py:995: UserWarning: nn.functional.tanh is deprecated. Use torch.tanh instead.\n",
      "  warnings.warn(\"nn.functional.tanh is deprecated. Use torch.tanh instead.\")\n",
      "2019-02-01 17:59:40,925 INFO   Finished epoch 1: Train loss: 7.9724, Dev loss: 4.0565, Accuracy(Character): 0.5034, Accuracy(Word): 0.0000\n",
      "2019-02-01 18:02:43,824 INFO   Finished epoch 2: Train loss: 2.3043, Dev loss: 2.0593, Accuracy(Character): 0.7103, Accuracy(Word): 0.0000\n",
      "2019-02-01 18:05:46,540 INFO   Finished epoch 3: Train loss: 1.7514, Dev loss: 2.1592, Accuracy(Character): 0.7343, Accuracy(Word): 0.0035\n",
      "2019-02-01 18:08:47,636 INFO   Finished epoch 4: Train loss: 1.5356, Dev loss: 1.3740, Accuracy(Character): 0.8773, Accuracy(Word): 0.0113\n",
      "2019-02-01 18:11:53,336 INFO   Finished epoch 5: Train loss: 1.3785, Dev loss: 1.7460, Accuracy(Character): 0.8031, Accuracy(Word): 0.0113\n",
      "2019-02-01 18:14:54,926 INFO   Finished epoch 6: Train loss: 1.2781, Dev loss: 1.1813, Accuracy(Character): 0.9393, Accuracy(Word): 0.0174\n",
      "2019-02-01 18:17:57,539 INFO   Finished epoch 7: Train loss: 1.2389, Dev loss: 1.1014, Accuracy(Character): 0.9659, Accuracy(Word): 0.0199\n",
      "2019-02-01 18:20:59,218 INFO   Finished epoch 8: Train loss: 1.1363, Dev loss: 2.6020, Accuracy(Character): 0.8049, Accuracy(Word): 0.0204\n",
      "2019-02-01 18:24:03,688 INFO   Finished epoch 9: Train loss: 1.0874, Dev loss: 1.1023, Accuracy(Character): 0.9727, Accuracy(Word): 0.0346\n",
      "2019-02-01 18:27:06,714 INFO   Finished epoch 10: Train loss: 1.0765, Dev loss: 1.0401, Accuracy(Character): 0.9889, Accuracy(Word): 0.0181\n",
      "2019-02-01 18:30:10,743 INFO   Finished epoch 11: Train loss: 1.0703, Dev loss: 1.0098, Accuracy(Character): 0.9972, Accuracy(Word): 0.0477\n",
      "2019-02-01 18:33:13,129 INFO   Finished epoch 12: Train loss: 1.0402, Dev loss: 1.0193, Accuracy(Character): 0.9935, Accuracy(Word): 0.0477\n",
      "2019-02-01 18:36:16,877 INFO   Finished epoch 13: Train loss: 1.0282, Dev loss: 1.1310, Accuracy(Character): 0.9766, Accuracy(Word): 0.0466\n",
      "2019-02-01 18:39:19,932 INFO   Finished epoch 14: Train loss: 1.0267, Dev loss: 1.0110, Accuracy(Character): 0.9965, Accuracy(Word): 0.0361\n",
      "2019-02-01 18:42:24,264 INFO   Finished epoch 15: Train loss: 1.0165, Dev loss: 1.0068, Accuracy(Character): 0.9981, Accuracy(Word): 0.0525\n",
      "2019-02-01 18:45:27,371 INFO   Finished epoch 16: Train loss: 1.0310, Dev loss: 1.0006, Accuracy(Character): 0.9999, Accuracy(Word): 0.0989\n",
      "2019-02-01 18:48:30,252 INFO   Finished epoch 17: Train loss: 1.0189, Dev loss: 1.0129, Accuracy(Character): 0.9970, Accuracy(Word): 0.0489\n",
      "2019-02-01 18:51:36,275 INFO   Finished epoch 18: Train loss: 1.0229, Dev loss: 1.0005, Accuracy(Character): 0.9999, Accuracy(Word): 0.0459\n",
      "2019-02-01 18:54:39,504 INFO   Finished epoch 19: Train loss: 1.0125, Dev loss: 1.0349, Accuracy(Character): 0.9949, Accuracy(Word): 0.0444\n",
      "2019-02-01 18:57:42,234 INFO   Finished epoch 20: Train loss: 1.0183, Dev loss: 1.0163, Accuracy(Character): 0.9970, Accuracy(Word): 0.0452\n",
      "2019-02-01 18:57:42,400 INFO   Optimizer: Adam (\n",
      "Parameter Group 0\n",
      "    amsgrad: False\n",
      "    betas: (0.9, 0.999)\n",
      "    eps: 1e-08\n",
      "    lr: 0.001\n",
      "    weight_decay: 0\n",
      "), Scheduler: None\n"
     ]
    },
    {
     "name": "stdout",
     "output_type": "stream",
     "text": [
      "train..\n"
     ]
    },
    {
     "name": "stderr",
     "output_type": "stream",
     "text": [
      "2019-02-01 19:03:22,020 INFO   Finished epoch 1: Train loss: 2641823674.6695, Dev loss: 2.0655, Accuracy(Character): 0.7443, Accuracy(Word): 0.0000\n",
      "2019-02-01 19:09:00,984 INFO   Finished epoch 2: Train loss: 1.6425, Dev loss: 1.5366, Accuracy(Character): 0.8371, Accuracy(Word): 0.0000\n",
      "2019-02-01 19:14:36,805 INFO   Finished epoch 3: Train loss: 1.4486, Dev loss: 1.5143, Accuracy(Character): 0.8409, Accuracy(Word): 0.0000\n",
      "2019-02-01 19:20:10,246 INFO   Finished epoch 4: Train loss: 1.3536, Dev loss: 1.4135, Accuracy(Character): 0.8755, Accuracy(Word): 0.0000\n",
      "2019-02-01 19:25:45,306 INFO   Finished epoch 5: Train loss: 1.2872, Dev loss: 1.3034, Accuracy(Character): 0.9091, Accuracy(Word): 0.0000\n",
      "2019-02-01 19:31:17,282 INFO   Finished epoch 6: Train loss: 1.2658, Dev loss: 1.2016, Accuracy(Character): 0.9364, Accuracy(Word): 0.0000\n",
      "2019-02-01 19:36:54,889 INFO   Finished epoch 7: Train loss: 1.2320, Dev loss: 1.2290, Accuracy(Character): 0.9227, Accuracy(Word): 0.0000\n",
      "2019-02-01 19:42:34,136 INFO   Finished epoch 8: Train loss: 1.2166, Dev loss: 1.1695, Accuracy(Character): 0.9440, Accuracy(Word): 0.0000\n",
      "2019-02-01 19:48:10,699 INFO   Finished epoch 9: Train loss: 1.1509, Dev loss: 1.0918, Accuracy(Character): 0.9731, Accuracy(Word): 0.0000\n",
      "2019-02-01 19:53:48,208 INFO   Finished epoch 10: Train loss: 1.1771, Dev loss: 1.1200, Accuracy(Character): 0.9572, Accuracy(Word): 0.0000\n",
      "2019-02-01 19:59:17,949 INFO   Finished epoch 11: Train loss: 1.1355, Dev loss: 1.1396, Accuracy(Character): 0.9558, Accuracy(Word): 0.0000\n",
      "2019-02-01 20:04:53,368 INFO   Finished epoch 12: Train loss: 1.1337, Dev loss: 1.0433, Accuracy(Character): 0.9869, Accuracy(Word): 0.0000\n",
      "2019-02-01 20:10:29,430 INFO   Finished epoch 13: Train loss: 1.1107, Dev loss: 1.0510, Accuracy(Character): 0.9837, Accuracy(Word): 0.0000\n",
      "2019-02-01 20:16:10,088 INFO   Finished epoch 14: Train loss: 1.1083, Dev loss: 1.1156, Accuracy(Character): 0.9680, Accuracy(Word): 0.0000\n",
      "2019-02-01 20:21:46,134 INFO   Finished epoch 15: Train loss: 1.0752, Dev loss: 1.0405, Accuracy(Character): 0.9896, Accuracy(Word): 0.0000\n",
      "2019-02-01 20:26:34,312 INFO   Finished epoch 16: Train loss: 1.0611, Dev loss: 1.0231, Accuracy(Character): 0.9940, Accuracy(Word): 0.0000\n",
      "2019-02-01 20:31:07,882 INFO   Finished epoch 17: Train loss: 1.0848, Dev loss: 1.0140, Accuracy(Character): 0.9957, Accuracy(Word): 0.0000\n",
      "2019-02-01 20:35:44,157 INFO   Finished epoch 18: Train loss: 1.0651, Dev loss: 1.0927, Accuracy(Character): 0.9804, Accuracy(Word): 0.0000\n",
      "2019-02-01 20:40:24,061 INFO   Finished epoch 19: Train loss: 1.0292, Dev loss: 1.0078, Accuracy(Character): 0.9979, Accuracy(Word): 0.0000\n",
      "2019-02-01 20:45:04,360 INFO   Finished epoch 20: Train loss: 1.0408, Dev loss: 1.0993, Accuracy(Character): 0.9827, Accuracy(Word): 0.0000\n"
     ]
    },
    {
     "data": {
      "image/png": "[encoded data removed]",
      "text/plain": [
       "<Figure size 432x288 with 1 Axes>"
      ]
     },
     "metadata": {
      "needs_background": "light"
     },
     "output_type": "display_data"
    },
    {
     "data": {
      "image/png": "[encoded data removed]",
      "text/plain": [
       "<Figure size 432x288 with 1 Axes>"
      ]
     },
     "metadata": {
      "needs_background": "light"
     },
     "output_type": "display_data"
    }
   ],
   "source": [
    "for i in hidden_sizes:\n",
    "    print(\"Hidden size is %d\" % i)\n",
    "    hidden_size = i\n",
    "    bidirectional = True\n",
    "    print(len(pretrain_src.vocab))\n",
    "    print(len(pretrain_tgt.vocab))\n",
    "    print(len(src.vocab))\n",
    "    print(len(tgt.vocab))\n",
    "    encoder = EncoderRNN(len(pretrain_src.vocab), max_len, hidden_size,\n",
    "                        bidirectional=bidirectional, variable_lengths=True)\n",
    "    decoder = DecoderRNN(len(pretrain_tgt.vocab), max_len, hidden_size * 2 if bidirectional else hidden_size,\n",
    "                        dropout_p=0.2, use_attention=True, bidirectional=bidirectional,\n",
    "                        eos_id=pretrain_tgt.eos_id, sos_id=pretrain_tgt.sos_id)\n",
    "    seq2seq = Seq2seq(encoder, decoder)\n",
    "    if torch.cuda.is_available():\n",
    "        seq2seq.cuda()\n",
    "\n",
    "    for param in seq2seq.parameters():\n",
    "        param.data.uniform_(-0.08, 0.08)\n",
    "\n",
    "    # train\n",
    "    t = SupervisedTrainer(loss=pretrain_loss, batch_size=32,\n",
    "                        checkpoint_every=50,\n",
    "                        print_every=100,\n",
    "                        hidden_size=hidden_size,\n",
    "                        fig_path=\"log/plot/pretrained_att\")\n",
    "    print(\"pretrain..\")\n",
    "\n",
    "    seq2seq, ave_loss, character_accuracy = t.train(seq2seq, pretrain_train,\n",
    "                                                    num_epochs=20, dev_data=pretrain_dev,\n",
    "                                                    optimizer=optimizer,\n",
    "                                                    teacher_forcing_ratio=0.5)\n",
    "    \n",
    "    print(\"train..\")\n",
    "    seq2seq, ave_loss, character_accuracy = t.train(seq2seq, train,\n",
    "                                                    num_epochs=20, dev_data=dev,\n",
    "                                                    optimizer=optimizer,\n",
    "                                                    teacher_forcing_ratio=0.5)\n",
    "\n",
    "    losses.append(ave_loss/100)\n",
    "    error_rate.append(1 - character_accuracy)\n",
    "    accuracy.append(character_accuracy)"
   ]
  },
  {
   "cell_type": "code",
   "execution_count": 11,
   "metadata": {},
   "outputs": [],
   "source": [
    "torch.save(seq2seq.state_dict(), 'log/pretrained_att_model_save.pth')"
   ]
  }
 ],
 "metadata": {
  "kernelspec": {
   "display_name": "Python 3",
   "language": "python",
   "name": "python3"
  },
  "language_info": {
   "codemirror_mode": {
    "name": "ipython",
    "version": 3
   },
   "file_extension": ".py",
   "mimetype": "text/x-python",
   "name": "python",
   "nbconvert_exporter": "python",
   "pygments_lexer": "ipython3",
   "version": "3.5.2"
  }
 },
 "nbformat": 4,
 "nbformat_minor": 2
}
