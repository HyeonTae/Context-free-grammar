{
 "cells": [
  {
   "cell_type": "markdown",
   "metadata": {},
   "source": [
    "# Set Parameter\n",
    "- Attention = False\n",
    "- Drop out = 0.2\n",
    "- Teacher Forcing Ratio = 0.5\n",
    "- Layer = 1\n",
    "- Hidden unit = 50\n",
    "- Batch size = 32\n",
    "- Epochs = 50"
   ]
  },
  {
   "cell_type": "markdown",
   "metadata": {},
   "source": [
    "# Import packages\n",
    "\n",
    "import useful packages for experiments"
   ]
  },
  {
   "cell_type": "code",
   "execution_count": 1,
   "metadata": {},
   "outputs": [
    {
     "name": "stderr",
     "output_type": "stream",
     "text": [
      "/home/hyeontae/hyeontae/venv/lib/python3.5/site-packages/torch/nn/functional.py:52: UserWarning: size_average and reduce args will be deprecated, please use reduction='elementwise_mean' instead.\n",
      "  warnings.warn(warning.format(ret))\n",
      "/home/hyeontae/hyeontae/venv/lib/python3.5/site-packages/torch/nn/functional.py:52: UserWarning: size_average and reduce args will be deprecated, please use reduction='elementwise_mean' instead.\n",
      "  warnings.warn(warning.format(ret))\n"
     ]
    }
   ],
   "source": [
    "import os\n",
    "import argparse\n",
    "import logging\n",
    "\n",
    "import torch\n",
    "from torch.optim.lr_scheduler import StepLR\n",
    "import torchtext\n",
    "\n",
    "from trainer.supervised_trainer import SupervisedTrainer\n",
    "from models.encoderRNN import EncoderRNN\n",
    "from models.decoderRNN import DecoderRNN\n",
    "from models.seq2seq import Seq2seq\n",
    "from loss.loss import Perplexity\n",
    "from optim.optim import Optimizer\n",
    "from dataset import fields\n",
    "from evaluator.predictor import Predictor\n",
    "\n",
    "import matplotlib.pyplot as plt"
   ]
  },
  {
   "cell_type": "markdown",
   "metadata": {},
   "source": [
    "# Data load"
   ]
  },
  {
   "cell_type": "code",
   "execution_count": 2,
   "metadata": {},
   "outputs": [],
   "source": [
    "train_path = \"nonbracket_data/data_train.txt\"\n",
    "dev_path = \"nonbracket_data/data_test.txt\"\n",
    "log_level = 'info'"
   ]
  },
  {
   "cell_type": "markdown",
   "metadata": {},
   "source": [
    "# Log format"
   ]
  },
  {
   "cell_type": "code",
   "execution_count": 3,
   "metadata": {},
   "outputs": [],
   "source": [
    "LOG_FORMAT = '%(asctime)s %(levelname)-6s %(message)s'\n",
    "logging.basicConfig(format=LOG_FORMAT, level=getattr(logging, log_level.upper()))"
   ]
  },
  {
   "cell_type": "markdown",
   "metadata": {},
   "source": [
    "# Prepare dataset"
   ]
  },
  {
   "cell_type": "code",
   "execution_count": 4,
   "metadata": {},
   "outputs": [],
   "source": [
    "src = fields.SourceField()\n",
    "tgt = fields.TargetField()\n",
    "max_len = 100\n",
    "def len_filter(example):\n",
    "    return len(example.src) <= max_len and len(example.tgt) <= max_len\n",
    "train = torchtext.data.TabularDataset(\n",
    "    path=train_path, format='tsv',\n",
    "    fields=[('src', src), ('tgt', tgt)],\n",
    "    filter_pred=len_filter\n",
    ")\n",
    "dev = torchtext.data.TabularDataset(\n",
    "    path=dev_path, format='tsv',\n",
    "    fields=[('src', src), ('tgt', tgt)],\n",
    "    filter_pred=len_filter\n",
    ")\n",
    "src.build_vocab(train)\n",
    "tgt.build_vocab(train)\n",
    "input_vocab = src.vocab\n",
    "output_vocab = tgt.vocab"
   ]
  },
  {
   "cell_type": "markdown",
   "metadata": {},
   "source": [
    "# Prepare loss"
   ]
  },
  {
   "cell_type": "code",
   "execution_count": 5,
   "metadata": {},
   "outputs": [
    {
     "name": "stderr",
     "output_type": "stream",
     "text": [
      "/home/hyeontae/hyeontae/venv/lib/python3.5/site-packages/torch/nn/functional.py:52: UserWarning: size_average and reduce args will be deprecated, please use reduction='sum' instead.\n",
      "  warnings.warn(warning.format(ret))\n"
     ]
    }
   ],
   "source": [
    "weight = torch.ones(len(tgt.vocab))\n",
    "pad = tgt.vocab.stoi[tgt.pad_token]\n",
    "loss = Perplexity(weight, pad)\n",
    "if torch.cuda.is_available():\n",
    "    loss.cuda()"
   ]
  },
  {
   "cell_type": "markdown",
   "metadata": {},
   "source": [
    "# Variable definition"
   ]
  },
  {
   "cell_type": "code",
   "execution_count": 6,
   "metadata": {},
   "outputs": [
    {
     "name": "stdout",
     "output_type": "stream",
     "text": [
      "[50]\n"
     ]
    }
   ],
   "source": [
    "seq2seq = None\n",
    "optimizer = \"Adam\"\n",
    "\n",
    "hidden_sizes = list(range(50, 51, 4))\n",
    "print(hidden_sizes)\n",
    "error_rate = []\n",
    "accuracy = []\n",
    "losses = []"
   ]
  },
  {
   "cell_type": "markdown",
   "metadata": {},
   "source": [
    "# Initialize model"
   ]
  },
  {
   "cell_type": "code",
   "execution_count": 7,
   "metadata": {},
   "outputs": [
    {
     "name": "stderr",
     "output_type": "stream",
     "text": [
      "/home/hyeontae/hyeontae/venv/lib/python3.5/site-packages/torch/nn/modules/rnn.py:38: UserWarning: dropout option adds dropout after all but last recurrent layer, so non-zero dropout expects num_layers greater than 1, but got dropout=0.2 and num_layers=1\n",
      "  \"num_layers={}\".format(dropout, num_layers))\n",
      "2019-01-31 17:40:40,157 INFO   Optimizer: Adam (\n",
      "Parameter Group 0\n",
      "    amsgrad: False\n",
      "    betas: (0.9, 0.999)\n",
      "    eps: 1e-08\n",
      "    lr: 0.001\n",
      "    weight_decay: 0\n",
      "), Scheduler: None\n"
     ]
    },
    {
     "name": "stdout",
     "output_type": "stream",
     "text": [
      "Hidden size is 50\n"
     ]
    },
    {
     "name": "stderr",
     "output_type": "stream",
     "text": [
      "2019-01-31 17:45:15,468 INFO   Finished epoch 1: Train loss: 11.3915, Dev loss: 10.8610, Accuracy(Character): 0.3036, Accuracy(Word): 0.0000\n",
      "2019-01-31 17:49:47,824 INFO   Finished epoch 2: Train loss: 5.0628, Dev loss: 5.8928, Accuracy(Character): 0.4244, Accuracy(Word): 0.0000\n",
      "2019-01-31 17:54:31,574 INFO   Finished epoch 3: Train loss: 3.5254, Dev loss: 4.3514, Accuracy(Character): 0.4926, Accuracy(Word): 0.0000\n",
      "2019-01-31 17:59:26,549 INFO   Finished epoch 4: Train loss: 2.9868, Dev loss: 4.0667, Accuracy(Character): 0.4903, Accuracy(Word): 0.0000\n",
      "2019-01-31 18:04:06,005 INFO   Finished epoch 5: Train loss: 2.6690, Dev loss: 3.6400, Accuracy(Character): 0.5320, Accuracy(Word): 0.0002\n",
      "2019-01-31 18:08:57,683 INFO   Finished epoch 6: Train loss: 2.4478, Dev loss: 3.1204, Accuracy(Character): 0.5772, Accuracy(Word): 0.0012\n",
      "2019-01-31 18:13:32,490 INFO   Finished epoch 7: Train loss: 2.3594, Dev loss: 3.0430, Accuracy(Character): 0.5934, Accuracy(Word): 0.0012\n",
      "2019-01-31 18:18:15,023 INFO   Finished epoch 8: Train loss: 2.2762, Dev loss: 2.7782, Accuracy(Character): 0.6114, Accuracy(Word): 0.0012\n",
      "2019-01-31 18:22:59,622 INFO   Finished epoch 9: Train loss: 2.2074, Dev loss: 2.5828, Accuracy(Character): 0.6330, Accuracy(Word): 0.0013\n",
      "2019-01-31 18:27:41,322 INFO   Finished epoch 10: Train loss: 2.1280, Dev loss: 2.5589, Accuracy(Character): 0.6334, Accuracy(Word): 0.0012\n",
      "2019-01-31 18:32:44,446 INFO   Finished epoch 11: Train loss: 2.1012, Dev loss: 2.5144, Accuracy(Character): 0.6516, Accuracy(Word): 0.0080\n",
      "2019-01-31 18:37:07,858 INFO   Finished epoch 12: Train loss: 2.0578, Dev loss: 2.5326, Accuracy(Character): 0.6440, Accuracy(Word): 0.0065\n",
      "2019-01-31 18:42:12,230 INFO   Finished epoch 13: Train loss: 1.9909, Dev loss: 2.4272, Accuracy(Character): 0.6605, Accuracy(Word): 0.0067\n",
      "2019-01-31 18:46:28,512 INFO   Finished epoch 14: Train loss: 1.9761, Dev loss: 2.5592, Accuracy(Character): 0.6522, Accuracy(Word): 0.0067\n",
      "2019-01-31 18:51:22,377 INFO   Finished epoch 15: Train loss: 1.9356, Dev loss: 2.2961, Accuracy(Character): 0.6722, Accuracy(Word): 0.0106\n",
      "2019-01-31 18:55:44,887 INFO   Finished epoch 16: Train loss: 1.9154, Dev loss: 2.3621, Accuracy(Character): 0.6726, Accuracy(Word): 0.0012\n",
      "2019-01-31 19:00:30,414 INFO   Finished epoch 17: Train loss: 1.9131, Dev loss: 2.4854, Accuracy(Character): 0.6631, Accuracy(Word): 0.0104\n",
      "2019-01-31 19:05:16,094 INFO   Finished epoch 18: Train loss: 1.8893, Dev loss: 2.3240, Accuracy(Character): 0.6805, Accuracy(Word): 0.0109\n",
      "2019-01-31 19:09:57,141 INFO   Finished epoch 19: Train loss: 1.8455, Dev loss: 2.1341, Accuracy(Character): 0.7018, Accuracy(Word): 0.0106\n",
      "2019-01-31 19:14:51,338 INFO   Finished epoch 20: Train loss: 1.8264, Dev loss: 2.1758, Accuracy(Character): 0.6990, Accuracy(Word): 0.0067\n",
      "2019-01-31 19:19:09,939 INFO   Finished epoch 21: Train loss: 1.8064, Dev loss: 2.1359, Accuracy(Character): 0.7012, Accuracy(Word): 0.0106\n",
      "2019-01-31 19:24:12,627 INFO   Finished epoch 22: Train loss: 1.7910, Dev loss: 2.2740, Accuracy(Character): 0.6859, Accuracy(Word): 0.0106\n",
      "2019-01-31 19:28:48,964 INFO   Finished epoch 23: Train loss: 1.7710, Dev loss: 2.0115, Accuracy(Character): 0.7211, Accuracy(Word): 0.0186\n",
      "2019-01-31 19:33:48,838 INFO   Finished epoch 24: Train loss: 1.7458, Dev loss: 2.1567, Accuracy(Character): 0.7023, Accuracy(Word): 0.0105\n",
      "2019-01-31 19:38:19,259 INFO   Finished epoch 25: Train loss: 1.7405, Dev loss: 1.9994, Accuracy(Character): 0.7255, Accuracy(Word): 0.0095\n",
      "2019-01-31 19:43:13,684 INFO   Finished epoch 26: Train loss: 1.7112, Dev loss: 2.0781, Accuracy(Character): 0.7179, Accuracy(Word): 0.0185\n",
      "2019-01-31 19:47:44,487 INFO   Finished epoch 27: Train loss: 1.7087, Dev loss: 1.9455, Accuracy(Character): 0.7352, Accuracy(Word): 0.0109\n",
      "2019-01-31 19:52:31,488 INFO   Finished epoch 28: Train loss: 1.6934, Dev loss: 1.9797, Accuracy(Character): 0.7292, Accuracy(Word): 0.0106\n",
      "2019-01-31 19:57:05,086 INFO   Finished epoch 29: Train loss: 1.6791, Dev loss: 1.9796, Accuracy(Character): 0.7409, Accuracy(Word): 0.0119\n",
      "2019-01-31 20:01:53,266 INFO   Finished epoch 30: Train loss: 1.6511, Dev loss: 1.8979, Accuracy(Character): 0.7448, Accuracy(Word): 0.0116\n",
      "2019-01-31 20:06:29,377 INFO   Finished epoch 31: Train loss: 1.6419, Dev loss: 1.8626, Accuracy(Character): 0.7525, Accuracy(Word): 0.0104\n",
      "2019-01-31 20:11:05,175 INFO   Finished epoch 32: Train loss: 1.6356, Dev loss: 1.8981, Accuracy(Character): 0.7460, Accuracy(Word): 0.0119\n",
      "2019-01-31 20:15:50,071 INFO   Finished epoch 33: Train loss: 1.6245, Dev loss: 1.8878, Accuracy(Character): 0.7526, Accuracy(Word): 0.0015\n",
      "2019-01-31 20:20:25,996 INFO   Finished epoch 34: Train loss: 1.6081, Dev loss: 1.9445, Accuracy(Character): 0.7375, Accuracy(Word): 0.0111\n",
      "2019-01-31 20:25:27,458 INFO   Finished epoch 35: Train loss: 1.5886, Dev loss: 1.8642, Accuracy(Character): 0.7555, Accuracy(Word): 0.0113\n",
      "2019-01-31 20:29:45,331 INFO   Finished epoch 36: Train loss: 1.5788, Dev loss: 1.7786, Accuracy(Character): 0.7712, Accuracy(Word): 0.0128\n",
      "2019-01-31 20:34:39,642 INFO   Finished epoch 37: Train loss: 1.5756, Dev loss: 1.8515, Accuracy(Character): 0.7580, Accuracy(Word): 0.0080\n",
      "2019-01-31 20:39:06,657 INFO   Finished epoch 38: Train loss: 1.5669, Dev loss: 1.8053, Accuracy(Character): 0.7674, Accuracy(Word): 0.0063\n",
      "2019-01-31 20:44:02,906 INFO   Finished epoch 39: Train loss: 1.5505, Dev loss: 1.8294, Accuracy(Character): 0.7618, Accuracy(Word): 0.0123\n",
      "2019-01-31 20:48:26,283 INFO   Finished epoch 40: Train loss: 1.5419, Dev loss: 1.7636, Accuracy(Character): 0.7775, Accuracy(Word): 0.0183\n",
      "2019-01-31 20:53:15,749 INFO   Finished epoch 41: Train loss: 1.5360, Dev loss: 1.7447, Accuracy(Character): 0.7761, Accuracy(Word): 0.0119\n",
      "2019-01-31 20:57:51,996 INFO   Finished epoch 42: Train loss: 1.5308, Dev loss: 1.7433, Accuracy(Character): 0.7795, Accuracy(Word): 0.0185\n",
      "2019-01-31 21:02:27,212 INFO   Finished epoch 43: Train loss: 1.5117, Dev loss: 1.8702, Accuracy(Character): 0.7716, Accuracy(Word): 0.0119\n",
      "2019-01-31 21:07:15,648 INFO   Finished epoch 44: Train loss: 1.5150, Dev loss: 1.7622, Accuracy(Character): 0.7782, Accuracy(Word): 0.0207\n",
      "2019-01-31 21:11:43,527 INFO   Finished epoch 45: Train loss: 1.5163, Dev loss: 1.6875, Accuracy(Character): 0.7886, Accuracy(Word): 0.0209\n",
      "2019-01-31 21:16:33,242 INFO   Finished epoch 46: Train loss: 1.5006, Dev loss: 1.7252, Accuracy(Character): 0.7830, Accuracy(Word): 0.0216\n",
      "2019-01-31 21:21:11,234 INFO   Finished epoch 47: Train loss: 1.4956, Dev loss: 1.7368, Accuracy(Character): 0.7823, Accuracy(Word): 0.0190\n",
      "2019-01-31 21:25:53,279 INFO   Finished epoch 48: Train loss: 1.4937, Dev loss: 1.7029, Accuracy(Character): 0.7901, Accuracy(Word): 0.0191\n",
      "2019-01-31 21:30:31,676 INFO   Finished epoch 49: Train loss: 1.4805, Dev loss: 1.7197, Accuracy(Character): 0.7862, Accuracy(Word): 0.0107\n",
      "2019-01-31 21:34:48,213 INFO   Finished epoch 50: Train loss: 1.4678, Dev loss: 1.6486, Accuracy(Character): 0.8028, Accuracy(Word): 0.0131\n"
     ]
    },
    {
     "data": {
      "image/png": "[encoded data removed]",
      "text/plain": [
       "<Figure size 432x288 with 1 Axes>"
      ]
     },
     "metadata": {
      "needs_background": "light"
     },
     "output_type": "display_data"
    },
    {
     "data": {
      "image/png": "[encoded data removed]",
      "text/plain": [
       "<Figure size 432x288 with 1 Axes>"
      ]
     },
     "metadata": {
      "needs_background": "light"
     },
     "output_type": "display_data"
    }
   ],
   "source": [
    "for i in hidden_sizes:\n",
    "    print(\"Hidden size is %d\" % i)\n",
    "    hidden_size = i\n",
    "    bidirectional = True\n",
    "    encoder = EncoderRNN(len(src.vocab), max_len, hidden_size,\n",
    "                        bidirectional=bidirectional, variable_lengths=True)\n",
    "    decoder = DecoderRNN(len(tgt.vocab), max_len, hidden_size * 2 if bidirectional else hidden_size,\n",
    "                        dropout_p=0.2, use_attention=False, bidirectional=bidirectional,\n",
    "                        eos_id=tgt.eos_id, sos_id=tgt.sos_id)\n",
    "    seq2seq = Seq2seq(encoder, decoder)\n",
    "    if torch.cuda.is_available():\n",
    "        seq2seq.cuda()\n",
    "\n",
    "    for param in seq2seq.parameters():\n",
    "        param.data.uniform_(-0.08, 0.08)\n",
    "\n",
    "    # train\n",
    "    t = SupervisedTrainer(loss=loss, batch_size=32,\n",
    "                        checkpoint_every=50,\n",
    "                        print_every=100,\n",
    "                        hidden_size=hidden_size,\n",
    "                        fig_path=\"log/plot/nonbracket_no_att\")\n",
    "\n",
    "    seq2seq, ave_loss, character_accuracy = t.train(seq2seq, train,\n",
    "                                                    num_epochs=50, dev_data=dev,\n",
    "                                                    optimizer=optimizer,\n",
    "                                                    teacher_forcing_ratio=0.5)\n",
    "\n",
    "    losses.append(ave_loss/100)\n",
    "    error_rate.append(1 - character_accuracy)\n",
    "    accuracy.append(character_accuracy)"
   ]
  },
  {
   "cell_type": "code",
   "execution_count": 8,
   "metadata": {},
   "outputs": [],
   "source": [
    "torch.save(seq2seq.state_dict(), 'log/nonbracket_no_att_model_save.pth')"
   ]
  }
 ],
 "metadata": {
  "kernelspec": {
   "display_name": "Python 3",
   "language": "python",
   "name": "python3"
  },
  "language_info": {
   "codemirror_mode": {
    "name": "ipython",
    "version": 3
   },
   "file_extension": ".py",
   "mimetype": "text/x-python",
   "name": "python",
   "nbconvert_exporter": "python",
   "pygments_lexer": "ipython3",
   "version": "3.5.2"
  }
 },
 "nbformat": 4,
 "nbformat_minor": 2
}
